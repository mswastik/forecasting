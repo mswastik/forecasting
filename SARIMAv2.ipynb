{
  "nbformat": 4,
  "nbformat_minor": 0,
  "metadata": {
    "kernelspec": {
      "display_name": "Python 3",
      "language": "python",
      "name": "python3"
    },
    "language_info": {
      "codemirror_mode": {
        "name": "ipython",
        "version": 3
      },
      "file_extension": ".py",
      "mimetype": "text/x-python",
      "name": "python",
      "nbconvert_exporter": "python",
      "pygments_lexer": "ipython3",
      "version": "3.8.2"
    },
    "colab": {
      "name": "SARIMAv1.ipynb",
      "provenance": [],
      "include_colab_link": true
    }
  },
  "cells": [
    {
      "cell_type": "markdown",
      "metadata": {
        "id": "view-in-github",
        "colab_type": "text"
      },
      "source": [
        "<a href=\"https://colab.research.google.com/github/mswastik/forecasting/blob/main/SARIMAv2.ipynb\" target=\"_parent\"><img src=\"https://colab.research.google.com/assets/colab-badge.svg\" alt=\"Open In Colab\"/></a>"
      ]
    },
    {
      "cell_type": "code",
      "metadata": {
        "id": "iGf7Q3xDM8in",
        "outputId": "27bbec44-e0ef-4ba1-a665-ee33aefe344f",
        "colab": {
          "base_uri": "https://localhost:8080/",
          "height": 737
        }
      },
      "source": [
        "!pip install pmdarima"
      ],
      "execution_count": 1,
      "outputs": [
        {
          "output_type": "stream",
          "text": [
            "Collecting pmdarima\n",
            "\u001b[?25l  Downloading https://files.pythonhosted.org/packages/be/62/725b3b6ae0e56c77534de5a8139322e7b863ca53fd5bd6bd3b7de87d0c20/pmdarima-1.7.1-cp36-cp36m-manylinux1_x86_64.whl (1.5MB)\n",
            "\u001b[K     |████████████████████████████████| 1.5MB 5.1MB/s \n",
            "\u001b[?25hRequirement already satisfied: pandas>=0.19 in /usr/local/lib/python3.6/dist-packages (from pmdarima) (1.1.2)\n",
            "Requirement already satisfied: scipy>=1.3.2 in /usr/local/lib/python3.6/dist-packages (from pmdarima) (1.4.1)\n",
            "Requirement already satisfied: scikit-learn>=0.22 in /usr/local/lib/python3.6/dist-packages (from pmdarima) (0.22.2.post1)\n",
            "Requirement already satisfied: joblib>=0.11 in /usr/local/lib/python3.6/dist-packages (from pmdarima) (0.16.0)\n",
            "Requirement already satisfied: urllib3 in /usr/local/lib/python3.6/dist-packages (from pmdarima) (1.24.3)\n",
            "Requirement already satisfied: numpy>=1.17.3 in /usr/local/lib/python3.6/dist-packages (from pmdarima) (1.18.5)\n",
            "Collecting Cython<0.29.18,>=0.29\n",
            "\u001b[?25l  Downloading https://files.pythonhosted.org/packages/e7/d7/510ddef0248f3e1e91f9cc7e31c0f35f8954d0af92c5c3fd4c853e859ebe/Cython-0.29.17-cp36-cp36m-manylinux1_x86_64.whl (2.1MB)\n",
            "\u001b[K     |████████████████████████████████| 2.1MB 24.8MB/s \n",
            "\u001b[?25hCollecting statsmodels<0.12,>=0.11\n",
            "\u001b[?25l  Downloading https://files.pythonhosted.org/packages/cb/83/540fd83238a18abe6c2d280fa8e489ac5fcefa1f370f0ca1acd16ae1b860/statsmodels-0.11.1-cp36-cp36m-manylinux1_x86_64.whl (8.7MB)\n",
            "\u001b[K     |████████████████████████████████| 8.7MB 29.7MB/s \n",
            "\u001b[?25hCollecting setuptools<50.0.0\n",
            "\u001b[?25l  Downloading https://files.pythonhosted.org/packages/c3/a9/5dc32465951cf4812e9e93b4ad2d314893c2fa6d5f66ce5c057af6e76d85/setuptools-49.6.0-py3-none-any.whl (803kB)\n",
            "\u001b[K     |████████████████████████████████| 808kB 40.9MB/s \n",
            "\u001b[?25hRequirement already satisfied: pytz>=2017.2 in /usr/local/lib/python3.6/dist-packages (from pandas>=0.19->pmdarima) (2018.9)\n",
            "Requirement already satisfied: python-dateutil>=2.7.3 in /usr/local/lib/python3.6/dist-packages (from pandas>=0.19->pmdarima) (2.8.1)\n",
            "Requirement already satisfied: patsy>=0.5 in /usr/local/lib/python3.6/dist-packages (from statsmodels<0.12,>=0.11->pmdarima) (0.5.1)\n",
            "Requirement already satisfied: six>=1.5 in /usr/local/lib/python3.6/dist-packages (from python-dateutil>=2.7.3->pandas>=0.19->pmdarima) (1.15.0)\n",
            "\u001b[31mERROR: datascience 0.10.6 has requirement folium==0.2.1, but you'll have folium 0.8.3 which is incompatible.\u001b[0m\n",
            "Installing collected packages: Cython, statsmodels, setuptools, pmdarima\n",
            "  Found existing installation: Cython 0.29.21\n",
            "    Uninstalling Cython-0.29.21:\n",
            "      Successfully uninstalled Cython-0.29.21\n",
            "  Found existing installation: statsmodels 0.10.2\n",
            "    Uninstalling statsmodels-0.10.2:\n",
            "      Successfully uninstalled statsmodels-0.10.2\n",
            "  Found existing installation: setuptools 50.3.0\n",
            "    Uninstalling setuptools-50.3.0:\n",
            "      Successfully uninstalled setuptools-50.3.0\n",
            "Successfully installed Cython-0.29.17 pmdarima-1.7.1 setuptools-49.6.0 statsmodels-0.11.1\n"
          ],
          "name": "stdout"
        },
        {
          "output_type": "display_data",
          "data": {
            "application/vnd.colab-display-data+json": {
              "pip_warning": {
                "packages": [
                  "pkg_resources"
                ]
              }
            }
          },
          "metadata": {
            "tags": []
          }
        }
      ]
    },
    {
      "cell_type": "code",
      "metadata": {
        "id": "N4AkWyqjMh78"
      },
      "source": [
        "import pmdarima as pmd\n",
        "import pandas as pd\n",
        "import statsmodels.api as sm\n",
        "from statsmodels.tsa.stattools import acf,pacf,adfuller\n",
        "from statsmodels.tsa.seasonal import seasonal_decompose\n",
        "from statsmodels.tsa.arima_model import ARIMA\n",
        "from statsmodels.tsa.statespace.sarimax import SARIMAX\n",
        "import matplotlib.pyplot as plt\n",
        "from statsmodels.graphics.tsaplots import plot_acf,plot_pacf\n",
        "from statsmodels.tools.eval_measures import rmse\n",
        "from sklearn.model_selection import TimeSeriesSplit,cross_val_score\n",
        "from sklearn.metrics import mean_squared_error\n",
        "import numpy as np\n",
        "import warnings\n",
        "import plotly.express as px\n",
        "import cufflinks as cf\n",
        "import plotly.tools as tls"
      ],
      "execution_count": 1,
      "outputs": []
    },
    {
      "cell_type": "code",
      "metadata": {
        "id": "0yFQ-v8mNRJn",
        "outputId": "d73815c6-b9d7-45ba-bffa-ab73aba24c4f",
        "colab": {
          "base_uri": "https://localhost:8080/",
          "height": 161
        }
      },
      "source": [
        "!git clone -l -s https://github.com/mswastik/forecasting.git cloned-repo\n",
        "%cd cloned-repo"
      ],
      "execution_count": 2,
      "outputs": [
        {
          "output_type": "stream",
          "text": [
            "Cloning into 'cloned-repo'...\n",
            "warning: --local is ignored\n",
            "remote: Enumerating objects: 33, done.\u001b[K\n",
            "remote: Counting objects: 100% (33/33), done.\u001b[K\n",
            "remote: Compressing objects: 100% (32/32), done.\u001b[K\n",
            "remote: Total 33 (delta 11), reused 0 (delta 0), pack-reused 0\u001b[K\n",
            "Unpacking objects: 100% (33/33), done.\n",
            "/content/cloned-repo\n"
          ],
          "name": "stdout"
        }
      ]
    },
    {
      "cell_type": "code",
      "metadata": {
        "id": "jxVpi3-4Mh8D"
      },
      "source": [
        "warnings.filterwarnings(\"ignore\")\n",
        "df = pd.read_excel('Forecasting1.xlsx',sheet_name='SO',index_col='del date')\n",
        "df.rename({'agg':'agg1'},axis=1,inplace=True)\n",
        "df['dd']=df.index.copy()\n",
        "df['month'] = df['dd'].dt.year.astype('str')+\"-\"+df['dd'].dt.month.astype('str')\n",
        "df2=df.groupby(['month','agg1']).sum().copy()\n",
        "df2.drop(['wt','cs size'],inplace=True,axis=1)"
      ],
      "execution_count": 3,
      "outputs": []
    },
    {
      "cell_type": "code",
      "metadata": {
        "id": "EzgmqLbcAqCN"
      },
      "source": [
        "toot=df.loc[df.agg1=='Tmmthpkhti Limi Yih'].copy()\n",
        "toot=pd.DataFrame(toot['cases'])\n",
        "toot=toot.resample('M').sum()"
      ],
      "execution_count": 4,
      "outputs": []
    },
    {
      "cell_type": "code",
      "metadata": {
        "id": "NX7ocEZ48q08"
      },
      "source": [
        "import plotly.io as pio\n",
        "pio.renderers.default = \"colab\""
      ],
      "execution_count": null,
      "outputs": []
    },
    {
      "cell_type": "code",
      "metadata": {
        "id": "BePhWCdw81sW",
        "outputId": "dff9813f-581e-4564-e429-ebf432231ea2",
        "colab": {
          "base_uri": "https://localhost:8080/",
          "height": 542
        }
      },
      "source": [
        "px.line(toot,y='cases',x=toot.index)"
      ],
      "execution_count": null,
      "outputs": [
        {
          "output_type": "display_data",
          "data": {
            "text/html": [
              "<html>\n",
              "<head><meta charset=\"utf-8\" /></head>\n",
              "<body>\n",
              "    <div>\n",
              "            <script src=\"https://cdnjs.cloudflare.com/ajax/libs/mathjax/2.7.5/MathJax.js?config=TeX-AMS-MML_SVG\"></script><script type=\"text/javascript\">if (window.MathJax) {MathJax.Hub.Config({SVG: {font: \"STIX-Web\"}});}</script>\n",
              "                <script type=\"text/javascript\">window.PlotlyConfig = {MathJaxConfig: 'local'};</script>\n",
              "        <script src=\"https://cdn.plot.ly/plotly-latest.min.js\"></script>    \n",
              "            <div id=\"cb0061f2-6a4f-4f88-9adf-cc9b1e9d041c\" class=\"plotly-graph-div\" style=\"height:525px; width:100%;\"></div>\n",
              "            <script type=\"text/javascript\">\n",
              "                \n",
              "                    window.PLOTLYENV=window.PLOTLYENV || {};\n",
              "                    \n",
              "                if (document.getElementById(\"cb0061f2-6a4f-4f88-9adf-cc9b1e9d041c\")) {\n",
              "                    Plotly.newPlot(\n",
              "                        'cb0061f2-6a4f-4f88-9adf-cc9b1e9d041c',\n",
              "                        [{\"hoverlabel\": {\"namelength\": 0}, \"hovertemplate\": \"x=%{x}<br>cases=%{y}\", \"legendgroup\": \"\", \"line\": {\"color\": \"#636efa\", \"dash\": \"solid\"}, \"mode\": \"lines\", \"name\": \"\", \"showlegend\": false, \"type\": \"scatter\", \"x\": [\"2012-10-31T00:00:00\", \"2012-11-30T00:00:00\", \"2012-12-31T00:00:00\", \"2013-01-31T00:00:00\", \"2013-02-28T00:00:00\", \"2013-03-31T00:00:00\", \"2013-04-30T00:00:00\", \"2013-05-31T00:00:00\", \"2013-06-30T00:00:00\", \"2013-07-31T00:00:00\", \"2013-08-31T00:00:00\", \"2013-09-30T00:00:00\", \"2013-10-31T00:00:00\", \"2013-11-30T00:00:00\", \"2013-12-31T00:00:00\", \"2014-01-31T00:00:00\", \"2014-02-28T00:00:00\", \"2014-03-31T00:00:00\", \"2014-04-30T00:00:00\", \"2014-05-31T00:00:00\", \"2014-06-30T00:00:00\", \"2014-07-31T00:00:00\", \"2014-08-31T00:00:00\", \"2014-09-30T00:00:00\", \"2014-10-31T00:00:00\", \"2014-11-30T00:00:00\", \"2014-12-31T00:00:00\", \"2015-01-31T00:00:00\", \"2015-02-28T00:00:00\", \"2015-03-31T00:00:00\", \"2015-04-30T00:00:00\", \"2015-05-31T00:00:00\", \"2015-06-30T00:00:00\", \"2015-07-31T00:00:00\", \"2015-08-31T00:00:00\", \"2015-09-30T00:00:00\", \"2015-10-31T00:00:00\", \"2015-11-30T00:00:00\", \"2015-12-31T00:00:00\", \"2016-01-31T00:00:00\", \"2016-02-29T00:00:00\", \"2016-03-31T00:00:00\", \"2016-04-30T00:00:00\", \"2016-05-31T00:00:00\", \"2016-06-30T00:00:00\", \"2016-07-31T00:00:00\", \"2016-08-31T00:00:00\", \"2016-09-30T00:00:00\", \"2016-10-31T00:00:00\", \"2016-11-30T00:00:00\", \"2016-12-31T00:00:00\", \"2017-01-31T00:00:00\", \"2017-02-28T00:00:00\", \"2017-03-31T00:00:00\", \"2017-04-30T00:00:00\", \"2017-05-31T00:00:00\", \"2017-06-30T00:00:00\", \"2017-07-31T00:00:00\", \"2017-08-31T00:00:00\", \"2017-09-30T00:00:00\", \"2017-10-31T00:00:00\", \"2017-11-30T00:00:00\", \"2017-12-31T00:00:00\", \"2018-01-31T00:00:00\", \"2018-02-28T00:00:00\", \"2018-03-31T00:00:00\", \"2018-04-30T00:00:00\", \"2018-05-31T00:00:00\", \"2018-06-30T00:00:00\", \"2018-08-31T00:00:00\", \"2018-09-30T00:00:00\", \"2018-11-30T00:00:00\", \"2018-12-31T00:00:00\", \"2019-01-31T00:00:00\", \"2019-02-28T00:00:00\", \"2019-03-31T00:00:00\", \"2019-05-31T00:00:00\", \"2019-06-30T00:00:00\", \"2019-07-31T00:00:00\", \"2019-08-31T00:00:00\", \"2019-09-30T00:00:00\", \"2019-10-31T00:00:00\", \"2019-11-30T00:00:00\", \"2019-12-31T00:00:00\", \"2020-01-31T00:00:00\", \"2020-02-29T00:00:00\", \"2020-03-31T00:00:00\", \"2020-04-30T00:00:00\", \"2020-05-31T00:00:00\", \"2020-06-30T00:00:00\", \"2020-07-31T00:00:00\", \"2020-08-31T00:00:00\", \"2020-09-30T00:00:00\", \"2020-10-31T00:00:00\", \"2020-11-30T00:00:00\"], \"xaxis\": \"x\", \"y\": [5143.0, 8220.0, 5631.0, 20630.0, 12529.0, 15660.0, 5314.0, 13897.0, 8993.0, 7811.0, 12771.0, 11164.0, 10295.0, 6636.0, 18936.0, 19046.0, 5045.0, 7843.0, 14324.0, 21253.0, 6307.0, 13238.0, 27164.0, 14687.0, 10729.0, 15302.0, 6654.0, 12323.0, 12043.0, 3301.0, 11262.0, 12481.0, 6614.0, 4867.0, 18528.0, 7317.0, 14986.0, 15447.0, 9546.0, 16360.0, 16542.0, 10731.0, 7552.0, 9980.666, 5011.0, 4470.0, 19824.0, 15076.0, 14451.0, 12617.0, 8594.0, 10691.0, 8441.0, 15729.0, 4030.0, 13620.0, 42263.0, 16865.0, 28472.0, 39443.0, 68091.0, 63568.0, 37507.0, 51145.0, 37374.0, 67330.0, 44418.0, 53709.0, 54709.0, 12987.0, 37563.0, 35070.0, 79706.0, 42628.0, 61259.0, 45088.0, 48426.0, 52430.0, 1011.0, 8488.0, 14112.0, 14981.0, 19870.0, 11358.0, 45412.0, 53906.0, 19500.0, 19594.0, 2150.0, 59975.0, 52193.0, 43866.0, 25063.0, 25487.0, 1780.0], \"yaxis\": \"y\"}],\n",
              "                        {\"legend\": {\"tracegroupgap\": 0}, \"margin\": {\"t\": 60}, \"template\": {\"data\": {\"bar\": [{\"error_x\": {\"color\": \"#2a3f5f\"}, \"error_y\": {\"color\": \"#2a3f5f\"}, \"marker\": {\"line\": {\"color\": \"#E5ECF6\", \"width\": 0.5}}, \"type\": \"bar\"}], \"barpolar\": [{\"marker\": {\"line\": {\"color\": \"#E5ECF6\", \"width\": 0.5}}, \"type\": \"barpolar\"}], \"carpet\": [{\"aaxis\": {\"endlinecolor\": \"#2a3f5f\", \"gridcolor\": \"white\", \"linecolor\": \"white\", \"minorgridcolor\": \"white\", \"startlinecolor\": \"#2a3f5f\"}, \"baxis\": {\"endlinecolor\": \"#2a3f5f\", \"gridcolor\": \"white\", \"linecolor\": \"white\", \"minorgridcolor\": \"white\", \"startlinecolor\": \"#2a3f5f\"}, \"type\": \"carpet\"}], \"choropleth\": [{\"colorbar\": {\"outlinewidth\": 0, \"ticks\": \"\"}, \"type\": \"choropleth\"}], \"contour\": [{\"colorbar\": {\"outlinewidth\": 0, \"ticks\": \"\"}, \"colorscale\": [[0.0, \"#0d0887\"], [0.1111111111111111, \"#46039f\"], [0.2222222222222222, \"#7201a8\"], [0.3333333333333333, \"#9c179e\"], [0.4444444444444444, \"#bd3786\"], [0.5555555555555556, \"#d8576b\"], [0.6666666666666666, \"#ed7953\"], [0.7777777777777778, \"#fb9f3a\"], [0.8888888888888888, \"#fdca26\"], [1.0, \"#f0f921\"]], \"type\": \"contour\"}], \"contourcarpet\": [{\"colorbar\": {\"outlinewidth\": 0, \"ticks\": \"\"}, \"type\": \"contourcarpet\"}], \"heatmap\": [{\"colorbar\": {\"outlinewidth\": 0, \"ticks\": \"\"}, \"colorscale\": [[0.0, \"#0d0887\"], [0.1111111111111111, \"#46039f\"], [0.2222222222222222, \"#7201a8\"], [0.3333333333333333, \"#9c179e\"], [0.4444444444444444, \"#bd3786\"], [0.5555555555555556, \"#d8576b\"], [0.6666666666666666, \"#ed7953\"], [0.7777777777777778, \"#fb9f3a\"], [0.8888888888888888, \"#fdca26\"], [1.0, \"#f0f921\"]], \"type\": \"heatmap\"}], \"heatmapgl\": [{\"colorbar\": {\"outlinewidth\": 0, \"ticks\": \"\"}, \"colorscale\": [[0.0, \"#0d0887\"], [0.1111111111111111, \"#46039f\"], [0.2222222222222222, \"#7201a8\"], [0.3333333333333333, \"#9c179e\"], [0.4444444444444444, \"#bd3786\"], [0.5555555555555556, \"#d8576b\"], [0.6666666666666666, \"#ed7953\"], [0.7777777777777778, \"#fb9f3a\"], [0.8888888888888888, \"#fdca26\"], [1.0, \"#f0f921\"]], \"type\": \"heatmapgl\"}], \"histogram\": [{\"marker\": {\"colorbar\": {\"outlinewidth\": 0, \"ticks\": \"\"}}, \"type\": \"histogram\"}], \"histogram2d\": [{\"colorbar\": {\"outlinewidth\": 0, \"ticks\": \"\"}, \"colorscale\": [[0.0, \"#0d0887\"], [0.1111111111111111, \"#46039f\"], [0.2222222222222222, \"#7201a8\"], [0.3333333333333333, \"#9c179e\"], [0.4444444444444444, \"#bd3786\"], [0.5555555555555556, \"#d8576b\"], [0.6666666666666666, \"#ed7953\"], [0.7777777777777778, \"#fb9f3a\"], [0.8888888888888888, \"#fdca26\"], [1.0, \"#f0f921\"]], \"type\": \"histogram2d\"}], \"histogram2dcontour\": [{\"colorbar\": {\"outlinewidth\": 0, \"ticks\": \"\"}, \"colorscale\": [[0.0, \"#0d0887\"], [0.1111111111111111, \"#46039f\"], [0.2222222222222222, \"#7201a8\"], [0.3333333333333333, \"#9c179e\"], [0.4444444444444444, \"#bd3786\"], [0.5555555555555556, \"#d8576b\"], [0.6666666666666666, \"#ed7953\"], [0.7777777777777778, \"#fb9f3a\"], [0.8888888888888888, \"#fdca26\"], [1.0, \"#f0f921\"]], \"type\": \"histogram2dcontour\"}], \"mesh3d\": [{\"colorbar\": {\"outlinewidth\": 0, \"ticks\": \"\"}, \"type\": \"mesh3d\"}], \"parcoords\": [{\"line\": {\"colorbar\": {\"outlinewidth\": 0, \"ticks\": \"\"}}, \"type\": \"parcoords\"}], \"pie\": [{\"automargin\": true, \"type\": \"pie\"}], \"scatter\": [{\"marker\": {\"colorbar\": {\"outlinewidth\": 0, \"ticks\": \"\"}}, \"type\": \"scatter\"}], \"scatter3d\": [{\"line\": {\"colorbar\": {\"outlinewidth\": 0, \"ticks\": \"\"}}, \"marker\": {\"colorbar\": {\"outlinewidth\": 0, \"ticks\": \"\"}}, \"type\": \"scatter3d\"}], \"scattercarpet\": [{\"marker\": {\"colorbar\": {\"outlinewidth\": 0, \"ticks\": \"\"}}, \"type\": \"scattercarpet\"}], \"scattergeo\": [{\"marker\": {\"colorbar\": {\"outlinewidth\": 0, \"ticks\": \"\"}}, \"type\": \"scattergeo\"}], \"scattergl\": [{\"marker\": {\"colorbar\": {\"outlinewidth\": 0, \"ticks\": \"\"}}, \"type\": \"scattergl\"}], \"scattermapbox\": [{\"marker\": {\"colorbar\": {\"outlinewidth\": 0, \"ticks\": \"\"}}, \"type\": \"scattermapbox\"}], \"scatterpolar\": [{\"marker\": {\"colorbar\": {\"outlinewidth\": 0, \"ticks\": \"\"}}, \"type\": \"scatterpolar\"}], \"scatterpolargl\": [{\"marker\": {\"colorbar\": {\"outlinewidth\": 0, \"ticks\": \"\"}}, \"type\": \"scatterpolargl\"}], \"scatterternary\": [{\"marker\": {\"colorbar\": {\"outlinewidth\": 0, \"ticks\": \"\"}}, \"type\": \"scatterternary\"}], \"surface\": [{\"colorbar\": {\"outlinewidth\": 0, \"ticks\": \"\"}, \"colorscale\": [[0.0, \"#0d0887\"], [0.1111111111111111, \"#46039f\"], [0.2222222222222222, \"#7201a8\"], [0.3333333333333333, \"#9c179e\"], [0.4444444444444444, \"#bd3786\"], [0.5555555555555556, \"#d8576b\"], [0.6666666666666666, \"#ed7953\"], [0.7777777777777778, \"#fb9f3a\"], [0.8888888888888888, \"#fdca26\"], [1.0, \"#f0f921\"]], \"type\": \"surface\"}], \"table\": [{\"cells\": {\"fill\": {\"color\": \"#EBF0F8\"}, \"line\": {\"color\": \"white\"}}, \"header\": {\"fill\": {\"color\": \"#C8D4E3\"}, \"line\": {\"color\": \"white\"}}, \"type\": \"table\"}]}, \"layout\": {\"annotationdefaults\": {\"arrowcolor\": \"#2a3f5f\", \"arrowhead\": 0, \"arrowwidth\": 1}, \"coloraxis\": {\"colorbar\": {\"outlinewidth\": 0, \"ticks\": \"\"}}, \"colorscale\": {\"diverging\": [[0, \"#8e0152\"], [0.1, \"#c51b7d\"], [0.2, \"#de77ae\"], [0.3, \"#f1b6da\"], [0.4, \"#fde0ef\"], [0.5, \"#f7f7f7\"], [0.6, \"#e6f5d0\"], [0.7, \"#b8e186\"], [0.8, \"#7fbc41\"], [0.9, \"#4d9221\"], [1, \"#276419\"]], \"sequential\": [[0.0, \"#0d0887\"], [0.1111111111111111, \"#46039f\"], [0.2222222222222222, \"#7201a8\"], [0.3333333333333333, \"#9c179e\"], [0.4444444444444444, \"#bd3786\"], [0.5555555555555556, \"#d8576b\"], [0.6666666666666666, \"#ed7953\"], [0.7777777777777778, \"#fb9f3a\"], [0.8888888888888888, \"#fdca26\"], [1.0, \"#f0f921\"]], \"sequentialminus\": [[0.0, \"#0d0887\"], [0.1111111111111111, \"#46039f\"], [0.2222222222222222, \"#7201a8\"], [0.3333333333333333, \"#9c179e\"], [0.4444444444444444, \"#bd3786\"], [0.5555555555555556, \"#d8576b\"], [0.6666666666666666, \"#ed7953\"], [0.7777777777777778, \"#fb9f3a\"], [0.8888888888888888, \"#fdca26\"], [1.0, \"#f0f921\"]]}, \"colorway\": [\"#636efa\", \"#EF553B\", \"#00cc96\", \"#ab63fa\", \"#FFA15A\", \"#19d3f3\", \"#FF6692\", \"#B6E880\", \"#FF97FF\", \"#FECB52\"], \"font\": {\"color\": \"#2a3f5f\"}, \"geo\": {\"bgcolor\": \"white\", \"lakecolor\": \"white\", \"landcolor\": \"#E5ECF6\", \"showlakes\": true, \"showland\": true, \"subunitcolor\": \"white\"}, \"hoverlabel\": {\"align\": \"left\"}, \"hovermode\": \"closest\", \"mapbox\": {\"style\": \"light\"}, \"paper_bgcolor\": \"white\", \"plot_bgcolor\": \"#E5ECF6\", \"polar\": {\"angularaxis\": {\"gridcolor\": \"white\", \"linecolor\": \"white\", \"ticks\": \"\"}, \"bgcolor\": \"#E5ECF6\", \"radialaxis\": {\"gridcolor\": \"white\", \"linecolor\": \"white\", \"ticks\": \"\"}}, \"scene\": {\"xaxis\": {\"backgroundcolor\": \"#E5ECF6\", \"gridcolor\": \"white\", \"gridwidth\": 2, \"linecolor\": \"white\", \"showbackground\": true, \"ticks\": \"\", \"zerolinecolor\": \"white\"}, \"yaxis\": {\"backgroundcolor\": \"#E5ECF6\", \"gridcolor\": \"white\", \"gridwidth\": 2, \"linecolor\": \"white\", \"showbackground\": true, \"ticks\": \"\", \"zerolinecolor\": \"white\"}, \"zaxis\": {\"backgroundcolor\": \"#E5ECF6\", \"gridcolor\": \"white\", \"gridwidth\": 2, \"linecolor\": \"white\", \"showbackground\": true, \"ticks\": \"\", \"zerolinecolor\": \"white\"}}, \"shapedefaults\": {\"line\": {\"color\": \"#2a3f5f\"}}, \"ternary\": {\"aaxis\": {\"gridcolor\": \"white\", \"linecolor\": \"white\", \"ticks\": \"\"}, \"baxis\": {\"gridcolor\": \"white\", \"linecolor\": \"white\", \"ticks\": \"\"}, \"bgcolor\": \"#E5ECF6\", \"caxis\": {\"gridcolor\": \"white\", \"linecolor\": \"white\", \"ticks\": \"\"}}, \"title\": {\"x\": 0.05}, \"xaxis\": {\"automargin\": true, \"gridcolor\": \"white\", \"linecolor\": \"white\", \"ticks\": \"\", \"title\": {\"standoff\": 15}, \"zerolinecolor\": \"white\", \"zerolinewidth\": 2}, \"yaxis\": {\"automargin\": true, \"gridcolor\": \"white\", \"linecolor\": \"white\", \"ticks\": \"\", \"title\": {\"standoff\": 15}, \"zerolinecolor\": \"white\", \"zerolinewidth\": 2}}}, \"xaxis\": {\"anchor\": \"y\", \"domain\": [0.0, 1.0], \"title\": {\"text\": \"x\"}}, \"yaxis\": {\"anchor\": \"x\", \"domain\": [0.0, 1.0], \"title\": {\"text\": \"cases\"}}},\n",
              "                        {\"responsive\": true}\n",
              "                    ).then(function(){\n",
              "                            \n",
              "var gd = document.getElementById('cb0061f2-6a4f-4f88-9adf-cc9b1e9d041c');\n",
              "var x = new MutationObserver(function (mutations, observer) {{\n",
              "        var display = window.getComputedStyle(gd).display;\n",
              "        if (!display || display === 'none') {{\n",
              "            console.log([gd, 'removed!']);\n",
              "            Plotly.purge(gd);\n",
              "            observer.disconnect();\n",
              "        }}\n",
              "}});\n",
              "\n",
              "// Listen for the removal of the full notebook cells\n",
              "var notebookContainer = gd.closest('#notebook-container');\n",
              "if (notebookContainer) {{\n",
              "    x.observe(notebookContainer, {childList: true});\n",
              "}}\n",
              "\n",
              "// Listen for the clearing of the current output cell\n",
              "var outputEl = gd.closest('.output');\n",
              "if (outputEl) {{\n",
              "    x.observe(outputEl, {childList: true});\n",
              "}}\n",
              "\n",
              "                        })\n",
              "                };\n",
              "                \n",
              "            </script>\n",
              "        </div>\n",
              "</body>\n",
              "</html>"
            ]
          },
          "metadata": {
            "tags": []
          }
        }
      ]
    },
    {
      "cell_type": "code",
      "metadata": {
        "id": "yikUh5mpCNyx",
        "outputId": "235ad481-1035-4f4b-da45-74b25e1645b4",
        "colab": {
          "base_uri": "https://localhost:8080/",
          "height": 542
        }
      },
      "source": [
        "px.box(toot,y='cases')"
      ],
      "execution_count": null,
      "outputs": [
        {
          "output_type": "display_data",
          "data": {
            "text/html": [
              "<html>\n",
              "<head><meta charset=\"utf-8\" /></head>\n",
              "<body>\n",
              "    <div>\n",
              "            <script src=\"https://cdnjs.cloudflare.com/ajax/libs/mathjax/2.7.5/MathJax.js?config=TeX-AMS-MML_SVG\"></script><script type=\"text/javascript\">if (window.MathJax) {MathJax.Hub.Config({SVG: {font: \"STIX-Web\"}});}</script>\n",
              "                <script type=\"text/javascript\">window.PlotlyConfig = {MathJaxConfig: 'local'};</script>\n",
              "        <script src=\"https://cdn.plot.ly/plotly-latest.min.js\"></script>    \n",
              "            <div id=\"399f64f3-b116-4575-9094-43d6fcc470d4\" class=\"plotly-graph-div\" style=\"height:525px; width:100%;\"></div>\n",
              "            <script type=\"text/javascript\">\n",
              "                \n",
              "                    window.PLOTLYENV=window.PLOTLYENV || {};\n",
              "                    \n",
              "                if (document.getElementById(\"399f64f3-b116-4575-9094-43d6fcc470d4\")) {\n",
              "                    Plotly.newPlot(\n",
              "                        '399f64f3-b116-4575-9094-43d6fcc470d4',\n",
              "                        [{\"alignmentgroup\": \"True\", \"hoverlabel\": {\"namelength\": 0}, \"hovertemplate\": \"cases=%{y}\", \"legendgroup\": \"\", \"marker\": {\"color\": \"#636efa\"}, \"name\": \"\", \"notched\": false, \"offsetgroup\": \"\", \"orientation\": \"v\", \"showlegend\": false, \"type\": \"box\", \"x0\": \" \", \"xaxis\": \"x\", \"y\": [5143.0, 8220.0, 5631.0, 20630.0, 12529.0, 15660.0, 5314.0, 13897.0, 8993.0, 7811.0, 12771.0, 11164.0, 10295.0, 6636.0, 18936.0, 19046.0, 5045.0, 7843.0, 14324.0, 21253.0, 6307.0, 13238.0, 27164.0, 14687.0, 10729.0, 15302.0, 6654.0, 12323.0, 12043.0, 3301.0, 11262.0, 12481.0, 6614.0, 4867.0, 18528.0, 7317.0, 14986.0, 15447.0, 9546.0, 16360.0, 16542.0, 10731.0, 7552.0, 9980.666, 5011.0, 4470.0, 19824.0, 15076.0, 14451.0, 12617.0, 8594.0, 10691.0, 8441.0, 15729.0, 4030.0, 13620.0, 42263.0, 16865.0, 28472.0, 39443.0, 68091.0, 63568.0, 37507.0, 51145.0, 37374.0, 67330.0, 44418.0, 53709.0, 54709.0, 103751.0, 12987.0, 37563.0, 96576.0, 35070.0, 79706.0, 42628.0, 61259.0, 45088.0, 203508.0, 48426.0, 52430.0, 1011.0, 8488.0, 14112.0, 14981.0, 19870.0, 11358.0, 45412.0, 53906.0, 19500.0, 19594.0, 2150.0, 59975.0, 52193.0, 43866.0, 25063.0, 25487.0, 1780.0], \"y0\": \" \", \"yaxis\": \"y\"}],\n",
              "                        {\"boxmode\": \"group\", \"legend\": {\"tracegroupgap\": 0}, \"margin\": {\"t\": 60}, \"template\": {\"data\": {\"bar\": [{\"error_x\": {\"color\": \"#2a3f5f\"}, \"error_y\": {\"color\": \"#2a3f5f\"}, \"marker\": {\"line\": {\"color\": \"#E5ECF6\", \"width\": 0.5}}, \"type\": \"bar\"}], \"barpolar\": [{\"marker\": {\"line\": {\"color\": \"#E5ECF6\", \"width\": 0.5}}, \"type\": \"barpolar\"}], \"carpet\": [{\"aaxis\": {\"endlinecolor\": \"#2a3f5f\", \"gridcolor\": \"white\", \"linecolor\": \"white\", \"minorgridcolor\": \"white\", \"startlinecolor\": \"#2a3f5f\"}, \"baxis\": {\"endlinecolor\": \"#2a3f5f\", \"gridcolor\": \"white\", \"linecolor\": \"white\", \"minorgridcolor\": \"white\", \"startlinecolor\": \"#2a3f5f\"}, \"type\": \"carpet\"}], \"choropleth\": [{\"colorbar\": {\"outlinewidth\": 0, \"ticks\": \"\"}, \"type\": \"choropleth\"}], \"contour\": [{\"colorbar\": {\"outlinewidth\": 0, \"ticks\": \"\"}, \"colorscale\": [[0.0, \"#0d0887\"], [0.1111111111111111, \"#46039f\"], [0.2222222222222222, \"#7201a8\"], [0.3333333333333333, \"#9c179e\"], [0.4444444444444444, \"#bd3786\"], [0.5555555555555556, \"#d8576b\"], [0.6666666666666666, \"#ed7953\"], [0.7777777777777778, \"#fb9f3a\"], [0.8888888888888888, \"#fdca26\"], [1.0, \"#f0f921\"]], \"type\": \"contour\"}], \"contourcarpet\": [{\"colorbar\": {\"outlinewidth\": 0, \"ticks\": \"\"}, \"type\": \"contourcarpet\"}], \"heatmap\": [{\"colorbar\": {\"outlinewidth\": 0, \"ticks\": \"\"}, \"colorscale\": [[0.0, \"#0d0887\"], [0.1111111111111111, \"#46039f\"], [0.2222222222222222, \"#7201a8\"], [0.3333333333333333, \"#9c179e\"], [0.4444444444444444, \"#bd3786\"], [0.5555555555555556, \"#d8576b\"], [0.6666666666666666, \"#ed7953\"], [0.7777777777777778, \"#fb9f3a\"], [0.8888888888888888, \"#fdca26\"], [1.0, \"#f0f921\"]], \"type\": \"heatmap\"}], \"heatmapgl\": [{\"colorbar\": {\"outlinewidth\": 0, \"ticks\": \"\"}, \"colorscale\": [[0.0, \"#0d0887\"], [0.1111111111111111, \"#46039f\"], [0.2222222222222222, \"#7201a8\"], [0.3333333333333333, \"#9c179e\"], [0.4444444444444444, \"#bd3786\"], [0.5555555555555556, \"#d8576b\"], [0.6666666666666666, \"#ed7953\"], [0.7777777777777778, \"#fb9f3a\"], [0.8888888888888888, \"#fdca26\"], [1.0, \"#f0f921\"]], \"type\": \"heatmapgl\"}], \"histogram\": [{\"marker\": {\"colorbar\": {\"outlinewidth\": 0, \"ticks\": \"\"}}, \"type\": \"histogram\"}], \"histogram2d\": [{\"colorbar\": {\"outlinewidth\": 0, \"ticks\": \"\"}, \"colorscale\": [[0.0, \"#0d0887\"], [0.1111111111111111, \"#46039f\"], [0.2222222222222222, \"#7201a8\"], [0.3333333333333333, \"#9c179e\"], [0.4444444444444444, \"#bd3786\"], [0.5555555555555556, \"#d8576b\"], [0.6666666666666666, \"#ed7953\"], [0.7777777777777778, \"#fb9f3a\"], [0.8888888888888888, \"#fdca26\"], [1.0, \"#f0f921\"]], \"type\": \"histogram2d\"}], \"histogram2dcontour\": [{\"colorbar\": {\"outlinewidth\": 0, \"ticks\": \"\"}, \"colorscale\": [[0.0, \"#0d0887\"], [0.1111111111111111, \"#46039f\"], [0.2222222222222222, \"#7201a8\"], [0.3333333333333333, \"#9c179e\"], [0.4444444444444444, \"#bd3786\"], [0.5555555555555556, \"#d8576b\"], [0.6666666666666666, \"#ed7953\"], [0.7777777777777778, \"#fb9f3a\"], [0.8888888888888888, \"#fdca26\"], [1.0, \"#f0f921\"]], \"type\": \"histogram2dcontour\"}], \"mesh3d\": [{\"colorbar\": {\"outlinewidth\": 0, \"ticks\": \"\"}, \"type\": \"mesh3d\"}], \"parcoords\": [{\"line\": {\"colorbar\": {\"outlinewidth\": 0, \"ticks\": \"\"}}, \"type\": \"parcoords\"}], \"pie\": [{\"automargin\": true, \"type\": \"pie\"}], \"scatter\": [{\"marker\": {\"colorbar\": {\"outlinewidth\": 0, \"ticks\": \"\"}}, \"type\": \"scatter\"}], \"scatter3d\": [{\"line\": {\"colorbar\": {\"outlinewidth\": 0, \"ticks\": \"\"}}, \"marker\": {\"colorbar\": {\"outlinewidth\": 0, \"ticks\": \"\"}}, \"type\": \"scatter3d\"}], \"scattercarpet\": [{\"marker\": {\"colorbar\": {\"outlinewidth\": 0, \"ticks\": \"\"}}, \"type\": \"scattercarpet\"}], \"scattergeo\": [{\"marker\": {\"colorbar\": {\"outlinewidth\": 0, \"ticks\": \"\"}}, \"type\": \"scattergeo\"}], \"scattergl\": [{\"marker\": {\"colorbar\": {\"outlinewidth\": 0, \"ticks\": \"\"}}, \"type\": \"scattergl\"}], \"scattermapbox\": [{\"marker\": {\"colorbar\": {\"outlinewidth\": 0, \"ticks\": \"\"}}, \"type\": \"scattermapbox\"}], \"scatterpolar\": [{\"marker\": {\"colorbar\": {\"outlinewidth\": 0, \"ticks\": \"\"}}, \"type\": \"scatterpolar\"}], \"scatterpolargl\": [{\"marker\": {\"colorbar\": {\"outlinewidth\": 0, \"ticks\": \"\"}}, \"type\": \"scatterpolargl\"}], \"scatterternary\": [{\"marker\": {\"colorbar\": {\"outlinewidth\": 0, \"ticks\": \"\"}}, \"type\": \"scatterternary\"}], \"surface\": [{\"colorbar\": {\"outlinewidth\": 0, \"ticks\": \"\"}, \"colorscale\": [[0.0, \"#0d0887\"], [0.1111111111111111, \"#46039f\"], [0.2222222222222222, \"#7201a8\"], [0.3333333333333333, \"#9c179e\"], [0.4444444444444444, \"#bd3786\"], [0.5555555555555556, \"#d8576b\"], [0.6666666666666666, \"#ed7953\"], [0.7777777777777778, \"#fb9f3a\"], [0.8888888888888888, \"#fdca26\"], [1.0, \"#f0f921\"]], \"type\": \"surface\"}], \"table\": [{\"cells\": {\"fill\": {\"color\": \"#EBF0F8\"}, \"line\": {\"color\": \"white\"}}, \"header\": {\"fill\": {\"color\": \"#C8D4E3\"}, \"line\": {\"color\": \"white\"}}, \"type\": \"table\"}]}, \"layout\": {\"annotationdefaults\": {\"arrowcolor\": \"#2a3f5f\", \"arrowhead\": 0, \"arrowwidth\": 1}, \"coloraxis\": {\"colorbar\": {\"outlinewidth\": 0, \"ticks\": \"\"}}, \"colorscale\": {\"diverging\": [[0, \"#8e0152\"], [0.1, \"#c51b7d\"], [0.2, \"#de77ae\"], [0.3, \"#f1b6da\"], [0.4, \"#fde0ef\"], [0.5, \"#f7f7f7\"], [0.6, \"#e6f5d0\"], [0.7, \"#b8e186\"], [0.8, \"#7fbc41\"], [0.9, \"#4d9221\"], [1, \"#276419\"]], \"sequential\": [[0.0, \"#0d0887\"], [0.1111111111111111, \"#46039f\"], [0.2222222222222222, \"#7201a8\"], [0.3333333333333333, \"#9c179e\"], [0.4444444444444444, \"#bd3786\"], [0.5555555555555556, \"#d8576b\"], [0.6666666666666666, \"#ed7953\"], [0.7777777777777778, \"#fb9f3a\"], [0.8888888888888888, \"#fdca26\"], [1.0, \"#f0f921\"]], \"sequentialminus\": [[0.0, \"#0d0887\"], [0.1111111111111111, \"#46039f\"], [0.2222222222222222, \"#7201a8\"], [0.3333333333333333, \"#9c179e\"], [0.4444444444444444, \"#bd3786\"], [0.5555555555555556, \"#d8576b\"], [0.6666666666666666, \"#ed7953\"], [0.7777777777777778, \"#fb9f3a\"], [0.8888888888888888, \"#fdca26\"], [1.0, \"#f0f921\"]]}, \"colorway\": [\"#636efa\", \"#EF553B\", \"#00cc96\", \"#ab63fa\", \"#FFA15A\", \"#19d3f3\", \"#FF6692\", \"#B6E880\", \"#FF97FF\", \"#FECB52\"], \"font\": {\"color\": \"#2a3f5f\"}, \"geo\": {\"bgcolor\": \"white\", \"lakecolor\": \"white\", \"landcolor\": \"#E5ECF6\", \"showlakes\": true, \"showland\": true, \"subunitcolor\": \"white\"}, \"hoverlabel\": {\"align\": \"left\"}, \"hovermode\": \"closest\", \"mapbox\": {\"style\": \"light\"}, \"paper_bgcolor\": \"white\", \"plot_bgcolor\": \"#E5ECF6\", \"polar\": {\"angularaxis\": {\"gridcolor\": \"white\", \"linecolor\": \"white\", \"ticks\": \"\"}, \"bgcolor\": \"#E5ECF6\", \"radialaxis\": {\"gridcolor\": \"white\", \"linecolor\": \"white\", \"ticks\": \"\"}}, \"scene\": {\"xaxis\": {\"backgroundcolor\": \"#E5ECF6\", \"gridcolor\": \"white\", \"gridwidth\": 2, \"linecolor\": \"white\", \"showbackground\": true, \"ticks\": \"\", \"zerolinecolor\": \"white\"}, \"yaxis\": {\"backgroundcolor\": \"#E5ECF6\", \"gridcolor\": \"white\", \"gridwidth\": 2, \"linecolor\": \"white\", \"showbackground\": true, \"ticks\": \"\", \"zerolinecolor\": \"white\"}, \"zaxis\": {\"backgroundcolor\": \"#E5ECF6\", \"gridcolor\": \"white\", \"gridwidth\": 2, \"linecolor\": \"white\", \"showbackground\": true, \"ticks\": \"\", \"zerolinecolor\": \"white\"}}, \"shapedefaults\": {\"line\": {\"color\": \"#2a3f5f\"}}, \"ternary\": {\"aaxis\": {\"gridcolor\": \"white\", \"linecolor\": \"white\", \"ticks\": \"\"}, \"baxis\": {\"gridcolor\": \"white\", \"linecolor\": \"white\", \"ticks\": \"\"}, \"bgcolor\": \"#E5ECF6\", \"caxis\": {\"gridcolor\": \"white\", \"linecolor\": \"white\", \"ticks\": \"\"}}, \"title\": {\"x\": 0.05}, \"xaxis\": {\"automargin\": true, \"gridcolor\": \"white\", \"linecolor\": \"white\", \"ticks\": \"\", \"title\": {\"standoff\": 15}, \"zerolinecolor\": \"white\", \"zerolinewidth\": 2}, \"yaxis\": {\"automargin\": true, \"gridcolor\": \"white\", \"linecolor\": \"white\", \"ticks\": \"\", \"title\": {\"standoff\": 15}, \"zerolinecolor\": \"white\", \"zerolinewidth\": 2}}}, \"xaxis\": {\"anchor\": \"y\", \"domain\": [0.0, 1.0]}, \"yaxis\": {\"anchor\": \"x\", \"domain\": [0.0, 1.0], \"title\": {\"text\": \"cases\"}}},\n",
              "                        {\"responsive\": true}\n",
              "                    ).then(function(){\n",
              "                            \n",
              "var gd = document.getElementById('399f64f3-b116-4575-9094-43d6fcc470d4');\n",
              "var x = new MutationObserver(function (mutations, observer) {{\n",
              "        var display = window.getComputedStyle(gd).display;\n",
              "        if (!display || display === 'none') {{\n",
              "            console.log([gd, 'removed!']);\n",
              "            Plotly.purge(gd);\n",
              "            observer.disconnect();\n",
              "        }}\n",
              "}});\n",
              "\n",
              "// Listen for the removal of the full notebook cells\n",
              "var notebookContainer = gd.closest('#notebook-container');\n",
              "if (notebookContainer) {{\n",
              "    x.observe(notebookContainer, {childList: true});\n",
              "}}\n",
              "\n",
              "// Listen for the clearing of the current output cell\n",
              "var outputEl = gd.closest('.output');\n",
              "if (outputEl) {{\n",
              "    x.observe(outputEl, {childList: true});\n",
              "}}\n",
              "\n",
              "                        })\n",
              "                };\n",
              "                \n",
              "            </script>\n",
              "        </div>\n",
              "</body>\n",
              "</html>"
            ]
          },
          "metadata": {
            "tags": []
          }
        }
      ]
    },
    {
      "cell_type": "code",
      "metadata": {
        "id": "TCzOsxSRDwEf"
      },
      "source": [
        "toot=toot.loc[toot.cases<=80000]"
      ],
      "execution_count": 9,
      "outputs": []
    },
    {
      "cell_type": "code",
      "metadata": {
        "id": "wF0KX62nMh9c",
        "outputId": "6635c1de-d0b4-455b-bf19-a90d1bb82da3",
        "colab": {
          "base_uri": "https://localhost:8080/",
          "height": 35
        }
      },
      "source": [
        "adf=pmd.arima.ADFTest(alpha=.05)\n",
        "adf.should_diff(toot[['cases']])"
      ],
      "execution_count": null,
      "outputs": [
        {
          "output_type": "execute_result",
          "data": {
            "text/plain": [
              "(0.49644081219960445, True)"
            ]
          },
          "metadata": {
            "tags": []
          },
          "execution_count": 10
        }
      ]
    },
    {
      "cell_type": "code",
      "metadata": {
        "id": "7O9V1_GWMh9f",
        "outputId": "d2b898ed-4933-4f14-837f-81da485264a6",
        "colab": {
          "base_uri": "https://localhost:8080/",
          "height": 35
        }
      },
      "source": [
        "from pmdarima.arima import ndiffs\n",
        "ndiffs(toot, alpha=0.05, test='kpss', max_d=6)"
      ],
      "execution_count": null,
      "outputs": [
        {
          "output_type": "execute_result",
          "data": {
            "text/plain": [
              "1"
            ]
          },
          "metadata": {
            "tags": []
          },
          "execution_count": 11
        }
      ]
    },
    {
      "cell_type": "code",
      "metadata": {
        "id": "uAjUH1JvMh9o",
        "outputId": "462a6cd2-8c47-4926-a732-d394fcf8961b",
        "colab": {
          "base_uri": "https://localhost:8080/",
          "height": 179
        }
      },
      "source": [
        "def adf_test(timeseries):\n",
        "    #Perform Dickey-Fuller test:\n",
        "    print ('Results of Dickey-Fuller Test:')\n",
        "    dftest = adfuller(timeseries, autolag='AIC')\n",
        "    dfoutput = pd.Series(dftest[0:4], index=['Test Statistic','p-value','#Lags Used','Number of Observations Used'])\n",
        "    for key,value in dftest[4].items():\n",
        "       dfoutput['Critical Value (%s)'%key] = value\n",
        "    print (dfoutput)\n",
        "adf_test(toot)"
      ],
      "execution_count": null,
      "outputs": [
        {
          "output_type": "stream",
          "text": [
            "Results of Dickey-Fuller Test:\n",
            "Test Statistic                 -1.755483\n",
            "p-value                         0.402776\n",
            "#Lags Used                      6.000000\n",
            "Number of Observations Used    88.000000\n",
            "Critical Value (1%)            -3.506944\n",
            "Critical Value (5%)            -2.894990\n",
            "Critical Value (10%)           -2.584615\n",
            "dtype: float64\n"
          ],
          "name": "stdout"
        }
      ]
    },
    {
      "cell_type": "code",
      "metadata": {
        "id": "aOSA4VeMMCQL"
      },
      "source": [
        "toot = toot.diff(1)\n",
        "toot.dropna(inplace=True)"
      ],
      "execution_count": 42,
      "outputs": []
    },
    {
      "cell_type": "code",
      "metadata": {
        "id": "lMBljqe_Jyhg",
        "outputId": "9e6b25a0-1a2c-4fbb-ce59-a1395c782337",
        "colab": {
          "base_uri": "https://localhost:8080/",
          "height": 89
        }
      },
      "source": [
        "model1 = pmd.arima.auto_arima(toot['cases'], start_p=1, start_q=1,start_P=1, start_Q=1, m=12,\n",
        "                     max_p=6, max_q=6, max_P=6, max_Q=6, seasonal=True,stepwise=True)\n",
        "model1"
      ],
      "execution_count": 5,
      "outputs": [
        {
          "output_type": "execute_result",
          "data": {
            "text/plain": [
              "ARIMA(maxiter=50, method='lbfgs', order=(0, 1, 1), out_of_sample_size=0,\n",
              "      scoring='mse', scoring_args={}, seasonal_order=(0, 0, 0, 12),\n",
              "      start_params=None, suppress_warnings=False, trend=None,\n",
              "      with_intercept=False)"
            ]
          },
          "metadata": {
            "tags": []
          },
          "execution_count": 5
        }
      ]
    },
    {
      "cell_type": "code",
      "metadata": {
        "id": "I3oVx_K2Mh8l",
        "outputId": "7f8f679c-bb95-4da5-c29d-6994b0de46c8",
        "colab": {
          "base_uri": "https://localhost:8080/",
          "height": 1000
        }
      },
      "source": [
        "n_train = 24\n",
        "n_records = len(toot)\n",
        "fore = {}\n",
        "res=[]\n",
        "for i in range(n_train, n_records):\n",
        "    pre=[]\n",
        "    train, test = toot[0:i], toot[i:i+1]\n",
        "    mod = SARIMAX(train, order=(0, 1, 1), seasonal_order=(2, 0, 0, 12))\n",
        "    mod=mod.fit()\n",
        "    print(mod.forecast())\n",
        "    fore.update(mod.forecast())\n",
        "    pre = mod.forecast()\n",
        "    res.extend(rmse(test,pre))\n",
        "#df1.plot(legend=True,figsize=(15,10))\n",
        "#pre.plot(legend=True)"
      ],
      "execution_count": 31,
      "outputs": [
        {
          "output_type": "stream",
          "text": [
            "2013-10-31    9945.08612\n",
            "Freq: M, dtype: float64\n",
            "2013-11-30    8272.073686\n",
            "Freq: M, dtype: float64\n",
            "2013-12-31    8908.375489\n",
            "Freq: M, dtype: float64\n",
            "2014-01-31    7105.739349\n",
            "Freq: M, dtype: float64\n",
            "2014-02-28    14968.301661\n",
            "Freq: M, dtype: float64\n",
            "2014-03-31    12313.482978\n",
            "Freq: M, dtype: float64\n",
            "2014-04-30    9706.559611\n",
            "Freq: M, dtype: float64\n",
            "2014-05-31    11139.216919\n",
            "Freq: M, dtype: float64\n",
            "2014-06-30    12605.980665\n",
            "Freq: M, dtype: float64\n",
            "2014-07-31    10924.946548\n",
            "Freq: M, dtype: float64\n",
            "2014-08-31    12145.176272\n",
            "Freq: M, dtype: float64\n",
            "2014-09-30    17168.516938\n",
            "Freq: M, dtype: float64\n",
            "2014-10-31    14521.681729\n",
            "Freq: M, dtype: float64\n",
            "2014-11-30    13623.566595\n",
            "Freq: M, dtype: float64\n",
            "2014-12-31    15202.54817\n",
            "Freq: M, dtype: float64\n",
            "2015-01-31    17286.710784\n",
            "Freq: M, dtype: float64\n",
            "2015-02-28    12536.715733\n",
            "Freq: M, dtype: float64\n",
            "2015-03-31    12971.404174\n",
            "Freq: M, dtype: float64\n",
            "2015-04-30    13015.115834\n",
            "Freq: M, dtype: float64\n",
            "2015-05-31    11996.04413\n",
            "Freq: M, dtype: float64\n",
            "2015-06-30    11153.582108\n",
            "Freq: M, dtype: float64\n",
            "2015-07-31    11848.62801\n",
            "Freq: M, dtype: float64\n",
            "2015-08-31    11874.428382\n",
            "Freq: M, dtype: float64\n",
            "2015-09-30    11678.849253\n",
            "Freq: M, dtype: float64\n",
            "2015-10-31    10037.906265\n",
            "Freq: M, dtype: float64\n",
            "2015-11-30    12073.911661\n",
            "Freq: M, dtype: float64\n",
            "2015-12-31    9001.856332\n",
            "Freq: M, dtype: float64\n",
            "2016-01-31    10519.050451\n",
            "Freq: M, dtype: float64\n",
            "2016-02-29    11339.13482\n",
            "Freq: M, dtype: float64\n",
            "2016-03-31    10203.851978\n",
            "Freq: M, dtype: float64\n",
            "2016-04-30    11650.198888\n",
            "Freq: M, dtype: float64\n",
            "2016-05-31    10876.667091\n",
            "Freq: M, dtype: float64\n",
            "2016-06-30    10952.400213\n",
            "Freq: M, dtype: float64\n",
            "2016-07-31    9554.375732\n",
            "Freq: M, dtype: float64\n",
            "2016-08-31    11709.334279\n",
            "Freq: M, dtype: float64\n",
            "2016-09-30    10390.376115\n",
            "Freq: M, dtype: float64\n",
            "2016-10-31    12236.727839\n",
            "Freq: M, dtype: float64\n",
            "2016-11-30    12892.090555\n",
            "Freq: M, dtype: float64\n",
            "2016-12-31    10562.242411\n",
            "Freq: M, dtype: float64\n",
            "2017-01-31    12836.012596\n",
            "Freq: M, dtype: float64\n",
            "2017-02-28    12789.490783\n",
            "Freq: M, dtype: float64\n",
            "2017-03-31    10044.385871\n",
            "Freq: M, dtype: float64\n",
            "2017-04-30    10335.322567\n",
            "Freq: M, dtype: float64\n",
            "2017-05-31    10920.184724\n",
            "Freq: M, dtype: float64\n",
            "2017-06-30    9293.331265\n",
            "Freq: M, dtype: float64\n",
            "2017-07-31    12191.193015\n",
            "Freq: M, dtype: float64\n",
            "2017-08-31    14014.643028\n",
            "Freq: M, dtype: float64\n",
            "2017-09-30    19684.756816\n",
            "Freq: M, dtype: float64\n",
            "2017-10-31    28188.194979\n",
            "Freq: M, dtype: float64\n",
            "2017-11-30    50188.755724\n",
            "Freq: M, dtype: float64\n",
            "2017-12-31    58579.415564\n",
            "Freq: M, dtype: float64\n",
            "2018-01-31    47494.503531\n",
            "Freq: M, dtype: float64\n",
            "2018-02-28    48832.480233\n",
            "Freq: M, dtype: float64\n",
            "2018-03-31    44498.48114\n",
            "Freq: M, dtype: float64\n",
            "2018-04-30    52061.616187\n",
            "Freq: M, dtype: float64\n",
            "2018-05-31    51485.066645\n",
            "Freq: M, dtype: float64\n",
            "2018-06-30    61927.857578\n",
            "Freq: M, dtype: float64\n",
            "2018-07-31    50653.953293\n",
            "Freq: M, dtype: float64\n",
            "70    36946.27682\n",
            "dtype: float64\n",
            "71    40602.832204\n",
            "dtype: float64\n",
            "72    46600.616794\n",
            "dtype: float64\n",
            "73    63501.066472\n",
            "dtype: float64\n",
            "74    42713.226225\n",
            "dtype: float64\n",
            "75    55737.726741\n",
            "dtype: float64\n",
            "76    46533.658315\n",
            "dtype: float64\n",
            "77    58008.20042\n",
            "dtype: float64\n",
            "78    47711.380244\n",
            "dtype: float64\n",
            "79    32158.536652\n",
            "dtype: float64\n",
            "80    19553.107095\n",
            "dtype: float64\n",
            "81   -704.457737\n",
            "dtype: float64\n",
            "82    16903.539626\n",
            "dtype: float64\n",
            "83    17609.873706\n",
            "dtype: float64\n",
            "84    29529.714744\n",
            "dtype: float64\n",
            "85    24682.570353\n",
            "dtype: float64\n",
            "86    42794.895647\n",
            "dtype: float64\n",
            "87    28893.166377\n",
            "dtype: float64\n",
            "88    23228.379546\n",
            "dtype: float64\n",
            "89    20155.382301\n",
            "dtype: float64\n",
            "90    19872.628776\n",
            "dtype: float64\n",
            "91    40894.401143\n",
            "dtype: float64\n",
            "92    43522.262716\n",
            "dtype: float64\n",
            "93    23559.206916\n",
            "dtype: float64\n",
            "94    32055.103068\n",
            "dtype: float64\n"
          ],
          "name": "stdout"
        }
      ]
    },
    {
      "cell_type": "code",
      "metadata": {
        "id": "2ZzPXANEDv1b",
        "outputId": "e1474ffe-47c0-44eb-b487-df2eea25347f",
        "colab": {
          "base_uri": "https://localhost:8080/",
          "height": 450
        }
      },
      "source": [
        "toot"
      ],
      "execution_count": 30,
      "outputs": [
        {
          "output_type": "execute_result",
          "data": {
            "text/html": [
              "<div>\n",
              "<style scoped>\n",
              "    .dataframe tbody tr th:only-of-type {\n",
              "        vertical-align: middle;\n",
              "    }\n",
              "\n",
              "    .dataframe tbody tr th {\n",
              "        vertical-align: top;\n",
              "    }\n",
              "\n",
              "    .dataframe thead th {\n",
              "        text-align: right;\n",
              "    }\n",
              "</style>\n",
              "<table border=\"1\" class=\"dataframe\">\n",
              "  <thead>\n",
              "    <tr style=\"text-align: right;\">\n",
              "      <th></th>\n",
              "      <th>cases</th>\n",
              "    </tr>\n",
              "    <tr>\n",
              "      <th>del date</th>\n",
              "      <th></th>\n",
              "    </tr>\n",
              "  </thead>\n",
              "  <tbody>\n",
              "    <tr>\n",
              "      <th>2012-10-31</th>\n",
              "      <td>5143.0</td>\n",
              "    </tr>\n",
              "    <tr>\n",
              "      <th>2012-11-30</th>\n",
              "      <td>8220.0</td>\n",
              "    </tr>\n",
              "    <tr>\n",
              "      <th>2012-12-31</th>\n",
              "      <td>5631.0</td>\n",
              "    </tr>\n",
              "    <tr>\n",
              "      <th>2013-01-31</th>\n",
              "      <td>20630.0</td>\n",
              "    </tr>\n",
              "    <tr>\n",
              "      <th>2013-02-28</th>\n",
              "      <td>12529.0</td>\n",
              "    </tr>\n",
              "    <tr>\n",
              "      <th>...</th>\n",
              "      <td>...</td>\n",
              "    </tr>\n",
              "    <tr>\n",
              "      <th>2020-07-31</th>\n",
              "      <td>52193.0</td>\n",
              "    </tr>\n",
              "    <tr>\n",
              "      <th>2020-08-31</th>\n",
              "      <td>43866.0</td>\n",
              "    </tr>\n",
              "    <tr>\n",
              "      <th>2020-09-30</th>\n",
              "      <td>25063.0</td>\n",
              "    </tr>\n",
              "    <tr>\n",
              "      <th>2020-10-31</th>\n",
              "      <td>25487.0</td>\n",
              "    </tr>\n",
              "    <tr>\n",
              "      <th>2020-11-30</th>\n",
              "      <td>1780.0</td>\n",
              "    </tr>\n",
              "  </tbody>\n",
              "</table>\n",
              "<p>95 rows × 1 columns</p>\n",
              "</div>"
            ],
            "text/plain": [
              "              cases\n",
              "del date           \n",
              "2012-10-31   5143.0\n",
              "2012-11-30   8220.0\n",
              "2012-12-31   5631.0\n",
              "2013-01-31  20630.0\n",
              "2013-02-28  12529.0\n",
              "...             ...\n",
              "2020-07-31  52193.0\n",
              "2020-08-31  43866.0\n",
              "2020-09-30  25063.0\n",
              "2020-10-31  25487.0\n",
              "2020-11-30   1780.0\n",
              "\n",
              "[95 rows x 1 columns]"
            ]
          },
          "metadata": {
            "tags": []
          },
          "execution_count": 30
        }
      ]
    },
    {
      "cell_type": "code",
      "metadata": {
        "id": "GKn9DJf9Mh8r",
        "outputId": "67323461-6305-4ab2-e100-48ca5ae5fcc1",
        "colab": {
          "base_uri": "https://localhost:8080/",
          "height": 169
        }
      },
      "source": [
        "print(\"Avg rmse is %d\" %np.mean(res))"
      ],
      "execution_count": 25,
      "outputs": [
        {
          "output_type": "error",
          "ename": "ValueError",
          "evalue": "ignored",
          "traceback": [
            "\u001b[0;31m---------------------------------------------------------------------------\u001b[0m",
            "\u001b[0;31mValueError\u001b[0m                                Traceback (most recent call last)",
            "\u001b[0;32m<ipython-input-25-27949e27369f>\u001b[0m in \u001b[0;36m<module>\u001b[0;34m()\u001b[0m\n\u001b[0;32m----> 1\u001b[0;31m \u001b[0mprint\u001b[0m\u001b[0;34m(\u001b[0m\u001b[0;34m\"Avg rmse is %d\"\u001b[0m \u001b[0;34m%\u001b[0m\u001b[0mnp\u001b[0m\u001b[0;34m.\u001b[0m\u001b[0mmean\u001b[0m\u001b[0;34m(\u001b[0m\u001b[0mres\u001b[0m\u001b[0;34m)\u001b[0m\u001b[0;34m)\u001b[0m\u001b[0;34m\u001b[0m\u001b[0;34m\u001b[0m\u001b[0m\n\u001b[0m",
            "\u001b[0;31mValueError\u001b[0m: cannot convert float NaN to integer"
          ]
        }
      ]
    },
    {
      "cell_type": "code",
      "metadata": {
        "id": "6OD9iEvJMh9Z",
        "outputId": "f9cfd3e3-31a9-457b-a849-0145cd4d089e",
        "colab": {
          "base_uri": "https://localhost:8080/",
          "height": 953
        }
      },
      "source": [
        "kk=mod.plot_diagnostics()\n",
        "kk.set_size_inches(15,13)\n",
        "tls.mpl_to_plotly(kk)"
      ],
      "execution_count": 11,
      "outputs": [
        {
          "output_type": "display_data",
          "data": {
            "text/html": [
              "<html>\n",
              "<head><meta charset=\"utf-8\" /></head>\n",
              "<body>\n",
              "    <div>\n",
              "            <script src=\"https://cdnjs.cloudflare.com/ajax/libs/mathjax/2.7.5/MathJax.js?config=TeX-AMS-MML_SVG\"></script><script type=\"text/javascript\">if (window.MathJax) {MathJax.Hub.Config({SVG: {font: \"STIX-Web\"}});}</script>\n",
              "                <script type=\"text/javascript\">window.PlotlyConfig = {MathJaxConfig: 'local'};</script>\n",
              "        <script src=\"https://cdn.plot.ly/plotly-latest.min.js\"></script>    \n",
              "            <div id=\"5a7d1b6c-5eb0-42bd-aaa9-0999f5b5cb0c\" class=\"plotly-graph-div\" style=\"height:936px; width:1080px;\"></div>\n",
              "            <script type=\"text/javascript\">\n",
              "                \n",
              "                    window.PLOTLYENV=window.PLOTLYENV || {};\n",
              "                    \n",
              "                if (document.getElementById(\"5a7d1b6c-5eb0-42bd-aaa9-0999f5b5cb0c\")) {\n",
              "                    Plotly.newPlot(\n",
              "                        '5a7d1b6c-5eb0-42bd-aaa9-0999f5b5cb0c',\n",
              "                        [{\"line\": {\"color\": \"rgba (31, 119, 180, 1)\", \"dash\": \"solid\", \"width\": 1.5}, \"mode\": \"lines\", \"name\": \"_line0\", \"type\": \"scatter\", \"x\": [0.0, 1.0, 2.0, 3.0, 4.0, 5.0, 6.0, 7.0, 8.0, 9.0, 10.0, 11.0, 12.0, 13.0, 14.0, 15.0, 16.0, 17.0, 18.0, 19.0, 20.0, 21.0, 22.0, 23.0, 24.0, 25.0, 26.0, 27.0, 28.0, 29.0, 30.0, 31.0, 32.0, 33.0, 34.0, 35.0, 36.0, 37.0, 38.0, 39.0, 40.0, 41.0, 42.0, 43.0, 44.0, 45.0, 46.0, 47.0, 48.0, 49.0, 50.0, 51.0, 52.0, 53.0, 54.0, 55.0, 56.0, 57.0, 58.0, 59.0, 60.0, 61.0, 62.0, 63.0, 64.0, 65.0, 66.0, 67.0, 68.0, 69.0, 70.0, 71.0, 72.0, 73.0, 74.0, 75.0, 76.0, 77.0, 78.0, 79.0, 80.0, 81.0, 82.0, 83.0, 84.0, 85.0, 86.0, 87.0, 88.0, 89.0, 90.0, 91.0, 92.0], \"xaxis\": \"x\", \"y\": [0.329062526556777, 0.014861971095520881, 0.974525895799999, 0.036424130083656886, 0.2234184078886759, -0.5401347449847478, 0.24325172831005418, -0.17671578983966751, -0.17850682633114776, 0.21772538407296585, 0.08321863482744427, -0.07873673657317552, -0.32812833263931845, 0.6582164346137098, 0.18440976725980046, -0.7091268189903642, -0.26694580201850543, 0.41395030572841823, 0.5808893587536846, -0.5858372585015423, 0.13563535595658321, 0.9314874540774754, -0.18296373065513877, -0.45970093264619194, 0.02975328568525983, -0.6526742362977683, -0.27397186933353956, 0.11951757911119723, -0.6204411298474648, 0.3208333423554702, 0.03486217224973648, -0.13784902921452746, -0.24767077270610985, 0.5603184422261879, -0.2899771650617536, 0.4168295540834953, 0.29578354661230505, -0.38189976942168713, 0.18837826204916008, 0.39139321261158133, -0.13817318965921724, -0.5030855336575962, -0.26814518021450834, -0.15175247627245528, -0.23938111150269525, 0.5131105687748935, 0.32188788519265144, 0.1404899830381239, -0.13697767433387753, -0.13075305900956805, -0.10875860211061689, -0.2140707917989049, 0.603571717051867, -0.57571254988843, 0.27915507006744406, 2.2937841873181846, -0.38331778707905473, 0.16011272433855106, 1.1093052018587628, 2.4710263011740765, 1.1258226944732412, -0.9887538802101876, 0.21561630477102228, -0.8032435335828124, 1.633300583549808, -0.4530054322670663, 0.23356243251577286, 0.007328450023229264, -2.596868340658178, -0.22047325611255827, -0.3197057849651165, 2.606103272119495, -0.9641524507769696, 1.0663505546006578, -0.6750729578360563, 0.022664852360940988, -0.15516453889974355, -3.1699703968227033, -1.5939548323985977, -1.0905975658859632, 0.3388575255067982, 0.060571571856979846, -0.7345307325780067, 0.9174338222643825, 1.5773298058494545, -1.147481903726175, -0.7521369322925954, -1.405258067718285, 2.5531525859720277, 1.8993157490574486, 0.2708133599628797, -1.2131289203316076, 0.11606745404898242], \"yaxis\": \"y\"}, {\"line\": {\"color\": \"rgba (255, 127, 14, 1)\", \"dash\": \"solid\", \"width\": 1.5}, \"mode\": \"lines\", \"name\": \"KDE\", \"type\": \"scatter\", \"x\": [-3.92, -3.76, -3.6, -3.44, -3.28, -3.12, -2.96, -2.8, -2.6399999999999997, -2.48, -2.32, -2.16, -2.0, -1.8399999999999999, -1.6799999999999997, -1.52, -1.3599999999999999, -1.1999999999999997, -1.04, -0.8799999999999999, -0.7199999999999998, -0.56, -0.3999999999999999, -0.23999999999999977, -0.08000000000000007, 0.08000000000000007, 0.2400000000000002, 0.40000000000000036, 0.5600000000000005, 0.7199999999999998, 0.8799999999999999, 1.04, 1.2000000000000002, 1.3600000000000003, 1.5200000000000005, 1.6800000000000006, 1.8399999999999999, 2.0, 2.16, 2.3200000000000003, 2.4800000000000004, 2.6400000000000006, 2.8, 2.96, 3.12, 3.2800000000000002, 3.4400000000000004, 3.6000000000000005, 3.76, 3.92], \"xaxis\": \"x2\", \"y\": [0.0014855308422793477, 0.0033106266803153888, 0.006178542433988848, 0.00974962843235678, 0.013221718999736325, 0.015786518012743594, 0.017073902454323223, 0.01709839104759587, 0.015961891246798712, 0.013963837934071842, 0.01208251064541015, 0.012093135157663068, 0.015986628513908432, 0.025202538799279917, 0.04036252415032178, 0.06169158469845498, 0.08979791115660028, 0.12627127234381222, 0.17359122942145996, 0.23404087104769536, 0.3077249648620276, 0.3903244470474247, 0.47176055324007476, 0.5371902444691279, 0.5709801648297168, 0.5625380628397357, 0.511500206906497, 0.42944217016969594, 0.3360101017002002, 0.25037241522045073, 0.18327351588484678, 0.13542185564712045, 0.10219691693096117, 0.07907238974429978, 0.06341136240196071, 0.053609805097901995, 0.048465468499327424, 0.047150739322447, 0.048552239047279296, 0.05028439130091859, 0.04908774089729518, 0.04289163927232339, 0.03249649317145037, 0.02097977684725845, 0.01143363108875817, 0.005232170782477859, 0.002003960220653729, 0.0006410263242826922, 0.00017099466657250392, 3.7994174756506116e-05], \"yaxis\": \"y2\"}, {\"line\": {\"color\": \"rgba (44, 160, 44, 1)\", \"dash\": \"solid\", \"width\": 1.5}, \"mode\": \"lines\", \"name\": \"N(0,1)\", \"type\": \"scatter\", \"x\": [-3.92, -3.76, -3.6, -3.44, -3.28, -3.12, -2.96, -2.8, -2.6399999999999997, -2.48, -2.32, -2.16, -2.0, -1.8399999999999999, -1.6799999999999997, -1.52, -1.3599999999999999, -1.1999999999999997, -1.04, -0.8799999999999999, -0.7199999999999998, -0.56, -0.3999999999999999, -0.23999999999999977, -0.08000000000000007, 0.08000000000000007, 0.2400000000000002, 0.40000000000000036, 0.5600000000000005, 0.7199999999999998, 0.8799999999999999, 1.04, 1.2000000000000002, 1.3600000000000003, 1.5200000000000005, 1.6800000000000006, 1.8399999999999999, 2.0, 2.16, 2.3200000000000003, 2.4800000000000004, 2.6400000000000006, 2.8, 2.96, 3.12, 3.2800000000000002, 3.4400000000000004, 3.6000000000000005, 3.76, 3.92], \"xaxis\": \"x2\", \"y\": [0.0001837124980024571, 0.0003396012124836548, 0.0006119019301137719, 0.0010746733401537356, 0.0018397261808242812, 0.0030698133011047403, 0.004992899213612376, 0.007915451582979969, 0.012231526351277989, 0.01842331064686205, 0.027048099546881785, 0.03870685614745561, 0.05399096651318806, 0.07340681258165692, 0.09728226933146754, 0.12566463678908815, 0.1582247903703831, 0.19418605498321304, 0.2322970047433662, 0.27086397179833804, 0.307851260469853, 0.34104578863035256, 0.3682701403033234, 0.38761661512501416, 0.3976677055116089, 0.3976677055116089, 0.3876166151250141, 0.3682701403033233, 0.3410457886303525, 0.307851260469853, 0.27086397179833804, 0.2322970047433662, 0.19418605498321292, 0.158224790370383, 0.12566463678908807, 0.0972822693314674, 0.07340681258165692, 0.05399096651318806, 0.03870685614745561, 0.027048099546881765, 0.01842331064686203, 0.012231526351277954, 0.007915451582979969, 0.004992899213612376, 0.0030698133011047403, 0.0018397261808242777, 0.0010746733401537337, 0.0006119019301137709, 0.0003396012124836548, 0.0001837124980024571], \"yaxis\": \"y2\"}, {\"marker\": {\"color\": \"#1F77B4\", \"line\": {\"width\": 1.0}}, \"opacity\": 1, \"orientation\": \"v\", \"type\": \"bar\", \"x\": [-2.8811667133755936, -2.3035593464813737, -1.725951979587154, -1.1483446126929342, -0.5707372457987143, 0.006870121095505333, 0.5844774879897252, 1.162084854883945, 1.7396922217781645, 2.317299588672385], \"xaxis\": \"x2\", \"y\": [0.03723182489814817, 0.0, 0.018615912449074085, 0.1116954746944445, 0.33508642408333356, 0.7446364979629639, 0.24200686183796294, 0.1116954746944446, 0.0558477373472223, 0.07446364979629623], \"yaxis\": \"y2\"}, {\"marker\": {\"color\": \"#0000FF\", \"line\": {\"color\": \"#0000FF\", \"width\": 1.0}, \"opacity\": 1, \"size\": 6.0, \"symbol\": \"circle\"}, \"mode\": \"markers\", \"name\": \"_line0\", \"type\": \"scatter\", \"x\": [-2.3030399445897807, -2.0280691449339066, -1.8533669070077183, -1.7217965324010607, -1.614666302414813, -1.5233963507186319, -1.443299323748254, -1.3715204728028318, -1.3061858555323984, -1.2459957446269374, -1.1900097671160506, -1.137524355472557, -1.0879985567357549, -1.0410069117561174, -0.9962083232351673, -0.9533247958936263, -0.912126504003799, -0.8724210457171899, -0.8340455451790011, -0.7968607388267138, -0.7607464737712613, -0.7255982301945619, -0.6913243989287915, -0.6578441244318577, -0.6250855768781765, -0.5929845539816319, -0.5614833390479699, -0.5305297601890662, -0.5000764089501503, -0.4700799863487625, -0.44050075154395824, -0.41130205376077134, -0.3824499321848252, -0.35391277166491125, -0.3256610044665333, -0.29766685018639616, -0.26990408739737765, -0.24234785174180232, -0.21497445609916144, -0.187761229176118, -0.16068636944186104, -0.13372881179106894, -0.10686810468305773, -0.08008429579681307, -0.05335782447101844, -0.026669419376159898, 0.0, 0.02666941937615976, 0.053357824471018576, 0.08008429579681307, 0.10686810468305759, 0.13372881179106894, 0.16068636944186104, 0.18776122917611815, 0.21497445609916144, 0.24234785174180218, 0.2699040873973778, 0.29766685018639616, 0.3256610044665331, 0.35391277166491136, 0.3824499321848252, 0.41130205376077117, 0.44050075154395824, 0.4700799863487625, 0.5000764089501505, 0.5305297601890662, 0.5614833390479699, 0.5929845539816321, 0.6250855768781765, 0.6578441244318576, 0.6913243989287915, 0.7255982301945619, 0.7607464737712611, 0.7968607388267138, 0.8340455451790011, 0.8724210457171898, 0.912126504003799, 0.9533247958936263, 0.9962083232351674, 1.0410069117561174, 1.0879985567357549, 1.137524355472557, 1.1900097671160506, 1.2459957446269367, 1.3061858555323984, 1.3715204728028318, 1.4432993237482534, 1.5233963507186319, 1.614666302414813, 1.7217965324010607, 1.8533669070077188, 2.028069144933906, 2.303039944589782], \"xaxis\": \"x3\", \"y\": [-3.1699703968227033, -2.596868340658178, -1.5939548323985977, -1.405258067718285, -1.2131289203316076, -1.147481903726175, -1.0905975658859632, -0.9887538802101876, -0.9641524507769696, -0.8032435335828124, -0.7521369322925954, -0.7345307325780067, -0.7091268189903642, -0.6750729578360563, -0.6526742362977683, -0.6204411298474648, -0.5858372585015423, -0.57571254988843, -0.5401347449847478, -0.5030855336575962, -0.45970093264619194, -0.4530054322670663, -0.38331778707905473, -0.38189976942168713, -0.32812833263931845, -0.3197057849651165, -0.2899771650617536, -0.27397186933353956, -0.26814518021450834, -0.26694580201850543, -0.24767077270610985, -0.23938111150269525, -0.22047325611255827, -0.2140707917989049, -0.18296373065513877, -0.17850682633114776, -0.17671578983966751, -0.15516453889974355, -0.15175247627245528, -0.13817318965921724, -0.13784902921452746, -0.13697767433387753, -0.13075305900956805, -0.10875860211061689, -0.07873673657317552, 0.007328450023229264, 0.014861971095520881, 0.022664852360940988, 0.02975328568525983, 0.03486217224973648, 0.036424130083656886, 0.060571571856979846, 0.08321863482744427, 0.11606745404898242, 0.11951757911119723, 0.13563535595658321, 0.1404899830381239, 0.16011272433855106, 0.18440976725980046, 0.18837826204916008, 0.21561630477102228, 0.21772538407296585, 0.2234184078886759, 0.23356243251577286, 0.24325172831005418, 0.2708133599628797, 0.27915507006744406, 0.29578354661230505, 0.3208333423554702, 0.32188788519265144, 0.329062526556777, 0.3388575255067982, 0.39139321261158133, 0.41395030572841823, 0.4168295540834953, 0.5131105687748935, 0.5603184422261879, 0.5808893587536846, 0.603571717051867, 0.6582164346137098, 0.9174338222643825, 0.9314874540774754, 0.974525895799999, 1.0663505546006578, 1.1093052018587628, 1.1258226944732412, 1.5773298058494545, 1.633300583549808, 1.8993157490574486, 2.2937841873181846, 2.4710263011740765, 2.5531525859720277, 2.606103272119495], \"yaxis\": \"y3\"}, {\"line\": {\"color\": \"rgba (255, 0, 0, 1)\", \"dash\": \"solid\", \"width\": 1.5}, \"mode\": \"lines\", \"name\": \"_line1\", \"type\": \"scatter\", \"x\": [-2.3030399445897807, -2.0280691449339066, -1.8533669070077183, -1.7217965324010607, -1.614666302414813, -1.5233963507186319, -1.443299323748254, -1.3715204728028318, -1.3061858555323984, -1.2459957446269374, -1.1900097671160506, -1.137524355472557, -1.0879985567357549, -1.0410069117561174, -0.9962083232351673, -0.9533247958936263, -0.912126504003799, -0.8724210457171899, -0.8340455451790011, -0.7968607388267138, -0.7607464737712613, -0.7255982301945619, -0.6913243989287915, -0.6578441244318577, -0.6250855768781765, -0.5929845539816319, -0.5614833390479699, -0.5305297601890662, -0.5000764089501503, -0.4700799863487625, -0.44050075154395824, -0.41130205376077134, -0.3824499321848252, -0.35391277166491125, -0.3256610044665333, -0.29766685018639616, -0.26990408739737765, -0.24234785174180232, -0.21497445609916144, -0.187761229176118, -0.16068636944186104, -0.13372881179106894, -0.10686810468305773, -0.08008429579681307, -0.05335782447101844, -0.026669419376159898, 0.0, 0.02666941937615976, 0.053357824471018576, 0.08008429579681307, 0.10686810468305759, 0.13372881179106894, 0.16068636944186104, 0.18776122917611815, 0.21497445609916144, 0.24234785174180218, 0.2699040873973778, 0.29766685018639616, 0.3256610044665331, 0.35391277166491136, 0.3824499321848252, 0.41130205376077117, 0.44050075154395824, 0.4700799863487625, 0.5000764089501505, 0.5305297601890662, 0.5614833390479699, 0.5929845539816321, 0.6250855768781765, 0.6578441244318576, 0.6913243989287915, 0.7255982301945619, 0.7607464737712611, 0.7968607388267138, 0.8340455451790011, 0.8724210457171898, 0.912126504003799, 0.9533247958936263, 0.9962083232351674, 1.0410069117561174, 1.0879985567357549, 1.137524355472557, 1.1900097671160506, 1.2459957446269367, 1.3061858555323984, 1.3715204728028318, 1.4432993237482534, 1.5233963507186319, 1.614666302414813, 1.7217965324010607, 1.8533669070077188, 2.028069144933906, 2.303039944589782], \"xaxis\": \"x3\", \"y\": [-2.060984508971733, -1.8114776269952904, -1.6529538466018012, -1.533567664615701, -1.4363583257232073, -1.3535405098156477, -1.2808609399123236, -1.2157292338778733, -1.1564449874754503, -1.1018288358090456, -1.051027489991138, -1.0034025369968305, -0.9584631192998343, -0.9158231777770006, -0.8751732027513011, -0.8362609429457867, -0.7988778558505364, -0.7628493571629088, -0.7280276542928156, -0.6942863803049294, -0.6615165091763087, -0.6296232002404286, -0.5985233278786674, -0.5681435242489735, -0.5384186113912259, -0.509290332529634, -0.4807063158762139, -0.45261922096736357, -0.42498602965081417, -0.3977674526852361, -0.3709274294659265, -0.3444327032958279, -0.3182524583322577, -0.2923580071734586, -0.26672252023152343, -0.24132078973233628, -0.21612902250756638, -0.19112465678569582, -0.166286199013269, -0.1415930773924151, -0.11702550934265007, -0.09256438051163585, -0.06819113329196813, -0.043887663065226616, -0.01963622060269106, 0.004580680786387431, 0.028780354646286428, 0.0529800285061853, 0.07719692989526404, 0.10144837235779947, 0.12575184258454086, 0.15012508980420872, 0.17458621863522292, 0.19915378668498807, 0.22384690830584184, 0.24868536607826855, 0.2736897318001394, 0.2988814990249091, 0.32428322952409616, 0.3499187164660315, 0.3758131676248305, 0.4019934125884006, 0.42848813875849934, 0.45532816197780895, 0.4825467389433872, 0.5101799302599365, 0.5382670251687868, 0.566851041822207, 0.5959793206837989, 0.6257042335415464, 0.6560840371712403, 0.6871839095330016, 0.7190772184688815, 0.7518470895975023, 0.7855883635853885, 0.8204100664554816, 0.8564385651431093, 0.8938216522383596, 0.9327339120438741, 0.9733838870695736, 1.0160238285924073, 1.0609632462894032, 1.1085881992837108, 1.1593895451016176, 1.214005696768023, 1.273289943170446, 1.3384216492048957, 1.4111012191082204, 1.49391903501578, 1.5911283739082738, 1.7105145558943744, 1.8690383362878626, 2.1185452182643068], \"yaxis\": \"y3\"}, {\"marker\": {\"color\": \"#1F77B4\", \"line\": {\"color\": \"#1F77B4\", \"width\": 1.0}, \"opacity\": 1, \"size\": 5.0, \"symbol\": \"circle\"}, \"mode\": \"markers\", \"name\": \"_line1\", \"type\": \"scatter\", \"x\": [0.0, 1.0, 2.0, 3.0, 4.0, 5.0, 6.0, 7.0, 8.0, 9.0, 10.0], \"xaxis\": \"x4\", \"y\": [1.0, 0.06485973879867127, -0.04261327738356202, -0.18750200762908106, 0.06857872876061381, 0.13845890490179455, -0.18773141601923674, 0.021690382520103652, -0.05146552220525408, 0.16850170460538114, -0.07191647273912906], \"yaxis\": \"y4\"}],\n",
              "                        {\"annotations\": [{\"font\": {\"color\": \"#000000\", \"size\": 12.0}, \"showarrow\": false, \"text\": \"Standardized residual\", \"x\": 0.22727272727272724, \"xanchor\": \"center\", \"xref\": \"paper\", \"y\": 1.0165205091937766, \"yanchor\": \"bottom\", \"yref\": \"paper\"}, {\"font\": {\"color\": \"#000000\", \"size\": 12.0}, \"showarrow\": false, \"text\": \"Histogram plus estimated density\", \"x\": 0.7727272727272726, \"xanchor\": \"center\", \"xref\": \"paper\", \"y\": 1.0165205091937766, \"yanchor\": \"bottom\", \"yref\": \"paper\"}, {\"align\": \"left\", \"font\": {\"color\": \"#000000\", \"size\": 10.0}, \"opacity\": 1, \"showarrow\": false, \"text\": \"KDE\", \"x\": 0.953279405740191, \"xanchor\": \"left\", \"xref\": \"paper\", \"y\": 0.9768416923200216, \"yanchor\": \"bottom\", \"yref\": \"paper\"}, {\"align\": \"left\", \"font\": {\"color\": \"#000000\", \"size\": 10.0}, \"opacity\": 1, \"showarrow\": false, \"text\": \"N(0,1)\", \"x\": 0.953279405740191, \"xanchor\": \"left\", \"xref\": \"paper\", \"y\": 0.9555592351317221, \"yanchor\": \"bottom\", \"yref\": \"paper\"}, {\"align\": \"left\", \"font\": {\"color\": \"#000000\", \"size\": 10.0}, \"opacity\": 1, \"showarrow\": false, \"text\": \"Hist\", \"x\": 0.953279405740191, \"xanchor\": \"left\", \"xref\": \"paper\", \"y\": 0.9342767779434227, \"yanchor\": \"bottom\", \"yref\": \"paper\"}, {\"font\": {\"color\": \"#000000\", \"size\": 12.0}, \"showarrow\": false, \"text\": \"Normal Q-Q\", \"x\": 0.22727272727272724, \"xanchor\": \"center\", \"xref\": \"paper\", \"y\": 0.47131284557027153, \"yanchor\": \"bottom\", \"yref\": \"paper\"}, {\"font\": {\"color\": \"#000000\", \"size\": 12.0}, \"showarrow\": false, \"text\": \"Correlogram\", \"x\": 0.7727272727272726, \"xanchor\": \"center\", \"xref\": \"paper\", \"y\": 0.47131284557027153, \"yanchor\": \"bottom\", \"yref\": \"paper\"}], \"autosize\": false, \"bargap\": 4.440892098500626e-16, \"height\": 936, \"hovermode\": \"closest\", \"margin\": {\"b\": 117, \"l\": 135, \"pad\": 0, \"r\": 108, \"t\": 112}, \"showlegend\": false, \"template\": {\"data\": {\"bar\": [{\"error_x\": {\"color\": \"#2a3f5f\"}, \"error_y\": {\"color\": \"#2a3f5f\"}, \"marker\": {\"line\": {\"color\": \"#E5ECF6\", \"width\": 0.5}}, \"type\": \"bar\"}], \"barpolar\": [{\"marker\": {\"line\": {\"color\": \"#E5ECF6\", \"width\": 0.5}}, \"type\": \"barpolar\"}], \"carpet\": [{\"aaxis\": {\"endlinecolor\": \"#2a3f5f\", \"gridcolor\": \"white\", \"linecolor\": \"white\", \"minorgridcolor\": \"white\", \"startlinecolor\": \"#2a3f5f\"}, \"baxis\": {\"endlinecolor\": \"#2a3f5f\", \"gridcolor\": \"white\", \"linecolor\": \"white\", \"minorgridcolor\": \"white\", \"startlinecolor\": \"#2a3f5f\"}, \"type\": \"carpet\"}], \"choropleth\": [{\"colorbar\": {\"outlinewidth\": 0, \"ticks\": \"\"}, \"type\": \"choropleth\"}], \"contour\": [{\"colorbar\": {\"outlinewidth\": 0, \"ticks\": \"\"}, \"colorscale\": [[0.0, \"#0d0887\"], [0.1111111111111111, \"#46039f\"], [0.2222222222222222, \"#7201a8\"], [0.3333333333333333, \"#9c179e\"], [0.4444444444444444, \"#bd3786\"], [0.5555555555555556, \"#d8576b\"], [0.6666666666666666, \"#ed7953\"], [0.7777777777777778, \"#fb9f3a\"], [0.8888888888888888, \"#fdca26\"], [1.0, \"#f0f921\"]], \"type\": \"contour\"}], \"contourcarpet\": [{\"colorbar\": {\"outlinewidth\": 0, \"ticks\": \"\"}, \"type\": \"contourcarpet\"}], \"heatmap\": [{\"colorbar\": {\"outlinewidth\": 0, \"ticks\": \"\"}, \"colorscale\": [[0.0, \"#0d0887\"], [0.1111111111111111, \"#46039f\"], [0.2222222222222222, \"#7201a8\"], [0.3333333333333333, \"#9c179e\"], [0.4444444444444444, \"#bd3786\"], [0.5555555555555556, \"#d8576b\"], [0.6666666666666666, \"#ed7953\"], [0.7777777777777778, \"#fb9f3a\"], [0.8888888888888888, \"#fdca26\"], [1.0, \"#f0f921\"]], \"type\": \"heatmap\"}], \"heatmapgl\": [{\"colorbar\": {\"outlinewidth\": 0, \"ticks\": \"\"}, \"colorscale\": [[0.0, \"#0d0887\"], [0.1111111111111111, \"#46039f\"], [0.2222222222222222, \"#7201a8\"], [0.3333333333333333, \"#9c179e\"], [0.4444444444444444, \"#bd3786\"], [0.5555555555555556, \"#d8576b\"], [0.6666666666666666, \"#ed7953\"], [0.7777777777777778, \"#fb9f3a\"], [0.8888888888888888, \"#fdca26\"], [1.0, \"#f0f921\"]], \"type\": \"heatmapgl\"}], \"histogram\": [{\"marker\": {\"colorbar\": {\"outlinewidth\": 0, \"ticks\": \"\"}}, \"type\": \"histogram\"}], \"histogram2d\": [{\"colorbar\": {\"outlinewidth\": 0, \"ticks\": \"\"}, \"colorscale\": [[0.0, \"#0d0887\"], [0.1111111111111111, \"#46039f\"], [0.2222222222222222, \"#7201a8\"], [0.3333333333333333, \"#9c179e\"], [0.4444444444444444, \"#bd3786\"], [0.5555555555555556, \"#d8576b\"], [0.6666666666666666, \"#ed7953\"], [0.7777777777777778, \"#fb9f3a\"], [0.8888888888888888, \"#fdca26\"], [1.0, \"#f0f921\"]], \"type\": \"histogram2d\"}], \"histogram2dcontour\": [{\"colorbar\": {\"outlinewidth\": 0, \"ticks\": \"\"}, \"colorscale\": [[0.0, \"#0d0887\"], [0.1111111111111111, \"#46039f\"], [0.2222222222222222, \"#7201a8\"], [0.3333333333333333, \"#9c179e\"], [0.4444444444444444, \"#bd3786\"], [0.5555555555555556, \"#d8576b\"], [0.6666666666666666, \"#ed7953\"], [0.7777777777777778, \"#fb9f3a\"], [0.8888888888888888, \"#fdca26\"], [1.0, \"#f0f921\"]], \"type\": \"histogram2dcontour\"}], \"mesh3d\": [{\"colorbar\": {\"outlinewidth\": 0, \"ticks\": \"\"}, \"type\": \"mesh3d\"}], \"parcoords\": [{\"line\": {\"colorbar\": {\"outlinewidth\": 0, \"ticks\": \"\"}}, \"type\": \"parcoords\"}], \"pie\": [{\"automargin\": true, \"type\": \"pie\"}], \"scatter\": [{\"marker\": {\"colorbar\": {\"outlinewidth\": 0, \"ticks\": \"\"}}, \"type\": \"scatter\"}], \"scatter3d\": [{\"line\": {\"colorbar\": {\"outlinewidth\": 0, \"ticks\": \"\"}}, \"marker\": {\"colorbar\": {\"outlinewidth\": 0, \"ticks\": \"\"}}, \"type\": \"scatter3d\"}], \"scattercarpet\": [{\"marker\": {\"colorbar\": {\"outlinewidth\": 0, \"ticks\": \"\"}}, \"type\": \"scattercarpet\"}], \"scattergeo\": [{\"marker\": {\"colorbar\": {\"outlinewidth\": 0, \"ticks\": \"\"}}, \"type\": \"scattergeo\"}], \"scattergl\": [{\"marker\": {\"colorbar\": {\"outlinewidth\": 0, \"ticks\": \"\"}}, \"type\": \"scattergl\"}], \"scattermapbox\": [{\"marker\": {\"colorbar\": {\"outlinewidth\": 0, \"ticks\": \"\"}}, \"type\": \"scattermapbox\"}], \"scatterpolar\": [{\"marker\": {\"colorbar\": {\"outlinewidth\": 0, \"ticks\": \"\"}}, \"type\": \"scatterpolar\"}], \"scatterpolargl\": [{\"marker\": {\"colorbar\": {\"outlinewidth\": 0, \"ticks\": \"\"}}, \"type\": \"scatterpolargl\"}], \"scatterternary\": [{\"marker\": {\"colorbar\": {\"outlinewidth\": 0, \"ticks\": \"\"}}, \"type\": \"scatterternary\"}], \"surface\": [{\"colorbar\": {\"outlinewidth\": 0, \"ticks\": \"\"}, \"colorscale\": [[0.0, \"#0d0887\"], [0.1111111111111111, \"#46039f\"], [0.2222222222222222, \"#7201a8\"], [0.3333333333333333, \"#9c179e\"], [0.4444444444444444, \"#bd3786\"], [0.5555555555555556, \"#d8576b\"], [0.6666666666666666, \"#ed7953\"], [0.7777777777777778, \"#fb9f3a\"], [0.8888888888888888, \"#fdca26\"], [1.0, \"#f0f921\"]], \"type\": \"surface\"}], \"table\": [{\"cells\": {\"fill\": {\"color\": \"#EBF0F8\"}, \"line\": {\"color\": \"white\"}}, \"header\": {\"fill\": {\"color\": \"#C8D4E3\"}, \"line\": {\"color\": \"white\"}}, \"type\": \"table\"}]}, \"layout\": {\"annotationdefaults\": {\"arrowcolor\": \"#2a3f5f\", \"arrowhead\": 0, \"arrowwidth\": 1}, \"coloraxis\": {\"colorbar\": {\"outlinewidth\": 0, \"ticks\": \"\"}}, \"colorscale\": {\"diverging\": [[0, \"#8e0152\"], [0.1, \"#c51b7d\"], [0.2, \"#de77ae\"], [0.3, \"#f1b6da\"], [0.4, \"#fde0ef\"], [0.5, \"#f7f7f7\"], [0.6, \"#e6f5d0\"], [0.7, \"#b8e186\"], [0.8, \"#7fbc41\"], [0.9, \"#4d9221\"], [1, \"#276419\"]], \"sequential\": [[0.0, \"#0d0887\"], [0.1111111111111111, \"#46039f\"], [0.2222222222222222, \"#7201a8\"], [0.3333333333333333, \"#9c179e\"], [0.4444444444444444, \"#bd3786\"], [0.5555555555555556, \"#d8576b\"], [0.6666666666666666, \"#ed7953\"], [0.7777777777777778, \"#fb9f3a\"], [0.8888888888888888, \"#fdca26\"], [1.0, \"#f0f921\"]], \"sequentialminus\": [[0.0, \"#0d0887\"], [0.1111111111111111, \"#46039f\"], [0.2222222222222222, \"#7201a8\"], [0.3333333333333333, \"#9c179e\"], [0.4444444444444444, \"#bd3786\"], [0.5555555555555556, \"#d8576b\"], [0.6666666666666666, \"#ed7953\"], [0.7777777777777778, \"#fb9f3a\"], [0.8888888888888888, \"#fdca26\"], [1.0, \"#f0f921\"]]}, \"colorway\": [\"#636efa\", \"#EF553B\", \"#00cc96\", \"#ab63fa\", \"#FFA15A\", \"#19d3f3\", \"#FF6692\", \"#B6E880\", \"#FF97FF\", \"#FECB52\"], \"font\": {\"color\": \"#2a3f5f\"}, \"geo\": {\"bgcolor\": \"white\", \"lakecolor\": \"white\", \"landcolor\": \"#E5ECF6\", \"showlakes\": true, \"showland\": true, \"subunitcolor\": \"white\"}, \"hoverlabel\": {\"align\": \"left\"}, \"hovermode\": \"closest\", \"mapbox\": {\"style\": \"light\"}, \"paper_bgcolor\": \"white\", \"plot_bgcolor\": \"#E5ECF6\", \"polar\": {\"angularaxis\": {\"gridcolor\": \"white\", \"linecolor\": \"white\", \"ticks\": \"\"}, \"bgcolor\": \"#E5ECF6\", \"radialaxis\": {\"gridcolor\": \"white\", \"linecolor\": \"white\", \"ticks\": \"\"}}, \"scene\": {\"xaxis\": {\"backgroundcolor\": \"#E5ECF6\", \"gridcolor\": \"white\", \"gridwidth\": 2, \"linecolor\": \"white\", \"showbackground\": true, \"ticks\": \"\", \"zerolinecolor\": \"white\"}, \"yaxis\": {\"backgroundcolor\": \"#E5ECF6\", \"gridcolor\": \"white\", \"gridwidth\": 2, \"linecolor\": \"white\", \"showbackground\": true, \"ticks\": \"\", \"zerolinecolor\": \"white\"}, \"zaxis\": {\"backgroundcolor\": \"#E5ECF6\", \"gridcolor\": \"white\", \"gridwidth\": 2, \"linecolor\": \"white\", \"showbackground\": true, \"ticks\": \"\", \"zerolinecolor\": \"white\"}}, \"shapedefaults\": {\"line\": {\"color\": \"#2a3f5f\"}}, \"ternary\": {\"aaxis\": {\"gridcolor\": \"white\", \"linecolor\": \"white\", \"ticks\": \"\"}, \"baxis\": {\"gridcolor\": \"white\", \"linecolor\": \"white\", \"ticks\": \"\"}, \"bgcolor\": \"#E5ECF6\", \"caxis\": {\"gridcolor\": \"white\", \"linecolor\": \"white\", \"ticks\": \"\"}}, \"title\": {\"x\": 0.05}, \"xaxis\": {\"automargin\": true, \"gridcolor\": \"white\", \"linecolor\": \"white\", \"ticks\": \"\", \"title\": {\"standoff\": 15}, \"zerolinecolor\": \"white\", \"zerolinewidth\": 2}, \"yaxis\": {\"automargin\": true, \"gridcolor\": \"white\", \"linecolor\": \"white\", \"ticks\": \"\", \"title\": {\"standoff\": 15}, \"zerolinecolor\": \"white\", \"zerolinewidth\": 2}}}, \"width\": 1080, \"xaxis\": {\"anchor\": \"y\", \"domain\": [0.0, 0.45454545454545453], \"mirror\": \"ticks\", \"nticks\": 6, \"range\": [0.0, 92.0], \"showgrid\": false, \"showline\": true, \"side\": \"bottom\", \"tickfont\": {\"size\": 10.0}, \"ticks\": \"inside\", \"type\": \"linear\", \"zeroline\": false}, \"xaxis2\": {\"anchor\": \"y2\", \"domain\": [0.5454545454545454, 1.0], \"mirror\": \"ticks\", \"nticks\": 9, \"range\": [-3.92, 3.92], \"showgrid\": false, \"showline\": true, \"side\": \"bottom\", \"tickfont\": {\"size\": 10.0}, \"ticks\": \"inside\", \"type\": \"linear\", \"zeroline\": false}, \"xaxis3\": {\"anchor\": \"y3\", \"domain\": [0.0, 0.45454545454545453], \"mirror\": \"ticks\", \"nticks\": 7, \"range\": [-2.395161542373372, 2.395161542373373], \"showgrid\": false, \"showline\": true, \"side\": \"bottom\", \"tickfont\": {\"size\": 10.0}, \"ticks\": \"inside\", \"title\": {\"font\": {\"color\": \"#000000\", \"size\": 10.0}, \"text\": \"Theoretical Quantiles\"}, \"type\": \"linear\", \"zeroline\": false}, \"xaxis4\": {\"anchor\": \"y4\", \"domain\": [0.5454545454545454, 1.0], \"mirror\": \"ticks\", \"nticks\": 8, \"range\": [-0.525, 11.025], \"showgrid\": false, \"showline\": true, \"side\": \"bottom\", \"tickfont\": {\"size\": 10.0}, \"ticks\": \"inside\", \"type\": \"linear\", \"zeroline\": false}, \"yaxis\": {\"anchor\": \"x\", \"domain\": [0.5454545454545454, 1.0], \"mirror\": \"ticks\", \"nticks\": 8, \"range\": [-3.458774080269813, 2.8949069555666047], \"showgrid\": false, \"showline\": true, \"side\": \"left\", \"tickfont\": {\"size\": 10.0}, \"ticks\": \"inside\", \"type\": \"linear\", \"zeroline\": false}, \"yaxis2\": {\"anchor\": \"x2\", \"domain\": [0.5454545454545454, 1.0], \"mirror\": \"ticks\", \"nticks\": 9, \"range\": [0.0, 0.7818683228611122], \"showgrid\": false, \"showline\": true, \"side\": \"left\", \"tickfont\": {\"size\": 10.0}, \"ticks\": \"inside\", \"type\": \"linear\", \"zeroline\": false}, \"yaxis3\": {\"anchor\": \"x3\", \"domain\": [0.0, 0.4545454545454546], \"mirror\": \"ticks\", \"nticks\": 8, \"range\": [-3.458774080269813, 2.8949069555666047], \"showgrid\": false, \"showline\": true, \"side\": \"left\", \"tickfont\": {\"size\": 10.0}, \"ticks\": \"inside\", \"title\": {\"font\": {\"color\": \"#000000\", \"size\": 10.0}, \"text\": \"Sample Quantiles\"}, \"type\": \"linear\", \"zeroline\": false}, \"yaxis4\": {\"anchor\": \"x4\", \"domain\": [0.0, 0.4545454545454546], \"mirror\": \"ticks\", \"nticks\": 9, \"range\": [-1.0, 1.0], \"showgrid\": false, \"showline\": true, \"side\": \"left\", \"tickfont\": {\"size\": 10.0}, \"ticks\": \"inside\", \"type\": \"linear\", \"zeroline\": false}},\n",
              "                        {\"responsive\": true}\n",
              "                    ).then(function(){\n",
              "                            \n",
              "var gd = document.getElementById('5a7d1b6c-5eb0-42bd-aaa9-0999f5b5cb0c');\n",
              "var x = new MutationObserver(function (mutations, observer) {{\n",
              "        var display = window.getComputedStyle(gd).display;\n",
              "        if (!display || display === 'none') {{\n",
              "            console.log([gd, 'removed!']);\n",
              "            Plotly.purge(gd);\n",
              "            observer.disconnect();\n",
              "        }}\n",
              "}});\n",
              "\n",
              "// Listen for the removal of the full notebook cells\n",
              "var notebookContainer = gd.closest('#notebook-container');\n",
              "if (notebookContainer) {{\n",
              "    x.observe(notebookContainer, {childList: true});\n",
              "}}\n",
              "\n",
              "// Listen for the clearing of the current output cell\n",
              "var outputEl = gd.closest('.output');\n",
              "if (outputEl) {{\n",
              "    x.observe(outputEl, {childList: true});\n",
              "}}\n",
              "\n",
              "                        })\n",
              "                };\n",
              "                \n",
              "            </script>\n",
              "        </div>\n",
              "</body>\n",
              "</html>"
            ]
          },
          "metadata": {
            "tags": []
          }
        }
      ]
    },
    {
      "cell_type": "code",
      "metadata": {
        "id": "oLUfGE_ZMh8y",
        "outputId": "28fbc31c-a40b-4548-a313-8154cb07ff7c",
        "colab": {
          "base_uri": "https://localhost:8080/",
          "height": 235
        }
      },
      "source": [
        "mod.get_forecast(6).conf_int()"
      ],
      "execution_count": 65,
      "outputs": [
        {
          "output_type": "execute_result",
          "data": {
            "text/html": [
              "<div>\n",
              "<style scoped>\n",
              "    .dataframe tbody tr th:only-of-type {\n",
              "        vertical-align: middle;\n",
              "    }\n",
              "\n",
              "    .dataframe tbody tr th {\n",
              "        vertical-align: top;\n",
              "    }\n",
              "\n",
              "    .dataframe thead th {\n",
              "        text-align: right;\n",
              "    }\n",
              "</style>\n",
              "<table border=\"1\" class=\"dataframe\">\n",
              "  <thead>\n",
              "    <tr style=\"text-align: right;\">\n",
              "      <th></th>\n",
              "      <th>lower cases</th>\n",
              "      <th>upper cases</th>\n",
              "    </tr>\n",
              "  </thead>\n",
              "  <tbody>\n",
              "    <tr>\n",
              "      <th>93</th>\n",
              "      <td>-15699.988162</td>\n",
              "      <td>41292.435638</td>\n",
              "    </tr>\n",
              "    <tr>\n",
              "      <th>94</th>\n",
              "      <td>-46756.966589</td>\n",
              "      <td>16665.465272</td>\n",
              "    </tr>\n",
              "    <tr>\n",
              "      <th>95</th>\n",
              "      <td>-29071.925267</td>\n",
              "      <td>34350.506594</td>\n",
              "    </tr>\n",
              "    <tr>\n",
              "      <th>96</th>\n",
              "      <td>-33558.716445</td>\n",
              "      <td>32006.382284</td>\n",
              "    </tr>\n",
              "    <tr>\n",
              "      <th>97</th>\n",
              "      <td>-21968.040161</td>\n",
              "      <td>44097.556789</td>\n",
              "    </tr>\n",
              "    <tr>\n",
              "      <th>98</th>\n",
              "      <td>-33953.215027</td>\n",
              "      <td>32112.381924</td>\n",
              "    </tr>\n",
              "  </tbody>\n",
              "</table>\n",
              "</div>"
            ],
            "text/plain": [
              "     lower cases   upper cases\n",
              "93 -15699.988162  41292.435638\n",
              "94 -46756.966589  16665.465272\n",
              "95 -29071.925267  34350.506594\n",
              "96 -33558.716445  32006.382284\n",
              "97 -21968.040161  44097.556789\n",
              "98 -33953.215027  32112.381924"
            ]
          },
          "metadata": {
            "tags": []
          },
          "execution_count": 65
        }
      ]
    },
    {
      "cell_type": "code",
      "metadata": {
        "id": "jgJvJWAfB0r0",
        "outputId": "b6a273f6-8c63-40e2-aa35-832ac91b6659",
        "colab": {
          "base_uri": "https://localhost:8080/",
          "height": 419
        }
      },
      "source": [
        "ff"
      ],
      "execution_count": 16,
      "outputs": [
        {
          "output_type": "execute_result",
          "data": {
            "text/html": [
              "<div>\n",
              "<style scoped>\n",
              "    .dataframe tbody tr th:only-of-type {\n",
              "        vertical-align: middle;\n",
              "    }\n",
              "\n",
              "    .dataframe tbody tr th {\n",
              "        vertical-align: top;\n",
              "    }\n",
              "\n",
              "    .dataframe thead th {\n",
              "        text-align: right;\n",
              "    }\n",
              "</style>\n",
              "<table border=\"1\" class=\"dataframe\">\n",
              "  <thead>\n",
              "    <tr style=\"text-align: right;\">\n",
              "      <th></th>\n",
              "      <th>pred</th>\n",
              "    </tr>\n",
              "  </thead>\n",
              "  <tbody>\n",
              "    <tr>\n",
              "      <th>2014-10-31 00:00:00</th>\n",
              "      <td>14521.681729</td>\n",
              "    </tr>\n",
              "    <tr>\n",
              "      <th>2014-11-30 00:00:00</th>\n",
              "      <td>13623.566595</td>\n",
              "    </tr>\n",
              "    <tr>\n",
              "      <th>2014-12-31 00:00:00</th>\n",
              "      <td>15202.548170</td>\n",
              "    </tr>\n",
              "    <tr>\n",
              "      <th>2015-01-31 00:00:00</th>\n",
              "      <td>17286.710784</td>\n",
              "    </tr>\n",
              "    <tr>\n",
              "      <th>2015-02-28 00:00:00</th>\n",
              "      <td>12536.715733</td>\n",
              "    </tr>\n",
              "    <tr>\n",
              "      <th>...</th>\n",
              "      <td>...</td>\n",
              "    </tr>\n",
              "    <tr>\n",
              "      <th>90</th>\n",
              "      <td>19872.628776</td>\n",
              "    </tr>\n",
              "    <tr>\n",
              "      <th>91</th>\n",
              "      <td>40894.401143</td>\n",
              "    </tr>\n",
              "    <tr>\n",
              "      <th>92</th>\n",
              "      <td>43522.262716</td>\n",
              "    </tr>\n",
              "    <tr>\n",
              "      <th>93</th>\n",
              "      <td>23559.206916</td>\n",
              "    </tr>\n",
              "    <tr>\n",
              "      <th>94</th>\n",
              "      <td>32055.103068</td>\n",
              "    </tr>\n",
              "  </tbody>\n",
              "</table>\n",
              "<p>71 rows × 1 columns</p>\n",
              "</div>"
            ],
            "text/plain": [
              "                             pred\n",
              "2014-10-31 00:00:00  14521.681729\n",
              "2014-11-30 00:00:00  13623.566595\n",
              "2014-12-31 00:00:00  15202.548170\n",
              "2015-01-31 00:00:00  17286.710784\n",
              "2015-02-28 00:00:00  12536.715733\n",
              "...                           ...\n",
              "90                   19872.628776\n",
              "91                   40894.401143\n",
              "92                   43522.262716\n",
              "93                   23559.206916\n",
              "94                   32055.103068\n",
              "\n",
              "[71 rows x 1 columns]"
            ]
          },
          "metadata": {
            "tags": []
          },
          "execution_count": 16
        }
      ]
    },
    {
      "cell_type": "code",
      "metadata": {
        "id": "H5y9FkeXMh8u"
      },
      "source": [
        "ff = pd.DataFrame.from_dict(data=fore,orient='index',columns=[\"pred\"])\n",
        "#pre1 = inv_boxcox(mod.get_forecast(6).predicted_mean,fitted_lambda)-1\n",
        "#pre1=pd.DataFrame(pre1)\n",
        "#pre1.rename(columns={0:\"pred\"},inplace=True)\n",
        "#ff=ff.append(pre1)"
      ],
      "execution_count": 14,
      "outputs": []
    },
    {
      "cell_type": "code",
      "metadata": {
        "id": "txr3qwomMh8X",
        "outputId": "ceea6e92-225b-4022-e11e-a22b74ca228d",
        "colab": {
          "base_uri": "https://localhost:8080/",
          "height": 205
        }
      },
      "source": [
        "from scipy.stats import boxcox\n",
        "from scipy.special import inv_boxcox\n",
        "df3,fitted_lambda= boxcox(df1['Qty']+1,lmbda=None)"
      ],
      "execution_count": null,
      "outputs": [
        {
          "output_type": "error",
          "ename": "NameError",
          "evalue": "ignored",
          "traceback": [
            "\u001b[0;31m---------------------------------------------------------------------------\u001b[0m",
            "\u001b[0;31mNameError\u001b[0m                                 Traceback (most recent call last)",
            "\u001b[0;32m<ipython-input-34-fc86d63e5534>\u001b[0m in \u001b[0;36m<module>\u001b[0;34m()\u001b[0m\n\u001b[1;32m      1\u001b[0m \u001b[0;32mfrom\u001b[0m \u001b[0mscipy\u001b[0m\u001b[0;34m.\u001b[0m\u001b[0mstats\u001b[0m \u001b[0;32mimport\u001b[0m \u001b[0mboxcox\u001b[0m\u001b[0;34m\u001b[0m\u001b[0;34m\u001b[0m\u001b[0m\n\u001b[1;32m      2\u001b[0m \u001b[0;32mfrom\u001b[0m \u001b[0mscipy\u001b[0m\u001b[0;34m.\u001b[0m\u001b[0mspecial\u001b[0m \u001b[0;32mimport\u001b[0m \u001b[0minv_boxcox\u001b[0m\u001b[0;34m\u001b[0m\u001b[0;34m\u001b[0m\u001b[0m\n\u001b[0;32m----> 3\u001b[0;31m \u001b[0mdf3\u001b[0m\u001b[0;34m,\u001b[0m\u001b[0mfitted_lambda\u001b[0m\u001b[0;34m=\u001b[0m \u001b[0mboxcox\u001b[0m\u001b[0;34m(\u001b[0m\u001b[0mdf1\u001b[0m\u001b[0;34m[\u001b[0m\u001b[0;34m'Qty'\u001b[0m\u001b[0;34m]\u001b[0m\u001b[0;34m+\u001b[0m\u001b[0;36m1\u001b[0m\u001b[0;34m,\u001b[0m\u001b[0mlmbda\u001b[0m\u001b[0;34m=\u001b[0m\u001b[0;32mNone\u001b[0m\u001b[0;34m)\u001b[0m\u001b[0;34m\u001b[0m\u001b[0;34m\u001b[0m\u001b[0m\n\u001b[0m",
            "\u001b[0;31mNameError\u001b[0m: name 'df1' is not defined"
          ]
        }
      ]
    },
    {
      "cell_type": "code",
      "metadata": {
        "id": "qSa7iF9HMh8H"
      },
      "source": [
        "def evaluate_arima_model(X, arima_order,s_order):\n",
        "    splits = TimeSeriesSplit(n_splits=3)\n",
        "    error=[]\n",
        "    # make predictions\n",
        "    for train_index, test_index in splits.split(X):\n",
        "        train = X.values[train_index]\n",
        "        test = X.values[test_index]\n",
        "        model = SARIMAX(train, order=arima_order,seasonal_order=s_order)\n",
        "        model_fit = model.fit(disp=0)\n",
        "        yhat = model_fit.predict(start=len(train), end=len(train)+len(test)-1, dynamic=False)\n",
        "        error.append(rmse(test.T[0], yhat))\n",
        "    return np.asarray(error).mean()\n",
        " \n",
        "# evaluate combinations of p, d and q values for an ARIMA model\n",
        "def evaluate_models(dataset, p_values, d_values, q_values, m):\n",
        "    dataset = dataset.astype('float32')\n",
        "    best_score, best_cfg = float(\"inf\"), None\n",
        "    for p in p_values:\n",
        "        for d in d_values:\n",
        "            for q in q_values:\n",
        "                for P in p_values:\n",
        "                    for D in d_values:\n",
        "                        for Q in q_values:\n",
        "                            order = (p,d,q)\n",
        "                            s_order = (P,D,Q,m)\n",
        "                            try:\n",
        "                                mse = evaluate_arima_model(dataset, order,s_order)\n",
        "                                if mse < best_score:\n",
        "                                    best_score, best_cfg = mse, (order,s_order)\n",
        "                                print('SARIMA%sx%s RMSE=%.3f' % (order,s_order,mse))\n",
        "                            except:\n",
        "                                continue\n",
        "    print('Best SARIMA %s RMSE=%.3f' % (best_cfg, best_score))"
      ],
      "execution_count": null,
      "outputs": []
    },
    {
      "cell_type": "code",
      "metadata": {
        "collapsed": true,
        "jupyter": {
          "outputs_hidden": true
        },
        "id": "bTPPRkBDMh8P",
        "outputId": "c0b1e770-7a12-423f-f8c1-6996c6943ffb"
      },
      "source": [
        "p_values = [0,1,2,3,4]\n",
        "d_values = range(0, 2)\n",
        "q_values = range(0, 4)\n",
        "evaluate_models(df1, p_values, d_values, q_values,12)"
      ],
      "execution_count": null,
      "outputs": [
        {
          "output_type": "stream",
          "text": [
            "SARIMA(0, 0, 0)x(0, 0, 0, 12) RMSE=1716.003\n",
            "SARIMA(0, 0, 0)x(0, 0, 1, 12) RMSE=1554.912\n",
            "SARIMA(0, 0, 0)x(0, 0, 2, 12) RMSE=1437.645\n",
            "SARIMA(0, 0, 0)x(0, 0, 3, 12) RMSE=1374.687\n",
            "SARIMA(0, 0, 0)x(0, 1, 0, 12) RMSE=1177.831\n",
            "SARIMA(0, 0, 0)x(0, 1, 1, 12) RMSE=1152.103\n",
            "SARIMA(0, 0, 0)x(0, 1, 2, 12) RMSE=1182.464\n",
            "SARIMA(0, 0, 0)x(0, 1, 3, 12) RMSE=1179.829\n",
            "SARIMA(0, 0, 0)x(1, 0, 0, 12) RMSE=1241.914\n",
            "SARIMA(0, 0, 0)x(1, 0, 1, 12) RMSE=1274.391\n",
            "SARIMA(0, 0, 0)x(1, 0, 2, 12) RMSE=1312.642\n",
            "SARIMA(0, 0, 0)x(1, 0, 3, 12) RMSE=1308.297\n",
            "SARIMA(0, 0, 0)x(1, 1, 0, 12) RMSE=1181.554\n",
            "SARIMA(0, 0, 0)x(1, 1, 1, 12) RMSE=1197.323\n",
            "SARIMA(0, 0, 0)x(1, 1, 2, 12) RMSE=1199.893\n",
            "SARIMA(0, 0, 0)x(1, 1, 3, 12) RMSE=1179.862\n",
            "SARIMA(0, 0, 0)x(2, 0, 0, 12) RMSE=1341.675\n",
            "SARIMA(0, 0, 0)x(2, 0, 1, 12) RMSE=1317.626\n",
            "SARIMA(0, 0, 0)x(2, 0, 2, 12) RMSE=1327.595\n",
            "SARIMA(0, 0, 0)x(2, 0, 3, 12) RMSE=1325.177\n",
            "SARIMA(0, 0, 0)x(2, 1, 0, 12) RMSE=1192.402\n",
            "SARIMA(0, 0, 0)x(2, 1, 1, 12) RMSE=1184.396\n",
            "SARIMA(0, 0, 0)x(2, 1, 2, 12) RMSE=1193.890\n",
            "SARIMA(0, 0, 0)x(2, 1, 3, 12) RMSE=1187.288\n",
            "SARIMA(0, 0, 0)x(3, 0, 0, 12) RMSE=1336.441\n",
            "SARIMA(0, 0, 0)x(3, 0, 1, 12) RMSE=1316.053\n",
            "SARIMA(0, 0, 0)x(3, 0, 2, 12) RMSE=1325.511\n",
            "SARIMA(0, 0, 0)x(3, 0, 3, 12) RMSE=1319.261\n",
            "SARIMA(0, 0, 0)x(3, 1, 0, 12) RMSE=1190.112\n",
            "SARIMA(0, 0, 0)x(3, 1, 1, 12) RMSE=1186.491\n",
            "SARIMA(0, 0, 0)x(3, 1, 2, 12) RMSE=1184.977\n",
            "SARIMA(0, 0, 0)x(3, 1, 3, 12) RMSE=1192.787\n",
            "SARIMA(0, 0, 0)x(4, 0, 0, 12) RMSE=1318.575\n",
            "SARIMA(0, 0, 0)x(4, 0, 1, 12) RMSE=1315.740\n",
            "SARIMA(0, 0, 0)x(4, 0, 2, 12) RMSE=1318.919\n",
            "SARIMA(0, 0, 0)x(4, 0, 3, 12) RMSE=1316.773\n",
            "SARIMA(0, 0, 0)x(4, 1, 0, 12) RMSE=1189.137\n",
            "SARIMA(0, 0, 0)x(4, 1, 1, 12) RMSE=1190.255\n",
            "SARIMA(0, 0, 0)x(4, 1, 2, 12) RMSE=1195.563\n",
            "SARIMA(0, 0, 0)x(4, 1, 3, 12) RMSE=1181.864\n",
            "SARIMA(0, 0, 1)x(0, 0, 0, 12) RMSE=1721.961\n",
            "SARIMA(0, 0, 1)x(0, 0, 1, 12) RMSE=1616.947\n",
            "SARIMA(0, 0, 1)x(0, 0, 2, 12) RMSE=1498.164\n",
            "SARIMA(0, 0, 1)x(0, 0, 3, 12) RMSE=1388.356\n",
            "SARIMA(0, 0, 1)x(0, 1, 0, 12) RMSE=1175.561\n",
            "SARIMA(0, 0, 1)x(0, 1, 1, 12) RMSE=1143.423\n",
            "SARIMA(0, 0, 1)x(0, 1, 2, 12) RMSE=1176.175\n",
            "SARIMA(0, 0, 1)x(0, 1, 3, 12) RMSE=1176.209\n",
            "SARIMA(0, 0, 1)x(1, 0, 0, 12) RMSE=1347.772\n",
            "SARIMA(0, 0, 1)x(1, 0, 1, 12) RMSE=1292.469\n",
            "SARIMA(0, 0, 1)x(1, 0, 2, 12) RMSE=1362.124\n",
            "SARIMA(0, 0, 1)x(1, 0, 3, 12) RMSE=1290.434\n",
            "SARIMA(0, 0, 1)x(1, 1, 0, 12) RMSE=1177.716\n",
            "SARIMA(0, 0, 1)x(1, 1, 1, 12) RMSE=1194.619\n",
            "SARIMA(0, 0, 1)x(1, 1, 2, 12) RMSE=1180.339\n",
            "SARIMA(0, 0, 1)x(1, 1, 3, 12) RMSE=1173.629\n",
            "SARIMA(0, 0, 1)x(2, 0, 0, 12) RMSE=1326.310\n",
            "SARIMA(0, 0, 1)x(2, 0, 1, 12) RMSE=1346.621\n",
            "SARIMA(0, 0, 1)x(2, 0, 2, 12) RMSE=1268.590\n",
            "SARIMA(0, 0, 1)x(2, 0, 3, 12) RMSE=1345.659\n",
            "SARIMA(0, 0, 1)x(2, 1, 0, 12) RMSE=1192.478\n",
            "SARIMA(0, 0, 1)x(2, 1, 1, 12) RMSE=1179.206\n",
            "SARIMA(0, 0, 1)x(2, 1, 2, 12) RMSE=1189.157\n",
            "SARIMA(0, 0, 1)x(2, 1, 3, 12) RMSE=1186.909\n",
            "SARIMA(0, 0, 1)x(3, 0, 0, 12) RMSE=1306.239\n",
            "SARIMA(0, 0, 1)x(3, 0, 1, 12) RMSE=1355.810\n",
            "SARIMA(0, 0, 1)x(3, 0, 2, 12) RMSE=1326.335\n",
            "SARIMA(0, 0, 1)x(3, 1, 0, 12) RMSE=1187.780\n",
            "SARIMA(0, 0, 1)x(3, 1, 1, 12) RMSE=1191.983\n",
            "SARIMA(0, 0, 1)x(3, 1, 2, 12) RMSE=1178.432\n",
            "SARIMA(0, 0, 1)x(3, 1, 3, 12) RMSE=1172.770\n",
            "SARIMA(0, 0, 1)x(4, 0, 0, 12) RMSE=1300.243\n",
            "SARIMA(0, 0, 1)x(4, 0, 1, 12) RMSE=1358.638\n",
            "SARIMA(0, 0, 1)x(4, 1, 0, 12) RMSE=1186.535\n",
            "SARIMA(0, 0, 1)x(4, 1, 1, 12) RMSE=1187.241\n",
            "SARIMA(0, 0, 1)x(4, 1, 2, 12) RMSE=1189.351\n",
            "SARIMA(0, 0, 1)x(4, 1, 3, 12) RMSE=1184.087\n",
            "SARIMA(0, 0, 2)x(0, 0, 0, 12) RMSE=1691.363\n",
            "SARIMA(0, 0, 2)x(0, 0, 1, 12) RMSE=1590.711\n",
            "SARIMA(0, 0, 2)x(0, 0, 2, 12) RMSE=1476.357\n",
            "SARIMA(0, 0, 2)x(0, 0, 3, 12) RMSE=1448.355\n",
            "SARIMA(0, 0, 2)x(0, 1, 0, 12) RMSE=1202.166\n",
            "SARIMA(0, 0, 2)x(0, 1, 1, 12) RMSE=1147.118\n",
            "SARIMA(0, 0, 2)x(0, 1, 2, 12) RMSE=1164.594\n",
            "SARIMA(0, 0, 2)x(0, 1, 3, 12) RMSE=1164.088\n",
            "SARIMA(0, 0, 2)x(1, 0, 0, 12) RMSE=1344.898\n",
            "SARIMA(0, 0, 2)x(1, 0, 1, 12) RMSE=1300.047\n",
            "SARIMA(0, 0, 2)x(1, 0, 2, 12) RMSE=1334.629\n",
            "SARIMA(0, 0, 2)x(1, 0, 3, 12) RMSE=1411.713\n",
            "SARIMA(0, 0, 2)x(1, 1, 0, 12) RMSE=1223.034\n",
            "SARIMA(0, 0, 2)x(1, 1, 1, 12) RMSE=1184.374\n",
            "SARIMA(0, 0, 2)x(1, 1, 2, 12) RMSE=1175.028\n",
            "SARIMA(0, 0, 2)x(1, 1, 3, 12) RMSE=1193.163\n",
            "SARIMA(0, 0, 2)x(2, 0, 0, 12) RMSE=1423.720\n",
            "SARIMA(0, 0, 2)x(2, 0, 1, 12) RMSE=1291.729\n",
            "SARIMA(0, 0, 2)x(2, 0, 2, 12) RMSE=1420.923\n",
            "SARIMA(0, 0, 2)x(2, 1, 0, 12) RMSE=1219.170\n",
            "SARIMA(0, 0, 2)x(2, 1, 1, 12) RMSE=1184.622\n",
            "SARIMA(0, 0, 2)x(2, 1, 2, 12) RMSE=1225.659\n",
            "SARIMA(0, 0, 2)x(2, 1, 3, 12) RMSE=1152.443\n",
            "SARIMA(0, 0, 2)x(3, 0, 0, 12) RMSE=1418.224\n",
            "SARIMA(0, 0, 2)x(3, 0, 1, 12) RMSE=1406.500\n",
            "SARIMA(0, 0, 2)x(3, 0, 2, 12) RMSE=1411.541\n",
            "SARIMA(0, 0, 2)x(3, 1, 0, 12) RMSE=1218.036\n",
            "SARIMA(0, 0, 2)x(3, 1, 1, 12) RMSE=1188.516\n",
            "SARIMA(0, 0, 2)x(3, 1, 2, 12) RMSE=1177.195\n",
            "SARIMA(0, 0, 2)x(3, 1, 3, 12) RMSE=1188.794\n",
            "SARIMA(0, 0, 2)x(4, 0, 0, 12) RMSE=1420.445\n",
            "SARIMA(0, 0, 2)x(4, 0, 1, 12) RMSE=1402.759\n",
            "SARIMA(0, 0, 2)x(4, 0, 3, 12) RMSE=1413.681\n",
            "SARIMA(0, 0, 2)x(4, 1, 0, 12) RMSE=1211.117\n",
            "SARIMA(0, 0, 2)x(4, 1, 1, 12) RMSE=1190.607\n",
            "SARIMA(0, 0, 2)x(4, 1, 2, 12) RMSE=1182.423\n",
            "SARIMA(0, 0, 2)x(4, 1, 3, 12) RMSE=1207.066\n",
            "SARIMA(0, 0, 3)x(0, 0, 0, 12) RMSE=1684.129\n",
            "SARIMA(0, 0, 3)x(0, 0, 1, 12) RMSE=1619.301\n",
            "SARIMA(0, 0, 3)x(0, 0, 2, 12) RMSE=1473.473\n",
            "SARIMA(0, 0, 3)x(0, 0, 3, 12) RMSE=1440.313\n",
            "SARIMA(0, 0, 3)x(0, 1, 0, 12) RMSE=nan\n",
            "SARIMA(0, 0, 3)x(0, 1, 1, 12) RMSE=nan\n",
            "SARIMA(0, 0, 3)x(0, 1, 2, 12) RMSE=nan\n",
            "SARIMA(0, 0, 3)x(0, 1, 3, 12) RMSE=nan\n",
            "SARIMA(0, 0, 3)x(1, 0, 0, 12) RMSE=1455.885\n",
            "SARIMA(0, 0, 3)x(1, 0, 1, 12) RMSE=1314.275\n",
            "SARIMA(0, 0, 3)x(1, 0, 2, 12) RMSE=1405.168\n",
            "SARIMA(0, 0, 3)x(1, 0, 3, 12) RMSE=1413.995\n",
            "SARIMA(0, 0, 3)x(2, 0, 0, 12) RMSE=1341.422\n",
            "SARIMA(0, 0, 3)x(2, 0, 1, 12) RMSE=1330.703\n",
            "SARIMA(0, 0, 3)x(2, 0, 3, 12) RMSE=1403.942\n",
            "SARIMA(0, 0, 3)x(3, 0, 0, 12) RMSE=1340.984\n",
            "SARIMA(0, 0, 3)x(3, 0, 1, 12) RMSE=1353.229\n",
            "SARIMA(0, 0, 3)x(3, 0, 3, 12) RMSE=1454.456\n",
            "SARIMA(0, 0, 3)x(4, 0, 0, 12) RMSE=1382.651\n",
            "SARIMA(0, 0, 3)x(4, 0, 1, 12) RMSE=1400.200\n",
            "SARIMA(0, 0, 3)x(4, 0, 2, 12) RMSE=1335.649\n",
            "SARIMA(0, 1, 0)x(0, 0, 0, 12) RMSE=1452.097\n",
            "SARIMA(0, 1, 0)x(0, 0, 1, 12) RMSE=1449.730\n",
            "SARIMA(0, 1, 0)x(0, 0, 2, 12) RMSE=1450.755\n",
            "SARIMA(0, 1, 0)x(0, 0, 3, 12) RMSE=1430.507\n",
            "SARIMA(0, 1, 0)x(0, 1, 0, 12) RMSE=2001.637\n",
            "SARIMA(0, 1, 0)x(0, 1, 1, 12) RMSE=1608.526\n",
            "SARIMA(0, 1, 0)x(0, 1, 2, 12) RMSE=1523.994\n",
            "SARIMA(0, 1, 0)x(0, 1, 3, 12) RMSE=1462.658\n",
            "SARIMA(0, 1, 0)x(1, 0, 0, 12) RMSE=1447.918\n",
            "SARIMA(0, 1, 0)x(1, 0, 1, 12) RMSE=1472.311\n",
            "SARIMA(0, 1, 0)x(1, 0, 2, 12) RMSE=1443.137\n",
            "SARIMA(0, 1, 0)x(1, 0, 3, 12) RMSE=1423.106\n",
            "SARIMA(0, 1, 0)x(1, 1, 0, 12) RMSE=1488.273\n",
            "SARIMA(0, 1, 0)x(1, 1, 1, 12) RMSE=1370.016\n",
            "SARIMA(0, 1, 0)x(1, 1, 2, 12) RMSE=1365.251\n",
            "SARIMA(0, 1, 0)x(1, 1, 3, 12) RMSE=1369.597\n",
            "SARIMA(0, 1, 0)x(2, 0, 0, 12) RMSE=1448.881\n",
            "SARIMA(0, 1, 0)x(2, 0, 1, 12) RMSE=1433.349\n",
            "SARIMA(0, 1, 0)x(2, 0, 2, 12) RMSE=1442.789\n",
            "SARIMA(0, 1, 0)x(2, 0, 3, 12) RMSE=1421.075\n",
            "SARIMA(0, 1, 0)x(2, 1, 0, 12) RMSE=1363.886\n",
            "SARIMA(0, 1, 0)x(2, 1, 1, 12) RMSE=1381.725\n",
            "SARIMA(0, 1, 0)x(2, 1, 2, 12) RMSE=1387.130\n",
            "SARIMA(0, 1, 0)x(2, 1, 3, 12) RMSE=1439.154\n",
            "SARIMA(0, 1, 0)x(3, 0, 0, 12) RMSE=1407.291\n",
            "SARIMA(0, 1, 0)x(3, 0, 1, 12) RMSE=1412.855\n",
            "SARIMA(0, 1, 0)x(3, 0, 2, 12) RMSE=1418.127\n",
            "SARIMA(0, 1, 0)x(3, 0, 3, 12) RMSE=1430.459\n",
            "SARIMA(0, 1, 0)x(3, 1, 0, 12) RMSE=1437.362\n",
            "SARIMA(0, 1, 0)x(3, 1, 1, 12) RMSE=1380.112\n",
            "SARIMA(0, 1, 0)x(3, 1, 2, 12) RMSE=1382.719\n",
            "SARIMA(0, 1, 0)x(3, 1, 3, 12) RMSE=1388.938\n",
            "SARIMA(0, 1, 0)x(4, 0, 0, 12) RMSE=1423.655\n",
            "SARIMA(0, 1, 0)x(4, 0, 1, 12) RMSE=1432.308\n",
            "SARIMA(0, 1, 0)x(4, 0, 2, 12) RMSE=1418.916\n",
            "SARIMA(0, 1, 0)x(4, 0, 3, 12) RMSE=1432.885\n",
            "SARIMA(0, 1, 0)x(4, 1, 0, 12) RMSE=1414.303\n",
            "SARIMA(0, 1, 0)x(4, 1, 1, 12) RMSE=1424.795\n",
            "SARIMA(0, 1, 0)x(4, 1, 2, 12) RMSE=1427.224\n",
            "SARIMA(0, 1, 1)x(0, 0, 0, 12) RMSE=1112.145\n",
            "SARIMA(0, 1, 1)x(0, 0, 1, 12) RMSE=1114.540\n",
            "SARIMA(0, 1, 1)x(0, 0, 2, 12) RMSE=1118.074\n",
            "SARIMA(0, 1, 1)x(0, 0, 3, 12) RMSE=1130.758\n",
            "SARIMA(0, 1, 1)x(0, 1, 0, 12) RMSE=1196.870\n",
            "SARIMA(0, 1, 1)x(0, 1, 1, 12) RMSE=1137.437\n",
            "SARIMA(0, 1, 1)x(0, 1, 2, 12) RMSE=1155.539\n",
            "SARIMA(0, 1, 1)x(0, 1, 3, 12) RMSE=1168.255\n",
            "SARIMA(0, 1, 1)x(1, 0, 0, 12) RMSE=1114.346\n",
            "SARIMA(0, 1, 1)x(1, 0, 1, 12) RMSE=1110.219\n",
            "SARIMA(0, 1, 1)x(1, 0, 2, 12) RMSE=1133.847\n",
            "SARIMA(0, 1, 1)x(1, 0, 3, 12) RMSE=1121.818\n",
            "SARIMA(0, 1, 1)x(1, 1, 0, 12) RMSE=1162.785\n",
            "SARIMA(0, 1, 1)x(1, 1, 1, 12) RMSE=1157.778\n",
            "SARIMA(0, 1, 1)x(1, 1, 2, 12) RMSE=1159.368\n",
            "SARIMA(0, 1, 1)x(1, 1, 3, 12) RMSE=1155.625\n",
            "SARIMA(0, 1, 1)x(2, 0, 0, 12) RMSE=1124.977\n",
            "SARIMA(0, 1, 1)x(2, 0, 1, 12) RMSE=1121.213\n",
            "SARIMA(0, 1, 1)x(2, 0, 2, 12) RMSE=1162.669\n",
            "SARIMA(0, 1, 1)x(2, 0, 3, 12) RMSE=1107.492\n",
            "SARIMA(0, 1, 1)x(2, 1, 0, 12) RMSE=1161.475\n",
            "SARIMA(0, 1, 1)x(2, 1, 1, 12) RMSE=1173.110\n",
            "SARIMA(0, 1, 1)x(2, 1, 2, 12) RMSE=1192.209\n",
            "SARIMA(0, 1, 1)x(2, 1, 3, 12) RMSE=1155.648\n",
            "SARIMA(0, 1, 1)x(3, 0, 0, 12) RMSE=1138.828\n",
            "SARIMA(0, 1, 1)x(3, 0, 1, 12) RMSE=1113.760\n",
            "SARIMA(0, 1, 1)x(3, 0, 2, 12) RMSE=1127.101\n",
            "SARIMA(0, 1, 1)x(3, 0, 3, 12) RMSE=1116.446\n",
            "SARIMA(0, 1, 1)x(3, 1, 0, 12) RMSE=1172.881\n",
            "SARIMA(0, 1, 1)x(3, 1, 1, 12) RMSE=1168.017\n",
            "SARIMA(0, 1, 1)x(3, 1, 2, 12) RMSE=1168.575\n",
            "SARIMA(0, 1, 1)x(3, 1, 3, 12) RMSE=1158.325\n",
            "SARIMA(0, 1, 1)x(4, 0, 0, 12) RMSE=1134.360\n",
            "SARIMA(0, 1, 1)x(4, 0, 1, 12) RMSE=1107.847\n",
            "SARIMA(0, 1, 1)x(4, 0, 2, 12) RMSE=1143.189\n",
            "SARIMA(0, 1, 1)x(4, 0, 3, 12) RMSE=1121.175\n",
            "SARIMA(0, 1, 1)x(4, 1, 0, 12) RMSE=1166.454\n",
            "SARIMA(0, 1, 1)x(4, 1, 1, 12) RMSE=1210.823\n",
            "SARIMA(0, 1, 1)x(4, 1, 3, 12) RMSE=1150.312\n",
            "SARIMA(0, 1, 2)x(0, 0, 0, 12) RMSE=1102.988\n",
            "SARIMA(0, 1, 2)x(0, 0, 1, 12) RMSE=1114.379\n",
            "SARIMA(0, 1, 2)x(0, 0, 2, 12) RMSE=1125.156\n",
            "SARIMA(0, 1, 2)x(0, 0, 3, 12) RMSE=1153.566\n",
            "SARIMA(0, 1, 2)x(0, 1, 0, 12) RMSE=1236.796\n",
            "SARIMA(0, 1, 2)x(0, 1, 1, 12) RMSE=1178.459\n",
            "SARIMA(0, 1, 2)x(0, 1, 2, 12) RMSE=1167.771\n",
            "SARIMA(0, 1, 2)x(0, 1, 3, 12) RMSE=1382.169\n",
            "SARIMA(0, 1, 2)x(1, 0, 0, 12) RMSE=1114.204\n",
            "SARIMA(0, 1, 2)x(1, 0, 1, 12) RMSE=1111.156\n",
            "SARIMA(0, 1, 2)x(1, 0, 2, 12) RMSE=1138.942\n",
            "SARIMA(0, 1, 2)x(1, 0, 3, 12) RMSE=1138.217\n",
            "SARIMA(0, 1, 2)x(1, 1, 0, 12) RMSE=1147.233\n",
            "SARIMA(0, 1, 2)x(1, 1, 1, 12) RMSE=1175.714\n",
            "SARIMA(0, 1, 2)x(1, 1, 2, 12) RMSE=1136.436\n",
            "SARIMA(0, 1, 2)x(1, 1, 3, 12) RMSE=1127.582\n",
            "SARIMA(0, 1, 2)x(2, 0, 0, 12) RMSE=1175.980\n",
            "SARIMA(0, 1, 2)x(2, 0, 1, 12) RMSE=1177.925\n",
            "SARIMA(0, 1, 2)x(2, 0, 2, 12) RMSE=1119.102\n",
            "SARIMA(0, 1, 2)x(2, 0, 3, 12) RMSE=1162.029\n",
            "SARIMA(0, 1, 2)x(2, 1, 0, 12) RMSE=1145.998\n",
            "SARIMA(0, 1, 2)x(2, 1, 1, 12) RMSE=1138.154\n",
            "SARIMA(0, 1, 2)x(2, 1, 2, 12) RMSE=1386.212\n",
            "SARIMA(0, 1, 2)x(2, 1, 3, 12) RMSE=1177.452\n",
            "SARIMA(0, 1, 2)x(3, 0, 0, 12) RMSE=1184.464\n",
            "SARIMA(0, 1, 2)x(3, 0, 1, 12) RMSE=1175.074\n",
            "SARIMA(0, 1, 2)x(3, 0, 2, 12) RMSE=1159.136\n",
            "SARIMA(0, 1, 2)x(3, 0, 3, 12) RMSE=1157.153\n",
            "SARIMA(0, 1, 2)x(3, 1, 0, 12) RMSE=1192.922\n",
            "SARIMA(0, 1, 2)x(3, 1, 1, 12) RMSE=1147.185\n",
            "SARIMA(0, 1, 2)x(3, 1, 2, 12) RMSE=1146.895\n",
            "SARIMA(0, 1, 2)x(3, 1, 3, 12) RMSE=1200.871\n",
            "SARIMA(0, 1, 2)x(4, 0, 0, 12) RMSE=1188.753\n",
            "SARIMA(0, 1, 2)x(4, 0, 1, 12) RMSE=1177.442\n",
            "SARIMA(0, 1, 2)x(4, 0, 2, 12) RMSE=1187.784\n"
          ],
          "name": "stdout"
        }
      ]
    },
    {
      "cell_type": "code",
      "metadata": {
        "id": "hx9njPmOMh9H"
      },
      "source": [
        "import plotly.graph_objects as go\n",
        "fig=px.line(data_frame=df2,x=df2.index,y='Qty')\n",
        "fig.add_scatter(x=cint.index,y=cint['lower y'])\n",
        "fig.add_scatter(x=cint.index,y=cint['upper y'],fill='tonexty')\n",
        "fig.add_scatter(x=ff.index,y=ff['pred'])\n",
        "#fig2=px.area(cint)\n",
        "#fig.add_trace()"
      ],
      "execution_count": null,
      "outputs": []
    },
    {
      "cell_type": "code",
      "metadata": {
        "id": "AYU-Wp4bMh9K"
      },
      "source": [
        "fig2=px.area(cint,x=cint.index,y='lower y')\n",
        "fig2.add_scatter(x=cint.index,y=cint['upper y'])"
      ],
      "execution_count": null,
      "outputs": []
    },
    {
      "cell_type": "code",
      "metadata": {
        "id": "BHU6KELnMh9k",
        "outputId": "7ef08154-bc92-4cd2-9d42-a97afc2c9d63"
      },
      "source": [
        "ndiffs(df1, alpha=0.05, test='adf', max_d=6)"
      ],
      "execution_count": null,
      "outputs": [
        {
          "output_type": "execute_result",
          "data": {
            "text/plain": [
              "1"
            ]
          },
          "metadata": {
            "tags": []
          },
          "execution_count": 6
        }
      ]
    },
    {
      "cell_type": "code",
      "metadata": {
        "id": "VlEC4EawMh9u",
        "outputId": "f417d509-caa3-4b75-b2ec-721e944a5cc4"
      },
      "source": [
        "adf_test(df2.dropna())"
      ],
      "execution_count": null,
      "outputs": [
        {
          "output_type": "stream",
          "text": [
            "Results of Dickey-Fuller Test:\n",
            "Test Statistic                -6.621722e+00\n",
            "p-value                        6.013716e-09\n",
            "#Lags Used                     4.000000e+00\n",
            "Number of Observations Used    8.600000e+01\n",
            "Critical Value (1%)           -3.508783e+00\n",
            "Critical Value (5%)           -2.895784e+00\n",
            "Critical Value (10%)          -2.585038e+00\n",
            "dtype: float64\n"
          ],
          "name": "stdout"
        }
      ]
    },
    {
      "cell_type": "code",
      "metadata": {
        "id": "I5By8e1bMh9x",
        "outputId": "11914bc5-16cd-417d-954a-a7f237735eee",
        "colab": {
          "base_uri": "https://localhost:8080/",
          "height": 391
        }
      },
      "source": [
        "#plt.figure(figsize=(15,10))\n",
        "#from plotly.plotly import plot_mpl\n",
        "hh=seasonal_decompose(x=toot,model='additive').plot()\n",
        "hh.set_size_inches(15,13)\n",
        "tls.mpl_to_plotly(hh)"
      ],
      "execution_count": 68,
      "outputs": [
        {
          "output_type": "error",
          "ename": "ValueError",
          "evalue": "ignored",
          "traceback": [
            "\u001b[0;31m---------------------------------------------------------------------------\u001b[0m",
            "\u001b[0;31mValueError\u001b[0m                                Traceback (most recent call last)",
            "\u001b[0;32m<ipython-input-68-b1240c56e0e9>\u001b[0m in \u001b[0;36m<module>\u001b[0;34m()\u001b[0m\n\u001b[1;32m      1\u001b[0m \u001b[0;31m#plt.figure(figsize=(15,10))\u001b[0m\u001b[0;34m\u001b[0m\u001b[0;34m\u001b[0m\u001b[0;34m\u001b[0m\u001b[0m\n\u001b[1;32m      2\u001b[0m \u001b[0;31m#from plotly.plotly import plot_mpl\u001b[0m\u001b[0;34m\u001b[0m\u001b[0;34m\u001b[0m\u001b[0;34m\u001b[0m\u001b[0m\n\u001b[0;32m----> 3\u001b[0;31m \u001b[0mhh\u001b[0m\u001b[0;34m=\u001b[0m\u001b[0mseasonal_decompose\u001b[0m\u001b[0;34m(\u001b[0m\u001b[0mx\u001b[0m\u001b[0;34m=\u001b[0m\u001b[0mtoot\u001b[0m\u001b[0;34m,\u001b[0m\u001b[0mmodel\u001b[0m\u001b[0;34m=\u001b[0m\u001b[0;34m'additive'\u001b[0m\u001b[0;34m)\u001b[0m\u001b[0;34m.\u001b[0m\u001b[0mplot\u001b[0m\u001b[0;34m(\u001b[0m\u001b[0;34m)\u001b[0m\u001b[0;34m\u001b[0m\u001b[0;34m\u001b[0m\u001b[0m\n\u001b[0m\u001b[1;32m      4\u001b[0m \u001b[0mhh\u001b[0m\u001b[0;34m.\u001b[0m\u001b[0mset_size_inches\u001b[0m\u001b[0;34m(\u001b[0m\u001b[0;36m15\u001b[0m\u001b[0;34m,\u001b[0m\u001b[0;36m13\u001b[0m\u001b[0;34m)\u001b[0m\u001b[0;34m\u001b[0m\u001b[0;34m\u001b[0m\u001b[0m\n\u001b[1;32m      5\u001b[0m \u001b[0mtls\u001b[0m\u001b[0;34m.\u001b[0m\u001b[0mmpl_to_plotly\u001b[0m\u001b[0;34m(\u001b[0m\u001b[0mhh\u001b[0m\u001b[0;34m)\u001b[0m\u001b[0;34m\u001b[0m\u001b[0;34m\u001b[0m\u001b[0m\n",
            "\u001b[0;32m/usr/local/lib/python3.6/dist-packages/pandas/util/_decorators.py\u001b[0m in \u001b[0;36mwrapper\u001b[0;34m(*args, **kwargs)\u001b[0m\n\u001b[1;32m    197\u001b[0m                 \u001b[0;32melse\u001b[0m\u001b[0;34m:\u001b[0m\u001b[0;34m\u001b[0m\u001b[0;34m\u001b[0m\u001b[0m\n\u001b[1;32m    198\u001b[0m                     \u001b[0mkwargs\u001b[0m\u001b[0;34m[\u001b[0m\u001b[0mnew_arg_name\u001b[0m\u001b[0;34m]\u001b[0m \u001b[0;34m=\u001b[0m \u001b[0mnew_arg_value\u001b[0m\u001b[0;34m\u001b[0m\u001b[0;34m\u001b[0m\u001b[0m\n\u001b[0;32m--> 199\u001b[0;31m             \u001b[0;32mreturn\u001b[0m \u001b[0mfunc\u001b[0m\u001b[0;34m(\u001b[0m\u001b[0;34m*\u001b[0m\u001b[0margs\u001b[0m\u001b[0;34m,\u001b[0m \u001b[0;34m**\u001b[0m\u001b[0mkwargs\u001b[0m\u001b[0;34m)\u001b[0m\u001b[0;34m\u001b[0m\u001b[0;34m\u001b[0m\u001b[0m\n\u001b[0m\u001b[1;32m    200\u001b[0m \u001b[0;34m\u001b[0m\u001b[0m\n\u001b[1;32m    201\u001b[0m         \u001b[0;32mreturn\u001b[0m \u001b[0mcast\u001b[0m\u001b[0;34m(\u001b[0m\u001b[0mF\u001b[0m\u001b[0;34m,\u001b[0m \u001b[0mwrapper\u001b[0m\u001b[0;34m)\u001b[0m\u001b[0;34m\u001b[0m\u001b[0;34m\u001b[0m\u001b[0m\n",
            "\u001b[0;32m/usr/local/lib/python3.6/dist-packages/statsmodels/tsa/seasonal.py\u001b[0m in \u001b[0;36mseasonal_decompose\u001b[0;34m(x, model, filt, period, two_sided, extrapolate_trend)\u001b[0m\n\u001b[1;32m    140\u001b[0m             \u001b[0mperiod\u001b[0m \u001b[0;34m=\u001b[0m \u001b[0mpfreq\u001b[0m\u001b[0;34m\u001b[0m\u001b[0;34m\u001b[0m\u001b[0m\n\u001b[1;32m    141\u001b[0m         \u001b[0;32melse\u001b[0m\u001b[0;34m:\u001b[0m\u001b[0;34m\u001b[0m\u001b[0;34m\u001b[0m\u001b[0m\n\u001b[0;32m--> 142\u001b[0;31m             raise ValueError(\"You must specify a period or x must be a \"\n\u001b[0m\u001b[1;32m    143\u001b[0m                              \u001b[0;34m\"pandas object with a DatetimeIndex with \"\u001b[0m\u001b[0;34m\u001b[0m\u001b[0;34m\u001b[0m\u001b[0m\n\u001b[1;32m    144\u001b[0m                              \"a freq not set to None\")\n",
            "\u001b[0;31mValueError\u001b[0m: You must specify a period or x must be a pandas object with a DatetimeIndex with a freq not set to None"
          ]
        }
      ]
    },
    {
      "cell_type": "code",
      "metadata": {
        "id": "Z9jmbfcsMh95"
      },
      "source": [
        "cf.set_config_file(offline_show_link=False)"
      ],
      "execution_count": null,
      "outputs": []
    }
  ]
}