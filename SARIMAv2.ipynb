{
  "nbformat": 4,
  "nbformat_minor": 0,
  "metadata": {
    "kernelspec": {
      "display_name": "Python 3",
      "language": "python",
      "name": "python3"
    },
    "language_info": {
      "codemirror_mode": {
        "name": "ipython",
        "version": 3
      },
      "file_extension": ".py",
      "mimetype": "text/x-python",
      "name": "python",
      "nbconvert_exporter": "python",
      "pygments_lexer": "ipython3",
      "version": "3.8.2"
    },
    "colab": {
      "name": "SARIMAv1.ipynb",
      "provenance": [],
      "include_colab_link": true
    }
  },
  "cells": [
    {
      "cell_type": "markdown",
      "metadata": {
        "id": "view-in-github",
        "colab_type": "text"
      },
      "source": [
        "<a href=\"https://colab.research.google.com/github/mswastik/forecasting/blob/main/SARIMAv2.ipynb\" target=\"_parent\"><img src=\"https://colab.research.google.com/assets/colab-badge.svg\" alt=\"Open In Colab\"/></a>"
      ]
    },
    {
      "cell_type": "code",
      "metadata": {
        "id": "iGf7Q3xDM8in",
        "outputId": "0477ed98-736d-4b34-9e60-bd05a9e198bd",
        "colab": {
          "base_uri": "https://localhost:8080/",
          "height": 737
        }
      },
      "source": [
        "!pip install pmdarima"
      ],
      "execution_count": 1,
      "outputs": [
        {
          "output_type": "stream",
          "text": [
            "Collecting pmdarima\n",
            "\u001b[?25l  Downloading https://files.pythonhosted.org/packages/be/62/725b3b6ae0e56c77534de5a8139322e7b863ca53fd5bd6bd3b7de87d0c20/pmdarima-1.7.1-cp36-cp36m-manylinux1_x86_64.whl (1.5MB)\n",
            "\u001b[K     |████████████████████████████████| 1.5MB 2.8MB/s \n",
            "\u001b[?25hCollecting statsmodels<0.12,>=0.11\n",
            "\u001b[?25l  Downloading https://files.pythonhosted.org/packages/cb/83/540fd83238a18abe6c2d280fa8e489ac5fcefa1f370f0ca1acd16ae1b860/statsmodels-0.11.1-cp36-cp36m-manylinux1_x86_64.whl (8.7MB)\n",
            "\u001b[K     |████████████████████████████████| 8.7MB 17.1MB/s \n",
            "\u001b[?25hCollecting Cython<0.29.18,>=0.29\n",
            "\u001b[?25l  Downloading https://files.pythonhosted.org/packages/e7/d7/510ddef0248f3e1e91f9cc7e31c0f35f8954d0af92c5c3fd4c853e859ebe/Cython-0.29.17-cp36-cp36m-manylinux1_x86_64.whl (2.1MB)\n",
            "\u001b[K     |████████████████████████████████| 2.1MB 47.5MB/s \n",
            "\u001b[?25hRequirement already satisfied: numpy>=1.17.3 in /usr/local/lib/python3.6/dist-packages (from pmdarima) (1.18.5)\n",
            "Requirement already satisfied: joblib>=0.11 in /usr/local/lib/python3.6/dist-packages (from pmdarima) (0.16.0)\n",
            "Requirement already satisfied: scipy>=1.3.2 in /usr/local/lib/python3.6/dist-packages (from pmdarima) (1.4.1)\n",
            "Requirement already satisfied: urllib3 in /usr/local/lib/python3.6/dist-packages (from pmdarima) (1.24.3)\n",
            "Collecting setuptools<50.0.0\n",
            "\u001b[?25l  Downloading https://files.pythonhosted.org/packages/c3/a9/5dc32465951cf4812e9e93b4ad2d314893c2fa6d5f66ce5c057af6e76d85/setuptools-49.6.0-py3-none-any.whl (803kB)\n",
            "\u001b[K     |████████████████████████████████| 808kB 45.0MB/s \n",
            "\u001b[?25hRequirement already satisfied: scikit-learn>=0.22 in /usr/local/lib/python3.6/dist-packages (from pmdarima) (0.22.2.post1)\n",
            "Requirement already satisfied: pandas>=0.19 in /usr/local/lib/python3.6/dist-packages (from pmdarima) (1.1.2)\n",
            "Requirement already satisfied: patsy>=0.5 in /usr/local/lib/python3.6/dist-packages (from statsmodels<0.12,>=0.11->pmdarima) (0.5.1)\n",
            "Requirement already satisfied: python-dateutil>=2.7.3 in /usr/local/lib/python3.6/dist-packages (from pandas>=0.19->pmdarima) (2.8.1)\n",
            "Requirement already satisfied: pytz>=2017.2 in /usr/local/lib/python3.6/dist-packages (from pandas>=0.19->pmdarima) (2018.9)\n",
            "Requirement already satisfied: six in /usr/local/lib/python3.6/dist-packages (from patsy>=0.5->statsmodels<0.12,>=0.11->pmdarima) (1.15.0)\n",
            "\u001b[31mERROR: datascience 0.10.6 has requirement folium==0.2.1, but you'll have folium 0.8.3 which is incompatible.\u001b[0m\n",
            "Installing collected packages: statsmodels, Cython, setuptools, pmdarima\n",
            "  Found existing installation: statsmodels 0.10.2\n",
            "    Uninstalling statsmodels-0.10.2:\n",
            "      Successfully uninstalled statsmodels-0.10.2\n",
            "  Found existing installation: Cython 0.29.21\n",
            "    Uninstalling Cython-0.29.21:\n",
            "      Successfully uninstalled Cython-0.29.21\n",
            "  Found existing installation: setuptools 50.3.0\n",
            "    Uninstalling setuptools-50.3.0:\n",
            "      Successfully uninstalled setuptools-50.3.0\n",
            "Successfully installed Cython-0.29.17 pmdarima-1.7.1 setuptools-49.6.0 statsmodels-0.11.1\n"
          ],
          "name": "stdout"
        },
        {
          "output_type": "display_data",
          "data": {
            "application/vnd.colab-display-data+json": {
              "pip_warning": {
                "packages": [
                  "pkg_resources"
                ]
              }
            }
          },
          "metadata": {
            "tags": []
          }
        }
      ]
    },
    {
      "cell_type": "code",
      "metadata": {
        "id": "N4AkWyqjMh78"
      },
      "source": [
        "import pmdarima as pmd\n",
        "import pandas as pd\n",
        "import statsmodels.api as sm\n",
        "from statsmodels.tsa.stattools import acf,pacf,adfuller\n",
        "from statsmodels.tsa.seasonal import seasonal_decompose\n",
        "from statsmodels.tsa.arima_model import ARIMA\n",
        "from statsmodels.tsa.statespace.sarimax import SARIMAX\n",
        "import matplotlib.pyplot as plt\n",
        "from statsmodels.graphics.tsaplots import plot_acf,plot_pacf\n",
        "from statsmodels.tools.eval_measures import rmse\n",
        "from sklearn.model_selection import TimeSeriesSplit,cross_val_score\n",
        "from sklearn.metrics import mean_squared_error\n",
        "import numpy as np\n",
        "import warnings\n",
        "import plotly.express as px\n",
        "import cufflinks as cf\n",
        "import plotly.tools as tls"
      ],
      "execution_count": 1,
      "outputs": []
    },
    {
      "cell_type": "code",
      "metadata": {
        "id": "0yFQ-v8mNRJn",
        "outputId": "9872635f-d931-4aa2-b41e-2970d1925040",
        "colab": {
          "base_uri": "https://localhost:8080/",
          "height": 53
        }
      },
      "source": [
        "!git clone -l -s https://github.com/mswastik/forecasting.git cloned-repo\n",
        "%cd cloned-repo"
      ],
      "execution_count": 2,
      "outputs": [
        {
          "output_type": "stream",
          "text": [
            "fatal: destination path 'cloned-repo' already exists and is not an empty directory.\n",
            "/content/cloned-repo\n"
          ],
          "name": "stdout"
        }
      ]
    },
    {
      "cell_type": "code",
      "metadata": {
        "id": "jxVpi3-4Mh8D"
      },
      "source": [
        "warnings.filterwarnings(\"ignore\")\n",
        "df = pd.read_excel('Forecasting1.xlsx',sheet_name='SO',index_col='del date')\n",
        "df.rename({'agg':'agg1'},axis=1,inplace=True)\n",
        "#df.drop('agg',inplace=True,axis=1)\n",
        "df1 = df.loc[df['agg1']=='Tmmthpkhti Limi mm'].copy()\n",
        "df1 = df1.groupby(by='del date').sum()\n",
        "df1 = df1.resample('M').sum()\n",
        "df1.drop(['wt','cs size'],inplace=True,axis=1)\n",
        "df1"
      ],
      "execution_count": null,
      "outputs": []
    },
    {
      "cell_type": "code",
      "metadata": {
        "id": "AQUB0mdEPIAr"
      },
      "source": [
        "df['dd']=df.index.copy()\n",
        "df['month'] = df['dd'].dt.year.astype('str')+\"-\"+df['dd'].dt.month.astype('str')\n",
        "df2=df.groupby(['month','agg1']).sum().copy()\n",
        "df2.drop(['wt','cs size'],inplace=True,axis=1)"
      ],
      "execution_count": 52,
      "outputs": []
    },
    {
      "cell_type": "code",
      "metadata": {
        "id": "4Q2NSPWp2pFm"
      },
      "source": [
        "toot=df2.loc[(slice(None),'Tmmthpkhti Limi Yih'),:]"
      ],
      "execution_count": 67,
      "outputs": []
    },
    {
      "cell_type": "code",
      "metadata": {
        "id": "uOAAImj65SeZ"
      },
      "source": [
        "toot.reset_index(level=1,inplace=True)\n",
        "toot.drop(['tonn','agg1'],axis=1,inplace=True)"
      ],
      "execution_count": 68,
      "outputs": []
    },
    {
      "cell_type": "code",
      "metadata": {
        "id": "0cXUofqd6TAO",
        "outputId": "02fb7130-708b-477a-ebda-582056abd291",
        "colab": {
          "base_uri": "https://localhost:8080/",
          "height": 450
        }
      },
      "source": [
        "toot"
      ],
      "execution_count": 69,
      "outputs": [
        {
          "output_type": "execute_result",
          "data": {
            "text/html": [
              "<div>\n",
              "<style scoped>\n",
              "    .dataframe tbody tr th:only-of-type {\n",
              "        vertical-align: middle;\n",
              "    }\n",
              "\n",
              "    .dataframe tbody tr th {\n",
              "        vertical-align: top;\n",
              "    }\n",
              "\n",
              "    .dataframe thead th {\n",
              "        text-align: right;\n",
              "    }\n",
              "</style>\n",
              "<table border=\"1\" class=\"dataframe\">\n",
              "  <thead>\n",
              "    <tr style=\"text-align: right;\">\n",
              "      <th></th>\n",
              "      <th>cases</th>\n",
              "    </tr>\n",
              "    <tr>\n",
              "      <th>month</th>\n",
              "      <th></th>\n",
              "    </tr>\n",
              "  </thead>\n",
              "  <tbody>\n",
              "    <tr>\n",
              "      <th>2012-10</th>\n",
              "      <td>5143.0</td>\n",
              "    </tr>\n",
              "    <tr>\n",
              "      <th>2012-11</th>\n",
              "      <td>8220.0</td>\n",
              "    </tr>\n",
              "    <tr>\n",
              "      <th>2012-12</th>\n",
              "      <td>5631.0</td>\n",
              "    </tr>\n",
              "    <tr>\n",
              "      <th>2013-1</th>\n",
              "      <td>20630.0</td>\n",
              "    </tr>\n",
              "    <tr>\n",
              "      <th>2013-10</th>\n",
              "      <td>10295.0</td>\n",
              "    </tr>\n",
              "    <tr>\n",
              "      <th>...</th>\n",
              "      <td>...</td>\n",
              "    </tr>\n",
              "    <tr>\n",
              "      <th>2020-5</th>\n",
              "      <td>2150.0</td>\n",
              "    </tr>\n",
              "    <tr>\n",
              "      <th>2020-6</th>\n",
              "      <td>59975.0</td>\n",
              "    </tr>\n",
              "    <tr>\n",
              "      <th>2020-7</th>\n",
              "      <td>52193.0</td>\n",
              "    </tr>\n",
              "    <tr>\n",
              "      <th>2020-8</th>\n",
              "      <td>43866.0</td>\n",
              "    </tr>\n",
              "    <tr>\n",
              "      <th>2020-9</th>\n",
              "      <td>25063.0</td>\n",
              "    </tr>\n",
              "  </tbody>\n",
              "</table>\n",
              "<p>98 rows × 1 columns</p>\n",
              "</div>"
            ],
            "text/plain": [
              "           cases\n",
              "month           \n",
              "2012-10   5143.0\n",
              "2012-11   8220.0\n",
              "2012-12   5631.0\n",
              "2013-1   20630.0\n",
              "2013-10  10295.0\n",
              "...          ...\n",
              "2020-5    2150.0\n",
              "2020-6   59975.0\n",
              "2020-7   52193.0\n",
              "2020-8   43866.0\n",
              "2020-9   25063.0\n",
              "\n",
              "[98 rows x 1 columns]"
            ]
          },
          "metadata": {
            "tags": []
          },
          "execution_count": 69
        }
      ]
    },
    {
      "cell_type": "code",
      "metadata": {
        "id": "qSa7iF9HMh8H"
      },
      "source": [
        "def evaluate_arima_model(X, arima_order,s_order):\n",
        "    splits = TimeSeriesSplit(n_splits=3)\n",
        "    error=[]\n",
        "    # make predictions\n",
        "    for train_index, test_index in splits.split(X):\n",
        "        train = X.values[train_index]\n",
        "        test = X.values[test_index]\n",
        "        model = SARIMAX(train, order=arima_order,seasonal_order=s_order)\n",
        "        model_fit = model.fit(disp=0)\n",
        "        yhat = model_fit.predict(start=len(train), end=len(train)+len(test)-1, dynamic=False)\n",
        "        error.append(rmse(test.T[0], yhat))\n",
        "    return np.asarray(error).mean()\n",
        " \n",
        "# evaluate combinations of p, d and q values for an ARIMA model\n",
        "def evaluate_models(dataset, p_values, d_values, q_values, m):\n",
        "    dataset = dataset.astype('float32')\n",
        "    best_score, best_cfg = float(\"inf\"), None\n",
        "    for p in p_values:\n",
        "        for d in d_values:\n",
        "            for q in q_values:\n",
        "                for P in p_values:\n",
        "                    for D in d_values:\n",
        "                        for Q in q_values:\n",
        "                            order = (p,d,q)\n",
        "                            s_order = (P,D,Q,m)\n",
        "                            try:\n",
        "                                mse = evaluate_arima_model(dataset, order,s_order)\n",
        "                                if mse < best_score:\n",
        "                                    best_score, best_cfg = mse, (order,s_order)\n",
        "                                print('SARIMA%sx%s RMSE=%.3f' % (order,s_order,mse))\n",
        "                            except:\n",
        "                                continue\n",
        "    print('Best SARIMA %s RMSE=%.3f' % (best_cfg, best_score))"
      ],
      "execution_count": null,
      "outputs": []
    },
    {
      "cell_type": "code",
      "metadata": {
        "id": "x0PXOJfOMh8L",
        "outputId": "e233aee1-0efa-4477-c984-ab0252c490c7"
      },
      "source": [
        "evaluate_arima_model(df1, (1,1,2),(0,0,0,12))"
      ],
      "execution_count": null,
      "outputs": [
        {
          "output_type": "execute_result",
          "data": {
            "text/plain": [
              "1157.5092213207224"
            ]
          },
          "metadata": {
            "tags": []
          },
          "execution_count": 43
        }
      ]
    },
    {
      "cell_type": "code",
      "metadata": {
        "collapsed": true,
        "jupyter": {
          "outputs_hidden": true
        },
        "id": "bTPPRkBDMh8P",
        "outputId": "c0b1e770-7a12-423f-f8c1-6996c6943ffb"
      },
      "source": [
        "p_values = [0,1,2,3,4]\n",
        "d_values = range(0, 2)\n",
        "q_values = range(0, 4)\n",
        "evaluate_models(df1, p_values, d_values, q_values,12)"
      ],
      "execution_count": null,
      "outputs": [
        {
          "output_type": "stream",
          "text": [
            "SARIMA(0, 0, 0)x(0, 0, 0, 12) RMSE=1716.003\n",
            "SARIMA(0, 0, 0)x(0, 0, 1, 12) RMSE=1554.912\n",
            "SARIMA(0, 0, 0)x(0, 0, 2, 12) RMSE=1437.645\n",
            "SARIMA(0, 0, 0)x(0, 0, 3, 12) RMSE=1374.687\n",
            "SARIMA(0, 0, 0)x(0, 1, 0, 12) RMSE=1177.831\n",
            "SARIMA(0, 0, 0)x(0, 1, 1, 12) RMSE=1152.103\n",
            "SARIMA(0, 0, 0)x(0, 1, 2, 12) RMSE=1182.464\n",
            "SARIMA(0, 0, 0)x(0, 1, 3, 12) RMSE=1179.829\n",
            "SARIMA(0, 0, 0)x(1, 0, 0, 12) RMSE=1241.914\n",
            "SARIMA(0, 0, 0)x(1, 0, 1, 12) RMSE=1274.391\n",
            "SARIMA(0, 0, 0)x(1, 0, 2, 12) RMSE=1312.642\n",
            "SARIMA(0, 0, 0)x(1, 0, 3, 12) RMSE=1308.297\n",
            "SARIMA(0, 0, 0)x(1, 1, 0, 12) RMSE=1181.554\n",
            "SARIMA(0, 0, 0)x(1, 1, 1, 12) RMSE=1197.323\n",
            "SARIMA(0, 0, 0)x(1, 1, 2, 12) RMSE=1199.893\n",
            "SARIMA(0, 0, 0)x(1, 1, 3, 12) RMSE=1179.862\n",
            "SARIMA(0, 0, 0)x(2, 0, 0, 12) RMSE=1341.675\n",
            "SARIMA(0, 0, 0)x(2, 0, 1, 12) RMSE=1317.626\n",
            "SARIMA(0, 0, 0)x(2, 0, 2, 12) RMSE=1327.595\n",
            "SARIMA(0, 0, 0)x(2, 0, 3, 12) RMSE=1325.177\n",
            "SARIMA(0, 0, 0)x(2, 1, 0, 12) RMSE=1192.402\n",
            "SARIMA(0, 0, 0)x(2, 1, 1, 12) RMSE=1184.396\n",
            "SARIMA(0, 0, 0)x(2, 1, 2, 12) RMSE=1193.890\n",
            "SARIMA(0, 0, 0)x(2, 1, 3, 12) RMSE=1187.288\n",
            "SARIMA(0, 0, 0)x(3, 0, 0, 12) RMSE=1336.441\n",
            "SARIMA(0, 0, 0)x(3, 0, 1, 12) RMSE=1316.053\n",
            "SARIMA(0, 0, 0)x(3, 0, 2, 12) RMSE=1325.511\n",
            "SARIMA(0, 0, 0)x(3, 0, 3, 12) RMSE=1319.261\n",
            "SARIMA(0, 0, 0)x(3, 1, 0, 12) RMSE=1190.112\n",
            "SARIMA(0, 0, 0)x(3, 1, 1, 12) RMSE=1186.491\n",
            "SARIMA(0, 0, 0)x(3, 1, 2, 12) RMSE=1184.977\n",
            "SARIMA(0, 0, 0)x(3, 1, 3, 12) RMSE=1192.787\n",
            "SARIMA(0, 0, 0)x(4, 0, 0, 12) RMSE=1318.575\n",
            "SARIMA(0, 0, 0)x(4, 0, 1, 12) RMSE=1315.740\n",
            "SARIMA(0, 0, 0)x(4, 0, 2, 12) RMSE=1318.919\n",
            "SARIMA(0, 0, 0)x(4, 0, 3, 12) RMSE=1316.773\n",
            "SARIMA(0, 0, 0)x(4, 1, 0, 12) RMSE=1189.137\n",
            "SARIMA(0, 0, 0)x(4, 1, 1, 12) RMSE=1190.255\n",
            "SARIMA(0, 0, 0)x(4, 1, 2, 12) RMSE=1195.563\n",
            "SARIMA(0, 0, 0)x(4, 1, 3, 12) RMSE=1181.864\n",
            "SARIMA(0, 0, 1)x(0, 0, 0, 12) RMSE=1721.961\n",
            "SARIMA(0, 0, 1)x(0, 0, 1, 12) RMSE=1616.947\n",
            "SARIMA(0, 0, 1)x(0, 0, 2, 12) RMSE=1498.164\n",
            "SARIMA(0, 0, 1)x(0, 0, 3, 12) RMSE=1388.356\n",
            "SARIMA(0, 0, 1)x(0, 1, 0, 12) RMSE=1175.561\n",
            "SARIMA(0, 0, 1)x(0, 1, 1, 12) RMSE=1143.423\n",
            "SARIMA(0, 0, 1)x(0, 1, 2, 12) RMSE=1176.175\n",
            "SARIMA(0, 0, 1)x(0, 1, 3, 12) RMSE=1176.209\n",
            "SARIMA(0, 0, 1)x(1, 0, 0, 12) RMSE=1347.772\n",
            "SARIMA(0, 0, 1)x(1, 0, 1, 12) RMSE=1292.469\n",
            "SARIMA(0, 0, 1)x(1, 0, 2, 12) RMSE=1362.124\n",
            "SARIMA(0, 0, 1)x(1, 0, 3, 12) RMSE=1290.434\n",
            "SARIMA(0, 0, 1)x(1, 1, 0, 12) RMSE=1177.716\n",
            "SARIMA(0, 0, 1)x(1, 1, 1, 12) RMSE=1194.619\n",
            "SARIMA(0, 0, 1)x(1, 1, 2, 12) RMSE=1180.339\n",
            "SARIMA(0, 0, 1)x(1, 1, 3, 12) RMSE=1173.629\n",
            "SARIMA(0, 0, 1)x(2, 0, 0, 12) RMSE=1326.310\n",
            "SARIMA(0, 0, 1)x(2, 0, 1, 12) RMSE=1346.621\n",
            "SARIMA(0, 0, 1)x(2, 0, 2, 12) RMSE=1268.590\n",
            "SARIMA(0, 0, 1)x(2, 0, 3, 12) RMSE=1345.659\n",
            "SARIMA(0, 0, 1)x(2, 1, 0, 12) RMSE=1192.478\n",
            "SARIMA(0, 0, 1)x(2, 1, 1, 12) RMSE=1179.206\n",
            "SARIMA(0, 0, 1)x(2, 1, 2, 12) RMSE=1189.157\n",
            "SARIMA(0, 0, 1)x(2, 1, 3, 12) RMSE=1186.909\n",
            "SARIMA(0, 0, 1)x(3, 0, 0, 12) RMSE=1306.239\n",
            "SARIMA(0, 0, 1)x(3, 0, 1, 12) RMSE=1355.810\n",
            "SARIMA(0, 0, 1)x(3, 0, 2, 12) RMSE=1326.335\n",
            "SARIMA(0, 0, 1)x(3, 1, 0, 12) RMSE=1187.780\n",
            "SARIMA(0, 0, 1)x(3, 1, 1, 12) RMSE=1191.983\n",
            "SARIMA(0, 0, 1)x(3, 1, 2, 12) RMSE=1178.432\n",
            "SARIMA(0, 0, 1)x(3, 1, 3, 12) RMSE=1172.770\n",
            "SARIMA(0, 0, 1)x(4, 0, 0, 12) RMSE=1300.243\n",
            "SARIMA(0, 0, 1)x(4, 0, 1, 12) RMSE=1358.638\n",
            "SARIMA(0, 0, 1)x(4, 1, 0, 12) RMSE=1186.535\n",
            "SARIMA(0, 0, 1)x(4, 1, 1, 12) RMSE=1187.241\n",
            "SARIMA(0, 0, 1)x(4, 1, 2, 12) RMSE=1189.351\n",
            "SARIMA(0, 0, 1)x(4, 1, 3, 12) RMSE=1184.087\n",
            "SARIMA(0, 0, 2)x(0, 0, 0, 12) RMSE=1691.363\n",
            "SARIMA(0, 0, 2)x(0, 0, 1, 12) RMSE=1590.711\n",
            "SARIMA(0, 0, 2)x(0, 0, 2, 12) RMSE=1476.357\n",
            "SARIMA(0, 0, 2)x(0, 0, 3, 12) RMSE=1448.355\n",
            "SARIMA(0, 0, 2)x(0, 1, 0, 12) RMSE=1202.166\n",
            "SARIMA(0, 0, 2)x(0, 1, 1, 12) RMSE=1147.118\n",
            "SARIMA(0, 0, 2)x(0, 1, 2, 12) RMSE=1164.594\n",
            "SARIMA(0, 0, 2)x(0, 1, 3, 12) RMSE=1164.088\n",
            "SARIMA(0, 0, 2)x(1, 0, 0, 12) RMSE=1344.898\n",
            "SARIMA(0, 0, 2)x(1, 0, 1, 12) RMSE=1300.047\n",
            "SARIMA(0, 0, 2)x(1, 0, 2, 12) RMSE=1334.629\n",
            "SARIMA(0, 0, 2)x(1, 0, 3, 12) RMSE=1411.713\n",
            "SARIMA(0, 0, 2)x(1, 1, 0, 12) RMSE=1223.034\n",
            "SARIMA(0, 0, 2)x(1, 1, 1, 12) RMSE=1184.374\n",
            "SARIMA(0, 0, 2)x(1, 1, 2, 12) RMSE=1175.028\n",
            "SARIMA(0, 0, 2)x(1, 1, 3, 12) RMSE=1193.163\n",
            "SARIMA(0, 0, 2)x(2, 0, 0, 12) RMSE=1423.720\n",
            "SARIMA(0, 0, 2)x(2, 0, 1, 12) RMSE=1291.729\n",
            "SARIMA(0, 0, 2)x(2, 0, 2, 12) RMSE=1420.923\n",
            "SARIMA(0, 0, 2)x(2, 1, 0, 12) RMSE=1219.170\n",
            "SARIMA(0, 0, 2)x(2, 1, 1, 12) RMSE=1184.622\n",
            "SARIMA(0, 0, 2)x(2, 1, 2, 12) RMSE=1225.659\n",
            "SARIMA(0, 0, 2)x(2, 1, 3, 12) RMSE=1152.443\n",
            "SARIMA(0, 0, 2)x(3, 0, 0, 12) RMSE=1418.224\n",
            "SARIMA(0, 0, 2)x(3, 0, 1, 12) RMSE=1406.500\n",
            "SARIMA(0, 0, 2)x(3, 0, 2, 12) RMSE=1411.541\n",
            "SARIMA(0, 0, 2)x(3, 1, 0, 12) RMSE=1218.036\n",
            "SARIMA(0, 0, 2)x(3, 1, 1, 12) RMSE=1188.516\n",
            "SARIMA(0, 0, 2)x(3, 1, 2, 12) RMSE=1177.195\n",
            "SARIMA(0, 0, 2)x(3, 1, 3, 12) RMSE=1188.794\n",
            "SARIMA(0, 0, 2)x(4, 0, 0, 12) RMSE=1420.445\n",
            "SARIMA(0, 0, 2)x(4, 0, 1, 12) RMSE=1402.759\n",
            "SARIMA(0, 0, 2)x(4, 0, 3, 12) RMSE=1413.681\n",
            "SARIMA(0, 0, 2)x(4, 1, 0, 12) RMSE=1211.117\n",
            "SARIMA(0, 0, 2)x(4, 1, 1, 12) RMSE=1190.607\n",
            "SARIMA(0, 0, 2)x(4, 1, 2, 12) RMSE=1182.423\n",
            "SARIMA(0, 0, 2)x(4, 1, 3, 12) RMSE=1207.066\n",
            "SARIMA(0, 0, 3)x(0, 0, 0, 12) RMSE=1684.129\n",
            "SARIMA(0, 0, 3)x(0, 0, 1, 12) RMSE=1619.301\n",
            "SARIMA(0, 0, 3)x(0, 0, 2, 12) RMSE=1473.473\n",
            "SARIMA(0, 0, 3)x(0, 0, 3, 12) RMSE=1440.313\n",
            "SARIMA(0, 0, 3)x(0, 1, 0, 12) RMSE=nan\n",
            "SARIMA(0, 0, 3)x(0, 1, 1, 12) RMSE=nan\n",
            "SARIMA(0, 0, 3)x(0, 1, 2, 12) RMSE=nan\n",
            "SARIMA(0, 0, 3)x(0, 1, 3, 12) RMSE=nan\n",
            "SARIMA(0, 0, 3)x(1, 0, 0, 12) RMSE=1455.885\n",
            "SARIMA(0, 0, 3)x(1, 0, 1, 12) RMSE=1314.275\n",
            "SARIMA(0, 0, 3)x(1, 0, 2, 12) RMSE=1405.168\n",
            "SARIMA(0, 0, 3)x(1, 0, 3, 12) RMSE=1413.995\n",
            "SARIMA(0, 0, 3)x(2, 0, 0, 12) RMSE=1341.422\n",
            "SARIMA(0, 0, 3)x(2, 0, 1, 12) RMSE=1330.703\n",
            "SARIMA(0, 0, 3)x(2, 0, 3, 12) RMSE=1403.942\n",
            "SARIMA(0, 0, 3)x(3, 0, 0, 12) RMSE=1340.984\n",
            "SARIMA(0, 0, 3)x(3, 0, 1, 12) RMSE=1353.229\n",
            "SARIMA(0, 0, 3)x(3, 0, 3, 12) RMSE=1454.456\n",
            "SARIMA(0, 0, 3)x(4, 0, 0, 12) RMSE=1382.651\n",
            "SARIMA(0, 0, 3)x(4, 0, 1, 12) RMSE=1400.200\n",
            "SARIMA(0, 0, 3)x(4, 0, 2, 12) RMSE=1335.649\n",
            "SARIMA(0, 1, 0)x(0, 0, 0, 12) RMSE=1452.097\n",
            "SARIMA(0, 1, 0)x(0, 0, 1, 12) RMSE=1449.730\n",
            "SARIMA(0, 1, 0)x(0, 0, 2, 12) RMSE=1450.755\n",
            "SARIMA(0, 1, 0)x(0, 0, 3, 12) RMSE=1430.507\n",
            "SARIMA(0, 1, 0)x(0, 1, 0, 12) RMSE=2001.637\n",
            "SARIMA(0, 1, 0)x(0, 1, 1, 12) RMSE=1608.526\n",
            "SARIMA(0, 1, 0)x(0, 1, 2, 12) RMSE=1523.994\n",
            "SARIMA(0, 1, 0)x(0, 1, 3, 12) RMSE=1462.658\n",
            "SARIMA(0, 1, 0)x(1, 0, 0, 12) RMSE=1447.918\n",
            "SARIMA(0, 1, 0)x(1, 0, 1, 12) RMSE=1472.311\n",
            "SARIMA(0, 1, 0)x(1, 0, 2, 12) RMSE=1443.137\n",
            "SARIMA(0, 1, 0)x(1, 0, 3, 12) RMSE=1423.106\n",
            "SARIMA(0, 1, 0)x(1, 1, 0, 12) RMSE=1488.273\n",
            "SARIMA(0, 1, 0)x(1, 1, 1, 12) RMSE=1370.016\n",
            "SARIMA(0, 1, 0)x(1, 1, 2, 12) RMSE=1365.251\n",
            "SARIMA(0, 1, 0)x(1, 1, 3, 12) RMSE=1369.597\n",
            "SARIMA(0, 1, 0)x(2, 0, 0, 12) RMSE=1448.881\n",
            "SARIMA(0, 1, 0)x(2, 0, 1, 12) RMSE=1433.349\n",
            "SARIMA(0, 1, 0)x(2, 0, 2, 12) RMSE=1442.789\n",
            "SARIMA(0, 1, 0)x(2, 0, 3, 12) RMSE=1421.075\n",
            "SARIMA(0, 1, 0)x(2, 1, 0, 12) RMSE=1363.886\n",
            "SARIMA(0, 1, 0)x(2, 1, 1, 12) RMSE=1381.725\n",
            "SARIMA(0, 1, 0)x(2, 1, 2, 12) RMSE=1387.130\n",
            "SARIMA(0, 1, 0)x(2, 1, 3, 12) RMSE=1439.154\n",
            "SARIMA(0, 1, 0)x(3, 0, 0, 12) RMSE=1407.291\n",
            "SARIMA(0, 1, 0)x(3, 0, 1, 12) RMSE=1412.855\n",
            "SARIMA(0, 1, 0)x(3, 0, 2, 12) RMSE=1418.127\n",
            "SARIMA(0, 1, 0)x(3, 0, 3, 12) RMSE=1430.459\n",
            "SARIMA(0, 1, 0)x(3, 1, 0, 12) RMSE=1437.362\n",
            "SARIMA(0, 1, 0)x(3, 1, 1, 12) RMSE=1380.112\n",
            "SARIMA(0, 1, 0)x(3, 1, 2, 12) RMSE=1382.719\n",
            "SARIMA(0, 1, 0)x(3, 1, 3, 12) RMSE=1388.938\n",
            "SARIMA(0, 1, 0)x(4, 0, 0, 12) RMSE=1423.655\n",
            "SARIMA(0, 1, 0)x(4, 0, 1, 12) RMSE=1432.308\n",
            "SARIMA(0, 1, 0)x(4, 0, 2, 12) RMSE=1418.916\n",
            "SARIMA(0, 1, 0)x(4, 0, 3, 12) RMSE=1432.885\n",
            "SARIMA(0, 1, 0)x(4, 1, 0, 12) RMSE=1414.303\n",
            "SARIMA(0, 1, 0)x(4, 1, 1, 12) RMSE=1424.795\n",
            "SARIMA(0, 1, 0)x(4, 1, 2, 12) RMSE=1427.224\n",
            "SARIMA(0, 1, 1)x(0, 0, 0, 12) RMSE=1112.145\n",
            "SARIMA(0, 1, 1)x(0, 0, 1, 12) RMSE=1114.540\n",
            "SARIMA(0, 1, 1)x(0, 0, 2, 12) RMSE=1118.074\n",
            "SARIMA(0, 1, 1)x(0, 0, 3, 12) RMSE=1130.758\n",
            "SARIMA(0, 1, 1)x(0, 1, 0, 12) RMSE=1196.870\n",
            "SARIMA(0, 1, 1)x(0, 1, 1, 12) RMSE=1137.437\n",
            "SARIMA(0, 1, 1)x(0, 1, 2, 12) RMSE=1155.539\n",
            "SARIMA(0, 1, 1)x(0, 1, 3, 12) RMSE=1168.255\n",
            "SARIMA(0, 1, 1)x(1, 0, 0, 12) RMSE=1114.346\n",
            "SARIMA(0, 1, 1)x(1, 0, 1, 12) RMSE=1110.219\n",
            "SARIMA(0, 1, 1)x(1, 0, 2, 12) RMSE=1133.847\n",
            "SARIMA(0, 1, 1)x(1, 0, 3, 12) RMSE=1121.818\n",
            "SARIMA(0, 1, 1)x(1, 1, 0, 12) RMSE=1162.785\n",
            "SARIMA(0, 1, 1)x(1, 1, 1, 12) RMSE=1157.778\n",
            "SARIMA(0, 1, 1)x(1, 1, 2, 12) RMSE=1159.368\n",
            "SARIMA(0, 1, 1)x(1, 1, 3, 12) RMSE=1155.625\n",
            "SARIMA(0, 1, 1)x(2, 0, 0, 12) RMSE=1124.977\n",
            "SARIMA(0, 1, 1)x(2, 0, 1, 12) RMSE=1121.213\n",
            "SARIMA(0, 1, 1)x(2, 0, 2, 12) RMSE=1162.669\n",
            "SARIMA(0, 1, 1)x(2, 0, 3, 12) RMSE=1107.492\n",
            "SARIMA(0, 1, 1)x(2, 1, 0, 12) RMSE=1161.475\n",
            "SARIMA(0, 1, 1)x(2, 1, 1, 12) RMSE=1173.110\n",
            "SARIMA(0, 1, 1)x(2, 1, 2, 12) RMSE=1192.209\n",
            "SARIMA(0, 1, 1)x(2, 1, 3, 12) RMSE=1155.648\n",
            "SARIMA(0, 1, 1)x(3, 0, 0, 12) RMSE=1138.828\n",
            "SARIMA(0, 1, 1)x(3, 0, 1, 12) RMSE=1113.760\n",
            "SARIMA(0, 1, 1)x(3, 0, 2, 12) RMSE=1127.101\n",
            "SARIMA(0, 1, 1)x(3, 0, 3, 12) RMSE=1116.446\n",
            "SARIMA(0, 1, 1)x(3, 1, 0, 12) RMSE=1172.881\n",
            "SARIMA(0, 1, 1)x(3, 1, 1, 12) RMSE=1168.017\n",
            "SARIMA(0, 1, 1)x(3, 1, 2, 12) RMSE=1168.575\n",
            "SARIMA(0, 1, 1)x(3, 1, 3, 12) RMSE=1158.325\n",
            "SARIMA(0, 1, 1)x(4, 0, 0, 12) RMSE=1134.360\n",
            "SARIMA(0, 1, 1)x(4, 0, 1, 12) RMSE=1107.847\n",
            "SARIMA(0, 1, 1)x(4, 0, 2, 12) RMSE=1143.189\n",
            "SARIMA(0, 1, 1)x(4, 0, 3, 12) RMSE=1121.175\n",
            "SARIMA(0, 1, 1)x(4, 1, 0, 12) RMSE=1166.454\n",
            "SARIMA(0, 1, 1)x(4, 1, 1, 12) RMSE=1210.823\n",
            "SARIMA(0, 1, 1)x(4, 1, 3, 12) RMSE=1150.312\n",
            "SARIMA(0, 1, 2)x(0, 0, 0, 12) RMSE=1102.988\n",
            "SARIMA(0, 1, 2)x(0, 0, 1, 12) RMSE=1114.379\n",
            "SARIMA(0, 1, 2)x(0, 0, 2, 12) RMSE=1125.156\n",
            "SARIMA(0, 1, 2)x(0, 0, 3, 12) RMSE=1153.566\n",
            "SARIMA(0, 1, 2)x(0, 1, 0, 12) RMSE=1236.796\n",
            "SARIMA(0, 1, 2)x(0, 1, 1, 12) RMSE=1178.459\n",
            "SARIMA(0, 1, 2)x(0, 1, 2, 12) RMSE=1167.771\n",
            "SARIMA(0, 1, 2)x(0, 1, 3, 12) RMSE=1382.169\n",
            "SARIMA(0, 1, 2)x(1, 0, 0, 12) RMSE=1114.204\n",
            "SARIMA(0, 1, 2)x(1, 0, 1, 12) RMSE=1111.156\n",
            "SARIMA(0, 1, 2)x(1, 0, 2, 12) RMSE=1138.942\n",
            "SARIMA(0, 1, 2)x(1, 0, 3, 12) RMSE=1138.217\n",
            "SARIMA(0, 1, 2)x(1, 1, 0, 12) RMSE=1147.233\n",
            "SARIMA(0, 1, 2)x(1, 1, 1, 12) RMSE=1175.714\n",
            "SARIMA(0, 1, 2)x(1, 1, 2, 12) RMSE=1136.436\n",
            "SARIMA(0, 1, 2)x(1, 1, 3, 12) RMSE=1127.582\n",
            "SARIMA(0, 1, 2)x(2, 0, 0, 12) RMSE=1175.980\n",
            "SARIMA(0, 1, 2)x(2, 0, 1, 12) RMSE=1177.925\n",
            "SARIMA(0, 1, 2)x(2, 0, 2, 12) RMSE=1119.102\n",
            "SARIMA(0, 1, 2)x(2, 0, 3, 12) RMSE=1162.029\n",
            "SARIMA(0, 1, 2)x(2, 1, 0, 12) RMSE=1145.998\n",
            "SARIMA(0, 1, 2)x(2, 1, 1, 12) RMSE=1138.154\n",
            "SARIMA(0, 1, 2)x(2, 1, 2, 12) RMSE=1386.212\n",
            "SARIMA(0, 1, 2)x(2, 1, 3, 12) RMSE=1177.452\n",
            "SARIMA(0, 1, 2)x(3, 0, 0, 12) RMSE=1184.464\n",
            "SARIMA(0, 1, 2)x(3, 0, 1, 12) RMSE=1175.074\n",
            "SARIMA(0, 1, 2)x(3, 0, 2, 12) RMSE=1159.136\n",
            "SARIMA(0, 1, 2)x(3, 0, 3, 12) RMSE=1157.153\n",
            "SARIMA(0, 1, 2)x(3, 1, 0, 12) RMSE=1192.922\n",
            "SARIMA(0, 1, 2)x(3, 1, 1, 12) RMSE=1147.185\n",
            "SARIMA(0, 1, 2)x(3, 1, 2, 12) RMSE=1146.895\n",
            "SARIMA(0, 1, 2)x(3, 1, 3, 12) RMSE=1200.871\n",
            "SARIMA(0, 1, 2)x(4, 0, 0, 12) RMSE=1188.753\n",
            "SARIMA(0, 1, 2)x(4, 0, 1, 12) RMSE=1177.442\n",
            "SARIMA(0, 1, 2)x(4, 0, 2, 12) RMSE=1187.784\n"
          ],
          "name": "stdout"
        }
      ]
    },
    {
      "cell_type": "code",
      "metadata": {
        "id": "yfL9Z4LkMh8T"
      },
      "source": [
        "df1=df1[df1['Qty']<5000]\n",
        "df1=df1.resample('M').sum()"
      ],
      "execution_count": null,
      "outputs": []
    },
    {
      "cell_type": "code",
      "metadata": {
        "id": "txr3qwomMh8X"
      },
      "source": [
        "from scipy.stats import boxcox\n",
        "from scipy.special import inv_boxcox\n",
        "df3,fitted_lambda= boxcox(df1['Qty']+1,lmbda=None)"
      ],
      "execution_count": null,
      "outputs": []
    },
    {
      "cell_type": "code",
      "metadata": {
        "id": "7H2TRqUlMh8e"
      },
      "source": [
        "df3 =pd.DataFrame(df3,index=df1.index)\n",
        "df3 = df3.resample('M').sum()"
      ],
      "execution_count": null,
      "outputs": []
    },
    {
      "cell_type": "code",
      "metadata": {
        "id": "2sy-GBsgMh8h",
        "outputId": "186e42ba-2c6c-492b-9f43-2887faa345d4"
      },
      "source": [
        "df1.info()"
      ],
      "execution_count": null,
      "outputs": [
        {
          "output_type": "stream",
          "text": [
            "<class 'pandas.core.frame.DataFrame'>\n",
            "DatetimeIndex: 92 entries, 2012-12-31 to 2020-07-31\n",
            "Freq: M\n",
            "Data columns (total 1 columns):\n",
            " #   Column  Non-Null Count  Dtype  \n",
            "---  ------  --------------  -----  \n",
            " 0   Qty     92 non-null     float64\n",
            "dtypes: float64(1)\n",
            "memory usage: 1.4 KB\n"
          ],
          "name": "stdout"
        }
      ]
    },
    {
      "cell_type": "code",
      "metadata": {
        "id": "I3oVx_K2Mh8l"
      },
      "source": [
        "n_train = 24\n",
        "n_records = len(df3)\n",
        "fore = {}\n",
        "for i in range(n_train, n_records):\n",
        "    pre=[]\n",
        "    train, test = df3[0:i], df1[i:i+1]\n",
        "    mod = SARIMAX(train, order=(1, 1, 2), seasonal_order=(0, 0, 0, 12))\n",
        "    mod=mod.fit()\n",
        "    fore.update(inv_boxcox(mod.forecast(),fitted_lambda)-1)\n",
        "    pre = inv_boxcox(mod.forecast(),fitted_lambda)-1\n",
        "    res=rmse(test,pre)\n",
        "#df1.plot(legend=True,figsize=(15,10))\n",
        "#pre.plot(legend=True)"
      ],
      "execution_count": null,
      "outputs": []
    },
    {
      "cell_type": "code",
      "metadata": {
        "id": "GKn9DJf9Mh8r",
        "outputId": "ce3dbde6-ecf5-488d-a8d8-46b5a8a0d812"
      },
      "source": [
        "print(\"Avg rmse is %d\" %res.mean())"
      ],
      "execution_count": null,
      "outputs": [
        {
          "output_type": "stream",
          "text": [
            "Avg rmse is 272\n"
          ],
          "name": "stdout"
        }
      ]
    },
    {
      "cell_type": "code",
      "metadata": {
        "id": "H5y9FkeXMh8u"
      },
      "source": [
        "ff = pd.DataFrame.from_dict(data=fore,orient='index',columns=[\"pred\"])\n",
        "pre1 = inv_boxcox(mod.get_forecast(6).predicted_mean,fitted_lambda)-1\n",
        "pre1=pd.DataFrame(pre1)\n",
        "pre1.rename(columns={0:\"pred\"},inplace=True)\n",
        "ff=ff.append(pre1)"
      ],
      "execution_count": null,
      "outputs": []
    },
    {
      "cell_type": "code",
      "metadata": {
        "id": "oLUfGE_ZMh8y",
        "outputId": "f7c03dfc-e0dd-4dcd-da79-b8adfe4c9e7a"
      },
      "source": [
        "mod.get_forecast(6).conf_int()"
      ],
      "execution_count": null,
      "outputs": [
        {
          "output_type": "execute_result",
          "data": {
            "text/html": [
              "<div>\n",
              "<style scoped>\n",
              "    .dataframe tbody tr th:only-of-type {\n",
              "        vertical-align: middle;\n",
              "    }\n",
              "\n",
              "    .dataframe tbody tr th {\n",
              "        vertical-align: top;\n",
              "    }\n",
              "\n",
              "    .dataframe thead th {\n",
              "        text-align: right;\n",
              "    }\n",
              "</style>\n",
              "<table border=\"1\" class=\"dataframe\">\n",
              "  <thead>\n",
              "    <tr style=\"text-align: right;\">\n",
              "      <th></th>\n",
              "      <th>lower y</th>\n",
              "      <th>upper y</th>\n",
              "    </tr>\n",
              "  </thead>\n",
              "  <tbody>\n",
              "    <tr>\n",
              "      <th>2020-07-31</th>\n",
              "      <td>1.469840</td>\n",
              "      <td>90.276894</td>\n",
              "    </tr>\n",
              "    <tr>\n",
              "      <th>2020-08-31</th>\n",
              "      <td>3.503274</td>\n",
              "      <td>92.404813</td>\n",
              "    </tr>\n",
              "    <tr>\n",
              "      <th>2020-09-30</th>\n",
              "      <td>2.541693</td>\n",
              "      <td>91.940885</td>\n",
              "    </tr>\n",
              "    <tr>\n",
              "      <th>2020-10-31</th>\n",
              "      <td>2.624765</td>\n",
              "      <td>92.346134</td>\n",
              "    </tr>\n",
              "    <tr>\n",
              "      <th>2020-11-30</th>\n",
              "      <td>2.353193</td>\n",
              "      <td>92.450427</td>\n",
              "    </tr>\n",
              "    <tr>\n",
              "      <th>2020-12-31</th>\n",
              "      <td>2.204288</td>\n",
              "      <td>92.656635</td>\n",
              "    </tr>\n",
              "  </tbody>\n",
              "</table>\n",
              "</div>"
            ],
            "text/plain": [
              "             lower y    upper y\n",
              "2020-07-31  1.469840  90.276894\n",
              "2020-08-31  3.503274  92.404813\n",
              "2020-09-30  2.541693  91.940885\n",
              "2020-10-31  2.624765  92.346134\n",
              "2020-11-30  2.353193  92.450427\n",
              "2020-12-31  2.204288  92.656635"
            ]
          },
          "metadata": {
            "tags": []
          },
          "execution_count": 104
        }
      ]
    },
    {
      "cell_type": "code",
      "metadata": {
        "id": "OyG8vAOHMh83"
      },
      "source": [
        "cint=inv_boxcox(mod.get_forecast(6).conf_int(),fitted_lambda)-1"
      ],
      "execution_count": null,
      "outputs": []
    },
    {
      "cell_type": "code",
      "metadata": {
        "collapsed": true,
        "jupyter": {
          "outputs_hidden": true
        },
        "id": "RAZx08nKMh86",
        "outputId": "2e81325b-d065-4b2b-f95f-e8f5f3a1ef2c"
      },
      "source": [
        "df2=df2.join(ff,how=\"outer\")"
      ],
      "execution_count": null,
      "outputs": [
        {
          "output_type": "error",
          "ename": "ValueError",
          "evalue": "columns overlap but no suffix specified: Index(['pred'], dtype='object')",
          "traceback": [
            "\u001b[0;31m---------------------------------------------------------------------------\u001b[0m",
            "\u001b[0;31mValueError\u001b[0m                                Traceback (most recent call last)",
            "\u001b[0;32m<ipython-input-58-6b30d4d10bda>\u001b[0m in \u001b[0;36m<module>\u001b[0;34m\u001b[0m\n\u001b[0;32m----> 1\u001b[0;31m \u001b[0mdf2\u001b[0m\u001b[0;34m=\u001b[0m\u001b[0mdf2\u001b[0m\u001b[0;34m.\u001b[0m\u001b[0mjoin\u001b[0m\u001b[0;34m(\u001b[0m\u001b[0mff\u001b[0m\u001b[0;34m,\u001b[0m\u001b[0mhow\u001b[0m\u001b[0;34m=\u001b[0m\u001b[0;34m\"outer\"\u001b[0m\u001b[0;34m)\u001b[0m\u001b[0;34m\u001b[0m\u001b[0;34m\u001b[0m\u001b[0m\n\u001b[0m",
            "\u001b[0;32m~/.local/lib/python3.8/site-packages/pandas/core/frame.py\u001b[0m in \u001b[0;36mjoin\u001b[0;34m(self, other, on, how, lsuffix, rsuffix, sort)\u001b[0m\n\u001b[1;32m   7206\u001b[0m         \u001b[0;36m5\u001b[0m  \u001b[0mK5\u001b[0m  \u001b[0mA5\u001b[0m  \u001b[0mNaN\u001b[0m\u001b[0;34m\u001b[0m\u001b[0;34m\u001b[0m\u001b[0m\n\u001b[1;32m   7207\u001b[0m         \"\"\"\n\u001b[0;32m-> 7208\u001b[0;31m         return self._join_compat(\n\u001b[0m\u001b[1;32m   7209\u001b[0m             \u001b[0mother\u001b[0m\u001b[0;34m,\u001b[0m \u001b[0mon\u001b[0m\u001b[0;34m=\u001b[0m\u001b[0mon\u001b[0m\u001b[0;34m,\u001b[0m \u001b[0mhow\u001b[0m\u001b[0;34m=\u001b[0m\u001b[0mhow\u001b[0m\u001b[0;34m,\u001b[0m \u001b[0mlsuffix\u001b[0m\u001b[0;34m=\u001b[0m\u001b[0mlsuffix\u001b[0m\u001b[0;34m,\u001b[0m \u001b[0mrsuffix\u001b[0m\u001b[0;34m=\u001b[0m\u001b[0mrsuffix\u001b[0m\u001b[0;34m,\u001b[0m \u001b[0msort\u001b[0m\u001b[0;34m=\u001b[0m\u001b[0msort\u001b[0m\u001b[0;34m\u001b[0m\u001b[0;34m\u001b[0m\u001b[0m\n\u001b[1;32m   7210\u001b[0m         )\n",
            "\u001b[0;32m~/.local/lib/python3.8/site-packages/pandas/core/frame.py\u001b[0m in \u001b[0;36m_join_compat\u001b[0;34m(self, other, on, how, lsuffix, rsuffix, sort)\u001b[0m\n\u001b[1;32m   7222\u001b[0m \u001b[0;34m\u001b[0m\u001b[0m\n\u001b[1;32m   7223\u001b[0m         \u001b[0;32mif\u001b[0m \u001b[0misinstance\u001b[0m\u001b[0;34m(\u001b[0m\u001b[0mother\u001b[0m\u001b[0;34m,\u001b[0m \u001b[0mDataFrame\u001b[0m\u001b[0;34m)\u001b[0m\u001b[0;34m:\u001b[0m\u001b[0;34m\u001b[0m\u001b[0;34m\u001b[0m\u001b[0m\n\u001b[0;32m-> 7224\u001b[0;31m             return merge(\n\u001b[0m\u001b[1;32m   7225\u001b[0m                 \u001b[0mself\u001b[0m\u001b[0;34m,\u001b[0m\u001b[0;34m\u001b[0m\u001b[0;34m\u001b[0m\u001b[0m\n\u001b[1;32m   7226\u001b[0m                 \u001b[0mother\u001b[0m\u001b[0;34m,\u001b[0m\u001b[0;34m\u001b[0m\u001b[0;34m\u001b[0m\u001b[0m\n",
            "\u001b[0;32m~/.local/lib/python3.8/site-packages/pandas/core/reshape/merge.py\u001b[0m in \u001b[0;36mmerge\u001b[0;34m(left, right, how, on, left_on, right_on, left_index, right_index, sort, suffixes, copy, indicator, validate)\u001b[0m\n\u001b[1;32m     86\u001b[0m         \u001b[0mvalidate\u001b[0m\u001b[0;34m=\u001b[0m\u001b[0mvalidate\u001b[0m\u001b[0;34m,\u001b[0m\u001b[0;34m\u001b[0m\u001b[0;34m\u001b[0m\u001b[0m\n\u001b[1;32m     87\u001b[0m     )\n\u001b[0;32m---> 88\u001b[0;31m     \u001b[0;32mreturn\u001b[0m \u001b[0mop\u001b[0m\u001b[0;34m.\u001b[0m\u001b[0mget_result\u001b[0m\u001b[0;34m(\u001b[0m\u001b[0;34m)\u001b[0m\u001b[0;34m\u001b[0m\u001b[0;34m\u001b[0m\u001b[0m\n\u001b[0m\u001b[1;32m     89\u001b[0m \u001b[0;34m\u001b[0m\u001b[0m\n\u001b[1;32m     90\u001b[0m \u001b[0;34m\u001b[0m\u001b[0m\n",
            "\u001b[0;32m~/.local/lib/python3.8/site-packages/pandas/core/reshape/merge.py\u001b[0m in \u001b[0;36mget_result\u001b[0;34m(self)\u001b[0m\n\u001b[1;32m    646\u001b[0m         \u001b[0mlsuf\u001b[0m\u001b[0;34m,\u001b[0m \u001b[0mrsuf\u001b[0m \u001b[0;34m=\u001b[0m \u001b[0mself\u001b[0m\u001b[0;34m.\u001b[0m\u001b[0msuffixes\u001b[0m\u001b[0;34m\u001b[0m\u001b[0;34m\u001b[0m\u001b[0m\n\u001b[1;32m    647\u001b[0m \u001b[0;34m\u001b[0m\u001b[0m\n\u001b[0;32m--> 648\u001b[0;31m         llabels, rlabels = _items_overlap_with_suffix(\n\u001b[0m\u001b[1;32m    649\u001b[0m             \u001b[0mldata\u001b[0m\u001b[0;34m.\u001b[0m\u001b[0mitems\u001b[0m\u001b[0;34m,\u001b[0m \u001b[0mlsuf\u001b[0m\u001b[0;34m,\u001b[0m \u001b[0mrdata\u001b[0m\u001b[0;34m.\u001b[0m\u001b[0mitems\u001b[0m\u001b[0;34m,\u001b[0m \u001b[0mrsuf\u001b[0m\u001b[0;34m\u001b[0m\u001b[0;34m\u001b[0m\u001b[0m\n\u001b[1;32m    650\u001b[0m         )\n",
            "\u001b[0;32m~/.local/lib/python3.8/site-packages/pandas/core/reshape/merge.py\u001b[0m in \u001b[0;36m_items_overlap_with_suffix\u001b[0;34m(left, lsuffix, right, rsuffix)\u001b[0m\n\u001b[1;32m   2022\u001b[0m \u001b[0;34m\u001b[0m\u001b[0m\n\u001b[1;32m   2023\u001b[0m     \u001b[0;32mif\u001b[0m \u001b[0;32mnot\u001b[0m \u001b[0mlsuffix\u001b[0m \u001b[0;32mand\u001b[0m \u001b[0;32mnot\u001b[0m \u001b[0mrsuffix\u001b[0m\u001b[0;34m:\u001b[0m\u001b[0;34m\u001b[0m\u001b[0;34m\u001b[0m\u001b[0m\n\u001b[0;32m-> 2024\u001b[0;31m         raise ValueError(\n\u001b[0m\u001b[1;32m   2025\u001b[0m             \u001b[0;34m\"columns overlap but no suffix specified: \"\u001b[0m\u001b[0;34m\u001b[0m\u001b[0;34m\u001b[0m\u001b[0m\n\u001b[1;32m   2026\u001b[0m             \u001b[0;34m\"{rename}\"\u001b[0m\u001b[0;34m.\u001b[0m\u001b[0mformat\u001b[0m\u001b[0;34m(\u001b[0m\u001b[0mrename\u001b[0m\u001b[0;34m=\u001b[0m\u001b[0mto_rename\u001b[0m\u001b[0;34m)\u001b[0m\u001b[0;34m\u001b[0m\u001b[0;34m\u001b[0m\u001b[0m\n",
            "\u001b[0;31mValueError\u001b[0m: columns overlap but no suffix specified: Index(['pred'], dtype='object')"
          ]
        }
      ]
    },
    {
      "cell_type": "code",
      "metadata": {
        "id": "OWvrOZFIMh8_",
        "outputId": "f903bad6-c2e6-40f4-a86e-3ef2834be8e6"
      },
      "source": [
        "df2[['Qty','pred']]"
      ],
      "execution_count": null,
      "outputs": [
        {
          "output_type": "execute_result",
          "data": {
            "text/html": [
              "<div>\n",
              "<style scoped>\n",
              "    .dataframe tbody tr th:only-of-type {\n",
              "        vertical-align: middle;\n",
              "    }\n",
              "\n",
              "    .dataframe tbody tr th {\n",
              "        vertical-align: top;\n",
              "    }\n",
              "\n",
              "    .dataframe thead th {\n",
              "        text-align: right;\n",
              "    }\n",
              "</style>\n",
              "<table border=\"1\" class=\"dataframe\">\n",
              "  <thead>\n",
              "    <tr style=\"text-align: right;\">\n",
              "      <th></th>\n",
              "      <th>Qty</th>\n",
              "      <th>pred</th>\n",
              "    </tr>\n",
              "  </thead>\n",
              "  <tbody>\n",
              "    <tr>\n",
              "      <th>2012-12-31</th>\n",
              "      <td>1148.0</td>\n",
              "      <td>NaN</td>\n",
              "    </tr>\n",
              "    <tr>\n",
              "      <th>2013-01-31</th>\n",
              "      <td>997.0</td>\n",
              "      <td>NaN</td>\n",
              "    </tr>\n",
              "    <tr>\n",
              "      <th>2013-02-28</th>\n",
              "      <td>560.0</td>\n",
              "      <td>NaN</td>\n",
              "    </tr>\n",
              "    <tr>\n",
              "      <th>2013-03-31</th>\n",
              "      <td>560.0</td>\n",
              "      <td>NaN</td>\n",
              "    </tr>\n",
              "    <tr>\n",
              "      <th>2013-04-30</th>\n",
              "      <td>1204.0</td>\n",
              "      <td>NaN</td>\n",
              "    </tr>\n",
              "    <tr>\n",
              "      <th>...</th>\n",
              "      <td>...</td>\n",
              "      <td>...</td>\n",
              "    </tr>\n",
              "    <tr>\n",
              "      <th>2020-08-31</th>\n",
              "      <td>NaN</td>\n",
              "      <td>1001.931909</td>\n",
              "    </tr>\n",
              "    <tr>\n",
              "      <th>2020-09-30</th>\n",
              "      <td>NaN</td>\n",
              "      <td>970.645824</td>\n",
              "    </tr>\n",
              "    <tr>\n",
              "      <th>2020-10-31</th>\n",
              "      <td>NaN</td>\n",
              "      <td>981.301929</td>\n",
              "    </tr>\n",
              "    <tr>\n",
              "      <th>2020-11-30</th>\n",
              "      <td>NaN</td>\n",
              "      <td>977.644404</td>\n",
              "    </tr>\n",
              "    <tr>\n",
              "      <th>2020-12-31</th>\n",
              "      <td>NaN</td>\n",
              "      <td>978.896480</td>\n",
              "    </tr>\n",
              "  </tbody>\n",
              "</table>\n",
              "<p>98 rows × 2 columns</p>\n",
              "</div>"
            ],
            "text/plain": [
              "               Qty         pred\n",
              "2012-12-31  1148.0          NaN\n",
              "2013-01-31   997.0          NaN\n",
              "2013-02-28   560.0          NaN\n",
              "2013-03-31   560.0          NaN\n",
              "2013-04-30  1204.0          NaN\n",
              "...            ...          ...\n",
              "2020-08-31     NaN  1001.931909\n",
              "2020-09-30     NaN   970.645824\n",
              "2020-10-31     NaN   981.301929\n",
              "2020-11-30     NaN   977.644404\n",
              "2020-12-31     NaN   978.896480\n",
              "\n",
              "[98 rows x 2 columns]"
            ]
          },
          "metadata": {
            "tags": []
          },
          "execution_count": 86
        }
      ]
    },
    {
      "cell_type": "code",
      "metadata": {
        "id": "lfi4pKzrMh9C",
        "outputId": "02eec6a2-a827-41d0-af85-4ce96dbcfb91"
      },
      "source": [
        "ff"
      ],
      "execution_count": null,
      "outputs": [
        {
          "output_type": "execute_result",
          "data": {
            "text/html": [
              "<div>\n",
              "<style scoped>\n",
              "    .dataframe tbody tr th:only-of-type {\n",
              "        vertical-align: middle;\n",
              "    }\n",
              "\n",
              "    .dataframe tbody tr th {\n",
              "        vertical-align: top;\n",
              "    }\n",
              "\n",
              "    .dataframe thead th {\n",
              "        text-align: right;\n",
              "    }\n",
              "</style>\n",
              "<table border=\"1\" class=\"dataframe\">\n",
              "  <thead>\n",
              "    <tr style=\"text-align: right;\">\n",
              "      <th></th>\n",
              "      <th>pred</th>\n",
              "    </tr>\n",
              "  </thead>\n",
              "  <tbody>\n",
              "    <tr>\n",
              "      <th>2014-12-31</th>\n",
              "      <td>599.925527</td>\n",
              "    </tr>\n",
              "    <tr>\n",
              "      <th>2015-01-31</th>\n",
              "      <td>513.593621</td>\n",
              "    </tr>\n",
              "    <tr>\n",
              "      <th>2015-02-28</th>\n",
              "      <td>596.156350</td>\n",
              "    </tr>\n",
              "    <tr>\n",
              "      <th>2015-03-31</th>\n",
              "      <td>535.449562</td>\n",
              "    </tr>\n",
              "    <tr>\n",
              "      <th>2015-04-30</th>\n",
              "      <td>830.416815</td>\n",
              "    </tr>\n",
              "    <tr>\n",
              "      <th>...</th>\n",
              "      <td>...</td>\n",
              "    </tr>\n",
              "    <tr>\n",
              "      <th>2020-08-31</th>\n",
              "      <td>1001.931909</td>\n",
              "    </tr>\n",
              "    <tr>\n",
              "      <th>2020-09-30</th>\n",
              "      <td>970.645824</td>\n",
              "    </tr>\n",
              "    <tr>\n",
              "      <th>2020-10-31</th>\n",
              "      <td>981.301929</td>\n",
              "    </tr>\n",
              "    <tr>\n",
              "      <th>2020-11-30</th>\n",
              "      <td>977.644404</td>\n",
              "    </tr>\n",
              "    <tr>\n",
              "      <th>2020-12-31</th>\n",
              "      <td>978.896480</td>\n",
              "    </tr>\n",
              "  </tbody>\n",
              "</table>\n",
              "<p>74 rows × 1 columns</p>\n",
              "</div>"
            ],
            "text/plain": [
              "                   pred\n",
              "2014-12-31   599.925527\n",
              "2015-01-31   513.593621\n",
              "2015-02-28   596.156350\n",
              "2015-03-31   535.449562\n",
              "2015-04-30   830.416815\n",
              "...                 ...\n",
              "2020-08-31  1001.931909\n",
              "2020-09-30   970.645824\n",
              "2020-10-31   981.301929\n",
              "2020-11-30   977.644404\n",
              "2020-12-31   978.896480\n",
              "\n",
              "[74 rows x 1 columns]"
            ]
          },
          "metadata": {
            "tags": []
          },
          "execution_count": 105
        }
      ]
    },
    {
      "cell_type": "code",
      "metadata": {
        "id": "hx9njPmOMh9H",
        "outputId": "8cda5eb2-1732-4414-8f7c-1a0f189f053b"
      },
      "source": [
        "import plotly.graph_objects as go\n",
        "fig=px.line(data_frame=df2,x=df2.index,y='Qty')\n",
        "fig.add_scatter(x=cint.index,y=cint['lower y'])\n",
        "fig.add_scatter(x=cint.index,y=cint['upper y'],fill='tonexty')\n",
        "fig.add_scatter(x=ff.index,y=ff['pred'])\n",
        "#fig2=px.area(cint)\n",
        "#fig.add_trace()"
      ],
      "execution_count": null,
      "outputs": [
        {
          "output_type": "display_data",
          "data": {
            "application/vnd.plotly.v1+json": {
              "config": {
                "plotlyServerURL": "https://plot.ly"
              },
              "data": [
                {
                  "hovertemplate": "x=%{x}<br>Qty=%{y}<extra></extra>",
                  "legendgroup": "",
                  "line": {
                    "color": "#636efa",
                    "dash": "solid"
                  },
                  "mode": "lines",
                  "name": "",
                  "showlegend": false,
                  "type": "scatter",
                  "x": [
                    "2012-12-31T00:00:00",
                    "2013-01-31T00:00:00",
                    "2013-02-28T00:00:00",
                    "2013-03-31T00:00:00",
                    "2013-04-30T00:00:00",
                    "2013-05-31T00:00:00",
                    "2013-06-30T00:00:00",
                    "2013-07-31T00:00:00",
                    "2013-08-31T00:00:00",
                    "2013-09-30T00:00:00",
                    "2013-10-31T00:00:00",
                    "2013-11-30T00:00:00",
                    "2013-12-31T00:00:00",
                    "2014-01-31T00:00:00",
                    "2014-02-28T00:00:00",
                    "2014-03-31T00:00:00",
                    "2014-04-30T00:00:00",
                    "2014-05-31T00:00:00",
                    "2014-06-30T00:00:00",
                    "2014-07-31T00:00:00",
                    "2014-08-31T00:00:00",
                    "2014-09-30T00:00:00",
                    "2014-10-31T00:00:00",
                    "2014-11-30T00:00:00",
                    "2014-12-31T00:00:00",
                    "2015-01-31T00:00:00",
                    "2015-02-28T00:00:00",
                    "2015-03-31T00:00:00",
                    "2015-04-30T00:00:00",
                    "2015-05-31T00:00:00",
                    "2015-06-30T00:00:00",
                    "2015-07-31T00:00:00",
                    "2015-08-31T00:00:00",
                    "2015-09-30T00:00:00",
                    "2015-10-31T00:00:00",
                    "2015-11-30T00:00:00",
                    "2015-12-31T00:00:00",
                    "2016-01-31T00:00:00",
                    "2016-02-29T00:00:00",
                    "2016-03-31T00:00:00",
                    "2016-04-30T00:00:00",
                    "2016-05-31T00:00:00",
                    "2016-06-30T00:00:00",
                    "2016-07-31T00:00:00",
                    "2016-08-31T00:00:00",
                    "2016-09-30T00:00:00",
                    "2016-10-31T00:00:00",
                    "2016-11-30T00:00:00",
                    "2016-12-31T00:00:00",
                    "2017-01-31T00:00:00",
                    "2017-02-28T00:00:00",
                    "2017-03-31T00:00:00",
                    "2017-04-30T00:00:00",
                    "2017-05-31T00:00:00",
                    "2017-06-30T00:00:00",
                    "2017-07-31T00:00:00",
                    "2017-08-31T00:00:00",
                    "2017-09-30T00:00:00",
                    "2017-10-31T00:00:00",
                    "2017-11-30T00:00:00",
                    "2017-12-31T00:00:00",
                    "2018-01-31T00:00:00",
                    "2018-02-28T00:00:00",
                    "2018-03-31T00:00:00",
                    "2018-04-30T00:00:00",
                    "2018-05-31T00:00:00",
                    "2018-06-30T00:00:00",
                    "2018-07-31T00:00:00",
                    "2018-08-31T00:00:00",
                    "2018-09-30T00:00:00",
                    "2018-10-31T00:00:00",
                    "2018-11-30T00:00:00",
                    "2018-12-31T00:00:00",
                    "2019-01-31T00:00:00",
                    "2019-02-28T00:00:00",
                    "2019-03-31T00:00:00",
                    "2019-04-30T00:00:00",
                    "2019-05-31T00:00:00",
                    "2019-06-30T00:00:00",
                    "2019-07-31T00:00:00",
                    "2019-08-31T00:00:00",
                    "2019-09-30T00:00:00",
                    "2019-10-31T00:00:00",
                    "2019-11-30T00:00:00",
                    "2019-12-31T00:00:00",
                    "2020-01-31T00:00:00",
                    "2020-02-29T00:00:00",
                    "2020-03-31T00:00:00",
                    "2020-04-30T00:00:00",
                    "2020-05-31T00:00:00",
                    "2020-06-30T00:00:00",
                    "2020-07-31T00:00:00",
                    "2020-07-31T00:00:00",
                    "2020-08-31T00:00:00",
                    "2020-09-30T00:00:00",
                    "2020-10-31T00:00:00",
                    "2020-11-30T00:00:00",
                    "2020-12-31T00:00:00"
                  ],
                  "xaxis": "x",
                  "y": [
                    1148,
                    997,
                    560,
                    560,
                    1204,
                    1344,
                    506,
                    1120,
                    420,
                    392,
                    1280,
                    560,
                    532,
                    1420,
                    0,
                    448,
                    1120,
                    756,
                    1120,
                    1064,
                    320,
                    1008,
                    0,
                    1440,
                    1040,
                    448,
                    944,
                    0,
                    1104,
                    1104,
                    1120,
                    480,
                    1008,
                    420,
                    992,
                    448,
                    768,
                    1792,
                    1648,
                    640,
                    1056,
                    1024,
                    560,
                    576,
                    560,
                    0,
                    448,
                    1600,
                    608,
                    1152,
                    928,
                    560,
                    560,
                    1152,
                    0,
                    560,
                    2037,
                    1782,
                    1712,
                    1712,
                    3808,
                    1420,
                    1728,
                    992,
                    1664,
                    1335,
                    673,
                    0,
                    1216,
                    2240,
                    0,
                    4816,
                    2144,
                    4224,
                    2819,
                    1920,
                    4959,
                    3824,
                    1799,
                    1152,
                    0,
                    1952,
                    1824,
                    0,
                    1504,
                    1472,
                    1152,
                    0,
                    2304,
                    0,
                    1760,
                    640,
                    640,
                    null,
                    null,
                    null,
                    null,
                    null
                  ],
                  "yaxis": "y"
                },
                {
                  "type": "scatter",
                  "x": [
                    "2020-07-31T00:00:00",
                    "2020-08-31T00:00:00",
                    "2020-09-30T00:00:00",
                    "2020-10-31T00:00:00",
                    "2020-11-30T00:00:00",
                    "2020-12-31T00:00:00"
                  ],
                  "y": [
                    2.0874836378139374,
                    7.171643922019076,
                    4.4351020225169595,
                    4.647571643661359,
                    3.9695002340735552,
                    3.6178052279534407
                  ]
                },
                {
                  "fill": "tonexty",
                  "type": "scatter",
                  "x": [
                    "2020-07-31T00:00:00",
                    "2020-08-31T00:00:00",
                    "2020-09-30T00:00:00",
                    "2020-10-31T00:00:00",
                    "2020-11-30T00:00:00",
                    "2020-12-31T00:00:00"
                  ],
                  "y": [
                    3886.5279197849927,
                    4087.389275278228,
                    4043.1242404710647,
                    4081.775928841015,
                    4091.7557398552563,
                    4111.527204540737
                  ]
                },
                {
                  "type": "scatter",
                  "x": [
                    "2014-12-31T00:00:00",
                    "2015-01-31T00:00:00",
                    "2015-02-28T00:00:00",
                    "2015-03-31T00:00:00",
                    "2015-04-30T00:00:00",
                    "2015-05-31T00:00:00",
                    "2015-06-30T00:00:00",
                    "2015-07-31T00:00:00",
                    "2015-08-31T00:00:00",
                    "2015-09-30T00:00:00",
                    "2015-10-31T00:00:00",
                    "2015-11-30T00:00:00",
                    "2015-12-31T00:00:00",
                    "2016-01-31T00:00:00",
                    "2016-02-29T00:00:00",
                    "2016-03-31T00:00:00",
                    "2016-04-30T00:00:00",
                    "2016-05-31T00:00:00",
                    "2016-06-30T00:00:00",
                    "2016-07-31T00:00:00",
                    "2016-08-31T00:00:00",
                    "2016-09-30T00:00:00",
                    "2016-10-31T00:00:00",
                    "2016-11-30T00:00:00",
                    "2016-12-31T00:00:00",
                    "2017-01-31T00:00:00",
                    "2017-02-28T00:00:00",
                    "2017-03-31T00:00:00",
                    "2017-04-30T00:00:00",
                    "2017-05-31T00:00:00",
                    "2017-06-30T00:00:00",
                    "2017-07-31T00:00:00",
                    "2017-08-31T00:00:00",
                    "2017-09-30T00:00:00",
                    "2017-10-31T00:00:00",
                    "2017-11-30T00:00:00",
                    "2017-12-31T00:00:00",
                    "2018-01-31T00:00:00",
                    "2018-02-28T00:00:00",
                    "2018-03-31T00:00:00",
                    "2018-04-30T00:00:00",
                    "2018-05-31T00:00:00",
                    "2018-06-30T00:00:00",
                    "2018-07-31T00:00:00",
                    "2018-08-31T00:00:00",
                    "2018-09-30T00:00:00",
                    "2018-10-31T00:00:00",
                    "2018-11-30T00:00:00",
                    "2018-12-31T00:00:00",
                    "2019-01-31T00:00:00",
                    "2019-02-28T00:00:00",
                    "2019-03-31T00:00:00",
                    "2019-04-30T00:00:00",
                    "2019-05-31T00:00:00",
                    "2019-06-30T00:00:00",
                    "2019-07-31T00:00:00",
                    "2019-08-31T00:00:00",
                    "2019-09-30T00:00:00",
                    "2019-10-31T00:00:00",
                    "2019-11-30T00:00:00",
                    "2019-12-31T00:00:00",
                    "2020-01-31T00:00:00",
                    "2020-02-29T00:00:00",
                    "2020-03-31T00:00:00",
                    "2020-04-30T00:00:00",
                    "2020-05-31T00:00:00",
                    "2020-06-30T00:00:00",
                    "2020-07-31T00:00:00",
                    "2020-07-31T00:00:00",
                    "2020-08-31T00:00:00",
                    "2020-09-30T00:00:00",
                    "2020-10-31T00:00:00",
                    "2020-11-30T00:00:00",
                    "2020-12-31T00:00:00"
                  ],
                  "y": [
                    599.9255272250159,
                    513.5936207675652,
                    596.1563501606884,
                    535.4495616179753,
                    830.4168146388189,
                    672.3729766720159,
                    498.1791019051582,
                    411.36783651492124,
                    535.0764815218555,
                    499.18628526532035,
                    638.7486812381762,
                    578.3200769316079,
                    723.0271704950477,
                    635.5212613116191,
                    420.5522030650563,
                    473.22989805545285,
                    651.4060981113383,
                    748.0531128519524,
                    857.8334308655492,
                    1070.7127842277696,
                    763.3549510462122,
                    776.1206565503738,
                    991.2443313438765,
                    720.9318254715187,
                    701.5381848211565,
                    696.4356187022569,
                    683.6788722962665,
                    745.3357152391332,
                    666.8041885942827,
                    738.2450569252621,
                    700.8105767665545,
                    602.8432017420648,
                    760.3353603129907,
                    689.3372313664457,
                    789.9092354648557,
                    712.4401901731379,
                    820.3807068327127,
                    862.0126793483082,
                    944.2284092578044,
                    1329.8458885473742,
                    1014.0692157635563,
                    1416.0711430009146,
                    1114.662656999125,
                    1240.8913272280959,
                    589.2662726306033,
                    1103.9771432591679,
                    793.0820275257624,
                    800.9887983135137,
                    1221.3273242213897,
                    872.3944634752971,
                    1234.6587864710066,
                    1142.5755039647693,
                    1892.0471921551962,
                    1853.219817639417,
                    2731.502888227104,
                    1879.0056045920278,
                    2214.172841209861,
                    981.9144573043944,
                    2058.389569523997,
                    1113.9931864995256,
                    1466.4820286780255,
                    1109.3868374590518,
                    1490.0393539700378,
                    1081.3565500318264,
                    954.6342388677967,
                    1444.9371720598215,
                    950.6256514258054,
                    912.1210233251348,
                    912.1210233251348,
                    1001.9319085191131,
                    970.6458238238217,
                    981.3019290418938,
                    977.6444041163156,
                    978.8964798675288
                  ]
                }
              ],
              "layout": {
                "autosize": true,
                "legend": {
                  "tracegroupgap": 0
                },
                "margin": {
                  "t": 60
                },
                "template": {
                  "data": {
                    "bar": [
                      {
                        "error_x": {
                          "color": "#2a3f5f"
                        },
                        "error_y": {
                          "color": "#2a3f5f"
                        },
                        "marker": {
                          "line": {
                            "color": "#E5ECF6",
                            "width": 0.5
                          }
                        },
                        "type": "bar"
                      }
                    ],
                    "barpolar": [
                      {
                        "marker": {
                          "line": {
                            "color": "#E5ECF6",
                            "width": 0.5
                          }
                        },
                        "type": "barpolar"
                      }
                    ],
                    "carpet": [
                      {
                        "aaxis": {
                          "endlinecolor": "#2a3f5f",
                          "gridcolor": "white",
                          "linecolor": "white",
                          "minorgridcolor": "white",
                          "startlinecolor": "#2a3f5f"
                        },
                        "baxis": {
                          "endlinecolor": "#2a3f5f",
                          "gridcolor": "white",
                          "linecolor": "white",
                          "minorgridcolor": "white",
                          "startlinecolor": "#2a3f5f"
                        },
                        "type": "carpet"
                      }
                    ],
                    "choropleth": [
                      {
                        "colorbar": {
                          "outlinewidth": 0,
                          "ticks": ""
                        },
                        "type": "choropleth"
                      }
                    ],
                    "contour": [
                      {
                        "colorbar": {
                          "outlinewidth": 0,
                          "ticks": ""
                        },
                        "colorscale": [
                          [
                            0,
                            "#0d0887"
                          ],
                          [
                            0.1111111111111111,
                            "#46039f"
                          ],
                          [
                            0.2222222222222222,
                            "#7201a8"
                          ],
                          [
                            0.3333333333333333,
                            "#9c179e"
                          ],
                          [
                            0.4444444444444444,
                            "#bd3786"
                          ],
                          [
                            0.5555555555555556,
                            "#d8576b"
                          ],
                          [
                            0.6666666666666666,
                            "#ed7953"
                          ],
                          [
                            0.7777777777777778,
                            "#fb9f3a"
                          ],
                          [
                            0.8888888888888888,
                            "#fdca26"
                          ],
                          [
                            1,
                            "#f0f921"
                          ]
                        ],
                        "type": "contour"
                      }
                    ],
                    "contourcarpet": [
                      {
                        "colorbar": {
                          "outlinewidth": 0,
                          "ticks": ""
                        },
                        "type": "contourcarpet"
                      }
                    ],
                    "heatmap": [
                      {
                        "colorbar": {
                          "outlinewidth": 0,
                          "ticks": ""
                        },
                        "colorscale": [
                          [
                            0,
                            "#0d0887"
                          ],
                          [
                            0.1111111111111111,
                            "#46039f"
                          ],
                          [
                            0.2222222222222222,
                            "#7201a8"
                          ],
                          [
                            0.3333333333333333,
                            "#9c179e"
                          ],
                          [
                            0.4444444444444444,
                            "#bd3786"
                          ],
                          [
                            0.5555555555555556,
                            "#d8576b"
                          ],
                          [
                            0.6666666666666666,
                            "#ed7953"
                          ],
                          [
                            0.7777777777777778,
                            "#fb9f3a"
                          ],
                          [
                            0.8888888888888888,
                            "#fdca26"
                          ],
                          [
                            1,
                            "#f0f921"
                          ]
                        ],
                        "type": "heatmap"
                      }
                    ],
                    "heatmapgl": [
                      {
                        "colorbar": {
                          "outlinewidth": 0,
                          "ticks": ""
                        },
                        "colorscale": [
                          [
                            0,
                            "#0d0887"
                          ],
                          [
                            0.1111111111111111,
                            "#46039f"
                          ],
                          [
                            0.2222222222222222,
                            "#7201a8"
                          ],
                          [
                            0.3333333333333333,
                            "#9c179e"
                          ],
                          [
                            0.4444444444444444,
                            "#bd3786"
                          ],
                          [
                            0.5555555555555556,
                            "#d8576b"
                          ],
                          [
                            0.6666666666666666,
                            "#ed7953"
                          ],
                          [
                            0.7777777777777778,
                            "#fb9f3a"
                          ],
                          [
                            0.8888888888888888,
                            "#fdca26"
                          ],
                          [
                            1,
                            "#f0f921"
                          ]
                        ],
                        "type": "heatmapgl"
                      }
                    ],
                    "histogram": [
                      {
                        "marker": {
                          "colorbar": {
                            "outlinewidth": 0,
                            "ticks": ""
                          }
                        },
                        "type": "histogram"
                      }
                    ],
                    "histogram2d": [
                      {
                        "colorbar": {
                          "outlinewidth": 0,
                          "ticks": ""
                        },
                        "colorscale": [
                          [
                            0,
                            "#0d0887"
                          ],
                          [
                            0.1111111111111111,
                            "#46039f"
                          ],
                          [
                            0.2222222222222222,
                            "#7201a8"
                          ],
                          [
                            0.3333333333333333,
                            "#9c179e"
                          ],
                          [
                            0.4444444444444444,
                            "#bd3786"
                          ],
                          [
                            0.5555555555555556,
                            "#d8576b"
                          ],
                          [
                            0.6666666666666666,
                            "#ed7953"
                          ],
                          [
                            0.7777777777777778,
                            "#fb9f3a"
                          ],
                          [
                            0.8888888888888888,
                            "#fdca26"
                          ],
                          [
                            1,
                            "#f0f921"
                          ]
                        ],
                        "type": "histogram2d"
                      }
                    ],
                    "histogram2dcontour": [
                      {
                        "colorbar": {
                          "outlinewidth": 0,
                          "ticks": ""
                        },
                        "colorscale": [
                          [
                            0,
                            "#0d0887"
                          ],
                          [
                            0.1111111111111111,
                            "#46039f"
                          ],
                          [
                            0.2222222222222222,
                            "#7201a8"
                          ],
                          [
                            0.3333333333333333,
                            "#9c179e"
                          ],
                          [
                            0.4444444444444444,
                            "#bd3786"
                          ],
                          [
                            0.5555555555555556,
                            "#d8576b"
                          ],
                          [
                            0.6666666666666666,
                            "#ed7953"
                          ],
                          [
                            0.7777777777777778,
                            "#fb9f3a"
                          ],
                          [
                            0.8888888888888888,
                            "#fdca26"
                          ],
                          [
                            1,
                            "#f0f921"
                          ]
                        ],
                        "type": "histogram2dcontour"
                      }
                    ],
                    "mesh3d": [
                      {
                        "colorbar": {
                          "outlinewidth": 0,
                          "ticks": ""
                        },
                        "type": "mesh3d"
                      }
                    ],
                    "parcoords": [
                      {
                        "line": {
                          "colorbar": {
                            "outlinewidth": 0,
                            "ticks": ""
                          }
                        },
                        "type": "parcoords"
                      }
                    ],
                    "pie": [
                      {
                        "automargin": true,
                        "type": "pie"
                      }
                    ],
                    "scatter": [
                      {
                        "marker": {
                          "colorbar": {
                            "outlinewidth": 0,
                            "ticks": ""
                          }
                        },
                        "type": "scatter"
                      }
                    ],
                    "scatter3d": [
                      {
                        "line": {
                          "colorbar": {
                            "outlinewidth": 0,
                            "ticks": ""
                          }
                        },
                        "marker": {
                          "colorbar": {
                            "outlinewidth": 0,
                            "ticks": ""
                          }
                        },
                        "type": "scatter3d"
                      }
                    ],
                    "scattercarpet": [
                      {
                        "marker": {
                          "colorbar": {
                            "outlinewidth": 0,
                            "ticks": ""
                          }
                        },
                        "type": "scattercarpet"
                      }
                    ],
                    "scattergeo": [
                      {
                        "marker": {
                          "colorbar": {
                            "outlinewidth": 0,
                            "ticks": ""
                          }
                        },
                        "type": "scattergeo"
                      }
                    ],
                    "scattergl": [
                      {
                        "marker": {
                          "colorbar": {
                            "outlinewidth": 0,
                            "ticks": ""
                          }
                        },
                        "type": "scattergl"
                      }
                    ],
                    "scattermapbox": [
                      {
                        "marker": {
                          "colorbar": {
                            "outlinewidth": 0,
                            "ticks": ""
                          }
                        },
                        "type": "scattermapbox"
                      }
                    ],
                    "scatterpolar": [
                      {
                        "marker": {
                          "colorbar": {
                            "outlinewidth": 0,
                            "ticks": ""
                          }
                        },
                        "type": "scatterpolar"
                      }
                    ],
                    "scatterpolargl": [
                      {
                        "marker": {
                          "colorbar": {
                            "outlinewidth": 0,
                            "ticks": ""
                          }
                        },
                        "type": "scatterpolargl"
                      }
                    ],
                    "scatterternary": [
                      {
                        "marker": {
                          "colorbar": {
                            "outlinewidth": 0,
                            "ticks": ""
                          }
                        },
                        "type": "scatterternary"
                      }
                    ],
                    "surface": [
                      {
                        "colorbar": {
                          "outlinewidth": 0,
                          "ticks": ""
                        },
                        "colorscale": [
                          [
                            0,
                            "#0d0887"
                          ],
                          [
                            0.1111111111111111,
                            "#46039f"
                          ],
                          [
                            0.2222222222222222,
                            "#7201a8"
                          ],
                          [
                            0.3333333333333333,
                            "#9c179e"
                          ],
                          [
                            0.4444444444444444,
                            "#bd3786"
                          ],
                          [
                            0.5555555555555556,
                            "#d8576b"
                          ],
                          [
                            0.6666666666666666,
                            "#ed7953"
                          ],
                          [
                            0.7777777777777778,
                            "#fb9f3a"
                          ],
                          [
                            0.8888888888888888,
                            "#fdca26"
                          ],
                          [
                            1,
                            "#f0f921"
                          ]
                        ],
                        "type": "surface"
                      }
                    ],
                    "table": [
                      {
                        "cells": {
                          "fill": {
                            "color": "#EBF0F8"
                          },
                          "line": {
                            "color": "white"
                          }
                        },
                        "header": {
                          "fill": {
                            "color": "#C8D4E3"
                          },
                          "line": {
                            "color": "white"
                          }
                        },
                        "type": "table"
                      }
                    ]
                  },
                  "layout": {
                    "annotationdefaults": {
                      "arrowcolor": "#2a3f5f",
                      "arrowhead": 0,
                      "arrowwidth": 1
                    },
                    "coloraxis": {
                      "colorbar": {
                        "outlinewidth": 0,
                        "ticks": ""
                      }
                    },
                    "colorscale": {
                      "diverging": [
                        [
                          0,
                          "#8e0152"
                        ],
                        [
                          0.1,
                          "#c51b7d"
                        ],
                        [
                          0.2,
                          "#de77ae"
                        ],
                        [
                          0.3,
                          "#f1b6da"
                        ],
                        [
                          0.4,
                          "#fde0ef"
                        ],
                        [
                          0.5,
                          "#f7f7f7"
                        ],
                        [
                          0.6,
                          "#e6f5d0"
                        ],
                        [
                          0.7,
                          "#b8e186"
                        ],
                        [
                          0.8,
                          "#7fbc41"
                        ],
                        [
                          0.9,
                          "#4d9221"
                        ],
                        [
                          1,
                          "#276419"
                        ]
                      ],
                      "sequential": [
                        [
                          0,
                          "#0d0887"
                        ],
                        [
                          0.1111111111111111,
                          "#46039f"
                        ],
                        [
                          0.2222222222222222,
                          "#7201a8"
                        ],
                        [
                          0.3333333333333333,
                          "#9c179e"
                        ],
                        [
                          0.4444444444444444,
                          "#bd3786"
                        ],
                        [
                          0.5555555555555556,
                          "#d8576b"
                        ],
                        [
                          0.6666666666666666,
                          "#ed7953"
                        ],
                        [
                          0.7777777777777778,
                          "#fb9f3a"
                        ],
                        [
                          0.8888888888888888,
                          "#fdca26"
                        ],
                        [
                          1,
                          "#f0f921"
                        ]
                      ],
                      "sequentialminus": [
                        [
                          0,
                          "#0d0887"
                        ],
                        [
                          0.1111111111111111,
                          "#46039f"
                        ],
                        [
                          0.2222222222222222,
                          "#7201a8"
                        ],
                        [
                          0.3333333333333333,
                          "#9c179e"
                        ],
                        [
                          0.4444444444444444,
                          "#bd3786"
                        ],
                        [
                          0.5555555555555556,
                          "#d8576b"
                        ],
                        [
                          0.6666666666666666,
                          "#ed7953"
                        ],
                        [
                          0.7777777777777778,
                          "#fb9f3a"
                        ],
                        [
                          0.8888888888888888,
                          "#fdca26"
                        ],
                        [
                          1,
                          "#f0f921"
                        ]
                      ]
                    },
                    "colorway": [
                      "#636efa",
                      "#EF553B",
                      "#00cc96",
                      "#ab63fa",
                      "#FFA15A",
                      "#19d3f3",
                      "#FF6692",
                      "#B6E880",
                      "#FF97FF",
                      "#FECB52"
                    ],
                    "font": {
                      "color": "#2a3f5f"
                    },
                    "geo": {
                      "bgcolor": "white",
                      "lakecolor": "white",
                      "landcolor": "#E5ECF6",
                      "showlakes": true,
                      "showland": true,
                      "subunitcolor": "white"
                    },
                    "hoverlabel": {
                      "align": "left"
                    },
                    "hovermode": "closest",
                    "mapbox": {
                      "style": "light"
                    },
                    "paper_bgcolor": "white",
                    "plot_bgcolor": "#E5ECF6",
                    "polar": {
                      "angularaxis": {
                        "gridcolor": "white",
                        "linecolor": "white",
                        "ticks": ""
                      },
                      "bgcolor": "#E5ECF6",
                      "radialaxis": {
                        "gridcolor": "white",
                        "linecolor": "white",
                        "ticks": ""
                      }
                    },
                    "scene": {
                      "xaxis": {
                        "backgroundcolor": "#E5ECF6",
                        "gridcolor": "white",
                        "gridwidth": 2,
                        "linecolor": "white",
                        "showbackground": true,
                        "ticks": "",
                        "zerolinecolor": "white"
                      },
                      "yaxis": {
                        "backgroundcolor": "#E5ECF6",
                        "gridcolor": "white",
                        "gridwidth": 2,
                        "linecolor": "white",
                        "showbackground": true,
                        "ticks": "",
                        "zerolinecolor": "white"
                      },
                      "zaxis": {
                        "backgroundcolor": "#E5ECF6",
                        "gridcolor": "white",
                        "gridwidth": 2,
                        "linecolor": "white",
                        "showbackground": true,
                        "ticks": "",
                        "zerolinecolor": "white"
                      }
                    },
                    "shapedefaults": {
                      "line": {
                        "color": "#2a3f5f"
                      }
                    },
                    "ternary": {
                      "aaxis": {
                        "gridcolor": "white",
                        "linecolor": "white",
                        "ticks": ""
                      },
                      "baxis": {
                        "gridcolor": "white",
                        "linecolor": "white",
                        "ticks": ""
                      },
                      "bgcolor": "#E5ECF6",
                      "caxis": {
                        "gridcolor": "white",
                        "linecolor": "white",
                        "ticks": ""
                      }
                    },
                    "title": {
                      "x": 0.05
                    },
                    "xaxis": {
                      "automargin": true,
                      "gridcolor": "white",
                      "linecolor": "white",
                      "ticks": "",
                      "title": {
                        "standoff": 15
                      },
                      "zerolinecolor": "white",
                      "zerolinewidth": 2
                    },
                    "yaxis": {
                      "automargin": true,
                      "gridcolor": "white",
                      "linecolor": "white",
                      "ticks": "",
                      "title": {
                        "standoff": 15
                      },
                      "zerolinecolor": "white",
                      "zerolinewidth": 2
                    }
                  }
                },
                "xaxis": {
                  "anchor": "y",
                  "autorange": true,
                  "domain": [
                    0,
                    1
                  ],
                  "range": [
                    "2012-12-31",
                    "2021-06-14 21:27:04.1368"
                  ],
                  "title": {
                    "text": "x"
                  },
                  "type": "date"
                },
                "yaxis": {
                  "anchor": "x",
                  "autorange": true,
                  "domain": [
                    0,
                    1
                  ],
                  "range": [
                    -344.5812391232109,
                    5238.135854690695
                  ],
                  "title": {
                    "text": "Qty"
                  },
                  "type": "linear"
                }
              }
            },
            "image/png": "[encoded data removed]",
            "text/html": [
              "<div>\n",
              "        \n",
              "        \n",
              "            <div id=\"e7ae4403-c0e0-45de-ba71-aba4b32572db\" class=\"plotly-graph-div\" style=\"height:525px; width:100%;\"></div>\n",
              "            <script type=\"text/javascript\">\n",
              "                require([\"plotly\"], function(Plotly) {\n",
              "                    window.PLOTLYENV=window.PLOTLYENV || {};\n",
              "                    \n",
              "                if (document.getElementById(\"e7ae4403-c0e0-45de-ba71-aba4b32572db\")) {\n",
              "                    Plotly.newPlot(\n",
              "                        'e7ae4403-c0e0-45de-ba71-aba4b32572db',\n",
              "                        [{\"hovertemplate\": \"x=%{x}<br>Qty=%{y}<extra></extra>\", \"legendgroup\": \"\", \"line\": {\"color\": \"#636efa\", \"dash\": \"solid\"}, \"mode\": \"lines\", \"name\": \"\", \"showlegend\": false, \"type\": \"scatter\", \"x\": [\"2012-12-31T00:00:00\", \"2013-01-31T00:00:00\", \"2013-02-28T00:00:00\", \"2013-03-31T00:00:00\", \"2013-04-30T00:00:00\", \"2013-05-31T00:00:00\", \"2013-06-30T00:00:00\", \"2013-07-31T00:00:00\", \"2013-08-31T00:00:00\", \"2013-09-30T00:00:00\", \"2013-10-31T00:00:00\", \"2013-11-30T00:00:00\", \"2013-12-31T00:00:00\", \"2014-01-31T00:00:00\", \"2014-02-28T00:00:00\", \"2014-03-31T00:00:00\", \"2014-04-30T00:00:00\", \"2014-05-31T00:00:00\", \"2014-06-30T00:00:00\", \"2014-07-31T00:00:00\", \"2014-08-31T00:00:00\", \"2014-09-30T00:00:00\", \"2014-10-31T00:00:00\", \"2014-11-30T00:00:00\", \"2014-12-31T00:00:00\", \"2015-01-31T00:00:00\", \"2015-02-28T00:00:00\", \"2015-03-31T00:00:00\", \"2015-04-30T00:00:00\", \"2015-05-31T00:00:00\", \"2015-06-30T00:00:00\", \"2015-07-31T00:00:00\", \"2015-08-31T00:00:00\", \"2015-09-30T00:00:00\", \"2015-10-31T00:00:00\", \"2015-11-30T00:00:00\", \"2015-12-31T00:00:00\", \"2016-01-31T00:00:00\", \"2016-02-29T00:00:00\", \"2016-03-31T00:00:00\", \"2016-04-30T00:00:00\", \"2016-05-31T00:00:00\", \"2016-06-30T00:00:00\", \"2016-07-31T00:00:00\", \"2016-08-31T00:00:00\", \"2016-09-30T00:00:00\", \"2016-10-31T00:00:00\", \"2016-11-30T00:00:00\", \"2016-12-31T00:00:00\", \"2017-01-31T00:00:00\", \"2017-02-28T00:00:00\", \"2017-03-31T00:00:00\", \"2017-04-30T00:00:00\", \"2017-05-31T00:00:00\", \"2017-06-30T00:00:00\", \"2017-07-31T00:00:00\", \"2017-08-31T00:00:00\", \"2017-09-30T00:00:00\", \"2017-10-31T00:00:00\", \"2017-11-30T00:00:00\", \"2017-12-31T00:00:00\", \"2018-01-31T00:00:00\", \"2018-02-28T00:00:00\", \"2018-03-31T00:00:00\", \"2018-04-30T00:00:00\", \"2018-05-31T00:00:00\", \"2018-06-30T00:00:00\", \"2018-07-31T00:00:00\", \"2018-08-31T00:00:00\", \"2018-09-30T00:00:00\", \"2018-10-31T00:00:00\", \"2018-11-30T00:00:00\", \"2018-12-31T00:00:00\", \"2019-01-31T00:00:00\", \"2019-02-28T00:00:00\", \"2019-03-31T00:00:00\", \"2019-04-30T00:00:00\", \"2019-05-31T00:00:00\", \"2019-06-30T00:00:00\", \"2019-07-31T00:00:00\", \"2019-08-31T00:00:00\", \"2019-09-30T00:00:00\", \"2019-10-31T00:00:00\", \"2019-11-30T00:00:00\", \"2019-12-31T00:00:00\", \"2020-01-31T00:00:00\", \"2020-02-29T00:00:00\", \"2020-03-31T00:00:00\", \"2020-04-30T00:00:00\", \"2020-05-31T00:00:00\", \"2020-06-30T00:00:00\", \"2020-07-31T00:00:00\", \"2020-07-31T00:00:00\", \"2020-08-31T00:00:00\", \"2020-09-30T00:00:00\", \"2020-10-31T00:00:00\", \"2020-11-30T00:00:00\", \"2020-12-31T00:00:00\"], \"xaxis\": \"x\", \"y\": [1148.0, 997.0, 560.0, 560.0, 1204.0, 1344.0, 506.0, 1120.0, 420.0, 392.0, 1280.0, 560.0, 532.0, 1420.0, 0.0, 448.0, 1120.0, 756.0, 1120.0, 1064.0, 320.0, 1008.0, 0.0, 1440.0, 1040.0, 448.0, 944.0, 0.0, 1104.0, 1104.0, 1120.0, 480.0, 1008.0, 420.0, 992.0, 448.0, 768.0, 1792.0, 1648.0, 640.0, 1056.0, 1024.0, 560.0, 576.0, 560.0, 0.0, 448.0, 1600.0, 608.0, 1152.0, 928.0, 560.0, 560.0, 1152.0, 0.0, 560.0, 2037.0, 1782.0, 1712.0, 1712.0, 3808.0, 1420.0, 1728.0, 992.0, 1664.0, 1335.0, 673.0, 0.0, 1216.0, 2240.0, 0.0, 4816.0, 2144.0, 4224.0, 2819.0, 1920.0, 4959.0, 3824.0, 1799.0, 1152.0, 0.0, 1952.0, 1824.0, 0.0, 1504.0, 1472.0, 1152.0, 0.0, 2304.0, 0.0, 1760.0, 640.0, 640.0, null, null, null, null, null], \"yaxis\": \"y\"}, {\"type\": \"scatter\", \"x\": [\"2020-07-31T00:00:00\", \"2020-08-31T00:00:00\", \"2020-09-30T00:00:00\", \"2020-10-31T00:00:00\", \"2020-11-30T00:00:00\", \"2020-12-31T00:00:00\"], \"y\": [2.0874836378139374, 7.171643922019076, 4.4351020225169595, 4.647571643661359, 3.9695002340735552, 3.6178052279534407]}, {\"fill\": \"tonexty\", \"type\": \"scatter\", \"x\": [\"2020-07-31T00:00:00\", \"2020-08-31T00:00:00\", \"2020-09-30T00:00:00\", \"2020-10-31T00:00:00\", \"2020-11-30T00:00:00\", \"2020-12-31T00:00:00\"], \"y\": [3886.5279197849927, 4087.389275278228, 4043.1242404710647, 4081.775928841015, 4091.7557398552563, 4111.527204540737]}, {\"type\": \"scatter\", \"x\": [\"2014-12-31T00:00:00\", \"2015-01-31T00:00:00\", \"2015-02-28T00:00:00\", \"2015-03-31T00:00:00\", \"2015-04-30T00:00:00\", \"2015-05-31T00:00:00\", \"2015-06-30T00:00:00\", \"2015-07-31T00:00:00\", \"2015-08-31T00:00:00\", \"2015-09-30T00:00:00\", \"2015-10-31T00:00:00\", \"2015-11-30T00:00:00\", \"2015-12-31T00:00:00\", \"2016-01-31T00:00:00\", \"2016-02-29T00:00:00\", \"2016-03-31T00:00:00\", \"2016-04-30T00:00:00\", \"2016-05-31T00:00:00\", \"2016-06-30T00:00:00\", \"2016-07-31T00:00:00\", \"2016-08-31T00:00:00\", \"2016-09-30T00:00:00\", \"2016-10-31T00:00:00\", \"2016-11-30T00:00:00\", \"2016-12-31T00:00:00\", \"2017-01-31T00:00:00\", \"2017-02-28T00:00:00\", \"2017-03-31T00:00:00\", \"2017-04-30T00:00:00\", \"2017-05-31T00:00:00\", \"2017-06-30T00:00:00\", \"2017-07-31T00:00:00\", \"2017-08-31T00:00:00\", \"2017-09-30T00:00:00\", \"2017-10-31T00:00:00\", \"2017-11-30T00:00:00\", \"2017-12-31T00:00:00\", \"2018-01-31T00:00:00\", \"2018-02-28T00:00:00\", \"2018-03-31T00:00:00\", \"2018-04-30T00:00:00\", \"2018-05-31T00:00:00\", \"2018-06-30T00:00:00\", \"2018-07-31T00:00:00\", \"2018-08-31T00:00:00\", \"2018-09-30T00:00:00\", \"2018-10-31T00:00:00\", \"2018-11-30T00:00:00\", \"2018-12-31T00:00:00\", \"2019-01-31T00:00:00\", \"2019-02-28T00:00:00\", \"2019-03-31T00:00:00\", \"2019-04-30T00:00:00\", \"2019-05-31T00:00:00\", \"2019-06-30T00:00:00\", \"2019-07-31T00:00:00\", \"2019-08-31T00:00:00\", \"2019-09-30T00:00:00\", \"2019-10-31T00:00:00\", \"2019-11-30T00:00:00\", \"2019-12-31T00:00:00\", \"2020-01-31T00:00:00\", \"2020-02-29T00:00:00\", \"2020-03-31T00:00:00\", \"2020-04-30T00:00:00\", \"2020-05-31T00:00:00\", \"2020-06-30T00:00:00\", \"2020-07-31T00:00:00\", \"2020-07-31T00:00:00\", \"2020-08-31T00:00:00\", \"2020-09-30T00:00:00\", \"2020-10-31T00:00:00\", \"2020-11-30T00:00:00\", \"2020-12-31T00:00:00\"], \"y\": [599.9255272250159, 513.5936207675652, 596.1563501606884, 535.4495616179753, 830.4168146388189, 672.3729766720159, 498.1791019051582, 411.36783651492124, 535.0764815218555, 499.18628526532035, 638.7486812381762, 578.3200769316079, 723.0271704950477, 635.5212613116191, 420.5522030650563, 473.22989805545285, 651.4060981113383, 748.0531128519524, 857.8334308655492, 1070.7127842277696, 763.3549510462122, 776.1206565503738, 991.2443313438765, 720.9318254715187, 701.5381848211565, 696.4356187022569, 683.6788722962665, 745.3357152391332, 666.8041885942827, 738.2450569252621, 700.8105767665545, 602.8432017420648, 760.3353603129907, 689.3372313664457, 789.9092354648557, 712.4401901731379, 820.3807068327127, 862.0126793483082, 944.2284092578044, 1329.8458885473742, 1014.0692157635563, 1416.0711430009146, 1114.662656999125, 1240.8913272280959, 589.2662726306033, 1103.9771432591679, 793.0820275257624, 800.9887983135137, 1221.3273242213897, 872.3944634752971, 1234.6587864710066, 1142.5755039647693, 1892.0471921551962, 1853.219817639417, 2731.502888227104, 1879.0056045920278, 2214.172841209861, 981.9144573043944, 2058.389569523997, 1113.9931864995256, 1466.4820286780255, 1109.3868374590518, 1490.0393539700378, 1081.3565500318264, 954.6342388677967, 1444.9371720598215, 950.6256514258054, 912.1210233251348, 912.1210233251348, 1001.9319085191131, 970.6458238238217, 981.3019290418938, 977.6444041163156, 978.8964798675288]}],\n",
              "                        {\"legend\": {\"tracegroupgap\": 0}, \"margin\": {\"t\": 60}, \"template\": {\"data\": {\"bar\": [{\"error_x\": {\"color\": \"#2a3f5f\"}, \"error_y\": {\"color\": \"#2a3f5f\"}, \"marker\": {\"line\": {\"color\": \"#E5ECF6\", \"width\": 0.5}}, \"type\": \"bar\"}], \"barpolar\": [{\"marker\": {\"line\": {\"color\": \"#E5ECF6\", \"width\": 0.5}}, \"type\": \"barpolar\"}], \"carpet\": [{\"aaxis\": {\"endlinecolor\": \"#2a3f5f\", \"gridcolor\": \"white\", \"linecolor\": \"white\", \"minorgridcolor\": \"white\", \"startlinecolor\": \"#2a3f5f\"}, \"baxis\": {\"endlinecolor\": \"#2a3f5f\", \"gridcolor\": \"white\", \"linecolor\": \"white\", \"minorgridcolor\": \"white\", \"startlinecolor\": \"#2a3f5f\"}, \"type\": \"carpet\"}], \"choropleth\": [{\"colorbar\": {\"outlinewidth\": 0, \"ticks\": \"\"}, \"type\": \"choropleth\"}], \"contour\": [{\"colorbar\": {\"outlinewidth\": 0, \"ticks\": \"\"}, \"colorscale\": [[0.0, \"#0d0887\"], [0.1111111111111111, \"#46039f\"], [0.2222222222222222, \"#7201a8\"], [0.3333333333333333, \"#9c179e\"], [0.4444444444444444, \"#bd3786\"], [0.5555555555555556, \"#d8576b\"], [0.6666666666666666, \"#ed7953\"], [0.7777777777777778, \"#fb9f3a\"], [0.8888888888888888, \"#fdca26\"], [1.0, \"#f0f921\"]], \"type\": \"contour\"}], \"contourcarpet\": [{\"colorbar\": {\"outlinewidth\": 0, \"ticks\": \"\"}, \"type\": \"contourcarpet\"}], \"heatmap\": [{\"colorbar\": {\"outlinewidth\": 0, \"ticks\": \"\"}, \"colorscale\": [[0.0, \"#0d0887\"], [0.1111111111111111, \"#46039f\"], [0.2222222222222222, \"#7201a8\"], [0.3333333333333333, \"#9c179e\"], [0.4444444444444444, \"#bd3786\"], [0.5555555555555556, \"#d8576b\"], [0.6666666666666666, \"#ed7953\"], [0.7777777777777778, \"#fb9f3a\"], [0.8888888888888888, \"#fdca26\"], [1.0, \"#f0f921\"]], \"type\": \"heatmap\"}], \"heatmapgl\": [{\"colorbar\": {\"outlinewidth\": 0, \"ticks\": \"\"}, \"colorscale\": [[0.0, \"#0d0887\"], [0.1111111111111111, \"#46039f\"], [0.2222222222222222, \"#7201a8\"], [0.3333333333333333, \"#9c179e\"], [0.4444444444444444, \"#bd3786\"], [0.5555555555555556, \"#d8576b\"], [0.6666666666666666, \"#ed7953\"], [0.7777777777777778, \"#fb9f3a\"], [0.8888888888888888, \"#fdca26\"], [1.0, \"#f0f921\"]], \"type\": \"heatmapgl\"}], \"histogram\": [{\"marker\": {\"colorbar\": {\"outlinewidth\": 0, \"ticks\": \"\"}}, \"type\": \"histogram\"}], \"histogram2d\": [{\"colorbar\": {\"outlinewidth\": 0, \"ticks\": \"\"}, \"colorscale\": [[0.0, \"#0d0887\"], [0.1111111111111111, \"#46039f\"], [0.2222222222222222, \"#7201a8\"], [0.3333333333333333, \"#9c179e\"], [0.4444444444444444, \"#bd3786\"], [0.5555555555555556, \"#d8576b\"], [0.6666666666666666, \"#ed7953\"], [0.7777777777777778, \"#fb9f3a\"], [0.8888888888888888, \"#fdca26\"], [1.0, \"#f0f921\"]], \"type\": \"histogram2d\"}], \"histogram2dcontour\": [{\"colorbar\": {\"outlinewidth\": 0, \"ticks\": \"\"}, \"colorscale\": [[0.0, \"#0d0887\"], [0.1111111111111111, \"#46039f\"], [0.2222222222222222, \"#7201a8\"], [0.3333333333333333, \"#9c179e\"], [0.4444444444444444, \"#bd3786\"], [0.5555555555555556, \"#d8576b\"], [0.6666666666666666, \"#ed7953\"], [0.7777777777777778, \"#fb9f3a\"], [0.8888888888888888, \"#fdca26\"], [1.0, \"#f0f921\"]], \"type\": \"histogram2dcontour\"}], \"mesh3d\": [{\"colorbar\": {\"outlinewidth\": 0, \"ticks\": \"\"}, \"type\": \"mesh3d\"}], \"parcoords\": [{\"line\": {\"colorbar\": {\"outlinewidth\": 0, \"ticks\": \"\"}}, \"type\": \"parcoords\"}], \"pie\": [{\"automargin\": true, \"type\": \"pie\"}], \"scatter\": [{\"marker\": {\"colorbar\": {\"outlinewidth\": 0, \"ticks\": \"\"}}, \"type\": \"scatter\"}], \"scatter3d\": [{\"line\": {\"colorbar\": {\"outlinewidth\": 0, \"ticks\": \"\"}}, \"marker\": {\"colorbar\": {\"outlinewidth\": 0, \"ticks\": \"\"}}, \"type\": \"scatter3d\"}], \"scattercarpet\": [{\"marker\": {\"colorbar\": {\"outlinewidth\": 0, \"ticks\": \"\"}}, \"type\": \"scattercarpet\"}], \"scattergeo\": [{\"marker\": {\"colorbar\": {\"outlinewidth\": 0, \"ticks\": \"\"}}, \"type\": \"scattergeo\"}], \"scattergl\": [{\"marker\": {\"colorbar\": {\"outlinewidth\": 0, \"ticks\": \"\"}}, \"type\": \"scattergl\"}], \"scattermapbox\": [{\"marker\": {\"colorbar\": {\"outlinewidth\": 0, \"ticks\": \"\"}}, \"type\": \"scattermapbox\"}], \"scatterpolar\": [{\"marker\": {\"colorbar\": {\"outlinewidth\": 0, \"ticks\": \"\"}}, \"type\": \"scatterpolar\"}], \"scatterpolargl\": [{\"marker\": {\"colorbar\": {\"outlinewidth\": 0, \"ticks\": \"\"}}, \"type\": \"scatterpolargl\"}], \"scatterternary\": [{\"marker\": {\"colorbar\": {\"outlinewidth\": 0, \"ticks\": \"\"}}, \"type\": \"scatterternary\"}], \"surface\": [{\"colorbar\": {\"outlinewidth\": 0, \"ticks\": \"\"}, \"colorscale\": [[0.0, \"#0d0887\"], [0.1111111111111111, \"#46039f\"], [0.2222222222222222, \"#7201a8\"], [0.3333333333333333, \"#9c179e\"], [0.4444444444444444, \"#bd3786\"], [0.5555555555555556, \"#d8576b\"], [0.6666666666666666, \"#ed7953\"], [0.7777777777777778, \"#fb9f3a\"], [0.8888888888888888, \"#fdca26\"], [1.0, \"#f0f921\"]], \"type\": \"surface\"}], \"table\": [{\"cells\": {\"fill\": {\"color\": \"#EBF0F8\"}, \"line\": {\"color\": \"white\"}}, \"header\": {\"fill\": {\"color\": \"#C8D4E3\"}, \"line\": {\"color\": \"white\"}}, \"type\": \"table\"}]}, \"layout\": {\"annotationdefaults\": {\"arrowcolor\": \"#2a3f5f\", \"arrowhead\": 0, \"arrowwidth\": 1}, \"coloraxis\": {\"colorbar\": {\"outlinewidth\": 0, \"ticks\": \"\"}}, \"colorscale\": {\"diverging\": [[0, \"#8e0152\"], [0.1, \"#c51b7d\"], [0.2, \"#de77ae\"], [0.3, \"#f1b6da\"], [0.4, \"#fde0ef\"], [0.5, \"#f7f7f7\"], [0.6, \"#e6f5d0\"], [0.7, \"#b8e186\"], [0.8, \"#7fbc41\"], [0.9, \"#4d9221\"], [1, \"#276419\"]], \"sequential\": [[0.0, \"#0d0887\"], [0.1111111111111111, \"#46039f\"], [0.2222222222222222, \"#7201a8\"], [0.3333333333333333, \"#9c179e\"], [0.4444444444444444, \"#bd3786\"], [0.5555555555555556, \"#d8576b\"], [0.6666666666666666, \"#ed7953\"], [0.7777777777777778, \"#fb9f3a\"], [0.8888888888888888, \"#fdca26\"], [1.0, \"#f0f921\"]], \"sequentialminus\": [[0.0, \"#0d0887\"], [0.1111111111111111, \"#46039f\"], [0.2222222222222222, \"#7201a8\"], [0.3333333333333333, \"#9c179e\"], [0.4444444444444444, \"#bd3786\"], [0.5555555555555556, \"#d8576b\"], [0.6666666666666666, \"#ed7953\"], [0.7777777777777778, \"#fb9f3a\"], [0.8888888888888888, \"#fdca26\"], [1.0, \"#f0f921\"]]}, \"colorway\": [\"#636efa\", \"#EF553B\", \"#00cc96\", \"#ab63fa\", \"#FFA15A\", \"#19d3f3\", \"#FF6692\", \"#B6E880\", \"#FF97FF\", \"#FECB52\"], \"font\": {\"color\": \"#2a3f5f\"}, \"geo\": {\"bgcolor\": \"white\", \"lakecolor\": \"white\", \"landcolor\": \"#E5ECF6\", \"showlakes\": true, \"showland\": true, \"subunitcolor\": \"white\"}, \"hoverlabel\": {\"align\": \"left\"}, \"hovermode\": \"closest\", \"mapbox\": {\"style\": \"light\"}, \"paper_bgcolor\": \"white\", \"plot_bgcolor\": \"#E5ECF6\", \"polar\": {\"angularaxis\": {\"gridcolor\": \"white\", \"linecolor\": \"white\", \"ticks\": \"\"}, \"bgcolor\": \"#E5ECF6\", \"radialaxis\": {\"gridcolor\": \"white\", \"linecolor\": \"white\", \"ticks\": \"\"}}, \"scene\": {\"xaxis\": {\"backgroundcolor\": \"#E5ECF6\", \"gridcolor\": \"white\", \"gridwidth\": 2, \"linecolor\": \"white\", \"showbackground\": true, \"ticks\": \"\", \"zerolinecolor\": \"white\"}, \"yaxis\": {\"backgroundcolor\": \"#E5ECF6\", \"gridcolor\": \"white\", \"gridwidth\": 2, \"linecolor\": \"white\", \"showbackground\": true, \"ticks\": \"\", \"zerolinecolor\": \"white\"}, \"zaxis\": {\"backgroundcolor\": \"#E5ECF6\", \"gridcolor\": \"white\", \"gridwidth\": 2, \"linecolor\": \"white\", \"showbackground\": true, \"ticks\": \"\", \"zerolinecolor\": \"white\"}}, \"shapedefaults\": {\"line\": {\"color\": \"#2a3f5f\"}}, \"ternary\": {\"aaxis\": {\"gridcolor\": \"white\", \"linecolor\": \"white\", \"ticks\": \"\"}, \"baxis\": {\"gridcolor\": \"white\", \"linecolor\": \"white\", \"ticks\": \"\"}, \"bgcolor\": \"#E5ECF6\", \"caxis\": {\"gridcolor\": \"white\", \"linecolor\": \"white\", \"ticks\": \"\"}}, \"title\": {\"x\": 0.05}, \"xaxis\": {\"automargin\": true, \"gridcolor\": \"white\", \"linecolor\": \"white\", \"ticks\": \"\", \"title\": {\"standoff\": 15}, \"zerolinecolor\": \"white\", \"zerolinewidth\": 2}, \"yaxis\": {\"automargin\": true, \"gridcolor\": \"white\", \"linecolor\": \"white\", \"ticks\": \"\", \"title\": {\"standoff\": 15}, \"zerolinecolor\": \"white\", \"zerolinewidth\": 2}}}, \"xaxis\": {\"anchor\": \"y\", \"domain\": [0.0, 1.0], \"title\": {\"text\": \"x\"}}, \"yaxis\": {\"anchor\": \"x\", \"domain\": [0.0, 1.0], \"title\": {\"text\": \"Qty\"}}},\n",
              "                        {\"responsive\": true}\n",
              "                    ).then(function(){\n",
              "                            \n",
              "var gd = document.getElementById('e7ae4403-c0e0-45de-ba71-aba4b32572db');\n",
              "var x = new MutationObserver(function (mutations, observer) {{\n",
              "        var display = window.getComputedStyle(gd).display;\n",
              "        if (!display || display === 'none') {{\n",
              "            console.log([gd, 'removed!']);\n",
              "            Plotly.purge(gd);\n",
              "            observer.disconnect();\n",
              "        }}\n",
              "}});\n",
              "\n",
              "// Listen for the removal of the full notebook cells\n",
              "var notebookContainer = gd.closest('#notebook-container');\n",
              "if (notebookContainer) {{\n",
              "    x.observe(notebookContainer, {childList: true});\n",
              "}}\n",
              "\n",
              "// Listen for the clearing of the current output cell\n",
              "var outputEl = gd.closest('.output');\n",
              "if (outputEl) {{\n",
              "    x.observe(outputEl, {childList: true});\n",
              "}}\n",
              "\n",
              "                        })\n",
              "                };\n",
              "                });\n",
              "            </script>\n",
              "        </div>"
            ]
          },
          "metadata": {
            "tags": []
          }
        }
      ]
    },
    {
      "cell_type": "code",
      "metadata": {
        "id": "AYU-Wp4bMh9K",
        "outputId": "439ffc7b-2e04-4e7b-b505-3be3e32c95f8"
      },
      "source": [
        "fig2=px.area(cint,x=cint.index,y='lower y')\n",
        "fig2.add_scatter(x=cint.index,y=cint['upper y'])"
      ],
      "execution_count": null,
      "outputs": [
        {
          "output_type": "display_data",
          "data": {
            "application/vnd.plotly.v1+json": {
              "config": {
                "plotlyServerURL": "https://plot.ly"
              },
              "data": [
                {
                  "hovertemplate": "x=%{x}<br>lower y=%{y}<extra></extra>",
                  "legendgroup": "",
                  "line": {
                    "color": "#636efa"
                  },
                  "mode": "lines",
                  "name": "",
                  "orientation": "v",
                  "showlegend": false,
                  "stackgroup": "1",
                  "type": "scatter",
                  "x": [
                    "2020-07-31T00:00:00",
                    "2020-08-31T00:00:00",
                    "2020-09-30T00:00:00",
                    "2020-10-31T00:00:00",
                    "2020-11-30T00:00:00",
                    "2020-12-31T00:00:00"
                  ],
                  "xaxis": "x",
                  "y": [
                    2.0874836378139374,
                    7.171643922019076,
                    4.4351020225169595,
                    4.647571643661359,
                    3.9695002340735552,
                    3.6178052279534407
                  ],
                  "yaxis": "y"
                },
                {
                  "type": "scatter",
                  "x": [
                    "2020-07-31T00:00:00",
                    "2020-08-31T00:00:00",
                    "2020-09-30T00:00:00",
                    "2020-10-31T00:00:00",
                    "2020-11-30T00:00:00",
                    "2020-12-31T00:00:00"
                  ],
                  "y": [
                    3886.5279197849927,
                    4087.389275278228,
                    4043.1242404710647,
                    4081.775928841015,
                    4091.7557398552563,
                    4111.527204540737
                  ]
                }
              ],
              "layout": {
                "autosize": true,
                "legend": {
                  "tracegroupgap": 0
                },
                "margin": {
                  "t": 60
                },
                "template": {
                  "data": {
                    "bar": [
                      {
                        "error_x": {
                          "color": "#2a3f5f"
                        },
                        "error_y": {
                          "color": "#2a3f5f"
                        },
                        "marker": {
                          "line": {
                            "color": "#E5ECF6",
                            "width": 0.5
                          }
                        },
                        "type": "bar"
                      }
                    ],
                    "barpolar": [
                      {
                        "marker": {
                          "line": {
                            "color": "#E5ECF6",
                            "width": 0.5
                          }
                        },
                        "type": "barpolar"
                      }
                    ],
                    "carpet": [
                      {
                        "aaxis": {
                          "endlinecolor": "#2a3f5f",
                          "gridcolor": "white",
                          "linecolor": "white",
                          "minorgridcolor": "white",
                          "startlinecolor": "#2a3f5f"
                        },
                        "baxis": {
                          "endlinecolor": "#2a3f5f",
                          "gridcolor": "white",
                          "linecolor": "white",
                          "minorgridcolor": "white",
                          "startlinecolor": "#2a3f5f"
                        },
                        "type": "carpet"
                      }
                    ],
                    "choropleth": [
                      {
                        "colorbar": {
                          "outlinewidth": 0,
                          "ticks": ""
                        },
                        "type": "choropleth"
                      }
                    ],
                    "contour": [
                      {
                        "colorbar": {
                          "outlinewidth": 0,
                          "ticks": ""
                        },
                        "colorscale": [
                          [
                            0,
                            "#0d0887"
                          ],
                          [
                            0.1111111111111111,
                            "#46039f"
                          ],
                          [
                            0.2222222222222222,
                            "#7201a8"
                          ],
                          [
                            0.3333333333333333,
                            "#9c179e"
                          ],
                          [
                            0.4444444444444444,
                            "#bd3786"
                          ],
                          [
                            0.5555555555555556,
                            "#d8576b"
                          ],
                          [
                            0.6666666666666666,
                            "#ed7953"
                          ],
                          [
                            0.7777777777777778,
                            "#fb9f3a"
                          ],
                          [
                            0.8888888888888888,
                            "#fdca26"
                          ],
                          [
                            1,
                            "#f0f921"
                          ]
                        ],
                        "type": "contour"
                      }
                    ],
                    "contourcarpet": [
                      {
                        "colorbar": {
                          "outlinewidth": 0,
                          "ticks": ""
                        },
                        "type": "contourcarpet"
                      }
                    ],
                    "heatmap": [
                      {
                        "colorbar": {
                          "outlinewidth": 0,
                          "ticks": ""
                        },
                        "colorscale": [
                          [
                            0,
                            "#0d0887"
                          ],
                          [
                            0.1111111111111111,
                            "#46039f"
                          ],
                          [
                            0.2222222222222222,
                            "#7201a8"
                          ],
                          [
                            0.3333333333333333,
                            "#9c179e"
                          ],
                          [
                            0.4444444444444444,
                            "#bd3786"
                          ],
                          [
                            0.5555555555555556,
                            "#d8576b"
                          ],
                          [
                            0.6666666666666666,
                            "#ed7953"
                          ],
                          [
                            0.7777777777777778,
                            "#fb9f3a"
                          ],
                          [
                            0.8888888888888888,
                            "#fdca26"
                          ],
                          [
                            1,
                            "#f0f921"
                          ]
                        ],
                        "type": "heatmap"
                      }
                    ],
                    "heatmapgl": [
                      {
                        "colorbar": {
                          "outlinewidth": 0,
                          "ticks": ""
                        },
                        "colorscale": [
                          [
                            0,
                            "#0d0887"
                          ],
                          [
                            0.1111111111111111,
                            "#46039f"
                          ],
                          [
                            0.2222222222222222,
                            "#7201a8"
                          ],
                          [
                            0.3333333333333333,
                            "#9c179e"
                          ],
                          [
                            0.4444444444444444,
                            "#bd3786"
                          ],
                          [
                            0.5555555555555556,
                            "#d8576b"
                          ],
                          [
                            0.6666666666666666,
                            "#ed7953"
                          ],
                          [
                            0.7777777777777778,
                            "#fb9f3a"
                          ],
                          [
                            0.8888888888888888,
                            "#fdca26"
                          ],
                          [
                            1,
                            "#f0f921"
                          ]
                        ],
                        "type": "heatmapgl"
                      }
                    ],
                    "histogram": [
                      {
                        "marker": {
                          "colorbar": {
                            "outlinewidth": 0,
                            "ticks": ""
                          }
                        },
                        "type": "histogram"
                      }
                    ],
                    "histogram2d": [
                      {
                        "colorbar": {
                          "outlinewidth": 0,
                          "ticks": ""
                        },
                        "colorscale": [
                          [
                            0,
                            "#0d0887"
                          ],
                          [
                            0.1111111111111111,
                            "#46039f"
                          ],
                          [
                            0.2222222222222222,
                            "#7201a8"
                          ],
                          [
                            0.3333333333333333,
                            "#9c179e"
                          ],
                          [
                            0.4444444444444444,
                            "#bd3786"
                          ],
                          [
                            0.5555555555555556,
                            "#d8576b"
                          ],
                          [
                            0.6666666666666666,
                            "#ed7953"
                          ],
                          [
                            0.7777777777777778,
                            "#fb9f3a"
                          ],
                          [
                            0.8888888888888888,
                            "#fdca26"
                          ],
                          [
                            1,
                            "#f0f921"
                          ]
                        ],
                        "type": "histogram2d"
                      }
                    ],
                    "histogram2dcontour": [
                      {
                        "colorbar": {
                          "outlinewidth": 0,
                          "ticks": ""
                        },
                        "colorscale": [
                          [
                            0,
                            "#0d0887"
                          ],
                          [
                            0.1111111111111111,
                            "#46039f"
                          ],
                          [
                            0.2222222222222222,
                            "#7201a8"
                          ],
                          [
                            0.3333333333333333,
                            "#9c179e"
                          ],
                          [
                            0.4444444444444444,
                            "#bd3786"
                          ],
                          [
                            0.5555555555555556,
                            "#d8576b"
                          ],
                          [
                            0.6666666666666666,
                            "#ed7953"
                          ],
                          [
                            0.7777777777777778,
                            "#fb9f3a"
                          ],
                          [
                            0.8888888888888888,
                            "#fdca26"
                          ],
                          [
                            1,
                            "#f0f921"
                          ]
                        ],
                        "type": "histogram2dcontour"
                      }
                    ],
                    "mesh3d": [
                      {
                        "colorbar": {
                          "outlinewidth": 0,
                          "ticks": ""
                        },
                        "type": "mesh3d"
                      }
                    ],
                    "parcoords": [
                      {
                        "line": {
                          "colorbar": {
                            "outlinewidth": 0,
                            "ticks": ""
                          }
                        },
                        "type": "parcoords"
                      }
                    ],
                    "pie": [
                      {
                        "automargin": true,
                        "type": "pie"
                      }
                    ],
                    "scatter": [
                      {
                        "marker": {
                          "colorbar": {
                            "outlinewidth": 0,
                            "ticks": ""
                          }
                        },
                        "type": "scatter"
                      }
                    ],
                    "scatter3d": [
                      {
                        "line": {
                          "colorbar": {
                            "outlinewidth": 0,
                            "ticks": ""
                          }
                        },
                        "marker": {
                          "colorbar": {
                            "outlinewidth": 0,
                            "ticks": ""
                          }
                        },
                        "type": "scatter3d"
                      }
                    ],
                    "scattercarpet": [
                      {
                        "marker": {
                          "colorbar": {
                            "outlinewidth": 0,
                            "ticks": ""
                          }
                        },
                        "type": "scattercarpet"
                      }
                    ],
                    "scattergeo": [
                      {
                        "marker": {
                          "colorbar": {
                            "outlinewidth": 0,
                            "ticks": ""
                          }
                        },
                        "type": "scattergeo"
                      }
                    ],
                    "scattergl": [
                      {
                        "marker": {
                          "colorbar": {
                            "outlinewidth": 0,
                            "ticks": ""
                          }
                        },
                        "type": "scattergl"
                      }
                    ],
                    "scattermapbox": [
                      {
                        "marker": {
                          "colorbar": {
                            "outlinewidth": 0,
                            "ticks": ""
                          }
                        },
                        "type": "scattermapbox"
                      }
                    ],
                    "scatterpolar": [
                      {
                        "marker": {
                          "colorbar": {
                            "outlinewidth": 0,
                            "ticks": ""
                          }
                        },
                        "type": "scatterpolar"
                      }
                    ],
                    "scatterpolargl": [
                      {
                        "marker": {
                          "colorbar": {
                            "outlinewidth": 0,
                            "ticks": ""
                          }
                        },
                        "type": "scatterpolargl"
                      }
                    ],
                    "scatterternary": [
                      {
                        "marker": {
                          "colorbar": {
                            "outlinewidth": 0,
                            "ticks": ""
                          }
                        },
                        "type": "scatterternary"
                      }
                    ],
                    "surface": [
                      {
                        "colorbar": {
                          "outlinewidth": 0,
                          "ticks": ""
                        },
                        "colorscale": [
                          [
                            0,
                            "#0d0887"
                          ],
                          [
                            0.1111111111111111,
                            "#46039f"
                          ],
                          [
                            0.2222222222222222,
                            "#7201a8"
                          ],
                          [
                            0.3333333333333333,
                            "#9c179e"
                          ],
                          [
                            0.4444444444444444,
                            "#bd3786"
                          ],
                          [
                            0.5555555555555556,
                            "#d8576b"
                          ],
                          [
                            0.6666666666666666,
                            "#ed7953"
                          ],
                          [
                            0.7777777777777778,
                            "#fb9f3a"
                          ],
                          [
                            0.8888888888888888,
                            "#fdca26"
                          ],
                          [
                            1,
                            "#f0f921"
                          ]
                        ],
                        "type": "surface"
                      }
                    ],
                    "table": [
                      {
                        "cells": {
                          "fill": {
                            "color": "#EBF0F8"
                          },
                          "line": {
                            "color": "white"
                          }
                        },
                        "header": {
                          "fill": {
                            "color": "#C8D4E3"
                          },
                          "line": {
                            "color": "white"
                          }
                        },
                        "type": "table"
                      }
                    ]
                  },
                  "layout": {
                    "annotationdefaults": {
                      "arrowcolor": "#2a3f5f",
                      "arrowhead": 0,
                      "arrowwidth": 1
                    },
                    "coloraxis": {
                      "colorbar": {
                        "outlinewidth": 0,
                        "ticks": ""
                      }
                    },
                    "colorscale": {
                      "diverging": [
                        [
                          0,
                          "#8e0152"
                        ],
                        [
                          0.1,
                          "#c51b7d"
                        ],
                        [
                          0.2,
                          "#de77ae"
                        ],
                        [
                          0.3,
                          "#f1b6da"
                        ],
                        [
                          0.4,
                          "#fde0ef"
                        ],
                        [
                          0.5,
                          "#f7f7f7"
                        ],
                        [
                          0.6,
                          "#e6f5d0"
                        ],
                        [
                          0.7,
                          "#b8e186"
                        ],
                        [
                          0.8,
                          "#7fbc41"
                        ],
                        [
                          0.9,
                          "#4d9221"
                        ],
                        [
                          1,
                          "#276419"
                        ]
                      ],
                      "sequential": [
                        [
                          0,
                          "#0d0887"
                        ],
                        [
                          0.1111111111111111,
                          "#46039f"
                        ],
                        [
                          0.2222222222222222,
                          "#7201a8"
                        ],
                        [
                          0.3333333333333333,
                          "#9c179e"
                        ],
                        [
                          0.4444444444444444,
                          "#bd3786"
                        ],
                        [
                          0.5555555555555556,
                          "#d8576b"
                        ],
                        [
                          0.6666666666666666,
                          "#ed7953"
                        ],
                        [
                          0.7777777777777778,
                          "#fb9f3a"
                        ],
                        [
                          0.8888888888888888,
                          "#fdca26"
                        ],
                        [
                          1,
                          "#f0f921"
                        ]
                      ],
                      "sequentialminus": [
                        [
                          0,
                          "#0d0887"
                        ],
                        [
                          0.1111111111111111,
                          "#46039f"
                        ],
                        [
                          0.2222222222222222,
                          "#7201a8"
                        ],
                        [
                          0.3333333333333333,
                          "#9c179e"
                        ],
                        [
                          0.4444444444444444,
                          "#bd3786"
                        ],
                        [
                          0.5555555555555556,
                          "#d8576b"
                        ],
                        [
                          0.6666666666666666,
                          "#ed7953"
                        ],
                        [
                          0.7777777777777778,
                          "#fb9f3a"
                        ],
                        [
                          0.8888888888888888,
                          "#fdca26"
                        ],
                        [
                          1,
                          "#f0f921"
                        ]
                      ]
                    },
                    "colorway": [
                      "#636efa",
                      "#EF553B",
                      "#00cc96",
                      "#ab63fa",
                      "#FFA15A",
                      "#19d3f3",
                      "#FF6692",
                      "#B6E880",
                      "#FF97FF",
                      "#FECB52"
                    ],
                    "font": {
                      "color": "#2a3f5f"
                    },
                    "geo": {
                      "bgcolor": "white",
                      "lakecolor": "white",
                      "landcolor": "#E5ECF6",
                      "showlakes": true,
                      "showland": true,
                      "subunitcolor": "white"
                    },
                    "hoverlabel": {
                      "align": "left"
                    },
                    "hovermode": "closest",
                    "mapbox": {
                      "style": "light"
                    },
                    "paper_bgcolor": "white",
                    "plot_bgcolor": "#E5ECF6",
                    "polar": {
                      "angularaxis": {
                        "gridcolor": "white",
                        "linecolor": "white",
                        "ticks": ""
                      },
                      "bgcolor": "#E5ECF6",
                      "radialaxis": {
                        "gridcolor": "white",
                        "linecolor": "white",
                        "ticks": ""
                      }
                    },
                    "scene": {
                      "xaxis": {
                        "backgroundcolor": "#E5ECF6",
                        "gridcolor": "white",
                        "gridwidth": 2,
                        "linecolor": "white",
                        "showbackground": true,
                        "ticks": "",
                        "zerolinecolor": "white"
                      },
                      "yaxis": {
                        "backgroundcolor": "#E5ECF6",
                        "gridcolor": "white",
                        "gridwidth": 2,
                        "linecolor": "white",
                        "showbackground": true,
                        "ticks": "",
                        "zerolinecolor": "white"
                      },
                      "zaxis": {
                        "backgroundcolor": "#E5ECF6",
                        "gridcolor": "white",
                        "gridwidth": 2,
                        "linecolor": "white",
                        "showbackground": true,
                        "ticks": "",
                        "zerolinecolor": "white"
                      }
                    },
                    "shapedefaults": {
                      "line": {
                        "color": "#2a3f5f"
                      }
                    },
                    "ternary": {
                      "aaxis": {
                        "gridcolor": "white",
                        "linecolor": "white",
                        "ticks": ""
                      },
                      "baxis": {
                        "gridcolor": "white",
                        "linecolor": "white",
                        "ticks": ""
                      },
                      "bgcolor": "#E5ECF6",
                      "caxis": {
                        "gridcolor": "white",
                        "linecolor": "white",
                        "ticks": ""
                      }
                    },
                    "title": {
                      "x": 0.05
                    },
                    "xaxis": {
                      "automargin": true,
                      "gridcolor": "white",
                      "linecolor": "white",
                      "ticks": "",
                      "title": {
                        "standoff": 15
                      },
                      "zerolinecolor": "white",
                      "zerolinewidth": 2
                    },
                    "yaxis": {
                      "automargin": true,
                      "gridcolor": "white",
                      "linecolor": "white",
                      "ticks": "",
                      "title": {
                        "standoff": 15
                      },
                      "zerolinecolor": "white",
                      "zerolinewidth": 2
                    }
                  }
                },
                "xaxis": {
                  "anchor": "y",
                  "autorange": true,
                  "domain": [
                    0,
                    1
                  ],
                  "range": [
                    "2020-07-21 18:58:38.2911",
                    "2021-01-09 05:01:21.7089"
                  ],
                  "title": {
                    "text": "x"
                  },
                  "type": "date"
                },
                "yaxis": {
                  "anchor": "x",
                  "autorange": true,
                  "domain": [
                    0,
                    1
                  ],
                  "range": [
                    0,
                    4383.743537085567
                  ],
                  "title": {
                    "text": "lower y"
                  },
                  "type": "linear"
                }
              }
            },
            "image/png": "[encoded data removed]",
            "text/html": [
              "<div>\n",
              "        \n",
              "        \n",
              "            <div id=\"ebbeca3a-be70-4ad6-a4a2-c1a94de8553b\" class=\"plotly-graph-div\" style=\"height:525px; width:100%;\"></div>\n",
              "            <script type=\"text/javascript\">\n",
              "                require([\"plotly\"], function(Plotly) {\n",
              "                    window.PLOTLYENV=window.PLOTLYENV || {};\n",
              "                    \n",
              "                if (document.getElementById(\"ebbeca3a-be70-4ad6-a4a2-c1a94de8553b\")) {\n",
              "                    Plotly.newPlot(\n",
              "                        'ebbeca3a-be70-4ad6-a4a2-c1a94de8553b',\n",
              "                        [{\"hovertemplate\": \"x=%{x}<br>lower y=%{y}<extra></extra>\", \"legendgroup\": \"\", \"line\": {\"color\": \"#636efa\"}, \"mode\": \"lines\", \"name\": \"\", \"orientation\": \"v\", \"showlegend\": false, \"stackgroup\": \"1\", \"type\": \"scatter\", \"x\": [\"2020-07-31T00:00:00\", \"2020-08-31T00:00:00\", \"2020-09-30T00:00:00\", \"2020-10-31T00:00:00\", \"2020-11-30T00:00:00\", \"2020-12-31T00:00:00\"], \"xaxis\": \"x\", \"y\": [2.0874836378139374, 7.171643922019076, 4.4351020225169595, 4.647571643661359, 3.9695002340735552, 3.6178052279534407], \"yaxis\": \"y\"}, {\"type\": \"scatter\", \"x\": [\"2020-07-31T00:00:00\", \"2020-08-31T00:00:00\", \"2020-09-30T00:00:00\", \"2020-10-31T00:00:00\", \"2020-11-30T00:00:00\", \"2020-12-31T00:00:00\"], \"y\": [3886.5279197849927, 4087.389275278228, 4043.1242404710647, 4081.775928841015, 4091.7557398552563, 4111.527204540737]}],\n",
              "                        {\"legend\": {\"tracegroupgap\": 0}, \"margin\": {\"t\": 60}, \"template\": {\"data\": {\"bar\": [{\"error_x\": {\"color\": \"#2a3f5f\"}, \"error_y\": {\"color\": \"#2a3f5f\"}, \"marker\": {\"line\": {\"color\": \"#E5ECF6\", \"width\": 0.5}}, \"type\": \"bar\"}], \"barpolar\": [{\"marker\": {\"line\": {\"color\": \"#E5ECF6\", \"width\": 0.5}}, \"type\": \"barpolar\"}], \"carpet\": [{\"aaxis\": {\"endlinecolor\": \"#2a3f5f\", \"gridcolor\": \"white\", \"linecolor\": \"white\", \"minorgridcolor\": \"white\", \"startlinecolor\": \"#2a3f5f\"}, \"baxis\": {\"endlinecolor\": \"#2a3f5f\", \"gridcolor\": \"white\", \"linecolor\": \"white\", \"minorgridcolor\": \"white\", \"startlinecolor\": \"#2a3f5f\"}, \"type\": \"carpet\"}], \"choropleth\": [{\"colorbar\": {\"outlinewidth\": 0, \"ticks\": \"\"}, \"type\": \"choropleth\"}], \"contour\": [{\"colorbar\": {\"outlinewidth\": 0, \"ticks\": \"\"}, \"colorscale\": [[0.0, \"#0d0887\"], [0.1111111111111111, \"#46039f\"], [0.2222222222222222, \"#7201a8\"], [0.3333333333333333, \"#9c179e\"], [0.4444444444444444, \"#bd3786\"], [0.5555555555555556, \"#d8576b\"], [0.6666666666666666, \"#ed7953\"], [0.7777777777777778, \"#fb9f3a\"], [0.8888888888888888, \"#fdca26\"], [1.0, \"#f0f921\"]], \"type\": \"contour\"}], \"contourcarpet\": [{\"colorbar\": {\"outlinewidth\": 0, \"ticks\": \"\"}, \"type\": \"contourcarpet\"}], \"heatmap\": [{\"colorbar\": {\"outlinewidth\": 0, \"ticks\": \"\"}, \"colorscale\": [[0.0, \"#0d0887\"], [0.1111111111111111, \"#46039f\"], [0.2222222222222222, \"#7201a8\"], [0.3333333333333333, \"#9c179e\"], [0.4444444444444444, \"#bd3786\"], [0.5555555555555556, \"#d8576b\"], [0.6666666666666666, \"#ed7953\"], [0.7777777777777778, \"#fb9f3a\"], [0.8888888888888888, \"#fdca26\"], [1.0, \"#f0f921\"]], \"type\": \"heatmap\"}], \"heatmapgl\": [{\"colorbar\": {\"outlinewidth\": 0, \"ticks\": \"\"}, \"colorscale\": [[0.0, \"#0d0887\"], [0.1111111111111111, \"#46039f\"], [0.2222222222222222, \"#7201a8\"], [0.3333333333333333, \"#9c179e\"], [0.4444444444444444, \"#bd3786\"], [0.5555555555555556, \"#d8576b\"], [0.6666666666666666, \"#ed7953\"], [0.7777777777777778, \"#fb9f3a\"], [0.8888888888888888, \"#fdca26\"], [1.0, \"#f0f921\"]], \"type\": \"heatmapgl\"}], \"histogram\": [{\"marker\": {\"colorbar\": {\"outlinewidth\": 0, \"ticks\": \"\"}}, \"type\": \"histogram\"}], \"histogram2d\": [{\"colorbar\": {\"outlinewidth\": 0, \"ticks\": \"\"}, \"colorscale\": [[0.0, \"#0d0887\"], [0.1111111111111111, \"#46039f\"], [0.2222222222222222, \"#7201a8\"], [0.3333333333333333, \"#9c179e\"], [0.4444444444444444, \"#bd3786\"], [0.5555555555555556, \"#d8576b\"], [0.6666666666666666, \"#ed7953\"], [0.7777777777777778, \"#fb9f3a\"], [0.8888888888888888, \"#fdca26\"], [1.0, \"#f0f921\"]], \"type\": \"histogram2d\"}], \"histogram2dcontour\": [{\"colorbar\": {\"outlinewidth\": 0, \"ticks\": \"\"}, \"colorscale\": [[0.0, \"#0d0887\"], [0.1111111111111111, \"#46039f\"], [0.2222222222222222, \"#7201a8\"], [0.3333333333333333, \"#9c179e\"], [0.4444444444444444, \"#bd3786\"], [0.5555555555555556, \"#d8576b\"], [0.6666666666666666, \"#ed7953\"], [0.7777777777777778, \"#fb9f3a\"], [0.8888888888888888, \"#fdca26\"], [1.0, \"#f0f921\"]], \"type\": \"histogram2dcontour\"}], \"mesh3d\": [{\"colorbar\": {\"outlinewidth\": 0, \"ticks\": \"\"}, \"type\": \"mesh3d\"}], \"parcoords\": [{\"line\": {\"colorbar\": {\"outlinewidth\": 0, \"ticks\": \"\"}}, \"type\": \"parcoords\"}], \"pie\": [{\"automargin\": true, \"type\": \"pie\"}], \"scatter\": [{\"marker\": {\"colorbar\": {\"outlinewidth\": 0, \"ticks\": \"\"}}, \"type\": \"scatter\"}], \"scatter3d\": [{\"line\": {\"colorbar\": {\"outlinewidth\": 0, \"ticks\": \"\"}}, \"marker\": {\"colorbar\": {\"outlinewidth\": 0, \"ticks\": \"\"}}, \"type\": \"scatter3d\"}], \"scattercarpet\": [{\"marker\": {\"colorbar\": {\"outlinewidth\": 0, \"ticks\": \"\"}}, \"type\": \"scattercarpet\"}], \"scattergeo\": [{\"marker\": {\"colorbar\": {\"outlinewidth\": 0, \"ticks\": \"\"}}, \"type\": \"scattergeo\"}], \"scattergl\": [{\"marker\": {\"colorbar\": {\"outlinewidth\": 0, \"ticks\": \"\"}}, \"type\": \"scattergl\"}], \"scattermapbox\": [{\"marker\": {\"colorbar\": {\"outlinewidth\": 0, \"ticks\": \"\"}}, \"type\": \"scattermapbox\"}], \"scatterpolar\": [{\"marker\": {\"colorbar\": {\"outlinewidth\": 0, \"ticks\": \"\"}}, \"type\": \"scatterpolar\"}], \"scatterpolargl\": [{\"marker\": {\"colorbar\": {\"outlinewidth\": 0, \"ticks\": \"\"}}, \"type\": \"scatterpolargl\"}], \"scatterternary\": [{\"marker\": {\"colorbar\": {\"outlinewidth\": 0, \"ticks\": \"\"}}, \"type\": \"scatterternary\"}], \"surface\": [{\"colorbar\": {\"outlinewidth\": 0, \"ticks\": \"\"}, \"colorscale\": [[0.0, \"#0d0887\"], [0.1111111111111111, \"#46039f\"], [0.2222222222222222, \"#7201a8\"], [0.3333333333333333, \"#9c179e\"], [0.4444444444444444, \"#bd3786\"], [0.5555555555555556, \"#d8576b\"], [0.6666666666666666, \"#ed7953\"], [0.7777777777777778, \"#fb9f3a\"], [0.8888888888888888, \"#fdca26\"], [1.0, \"#f0f921\"]], \"type\": \"surface\"}], \"table\": [{\"cells\": {\"fill\": {\"color\": \"#EBF0F8\"}, \"line\": {\"color\": \"white\"}}, \"header\": {\"fill\": {\"color\": \"#C8D4E3\"}, \"line\": {\"color\": \"white\"}}, \"type\": \"table\"}]}, \"layout\": {\"annotationdefaults\": {\"arrowcolor\": \"#2a3f5f\", \"arrowhead\": 0, \"arrowwidth\": 1}, \"coloraxis\": {\"colorbar\": {\"outlinewidth\": 0, \"ticks\": \"\"}}, \"colorscale\": {\"diverging\": [[0, \"#8e0152\"], [0.1, \"#c51b7d\"], [0.2, \"#de77ae\"], [0.3, \"#f1b6da\"], [0.4, \"#fde0ef\"], [0.5, \"#f7f7f7\"], [0.6, \"#e6f5d0\"], [0.7, \"#b8e186\"], [0.8, \"#7fbc41\"], [0.9, \"#4d9221\"], [1, \"#276419\"]], \"sequential\": [[0.0, \"#0d0887\"], [0.1111111111111111, \"#46039f\"], [0.2222222222222222, \"#7201a8\"], [0.3333333333333333, \"#9c179e\"], [0.4444444444444444, \"#bd3786\"], [0.5555555555555556, \"#d8576b\"], [0.6666666666666666, \"#ed7953\"], [0.7777777777777778, \"#fb9f3a\"], [0.8888888888888888, \"#fdca26\"], [1.0, \"#f0f921\"]], \"sequentialminus\": [[0.0, \"#0d0887\"], [0.1111111111111111, \"#46039f\"], [0.2222222222222222, \"#7201a8\"], [0.3333333333333333, \"#9c179e\"], [0.4444444444444444, \"#bd3786\"], [0.5555555555555556, \"#d8576b\"], [0.6666666666666666, \"#ed7953\"], [0.7777777777777778, \"#fb9f3a\"], [0.8888888888888888, \"#fdca26\"], [1.0, \"#f0f921\"]]}, \"colorway\": [\"#636efa\", \"#EF553B\", \"#00cc96\", \"#ab63fa\", \"#FFA15A\", \"#19d3f3\", \"#FF6692\", \"#B6E880\", \"#FF97FF\", \"#FECB52\"], \"font\": {\"color\": \"#2a3f5f\"}, \"geo\": {\"bgcolor\": \"white\", \"lakecolor\": \"white\", \"landcolor\": \"#E5ECF6\", \"showlakes\": true, \"showland\": true, \"subunitcolor\": \"white\"}, \"hoverlabel\": {\"align\": \"left\"}, \"hovermode\": \"closest\", \"mapbox\": {\"style\": \"light\"}, \"paper_bgcolor\": \"white\", \"plot_bgcolor\": \"#E5ECF6\", \"polar\": {\"angularaxis\": {\"gridcolor\": \"white\", \"linecolor\": \"white\", \"ticks\": \"\"}, \"bgcolor\": \"#E5ECF6\", \"radialaxis\": {\"gridcolor\": \"white\", \"linecolor\": \"white\", \"ticks\": \"\"}}, \"scene\": {\"xaxis\": {\"backgroundcolor\": \"#E5ECF6\", \"gridcolor\": \"white\", \"gridwidth\": 2, \"linecolor\": \"white\", \"showbackground\": true, \"ticks\": \"\", \"zerolinecolor\": \"white\"}, \"yaxis\": {\"backgroundcolor\": \"#E5ECF6\", \"gridcolor\": \"white\", \"gridwidth\": 2, \"linecolor\": \"white\", \"showbackground\": true, \"ticks\": \"\", \"zerolinecolor\": \"white\"}, \"zaxis\": {\"backgroundcolor\": \"#E5ECF6\", \"gridcolor\": \"white\", \"gridwidth\": 2, \"linecolor\": \"white\", \"showbackground\": true, \"ticks\": \"\", \"zerolinecolor\": \"white\"}}, \"shapedefaults\": {\"line\": {\"color\": \"#2a3f5f\"}}, \"ternary\": {\"aaxis\": {\"gridcolor\": \"white\", \"linecolor\": \"white\", \"ticks\": \"\"}, \"baxis\": {\"gridcolor\": \"white\", \"linecolor\": \"white\", \"ticks\": \"\"}, \"bgcolor\": \"#E5ECF6\", \"caxis\": {\"gridcolor\": \"white\", \"linecolor\": \"white\", \"ticks\": \"\"}}, \"title\": {\"x\": 0.05}, \"xaxis\": {\"automargin\": true, \"gridcolor\": \"white\", \"linecolor\": \"white\", \"ticks\": \"\", \"title\": {\"standoff\": 15}, \"zerolinecolor\": \"white\", \"zerolinewidth\": 2}, \"yaxis\": {\"automargin\": true, \"gridcolor\": \"white\", \"linecolor\": \"white\", \"ticks\": \"\", \"title\": {\"standoff\": 15}, \"zerolinecolor\": \"white\", \"zerolinewidth\": 2}}}, \"xaxis\": {\"anchor\": \"y\", \"domain\": [0.0, 1.0], \"title\": {\"text\": \"x\"}}, \"yaxis\": {\"anchor\": \"x\", \"domain\": [0.0, 1.0], \"title\": {\"text\": \"lower y\"}}},\n",
              "                        {\"responsive\": true}\n",
              "                    ).then(function(){\n",
              "                            \n",
              "var gd = document.getElementById('ebbeca3a-be70-4ad6-a4a2-c1a94de8553b');\n",
              "var x = new MutationObserver(function (mutations, observer) {{\n",
              "        var display = window.getComputedStyle(gd).display;\n",
              "        if (!display || display === 'none') {{\n",
              "            console.log([gd, 'removed!']);\n",
              "            Plotly.purge(gd);\n",
              "            observer.disconnect();\n",
              "        }}\n",
              "}});\n",
              "\n",
              "// Listen for the removal of the full notebook cells\n",
              "var notebookContainer = gd.closest('#notebook-container');\n",
              "if (notebookContainer) {{\n",
              "    x.observe(notebookContainer, {childList: true});\n",
              "}}\n",
              "\n",
              "// Listen for the clearing of the current output cell\n",
              "var outputEl = gd.closest('.output');\n",
              "if (outputEl) {{\n",
              "    x.observe(outputEl, {childList: true});\n",
              "}}\n",
              "\n",
              "                        })\n",
              "                };\n",
              "                });\n",
              "            </script>\n",
              "        </div>"
            ]
          },
          "metadata": {
            "tags": []
          }
        }
      ]
    },
    {
      "cell_type": "code",
      "metadata": {
        "id": "_-WrSinJMh9N",
        "outputId": "9e83f811-3c85-4521-a0a9-cd9433967f7a"
      },
      "source": [
        "px.line(data_frame=df2,x=df2.index,y='Qty')"
      ],
      "execution_count": null,
      "outputs": [
        {
          "output_type": "error",
          "ename": "ValueError",
          "evalue": "All arguments should have the same length. The length of argument `error_y` is 6, whereas the length of previous arguments ['x', 'Qty'] is 98",
          "traceback": [
            "\u001b[0;31m---------------------------------------------------------------------------\u001b[0m",
            "\u001b[0;31mValueError\u001b[0m                                Traceback (most recent call last)",
            "\u001b[0;32m<ipython-input-93-d1d4cddeacb8>\u001b[0m in \u001b[0;36m<module>\u001b[0;34m\u001b[0m\n\u001b[0;32m----> 1\u001b[0;31m \u001b[0mpx\u001b[0m\u001b[0;34m.\u001b[0m\u001b[0mline\u001b[0m\u001b[0;34m(\u001b[0m\u001b[0mdata_frame\u001b[0m\u001b[0;34m=\u001b[0m\u001b[0mdf2\u001b[0m\u001b[0;34m,\u001b[0m\u001b[0mx\u001b[0m\u001b[0;34m=\u001b[0m\u001b[0mdf2\u001b[0m\u001b[0;34m.\u001b[0m\u001b[0mindex\u001b[0m\u001b[0;34m,\u001b[0m\u001b[0my\u001b[0m\u001b[0;34m=\u001b[0m\u001b[0;34m'Qty'\u001b[0m\u001b[0;34m,\u001b[0m\u001b[0merror_y\u001b[0m\u001b[0;34m=\u001b[0m\u001b[0mcint\u001b[0m\u001b[0;34m)\u001b[0m\u001b[0;34m\u001b[0m\u001b[0;34m\u001b[0m\u001b[0m\n\u001b[0m",
            "\u001b[0;32m~/.local/lib/python3.8/site-packages/plotly/express/_chart_types.py\u001b[0m in \u001b[0;36mline\u001b[0;34m(data_frame, x, y, line_group, color, line_dash, hover_name, hover_data, custom_data, text, facet_row, facet_col, facet_col_wrap, error_x, error_x_minus, error_y, error_y_minus, animation_frame, animation_group, category_orders, labels, color_discrete_sequence, color_discrete_map, line_dash_sequence, line_dash_map, log_x, log_y, range_x, range_y, line_shape, render_mode, title, template, width, height)\u001b[0m\n\u001b[1;32m    212\u001b[0m     \u001b[0ma\u001b[0m \u001b[0mpolyline\u001b[0m \u001b[0mmark\u001b[0m \u001b[0;32min\u001b[0m \u001b[0;36m2\u001b[0m\u001b[0mD\u001b[0m \u001b[0mspace\u001b[0m\u001b[0;34m.\u001b[0m\u001b[0;34m\u001b[0m\u001b[0;34m\u001b[0m\u001b[0m\n\u001b[1;32m    213\u001b[0m     \"\"\"\n\u001b[0;32m--> 214\u001b[0;31m     \u001b[0;32mreturn\u001b[0m \u001b[0mmake_figure\u001b[0m\u001b[0;34m(\u001b[0m\u001b[0margs\u001b[0m\u001b[0;34m=\u001b[0m\u001b[0mlocals\u001b[0m\u001b[0;34m(\u001b[0m\u001b[0;34m)\u001b[0m\u001b[0;34m,\u001b[0m \u001b[0mconstructor\u001b[0m\u001b[0;34m=\u001b[0m\u001b[0mgo\u001b[0m\u001b[0;34m.\u001b[0m\u001b[0mScatter\u001b[0m\u001b[0;34m)\u001b[0m\u001b[0;34m\u001b[0m\u001b[0;34m\u001b[0m\u001b[0m\n\u001b[0m\u001b[1;32m    215\u001b[0m \u001b[0;34m\u001b[0m\u001b[0m\n\u001b[1;32m    216\u001b[0m \u001b[0;34m\u001b[0m\u001b[0m\n",
            "\u001b[0;32m~/.local/lib/python3.8/site-packages/plotly/express/_core.py\u001b[0m in \u001b[0;36mmake_figure\u001b[0;34m(args, constructor, trace_patch, layout_patch)\u001b[0m\n\u001b[1;32m   1429\u001b[0m     \u001b[0mapply_default_cascade\u001b[0m\u001b[0;34m(\u001b[0m\u001b[0margs\u001b[0m\u001b[0;34m)\u001b[0m\u001b[0;34m\u001b[0m\u001b[0;34m\u001b[0m\u001b[0m\n\u001b[1;32m   1430\u001b[0m \u001b[0;34m\u001b[0m\u001b[0m\n\u001b[0;32m-> 1431\u001b[0;31m     args, trace_specs, grouped_mappings, sizeref, show_colorbar = infer_config(\n\u001b[0m\u001b[1;32m   1432\u001b[0m         \u001b[0margs\u001b[0m\u001b[0;34m,\u001b[0m \u001b[0mconstructor\u001b[0m\u001b[0;34m,\u001b[0m \u001b[0mtrace_patch\u001b[0m\u001b[0;34m\u001b[0m\u001b[0;34m\u001b[0m\u001b[0m\n\u001b[1;32m   1433\u001b[0m     )\n",
            "\u001b[0;32m~/.local/lib/python3.8/site-packages/plotly/express/_core.py\u001b[0m in \u001b[0;36minfer_config\u001b[0;34m(args, constructor, trace_patch)\u001b[0m\n\u001b[1;32m   1273\u001b[0m             \u001b[0mall_attrables\u001b[0m \u001b[0;34m+=\u001b[0m \u001b[0;34m[\u001b[0m\u001b[0mgroup_attr\u001b[0m\u001b[0;34m]\u001b[0m\u001b[0;34m\u001b[0m\u001b[0;34m\u001b[0m\u001b[0m\n\u001b[1;32m   1274\u001b[0m \u001b[0;34m\u001b[0m\u001b[0m\n\u001b[0;32m-> 1275\u001b[0;31m     \u001b[0margs\u001b[0m \u001b[0;34m=\u001b[0m \u001b[0mbuild_dataframe\u001b[0m\u001b[0;34m(\u001b[0m\u001b[0margs\u001b[0m\u001b[0;34m,\u001b[0m \u001b[0mall_attrables\u001b[0m\u001b[0;34m,\u001b[0m \u001b[0marray_attrables\u001b[0m\u001b[0;34m)\u001b[0m\u001b[0;34m\u001b[0m\u001b[0;34m\u001b[0m\u001b[0m\n\u001b[0m\u001b[1;32m   1276\u001b[0m     \u001b[0;32mif\u001b[0m \u001b[0mconstructor\u001b[0m \u001b[0;32min\u001b[0m \u001b[0;34m[\u001b[0m\u001b[0mgo\u001b[0m\u001b[0;34m.\u001b[0m\u001b[0mTreemap\u001b[0m\u001b[0;34m,\u001b[0m \u001b[0mgo\u001b[0m\u001b[0;34m.\u001b[0m\u001b[0mSunburst\u001b[0m\u001b[0;34m]\u001b[0m \u001b[0;32mand\u001b[0m \u001b[0margs\u001b[0m\u001b[0;34m[\u001b[0m\u001b[0;34m\"path\"\u001b[0m\u001b[0;34m]\u001b[0m \u001b[0;32mis\u001b[0m \u001b[0;32mnot\u001b[0m \u001b[0;32mNone\u001b[0m\u001b[0;34m:\u001b[0m\u001b[0;34m\u001b[0m\u001b[0;34m\u001b[0m\u001b[0m\n\u001b[1;32m   1277\u001b[0m         \u001b[0margs\u001b[0m \u001b[0;34m=\u001b[0m \u001b[0mprocess_dataframe_hierarchy\u001b[0m\u001b[0;34m(\u001b[0m\u001b[0margs\u001b[0m\u001b[0;34m)\u001b[0m\u001b[0;34m\u001b[0m\u001b[0;34m\u001b[0m\u001b[0m\n",
            "\u001b[0;32m~/.local/lib/python3.8/site-packages/plotly/express/_core.py\u001b[0m in \u001b[0;36mbuild_dataframe\u001b[0;34m(args, attrables, array_attrables)\u001b[0m\n\u001b[1;32m   1078\u001b[0m                     \u001b[0mcol_name\u001b[0m \u001b[0;34m=\u001b[0m \u001b[0m_check_name_not_reserved\u001b[0m\u001b[0;34m(\u001b[0m\u001b[0mfield\u001b[0m\u001b[0;34m,\u001b[0m \u001b[0mreserved_names\u001b[0m\u001b[0;34m)\u001b[0m\u001b[0;34m\u001b[0m\u001b[0;34m\u001b[0m\u001b[0m\n\u001b[1;32m   1079\u001b[0m                 \u001b[0;32mif\u001b[0m \u001b[0mlength\u001b[0m \u001b[0;32mand\u001b[0m \u001b[0mlen\u001b[0m\u001b[0;34m(\u001b[0m\u001b[0margument\u001b[0m\u001b[0;34m)\u001b[0m \u001b[0;34m!=\u001b[0m \u001b[0mlength\u001b[0m\u001b[0;34m:\u001b[0m\u001b[0;34m\u001b[0m\u001b[0;34m\u001b[0m\u001b[0m\n\u001b[0;32m-> 1080\u001b[0;31m                     raise ValueError(\n\u001b[0m\u001b[1;32m   1081\u001b[0m                         \u001b[0;34m\"All arguments should have the same length. \"\u001b[0m\u001b[0;34m\u001b[0m\u001b[0;34m\u001b[0m\u001b[0m\n\u001b[1;32m   1082\u001b[0m                         \u001b[0;34m\"The length of argument `%s` is %d, whereas the \"\u001b[0m\u001b[0;34m\u001b[0m\u001b[0;34m\u001b[0m\u001b[0m\n",
            "\u001b[0;31mValueError\u001b[0m: All arguments should have the same length. The length of argument `error_y` is 6, whereas the length of previous arguments ['x', 'Qty'] is 98"
          ]
        }
      ]
    },
    {
      "cell_type": "code",
      "metadata": {
        "id": "9NDfj70mMh9S",
        "outputId": "1545544c-fedb-4dd1-b8d1-d86b6e669eed"
      },
      "source": [
        "df2.iplot(rangeslider=True)"
      ],
      "execution_count": null,
      "outputs": [
        {
          "output_type": "display_data",
          "data": {
            "application/vnd.plotly.v1+json": {
              "config": {
                "linkText": "Export to plot.ly",
                "plotlyServerURL": "https://plot.ly",
                "showLink": false
              },
              "data": [
                {
                  "line": {
                    "color": "rgba(255, 153, 51, 1.0)",
                    "dash": "solid",
                    "shape": "linear",
                    "width": 1.3
                  },
                  "mode": "lines",
                  "name": "Qty",
                  "text": "",
                  "type": "scatter",
                  "x": [
                    "2012-12-31",
                    "2013-01-31",
                    "2013-02-28",
                    "2013-03-31",
                    "2013-04-30",
                    "2013-05-31",
                    "2013-06-30",
                    "2013-07-31",
                    "2013-08-31",
                    "2013-09-30",
                    "2013-10-31",
                    "2013-11-30",
                    "2013-12-31",
                    "2014-01-31",
                    "2014-02-28",
                    "2014-03-31",
                    "2014-04-30",
                    "2014-05-31",
                    "2014-06-30",
                    "2014-07-31",
                    "2014-08-31",
                    "2014-09-30",
                    "2014-10-31",
                    "2014-11-30",
                    "2014-12-31",
                    "2015-01-31",
                    "2015-02-28",
                    "2015-03-31",
                    "2015-04-30",
                    "2015-05-31",
                    "2015-06-30",
                    "2015-07-31",
                    "2015-08-31",
                    "2015-09-30",
                    "2015-10-31",
                    "2015-11-30",
                    "2015-12-31",
                    "2016-01-31",
                    "2016-02-29",
                    "2016-03-31",
                    "2016-04-30",
                    "2016-05-31",
                    "2016-06-30",
                    "2016-07-31",
                    "2016-08-31",
                    "2016-09-30",
                    "2016-10-31",
                    "2016-11-30",
                    "2016-12-31",
                    "2017-01-31",
                    "2017-02-28",
                    "2017-03-31",
                    "2017-04-30",
                    "2017-05-31",
                    "2017-06-30",
                    "2017-07-31",
                    "2017-08-31",
                    "2017-09-30",
                    "2017-10-31",
                    "2017-11-30",
                    "2017-12-31",
                    "2018-01-31",
                    "2018-02-28",
                    "2018-03-31",
                    "2018-04-30",
                    "2018-05-31",
                    "2018-06-30",
                    "2018-07-31",
                    "2018-08-31",
                    "2018-09-30",
                    "2018-10-31",
                    "2018-11-30",
                    "2018-12-31",
                    "2019-01-31",
                    "2019-02-28",
                    "2019-03-31",
                    "2019-04-30",
                    "2019-05-31",
                    "2019-06-30",
                    "2019-07-31",
                    "2019-08-31",
                    "2019-09-30",
                    "2019-10-31",
                    "2019-11-30",
                    "2019-12-31",
                    "2020-01-31",
                    "2020-02-29",
                    "2020-03-31",
                    "2020-04-30",
                    "2020-05-31",
                    "2020-06-30",
                    "2020-07-31",
                    "2020-07-31",
                    "2020-08-31",
                    "2020-09-30",
                    "2020-10-31",
                    "2020-11-30",
                    "2020-12-31"
                  ],
                  "y": [
                    1148,
                    997,
                    560,
                    560,
                    1204,
                    1344,
                    506,
                    1120,
                    420,
                    392,
                    1280,
                    560,
                    532,
                    1420,
                    0,
                    448,
                    1120,
                    756,
                    1120,
                    1064,
                    320,
                    1008,
                    0,
                    1440,
                    1040,
                    448,
                    944,
                    0,
                    1104,
                    1104,
                    1120,
                    480,
                    1008,
                    420,
                    992,
                    448,
                    768,
                    1792,
                    1648,
                    640,
                    1056,
                    1024,
                    560,
                    576,
                    560,
                    0,
                    448,
                    1600,
                    608,
                    1152,
                    928,
                    560,
                    560,
                    1152,
                    0,
                    560,
                    2037,
                    1782,
                    1712,
                    1712,
                    3808,
                    1420,
                    1728,
                    992,
                    1664,
                    1335,
                    673,
                    0,
                    1216,
                    2240,
                    0,
                    4816,
                    2144,
                    4224,
                    2819,
                    1920,
                    4959,
                    3824,
                    1799,
                    1152,
                    0,
                    1952,
                    1824,
                    0,
                    1504,
                    1472,
                    1152,
                    0,
                    2304,
                    0,
                    1760,
                    640,
                    640,
                    "",
                    "",
                    "",
                    "",
                    ""
                  ]
                },
                {
                  "line": {
                    "color": "rgba(55, 128, 191, 1.0)",
                    "dash": "solid",
                    "shape": "linear",
                    "width": 1.3
                  },
                  "mode": "lines",
                  "name": "pred",
                  "text": "",
                  "type": "scatter",
                  "x": [
                    "2012-12-31",
                    "2013-01-31",
                    "2013-02-28",
                    "2013-03-31",
                    "2013-04-30",
                    "2013-05-31",
                    "2013-06-30",
                    "2013-07-31",
                    "2013-08-31",
                    "2013-09-30",
                    "2013-10-31",
                    "2013-11-30",
                    "2013-12-31",
                    "2014-01-31",
                    "2014-02-28",
                    "2014-03-31",
                    "2014-04-30",
                    "2014-05-31",
                    "2014-06-30",
                    "2014-07-31",
                    "2014-08-31",
                    "2014-09-30",
                    "2014-10-31",
                    "2014-11-30",
                    "2014-12-31",
                    "2015-01-31",
                    "2015-02-28",
                    "2015-03-31",
                    "2015-04-30",
                    "2015-05-31",
                    "2015-06-30",
                    "2015-07-31",
                    "2015-08-31",
                    "2015-09-30",
                    "2015-10-31",
                    "2015-11-30",
                    "2015-12-31",
                    "2016-01-31",
                    "2016-02-29",
                    "2016-03-31",
                    "2016-04-30",
                    "2016-05-31",
                    "2016-06-30",
                    "2016-07-31",
                    "2016-08-31",
                    "2016-09-30",
                    "2016-10-31",
                    "2016-11-30",
                    "2016-12-31",
                    "2017-01-31",
                    "2017-02-28",
                    "2017-03-31",
                    "2017-04-30",
                    "2017-05-31",
                    "2017-06-30",
                    "2017-07-31",
                    "2017-08-31",
                    "2017-09-30",
                    "2017-10-31",
                    "2017-11-30",
                    "2017-12-31",
                    "2018-01-31",
                    "2018-02-28",
                    "2018-03-31",
                    "2018-04-30",
                    "2018-05-31",
                    "2018-06-30",
                    "2018-07-31",
                    "2018-08-31",
                    "2018-09-30",
                    "2018-10-31",
                    "2018-11-30",
                    "2018-12-31",
                    "2019-01-31",
                    "2019-02-28",
                    "2019-03-31",
                    "2019-04-30",
                    "2019-05-31",
                    "2019-06-30",
                    "2019-07-31",
                    "2019-08-31",
                    "2019-09-30",
                    "2019-10-31",
                    "2019-11-30",
                    "2019-12-31",
                    "2020-01-31",
                    "2020-02-29",
                    "2020-03-31",
                    "2020-04-30",
                    "2020-05-31",
                    "2020-06-30",
                    "2020-07-31",
                    "2020-07-31",
                    "2020-08-31",
                    "2020-09-30",
                    "2020-10-31",
                    "2020-11-30",
                    "2020-12-31"
                  ],
                  "y": [
                    "",
                    "",
                    "",
                    "",
                    "",
                    "",
                    "",
                    "",
                    "",
                    "",
                    "",
                    "",
                    "",
                    "",
                    "",
                    "",
                    "",
                    "",
                    "",
                    "",
                    "",
                    "",
                    "",
                    "",
                    599.9255272250159,
                    513.5936207675652,
                    596.1563501606884,
                    535.4495616179753,
                    830.4168146388189,
                    672.3729766720159,
                    498.1791019051582,
                    411.36783651492124,
                    535.0764815218555,
                    499.18628526532035,
                    638.7486812381762,
                    578.3200769316079,
                    723.0271704950477,
                    635.5212613116191,
                    420.5522030650563,
                    473.22989805545285,
                    651.4060981113383,
                    748.0531128519524,
                    857.8334308655492,
                    1070.7127842277696,
                    763.3549510462122,
                    776.1206565503738,
                    991.2443313438765,
                    720.9318254715187,
                    701.5381848211565,
                    696.4356187022569,
                    683.6788722962665,
                    745.3357152391332,
                    666.8041885942827,
                    738.2450569252621,
                    700.8105767665545,
                    602.8432017420648,
                    760.3353603129907,
                    689.3372313664457,
                    789.9092354648557,
                    712.4401901731379,
                    820.3807068327127,
                    862.0126793483082,
                    944.2284092578044,
                    1329.8458885473742,
                    1014.0692157635563,
                    1416.0711430009146,
                    1114.662656999125,
                    1240.8913272280959,
                    589.2662726306033,
                    1103.9771432591679,
                    793.0820275257624,
                    800.9887983135137,
                    1221.3273242213897,
                    872.3944634752971,
                    1234.6587864710066,
                    1142.5755039647693,
                    1892.0471921551962,
                    1853.219817639417,
                    2731.502888227104,
                    1879.0056045920278,
                    2214.172841209861,
                    981.9144573043944,
                    2058.389569523997,
                    1113.9931864995256,
                    1466.4820286780255,
                    1109.3868374590518,
                    1490.0393539700378,
                    1081.3565500318264,
                    954.6342388677967,
                    1444.9371720598215,
                    950.6256514258054,
                    912.1210233251348,
                    912.1210233251348,
                    1001.9319085191131,
                    970.6458238238217,
                    981.3019290418938,
                    977.6444041163156,
                    978.8964798675288
                  ]
                }
              ],
              "layout": {
                "autosize": true,
                "legend": {
                  "bgcolor": "#F5F6F9",
                  "font": {
                    "color": "#4D5663"
                  }
                },
                "paper_bgcolor": "#F5F6F9",
                "plot_bgcolor": "#F5F6F9",
                "template": {
                  "data": {
                    "bar": [
                      {
                        "error_x": {
                          "color": "#2a3f5f"
                        },
                        "error_y": {
                          "color": "#2a3f5f"
                        },
                        "marker": {
                          "line": {
                            "color": "#E5ECF6",
                            "width": 0.5
                          }
                        },
                        "type": "bar"
                      }
                    ],
                    "barpolar": [
                      {
                        "marker": {
                          "line": {
                            "color": "#E5ECF6",
                            "width": 0.5
                          }
                        },
                        "type": "barpolar"
                      }
                    ],
                    "carpet": [
                      {
                        "aaxis": {
                          "endlinecolor": "#2a3f5f",
                          "gridcolor": "white",
                          "linecolor": "white",
                          "minorgridcolor": "white",
                          "startlinecolor": "#2a3f5f"
                        },
                        "baxis": {
                          "endlinecolor": "#2a3f5f",
                          "gridcolor": "white",
                          "linecolor": "white",
                          "minorgridcolor": "white",
                          "startlinecolor": "#2a3f5f"
                        },
                        "type": "carpet"
                      }
                    ],
                    "choropleth": [
                      {
                        "colorbar": {
                          "outlinewidth": 0,
                          "ticks": ""
                        },
                        "type": "choropleth"
                      }
                    ],
                    "contour": [
                      {
                        "colorbar": {
                          "outlinewidth": 0,
                          "ticks": ""
                        },
                        "colorscale": [
                          [
                            0,
                            "#0d0887"
                          ],
                          [
                            0.1111111111111111,
                            "#46039f"
                          ],
                          [
                            0.2222222222222222,
                            "#7201a8"
                          ],
                          [
                            0.3333333333333333,
                            "#9c179e"
                          ],
                          [
                            0.4444444444444444,
                            "#bd3786"
                          ],
                          [
                            0.5555555555555556,
                            "#d8576b"
                          ],
                          [
                            0.6666666666666666,
                            "#ed7953"
                          ],
                          [
                            0.7777777777777778,
                            "#fb9f3a"
                          ],
                          [
                            0.8888888888888888,
                            "#fdca26"
                          ],
                          [
                            1,
                            "#f0f921"
                          ]
                        ],
                        "type": "contour"
                      }
                    ],
                    "contourcarpet": [
                      {
                        "colorbar": {
                          "outlinewidth": 0,
                          "ticks": ""
                        },
                        "type": "contourcarpet"
                      }
                    ],
                    "heatmap": [
                      {
                        "colorbar": {
                          "outlinewidth": 0,
                          "ticks": ""
                        },
                        "colorscale": [
                          [
                            0,
                            "#0d0887"
                          ],
                          [
                            0.1111111111111111,
                            "#46039f"
                          ],
                          [
                            0.2222222222222222,
                            "#7201a8"
                          ],
                          [
                            0.3333333333333333,
                            "#9c179e"
                          ],
                          [
                            0.4444444444444444,
                            "#bd3786"
                          ],
                          [
                            0.5555555555555556,
                            "#d8576b"
                          ],
                          [
                            0.6666666666666666,
                            "#ed7953"
                          ],
                          [
                            0.7777777777777778,
                            "#fb9f3a"
                          ],
                          [
                            0.8888888888888888,
                            "#fdca26"
                          ],
                          [
                            1,
                            "#f0f921"
                          ]
                        ],
                        "type": "heatmap"
                      }
                    ],
                    "heatmapgl": [
                      {
                        "colorbar": {
                          "outlinewidth": 0,
                          "ticks": ""
                        },
                        "colorscale": [
                          [
                            0,
                            "#0d0887"
                          ],
                          [
                            0.1111111111111111,
                            "#46039f"
                          ],
                          [
                            0.2222222222222222,
                            "#7201a8"
                          ],
                          [
                            0.3333333333333333,
                            "#9c179e"
                          ],
                          [
                            0.4444444444444444,
                            "#bd3786"
                          ],
                          [
                            0.5555555555555556,
                            "#d8576b"
                          ],
                          [
                            0.6666666666666666,
                            "#ed7953"
                          ],
                          [
                            0.7777777777777778,
                            "#fb9f3a"
                          ],
                          [
                            0.8888888888888888,
                            "#fdca26"
                          ],
                          [
                            1,
                            "#f0f921"
                          ]
                        ],
                        "type": "heatmapgl"
                      }
                    ],
                    "histogram": [
                      {
                        "marker": {
                          "colorbar": {
                            "outlinewidth": 0,
                            "ticks": ""
                          }
                        },
                        "type": "histogram"
                      }
                    ],
                    "histogram2d": [
                      {
                        "colorbar": {
                          "outlinewidth": 0,
                          "ticks": ""
                        },
                        "colorscale": [
                          [
                            0,
                            "#0d0887"
                          ],
                          [
                            0.1111111111111111,
                            "#46039f"
                          ],
                          [
                            0.2222222222222222,
                            "#7201a8"
                          ],
                          [
                            0.3333333333333333,
                            "#9c179e"
                          ],
                          [
                            0.4444444444444444,
                            "#bd3786"
                          ],
                          [
                            0.5555555555555556,
                            "#d8576b"
                          ],
                          [
                            0.6666666666666666,
                            "#ed7953"
                          ],
                          [
                            0.7777777777777778,
                            "#fb9f3a"
                          ],
                          [
                            0.8888888888888888,
                            "#fdca26"
                          ],
                          [
                            1,
                            "#f0f921"
                          ]
                        ],
                        "type": "histogram2d"
                      }
                    ],
                    "histogram2dcontour": [
                      {
                        "colorbar": {
                          "outlinewidth": 0,
                          "ticks": ""
                        },
                        "colorscale": [
                          [
                            0,
                            "#0d0887"
                          ],
                          [
                            0.1111111111111111,
                            "#46039f"
                          ],
                          [
                            0.2222222222222222,
                            "#7201a8"
                          ],
                          [
                            0.3333333333333333,
                            "#9c179e"
                          ],
                          [
                            0.4444444444444444,
                            "#bd3786"
                          ],
                          [
                            0.5555555555555556,
                            "#d8576b"
                          ],
                          [
                            0.6666666666666666,
                            "#ed7953"
                          ],
                          [
                            0.7777777777777778,
                            "#fb9f3a"
                          ],
                          [
                            0.8888888888888888,
                            "#fdca26"
                          ],
                          [
                            1,
                            "#f0f921"
                          ]
                        ],
                        "type": "histogram2dcontour"
                      }
                    ],
                    "mesh3d": [
                      {
                        "colorbar": {
                          "outlinewidth": 0,
                          "ticks": ""
                        },
                        "type": "mesh3d"
                      }
                    ],
                    "parcoords": [
                      {
                        "line": {
                          "colorbar": {
                            "outlinewidth": 0,
                            "ticks": ""
                          }
                        },
                        "type": "parcoords"
                      }
                    ],
                    "pie": [
                      {
                        "automargin": true,
                        "type": "pie"
                      }
                    ],
                    "scatter": [
                      {
                        "marker": {
                          "colorbar": {
                            "outlinewidth": 0,
                            "ticks": ""
                          }
                        },
                        "type": "scatter"
                      }
                    ],
                    "scatter3d": [
                      {
                        "line": {
                          "colorbar": {
                            "outlinewidth": 0,
                            "ticks": ""
                          }
                        },
                        "marker": {
                          "colorbar": {
                            "outlinewidth": 0,
                            "ticks": ""
                          }
                        },
                        "type": "scatter3d"
                      }
                    ],
                    "scattercarpet": [
                      {
                        "marker": {
                          "colorbar": {
                            "outlinewidth": 0,
                            "ticks": ""
                          }
                        },
                        "type": "scattercarpet"
                      }
                    ],
                    "scattergeo": [
                      {
                        "marker": {
                          "colorbar": {
                            "outlinewidth": 0,
                            "ticks": ""
                          }
                        },
                        "type": "scattergeo"
                      }
                    ],
                    "scattergl": [
                      {
                        "marker": {
                          "colorbar": {
                            "outlinewidth": 0,
                            "ticks": ""
                          }
                        },
                        "type": "scattergl"
                      }
                    ],
                    "scattermapbox": [
                      {
                        "marker": {
                          "colorbar": {
                            "outlinewidth": 0,
                            "ticks": ""
                          }
                        },
                        "type": "scattermapbox"
                      }
                    ],
                    "scatterpolar": [
                      {
                        "marker": {
                          "colorbar": {
                            "outlinewidth": 0,
                            "ticks": ""
                          }
                        },
                        "type": "scatterpolar"
                      }
                    ],
                    "scatterpolargl": [
                      {
                        "marker": {
                          "colorbar": {
                            "outlinewidth": 0,
                            "ticks": ""
                          }
                        },
                        "type": "scatterpolargl"
                      }
                    ],
                    "scatterternary": [
                      {
                        "marker": {
                          "colorbar": {
                            "outlinewidth": 0,
                            "ticks": ""
                          }
                        },
                        "type": "scatterternary"
                      }
                    ],
                    "surface": [
                      {
                        "colorbar": {
                          "outlinewidth": 0,
                          "ticks": ""
                        },
                        "colorscale": [
                          [
                            0,
                            "#0d0887"
                          ],
                          [
                            0.1111111111111111,
                            "#46039f"
                          ],
                          [
                            0.2222222222222222,
                            "#7201a8"
                          ],
                          [
                            0.3333333333333333,
                            "#9c179e"
                          ],
                          [
                            0.4444444444444444,
                            "#bd3786"
                          ],
                          [
                            0.5555555555555556,
                            "#d8576b"
                          ],
                          [
                            0.6666666666666666,
                            "#ed7953"
                          ],
                          [
                            0.7777777777777778,
                            "#fb9f3a"
                          ],
                          [
                            0.8888888888888888,
                            "#fdca26"
                          ],
                          [
                            1,
                            "#f0f921"
                          ]
                        ],
                        "type": "surface"
                      }
                    ],
                    "table": [
                      {
                        "cells": {
                          "fill": {
                            "color": "#EBF0F8"
                          },
                          "line": {
                            "color": "white"
                          }
                        },
                        "header": {
                          "fill": {
                            "color": "#C8D4E3"
                          },
                          "line": {
                            "color": "white"
                          }
                        },
                        "type": "table"
                      }
                    ]
                  },
                  "layout": {
                    "annotationdefaults": {
                      "arrowcolor": "#2a3f5f",
                      "arrowhead": 0,
                      "arrowwidth": 1
                    },
                    "coloraxis": {
                      "colorbar": {
                        "outlinewidth": 0,
                        "ticks": ""
                      }
                    },
                    "colorscale": {
                      "diverging": [
                        [
                          0,
                          "#8e0152"
                        ],
                        [
                          0.1,
                          "#c51b7d"
                        ],
                        [
                          0.2,
                          "#de77ae"
                        ],
                        [
                          0.3,
                          "#f1b6da"
                        ],
                        [
                          0.4,
                          "#fde0ef"
                        ],
                        [
                          0.5,
                          "#f7f7f7"
                        ],
                        [
                          0.6,
                          "#e6f5d0"
                        ],
                        [
                          0.7,
                          "#b8e186"
                        ],
                        [
                          0.8,
                          "#7fbc41"
                        ],
                        [
                          0.9,
                          "#4d9221"
                        ],
                        [
                          1,
                          "#276419"
                        ]
                      ],
                      "sequential": [
                        [
                          0,
                          "#0d0887"
                        ],
                        [
                          0.1111111111111111,
                          "#46039f"
                        ],
                        [
                          0.2222222222222222,
                          "#7201a8"
                        ],
                        [
                          0.3333333333333333,
                          "#9c179e"
                        ],
                        [
                          0.4444444444444444,
                          "#bd3786"
                        ],
                        [
                          0.5555555555555556,
                          "#d8576b"
                        ],
                        [
                          0.6666666666666666,
                          "#ed7953"
                        ],
                        [
                          0.7777777777777778,
                          "#fb9f3a"
                        ],
                        [
                          0.8888888888888888,
                          "#fdca26"
                        ],
                        [
                          1,
                          "#f0f921"
                        ]
                      ],
                      "sequentialminus": [
                        [
                          0,
                          "#0d0887"
                        ],
                        [
                          0.1111111111111111,
                          "#46039f"
                        ],
                        [
                          0.2222222222222222,
                          "#7201a8"
                        ],
                        [
                          0.3333333333333333,
                          "#9c179e"
                        ],
                        [
                          0.4444444444444444,
                          "#bd3786"
                        ],
                        [
                          0.5555555555555556,
                          "#d8576b"
                        ],
                        [
                          0.6666666666666666,
                          "#ed7953"
                        ],
                        [
                          0.7777777777777778,
                          "#fb9f3a"
                        ],
                        [
                          0.8888888888888888,
                          "#fdca26"
                        ],
                        [
                          1,
                          "#f0f921"
                        ]
                      ]
                    },
                    "colorway": [
                      "#636efa",
                      "#EF553B",
                      "#00cc96",
                      "#ab63fa",
                      "#FFA15A",
                      "#19d3f3",
                      "#FF6692",
                      "#B6E880",
                      "#FF97FF",
                      "#FECB52"
                    ],
                    "font": {
                      "color": "#2a3f5f"
                    },
                    "geo": {
                      "bgcolor": "white",
                      "lakecolor": "white",
                      "landcolor": "#E5ECF6",
                      "showlakes": true,
                      "showland": true,
                      "subunitcolor": "white"
                    },
                    "hoverlabel": {
                      "align": "left"
                    },
                    "hovermode": "closest",
                    "mapbox": {
                      "style": "light"
                    },
                    "paper_bgcolor": "white",
                    "plot_bgcolor": "#E5ECF6",
                    "polar": {
                      "angularaxis": {
                        "gridcolor": "white",
                        "linecolor": "white",
                        "ticks": ""
                      },
                      "bgcolor": "#E5ECF6",
                      "radialaxis": {
                        "gridcolor": "white",
                        "linecolor": "white",
                        "ticks": ""
                      }
                    },
                    "scene": {
                      "xaxis": {
                        "backgroundcolor": "#E5ECF6",
                        "gridcolor": "white",
                        "gridwidth": 2,
                        "linecolor": "white",
                        "showbackground": true,
                        "ticks": "",
                        "zerolinecolor": "white"
                      },
                      "yaxis": {
                        "backgroundcolor": "#E5ECF6",
                        "gridcolor": "white",
                        "gridwidth": 2,
                        "linecolor": "white",
                        "showbackground": true,
                        "ticks": "",
                        "zerolinecolor": "white"
                      },
                      "zaxis": {
                        "backgroundcolor": "#E5ECF6",
                        "gridcolor": "white",
                        "gridwidth": 2,
                        "linecolor": "white",
                        "showbackground": true,
                        "ticks": "",
                        "zerolinecolor": "white"
                      }
                    },
                    "shapedefaults": {
                      "line": {
                        "color": "#2a3f5f"
                      }
                    },
                    "ternary": {
                      "aaxis": {
                        "gridcolor": "white",
                        "linecolor": "white",
                        "ticks": ""
                      },
                      "baxis": {
                        "gridcolor": "white",
                        "linecolor": "white",
                        "ticks": ""
                      },
                      "bgcolor": "#E5ECF6",
                      "caxis": {
                        "gridcolor": "white",
                        "linecolor": "white",
                        "ticks": ""
                      }
                    },
                    "title": {
                      "x": 0.05
                    },
                    "xaxis": {
                      "automargin": true,
                      "gridcolor": "white",
                      "linecolor": "white",
                      "ticks": "",
                      "title": {
                        "standoff": 15
                      },
                      "zerolinecolor": "white",
                      "zerolinewidth": 2
                    },
                    "yaxis": {
                      "automargin": true,
                      "gridcolor": "white",
                      "linecolor": "white",
                      "ticks": "",
                      "title": {
                        "standoff": 15
                      },
                      "zerolinecolor": "white",
                      "zerolinewidth": 2
                    }
                  }
                },
                "title": {
                  "font": {
                    "color": "#4D5663"
                  }
                },
                "xaxis": {
                  "autorange": true,
                  "gridcolor": "#E1E5ED",
                  "range": [
                    "2012-12-31",
                    "2020-12-31"
                  ],
                  "rangeslider": {
                    "autorange": true,
                    "range": [
                      "2012-12-31",
                      "2020-12-31"
                    ],
                    "visible": true,
                    "yaxis": {
                      "_template": null,
                      "rangemode": "match"
                    }
                  },
                  "showgrid": true,
                  "tickfont": {
                    "color": "#4D5663"
                  },
                  "title": {
                    "font": {
                      "color": "#4D5663"
                    },
                    "text": ""
                  },
                  "type": "date",
                  "zerolinecolor": "#E1E5ED"
                },
                "yaxis": {
                  "autorange": true,
                  "gridcolor": "#E1E5ED",
                  "range": [
                    -275.50000000000006,
                    5234.5
                  ],
                  "showgrid": true,
                  "tickfont": {
                    "color": "#4D5663"
                  },
                  "title": {
                    "font": {
                      "color": "#4D5663"
                    },
                    "text": ""
                  },
                  "type": "linear",
                  "zerolinecolor": "#E1E5ED"
                }
              }
            },
            "image/png": "[encoded data removed]",
            "text/html": [
              "<div>\n",
              "        \n",
              "        \n",
              "            <div id=\"f02753c8-b561-4036-bbc2-4b0f6b437e99\" class=\"plotly-graph-div\" style=\"height:525px; width:100%;\"></div>\n",
              "            <script type=\"text/javascript\">\n",
              "                require([\"plotly\"], function(Plotly) {\n",
              "                    window.PLOTLYENV=window.PLOTLYENV || {};\n",
              "                    \n",
              "                if (document.getElementById(\"f02753c8-b561-4036-bbc2-4b0f6b437e99\")) {\n",
              "                    Plotly.newPlot(\n",
              "                        'f02753c8-b561-4036-bbc2-4b0f6b437e99',\n",
              "                        [{\"line\": {\"color\": \"rgba(255, 153, 51, 1.0)\", \"dash\": \"solid\", \"shape\": \"linear\", \"width\": 1.3}, \"mode\": \"lines\", \"name\": \"Qty\", \"text\": \"\", \"type\": \"scatter\", \"x\": [\"2012-12-31\", \"2013-01-31\", \"2013-02-28\", \"2013-03-31\", \"2013-04-30\", \"2013-05-31\", \"2013-06-30\", \"2013-07-31\", \"2013-08-31\", \"2013-09-30\", \"2013-10-31\", \"2013-11-30\", \"2013-12-31\", \"2014-01-31\", \"2014-02-28\", \"2014-03-31\", \"2014-04-30\", \"2014-05-31\", \"2014-06-30\", \"2014-07-31\", \"2014-08-31\", \"2014-09-30\", \"2014-10-31\", \"2014-11-30\", \"2014-12-31\", \"2015-01-31\", \"2015-02-28\", \"2015-03-31\", \"2015-04-30\", \"2015-05-31\", \"2015-06-30\", \"2015-07-31\", \"2015-08-31\", \"2015-09-30\", \"2015-10-31\", \"2015-11-30\", \"2015-12-31\", \"2016-01-31\", \"2016-02-29\", \"2016-03-31\", \"2016-04-30\", \"2016-05-31\", \"2016-06-30\", \"2016-07-31\", \"2016-08-31\", \"2016-09-30\", \"2016-10-31\", \"2016-11-30\", \"2016-12-31\", \"2017-01-31\", \"2017-02-28\", \"2017-03-31\", \"2017-04-30\", \"2017-05-31\", \"2017-06-30\", \"2017-07-31\", \"2017-08-31\", \"2017-09-30\", \"2017-10-31\", \"2017-11-30\", \"2017-12-31\", \"2018-01-31\", \"2018-02-28\", \"2018-03-31\", \"2018-04-30\", \"2018-05-31\", \"2018-06-30\", \"2018-07-31\", \"2018-08-31\", \"2018-09-30\", \"2018-10-31\", \"2018-11-30\", \"2018-12-31\", \"2019-01-31\", \"2019-02-28\", \"2019-03-31\", \"2019-04-30\", \"2019-05-31\", \"2019-06-30\", \"2019-07-31\", \"2019-08-31\", \"2019-09-30\", \"2019-10-31\", \"2019-11-30\", \"2019-12-31\", \"2020-01-31\", \"2020-02-29\", \"2020-03-31\", \"2020-04-30\", \"2020-05-31\", \"2020-06-30\", \"2020-07-31\", \"2020-07-31\", \"2020-08-31\", \"2020-09-30\", \"2020-10-31\", \"2020-11-30\", \"2020-12-31\"], \"y\": [1148.0, 997.0, 560.0, 560.0, 1204.0, 1344.0, 506.0, 1120.0, 420.0, 392.0, 1280.0, 560.0, 532.0, 1420.0, 0.0, 448.0, 1120.0, 756.0, 1120.0, 1064.0, 320.0, 1008.0, 0.0, 1440.0, 1040.0, 448.0, 944.0, 0.0, 1104.0, 1104.0, 1120.0, 480.0, 1008.0, 420.0, 992.0, 448.0, 768.0, 1792.0, 1648.0, 640.0, 1056.0, 1024.0, 560.0, 576.0, 560.0, 0.0, 448.0, 1600.0, 608.0, 1152.0, 928.0, 560.0, 560.0, 1152.0, 0.0, 560.0, 2037.0, 1782.0, 1712.0, 1712.0, 3808.0, 1420.0, 1728.0, 992.0, 1664.0, 1335.0, 673.0, 0.0, 1216.0, 2240.0, 0.0, 4816.0, 2144.0, 4224.0, 2819.0, 1920.0, 4959.0, 3824.0, 1799.0, 1152.0, 0.0, 1952.0, 1824.0, 0.0, 1504.0, 1472.0, 1152.0, 0.0, 2304.0, 0.0, 1760.0, 640.0, 640.0, \"\", \"\", \"\", \"\", \"\"]}, {\"line\": {\"color\": \"rgba(55, 128, 191, 1.0)\", \"dash\": \"solid\", \"shape\": \"linear\", \"width\": 1.3}, \"mode\": \"lines\", \"name\": \"pred\", \"text\": \"\", \"type\": \"scatter\", \"x\": [\"2012-12-31\", \"2013-01-31\", \"2013-02-28\", \"2013-03-31\", \"2013-04-30\", \"2013-05-31\", \"2013-06-30\", \"2013-07-31\", \"2013-08-31\", \"2013-09-30\", \"2013-10-31\", \"2013-11-30\", \"2013-12-31\", \"2014-01-31\", \"2014-02-28\", \"2014-03-31\", \"2014-04-30\", \"2014-05-31\", \"2014-06-30\", \"2014-07-31\", \"2014-08-31\", \"2014-09-30\", \"2014-10-31\", \"2014-11-30\", \"2014-12-31\", \"2015-01-31\", \"2015-02-28\", \"2015-03-31\", \"2015-04-30\", \"2015-05-31\", \"2015-06-30\", \"2015-07-31\", \"2015-08-31\", \"2015-09-30\", \"2015-10-31\", \"2015-11-30\", \"2015-12-31\", \"2016-01-31\", \"2016-02-29\", \"2016-03-31\", \"2016-04-30\", \"2016-05-31\", \"2016-06-30\", \"2016-07-31\", \"2016-08-31\", \"2016-09-30\", \"2016-10-31\", \"2016-11-30\", \"2016-12-31\", \"2017-01-31\", \"2017-02-28\", \"2017-03-31\", \"2017-04-30\", \"2017-05-31\", \"2017-06-30\", \"2017-07-31\", \"2017-08-31\", \"2017-09-30\", \"2017-10-31\", \"2017-11-30\", \"2017-12-31\", \"2018-01-31\", \"2018-02-28\", \"2018-03-31\", \"2018-04-30\", \"2018-05-31\", \"2018-06-30\", \"2018-07-31\", \"2018-08-31\", \"2018-09-30\", \"2018-10-31\", \"2018-11-30\", \"2018-12-31\", \"2019-01-31\", \"2019-02-28\", \"2019-03-31\", \"2019-04-30\", \"2019-05-31\", \"2019-06-30\", \"2019-07-31\", \"2019-08-31\", \"2019-09-30\", \"2019-10-31\", \"2019-11-30\", \"2019-12-31\", \"2020-01-31\", \"2020-02-29\", \"2020-03-31\", \"2020-04-30\", \"2020-05-31\", \"2020-06-30\", \"2020-07-31\", \"2020-07-31\", \"2020-08-31\", \"2020-09-30\", \"2020-10-31\", \"2020-11-30\", \"2020-12-31\"], \"y\": [\"\", \"\", \"\", \"\", \"\", \"\", \"\", \"\", \"\", \"\", \"\", \"\", \"\", \"\", \"\", \"\", \"\", \"\", \"\", \"\", \"\", \"\", \"\", \"\", 599.9255272250159, 513.5936207675652, 596.1563501606884, 535.4495616179753, 830.4168146388189, 672.3729766720159, 498.1791019051582, 411.36783651492124, 535.0764815218555, 499.18628526532035, 638.7486812381762, 578.3200769316079, 723.0271704950477, 635.5212613116191, 420.5522030650563, 473.22989805545285, 651.4060981113383, 748.0531128519524, 857.8334308655492, 1070.7127842277696, 763.3549510462122, 776.1206565503738, 991.2443313438765, 720.9318254715187, 701.5381848211565, 696.4356187022569, 683.6788722962665, 745.3357152391332, 666.8041885942827, 738.2450569252621, 700.8105767665545, 602.8432017420648, 760.3353603129907, 689.3372313664457, 789.9092354648557, 712.4401901731379, 820.3807068327127, 862.0126793483082, 944.2284092578044, 1329.8458885473742, 1014.0692157635563, 1416.0711430009146, 1114.662656999125, 1240.8913272280959, 589.2662726306033, 1103.9771432591679, 793.0820275257624, 800.9887983135137, 1221.3273242213897, 872.3944634752971, 1234.6587864710066, 1142.5755039647693, 1892.0471921551962, 1853.219817639417, 2731.502888227104, 1879.0056045920278, 2214.172841209861, 981.9144573043944, 2058.389569523997, 1113.9931864995256, 1466.4820286780255, 1109.3868374590518, 1490.0393539700378, 1081.3565500318264, 954.6342388677967, 1444.9371720598215, 950.6256514258054, 912.1210233251348, 912.1210233251348, 1001.9319085191131, 970.6458238238217, 981.3019290418938, 977.6444041163156, 978.8964798675288]}],\n",
              "                        {\"legend\": {\"bgcolor\": \"#F5F6F9\", \"font\": {\"color\": \"#4D5663\"}}, \"paper_bgcolor\": \"#F5F6F9\", \"plot_bgcolor\": \"#F5F6F9\", \"template\": {\"data\": {\"bar\": [{\"error_x\": {\"color\": \"#2a3f5f\"}, \"error_y\": {\"color\": \"#2a3f5f\"}, \"marker\": {\"line\": {\"color\": \"#E5ECF6\", \"width\": 0.5}}, \"type\": \"bar\"}], \"barpolar\": [{\"marker\": {\"line\": {\"color\": \"#E5ECF6\", \"width\": 0.5}}, \"type\": \"barpolar\"}], \"carpet\": [{\"aaxis\": {\"endlinecolor\": \"#2a3f5f\", \"gridcolor\": \"white\", \"linecolor\": \"white\", \"minorgridcolor\": \"white\", \"startlinecolor\": \"#2a3f5f\"}, \"baxis\": {\"endlinecolor\": \"#2a3f5f\", \"gridcolor\": \"white\", \"linecolor\": \"white\", \"minorgridcolor\": \"white\", \"startlinecolor\": \"#2a3f5f\"}, \"type\": \"carpet\"}], \"choropleth\": [{\"colorbar\": {\"outlinewidth\": 0, \"ticks\": \"\"}, \"type\": \"choropleth\"}], \"contour\": [{\"colorbar\": {\"outlinewidth\": 0, \"ticks\": \"\"}, \"colorscale\": [[0.0, \"#0d0887\"], [0.1111111111111111, \"#46039f\"], [0.2222222222222222, \"#7201a8\"], [0.3333333333333333, \"#9c179e\"], [0.4444444444444444, \"#bd3786\"], [0.5555555555555556, \"#d8576b\"], [0.6666666666666666, \"#ed7953\"], [0.7777777777777778, \"#fb9f3a\"], [0.8888888888888888, \"#fdca26\"], [1.0, \"#f0f921\"]], \"type\": \"contour\"}], \"contourcarpet\": [{\"colorbar\": {\"outlinewidth\": 0, \"ticks\": \"\"}, \"type\": \"contourcarpet\"}], \"heatmap\": [{\"colorbar\": {\"outlinewidth\": 0, \"ticks\": \"\"}, \"colorscale\": [[0.0, \"#0d0887\"], [0.1111111111111111, \"#46039f\"], [0.2222222222222222, \"#7201a8\"], [0.3333333333333333, \"#9c179e\"], [0.4444444444444444, \"#bd3786\"], [0.5555555555555556, \"#d8576b\"], [0.6666666666666666, \"#ed7953\"], [0.7777777777777778, \"#fb9f3a\"], [0.8888888888888888, \"#fdca26\"], [1.0, \"#f0f921\"]], \"type\": \"heatmap\"}], \"heatmapgl\": [{\"colorbar\": {\"outlinewidth\": 0, \"ticks\": \"\"}, \"colorscale\": [[0.0, \"#0d0887\"], [0.1111111111111111, \"#46039f\"], [0.2222222222222222, \"#7201a8\"], [0.3333333333333333, \"#9c179e\"], [0.4444444444444444, \"#bd3786\"], [0.5555555555555556, \"#d8576b\"], [0.6666666666666666, \"#ed7953\"], [0.7777777777777778, \"#fb9f3a\"], [0.8888888888888888, \"#fdca26\"], [1.0, \"#f0f921\"]], \"type\": \"heatmapgl\"}], \"histogram\": [{\"marker\": {\"colorbar\": {\"outlinewidth\": 0, \"ticks\": \"\"}}, \"type\": \"histogram\"}], \"histogram2d\": [{\"colorbar\": {\"outlinewidth\": 0, \"ticks\": \"\"}, \"colorscale\": [[0.0, \"#0d0887\"], [0.1111111111111111, \"#46039f\"], [0.2222222222222222, \"#7201a8\"], [0.3333333333333333, \"#9c179e\"], [0.4444444444444444, \"#bd3786\"], [0.5555555555555556, \"#d8576b\"], [0.6666666666666666, \"#ed7953\"], [0.7777777777777778, \"#fb9f3a\"], [0.8888888888888888, \"#fdca26\"], [1.0, \"#f0f921\"]], \"type\": \"histogram2d\"}], \"histogram2dcontour\": [{\"colorbar\": {\"outlinewidth\": 0, \"ticks\": \"\"}, \"colorscale\": [[0.0, \"#0d0887\"], [0.1111111111111111, \"#46039f\"], [0.2222222222222222, \"#7201a8\"], [0.3333333333333333, \"#9c179e\"], [0.4444444444444444, \"#bd3786\"], [0.5555555555555556, \"#d8576b\"], [0.6666666666666666, \"#ed7953\"], [0.7777777777777778, \"#fb9f3a\"], [0.8888888888888888, \"#fdca26\"], [1.0, \"#f0f921\"]], \"type\": \"histogram2dcontour\"}], \"mesh3d\": [{\"colorbar\": {\"outlinewidth\": 0, \"ticks\": \"\"}, \"type\": \"mesh3d\"}], \"parcoords\": [{\"line\": {\"colorbar\": {\"outlinewidth\": 0, \"ticks\": \"\"}}, \"type\": \"parcoords\"}], \"pie\": [{\"automargin\": true, \"type\": \"pie\"}], \"scatter\": [{\"marker\": {\"colorbar\": {\"outlinewidth\": 0, \"ticks\": \"\"}}, \"type\": \"scatter\"}], \"scatter3d\": [{\"line\": {\"colorbar\": {\"outlinewidth\": 0, \"ticks\": \"\"}}, \"marker\": {\"colorbar\": {\"outlinewidth\": 0, \"ticks\": \"\"}}, \"type\": \"scatter3d\"}], \"scattercarpet\": [{\"marker\": {\"colorbar\": {\"outlinewidth\": 0, \"ticks\": \"\"}}, \"type\": \"scattercarpet\"}], \"scattergeo\": [{\"marker\": {\"colorbar\": {\"outlinewidth\": 0, \"ticks\": \"\"}}, \"type\": \"scattergeo\"}], \"scattergl\": [{\"marker\": {\"colorbar\": {\"outlinewidth\": 0, \"ticks\": \"\"}}, \"type\": \"scattergl\"}], \"scattermapbox\": [{\"marker\": {\"colorbar\": {\"outlinewidth\": 0, \"ticks\": \"\"}}, \"type\": \"scattermapbox\"}], \"scatterpolar\": [{\"marker\": {\"colorbar\": {\"outlinewidth\": 0, \"ticks\": \"\"}}, \"type\": \"scatterpolar\"}], \"scatterpolargl\": [{\"marker\": {\"colorbar\": {\"outlinewidth\": 0, \"ticks\": \"\"}}, \"type\": \"scatterpolargl\"}], \"scatterternary\": [{\"marker\": {\"colorbar\": {\"outlinewidth\": 0, \"ticks\": \"\"}}, \"type\": \"scatterternary\"}], \"surface\": [{\"colorbar\": {\"outlinewidth\": 0, \"ticks\": \"\"}, \"colorscale\": [[0.0, \"#0d0887\"], [0.1111111111111111, \"#46039f\"], [0.2222222222222222, \"#7201a8\"], [0.3333333333333333, \"#9c179e\"], [0.4444444444444444, \"#bd3786\"], [0.5555555555555556, \"#d8576b\"], [0.6666666666666666, \"#ed7953\"], [0.7777777777777778, \"#fb9f3a\"], [0.8888888888888888, \"#fdca26\"], [1.0, \"#f0f921\"]], \"type\": \"surface\"}], \"table\": [{\"cells\": {\"fill\": {\"color\": \"#EBF0F8\"}, \"line\": {\"color\": \"white\"}}, \"header\": {\"fill\": {\"color\": \"#C8D4E3\"}, \"line\": {\"color\": \"white\"}}, \"type\": \"table\"}]}, \"layout\": {\"annotationdefaults\": {\"arrowcolor\": \"#2a3f5f\", \"arrowhead\": 0, \"arrowwidth\": 1}, \"coloraxis\": {\"colorbar\": {\"outlinewidth\": 0, \"ticks\": \"\"}}, \"colorscale\": {\"diverging\": [[0, \"#8e0152\"], [0.1, \"#c51b7d\"], [0.2, \"#de77ae\"], [0.3, \"#f1b6da\"], [0.4, \"#fde0ef\"], [0.5, \"#f7f7f7\"], [0.6, \"#e6f5d0\"], [0.7, \"#b8e186\"], [0.8, \"#7fbc41\"], [0.9, \"#4d9221\"], [1, \"#276419\"]], \"sequential\": [[0.0, \"#0d0887\"], [0.1111111111111111, \"#46039f\"], [0.2222222222222222, \"#7201a8\"], [0.3333333333333333, \"#9c179e\"], [0.4444444444444444, \"#bd3786\"], [0.5555555555555556, \"#d8576b\"], [0.6666666666666666, \"#ed7953\"], [0.7777777777777778, \"#fb9f3a\"], [0.8888888888888888, \"#fdca26\"], [1.0, \"#f0f921\"]], \"sequentialminus\": [[0.0, \"#0d0887\"], [0.1111111111111111, \"#46039f\"], [0.2222222222222222, \"#7201a8\"], [0.3333333333333333, \"#9c179e\"], [0.4444444444444444, \"#bd3786\"], [0.5555555555555556, \"#d8576b\"], [0.6666666666666666, \"#ed7953\"], [0.7777777777777778, \"#fb9f3a\"], [0.8888888888888888, \"#fdca26\"], [1.0, \"#f0f921\"]]}, \"colorway\": [\"#636efa\", \"#EF553B\", \"#00cc96\", \"#ab63fa\", \"#FFA15A\", \"#19d3f3\", \"#FF6692\", \"#B6E880\", \"#FF97FF\", \"#FECB52\"], \"font\": {\"color\": \"#2a3f5f\"}, \"geo\": {\"bgcolor\": \"white\", \"lakecolor\": \"white\", \"landcolor\": \"#E5ECF6\", \"showlakes\": true, \"showland\": true, \"subunitcolor\": \"white\"}, \"hoverlabel\": {\"align\": \"left\"}, \"hovermode\": \"closest\", \"mapbox\": {\"style\": \"light\"}, \"paper_bgcolor\": \"white\", \"plot_bgcolor\": \"#E5ECF6\", \"polar\": {\"angularaxis\": {\"gridcolor\": \"white\", \"linecolor\": \"white\", \"ticks\": \"\"}, \"bgcolor\": \"#E5ECF6\", \"radialaxis\": {\"gridcolor\": \"white\", \"linecolor\": \"white\", \"ticks\": \"\"}}, \"scene\": {\"xaxis\": {\"backgroundcolor\": \"#E5ECF6\", \"gridcolor\": \"white\", \"gridwidth\": 2, \"linecolor\": \"white\", \"showbackground\": true, \"ticks\": \"\", \"zerolinecolor\": \"white\"}, \"yaxis\": {\"backgroundcolor\": \"#E5ECF6\", \"gridcolor\": \"white\", \"gridwidth\": 2, \"linecolor\": \"white\", \"showbackground\": true, \"ticks\": \"\", \"zerolinecolor\": \"white\"}, \"zaxis\": {\"backgroundcolor\": \"#E5ECF6\", \"gridcolor\": \"white\", \"gridwidth\": 2, \"linecolor\": \"white\", \"showbackground\": true, \"ticks\": \"\", \"zerolinecolor\": \"white\"}}, \"shapedefaults\": {\"line\": {\"color\": \"#2a3f5f\"}}, \"ternary\": {\"aaxis\": {\"gridcolor\": \"white\", \"linecolor\": \"white\", \"ticks\": \"\"}, \"baxis\": {\"gridcolor\": \"white\", \"linecolor\": \"white\", \"ticks\": \"\"}, \"bgcolor\": \"#E5ECF6\", \"caxis\": {\"gridcolor\": \"white\", \"linecolor\": \"white\", \"ticks\": \"\"}}, \"title\": {\"x\": 0.05}, \"xaxis\": {\"automargin\": true, \"gridcolor\": \"white\", \"linecolor\": \"white\", \"ticks\": \"\", \"title\": {\"standoff\": 15}, \"zerolinecolor\": \"white\", \"zerolinewidth\": 2}, \"yaxis\": {\"automargin\": true, \"gridcolor\": \"white\", \"linecolor\": \"white\", \"ticks\": \"\", \"title\": {\"standoff\": 15}, \"zerolinecolor\": \"white\", \"zerolinewidth\": 2}}}, \"title\": {\"font\": {\"color\": \"#4D5663\"}}, \"xaxis\": {\"gridcolor\": \"#E1E5ED\", \"rangeslider\": {\"visible\": true}, \"showgrid\": true, \"tickfont\": {\"color\": \"#4D5663\"}, \"title\": {\"font\": {\"color\": \"#4D5663\"}, \"text\": \"\"}, \"zerolinecolor\": \"#E1E5ED\"}, \"yaxis\": {\"gridcolor\": \"#E1E5ED\", \"showgrid\": true, \"tickfont\": {\"color\": \"#4D5663\"}, \"title\": {\"font\": {\"color\": \"#4D5663\"}, \"text\": \"\"}, \"zerolinecolor\": \"#E1E5ED\"}},\n",
              "                        {\"responsive\": true}\n",
              "                    ).then(function(){\n",
              "                            \n",
              "var gd = document.getElementById('f02753c8-b561-4036-bbc2-4b0f6b437e99');\n",
              "var x = new MutationObserver(function (mutations, observer) {{\n",
              "        var display = window.getComputedStyle(gd).display;\n",
              "        if (!display || display === 'none') {{\n",
              "            console.log([gd, 'removed!']);\n",
              "            Plotly.purge(gd);\n",
              "            observer.disconnect();\n",
              "        }}\n",
              "}});\n",
              "\n",
              "// Listen for the removal of the full notebook cells\n",
              "var notebookContainer = gd.closest('#notebook-container');\n",
              "if (notebookContainer) {{\n",
              "    x.observe(notebookContainer, {childList: true});\n",
              "}}\n",
              "\n",
              "// Listen for the clearing of the current output cell\n",
              "var outputEl = gd.closest('.output');\n",
              "if (outputEl) {{\n",
              "    x.observe(outputEl, {childList: true});\n",
              "}}\n",
              "\n",
              "                        })\n",
              "                };\n",
              "                });\n",
              "            </script>\n",
              "        </div>"
            ]
          },
          "metadata": {
            "tags": []
          }
        }
      ]
    },
    {
      "cell_type": "code",
      "metadata": {
        "id": "5wC_g3VYMh9V",
        "outputId": "5db8072f-6c81-4203-bd37-3edba70d6c64"
      },
      "source": [
        "df2=df1.copy()\n",
        "df2['pred']=ff\n",
        "df2.iplot(rangeslider=True)\n",
        "#pre.iplot()"
      ],
      "execution_count": null,
      "outputs": [
        {
          "output_type": "error",
          "ename": "ValueError",
          "evalue": "cannot reindex from a duplicate axis",
          "traceback": [
            "\u001b[0;31m---------------------------------------------------------------------------\u001b[0m",
            "\u001b[0;31mValueError\u001b[0m                                Traceback (most recent call last)",
            "\u001b[0;32m<ipython-input-47-af18164ded70>\u001b[0m in \u001b[0;36m<module>\u001b[0;34m\u001b[0m\n\u001b[1;32m      1\u001b[0m \u001b[0mdf2\u001b[0m\u001b[0;34m=\u001b[0m\u001b[0mdf1\u001b[0m\u001b[0;34m.\u001b[0m\u001b[0mcopy\u001b[0m\u001b[0;34m(\u001b[0m\u001b[0;34m)\u001b[0m\u001b[0;34m\u001b[0m\u001b[0;34m\u001b[0m\u001b[0m\n\u001b[0;32m----> 2\u001b[0;31m \u001b[0mdf2\u001b[0m\u001b[0;34m[\u001b[0m\u001b[0;34m'pred'\u001b[0m\u001b[0;34m]\u001b[0m\u001b[0;34m=\u001b[0m\u001b[0mff\u001b[0m\u001b[0;34m\u001b[0m\u001b[0;34m\u001b[0m\u001b[0m\n\u001b[0m\u001b[1;32m      3\u001b[0m \u001b[0mdf2\u001b[0m\u001b[0;34m.\u001b[0m\u001b[0miplot\u001b[0m\u001b[0;34m(\u001b[0m\u001b[0mrangeslider\u001b[0m\u001b[0;34m=\u001b[0m\u001b[0;32mTrue\u001b[0m\u001b[0;34m)\u001b[0m\u001b[0;34m\u001b[0m\u001b[0;34m\u001b[0m\u001b[0m\n\u001b[1;32m      4\u001b[0m \u001b[0;31m#pre.iplot()\u001b[0m\u001b[0;34m\u001b[0m\u001b[0;34m\u001b[0m\u001b[0;34m\u001b[0m\u001b[0m\n",
            "\u001b[0;32m~/.local/lib/python3.8/site-packages/pandas/core/frame.py\u001b[0m in \u001b[0;36m__setitem__\u001b[0;34m(self, key, value)\u001b[0m\n\u001b[1;32m   2936\u001b[0m         \u001b[0;32melse\u001b[0m\u001b[0;34m:\u001b[0m\u001b[0;34m\u001b[0m\u001b[0;34m\u001b[0m\u001b[0m\n\u001b[1;32m   2937\u001b[0m             \u001b[0;31m# set column\u001b[0m\u001b[0;34m\u001b[0m\u001b[0;34m\u001b[0m\u001b[0;34m\u001b[0m\u001b[0m\n\u001b[0;32m-> 2938\u001b[0;31m             \u001b[0mself\u001b[0m\u001b[0;34m.\u001b[0m\u001b[0m_set_item\u001b[0m\u001b[0;34m(\u001b[0m\u001b[0mkey\u001b[0m\u001b[0;34m,\u001b[0m \u001b[0mvalue\u001b[0m\u001b[0;34m)\u001b[0m\u001b[0;34m\u001b[0m\u001b[0;34m\u001b[0m\u001b[0m\n\u001b[0m\u001b[1;32m   2939\u001b[0m \u001b[0;34m\u001b[0m\u001b[0m\n\u001b[1;32m   2940\u001b[0m     \u001b[0;32mdef\u001b[0m \u001b[0m_setitem_slice\u001b[0m\u001b[0;34m(\u001b[0m\u001b[0mself\u001b[0m\u001b[0;34m,\u001b[0m \u001b[0mkey\u001b[0m\u001b[0;34m,\u001b[0m \u001b[0mvalue\u001b[0m\u001b[0;34m)\u001b[0m\u001b[0;34m:\u001b[0m\u001b[0;34m\u001b[0m\u001b[0;34m\u001b[0m\u001b[0m\n",
            "\u001b[0;32m~/.local/lib/python3.8/site-packages/pandas/core/frame.py\u001b[0m in \u001b[0;36m_set_item\u001b[0;34m(self, key, value)\u001b[0m\n\u001b[1;32m   2998\u001b[0m \u001b[0;34m\u001b[0m\u001b[0m\n\u001b[1;32m   2999\u001b[0m         \u001b[0mself\u001b[0m\u001b[0;34m.\u001b[0m\u001b[0m_ensure_valid_index\u001b[0m\u001b[0;34m(\u001b[0m\u001b[0mvalue\u001b[0m\u001b[0;34m)\u001b[0m\u001b[0;34m\u001b[0m\u001b[0;34m\u001b[0m\u001b[0m\n\u001b[0;32m-> 3000\u001b[0;31m         \u001b[0mvalue\u001b[0m \u001b[0;34m=\u001b[0m \u001b[0mself\u001b[0m\u001b[0;34m.\u001b[0m\u001b[0m_sanitize_column\u001b[0m\u001b[0;34m(\u001b[0m\u001b[0mkey\u001b[0m\u001b[0;34m,\u001b[0m \u001b[0mvalue\u001b[0m\u001b[0;34m)\u001b[0m\u001b[0;34m\u001b[0m\u001b[0;34m\u001b[0m\u001b[0m\n\u001b[0m\u001b[1;32m   3001\u001b[0m         \u001b[0mNDFrame\u001b[0m\u001b[0;34m.\u001b[0m\u001b[0m_set_item\u001b[0m\u001b[0;34m(\u001b[0m\u001b[0mself\u001b[0m\u001b[0;34m,\u001b[0m \u001b[0mkey\u001b[0m\u001b[0;34m,\u001b[0m \u001b[0mvalue\u001b[0m\u001b[0;34m)\u001b[0m\u001b[0;34m\u001b[0m\u001b[0;34m\u001b[0m\u001b[0m\n\u001b[1;32m   3002\u001b[0m \u001b[0;34m\u001b[0m\u001b[0m\n",
            "\u001b[0;32m~/.local/lib/python3.8/site-packages/pandas/core/frame.py\u001b[0m in \u001b[0;36m_sanitize_column\u001b[0;34m(self, key, value, broadcast)\u001b[0m\n\u001b[1;32m   3623\u001b[0m                         \u001b[0mvalue\u001b[0m \u001b[0;34m=\u001b[0m \u001b[0mvalue\u001b[0m\u001b[0;34m.\u001b[0m\u001b[0mreindex\u001b[0m\u001b[0;34m(\u001b[0m\u001b[0mcols\u001b[0m\u001b[0;34m,\u001b[0m \u001b[0maxis\u001b[0m\u001b[0;34m=\u001b[0m\u001b[0;36m1\u001b[0m\u001b[0;34m)\u001b[0m\u001b[0;34m\u001b[0m\u001b[0;34m\u001b[0m\u001b[0m\n\u001b[1;32m   3624\u001b[0m             \u001b[0;31m# now align rows\u001b[0m\u001b[0;34m\u001b[0m\u001b[0;34m\u001b[0m\u001b[0;34m\u001b[0m\u001b[0m\n\u001b[0;32m-> 3625\u001b[0;31m             \u001b[0mvalue\u001b[0m \u001b[0;34m=\u001b[0m \u001b[0mreindexer\u001b[0m\u001b[0;34m(\u001b[0m\u001b[0mvalue\u001b[0m\u001b[0;34m)\u001b[0m\u001b[0;34m.\u001b[0m\u001b[0mT\u001b[0m\u001b[0;34m\u001b[0m\u001b[0;34m\u001b[0m\u001b[0m\n\u001b[0m\u001b[1;32m   3626\u001b[0m \u001b[0;34m\u001b[0m\u001b[0m\n\u001b[1;32m   3627\u001b[0m         \u001b[0;32melif\u001b[0m \u001b[0misinstance\u001b[0m\u001b[0;34m(\u001b[0m\u001b[0mvalue\u001b[0m\u001b[0;34m,\u001b[0m \u001b[0mExtensionArray\u001b[0m\u001b[0;34m)\u001b[0m\u001b[0;34m:\u001b[0m\u001b[0;34m\u001b[0m\u001b[0;34m\u001b[0m\u001b[0m\n",
            "\u001b[0;32m~/.local/lib/python3.8/site-packages/pandas/core/frame.py\u001b[0m in \u001b[0;36mreindexer\u001b[0;34m(value)\u001b[0m\n\u001b[1;32m   3602\u001b[0m                     \u001b[0;32mif\u001b[0m \u001b[0;32mnot\u001b[0m \u001b[0mvalue\u001b[0m\u001b[0;34m.\u001b[0m\u001b[0mindex\u001b[0m\u001b[0;34m.\u001b[0m\u001b[0mis_unique\u001b[0m\u001b[0;34m:\u001b[0m\u001b[0;34m\u001b[0m\u001b[0;34m\u001b[0m\u001b[0m\n\u001b[1;32m   3603\u001b[0m                         \u001b[0;31m# duplicate axis\u001b[0m\u001b[0;34m\u001b[0m\u001b[0;34m\u001b[0m\u001b[0;34m\u001b[0m\u001b[0m\n\u001b[0;32m-> 3604\u001b[0;31m                         \u001b[0;32mraise\u001b[0m \u001b[0merr\u001b[0m\u001b[0;34m\u001b[0m\u001b[0;34m\u001b[0m\u001b[0m\n\u001b[0m\u001b[1;32m   3605\u001b[0m \u001b[0;34m\u001b[0m\u001b[0m\n\u001b[1;32m   3606\u001b[0m                     \u001b[0;31m# other\u001b[0m\u001b[0;34m\u001b[0m\u001b[0;34m\u001b[0m\u001b[0;34m\u001b[0m\u001b[0m\n",
            "\u001b[0;32m~/.local/lib/python3.8/site-packages/pandas/core/frame.py\u001b[0m in \u001b[0;36mreindexer\u001b[0;34m(value)\u001b[0m\n\u001b[1;32m   3597\u001b[0m                 \u001b[0;31m# GH 4107\u001b[0m\u001b[0;34m\u001b[0m\u001b[0;34m\u001b[0m\u001b[0;34m\u001b[0m\u001b[0m\n\u001b[1;32m   3598\u001b[0m                 \u001b[0;32mtry\u001b[0m\u001b[0;34m:\u001b[0m\u001b[0;34m\u001b[0m\u001b[0;34m\u001b[0m\u001b[0m\n\u001b[0;32m-> 3599\u001b[0;31m                     \u001b[0mvalue\u001b[0m \u001b[0;34m=\u001b[0m \u001b[0mvalue\u001b[0m\u001b[0;34m.\u001b[0m\u001b[0mreindex\u001b[0m\u001b[0;34m(\u001b[0m\u001b[0mself\u001b[0m\u001b[0;34m.\u001b[0m\u001b[0mindex\u001b[0m\u001b[0;34m)\u001b[0m\u001b[0;34m.\u001b[0m\u001b[0m_values\u001b[0m\u001b[0;34m\u001b[0m\u001b[0;34m\u001b[0m\u001b[0m\n\u001b[0m\u001b[1;32m   3600\u001b[0m                 \u001b[0;32mexcept\u001b[0m \u001b[0mValueError\u001b[0m \u001b[0;32mas\u001b[0m \u001b[0merr\u001b[0m\u001b[0;34m:\u001b[0m\u001b[0;34m\u001b[0m\u001b[0;34m\u001b[0m\u001b[0m\n\u001b[1;32m   3601\u001b[0m                     \u001b[0;31m# raised in MultiIndex.from_tuples, see test_insert_error_msmgs\u001b[0m\u001b[0;34m\u001b[0m\u001b[0;34m\u001b[0m\u001b[0;34m\u001b[0m\u001b[0m\n",
            "\u001b[0;32m~/.local/lib/python3.8/site-packages/pandas/util/_decorators.py\u001b[0m in \u001b[0;36mwrapper\u001b[0;34m(*args, **kwargs)\u001b[0m\n\u001b[1;32m    225\u001b[0m         \u001b[0;34m@\u001b[0m\u001b[0mwraps\u001b[0m\u001b[0;34m(\u001b[0m\u001b[0mfunc\u001b[0m\u001b[0;34m)\u001b[0m\u001b[0;34m\u001b[0m\u001b[0;34m\u001b[0m\u001b[0m\n\u001b[1;32m    226\u001b[0m         \u001b[0;32mdef\u001b[0m \u001b[0mwrapper\u001b[0m\u001b[0;34m(\u001b[0m\u001b[0;34m*\u001b[0m\u001b[0margs\u001b[0m\u001b[0;34m,\u001b[0m \u001b[0;34m**\u001b[0m\u001b[0mkwargs\u001b[0m\u001b[0;34m)\u001b[0m \u001b[0;34m->\u001b[0m \u001b[0mCallable\u001b[0m\u001b[0;34m[\u001b[0m\u001b[0;34m...\u001b[0m\u001b[0;34m,\u001b[0m \u001b[0mAny\u001b[0m\u001b[0;34m]\u001b[0m\u001b[0;34m:\u001b[0m\u001b[0;34m\u001b[0m\u001b[0;34m\u001b[0m\u001b[0m\n\u001b[0;32m--> 227\u001b[0;31m             \u001b[0;32mreturn\u001b[0m \u001b[0mfunc\u001b[0m\u001b[0;34m(\u001b[0m\u001b[0;34m*\u001b[0m\u001b[0margs\u001b[0m\u001b[0;34m,\u001b[0m \u001b[0;34m**\u001b[0m\u001b[0mkwargs\u001b[0m\u001b[0;34m)\u001b[0m\u001b[0;34m\u001b[0m\u001b[0;34m\u001b[0m\u001b[0m\n\u001b[0m\u001b[1;32m    228\u001b[0m \u001b[0;34m\u001b[0m\u001b[0m\n\u001b[1;32m    229\u001b[0m         \u001b[0mkind\u001b[0m \u001b[0;34m=\u001b[0m \u001b[0minspect\u001b[0m\u001b[0;34m.\u001b[0m\u001b[0mParameter\u001b[0m\u001b[0;34m.\u001b[0m\u001b[0mPOSITIONAL_OR_KEYWORD\u001b[0m\u001b[0;34m\u001b[0m\u001b[0;34m\u001b[0m\u001b[0m\n",
            "\u001b[0;32m~/.local/lib/python3.8/site-packages/pandas/core/frame.py\u001b[0m in \u001b[0;36mreindex\u001b[0;34m(self, *args, **kwargs)\u001b[0m\n\u001b[1;32m   3854\u001b[0m         \u001b[0mkwargs\u001b[0m\u001b[0;34m.\u001b[0m\u001b[0mpop\u001b[0m\u001b[0;34m(\u001b[0m\u001b[0;34m\"axis\"\u001b[0m\u001b[0;34m,\u001b[0m \u001b[0;32mNone\u001b[0m\u001b[0;34m)\u001b[0m\u001b[0;34m\u001b[0m\u001b[0;34m\u001b[0m\u001b[0m\n\u001b[1;32m   3855\u001b[0m         \u001b[0mkwargs\u001b[0m\u001b[0;34m.\u001b[0m\u001b[0mpop\u001b[0m\u001b[0;34m(\u001b[0m\u001b[0;34m\"labels\"\u001b[0m\u001b[0;34m,\u001b[0m \u001b[0;32mNone\u001b[0m\u001b[0;34m)\u001b[0m\u001b[0;34m\u001b[0m\u001b[0;34m\u001b[0m\u001b[0m\n\u001b[0;32m-> 3856\u001b[0;31m         \u001b[0;32mreturn\u001b[0m \u001b[0msuper\u001b[0m\u001b[0;34m(\u001b[0m\u001b[0;34m)\u001b[0m\u001b[0;34m.\u001b[0m\u001b[0mreindex\u001b[0m\u001b[0;34m(\u001b[0m\u001b[0;34m**\u001b[0m\u001b[0mkwargs\u001b[0m\u001b[0;34m)\u001b[0m\u001b[0;34m\u001b[0m\u001b[0;34m\u001b[0m\u001b[0m\n\u001b[0m\u001b[1;32m   3857\u001b[0m \u001b[0;34m\u001b[0m\u001b[0m\n\u001b[1;32m   3858\u001b[0m     def drop(\n",
            "\u001b[0;32m~/.local/lib/python3.8/site-packages/pandas/core/generic.py\u001b[0m in \u001b[0;36mreindex\u001b[0;34m(self, *args, **kwargs)\u001b[0m\n\u001b[1;32m   4541\u001b[0m \u001b[0;34m\u001b[0m\u001b[0m\n\u001b[1;32m   4542\u001b[0m         \u001b[0;31m# perform the reindex on the axes\u001b[0m\u001b[0;34m\u001b[0m\u001b[0;34m\u001b[0m\u001b[0;34m\u001b[0m\u001b[0m\n\u001b[0;32m-> 4543\u001b[0;31m         return self._reindex_axes(\n\u001b[0m\u001b[1;32m   4544\u001b[0m             \u001b[0maxes\u001b[0m\u001b[0;34m,\u001b[0m \u001b[0mlevel\u001b[0m\u001b[0;34m,\u001b[0m \u001b[0mlimit\u001b[0m\u001b[0;34m,\u001b[0m \u001b[0mtolerance\u001b[0m\u001b[0;34m,\u001b[0m \u001b[0mmethod\u001b[0m\u001b[0;34m,\u001b[0m \u001b[0mfill_value\u001b[0m\u001b[0;34m,\u001b[0m \u001b[0mcopy\u001b[0m\u001b[0;34m\u001b[0m\u001b[0;34m\u001b[0m\u001b[0m\n\u001b[1;32m   4545\u001b[0m         ).__finalize__(self)\n",
            "\u001b[0;32m~/.local/lib/python3.8/site-packages/pandas/core/frame.py\u001b[0m in \u001b[0;36m_reindex_axes\u001b[0;34m(self, axes, level, limit, tolerance, method, fill_value, copy)\u001b[0m\n\u001b[1;32m   3741\u001b[0m         \u001b[0mindex\u001b[0m \u001b[0;34m=\u001b[0m \u001b[0maxes\u001b[0m\u001b[0;34m[\u001b[0m\u001b[0;34m\"index\"\u001b[0m\u001b[0;34m]\u001b[0m\u001b[0;34m\u001b[0m\u001b[0;34m\u001b[0m\u001b[0m\n\u001b[1;32m   3742\u001b[0m         \u001b[0;32mif\u001b[0m \u001b[0mindex\u001b[0m \u001b[0;32mis\u001b[0m \u001b[0;32mnot\u001b[0m \u001b[0;32mNone\u001b[0m\u001b[0;34m:\u001b[0m\u001b[0;34m\u001b[0m\u001b[0;34m\u001b[0m\u001b[0m\n\u001b[0;32m-> 3743\u001b[0;31m             frame = frame._reindex_index(\n\u001b[0m\u001b[1;32m   3744\u001b[0m                 \u001b[0mindex\u001b[0m\u001b[0;34m,\u001b[0m \u001b[0mmethod\u001b[0m\u001b[0;34m,\u001b[0m \u001b[0mcopy\u001b[0m\u001b[0;34m,\u001b[0m \u001b[0mlevel\u001b[0m\u001b[0;34m,\u001b[0m \u001b[0mfill_value\u001b[0m\u001b[0;34m,\u001b[0m \u001b[0mlimit\u001b[0m\u001b[0;34m,\u001b[0m \u001b[0mtolerance\u001b[0m\u001b[0;34m\u001b[0m\u001b[0;34m\u001b[0m\u001b[0m\n\u001b[1;32m   3745\u001b[0m             )\n",
            "\u001b[0;32m~/.local/lib/python3.8/site-packages/pandas/core/frame.py\u001b[0m in \u001b[0;36m_reindex_index\u001b[0;34m(self, new_index, method, copy, level, fill_value, limit, tolerance)\u001b[0m\n\u001b[1;32m   3760\u001b[0m             \u001b[0mnew_index\u001b[0m\u001b[0;34m,\u001b[0m \u001b[0mmethod\u001b[0m\u001b[0;34m=\u001b[0m\u001b[0mmethod\u001b[0m\u001b[0;34m,\u001b[0m \u001b[0mlevel\u001b[0m\u001b[0;34m=\u001b[0m\u001b[0mlevel\u001b[0m\u001b[0;34m,\u001b[0m \u001b[0mlimit\u001b[0m\u001b[0;34m=\u001b[0m\u001b[0mlimit\u001b[0m\u001b[0;34m,\u001b[0m \u001b[0mtolerance\u001b[0m\u001b[0;34m=\u001b[0m\u001b[0mtolerance\u001b[0m\u001b[0;34m\u001b[0m\u001b[0;34m\u001b[0m\u001b[0m\n\u001b[1;32m   3761\u001b[0m         )\n\u001b[0;32m-> 3762\u001b[0;31m         return self._reindex_with_indexers(\n\u001b[0m\u001b[1;32m   3763\u001b[0m             \u001b[0;34m{\u001b[0m\u001b[0;36m0\u001b[0m\u001b[0;34m:\u001b[0m \u001b[0;34m[\u001b[0m\u001b[0mnew_index\u001b[0m\u001b[0;34m,\u001b[0m \u001b[0mindexer\u001b[0m\u001b[0;34m]\u001b[0m\u001b[0;34m}\u001b[0m\u001b[0;34m,\u001b[0m\u001b[0;34m\u001b[0m\u001b[0;34m\u001b[0m\u001b[0m\n\u001b[1;32m   3764\u001b[0m             \u001b[0mcopy\u001b[0m\u001b[0;34m=\u001b[0m\u001b[0mcopy\u001b[0m\u001b[0;34m,\u001b[0m\u001b[0;34m\u001b[0m\u001b[0;34m\u001b[0m\u001b[0m\n",
            "\u001b[0;32m~/.local/lib/python3.8/site-packages/pandas/core/generic.py\u001b[0m in \u001b[0;36m_reindex_with_indexers\u001b[0;34m(self, reindexers, fill_value, copy, allow_dups)\u001b[0m\n\u001b[1;32m   4605\u001b[0m \u001b[0;34m\u001b[0m\u001b[0m\n\u001b[1;32m   4606\u001b[0m             \u001b[0;31m# TODO: speed up on homogeneous DataFrame objects\u001b[0m\u001b[0;34m\u001b[0m\u001b[0;34m\u001b[0m\u001b[0;34m\u001b[0m\u001b[0m\n\u001b[0;32m-> 4607\u001b[0;31m             new_data = new_data.reindex_indexer(\n\u001b[0m\u001b[1;32m   4608\u001b[0m                 \u001b[0mindex\u001b[0m\u001b[0;34m,\u001b[0m\u001b[0;34m\u001b[0m\u001b[0;34m\u001b[0m\u001b[0m\n\u001b[1;32m   4609\u001b[0m                 \u001b[0mindexer\u001b[0m\u001b[0;34m,\u001b[0m\u001b[0;34m\u001b[0m\u001b[0;34m\u001b[0m\u001b[0m\n",
            "\u001b[0;32m~/.local/lib/python3.8/site-packages/pandas/core/internals/managers.py\u001b[0m in \u001b[0;36mreindex_indexer\u001b[0;34m(self, new_axis, indexer, axis, fill_value, allow_dups, copy)\u001b[0m\n\u001b[1;32m   1249\u001b[0m         \u001b[0;31m# some axes don't allow reindexing with dups\u001b[0m\u001b[0;34m\u001b[0m\u001b[0;34m\u001b[0m\u001b[0;34m\u001b[0m\u001b[0m\n\u001b[1;32m   1250\u001b[0m         \u001b[0;32mif\u001b[0m \u001b[0;32mnot\u001b[0m \u001b[0mallow_dups\u001b[0m\u001b[0;34m:\u001b[0m\u001b[0;34m\u001b[0m\u001b[0;34m\u001b[0m\u001b[0m\n\u001b[0;32m-> 1251\u001b[0;31m             \u001b[0mself\u001b[0m\u001b[0;34m.\u001b[0m\u001b[0maxes\u001b[0m\u001b[0;34m[\u001b[0m\u001b[0maxis\u001b[0m\u001b[0;34m]\u001b[0m\u001b[0;34m.\u001b[0m\u001b[0m_can_reindex\u001b[0m\u001b[0;34m(\u001b[0m\u001b[0mindexer\u001b[0m\u001b[0;34m)\u001b[0m\u001b[0;34m\u001b[0m\u001b[0;34m\u001b[0m\u001b[0m\n\u001b[0m\u001b[1;32m   1252\u001b[0m \u001b[0;34m\u001b[0m\u001b[0m\n\u001b[1;32m   1253\u001b[0m         \u001b[0;32mif\u001b[0m \u001b[0maxis\u001b[0m \u001b[0;34m>=\u001b[0m \u001b[0mself\u001b[0m\u001b[0;34m.\u001b[0m\u001b[0mndim\u001b[0m\u001b[0;34m:\u001b[0m\u001b[0;34m\u001b[0m\u001b[0;34m\u001b[0m\u001b[0m\n",
            "\u001b[0;32m~/.local/lib/python3.8/site-packages/pandas/core/indexes/base.py\u001b[0m in \u001b[0;36m_can_reindex\u001b[0;34m(self, indexer)\u001b[0m\n\u001b[1;32m   3096\u001b[0m         \u001b[0;31m# trying to reindex on an axis with duplicates\u001b[0m\u001b[0;34m\u001b[0m\u001b[0;34m\u001b[0m\u001b[0;34m\u001b[0m\u001b[0m\n\u001b[1;32m   3097\u001b[0m         \u001b[0;32mif\u001b[0m \u001b[0;32mnot\u001b[0m \u001b[0mself\u001b[0m\u001b[0;34m.\u001b[0m\u001b[0mis_unique\u001b[0m \u001b[0;32mand\u001b[0m \u001b[0mlen\u001b[0m\u001b[0;34m(\u001b[0m\u001b[0mindexer\u001b[0m\u001b[0;34m)\u001b[0m\u001b[0;34m:\u001b[0m\u001b[0;34m\u001b[0m\u001b[0;34m\u001b[0m\u001b[0m\n\u001b[0;32m-> 3098\u001b[0;31m             \u001b[0;32mraise\u001b[0m \u001b[0mValueError\u001b[0m\u001b[0;34m(\u001b[0m\u001b[0;34m\"cannot reindex from a duplicate axis\"\u001b[0m\u001b[0;34m)\u001b[0m\u001b[0;34m\u001b[0m\u001b[0;34m\u001b[0m\u001b[0m\n\u001b[0m\u001b[1;32m   3099\u001b[0m \u001b[0;34m\u001b[0m\u001b[0m\n\u001b[1;32m   3100\u001b[0m     \u001b[0;32mdef\u001b[0m \u001b[0mreindex\u001b[0m\u001b[0;34m(\u001b[0m\u001b[0mself\u001b[0m\u001b[0;34m,\u001b[0m \u001b[0mtarget\u001b[0m\u001b[0;34m,\u001b[0m \u001b[0mmethod\u001b[0m\u001b[0;34m=\u001b[0m\u001b[0;32mNone\u001b[0m\u001b[0;34m,\u001b[0m \u001b[0mlevel\u001b[0m\u001b[0;34m=\u001b[0m\u001b[0;32mNone\u001b[0m\u001b[0;34m,\u001b[0m \u001b[0mlimit\u001b[0m\u001b[0;34m=\u001b[0m\u001b[0;32mNone\u001b[0m\u001b[0;34m,\u001b[0m \u001b[0mtolerance\u001b[0m\u001b[0;34m=\u001b[0m\u001b[0;32mNone\u001b[0m\u001b[0;34m)\u001b[0m\u001b[0;34m:\u001b[0m\u001b[0;34m\u001b[0m\u001b[0;34m\u001b[0m\u001b[0m\n",
            "\u001b[0;31mValueError\u001b[0m: cannot reindex from a duplicate axis"
          ]
        }
      ]
    },
    {
      "cell_type": "code",
      "metadata": {
        "id": "6OD9iEvJMh9Z",
        "outputId": "9e18d513-6860-48e3-fc32-50590a14a25e"
      },
      "source": [
        "kk=mod.plot_diagnostics()\n",
        "kk.set_size_inches(15,13)\n",
        "#tls.mpl_to_plotly(kk)"
      ],
      "execution_count": null,
      "outputs": [
        {
          "output_type": "display_data",
          "data": {
            "image/png": "[encoded data removed]",
            "text/plain": [
              "<Figure size 1080x936 with 4 Axes>"
            ]
          },
          "metadata": {
            "tags": [],
            "needs_background": "light"
          }
        }
      ]
    },
    {
      "cell_type": "code",
      "metadata": {
        "id": "wF0KX62nMh9c",
        "outputId": "a0f205b3-d635-47a8-e6fb-fc12560dcc67"
      },
      "source": [
        "adf=pmd.arima.ADFTest(alpha=.05)\n",
        "adf.should_diff(df1[['Qty']])"
      ],
      "execution_count": null,
      "outputs": [
        {
          "output_type": "execute_result",
          "data": {
            "text/plain": [
              "(0.20773737961567418, True)"
            ]
          },
          "metadata": {
            "tags": []
          },
          "execution_count": 4
        }
      ]
    },
    {
      "cell_type": "code",
      "metadata": {
        "id": "7O9V1_GWMh9f",
        "outputId": "b9011909-df53-4dff-d38f-960ceb9aa99c"
      },
      "source": [
        "from pmdarima.arima import ndiffs\n",
        "ndiffs(df1, alpha=0.05, test='kpss', max_d=6)"
      ],
      "execution_count": null,
      "outputs": [
        {
          "output_type": "execute_result",
          "data": {
            "text/plain": [
              "1"
            ]
          },
          "metadata": {
            "tags": []
          },
          "execution_count": 6
        }
      ]
    },
    {
      "cell_type": "code",
      "metadata": {
        "id": "BHU6KELnMh9k",
        "outputId": "7ef08154-bc92-4cd2-9d42-a97afc2c9d63"
      },
      "source": [
        "ndiffs(df1, alpha=0.05, test='adf', max_d=6)"
      ],
      "execution_count": null,
      "outputs": [
        {
          "output_type": "execute_result",
          "data": {
            "text/plain": [
              "1"
            ]
          },
          "metadata": {
            "tags": []
          },
          "execution_count": 6
        }
      ]
    },
    {
      "cell_type": "code",
      "metadata": {
        "id": "uAjUH1JvMh9o",
        "outputId": "e0e48c99-bf13-4737-89cb-d49283af73a9"
      },
      "source": [
        "def adf_test(timeseries):\n",
        "    #Perform Dickey-Fuller test:\n",
        "    print ('Results of Dickey-Fuller Test:')\n",
        "    dftest = adfuller(timeseries, autolag='AIC')\n",
        "    dfoutput = pd.Series(dftest[0:4], index=['Test Statistic','p-value','#Lags Used','Number of Observations Used'])\n",
        "    for key,value in dftest[4].items():\n",
        "       dfoutput['Critical Value (%s)'%key] = value\n",
        "    print (dfoutput)\n",
        "adf_test(df1)"
      ],
      "execution_count": null,
      "outputs": [
        {
          "output_type": "stream",
          "text": [
            "Results of Dickey-Fuller Test:\n",
            "Test Statistic                 -5.532989\n",
            "p-value                         0.000002\n",
            "#Lags Used                      0.000000\n",
            "Number of Observations Used    91.000000\n",
            "Critical Value (1%)            -3.504343\n",
            "Critical Value (5%)            -2.893866\n",
            "Critical Value (10%)           -2.584015\n",
            "dtype: float64\n"
          ],
          "name": "stdout"
        }
      ]
    },
    {
      "cell_type": "code",
      "metadata": {
        "id": "lK0IRBfBMh9r"
      },
      "source": [
        "df2=df1[['Qty']].diff(1)"
      ],
      "execution_count": null,
      "outputs": []
    },
    {
      "cell_type": "code",
      "metadata": {
        "id": "VlEC4EawMh9u",
        "outputId": "f417d509-caa3-4b75-b2ec-721e944a5cc4"
      },
      "source": [
        "adf_test(df2.dropna())"
      ],
      "execution_count": null,
      "outputs": [
        {
          "output_type": "stream",
          "text": [
            "Results of Dickey-Fuller Test:\n",
            "Test Statistic                -6.621722e+00\n",
            "p-value                        6.013716e-09\n",
            "#Lags Used                     4.000000e+00\n",
            "Number of Observations Used    8.600000e+01\n",
            "Critical Value (1%)           -3.508783e+00\n",
            "Critical Value (5%)           -2.895784e+00\n",
            "Critical Value (10%)          -2.585038e+00\n",
            "dtype: float64\n"
          ],
          "name": "stdout"
        }
      ]
    },
    {
      "cell_type": "code",
      "metadata": {
        "id": "I5By8e1bMh9x",
        "outputId": "b636ecd2-729e-47d8-e195-48caf53acf23"
      },
      "source": [
        "#plt.figure(figsize=(15,10))\n",
        "#from plotly.plotly import plot_mpl\n",
        "hh=seasonal_decompose(x=df3,model='additive').plot()\n",
        "hh.set_size_inches(15,13)\n",
        "tls.mpl_to_plotly(hh)"
      ],
      "execution_count": null,
      "outputs": [
        {
          "output_type": "display_data",
          "data": {
            "application/vnd.plotly.v1+json": {
              "config": {
                "plotlyServerURL": "https://plot.ly"
              },
              "data": [
                {
                  "line": {
                    "color": "rgba (31, 119, 180, 1)",
                    "dash": "solid",
                    "width": 1.5
                  },
                  "mode": "lines",
                  "name": "_line0",
                  "type": "scatter",
                  "x": [
                    "2012-12-31 00:00:00",
                    "2013-01-31 00:00:00",
                    "2013-02-28 00:00:00",
                    "2013-03-31 00:00:00",
                    "2013-04-30 00:00:00",
                    "2013-05-31 00:00:00",
                    "2013-06-30 00:00:00",
                    "2013-07-31 00:00:00",
                    "2013-08-31 00:00:00",
                    "2013-09-30 00:00:00",
                    "2013-10-31 00:00:00",
                    "2013-11-30 00:00:00",
                    "2013-12-31 00:00:00",
                    "2014-01-31 00:00:00",
                    "2014-02-28 00:00:00",
                    "2014-03-31 00:00:00",
                    "2014-04-30 00:00:00",
                    "2014-05-31 00:00:00",
                    "2014-06-30 00:00:00",
                    "2014-07-31 00:00:00",
                    "2014-08-31 00:00:00",
                    "2014-09-30 00:00:00",
                    "2014-10-31 00:00:00",
                    "2014-11-30 00:00:00",
                    "2014-12-31 00:00:00",
                    "2015-01-31 00:00:00",
                    "2015-02-28 00:00:00",
                    "2015-03-31 00:00:00",
                    "2015-04-30 00:00:00",
                    "2015-05-31 00:00:00",
                    "2015-06-30 00:00:00",
                    "2015-07-31 00:00:00",
                    "2015-08-31 00:00:00",
                    "2015-09-30 00:00:00",
                    "2015-10-31 00:00:00",
                    "2015-11-30 00:00:00",
                    "2015-12-31 00:00:00",
                    "2016-01-31 00:00:00",
                    "2016-02-29 00:00:00",
                    "2016-03-31 00:00:00",
                    "2016-04-30 00:00:00",
                    "2016-05-31 00:00:00",
                    "2016-06-30 00:00:00",
                    "2016-07-31 00:00:00",
                    "2016-08-31 00:00:00",
                    "2016-09-30 00:00:00",
                    "2016-10-31 00:00:00",
                    "2016-11-30 00:00:00",
                    "2016-12-31 00:00:00",
                    "2017-01-31 00:00:00",
                    "2017-02-28 00:00:00",
                    "2017-03-31 00:00:00",
                    "2017-04-30 00:00:00",
                    "2017-05-31 00:00:00",
                    "2017-06-30 00:00:00",
                    "2017-07-31 00:00:00",
                    "2017-08-31 00:00:00",
                    "2017-09-30 00:00:00",
                    "2017-10-31 00:00:00",
                    "2017-11-30 00:00:00",
                    "2017-12-31 00:00:00",
                    "2018-01-31 00:00:00",
                    "2018-02-28 00:00:00",
                    "2018-03-31 00:00:00",
                    "2018-04-30 00:00:00",
                    "2018-05-31 00:00:00",
                    "2018-06-30 00:00:00",
                    "2018-07-31 00:00:00",
                    "2018-08-31 00:00:00",
                    "2018-09-30 00:00:00",
                    "2018-10-31 00:00:00",
                    "2018-11-30 00:00:00",
                    "2018-12-31 00:00:00",
                    "2019-01-31 00:00:00",
                    "2019-02-28 00:00:00",
                    "2019-03-31 00:00:00",
                    "2019-04-30 00:00:00",
                    "2019-05-31 00:00:00",
                    "2019-06-30 00:00:00",
                    "2019-07-31 00:00:00",
                    "2019-08-31 00:00:00",
                    "2019-09-30 00:00:00",
                    "2019-10-31 00:00:00",
                    "2019-11-30 00:00:00",
                    "2019-12-31 00:00:00",
                    "2020-01-31 00:00:00",
                    "2020-02-29 00:00:00",
                    "2020-03-31 00:00:00",
                    "2020-04-30 00:00:00",
                    "2020-05-31 00:00:00",
                    "2020-06-30 00:00:00",
                    "2020-07-31 00:00:00"
                  ],
                  "xaxis": "x",
                  "y": [
                    51.130361649987904,
                    47.84250346761573,
                    36.37873623108402,
                    36.37873623108402,
                    52.288948707112645,
                    55.06206611132139,
                    34.654810916805395,
                    50.539441561376904,
                    31.686794716190025,
                    30.649526686126144,
                    53.81504029155858,
                    36.37873623108402,
                    35.49680219638642,
                    56.50134978304056,
                    0,
                    32.68687150929398,
                    50.539441561376904,
                    41.96978291893463,
                    50.539441561376904,
                    49.33281833901625,
                    27.779778515575693,
                    48.090867317947506,
                    0,
                    56.87304941744307,
                    48.80504970032905,
                    32.68687150929398,
                    46.62425672986844,
                    0,
                    50.19813307554356,
                    50.19813307554356,
                    50.539441561376904,
                    33.78878646324882,
                    48.090867317947506,
                    31.686794716190025,
                    47.729114484225775,
                    32.68687150929398,
                    42.2846631793363,
                    63.00113438927878,
                    60.58193017597027,
                    38.77301280893077,
                    49.15762712721021,
                    48.449487253327774,
                    36.37873623108402,
                    36.871883969638546,
                    36.37873623108402,
                    0,
                    32.68687150929398,
                    59.74991828445912,
                    37.83615338184141,
                    51.214131360334974,
                    46.249153181400075,
                    36.37873623108402,
                    36.37873623108402,
                    51.214131360334974,
                    0,
                    36.37873623108402,
                    66.88366352847078,
                    62.83665737397448,
                    61.6708764374905,
                    61.6708764374905,
                    89.42860506219091,
                    56.50134978304056,
                    61.93961109349817,
                    47.729114484225775,
                    60.85630929001169,
                    54.88869985123987,
                    39.71265255038528,
                    0,
                    52.53335086532459,
                    69.91048791286282,
                    0,
                    99.6770869663257,
                    68.49869794829694,
                    93.81946467844752,
                    77.79651368275508,
                    65.06351185639471,
                    101.03186605052825,
                    89.60221590000913,
                    63.115969125627885,
                    51.214131360334974,
                    0,
                    65.56723533762299,
                    63.52410597741263,
                    0,
                    58.04383501421624,
                    57.46193018587492,
                    51.214131360334974,
                    0,
                    70.8333283025864,
                    0,
                    62.473017930718356,
                    38.77301280893077
                  ],
                  "yaxis": "y"
                },
                {
                  "line": {
                    "color": "rgba (31, 119, 180, 1)",
                    "dash": "solid",
                    "width": 1.5
                  },
                  "mode": "lines",
                  "name": "_line0",
                  "type": "scatter",
                  "x": [
                    "2012-12-31 00:00:00",
                    "2013-01-31 00:00:00",
                    "2013-02-28 00:00:00",
                    "2013-03-31 00:00:00",
                    "2013-04-30 00:00:00",
                    "2013-05-31 00:00:00",
                    "2013-06-30 00:00:00",
                    "2013-07-31 00:00:00",
                    "2013-08-31 00:00:00",
                    "2013-09-30 00:00:00",
                    "2013-10-31 00:00:00",
                    "2013-11-30 00:00:00",
                    "2013-12-31 00:00:00",
                    "2014-01-31 00:00:00",
                    "2014-02-28 00:00:00",
                    "2014-03-31 00:00:00",
                    "2014-04-30 00:00:00",
                    "2014-05-31 00:00:00",
                    "2014-06-30 00:00:00",
                    "2014-07-31 00:00:00",
                    "2014-08-31 00:00:00",
                    "2014-09-30 00:00:00",
                    "2014-10-31 00:00:00",
                    "2014-11-30 00:00:00",
                    "2014-12-31 00:00:00",
                    "2015-01-31 00:00:00",
                    "2015-02-28 00:00:00",
                    "2015-03-31 00:00:00",
                    "2015-04-30 00:00:00",
                    "2015-05-31 00:00:00",
                    "2015-06-30 00:00:00",
                    "2015-07-31 00:00:00",
                    "2015-08-31 00:00:00",
                    "2015-09-30 00:00:00",
                    "2015-10-31 00:00:00",
                    "2015-11-30 00:00:00",
                    "2015-12-31 00:00:00",
                    "2016-01-31 00:00:00",
                    "2016-02-29 00:00:00",
                    "2016-03-31 00:00:00",
                    "2016-04-30 00:00:00",
                    "2016-05-31 00:00:00",
                    "2016-06-30 00:00:00",
                    "2016-07-31 00:00:00",
                    "2016-08-31 00:00:00",
                    "2016-09-30 00:00:00",
                    "2016-10-31 00:00:00",
                    "2016-11-30 00:00:00",
                    "2016-12-31 00:00:00",
                    "2017-01-31 00:00:00",
                    "2017-02-28 00:00:00",
                    "2017-03-31 00:00:00",
                    "2017-04-30 00:00:00",
                    "2017-05-31 00:00:00",
                    "2017-06-30 00:00:00",
                    "2017-07-31 00:00:00",
                    "2017-08-31 00:00:00",
                    "2017-09-30 00:00:00",
                    "2017-10-31 00:00:00",
                    "2017-11-30 00:00:00",
                    "2017-12-31 00:00:00",
                    "2018-01-31 00:00:00",
                    "2018-02-28 00:00:00",
                    "2018-03-31 00:00:00",
                    "2018-04-30 00:00:00",
                    "2018-05-31 00:00:00",
                    "2018-06-30 00:00:00",
                    "2018-07-31 00:00:00",
                    "2018-08-31 00:00:00",
                    "2018-09-30 00:00:00",
                    "2018-10-31 00:00:00",
                    "2018-11-30 00:00:00",
                    "2018-12-31 00:00:00",
                    "2019-01-31 00:00:00",
                    "2019-02-28 00:00:00",
                    "2019-03-31 00:00:00",
                    "2019-04-30 00:00:00",
                    "2019-05-31 00:00:00",
                    "2019-06-30 00:00:00",
                    "2019-07-31 00:00:00",
                    "2019-08-31 00:00:00",
                    "2019-09-30 00:00:00",
                    "2019-10-31 00:00:00",
                    "2019-11-30 00:00:00",
                    "2019-12-31 00:00:00",
                    "2020-01-31 00:00:00",
                    "2020-02-29 00:00:00",
                    "2020-03-31 00:00:00",
                    "2020-04-30 00:00:00",
                    "2020-05-31 00:00:00",
                    "2020-06-30 00:00:00",
                    "2020-07-31 00:00:00"
                  ],
                  "xaxis": "x2",
                  "y": [
                    null,
                    null,
                    null,
                    null,
                    null,
                    null,
                    42.4157435895455,
                    42.125130542121475,
                    40.970135128969005,
                    39.30052675593258,
                    39.07380292811901,
                    38.45539499736391,
                    38.5717428078716,
                    39.18332645046372,
                    38.9702581411731,
                    39.534188325806724,
                    38.018617506651005,
                    36.630253877267705,
                    38.03869390603027,
                    37.600934290621765,
                    38.551341726293515,
                    39.13206611048412,
                    37.755891944020476,
                    38.08451868030279,
                    38.42736660349483,
                    37.7796986086712,
                    37.97832598061304,
                    38.1411183223053,
                    39.446328400741486,
                    40.42728409141134,
                    39.14784390686377,
                    40.139255421821765,
                    41.98391943540871,
                    44.18103136270173,
                    45.75321914855997,
                    45.63700449145375,
                    44.97411486009921,
                    44.51254786743659,
                    44.15300480158351,
                    42.34471622645629,
                    40.39767298932621,
                    40.89853981433593,
                    41.84081218840553,
                    41.164332487303916,
                    40.07600831965749,
                    39.379047754140124,
                    38.74683244272459,
                    38.32957215984464,
                    36.9289849880081,
                    35.39265648927315,
                    36.6431473042245,
                    40.53237999886455,
                    44.35824092812167,
                    45.64594772317283,
                    47.875673132897035,
                    50.245659387191004,
                    51.119729234474484,
                    52.246430741359475,
                    53.73926204602903,
                    54.91226794393873,
                    56.72006882065915,
                    56.85898200063004,
                    54.745271630037124,
                    54.44208487485971,
                    52.16720796241796,
                    51.18118021622398,
                    51.8926928585132,
                    52.57553484940957,
                    54.79116057793723,
                    56.17413140966332,
                    58.570379498525206,
                    61.69075753224544,
                    64.1122922249126,
                    67.22135255556167,
                    67.1663850761871,
                    64.79652659949691,
                    67.26239549125411,
                    65.75602128338274,
                    61.16719003753248,
                    59.21667347808859,
                    56.59417694413056,
                    52.77559802001328,
                    48.806345953165916,
                    43.8146478845013,
                    40.054432588879685,
                    39.50926301611662,
                    null,
                    null,
                    null,
                    null,
                    null,
                    null
                  ],
                  "yaxis": "y2"
                },
                {
                  "line": {
                    "color": "rgba (31, 119, 180, 1)",
                    "dash": "solid",
                    "width": 1.5
                  },
                  "mode": "lines",
                  "name": "_line0",
                  "type": "scatter",
                  "x": [
                    "2012-12-31 00:00:00",
                    "2013-01-31 00:00:00",
                    "2013-02-28 00:00:00",
                    "2013-03-31 00:00:00",
                    "2013-04-30 00:00:00",
                    "2013-05-31 00:00:00",
                    "2013-06-30 00:00:00",
                    "2013-07-31 00:00:00",
                    "2013-08-31 00:00:00",
                    "2013-09-30 00:00:00",
                    "2013-10-31 00:00:00",
                    "2013-11-30 00:00:00",
                    "2013-12-31 00:00:00",
                    "2014-01-31 00:00:00",
                    "2014-02-28 00:00:00",
                    "2014-03-31 00:00:00",
                    "2014-04-30 00:00:00",
                    "2014-05-31 00:00:00",
                    "2014-06-30 00:00:00",
                    "2014-07-31 00:00:00",
                    "2014-08-31 00:00:00",
                    "2014-09-30 00:00:00",
                    "2014-10-31 00:00:00",
                    "2014-11-30 00:00:00",
                    "2014-12-31 00:00:00",
                    "2015-01-31 00:00:00",
                    "2015-02-28 00:00:00",
                    "2015-03-31 00:00:00",
                    "2015-04-30 00:00:00",
                    "2015-05-31 00:00:00",
                    "2015-06-30 00:00:00",
                    "2015-07-31 00:00:00",
                    "2015-08-31 00:00:00",
                    "2015-09-30 00:00:00",
                    "2015-10-31 00:00:00",
                    "2015-11-30 00:00:00",
                    "2015-12-31 00:00:00",
                    "2016-01-31 00:00:00",
                    "2016-02-29 00:00:00",
                    "2016-03-31 00:00:00",
                    "2016-04-30 00:00:00",
                    "2016-05-31 00:00:00",
                    "2016-06-30 00:00:00",
                    "2016-07-31 00:00:00",
                    "2016-08-31 00:00:00",
                    "2016-09-30 00:00:00",
                    "2016-10-31 00:00:00",
                    "2016-11-30 00:00:00",
                    "2016-12-31 00:00:00",
                    "2017-01-31 00:00:00",
                    "2017-02-28 00:00:00",
                    "2017-03-31 00:00:00",
                    "2017-04-30 00:00:00",
                    "2017-05-31 00:00:00",
                    "2017-06-30 00:00:00",
                    "2017-07-31 00:00:00",
                    "2017-08-31 00:00:00",
                    "2017-09-30 00:00:00",
                    "2017-10-31 00:00:00",
                    "2017-11-30 00:00:00",
                    "2017-12-31 00:00:00",
                    "2018-01-31 00:00:00",
                    "2018-02-28 00:00:00",
                    "2018-03-31 00:00:00",
                    "2018-04-30 00:00:00",
                    "2018-05-31 00:00:00",
                    "2018-06-30 00:00:00",
                    "2018-07-31 00:00:00",
                    "2018-08-31 00:00:00",
                    "2018-09-30 00:00:00",
                    "2018-10-31 00:00:00",
                    "2018-11-30 00:00:00",
                    "2018-12-31 00:00:00",
                    "2019-01-31 00:00:00",
                    "2019-02-28 00:00:00",
                    "2019-03-31 00:00:00",
                    "2019-04-30 00:00:00",
                    "2019-05-31 00:00:00",
                    "2019-06-30 00:00:00",
                    "2019-07-31 00:00:00",
                    "2019-08-31 00:00:00",
                    "2019-09-30 00:00:00",
                    "2019-10-31 00:00:00",
                    "2019-11-30 00:00:00",
                    "2019-12-31 00:00:00",
                    "2020-01-31 00:00:00",
                    "2020-02-29 00:00:00",
                    "2020-03-31 00:00:00",
                    "2020-04-30 00:00:00",
                    "2020-05-31 00:00:00",
                    "2020-06-30 00:00:00",
                    "2020-07-31 00:00:00"
                  ],
                  "xaxis": "x3",
                  "y": [
                    8.463608419317831,
                    12.766980006815862,
                    2.0616246568340943,
                    -10.054181907754888,
                    10.891054344762184,
                    9.10298322748772,
                    -6.971020332368382,
                    -9.471609597900835,
                    -8.870403549389378,
                    -2.2581153518597046,
                    -9.197038559230002,
                    3.536118643285506,
                    8.463608419317831,
                    12.766980006815862,
                    2.0616246568340943,
                    -10.054181907754888,
                    10.891054344762184,
                    9.10298322748772,
                    -6.971020332368382,
                    -9.471609597900835,
                    -8.870403549389378,
                    -2.2581153518597046,
                    -9.197038559230002,
                    3.536118643285506,
                    8.463608419317831,
                    12.766980006815862,
                    2.0616246568340943,
                    -10.054181907754888,
                    10.891054344762184,
                    9.10298322748772,
                    -6.971020332368382,
                    -9.471609597900835,
                    -8.870403549389378,
                    -2.2581153518597046,
                    -9.197038559230002,
                    3.536118643285506,
                    8.463608419317831,
                    12.766980006815862,
                    2.0616246568340943,
                    -10.054181907754888,
                    10.891054344762184,
                    9.10298322748772,
                    -6.971020332368382,
                    -9.471609597900835,
                    -8.870403549389378,
                    -2.2581153518597046,
                    -9.197038559230002,
                    3.536118643285506,
                    8.463608419317831,
                    12.766980006815862,
                    2.0616246568340943,
                    -10.054181907754888,
                    10.891054344762184,
                    9.10298322748772,
                    -6.971020332368382,
                    -9.471609597900835,
                    -8.870403549389378,
                    -2.2581153518597046,
                    -9.197038559230002,
                    3.536118643285506,
                    8.463608419317831,
                    12.766980006815862,
                    2.0616246568340943,
                    -10.054181907754888,
                    10.891054344762184,
                    9.10298322748772,
                    -6.971020332368382,
                    -9.471609597900835,
                    -8.870403549389378,
                    -2.2581153518597046,
                    -9.197038559230002,
                    3.536118643285506,
                    8.463608419317831,
                    12.766980006815862,
                    2.0616246568340943,
                    -10.054181907754888,
                    10.891054344762184,
                    9.10298322748772,
                    -6.971020332368382,
                    -9.471609597900835,
                    -8.870403549389378,
                    -2.2581153518597046,
                    -9.197038559230002,
                    3.536118643285506,
                    8.463608419317831,
                    12.766980006815862,
                    2.0616246568340943,
                    -10.054181907754888,
                    10.891054344762184,
                    9.10298322748772,
                    -6.971020332368382,
                    -9.471609597900835
                  ],
                  "yaxis": "y3"
                },
                {
                  "marker": {
                    "color": "#1F77B4",
                    "line": {
                      "color": "#1F77B4",
                      "width": 1
                    },
                    "opacity": 1,
                    "size": 6,
                    "symbol": "circle"
                  },
                  "mode": "markers",
                  "name": "_line0",
                  "type": "scatter",
                  "x": [
                    "2012-12-31 00:00:00",
                    "2013-01-31 00:00:00",
                    "2013-02-28 00:00:00",
                    "2013-03-31 00:00:00",
                    "2013-04-30 00:00:00",
                    "2013-05-31 00:00:00",
                    "2013-06-30 00:00:00",
                    "2013-07-31 00:00:00",
                    "2013-08-31 00:00:00",
                    "2013-09-30 00:00:00",
                    "2013-10-31 00:00:00",
                    "2013-11-30 00:00:00",
                    "2013-12-31 00:00:00",
                    "2014-01-31 00:00:00",
                    "2014-02-28 00:00:00",
                    "2014-03-31 00:00:00",
                    "2014-04-30 00:00:00",
                    "2014-05-31 00:00:00",
                    "2014-06-30 00:00:00",
                    "2014-07-31 00:00:00",
                    "2014-08-31 00:00:00",
                    "2014-09-30 00:00:00",
                    "2014-10-31 00:00:00",
                    "2014-11-30 00:00:00",
                    "2014-12-31 00:00:00",
                    "2015-01-31 00:00:00",
                    "2015-02-28 00:00:00",
                    "2015-03-31 00:00:00",
                    "2015-04-30 00:00:00",
                    "2015-05-31 00:00:00",
                    "2015-06-30 00:00:00",
                    "2015-07-31 00:00:00",
                    "2015-08-31 00:00:00",
                    "2015-09-30 00:00:00",
                    "2015-10-31 00:00:00",
                    "2015-11-30 00:00:00",
                    "2015-12-31 00:00:00",
                    "2016-01-31 00:00:00",
                    "2016-02-29 00:00:00",
                    "2016-03-31 00:00:00",
                    "2016-04-30 00:00:00",
                    "2016-05-31 00:00:00",
                    "2016-06-30 00:00:00",
                    "2016-07-31 00:00:00",
                    "2016-08-31 00:00:00",
                    "2016-09-30 00:00:00",
                    "2016-10-31 00:00:00",
                    "2016-11-30 00:00:00",
                    "2016-12-31 00:00:00",
                    "2017-01-31 00:00:00",
                    "2017-02-28 00:00:00",
                    "2017-03-31 00:00:00",
                    "2017-04-30 00:00:00",
                    "2017-05-31 00:00:00",
                    "2017-06-30 00:00:00",
                    "2017-07-31 00:00:00",
                    "2017-08-31 00:00:00",
                    "2017-09-30 00:00:00",
                    "2017-10-31 00:00:00",
                    "2017-11-30 00:00:00",
                    "2017-12-31 00:00:00",
                    "2018-01-31 00:00:00",
                    "2018-02-28 00:00:00",
                    "2018-03-31 00:00:00",
                    "2018-04-30 00:00:00",
                    "2018-05-31 00:00:00",
                    "2018-06-30 00:00:00",
                    "2018-07-31 00:00:00",
                    "2018-08-31 00:00:00",
                    "2018-09-30 00:00:00",
                    "2018-10-31 00:00:00",
                    "2018-11-30 00:00:00",
                    "2018-12-31 00:00:00",
                    "2019-01-31 00:00:00",
                    "2019-02-28 00:00:00",
                    "2019-03-31 00:00:00",
                    "2019-04-30 00:00:00",
                    "2019-05-31 00:00:00",
                    "2019-06-30 00:00:00",
                    "2019-07-31 00:00:00",
                    "2019-08-31 00:00:00",
                    "2019-09-30 00:00:00",
                    "2019-10-31 00:00:00",
                    "2019-11-30 00:00:00",
                    "2019-12-31 00:00:00",
                    "2020-01-31 00:00:00",
                    "2020-02-29 00:00:00",
                    "2020-03-31 00:00:00",
                    "2020-04-30 00:00:00",
                    "2020-05-31 00:00:00",
                    "2020-06-30 00:00:00",
                    "2020-07-31 00:00:00"
                  ],
                  "xaxis": "x4",
                  "y": [
                    null,
                    null,
                    null,
                    null,
                    null,
                    null,
                    -0.7899123403717221,
                    17.885920617156266,
                    -0.4129368633896018,
                    -6.392884717946732,
                    23.938275922669575,
                    -5.612777409565397,
                    -11.538549030803013,
                    4.551043325760981,
                    -41.03188279800719,
                    3.2068650912421433,
                    1.6297697099637158,
                    -3.763454185820798,
                    19.47176798771502,
                    21.20349364629532,
                    -1.9011596613284443,
                    11.216916559323092,
                    -28.558853384790474,
                    15.252412093854772,
                    1.9140746775163873,
                    -17.85980710619308,
                    6.584306092421304,
                    -28.086936414550415,
                    -0.13924966996011,
                    0.6678657566445025,
                    18.362617986881517,
                    3.121140639327889,
                    14.977351431928176,
                    -10.236121294652001,
                    11.172933894895806,
                    -16.486251625445277,
                    -11.153060100080745,
                    5.721606515026332,
                    14.367300717552663,
                    6.482478490229369,
                    -2.131100206878182,
                    -1.5520357884958784,
                    1.5089443750468723,
                    5.179161080235465,
                    5.173131460815908,
                    -37.12093240228042,
                    3.1370776257993924,
                    17.884227481328978,
                    -7.556440025484514,
                    3.054494864245962,
                    7.5443812203414815,
                    5.900538139974358,
                    -18.87055904179983,
                    -3.5347995903255764,
                    -40.90465280052865,
                    -4.3953135582061496,
                    24.634337843385673,
                    12.848341984474711,
                    17.128652950691468,
                    3.222489850266263,
                    24.24492782221393,
                    -13.124612224405345,
                    5.132714806626954,
                    3.3412115171209535,
                    -2.2019530171684583,
                    -5.3954635924718275,
                    -5.2090199757595395,
                    -43.103925251508734,
                    6.612593836776744,
                    15.994471855059206,
                    -49.373340939295204,
                    34.450210790794756,
                    -4.077202695933488,
                    13.83113211606999,
                    8.568503949733884,
                    10.321167164652685,
                    22.878416214511958,
                    14.743211389138672,
                    8.91979942046379,
                    1.4690674801472223,
                    -47.72377339474118,
                    15.049752669469417,
                    23.914798583476717,
                    -47.3507665277868,
                    9.525794006018726,
                    5.185687162942438,
                    null,
                    null,
                    null,
                    null,
                    null,
                    null
                  ],
                  "yaxis": "y4"
                },
                {
                  "line": {
                    "color": "rgba(0, 0, 0, 1)",
                    "dash": "solid",
                    "width": 1.5
                  },
                  "mode": "lines",
                  "name": "_line1",
                  "type": "scatter",
                  "x": [
                    "2012-12-31 00:00:00",
                    "2020-07-31 00:00:00"
                  ],
                  "xaxis": "x4",
                  "y": [
                    0,
                    0
                  ],
                  "yaxis": "y4"
                }
              ],
              "layout": {
                "autosize": false,
                "height": 936,
                "hovermode": "closest",
                "margin": {
                  "b": 90,
                  "l": 132,
                  "pad": 0,
                  "r": 27,
                  "t": 39
                },
                "showlegend": false,
                "template": {
                  "data": {
                    "bar": [
                      {
                        "error_x": {
                          "color": "#2a3f5f"
                        },
                        "error_y": {
                          "color": "#2a3f5f"
                        },
                        "marker": {
                          "line": {
                            "color": "#E5ECF6",
                            "width": 0.5
                          }
                        },
                        "type": "bar"
                      }
                    ],
                    "barpolar": [
                      {
                        "marker": {
                          "line": {
                            "color": "#E5ECF6",
                            "width": 0.5
                          }
                        },
                        "type": "barpolar"
                      }
                    ],
                    "carpet": [
                      {
                        "aaxis": {
                          "endlinecolor": "#2a3f5f",
                          "gridcolor": "white",
                          "linecolor": "white",
                          "minorgridcolor": "white",
                          "startlinecolor": "#2a3f5f"
                        },
                        "baxis": {
                          "endlinecolor": "#2a3f5f",
                          "gridcolor": "white",
                          "linecolor": "white",
                          "minorgridcolor": "white",
                          "startlinecolor": "#2a3f5f"
                        },
                        "type": "carpet"
                      }
                    ],
                    "choropleth": [
                      {
                        "colorbar": {
                          "outlinewidth": 0,
                          "ticks": ""
                        },
                        "type": "choropleth"
                      }
                    ],
                    "contour": [
                      {
                        "colorbar": {
                          "outlinewidth": 0,
                          "ticks": ""
                        },
                        "colorscale": [
                          [
                            0,
                            "#0d0887"
                          ],
                          [
                            0.1111111111111111,
                            "#46039f"
                          ],
                          [
                            0.2222222222222222,
                            "#7201a8"
                          ],
                          [
                            0.3333333333333333,
                            "#9c179e"
                          ],
                          [
                            0.4444444444444444,
                            "#bd3786"
                          ],
                          [
                            0.5555555555555556,
                            "#d8576b"
                          ],
                          [
                            0.6666666666666666,
                            "#ed7953"
                          ],
                          [
                            0.7777777777777778,
                            "#fb9f3a"
                          ],
                          [
                            0.8888888888888888,
                            "#fdca26"
                          ],
                          [
                            1,
                            "#f0f921"
                          ]
                        ],
                        "type": "contour"
                      }
                    ],
                    "contourcarpet": [
                      {
                        "colorbar": {
                          "outlinewidth": 0,
                          "ticks": ""
                        },
                        "type": "contourcarpet"
                      }
                    ],
                    "heatmap": [
                      {
                        "colorbar": {
                          "outlinewidth": 0,
                          "ticks": ""
                        },
                        "colorscale": [
                          [
                            0,
                            "#0d0887"
                          ],
                          [
                            0.1111111111111111,
                            "#46039f"
                          ],
                          [
                            0.2222222222222222,
                            "#7201a8"
                          ],
                          [
                            0.3333333333333333,
                            "#9c179e"
                          ],
                          [
                            0.4444444444444444,
                            "#bd3786"
                          ],
                          [
                            0.5555555555555556,
                            "#d8576b"
                          ],
                          [
                            0.6666666666666666,
                            "#ed7953"
                          ],
                          [
                            0.7777777777777778,
                            "#fb9f3a"
                          ],
                          [
                            0.8888888888888888,
                            "#fdca26"
                          ],
                          [
                            1,
                            "#f0f921"
                          ]
                        ],
                        "type": "heatmap"
                      }
                    ],
                    "heatmapgl": [
                      {
                        "colorbar": {
                          "outlinewidth": 0,
                          "ticks": ""
                        },
                        "colorscale": [
                          [
                            0,
                            "#0d0887"
                          ],
                          [
                            0.1111111111111111,
                            "#46039f"
                          ],
                          [
                            0.2222222222222222,
                            "#7201a8"
                          ],
                          [
                            0.3333333333333333,
                            "#9c179e"
                          ],
                          [
                            0.4444444444444444,
                            "#bd3786"
                          ],
                          [
                            0.5555555555555556,
                            "#d8576b"
                          ],
                          [
                            0.6666666666666666,
                            "#ed7953"
                          ],
                          [
                            0.7777777777777778,
                            "#fb9f3a"
                          ],
                          [
                            0.8888888888888888,
                            "#fdca26"
                          ],
                          [
                            1,
                            "#f0f921"
                          ]
                        ],
                        "type": "heatmapgl"
                      }
                    ],
                    "histogram": [
                      {
                        "marker": {
                          "colorbar": {
                            "outlinewidth": 0,
                            "ticks": ""
                          }
                        },
                        "type": "histogram"
                      }
                    ],
                    "histogram2d": [
                      {
                        "colorbar": {
                          "outlinewidth": 0,
                          "ticks": ""
                        },
                        "colorscale": [
                          [
                            0,
                            "#0d0887"
                          ],
                          [
                            0.1111111111111111,
                            "#46039f"
                          ],
                          [
                            0.2222222222222222,
                            "#7201a8"
                          ],
                          [
                            0.3333333333333333,
                            "#9c179e"
                          ],
                          [
                            0.4444444444444444,
                            "#bd3786"
                          ],
                          [
                            0.5555555555555556,
                            "#d8576b"
                          ],
                          [
                            0.6666666666666666,
                            "#ed7953"
                          ],
                          [
                            0.7777777777777778,
                            "#fb9f3a"
                          ],
                          [
                            0.8888888888888888,
                            "#fdca26"
                          ],
                          [
                            1,
                            "#f0f921"
                          ]
                        ],
                        "type": "histogram2d"
                      }
                    ],
                    "histogram2dcontour": [
                      {
                        "colorbar": {
                          "outlinewidth": 0,
                          "ticks": ""
                        },
                        "colorscale": [
                          [
                            0,
                            "#0d0887"
                          ],
                          [
                            0.1111111111111111,
                            "#46039f"
                          ],
                          [
                            0.2222222222222222,
                            "#7201a8"
                          ],
                          [
                            0.3333333333333333,
                            "#9c179e"
                          ],
                          [
                            0.4444444444444444,
                            "#bd3786"
                          ],
                          [
                            0.5555555555555556,
                            "#d8576b"
                          ],
                          [
                            0.6666666666666666,
                            "#ed7953"
                          ],
                          [
                            0.7777777777777778,
                            "#fb9f3a"
                          ],
                          [
                            0.8888888888888888,
                            "#fdca26"
                          ],
                          [
                            1,
                            "#f0f921"
                          ]
                        ],
                        "type": "histogram2dcontour"
                      }
                    ],
                    "mesh3d": [
                      {
                        "colorbar": {
                          "outlinewidth": 0,
                          "ticks": ""
                        },
                        "type": "mesh3d"
                      }
                    ],
                    "parcoords": [
                      {
                        "line": {
                          "colorbar": {
                            "outlinewidth": 0,
                            "ticks": ""
                          }
                        },
                        "type": "parcoords"
                      }
                    ],
                    "pie": [
                      {
                        "automargin": true,
                        "type": "pie"
                      }
                    ],
                    "scatter": [
                      {
                        "marker": {
                          "colorbar": {
                            "outlinewidth": 0,
                            "ticks": ""
                          }
                        },
                        "type": "scatter"
                      }
                    ],
                    "scatter3d": [
                      {
                        "line": {
                          "colorbar": {
                            "outlinewidth": 0,
                            "ticks": ""
                          }
                        },
                        "marker": {
                          "colorbar": {
                            "outlinewidth": 0,
                            "ticks": ""
                          }
                        },
                        "type": "scatter3d"
                      }
                    ],
                    "scattercarpet": [
                      {
                        "marker": {
                          "colorbar": {
                            "outlinewidth": 0,
                            "ticks": ""
                          }
                        },
                        "type": "scattercarpet"
                      }
                    ],
                    "scattergeo": [
                      {
                        "marker": {
                          "colorbar": {
                            "outlinewidth": 0,
                            "ticks": ""
                          }
                        },
                        "type": "scattergeo"
                      }
                    ],
                    "scattergl": [
                      {
                        "marker": {
                          "colorbar": {
                            "outlinewidth": 0,
                            "ticks": ""
                          }
                        },
                        "type": "scattergl"
                      }
                    ],
                    "scattermapbox": [
                      {
                        "marker": {
                          "colorbar": {
                            "outlinewidth": 0,
                            "ticks": ""
                          }
                        },
                        "type": "scattermapbox"
                      }
                    ],
                    "scatterpolar": [
                      {
                        "marker": {
                          "colorbar": {
                            "outlinewidth": 0,
                            "ticks": ""
                          }
                        },
                        "type": "scatterpolar"
                      }
                    ],
                    "scatterpolargl": [
                      {
                        "marker": {
                          "colorbar": {
                            "outlinewidth": 0,
                            "ticks": ""
                          }
                        },
                        "type": "scatterpolargl"
                      }
                    ],
                    "scatterternary": [
                      {
                        "marker": {
                          "colorbar": {
                            "outlinewidth": 0,
                            "ticks": ""
                          }
                        },
                        "type": "scatterternary"
                      }
                    ],
                    "surface": [
                      {
                        "colorbar": {
                          "outlinewidth": 0,
                          "ticks": ""
                        },
                        "colorscale": [
                          [
                            0,
                            "#0d0887"
                          ],
                          [
                            0.1111111111111111,
                            "#46039f"
                          ],
                          [
                            0.2222222222222222,
                            "#7201a8"
                          ],
                          [
                            0.3333333333333333,
                            "#9c179e"
                          ],
                          [
                            0.4444444444444444,
                            "#bd3786"
                          ],
                          [
                            0.5555555555555556,
                            "#d8576b"
                          ],
                          [
                            0.6666666666666666,
                            "#ed7953"
                          ],
                          [
                            0.7777777777777778,
                            "#fb9f3a"
                          ],
                          [
                            0.8888888888888888,
                            "#fdca26"
                          ],
                          [
                            1,
                            "#f0f921"
                          ]
                        ],
                        "type": "surface"
                      }
                    ],
                    "table": [
                      {
                        "cells": {
                          "fill": {
                            "color": "#EBF0F8"
                          },
                          "line": {
                            "color": "white"
                          }
                        },
                        "header": {
                          "fill": {
                            "color": "#C8D4E3"
                          },
                          "line": {
                            "color": "white"
                          }
                        },
                        "type": "table"
                      }
                    ]
                  },
                  "layout": {
                    "annotationdefaults": {
                      "arrowcolor": "#2a3f5f",
                      "arrowhead": 0,
                      "arrowwidth": 1
                    },
                    "coloraxis": {
                      "colorbar": {
                        "outlinewidth": 0,
                        "ticks": ""
                      }
                    },
                    "colorscale": {
                      "diverging": [
                        [
                          0,
                          "#8e0152"
                        ],
                        [
                          0.1,
                          "#c51b7d"
                        ],
                        [
                          0.2,
                          "#de77ae"
                        ],
                        [
                          0.3,
                          "#f1b6da"
                        ],
                        [
                          0.4,
                          "#fde0ef"
                        ],
                        [
                          0.5,
                          "#f7f7f7"
                        ],
                        [
                          0.6,
                          "#e6f5d0"
                        ],
                        [
                          0.7,
                          "#b8e186"
                        ],
                        [
                          0.8,
                          "#7fbc41"
                        ],
                        [
                          0.9,
                          "#4d9221"
                        ],
                        [
                          1,
                          "#276419"
                        ]
                      ],
                      "sequential": [
                        [
                          0,
                          "#0d0887"
                        ],
                        [
                          0.1111111111111111,
                          "#46039f"
                        ],
                        [
                          0.2222222222222222,
                          "#7201a8"
                        ],
                        [
                          0.3333333333333333,
                          "#9c179e"
                        ],
                        [
                          0.4444444444444444,
                          "#bd3786"
                        ],
                        [
                          0.5555555555555556,
                          "#d8576b"
                        ],
                        [
                          0.6666666666666666,
                          "#ed7953"
                        ],
                        [
                          0.7777777777777778,
                          "#fb9f3a"
                        ],
                        [
                          0.8888888888888888,
                          "#fdca26"
                        ],
                        [
                          1,
                          "#f0f921"
                        ]
                      ],
                      "sequentialminus": [
                        [
                          0,
                          "#0d0887"
                        ],
                        [
                          0.1111111111111111,
                          "#46039f"
                        ],
                        [
                          0.2222222222222222,
                          "#7201a8"
                        ],
                        [
                          0.3333333333333333,
                          "#9c179e"
                        ],
                        [
                          0.4444444444444444,
                          "#bd3786"
                        ],
                        [
                          0.5555555555555556,
                          "#d8576b"
                        ],
                        [
                          0.6666666666666666,
                          "#ed7953"
                        ],
                        [
                          0.7777777777777778,
                          "#fb9f3a"
                        ],
                        [
                          0.8888888888888888,
                          "#fdca26"
                        ],
                        [
                          1,
                          "#f0f921"
                        ]
                      ]
                    },
                    "colorway": [
                      "#636efa",
                      "#EF553B",
                      "#00cc96",
                      "#ab63fa",
                      "#FFA15A",
                      "#19d3f3",
                      "#FF6692",
                      "#B6E880",
                      "#FF97FF",
                      "#FECB52"
                    ],
                    "font": {
                      "color": "#2a3f5f"
                    },
                    "geo": {
                      "bgcolor": "white",
                      "lakecolor": "white",
                      "landcolor": "#E5ECF6",
                      "showlakes": true,
                      "showland": true,
                      "subunitcolor": "white"
                    },
                    "hoverlabel": {
                      "align": "left"
                    },
                    "hovermode": "closest",
                    "mapbox": {
                      "style": "light"
                    },
                    "paper_bgcolor": "white",
                    "plot_bgcolor": "#E5ECF6",
                    "polar": {
                      "angularaxis": {
                        "gridcolor": "white",
                        "linecolor": "white",
                        "ticks": ""
                      },
                      "bgcolor": "#E5ECF6",
                      "radialaxis": {
                        "gridcolor": "white",
                        "linecolor": "white",
                        "ticks": ""
                      }
                    },
                    "scene": {
                      "xaxis": {
                        "backgroundcolor": "#E5ECF6",
                        "gridcolor": "white",
                        "gridwidth": 2,
                        "linecolor": "white",
                        "showbackground": true,
                        "ticks": "",
                        "zerolinecolor": "white"
                      },
                      "yaxis": {
                        "backgroundcolor": "#E5ECF6",
                        "gridcolor": "white",
                        "gridwidth": 2,
                        "linecolor": "white",
                        "showbackground": true,
                        "ticks": "",
                        "zerolinecolor": "white"
                      },
                      "zaxis": {
                        "backgroundcolor": "#E5ECF6",
                        "gridcolor": "white",
                        "gridwidth": 2,
                        "linecolor": "white",
                        "showbackground": true,
                        "ticks": "",
                        "zerolinecolor": "white"
                      }
                    },
                    "shapedefaults": {
                      "line": {
                        "color": "#2a3f5f"
                      }
                    },
                    "ternary": {
                      "aaxis": {
                        "gridcolor": "white",
                        "linecolor": "white",
                        "ticks": ""
                      },
                      "baxis": {
                        "gridcolor": "white",
                        "linecolor": "white",
                        "ticks": ""
                      },
                      "bgcolor": "#E5ECF6",
                      "caxis": {
                        "gridcolor": "white",
                        "linecolor": "white",
                        "ticks": ""
                      }
                    },
                    "title": {
                      "x": 0.05
                    },
                    "xaxis": {
                      "automargin": true,
                      "gridcolor": "white",
                      "linecolor": "white",
                      "ticks": "",
                      "title": {
                        "standoff": 15
                      },
                      "zerolinecolor": "white",
                      "zerolinewidth": 2
                    },
                    "yaxis": {
                      "automargin": true,
                      "gridcolor": "white",
                      "linecolor": "white",
                      "ticks": "",
                      "title": {
                        "standoff": 15
                      },
                      "zerolinecolor": "white",
                      "zerolinewidth": 2
                    }
                  }
                },
                "width": 1080,
                "xaxis": {
                  "anchor": "y",
                  "domain": [
                    0,
                    1
                  ],
                  "mirror": "ticks",
                  "nticks": 9,
                  "range": [
                    "2012-12-31 00:00:00",
                    "2020-07-31 00:00:00"
                  ],
                  "showgrid": false,
                  "showline": true,
                  "side": "bottom",
                  "tickfont": {
                    "size": 10
                  },
                  "ticks": "inside",
                  "type": "date",
                  "zeroline": false
                },
                "xaxis2": {
                  "anchor": "y2",
                  "domain": [
                    0,
                    1
                  ],
                  "mirror": "ticks",
                  "nticks": 9,
                  "range": [
                    "2012-12-31 00:00:00",
                    "2020-07-31 00:00:00"
                  ],
                  "showgrid": false,
                  "showline": true,
                  "side": "bottom",
                  "tickfont": {
                    "size": 10
                  },
                  "ticks": "inside",
                  "type": "date",
                  "zeroline": false
                },
                "xaxis3": {
                  "anchor": "y3",
                  "domain": [
                    0,
                    1
                  ],
                  "mirror": "ticks",
                  "nticks": 9,
                  "range": [
                    "2012-12-31 00:00:00",
                    "2020-07-31 00:00:00"
                  ],
                  "showgrid": false,
                  "showline": true,
                  "side": "bottom",
                  "tickfont": {
                    "size": 10
                  },
                  "ticks": "inside",
                  "type": "date",
                  "zeroline": false
                },
                "xaxis4": {
                  "anchor": "y4",
                  "domain": [
                    0,
                    1
                  ],
                  "mirror": "ticks",
                  "nticks": 9,
                  "range": [
                    "2012-12-31 00:00:00",
                    "2020-07-31 00:00:00"
                  ],
                  "showgrid": false,
                  "showline": true,
                  "side": "bottom",
                  "tickfont": {
                    "size": 10
                  },
                  "ticks": "inside",
                  "type": "date",
                  "zeroline": false
                },
                "yaxis": {
                  "anchor": "x",
                  "domain": [
                    0.8340768167715027,
                    1
                  ],
                  "mirror": "ticks",
                  "nticks": 8,
                  "range": [
                    -5.051593302526413,
                    106.08345935305466
                  ],
                  "showgrid": false,
                  "showline": true,
                  "side": "left",
                  "tickfont": {
                    "size": 10
                  },
                  "ticks": "inside",
                  "type": "linear",
                  "zeroline": false
                },
                "yaxis2": {
                  "anchor": "x2",
                  "domain": [
                    0.5560512111810016,
                    0.7219743944094991
                  ],
                  "mirror": "ticks",
                  "nticks": 5,
                  "range": [
                    33.7991695391741,
                    68.85588244135316
                  ],
                  "showgrid": false,
                  "showline": true,
                  "side": "left",
                  "tickfont": {
                    "size": 10
                  },
                  "ticks": "inside",
                  "title": {
                    "font": {
                      "color": "#000000",
                      "size": 10
                    },
                    "text": "Trend"
                  },
                  "type": "linear",
                  "zeroline": false
                },
                "yaxis3": {
                  "anchor": "x3",
                  "domain": [
                    0.2780256055905008,
                    0.4439487888189982
                  ],
                  "mirror": "ticks",
                  "nticks": 7,
                  "range": [
                    -11.195240003483425,
                    13.908038102544399
                  ],
                  "showgrid": false,
                  "showline": true,
                  "side": "left",
                  "tickfont": {
                    "size": 10
                  },
                  "ticks": "inside",
                  "title": {
                    "font": {
                      "color": "#000000",
                      "size": 10
                    },
                    "text": "Seasonal"
                  },
                  "type": "linear",
                  "zeroline": false
                },
                "yaxis4": {
                  "anchor": "x4",
                  "domain": [
                    0,
                    0.16592318322849736
                  ],
                  "mirror": "ticks",
                  "nticks": 6,
                  "range": [
                    -53.5645185257997,
                    38.64138837729925
                  ],
                  "showgrid": false,
                  "showline": true,
                  "side": "left",
                  "tickfont": {
                    "size": 10
                  },
                  "ticks": "inside",
                  "title": {
                    "font": {
                      "color": "#000000",
                      "size": 10
                    },
                    "text": "Resid"
                  },
                  "type": "linear",
                  "zeroline": false
                }
              }
            },
            "image/png": "[encoded data removed]",
            "text/html": [
              "<div>\n",
              "        \n",
              "        \n",
              "            <div id=\"2057a8c5-f6d6-4530-a268-2d91538881ff\" class=\"plotly-graph-div\" style=\"height:936px; width:1080px;\"></div>\n",
              "            <script type=\"text/javascript\">\n",
              "                require([\"plotly\"], function(Plotly) {\n",
              "                    window.PLOTLYENV=window.PLOTLYENV || {};\n",
              "                    \n",
              "                if (document.getElementById(\"2057a8c5-f6d6-4530-a268-2d91538881ff\")) {\n",
              "                    Plotly.newPlot(\n",
              "                        '2057a8c5-f6d6-4530-a268-2d91538881ff',\n",
              "                        [{\"line\": {\"color\": \"rgba (31, 119, 180, 1)\", \"dash\": \"solid\", \"width\": 1.5}, \"mode\": \"lines\", \"name\": \"_line0\", \"type\": \"scatter\", \"x\": [\"2012-12-31 00:00:00\", \"2013-01-31 00:00:00\", \"2013-02-28 00:00:00\", \"2013-03-31 00:00:00\", \"2013-04-30 00:00:00\", \"2013-05-31 00:00:00\", \"2013-06-30 00:00:00\", \"2013-07-31 00:00:00\", \"2013-08-31 00:00:00\", \"2013-09-30 00:00:00\", \"2013-10-31 00:00:00\", \"2013-11-30 00:00:00\", \"2013-12-31 00:00:00\", \"2014-01-31 00:00:00\", \"2014-02-28 00:00:00\", \"2014-03-31 00:00:00\", \"2014-04-30 00:00:00\", \"2014-05-31 00:00:00\", \"2014-06-30 00:00:00\", \"2014-07-31 00:00:00\", \"2014-08-31 00:00:00\", \"2014-09-30 00:00:00\", \"2014-10-31 00:00:00\", \"2014-11-30 00:00:00\", \"2014-12-31 00:00:00\", \"2015-01-31 00:00:00\", \"2015-02-28 00:00:00\", \"2015-03-31 00:00:00\", \"2015-04-30 00:00:00\", \"2015-05-31 00:00:00\", \"2015-06-30 00:00:00\", \"2015-07-31 00:00:00\", \"2015-08-31 00:00:00\", \"2015-09-30 00:00:00\", \"2015-10-31 00:00:00\", \"2015-11-30 00:00:00\", \"2015-12-31 00:00:00\", \"2016-01-31 00:00:00\", \"2016-02-29 00:00:00\", \"2016-03-31 00:00:00\", \"2016-04-30 00:00:00\", \"2016-05-31 00:00:00\", \"2016-06-30 00:00:00\", \"2016-07-31 00:00:00\", \"2016-08-31 00:00:00\", \"2016-09-30 00:00:00\", \"2016-10-31 00:00:00\", \"2016-11-30 00:00:00\", \"2016-12-31 00:00:00\", \"2017-01-31 00:00:00\", \"2017-02-28 00:00:00\", \"2017-03-31 00:00:00\", \"2017-04-30 00:00:00\", \"2017-05-31 00:00:00\", \"2017-06-30 00:00:00\", \"2017-07-31 00:00:00\", \"2017-08-31 00:00:00\", \"2017-09-30 00:00:00\", \"2017-10-31 00:00:00\", \"2017-11-30 00:00:00\", \"2017-12-31 00:00:00\", \"2018-01-31 00:00:00\", \"2018-02-28 00:00:00\", \"2018-03-31 00:00:00\", \"2018-04-30 00:00:00\", \"2018-05-31 00:00:00\", \"2018-06-30 00:00:00\", \"2018-07-31 00:00:00\", \"2018-08-31 00:00:00\", \"2018-09-30 00:00:00\", \"2018-10-31 00:00:00\", \"2018-11-30 00:00:00\", \"2018-12-31 00:00:00\", \"2019-01-31 00:00:00\", \"2019-02-28 00:00:00\", \"2019-03-31 00:00:00\", \"2019-04-30 00:00:00\", \"2019-05-31 00:00:00\", \"2019-06-30 00:00:00\", \"2019-07-31 00:00:00\", \"2019-08-31 00:00:00\", \"2019-09-30 00:00:00\", \"2019-10-31 00:00:00\", \"2019-11-30 00:00:00\", \"2019-12-31 00:00:00\", \"2020-01-31 00:00:00\", \"2020-02-29 00:00:00\", \"2020-03-31 00:00:00\", \"2020-04-30 00:00:00\", \"2020-05-31 00:00:00\", \"2020-06-30 00:00:00\", \"2020-07-31 00:00:00\"], \"xaxis\": \"x\", \"y\": [51.130361649987904, 47.84250346761573, 36.37873623108402, 36.37873623108402, 52.288948707112645, 55.06206611132139, 34.654810916805395, 50.539441561376904, 31.686794716190025, 30.649526686126144, 53.81504029155858, 36.37873623108402, 35.49680219638642, 56.50134978304056, 0.0, 32.68687150929398, 50.539441561376904, 41.96978291893463, 50.539441561376904, 49.33281833901625, 27.779778515575693, 48.090867317947506, 0.0, 56.87304941744307, 48.80504970032905, 32.68687150929398, 46.62425672986844, 0.0, 50.19813307554356, 50.19813307554356, 50.539441561376904, 33.78878646324882, 48.090867317947506, 31.686794716190025, 47.729114484225775, 32.68687150929398, 42.2846631793363, 63.00113438927878, 60.58193017597027, 38.77301280893077, 49.15762712721021, 48.449487253327774, 36.37873623108402, 36.871883969638546, 36.37873623108402, 0.0, 32.68687150929398, 59.74991828445912, 37.83615338184141, 51.214131360334974, 46.249153181400075, 36.37873623108402, 36.37873623108402, 51.214131360334974, 0.0, 36.37873623108402, 66.88366352847078, 62.83665737397448, 61.6708764374905, 61.6708764374905, 89.42860506219091, 56.50134978304056, 61.93961109349817, 47.729114484225775, 60.85630929001169, 54.88869985123987, 39.71265255038528, 0.0, 52.53335086532459, 69.91048791286282, 0.0, 99.6770869663257, 68.49869794829694, 93.81946467844752, 77.79651368275508, 65.06351185639471, 101.03186605052825, 89.60221590000913, 63.115969125627885, 51.214131360334974, 0.0, 65.56723533762299, 63.52410597741263, 0.0, 58.04383501421624, 57.46193018587492, 51.214131360334974, 0.0, 70.8333283025864, 0.0, 62.473017930718356, 38.77301280893077], \"yaxis\": \"y\"}, {\"line\": {\"color\": \"rgba (31, 119, 180, 1)\", \"dash\": \"solid\", \"width\": 1.5}, \"mode\": \"lines\", \"name\": \"_line0\", \"type\": \"scatter\", \"x\": [\"2012-12-31 00:00:00\", \"2013-01-31 00:00:00\", \"2013-02-28 00:00:00\", \"2013-03-31 00:00:00\", \"2013-04-30 00:00:00\", \"2013-05-31 00:00:00\", \"2013-06-30 00:00:00\", \"2013-07-31 00:00:00\", \"2013-08-31 00:00:00\", \"2013-09-30 00:00:00\", \"2013-10-31 00:00:00\", \"2013-11-30 00:00:00\", \"2013-12-31 00:00:00\", \"2014-01-31 00:00:00\", \"2014-02-28 00:00:00\", \"2014-03-31 00:00:00\", \"2014-04-30 00:00:00\", \"2014-05-31 00:00:00\", \"2014-06-30 00:00:00\", \"2014-07-31 00:00:00\", \"2014-08-31 00:00:00\", \"2014-09-30 00:00:00\", \"2014-10-31 00:00:00\", \"2014-11-30 00:00:00\", \"2014-12-31 00:00:00\", \"2015-01-31 00:00:00\", \"2015-02-28 00:00:00\", \"2015-03-31 00:00:00\", \"2015-04-30 00:00:00\", \"2015-05-31 00:00:00\", \"2015-06-30 00:00:00\", \"2015-07-31 00:00:00\", \"2015-08-31 00:00:00\", \"2015-09-30 00:00:00\", \"2015-10-31 00:00:00\", \"2015-11-30 00:00:00\", \"2015-12-31 00:00:00\", \"2016-01-31 00:00:00\", \"2016-02-29 00:00:00\", \"2016-03-31 00:00:00\", \"2016-04-30 00:00:00\", \"2016-05-31 00:00:00\", \"2016-06-30 00:00:00\", \"2016-07-31 00:00:00\", \"2016-08-31 00:00:00\", \"2016-09-30 00:00:00\", \"2016-10-31 00:00:00\", \"2016-11-30 00:00:00\", \"2016-12-31 00:00:00\", \"2017-01-31 00:00:00\", \"2017-02-28 00:00:00\", \"2017-03-31 00:00:00\", \"2017-04-30 00:00:00\", \"2017-05-31 00:00:00\", \"2017-06-30 00:00:00\", \"2017-07-31 00:00:00\", \"2017-08-31 00:00:00\", \"2017-09-30 00:00:00\", \"2017-10-31 00:00:00\", \"2017-11-30 00:00:00\", \"2017-12-31 00:00:00\", \"2018-01-31 00:00:00\", \"2018-02-28 00:00:00\", \"2018-03-31 00:00:00\", \"2018-04-30 00:00:00\", \"2018-05-31 00:00:00\", \"2018-06-30 00:00:00\", \"2018-07-31 00:00:00\", \"2018-08-31 00:00:00\", \"2018-09-30 00:00:00\", \"2018-10-31 00:00:00\", \"2018-11-30 00:00:00\", \"2018-12-31 00:00:00\", \"2019-01-31 00:00:00\", \"2019-02-28 00:00:00\", \"2019-03-31 00:00:00\", \"2019-04-30 00:00:00\", \"2019-05-31 00:00:00\", \"2019-06-30 00:00:00\", \"2019-07-31 00:00:00\", \"2019-08-31 00:00:00\", \"2019-09-30 00:00:00\", \"2019-10-31 00:00:00\", \"2019-11-30 00:00:00\", \"2019-12-31 00:00:00\", \"2020-01-31 00:00:00\", \"2020-02-29 00:00:00\", \"2020-03-31 00:00:00\", \"2020-04-30 00:00:00\", \"2020-05-31 00:00:00\", \"2020-06-30 00:00:00\", \"2020-07-31 00:00:00\"], \"xaxis\": \"x2\", \"y\": [null, null, null, null, null, null, 42.4157435895455, 42.125130542121475, 40.970135128969005, 39.30052675593258, 39.07380292811901, 38.45539499736391, 38.5717428078716, 39.18332645046372, 38.9702581411731, 39.534188325806724, 38.018617506651005, 36.630253877267705, 38.03869390603027, 37.600934290621765, 38.551341726293515, 39.13206611048412, 37.755891944020476, 38.08451868030279, 38.42736660349483, 37.7796986086712, 37.97832598061304, 38.1411183223053, 39.446328400741486, 40.42728409141134, 39.14784390686377, 40.139255421821765, 41.98391943540871, 44.18103136270173, 45.75321914855997, 45.63700449145375, 44.97411486009921, 44.51254786743659, 44.15300480158351, 42.34471622645629, 40.39767298932621, 40.89853981433593, 41.84081218840553, 41.164332487303916, 40.07600831965749, 39.379047754140124, 38.74683244272459, 38.32957215984464, 36.9289849880081, 35.39265648927315, 36.6431473042245, 40.53237999886455, 44.35824092812167, 45.64594772317283, 47.875673132897035, 50.245659387191004, 51.119729234474484, 52.246430741359475, 53.73926204602903, 54.91226794393873, 56.72006882065915, 56.85898200063004, 54.745271630037124, 54.44208487485971, 52.16720796241796, 51.18118021622398, 51.8926928585132, 52.57553484940957, 54.79116057793723, 56.17413140966332, 58.570379498525206, 61.69075753224544, 64.1122922249126, 67.22135255556167, 67.1663850761871, 64.79652659949691, 67.26239549125411, 65.75602128338274, 61.16719003753248, 59.21667347808859, 56.59417694413056, 52.77559802001328, 48.806345953165916, 43.8146478845013, 40.054432588879685, 39.50926301611662, null, null, null, null, null, null], \"yaxis\": \"y2\"}, {\"line\": {\"color\": \"rgba (31, 119, 180, 1)\", \"dash\": \"solid\", \"width\": 1.5}, \"mode\": \"lines\", \"name\": \"_line0\", \"type\": \"scatter\", \"x\": [\"2012-12-31 00:00:00\", \"2013-01-31 00:00:00\", \"2013-02-28 00:00:00\", \"2013-03-31 00:00:00\", \"2013-04-30 00:00:00\", \"2013-05-31 00:00:00\", \"2013-06-30 00:00:00\", \"2013-07-31 00:00:00\", \"2013-08-31 00:00:00\", \"2013-09-30 00:00:00\", \"2013-10-31 00:00:00\", \"2013-11-30 00:00:00\", \"2013-12-31 00:00:00\", \"2014-01-31 00:00:00\", \"2014-02-28 00:00:00\", \"2014-03-31 00:00:00\", \"2014-04-30 00:00:00\", \"2014-05-31 00:00:00\", \"2014-06-30 00:00:00\", \"2014-07-31 00:00:00\", \"2014-08-31 00:00:00\", \"2014-09-30 00:00:00\", \"2014-10-31 00:00:00\", \"2014-11-30 00:00:00\", \"2014-12-31 00:00:00\", \"2015-01-31 00:00:00\", \"2015-02-28 00:00:00\", \"2015-03-31 00:00:00\", \"2015-04-30 00:00:00\", \"2015-05-31 00:00:00\", \"2015-06-30 00:00:00\", \"2015-07-31 00:00:00\", \"2015-08-31 00:00:00\", \"2015-09-30 00:00:00\", \"2015-10-31 00:00:00\", \"2015-11-30 00:00:00\", \"2015-12-31 00:00:00\", \"2016-01-31 00:00:00\", \"2016-02-29 00:00:00\", \"2016-03-31 00:00:00\", \"2016-04-30 00:00:00\", \"2016-05-31 00:00:00\", \"2016-06-30 00:00:00\", \"2016-07-31 00:00:00\", \"2016-08-31 00:00:00\", \"2016-09-30 00:00:00\", \"2016-10-31 00:00:00\", \"2016-11-30 00:00:00\", \"2016-12-31 00:00:00\", \"2017-01-31 00:00:00\", \"2017-02-28 00:00:00\", \"2017-03-31 00:00:00\", \"2017-04-30 00:00:00\", \"2017-05-31 00:00:00\", \"2017-06-30 00:00:00\", \"2017-07-31 00:00:00\", \"2017-08-31 00:00:00\", \"2017-09-30 00:00:00\", \"2017-10-31 00:00:00\", \"2017-11-30 00:00:00\", \"2017-12-31 00:00:00\", \"2018-01-31 00:00:00\", \"2018-02-28 00:00:00\", \"2018-03-31 00:00:00\", \"2018-04-30 00:00:00\", \"2018-05-31 00:00:00\", \"2018-06-30 00:00:00\", \"2018-07-31 00:00:00\", \"2018-08-31 00:00:00\", \"2018-09-30 00:00:00\", \"2018-10-31 00:00:00\", \"2018-11-30 00:00:00\", \"2018-12-31 00:00:00\", \"2019-01-31 00:00:00\", \"2019-02-28 00:00:00\", \"2019-03-31 00:00:00\", \"2019-04-30 00:00:00\", \"2019-05-31 00:00:00\", \"2019-06-30 00:00:00\", \"2019-07-31 00:00:00\", \"2019-08-31 00:00:00\", \"2019-09-30 00:00:00\", \"2019-10-31 00:00:00\", \"2019-11-30 00:00:00\", \"2019-12-31 00:00:00\", \"2020-01-31 00:00:00\", \"2020-02-29 00:00:00\", \"2020-03-31 00:00:00\", \"2020-04-30 00:00:00\", \"2020-05-31 00:00:00\", \"2020-06-30 00:00:00\", \"2020-07-31 00:00:00\"], \"xaxis\": \"x3\", \"y\": [8.463608419317831, 12.766980006815862, 2.0616246568340943, -10.054181907754888, 10.891054344762184, 9.10298322748772, -6.971020332368382, -9.471609597900835, -8.870403549389378, -2.2581153518597046, -9.197038559230002, 3.536118643285506, 8.463608419317831, 12.766980006815862, 2.0616246568340943, -10.054181907754888, 10.891054344762184, 9.10298322748772, -6.971020332368382, -9.471609597900835, -8.870403549389378, -2.2581153518597046, -9.197038559230002, 3.536118643285506, 8.463608419317831, 12.766980006815862, 2.0616246568340943, -10.054181907754888, 10.891054344762184, 9.10298322748772, -6.971020332368382, -9.471609597900835, -8.870403549389378, -2.2581153518597046, -9.197038559230002, 3.536118643285506, 8.463608419317831, 12.766980006815862, 2.0616246568340943, -10.054181907754888, 10.891054344762184, 9.10298322748772, -6.971020332368382, -9.471609597900835, -8.870403549389378, -2.2581153518597046, -9.197038559230002, 3.536118643285506, 8.463608419317831, 12.766980006815862, 2.0616246568340943, -10.054181907754888, 10.891054344762184, 9.10298322748772, -6.971020332368382, -9.471609597900835, -8.870403549389378, -2.2581153518597046, -9.197038559230002, 3.536118643285506, 8.463608419317831, 12.766980006815862, 2.0616246568340943, -10.054181907754888, 10.891054344762184, 9.10298322748772, -6.971020332368382, -9.471609597900835, -8.870403549389378, -2.2581153518597046, -9.197038559230002, 3.536118643285506, 8.463608419317831, 12.766980006815862, 2.0616246568340943, -10.054181907754888, 10.891054344762184, 9.10298322748772, -6.971020332368382, -9.471609597900835, -8.870403549389378, -2.2581153518597046, -9.197038559230002, 3.536118643285506, 8.463608419317831, 12.766980006815862, 2.0616246568340943, -10.054181907754888, 10.891054344762184, 9.10298322748772, -6.971020332368382, -9.471609597900835], \"yaxis\": \"y3\"}, {\"marker\": {\"color\": \"#1F77B4\", \"line\": {\"color\": \"#1F77B4\", \"width\": 1.0}, \"opacity\": 1, \"size\": 6.0, \"symbol\": \"circle\"}, \"mode\": \"markers\", \"name\": \"_line0\", \"type\": \"scatter\", \"x\": [\"2012-12-31 00:00:00\", \"2013-01-31 00:00:00\", \"2013-02-28 00:00:00\", \"2013-03-31 00:00:00\", \"2013-04-30 00:00:00\", \"2013-05-31 00:00:00\", \"2013-06-30 00:00:00\", \"2013-07-31 00:00:00\", \"2013-08-31 00:00:00\", \"2013-09-30 00:00:00\", \"2013-10-31 00:00:00\", \"2013-11-30 00:00:00\", \"2013-12-31 00:00:00\", \"2014-01-31 00:00:00\", \"2014-02-28 00:00:00\", \"2014-03-31 00:00:00\", \"2014-04-30 00:00:00\", \"2014-05-31 00:00:00\", \"2014-06-30 00:00:00\", \"2014-07-31 00:00:00\", \"2014-08-31 00:00:00\", \"2014-09-30 00:00:00\", \"2014-10-31 00:00:00\", \"2014-11-30 00:00:00\", \"2014-12-31 00:00:00\", \"2015-01-31 00:00:00\", \"2015-02-28 00:00:00\", \"2015-03-31 00:00:00\", \"2015-04-30 00:00:00\", \"2015-05-31 00:00:00\", \"2015-06-30 00:00:00\", \"2015-07-31 00:00:00\", \"2015-08-31 00:00:00\", \"2015-09-30 00:00:00\", \"2015-10-31 00:00:00\", \"2015-11-30 00:00:00\", \"2015-12-31 00:00:00\", \"2016-01-31 00:00:00\", \"2016-02-29 00:00:00\", \"2016-03-31 00:00:00\", \"2016-04-30 00:00:00\", \"2016-05-31 00:00:00\", \"2016-06-30 00:00:00\", \"2016-07-31 00:00:00\", \"2016-08-31 00:00:00\", \"2016-09-30 00:00:00\", \"2016-10-31 00:00:00\", \"2016-11-30 00:00:00\", \"2016-12-31 00:00:00\", \"2017-01-31 00:00:00\", \"2017-02-28 00:00:00\", \"2017-03-31 00:00:00\", \"2017-04-30 00:00:00\", \"2017-05-31 00:00:00\", \"2017-06-30 00:00:00\", \"2017-07-31 00:00:00\", \"2017-08-31 00:00:00\", \"2017-09-30 00:00:00\", \"2017-10-31 00:00:00\", \"2017-11-30 00:00:00\", \"2017-12-31 00:00:00\", \"2018-01-31 00:00:00\", \"2018-02-28 00:00:00\", \"2018-03-31 00:00:00\", \"2018-04-30 00:00:00\", \"2018-05-31 00:00:00\", \"2018-06-30 00:00:00\", \"2018-07-31 00:00:00\", \"2018-08-31 00:00:00\", \"2018-09-30 00:00:00\", \"2018-10-31 00:00:00\", \"2018-11-30 00:00:00\", \"2018-12-31 00:00:00\", \"2019-01-31 00:00:00\", \"2019-02-28 00:00:00\", \"2019-03-31 00:00:00\", \"2019-04-30 00:00:00\", \"2019-05-31 00:00:00\", \"2019-06-30 00:00:00\", \"2019-07-31 00:00:00\", \"2019-08-31 00:00:00\", \"2019-09-30 00:00:00\", \"2019-10-31 00:00:00\", \"2019-11-30 00:00:00\", \"2019-12-31 00:00:00\", \"2020-01-31 00:00:00\", \"2020-02-29 00:00:00\", \"2020-03-31 00:00:00\", \"2020-04-30 00:00:00\", \"2020-05-31 00:00:00\", \"2020-06-30 00:00:00\", \"2020-07-31 00:00:00\"], \"xaxis\": \"x4\", \"y\": [null, null, null, null, null, null, -0.7899123403717221, 17.885920617156266, -0.4129368633896018, -6.392884717946732, 23.938275922669575, -5.612777409565397, -11.538549030803013, 4.551043325760981, -41.03188279800719, 3.2068650912421433, 1.6297697099637158, -3.763454185820798, 19.47176798771502, 21.20349364629532, -1.9011596613284443, 11.216916559323092, -28.558853384790474, 15.252412093854772, 1.9140746775163873, -17.85980710619308, 6.584306092421304, -28.086936414550415, -0.13924966996011, 0.6678657566445025, 18.362617986881517, 3.121140639327889, 14.977351431928176, -10.236121294652001, 11.172933894895806, -16.486251625445277, -11.153060100080745, 5.721606515026332, 14.367300717552663, 6.482478490229369, -2.131100206878182, -1.5520357884958784, 1.5089443750468723, 5.179161080235465, 5.173131460815908, -37.12093240228042, 3.1370776257993924, 17.884227481328978, -7.556440025484514, 3.054494864245962, 7.5443812203414815, 5.900538139974358, -18.87055904179983, -3.5347995903255764, -40.90465280052865, -4.3953135582061496, 24.634337843385673, 12.848341984474711, 17.128652950691468, 3.222489850266263, 24.24492782221393, -13.124612224405345, 5.132714806626954, 3.3412115171209535, -2.2019530171684583, -5.3954635924718275, -5.2090199757595395, -43.103925251508734, 6.612593836776744, 15.994471855059206, -49.373340939295204, 34.450210790794756, -4.077202695933488, 13.83113211606999, 8.568503949733884, 10.321167164652685, 22.878416214511958, 14.743211389138672, 8.91979942046379, 1.4690674801472223, -47.72377339474118, 15.049752669469417, 23.914798583476717, -47.3507665277868, 9.525794006018726, 5.185687162942438, null, null, null, null, null, null], \"yaxis\": \"y4\"}, {\"line\": {\"color\": \"rgba (0, 0, 0, 1)\", \"dash\": \"solid\", \"width\": 1.5}, \"mode\": \"lines\", \"name\": \"_line1\", \"type\": \"scatter\", \"x\": [\"2012-12-31 00:00:00\", \"2020-07-31 00:00:00\"], \"xaxis\": \"x4\", \"y\": [0.0, 0.0], \"yaxis\": \"y4\"}],\n",
              "                        {\"autosize\": false, \"height\": 936, \"hovermode\": \"closest\", \"margin\": {\"b\": 90, \"l\": 132, \"pad\": 0, \"r\": 27, \"t\": 39}, \"showlegend\": false, \"template\": {\"data\": {\"bar\": [{\"error_x\": {\"color\": \"#2a3f5f\"}, \"error_y\": {\"color\": \"#2a3f5f\"}, \"marker\": {\"line\": {\"color\": \"#E5ECF6\", \"width\": 0.5}}, \"type\": \"bar\"}], \"barpolar\": [{\"marker\": {\"line\": {\"color\": \"#E5ECF6\", \"width\": 0.5}}, \"type\": \"barpolar\"}], \"carpet\": [{\"aaxis\": {\"endlinecolor\": \"#2a3f5f\", \"gridcolor\": \"white\", \"linecolor\": \"white\", \"minorgridcolor\": \"white\", \"startlinecolor\": \"#2a3f5f\"}, \"baxis\": {\"endlinecolor\": \"#2a3f5f\", \"gridcolor\": \"white\", \"linecolor\": \"white\", \"minorgridcolor\": \"white\", \"startlinecolor\": \"#2a3f5f\"}, \"type\": \"carpet\"}], \"choropleth\": [{\"colorbar\": {\"outlinewidth\": 0, \"ticks\": \"\"}, \"type\": \"choropleth\"}], \"contour\": [{\"colorbar\": {\"outlinewidth\": 0, \"ticks\": \"\"}, \"colorscale\": [[0.0, \"#0d0887\"], [0.1111111111111111, \"#46039f\"], [0.2222222222222222, \"#7201a8\"], [0.3333333333333333, \"#9c179e\"], [0.4444444444444444, \"#bd3786\"], [0.5555555555555556, \"#d8576b\"], [0.6666666666666666, \"#ed7953\"], [0.7777777777777778, \"#fb9f3a\"], [0.8888888888888888, \"#fdca26\"], [1.0, \"#f0f921\"]], \"type\": \"contour\"}], \"contourcarpet\": [{\"colorbar\": {\"outlinewidth\": 0, \"ticks\": \"\"}, \"type\": \"contourcarpet\"}], \"heatmap\": [{\"colorbar\": {\"outlinewidth\": 0, \"ticks\": \"\"}, \"colorscale\": [[0.0, \"#0d0887\"], [0.1111111111111111, \"#46039f\"], [0.2222222222222222, \"#7201a8\"], [0.3333333333333333, \"#9c179e\"], [0.4444444444444444, \"#bd3786\"], [0.5555555555555556, \"#d8576b\"], [0.6666666666666666, \"#ed7953\"], [0.7777777777777778, \"#fb9f3a\"], [0.8888888888888888, \"#fdca26\"], [1.0, \"#f0f921\"]], \"type\": \"heatmap\"}], \"heatmapgl\": [{\"colorbar\": {\"outlinewidth\": 0, \"ticks\": \"\"}, \"colorscale\": [[0.0, \"#0d0887\"], [0.1111111111111111, \"#46039f\"], [0.2222222222222222, \"#7201a8\"], [0.3333333333333333, \"#9c179e\"], [0.4444444444444444, \"#bd3786\"], [0.5555555555555556, \"#d8576b\"], [0.6666666666666666, \"#ed7953\"], [0.7777777777777778, \"#fb9f3a\"], [0.8888888888888888, \"#fdca26\"], [1.0, \"#f0f921\"]], \"type\": \"heatmapgl\"}], \"histogram\": [{\"marker\": {\"colorbar\": {\"outlinewidth\": 0, \"ticks\": \"\"}}, \"type\": \"histogram\"}], \"histogram2d\": [{\"colorbar\": {\"outlinewidth\": 0, \"ticks\": \"\"}, \"colorscale\": [[0.0, \"#0d0887\"], [0.1111111111111111, \"#46039f\"], [0.2222222222222222, \"#7201a8\"], [0.3333333333333333, \"#9c179e\"], [0.4444444444444444, \"#bd3786\"], [0.5555555555555556, \"#d8576b\"], [0.6666666666666666, \"#ed7953\"], [0.7777777777777778, \"#fb9f3a\"], [0.8888888888888888, \"#fdca26\"], [1.0, \"#f0f921\"]], \"type\": \"histogram2d\"}], \"histogram2dcontour\": [{\"colorbar\": {\"outlinewidth\": 0, \"ticks\": \"\"}, \"colorscale\": [[0.0, \"#0d0887\"], [0.1111111111111111, \"#46039f\"], [0.2222222222222222, \"#7201a8\"], [0.3333333333333333, \"#9c179e\"], [0.4444444444444444, \"#bd3786\"], [0.5555555555555556, \"#d8576b\"], [0.6666666666666666, \"#ed7953\"], [0.7777777777777778, \"#fb9f3a\"], [0.8888888888888888, \"#fdca26\"], [1.0, \"#f0f921\"]], \"type\": \"histogram2dcontour\"}], \"mesh3d\": [{\"colorbar\": {\"outlinewidth\": 0, \"ticks\": \"\"}, \"type\": \"mesh3d\"}], \"parcoords\": [{\"line\": {\"colorbar\": {\"outlinewidth\": 0, \"ticks\": \"\"}}, \"type\": \"parcoords\"}], \"pie\": [{\"automargin\": true, \"type\": \"pie\"}], \"scatter\": [{\"marker\": {\"colorbar\": {\"outlinewidth\": 0, \"ticks\": \"\"}}, \"type\": \"scatter\"}], \"scatter3d\": [{\"line\": {\"colorbar\": {\"outlinewidth\": 0, \"ticks\": \"\"}}, \"marker\": {\"colorbar\": {\"outlinewidth\": 0, \"ticks\": \"\"}}, \"type\": \"scatter3d\"}], \"scattercarpet\": [{\"marker\": {\"colorbar\": {\"outlinewidth\": 0, \"ticks\": \"\"}}, \"type\": \"scattercarpet\"}], \"scattergeo\": [{\"marker\": {\"colorbar\": {\"outlinewidth\": 0, \"ticks\": \"\"}}, \"type\": \"scattergeo\"}], \"scattergl\": [{\"marker\": {\"colorbar\": {\"outlinewidth\": 0, \"ticks\": \"\"}}, \"type\": \"scattergl\"}], \"scattermapbox\": [{\"marker\": {\"colorbar\": {\"outlinewidth\": 0, \"ticks\": \"\"}}, \"type\": \"scattermapbox\"}], \"scatterpolar\": [{\"marker\": {\"colorbar\": {\"outlinewidth\": 0, \"ticks\": \"\"}}, \"type\": \"scatterpolar\"}], \"scatterpolargl\": [{\"marker\": {\"colorbar\": {\"outlinewidth\": 0, \"ticks\": \"\"}}, \"type\": \"scatterpolargl\"}], \"scatterternary\": [{\"marker\": {\"colorbar\": {\"outlinewidth\": 0, \"ticks\": \"\"}}, \"type\": \"scatterternary\"}], \"surface\": [{\"colorbar\": {\"outlinewidth\": 0, \"ticks\": \"\"}, \"colorscale\": [[0.0, \"#0d0887\"], [0.1111111111111111, \"#46039f\"], [0.2222222222222222, \"#7201a8\"], [0.3333333333333333, \"#9c179e\"], [0.4444444444444444, \"#bd3786\"], [0.5555555555555556, \"#d8576b\"], [0.6666666666666666, \"#ed7953\"], [0.7777777777777778, \"#fb9f3a\"], [0.8888888888888888, \"#fdca26\"], [1.0, \"#f0f921\"]], \"type\": \"surface\"}], \"table\": [{\"cells\": {\"fill\": {\"color\": \"#EBF0F8\"}, \"line\": {\"color\": \"white\"}}, \"header\": {\"fill\": {\"color\": \"#C8D4E3\"}, \"line\": {\"color\": \"white\"}}, \"type\": \"table\"}]}, \"layout\": {\"annotationdefaults\": {\"arrowcolor\": \"#2a3f5f\", \"arrowhead\": 0, \"arrowwidth\": 1}, \"coloraxis\": {\"colorbar\": {\"outlinewidth\": 0, \"ticks\": \"\"}}, \"colorscale\": {\"diverging\": [[0, \"#8e0152\"], [0.1, \"#c51b7d\"], [0.2, \"#de77ae\"], [0.3, \"#f1b6da\"], [0.4, \"#fde0ef\"], [0.5, \"#f7f7f7\"], [0.6, \"#e6f5d0\"], [0.7, \"#b8e186\"], [0.8, \"#7fbc41\"], [0.9, \"#4d9221\"], [1, \"#276419\"]], \"sequential\": [[0.0, \"#0d0887\"], [0.1111111111111111, \"#46039f\"], [0.2222222222222222, \"#7201a8\"], [0.3333333333333333, \"#9c179e\"], [0.4444444444444444, \"#bd3786\"], [0.5555555555555556, \"#d8576b\"], [0.6666666666666666, \"#ed7953\"], [0.7777777777777778, \"#fb9f3a\"], [0.8888888888888888, \"#fdca26\"], [1.0, \"#f0f921\"]], \"sequentialminus\": [[0.0, \"#0d0887\"], [0.1111111111111111, \"#46039f\"], [0.2222222222222222, \"#7201a8\"], [0.3333333333333333, \"#9c179e\"], [0.4444444444444444, \"#bd3786\"], [0.5555555555555556, \"#d8576b\"], [0.6666666666666666, \"#ed7953\"], [0.7777777777777778, \"#fb9f3a\"], [0.8888888888888888, \"#fdca26\"], [1.0, \"#f0f921\"]]}, \"colorway\": [\"#636efa\", \"#EF553B\", \"#00cc96\", \"#ab63fa\", \"#FFA15A\", \"#19d3f3\", \"#FF6692\", \"#B6E880\", \"#FF97FF\", \"#FECB52\"], \"font\": {\"color\": \"#2a3f5f\"}, \"geo\": {\"bgcolor\": \"white\", \"lakecolor\": \"white\", \"landcolor\": \"#E5ECF6\", \"showlakes\": true, \"showland\": true, \"subunitcolor\": \"white\"}, \"hoverlabel\": {\"align\": \"left\"}, \"hovermode\": \"closest\", \"mapbox\": {\"style\": \"light\"}, \"paper_bgcolor\": \"white\", \"plot_bgcolor\": \"#E5ECF6\", \"polar\": {\"angularaxis\": {\"gridcolor\": \"white\", \"linecolor\": \"white\", \"ticks\": \"\"}, \"bgcolor\": \"#E5ECF6\", \"radialaxis\": {\"gridcolor\": \"white\", \"linecolor\": \"white\", \"ticks\": \"\"}}, \"scene\": {\"xaxis\": {\"backgroundcolor\": \"#E5ECF6\", \"gridcolor\": \"white\", \"gridwidth\": 2, \"linecolor\": \"white\", \"showbackground\": true, \"ticks\": \"\", \"zerolinecolor\": \"white\"}, \"yaxis\": {\"backgroundcolor\": \"#E5ECF6\", \"gridcolor\": \"white\", \"gridwidth\": 2, \"linecolor\": \"white\", \"showbackground\": true, \"ticks\": \"\", \"zerolinecolor\": \"white\"}, \"zaxis\": {\"backgroundcolor\": \"#E5ECF6\", \"gridcolor\": \"white\", \"gridwidth\": 2, \"linecolor\": \"white\", \"showbackground\": true, \"ticks\": \"\", \"zerolinecolor\": \"white\"}}, \"shapedefaults\": {\"line\": {\"color\": \"#2a3f5f\"}}, \"ternary\": {\"aaxis\": {\"gridcolor\": \"white\", \"linecolor\": \"white\", \"ticks\": \"\"}, \"baxis\": {\"gridcolor\": \"white\", \"linecolor\": \"white\", \"ticks\": \"\"}, \"bgcolor\": \"#E5ECF6\", \"caxis\": {\"gridcolor\": \"white\", \"linecolor\": \"white\", \"ticks\": \"\"}}, \"title\": {\"x\": 0.05}, \"xaxis\": {\"automargin\": true, \"gridcolor\": \"white\", \"linecolor\": \"white\", \"ticks\": \"\", \"title\": {\"standoff\": 15}, \"zerolinecolor\": \"white\", \"zerolinewidth\": 2}, \"yaxis\": {\"automargin\": true, \"gridcolor\": \"white\", \"linecolor\": \"white\", \"ticks\": \"\", \"title\": {\"standoff\": 15}, \"zerolinecolor\": \"white\", \"zerolinewidth\": 2}}}, \"width\": 1080, \"xaxis\": {\"anchor\": \"y\", \"domain\": [0.0, 1.0], \"mirror\": \"ticks\", \"nticks\": 9, \"range\": [\"2012-12-31 00:00:00\", \"2020-07-31 00:00:00\"], \"showgrid\": false, \"showline\": true, \"side\": \"bottom\", \"tickfont\": {\"size\": 10.0}, \"ticks\": \"inside\", \"type\": \"date\", \"zeroline\": false}, \"xaxis2\": {\"anchor\": \"y2\", \"domain\": [0.0, 1.0], \"mirror\": \"ticks\", \"nticks\": 9, \"range\": [\"2012-12-31 00:00:00\", \"2020-07-31 00:00:00\"], \"showgrid\": false, \"showline\": true, \"side\": \"bottom\", \"tickfont\": {\"size\": 10.0}, \"ticks\": \"inside\", \"type\": \"date\", \"zeroline\": false}, \"xaxis3\": {\"anchor\": \"y3\", \"domain\": [0.0, 1.0], \"mirror\": \"ticks\", \"nticks\": 9, \"range\": [\"2012-12-31 00:00:00\", \"2020-07-31 00:00:00\"], \"showgrid\": false, \"showline\": true, \"side\": \"bottom\", \"tickfont\": {\"size\": 10.0}, \"ticks\": \"inside\", \"type\": \"date\", \"zeroline\": false}, \"xaxis4\": {\"anchor\": \"y4\", \"domain\": [0.0, 1.0], \"mirror\": \"ticks\", \"nticks\": 9, \"range\": [\"2012-12-31 00:00:00\", \"2020-07-31 00:00:00\"], \"showgrid\": false, \"showline\": true, \"side\": \"bottom\", \"tickfont\": {\"size\": 10.0}, \"ticks\": \"inside\", \"type\": \"date\", \"zeroline\": false}, \"yaxis\": {\"anchor\": \"x\", \"domain\": [0.8340768167715027, 1.0], \"mirror\": \"ticks\", \"nticks\": 8, \"range\": [-5.051593302526413, 106.08345935305466], \"showgrid\": false, \"showline\": true, \"side\": \"left\", \"tickfont\": {\"size\": 10.0}, \"ticks\": \"inside\", \"type\": \"linear\", \"zeroline\": false}, \"yaxis2\": {\"anchor\": \"x2\", \"domain\": [0.5560512111810016, 0.7219743944094991], \"mirror\": \"ticks\", \"nticks\": 5, \"range\": [33.7991695391741, 68.85588244135316], \"showgrid\": false, \"showline\": true, \"side\": \"left\", \"tickfont\": {\"size\": 10.0}, \"ticks\": \"inside\", \"title\": {\"font\": {\"color\": \"#000000\", \"size\": 10.0}, \"text\": \"Trend\"}, \"type\": \"linear\", \"zeroline\": false}, \"yaxis3\": {\"anchor\": \"x3\", \"domain\": [0.2780256055905008, 0.4439487888189982], \"mirror\": \"ticks\", \"nticks\": 7, \"range\": [-11.195240003483425, 13.908038102544399], \"showgrid\": false, \"showline\": true, \"side\": \"left\", \"tickfont\": {\"size\": 10.0}, \"ticks\": \"inside\", \"title\": {\"font\": {\"color\": \"#000000\", \"size\": 10.0}, \"text\": \"Seasonal\"}, \"type\": \"linear\", \"zeroline\": false}, \"yaxis4\": {\"anchor\": \"x4\", \"domain\": [0.0, 0.16592318322849736], \"mirror\": \"ticks\", \"nticks\": 6, \"range\": [-53.5645185257997, 38.64138837729925], \"showgrid\": false, \"showline\": true, \"side\": \"left\", \"tickfont\": {\"size\": 10.0}, \"ticks\": \"inside\", \"title\": {\"font\": {\"color\": \"#000000\", \"size\": 10.0}, \"text\": \"Resid\"}, \"type\": \"linear\", \"zeroline\": false}},\n",
              "                        {\"responsive\": true}\n",
              "                    ).then(function(){\n",
              "                            \n",
              "var gd = document.getElementById('2057a8c5-f6d6-4530-a268-2d91538881ff');\n",
              "var x = new MutationObserver(function (mutations, observer) {{\n",
              "        var display = window.getComputedStyle(gd).display;\n",
              "        if (!display || display === 'none') {{\n",
              "            console.log([gd, 'removed!']);\n",
              "            Plotly.purge(gd);\n",
              "            observer.disconnect();\n",
              "        }}\n",
              "}});\n",
              "\n",
              "// Listen for the removal of the full notebook cells\n",
              "var notebookContainer = gd.closest('#notebook-container');\n",
              "if (notebookContainer) {{\n",
              "    x.observe(notebookContainer, {childList: true});\n",
              "}}\n",
              "\n",
              "// Listen for the clearing of the current output cell\n",
              "var outputEl = gd.closest('.output');\n",
              "if (outputEl) {{\n",
              "    x.observe(outputEl, {childList: true});\n",
              "}}\n",
              "\n",
              "                        })\n",
              "                };\n",
              "                });\n",
              "            </script>\n",
              "        </div>"
            ]
          },
          "metadata": {
            "tags": []
          }
        }
      ]
    },
    {
      "cell_type": "code",
      "metadata": {
        "id": "jTDwN-BtMh91",
        "outputId": "45bc4dee-d92d-4685-8895-a5f508c868be"
      },
      "source": [
        "from autoplotter import run_app\n",
        "run_app(df)"
      ],
      "execution_count": null,
      "outputs": [
        {
          "output_type": "error",
          "ename": "ImportError",
          "evalue": "cannot import name 'MATCH' from 'dash.dependencies' (/home/swastik/.local/lib/python3.8/site-packages/dash/dependencies.py)",
          "traceback": [
            "\u001b[0;31m---------------------------------------------------------------------------\u001b[0m",
            "\u001b[0;31mImportError\u001b[0m                               Traceback (most recent call last)",
            "\u001b[0;32m<ipython-input-245-519efaae55cd>\u001b[0m in \u001b[0;36m<module>\u001b[0;34m\u001b[0m\n\u001b[0;32m----> 1\u001b[0;31m \u001b[0;32mfrom\u001b[0m \u001b[0mautoplotter\u001b[0m \u001b[0;32mimport\u001b[0m \u001b[0mrun_app\u001b[0m\u001b[0;34m\u001b[0m\u001b[0;34m\u001b[0m\u001b[0m\n\u001b[0m\u001b[1;32m      2\u001b[0m \u001b[0mrun_app\u001b[0m\u001b[0;34m(\u001b[0m\u001b[0mdf\u001b[0m\u001b[0;34m)\u001b[0m\u001b[0;34m\u001b[0m\u001b[0;34m\u001b[0m\u001b[0m\n",
            "\u001b[0;32m~/.local/lib/python3.8/site-packages/autoplotter/__init__.py\u001b[0m in \u001b[0;36m<module>\u001b[0;34m\u001b[0m\n\u001b[0;32m----> 1\u001b[0;31m \u001b[0;32mfrom\u001b[0m \u001b[0;34m.\u001b[0m\u001b[0mapp\u001b[0m \u001b[0;32mimport\u001b[0m \u001b[0mrun_app\u001b[0m\u001b[0;34m\u001b[0m\u001b[0;34m\u001b[0m\u001b[0m\n\u001b[0m\u001b[1;32m      2\u001b[0m \u001b[0;34m\u001b[0m\u001b[0m\n\u001b[1;32m      3\u001b[0m \u001b[0m__ALL__\u001b[0m\u001b[0;34m=\u001b[0m\u001b[0;34m[\u001b[0m\u001b[0;34m'run_app'\u001b[0m\u001b[0;34m]\u001b[0m\u001b[0;34m\u001b[0m\u001b[0;34m\u001b[0m\u001b[0m\n",
            "\u001b[0;32m~/.local/lib/python3.8/site-packages/autoplotter/app.py\u001b[0m in \u001b[0;36m<module>\u001b[0;34m\u001b[0m\n\u001b[1;32m      2\u001b[0m \u001b[0;32mimport\u001b[0m \u001b[0mdash_core_components\u001b[0m \u001b[0;32mas\u001b[0m \u001b[0mdcc\u001b[0m\u001b[0;34m\u001b[0m\u001b[0;34m\u001b[0m\u001b[0m\n\u001b[1;32m      3\u001b[0m \u001b[0;32mimport\u001b[0m \u001b[0mdash_html_components\u001b[0m \u001b[0;32mas\u001b[0m \u001b[0mhtml\u001b[0m\u001b[0;34m\u001b[0m\u001b[0;34m\u001b[0m\u001b[0m\n\u001b[0;32m----> 4\u001b[0;31m \u001b[0;32mfrom\u001b[0m \u001b[0mdash\u001b[0m\u001b[0;34m.\u001b[0m\u001b[0mdependencies\u001b[0m \u001b[0;32mimport\u001b[0m \u001b[0mInput\u001b[0m\u001b[0;34m,\u001b[0m \u001b[0mOutput\u001b[0m\u001b[0;34m,\u001b[0m \u001b[0mState\u001b[0m\u001b[0;34m,\u001b[0m \u001b[0mMATCH\u001b[0m\u001b[0;34m,\u001b[0m \u001b[0mALL\u001b[0m\u001b[0;34m\u001b[0m\u001b[0;34m\u001b[0m\u001b[0m\n\u001b[0m\u001b[1;32m      5\u001b[0m \u001b[0;32mimport\u001b[0m \u001b[0mdash_bootstrap_components\u001b[0m \u001b[0;32mas\u001b[0m \u001b[0mdbc\u001b[0m\u001b[0;34m\u001b[0m\u001b[0;34m\u001b[0m\u001b[0m\n\u001b[1;32m      6\u001b[0m \u001b[0;32mfrom\u001b[0m \u001b[0;34m.\u001b[0m\u001b[0mplots\u001b[0m \u001b[0;32mimport\u001b[0m \u001b[0mApp\u001b[0m\u001b[0;34m,\u001b[0m \u001b[0mplot_graph\u001b[0m\u001b[0;34m,\u001b[0m \u001b[0madd_parameters\u001b[0m\u001b[0;34m,\u001b[0m \u001b[0m_params\u001b[0m\u001b[0;34m\u001b[0m\u001b[0;34m\u001b[0m\u001b[0m\n",
            "\u001b[0;31mImportError\u001b[0m: cannot import name 'MATCH' from 'dash.dependencies' (/home/swastik/.local/lib/python3.8/site-packages/dash/dependencies.py)"
          ]
        }
      ]
    },
    {
      "cell_type": "code",
      "metadata": {
        "id": "Z9jmbfcsMh95"
      },
      "source": [
        "cf.set_config_file(offline_show_link=False)"
      ],
      "execution_count": null,
      "outputs": []
    },
    {
      "cell_type": "code",
      "metadata": {
        "id": "xbcu8fpyMh98"
      },
      "source": [
        "model1 = pmd.arima.auto_arima(df1['Qty'], start_p=1, start_q=1,start_P=1, start_Q=1, m=12,\n",
        "                     max_p=5, max_q=5, max_P=5, max_Q=5, seasonal=True,stepwise=True)"
      ],
      "execution_count": null,
      "outputs": []
    },
    {
      "cell_type": "code",
      "metadata": {
        "id": "pJ3dRbR-Mh9_",
        "outputId": "ce5f298c-427b-45a1-aa3b-78025036be00"
      },
      "source": [
        "model1"
      ],
      "execution_count": null,
      "outputs": [
        {
          "output_type": "execute_result",
          "data": {
            "text/plain": [
              "ARIMA(order=(1, 1, 2), seasonal_order=(0, 0, 0, 12))"
            ]
          },
          "metadata": {
            "tags": []
          },
          "execution_count": 53
        }
      ]
    }
  ]
}