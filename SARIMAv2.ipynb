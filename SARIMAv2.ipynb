{
  "nbformat": 4,
  "nbformat_minor": 0,
  "metadata": {
    "kernelspec": {
      "display_name": "Python 3",
      "language": "python",
      "name": "python3"
    },
    "language_info": {
      "codemirror_mode": {
        "name": "ipython",
        "version": 3
      },
      "file_extension": ".py",
      "mimetype": "text/x-python",
      "name": "python",
      "nbconvert_exporter": "python",
      "pygments_lexer": "ipython3",
      "version": "3.8.2"
    },
    "colab": {
      "name": "SARIMAv1.ipynb",
      "provenance": [],
      "include_colab_link": true
    }
  },
  "cells": [
    {
      "cell_type": "markdown",
      "metadata": {
        "id": "view-in-github",
        "colab_type": "text"
      },
      "source": [
        "<a href=\"https://colab.research.google.com/github/mswastik/forecasting/blob/main/SARIMAv2.ipynb\" target=\"_parent\"><img src=\"https://colab.research.google.com/assets/colab-badge.svg\" alt=\"Open In Colab\"/></a>"
      ]
    },
    {
      "cell_type": "code",
      "metadata": {
        "id": "iGf7Q3xDM8in",
        "outputId": "3471c86a-13ea-4755-e9f1-908b9d37ed1d",
        "colab": {
          "base_uri": "https://localhost:8080/",
          "height": 708
        }
      },
      "source": [
        "!pip install pmdarima"
      ],
      "execution_count": 1,
      "outputs": [
        {
          "output_type": "stream",
          "text": [
            "Collecting pmdarima\n",
            "\u001b[?25l  Downloading https://files.pythonhosted.org/packages/be/62/725b3b6ae0e56c77534de5a8139322e7b863ca53fd5bd6bd3b7de87d0c20/pmdarima-1.7.1-cp36-cp36m-manylinux1_x86_64.whl (1.5MB)\n",
            "\u001b[K     |████████████████████████████████| 1.5MB 9.3MB/s \n",
            "\u001b[?25hCollecting Cython<0.29.18,>=0.29\n",
            "\u001b[?25l  Downloading https://files.pythonhosted.org/packages/e7/d7/510ddef0248f3e1e91f9cc7e31c0f35f8954d0af92c5c3fd4c853e859ebe/Cython-0.29.17-cp36-cp36m-manylinux1_x86_64.whl (2.1MB)\n",
            "\u001b[K     |████████████████████████████████| 2.1MB 54.2MB/s \n",
            "\u001b[?25hRequirement already satisfied: scipy>=1.3.2 in /usr/local/lib/python3.6/dist-packages (from pmdarima) (1.4.1)\n",
            "Requirement already satisfied: pandas>=0.19 in /usr/local/lib/python3.6/dist-packages (from pmdarima) (1.1.2)\n",
            "Requirement already satisfied: urllib3 in /usr/local/lib/python3.6/dist-packages (from pmdarima) (1.24.3)\n",
            "Requirement already satisfied: joblib>=0.11 in /usr/local/lib/python3.6/dist-packages (from pmdarima) (0.16.0)\n",
            "Requirement already satisfied: scikit-learn>=0.22 in /usr/local/lib/python3.6/dist-packages (from pmdarima) (0.22.2.post1)\n",
            "Collecting statsmodels<0.12,>=0.11\n",
            "\u001b[?25l  Downloading https://files.pythonhosted.org/packages/cb/83/540fd83238a18abe6c2d280fa8e489ac5fcefa1f370f0ca1acd16ae1b860/statsmodels-0.11.1-cp36-cp36m-manylinux1_x86_64.whl (8.7MB)\n",
            "\u001b[K     |████████████████████████████████| 8.7MB 66.3MB/s \n",
            "\u001b[?25hCollecting setuptools<50.0.0\n",
            "\u001b[?25l  Downloading https://files.pythonhosted.org/packages/c3/a9/5dc32465951cf4812e9e93b4ad2d314893c2fa6d5f66ce5c057af6e76d85/setuptools-49.6.0-py3-none-any.whl (803kB)\n",
            "\u001b[K     |████████████████████████████████| 808kB 67.3MB/s \n",
            "\u001b[?25hRequirement already satisfied: numpy>=1.17.3 in /usr/local/lib/python3.6/dist-packages (from pmdarima) (1.18.5)\n",
            "Requirement already satisfied: python-dateutil>=2.7.3 in /usr/local/lib/python3.6/dist-packages (from pandas>=0.19->pmdarima) (2.8.1)\n",
            "Requirement already satisfied: pytz>=2017.2 in /usr/local/lib/python3.6/dist-packages (from pandas>=0.19->pmdarima) (2018.9)\n",
            "Requirement already satisfied: patsy>=0.5 in /usr/local/lib/python3.6/dist-packages (from statsmodels<0.12,>=0.11->pmdarima) (0.5.1)\n",
            "Requirement already satisfied: six>=1.5 in /usr/local/lib/python3.6/dist-packages (from python-dateutil>=2.7.3->pandas>=0.19->pmdarima) (1.15.0)\n",
            "\u001b[31mERROR: datascience 0.10.6 has requirement folium==0.2.1, but you'll have folium 0.8.3 which is incompatible.\u001b[0m\n",
            "Installing collected packages: Cython, statsmodels, setuptools, pmdarima\n",
            "  Found existing installation: Cython 0.29.21\n",
            "    Uninstalling Cython-0.29.21:\n",
            "      Successfully uninstalled Cython-0.29.21\n",
            "  Found existing installation: statsmodels 0.10.2\n",
            "    Uninstalling statsmodels-0.10.2:\n",
            "      Successfully uninstalled statsmodels-0.10.2\n",
            "  Found existing installation: setuptools 50.3.0\n",
            "    Uninstalling setuptools-50.3.0:\n",
            "      Successfully uninstalled setuptools-50.3.0\n",
            "Successfully installed Cython-0.29.17 pmdarima-1.7.1 setuptools-49.6.0 statsmodels-0.11.1\n"
          ],
          "name": "stdout"
        },
        {
          "output_type": "display_data",
          "data": {
            "application/vnd.colab-display-data+json": {
              "pip_warning": {
                "packages": [
                  "pkg_resources"
                ]
              }
            }
          },
          "metadata": {
            "tags": []
          }
        }
      ]
    },
    {
      "cell_type": "code",
      "metadata": {
        "id": "N4AkWyqjMh78"
      },
      "source": [
        "import pmdarima as pmd\n",
        "import pandas as pd\n",
        "import statsmodels.api as sm\n",
        "from statsmodels.tsa.stattools import acf,pacf,adfuller\n",
        "from statsmodels.tsa.seasonal import seasonal_decompose\n",
        "from statsmodels.tsa.arima_model import ARIMA\n",
        "from statsmodels.tsa.statespace.sarimax import SARIMAX\n",
        "import matplotlib.pyplot as plt\n",
        "from statsmodels.graphics.tsaplots import plot_acf,plot_pacf\n",
        "from statsmodels.tools.eval_measures import rmse\n",
        "from sklearn.model_selection import TimeSeriesSplit,cross_val_score\n",
        "from sklearn.metrics import mean_squared_error\n",
        "import numpy as np\n",
        "import warnings\n",
        "import plotly.express as px\n",
        "import cufflinks as cf\n",
        "import plotly.tools as tls"
      ],
      "execution_count": 2,
      "outputs": []
    },
    {
      "cell_type": "code",
      "metadata": {
        "id": "0yFQ-v8mNRJn",
        "outputId": "53a0d960-745b-4940-8a37-4064529bf2c6",
        "colab": {
          "base_uri": "https://localhost:8080/",
          "height": 158
        }
      },
      "source": [
        "!git clone -l -s https://github.com/mswastik/forecasting.git cloned-repo\n",
        "%cd cloned-repo"
      ],
      "execution_count": 3,
      "outputs": [
        {
          "output_type": "stream",
          "text": [
            "Cloning into 'cloned-repo'...\n",
            "warning: --local is ignored\n",
            "remote: Enumerating objects: 39, done.\u001b[K\n",
            "remote: Counting objects: 100% (39/39), done.\u001b[K\n",
            "remote: Compressing objects: 100% (38/38), done.\u001b[K\n",
            "remote: Total 39 (delta 14), reused 0 (delta 0), pack-reused 0\u001b[K\n",
            "Unpacking objects: 100% (39/39), done.\n",
            "/content/cloned-repo\n"
          ],
          "name": "stdout"
        }
      ]
    },
    {
      "cell_type": "code",
      "metadata": {
        "id": "jxVpi3-4Mh8D"
      },
      "source": [
        "warnings.filterwarnings(\"ignore\")\n",
        "df = pd.read_excel('Forecasting1.xlsx',sheet_name='SO',index_col='del date')\n",
        "df.rename({'agg':'agg1'},axis=1,inplace=True)\n",
        "df['dd']=df.index.copy()\n",
        "df['month'] = df['dd'].dt.year.astype('str')+\"-\"+df['dd'].dt.month.astype('str')\n",
        "df2=df.groupby(['month','agg1']).sum().copy()\n",
        "df2.drop(['wt','cs size'],inplace=True,axis=1)"
      ],
      "execution_count": 4,
      "outputs": []
    },
    {
      "cell_type": "code",
      "metadata": {
        "id": "EzgmqLbcAqCN"
      },
      "source": [
        "toot=df.loc[df.agg1=='Tmmthpkhti Limi Yih'].copy()\n",
        "toot=pd.DataFrame(toot['cases'])\n",
        "toot=toot.resample('M').sum()"
      ],
      "execution_count": 24,
      "outputs": []
    },
    {
      "cell_type": "code",
      "metadata": {
        "id": "BePhWCdw81sW",
        "outputId": "3dac8063-744d-41f1-93bc-00193c784530",
        "colab": {
          "base_uri": "https://localhost:8080/",
          "height": 542
        }
      },
      "source": [
        "px.line(toot,y='cases',x=toot.index)"
      ],
      "execution_count": 6,
      "outputs": [
        {
          "output_type": "display_data",
          "data": {
            "text/html": [
              "<html>\n",
              "<head><meta charset=\"utf-8\" /></head>\n",
              "<body>\n",
              "    <div>\n",
              "            <script src=\"https://cdnjs.cloudflare.com/ajax/libs/mathjax/2.7.5/MathJax.js?config=TeX-AMS-MML_SVG\"></script><script type=\"text/javascript\">if (window.MathJax) {MathJax.Hub.Config({SVG: {font: \"STIX-Web\"}});}</script>\n",
              "                <script type=\"text/javascript\">window.PlotlyConfig = {MathJaxConfig: 'local'};</script>\n",
              "        <script src=\"https://cdn.plot.ly/plotly-latest.min.js\"></script>    \n",
              "            <div id=\"c9d54e35-b0f3-424a-8acb-eab9eee056ed\" class=\"plotly-graph-div\" style=\"height:525px; width:100%;\"></div>\n",
              "            <script type=\"text/javascript\">\n",
              "                \n",
              "                    window.PLOTLYENV=window.PLOTLYENV || {};\n",
              "                    \n",
              "                if (document.getElementById(\"c9d54e35-b0f3-424a-8acb-eab9eee056ed\")) {\n",
              "                    Plotly.newPlot(\n",
              "                        'c9d54e35-b0f3-424a-8acb-eab9eee056ed',\n",
              "                        [{\"hoverlabel\": {\"namelength\": 0}, \"hovertemplate\": \"x=%{x}<br>cases=%{y}\", \"legendgroup\": \"\", \"line\": {\"color\": \"#636efa\", \"dash\": \"solid\"}, \"mode\": \"lines\", \"name\": \"\", \"showlegend\": false, \"type\": \"scatter\", \"x\": [\"2012-10-31T00:00:00\", \"2012-11-30T00:00:00\", \"2012-12-31T00:00:00\", \"2013-01-31T00:00:00\", \"2013-02-28T00:00:00\", \"2013-03-31T00:00:00\", \"2013-04-30T00:00:00\", \"2013-05-31T00:00:00\", \"2013-06-30T00:00:00\", \"2013-07-31T00:00:00\", \"2013-08-31T00:00:00\", \"2013-09-30T00:00:00\", \"2013-10-31T00:00:00\", \"2013-11-30T00:00:00\", \"2013-12-31T00:00:00\", \"2014-01-31T00:00:00\", \"2014-02-28T00:00:00\", \"2014-03-31T00:00:00\", \"2014-04-30T00:00:00\", \"2014-05-31T00:00:00\", \"2014-06-30T00:00:00\", \"2014-07-31T00:00:00\", \"2014-08-31T00:00:00\", \"2014-09-30T00:00:00\", \"2014-10-31T00:00:00\", \"2014-11-30T00:00:00\", \"2014-12-31T00:00:00\", \"2015-01-31T00:00:00\", \"2015-02-28T00:00:00\", \"2015-03-31T00:00:00\", \"2015-04-30T00:00:00\", \"2015-05-31T00:00:00\", \"2015-06-30T00:00:00\", \"2015-07-31T00:00:00\", \"2015-08-31T00:00:00\", \"2015-09-30T00:00:00\", \"2015-10-31T00:00:00\", \"2015-11-30T00:00:00\", \"2015-12-31T00:00:00\", \"2016-01-31T00:00:00\", \"2016-02-29T00:00:00\", \"2016-03-31T00:00:00\", \"2016-04-30T00:00:00\", \"2016-05-31T00:00:00\", \"2016-06-30T00:00:00\", \"2016-07-31T00:00:00\", \"2016-08-31T00:00:00\", \"2016-09-30T00:00:00\", \"2016-10-31T00:00:00\", \"2016-11-30T00:00:00\", \"2016-12-31T00:00:00\", \"2017-01-31T00:00:00\", \"2017-02-28T00:00:00\", \"2017-03-31T00:00:00\", \"2017-04-30T00:00:00\", \"2017-05-31T00:00:00\", \"2017-06-30T00:00:00\", \"2017-07-31T00:00:00\", \"2017-08-31T00:00:00\", \"2017-09-30T00:00:00\", \"2017-10-31T00:00:00\", \"2017-11-30T00:00:00\", \"2017-12-31T00:00:00\", \"2018-01-31T00:00:00\", \"2018-02-28T00:00:00\", \"2018-03-31T00:00:00\", \"2018-04-30T00:00:00\", \"2018-05-31T00:00:00\", \"2018-06-30T00:00:00\", \"2018-07-31T00:00:00\", \"2018-08-31T00:00:00\", \"2018-09-30T00:00:00\", \"2018-10-31T00:00:00\", \"2018-11-30T00:00:00\", \"2018-12-31T00:00:00\", \"2019-01-31T00:00:00\", \"2019-02-28T00:00:00\", \"2019-03-31T00:00:00\", \"2019-04-30T00:00:00\", \"2019-05-31T00:00:00\", \"2019-06-30T00:00:00\", \"2019-07-31T00:00:00\", \"2019-08-31T00:00:00\", \"2019-09-30T00:00:00\", \"2019-10-31T00:00:00\", \"2019-11-30T00:00:00\", \"2019-12-31T00:00:00\", \"2020-01-31T00:00:00\", \"2020-02-29T00:00:00\", \"2020-03-31T00:00:00\", \"2020-04-30T00:00:00\", \"2020-05-31T00:00:00\", \"2020-06-30T00:00:00\", \"2020-07-31T00:00:00\", \"2020-08-31T00:00:00\", \"2020-09-30T00:00:00\", \"2020-10-31T00:00:00\", \"2020-11-30T00:00:00\"], \"xaxis\": \"x\", \"y\": [5143.0, 8220.0, 5631.0, 20630.0, 12529.0, 15660.0, 5314.0, 13897.0, 8993.0, 7811.0, 12771.0, 11164.0, 10295.0, 6636.0, 18936.0, 19046.0, 5045.0, 7843.0, 14324.0, 21253.0, 6307.0, 13238.0, 27164.0, 14687.0, 10729.0, 15302.0, 6654.0, 12323.0, 12043.0, 3301.0, 11262.0, 12481.0, 6614.0, 4867.0, 18528.0, 7317.0, 14986.0, 15447.0, 9546.0, 16360.0, 16542.0, 10731.0, 7552.0, 9980.666, 5011.0, 4470.0, 19824.0, 15076.0, 14451.0, 12617.0, 8594.0, 10691.0, 8441.0, 15729.0, 4030.0, 13620.0, 42263.0, 16865.0, 28472.0, 39443.0, 68091.0, 63568.0, 37507.0, 51145.0, 37374.0, 67330.0, 44418.0, 53709.0, 54709.0, 103751.0, 12987.0, 37563.0, 96576.0, 35070.0, 79706.0, 42628.0, 61259.0, 45088.0, 203508.0, 48426.0, 52430.0, 1011.0, 8488.0, 14112.0, 14981.0, 19870.0, 11358.0, 45412.0, 53906.0, 19500.0, 19594.0, 2150.0, 59975.0, 52193.0, 43866.0, 25063.0, 25487.0, 1780.0], \"yaxis\": \"y\"}],\n",
              "                        {\"legend\": {\"tracegroupgap\": 0}, \"margin\": {\"t\": 60}, \"template\": {\"data\": {\"bar\": [{\"error_x\": {\"color\": \"#2a3f5f\"}, \"error_y\": {\"color\": \"#2a3f5f\"}, \"marker\": {\"line\": {\"color\": \"#E5ECF6\", \"width\": 0.5}}, \"type\": \"bar\"}], \"barpolar\": [{\"marker\": {\"line\": {\"color\": \"#E5ECF6\", \"width\": 0.5}}, \"type\": \"barpolar\"}], \"carpet\": [{\"aaxis\": {\"endlinecolor\": \"#2a3f5f\", \"gridcolor\": \"white\", \"linecolor\": \"white\", \"minorgridcolor\": \"white\", \"startlinecolor\": \"#2a3f5f\"}, \"baxis\": {\"endlinecolor\": \"#2a3f5f\", \"gridcolor\": \"white\", \"linecolor\": \"white\", \"minorgridcolor\": \"white\", \"startlinecolor\": \"#2a3f5f\"}, \"type\": \"carpet\"}], \"choropleth\": [{\"colorbar\": {\"outlinewidth\": 0, \"ticks\": \"\"}, \"type\": \"choropleth\"}], \"contour\": [{\"colorbar\": {\"outlinewidth\": 0, \"ticks\": \"\"}, \"colorscale\": [[0.0, \"#0d0887\"], [0.1111111111111111, \"#46039f\"], [0.2222222222222222, \"#7201a8\"], [0.3333333333333333, \"#9c179e\"], [0.4444444444444444, \"#bd3786\"], [0.5555555555555556, \"#d8576b\"], [0.6666666666666666, \"#ed7953\"], [0.7777777777777778, \"#fb9f3a\"], [0.8888888888888888, \"#fdca26\"], [1.0, \"#f0f921\"]], \"type\": \"contour\"}], \"contourcarpet\": [{\"colorbar\": {\"outlinewidth\": 0, \"ticks\": \"\"}, \"type\": \"contourcarpet\"}], \"heatmap\": [{\"colorbar\": {\"outlinewidth\": 0, \"ticks\": \"\"}, \"colorscale\": [[0.0, \"#0d0887\"], [0.1111111111111111, \"#46039f\"], [0.2222222222222222, \"#7201a8\"], [0.3333333333333333, \"#9c179e\"], [0.4444444444444444, \"#bd3786\"], [0.5555555555555556, \"#d8576b\"], [0.6666666666666666, \"#ed7953\"], [0.7777777777777778, \"#fb9f3a\"], [0.8888888888888888, \"#fdca26\"], [1.0, \"#f0f921\"]], \"type\": \"heatmap\"}], \"heatmapgl\": [{\"colorbar\": {\"outlinewidth\": 0, \"ticks\": \"\"}, \"colorscale\": [[0.0, \"#0d0887\"], [0.1111111111111111, \"#46039f\"], [0.2222222222222222, \"#7201a8\"], [0.3333333333333333, \"#9c179e\"], [0.4444444444444444, \"#bd3786\"], [0.5555555555555556, \"#d8576b\"], [0.6666666666666666, \"#ed7953\"], [0.7777777777777778, \"#fb9f3a\"], [0.8888888888888888, \"#fdca26\"], [1.0, \"#f0f921\"]], \"type\": \"heatmapgl\"}], \"histogram\": [{\"marker\": {\"colorbar\": {\"outlinewidth\": 0, \"ticks\": \"\"}}, \"type\": \"histogram\"}], \"histogram2d\": [{\"colorbar\": {\"outlinewidth\": 0, \"ticks\": \"\"}, \"colorscale\": [[0.0, \"#0d0887\"], [0.1111111111111111, \"#46039f\"], [0.2222222222222222, \"#7201a8\"], [0.3333333333333333, \"#9c179e\"], [0.4444444444444444, \"#bd3786\"], [0.5555555555555556, \"#d8576b\"], [0.6666666666666666, \"#ed7953\"], [0.7777777777777778, \"#fb9f3a\"], [0.8888888888888888, \"#fdca26\"], [1.0, \"#f0f921\"]], \"type\": \"histogram2d\"}], \"histogram2dcontour\": [{\"colorbar\": {\"outlinewidth\": 0, \"ticks\": \"\"}, \"colorscale\": [[0.0, \"#0d0887\"], [0.1111111111111111, \"#46039f\"], [0.2222222222222222, \"#7201a8\"], [0.3333333333333333, \"#9c179e\"], [0.4444444444444444, \"#bd3786\"], [0.5555555555555556, \"#d8576b\"], [0.6666666666666666, \"#ed7953\"], [0.7777777777777778, \"#fb9f3a\"], [0.8888888888888888, \"#fdca26\"], [1.0, \"#f0f921\"]], \"type\": \"histogram2dcontour\"}], \"mesh3d\": [{\"colorbar\": {\"outlinewidth\": 0, \"ticks\": \"\"}, \"type\": \"mesh3d\"}], \"parcoords\": [{\"line\": {\"colorbar\": {\"outlinewidth\": 0, \"ticks\": \"\"}}, \"type\": \"parcoords\"}], \"pie\": [{\"automargin\": true, \"type\": \"pie\"}], \"scatter\": [{\"marker\": {\"colorbar\": {\"outlinewidth\": 0, \"ticks\": \"\"}}, \"type\": \"scatter\"}], \"scatter3d\": [{\"line\": {\"colorbar\": {\"outlinewidth\": 0, \"ticks\": \"\"}}, \"marker\": {\"colorbar\": {\"outlinewidth\": 0, \"ticks\": \"\"}}, \"type\": \"scatter3d\"}], \"scattercarpet\": [{\"marker\": {\"colorbar\": {\"outlinewidth\": 0, \"ticks\": \"\"}}, \"type\": \"scattercarpet\"}], \"scattergeo\": [{\"marker\": {\"colorbar\": {\"outlinewidth\": 0, \"ticks\": \"\"}}, \"type\": \"scattergeo\"}], \"scattergl\": [{\"marker\": {\"colorbar\": {\"outlinewidth\": 0, \"ticks\": \"\"}}, \"type\": \"scattergl\"}], \"scattermapbox\": [{\"marker\": {\"colorbar\": {\"outlinewidth\": 0, \"ticks\": \"\"}}, \"type\": \"scattermapbox\"}], \"scatterpolar\": [{\"marker\": {\"colorbar\": {\"outlinewidth\": 0, \"ticks\": \"\"}}, \"type\": \"scatterpolar\"}], \"scatterpolargl\": [{\"marker\": {\"colorbar\": {\"outlinewidth\": 0, \"ticks\": \"\"}}, \"type\": \"scatterpolargl\"}], \"scatterternary\": [{\"marker\": {\"colorbar\": {\"outlinewidth\": 0, \"ticks\": \"\"}}, \"type\": \"scatterternary\"}], \"surface\": [{\"colorbar\": {\"outlinewidth\": 0, \"ticks\": \"\"}, \"colorscale\": [[0.0, \"#0d0887\"], [0.1111111111111111, \"#46039f\"], [0.2222222222222222, \"#7201a8\"], [0.3333333333333333, \"#9c179e\"], [0.4444444444444444, \"#bd3786\"], [0.5555555555555556, \"#d8576b\"], [0.6666666666666666, \"#ed7953\"], [0.7777777777777778, \"#fb9f3a\"], [0.8888888888888888, \"#fdca26\"], [1.0, \"#f0f921\"]], \"type\": \"surface\"}], \"table\": [{\"cells\": {\"fill\": {\"color\": \"#EBF0F8\"}, \"line\": {\"color\": \"white\"}}, \"header\": {\"fill\": {\"color\": \"#C8D4E3\"}, \"line\": {\"color\": \"white\"}}, \"type\": \"table\"}]}, \"layout\": {\"annotationdefaults\": {\"arrowcolor\": \"#2a3f5f\", \"arrowhead\": 0, \"arrowwidth\": 1}, \"coloraxis\": {\"colorbar\": {\"outlinewidth\": 0, \"ticks\": \"\"}}, \"colorscale\": {\"diverging\": [[0, \"#8e0152\"], [0.1, \"#c51b7d\"], [0.2, \"#de77ae\"], [0.3, \"#f1b6da\"], [0.4, \"#fde0ef\"], [0.5, \"#f7f7f7\"], [0.6, \"#e6f5d0\"], [0.7, \"#b8e186\"], [0.8, \"#7fbc41\"], [0.9, \"#4d9221\"], [1, \"#276419\"]], \"sequential\": [[0.0, \"#0d0887\"], [0.1111111111111111, \"#46039f\"], [0.2222222222222222, \"#7201a8\"], [0.3333333333333333, \"#9c179e\"], [0.4444444444444444, \"#bd3786\"], [0.5555555555555556, \"#d8576b\"], [0.6666666666666666, \"#ed7953\"], [0.7777777777777778, \"#fb9f3a\"], [0.8888888888888888, \"#fdca26\"], [1.0, \"#f0f921\"]], \"sequentialminus\": [[0.0, \"#0d0887\"], [0.1111111111111111, \"#46039f\"], [0.2222222222222222, \"#7201a8\"], [0.3333333333333333, \"#9c179e\"], [0.4444444444444444, \"#bd3786\"], [0.5555555555555556, \"#d8576b\"], [0.6666666666666666, \"#ed7953\"], [0.7777777777777778, \"#fb9f3a\"], [0.8888888888888888, \"#fdca26\"], [1.0, \"#f0f921\"]]}, \"colorway\": [\"#636efa\", \"#EF553B\", \"#00cc96\", \"#ab63fa\", \"#FFA15A\", \"#19d3f3\", \"#FF6692\", \"#B6E880\", \"#FF97FF\", \"#FECB52\"], \"font\": {\"color\": \"#2a3f5f\"}, \"geo\": {\"bgcolor\": \"white\", \"lakecolor\": \"white\", \"landcolor\": \"#E5ECF6\", \"showlakes\": true, \"showland\": true, \"subunitcolor\": \"white\"}, \"hoverlabel\": {\"align\": \"left\"}, \"hovermode\": \"closest\", \"mapbox\": {\"style\": \"light\"}, \"paper_bgcolor\": \"white\", \"plot_bgcolor\": \"#E5ECF6\", \"polar\": {\"angularaxis\": {\"gridcolor\": \"white\", \"linecolor\": \"white\", \"ticks\": \"\"}, \"bgcolor\": \"#E5ECF6\", \"radialaxis\": {\"gridcolor\": \"white\", \"linecolor\": \"white\", \"ticks\": \"\"}}, \"scene\": {\"xaxis\": {\"backgroundcolor\": \"#E5ECF6\", \"gridcolor\": \"white\", \"gridwidth\": 2, \"linecolor\": \"white\", \"showbackground\": true, \"ticks\": \"\", \"zerolinecolor\": \"white\"}, \"yaxis\": {\"backgroundcolor\": \"#E5ECF6\", \"gridcolor\": \"white\", \"gridwidth\": 2, \"linecolor\": \"white\", \"showbackground\": true, \"ticks\": \"\", \"zerolinecolor\": \"white\"}, \"zaxis\": {\"backgroundcolor\": \"#E5ECF6\", \"gridcolor\": \"white\", \"gridwidth\": 2, \"linecolor\": \"white\", \"showbackground\": true, \"ticks\": \"\", \"zerolinecolor\": \"white\"}}, \"shapedefaults\": {\"line\": {\"color\": \"#2a3f5f\"}}, \"ternary\": {\"aaxis\": {\"gridcolor\": \"white\", \"linecolor\": \"white\", \"ticks\": \"\"}, \"baxis\": {\"gridcolor\": \"white\", \"linecolor\": \"white\", \"ticks\": \"\"}, \"bgcolor\": \"#E5ECF6\", \"caxis\": {\"gridcolor\": \"white\", \"linecolor\": \"white\", \"ticks\": \"\"}}, \"title\": {\"x\": 0.05}, \"xaxis\": {\"automargin\": true, \"gridcolor\": \"white\", \"linecolor\": \"white\", \"ticks\": \"\", \"title\": {\"standoff\": 15}, \"zerolinecolor\": \"white\", \"zerolinewidth\": 2}, \"yaxis\": {\"automargin\": true, \"gridcolor\": \"white\", \"linecolor\": \"white\", \"ticks\": \"\", \"title\": {\"standoff\": 15}, \"zerolinecolor\": \"white\", \"zerolinewidth\": 2}}}, \"xaxis\": {\"anchor\": \"y\", \"domain\": [0.0, 1.0], \"title\": {\"text\": \"x\"}}, \"yaxis\": {\"anchor\": \"x\", \"domain\": [0.0, 1.0], \"title\": {\"text\": \"cases\"}}},\n",
              "                        {\"responsive\": true}\n",
              "                    ).then(function(){\n",
              "                            \n",
              "var gd = document.getElementById('c9d54e35-b0f3-424a-8acb-eab9eee056ed');\n",
              "var x = new MutationObserver(function (mutations, observer) {{\n",
              "        var display = window.getComputedStyle(gd).display;\n",
              "        if (!display || display === 'none') {{\n",
              "            console.log([gd, 'removed!']);\n",
              "            Plotly.purge(gd);\n",
              "            observer.disconnect();\n",
              "        }}\n",
              "}});\n",
              "\n",
              "// Listen for the removal of the full notebook cells\n",
              "var notebookContainer = gd.closest('#notebook-container');\n",
              "if (notebookContainer) {{\n",
              "    x.observe(notebookContainer, {childList: true});\n",
              "}}\n",
              "\n",
              "// Listen for the clearing of the current output cell\n",
              "var outputEl = gd.closest('.output');\n",
              "if (outputEl) {{\n",
              "    x.observe(outputEl, {childList: true});\n",
              "}}\n",
              "\n",
              "                        })\n",
              "                };\n",
              "                \n",
              "            </script>\n",
              "        </div>\n",
              "</body>\n",
              "</html>"
            ]
          },
          "metadata": {
            "tags": []
          }
        }
      ]
    },
    {
      "cell_type": "code",
      "metadata": {
        "id": "yikUh5mpCNyx",
        "outputId": "235ad481-1035-4f4b-da45-74b25e1645b4",
        "colab": {
          "base_uri": "https://localhost:8080/",
          "height": 542
        }
      },
      "source": [
        "px.box(toot,y='cases')"
      ],
      "execution_count": null,
      "outputs": [
        {
          "output_type": "display_data",
          "data": {
            "text/html": [
              "<html>\n",
              "<head><meta charset=\"utf-8\" /></head>\n",
              "<body>\n",
              "    <div>\n",
              "            <script src=\"https://cdnjs.cloudflare.com/ajax/libs/mathjax/2.7.5/MathJax.js?config=TeX-AMS-MML_SVG\"></script><script type=\"text/javascript\">if (window.MathJax) {MathJax.Hub.Config({SVG: {font: \"STIX-Web\"}});}</script>\n",
              "                <script type=\"text/javascript\">window.PlotlyConfig = {MathJaxConfig: 'local'};</script>\n",
              "        <script src=\"https://cdn.plot.ly/plotly-latest.min.js\"></script>    \n",
              "            <div id=\"399f64f3-b116-4575-9094-43d6fcc470d4\" class=\"plotly-graph-div\" style=\"height:525px; width:100%;\"></div>\n",
              "            <script type=\"text/javascript\">\n",
              "                \n",
              "                    window.PLOTLYENV=window.PLOTLYENV || {};\n",
              "                    \n",
              "                if (document.getElementById(\"399f64f3-b116-4575-9094-43d6fcc470d4\")) {\n",
              "                    Plotly.newPlot(\n",
              "                        '399f64f3-b116-4575-9094-43d6fcc470d4',\n",
              "                        [{\"alignmentgroup\": \"True\", \"hoverlabel\": {\"namelength\": 0}, \"hovertemplate\": \"cases=%{y}\", \"legendgroup\": \"\", \"marker\": {\"color\": \"#636efa\"}, \"name\": \"\", \"notched\": false, \"offsetgroup\": \"\", \"orientation\": \"v\", \"showlegend\": false, \"type\": \"box\", \"x0\": \" \", \"xaxis\": \"x\", \"y\": [5143.0, 8220.0, 5631.0, 20630.0, 12529.0, 15660.0, 5314.0, 13897.0, 8993.0, 7811.0, 12771.0, 11164.0, 10295.0, 6636.0, 18936.0, 19046.0, 5045.0, 7843.0, 14324.0, 21253.0, 6307.0, 13238.0, 27164.0, 14687.0, 10729.0, 15302.0, 6654.0, 12323.0, 12043.0, 3301.0, 11262.0, 12481.0, 6614.0, 4867.0, 18528.0, 7317.0, 14986.0, 15447.0, 9546.0, 16360.0, 16542.0, 10731.0, 7552.0, 9980.666, 5011.0, 4470.0, 19824.0, 15076.0, 14451.0, 12617.0, 8594.0, 10691.0, 8441.0, 15729.0, 4030.0, 13620.0, 42263.0, 16865.0, 28472.0, 39443.0, 68091.0, 63568.0, 37507.0, 51145.0, 37374.0, 67330.0, 44418.0, 53709.0, 54709.0, 103751.0, 12987.0, 37563.0, 96576.0, 35070.0, 79706.0, 42628.0, 61259.0, 45088.0, 203508.0, 48426.0, 52430.0, 1011.0, 8488.0, 14112.0, 14981.0, 19870.0, 11358.0, 45412.0, 53906.0, 19500.0, 19594.0, 2150.0, 59975.0, 52193.0, 43866.0, 25063.0, 25487.0, 1780.0], \"y0\": \" \", \"yaxis\": \"y\"}],\n",
              "                        {\"boxmode\": \"group\", \"legend\": {\"tracegroupgap\": 0}, \"margin\": {\"t\": 60}, \"template\": {\"data\": {\"bar\": [{\"error_x\": {\"color\": \"#2a3f5f\"}, \"error_y\": {\"color\": \"#2a3f5f\"}, \"marker\": {\"line\": {\"color\": \"#E5ECF6\", \"width\": 0.5}}, \"type\": \"bar\"}], \"barpolar\": [{\"marker\": {\"line\": {\"color\": \"#E5ECF6\", \"width\": 0.5}}, \"type\": \"barpolar\"}], \"carpet\": [{\"aaxis\": {\"endlinecolor\": \"#2a3f5f\", \"gridcolor\": \"white\", \"linecolor\": \"white\", \"minorgridcolor\": \"white\", \"startlinecolor\": \"#2a3f5f\"}, \"baxis\": {\"endlinecolor\": \"#2a3f5f\", \"gridcolor\": \"white\", \"linecolor\": \"white\", \"minorgridcolor\": \"white\", \"startlinecolor\": \"#2a3f5f\"}, \"type\": \"carpet\"}], \"choropleth\": [{\"colorbar\": {\"outlinewidth\": 0, \"ticks\": \"\"}, \"type\": \"choropleth\"}], \"contour\": [{\"colorbar\": {\"outlinewidth\": 0, \"ticks\": \"\"}, \"colorscale\": [[0.0, \"#0d0887\"], [0.1111111111111111, \"#46039f\"], [0.2222222222222222, \"#7201a8\"], [0.3333333333333333, \"#9c179e\"], [0.4444444444444444, \"#bd3786\"], [0.5555555555555556, \"#d8576b\"], [0.6666666666666666, \"#ed7953\"], [0.7777777777777778, \"#fb9f3a\"], [0.8888888888888888, \"#fdca26\"], [1.0, \"#f0f921\"]], \"type\": \"contour\"}], \"contourcarpet\": [{\"colorbar\": {\"outlinewidth\": 0, \"ticks\": \"\"}, \"type\": \"contourcarpet\"}], \"heatmap\": [{\"colorbar\": {\"outlinewidth\": 0, \"ticks\": \"\"}, \"colorscale\": [[0.0, \"#0d0887\"], [0.1111111111111111, \"#46039f\"], [0.2222222222222222, \"#7201a8\"], [0.3333333333333333, \"#9c179e\"], [0.4444444444444444, \"#bd3786\"], [0.5555555555555556, \"#d8576b\"], [0.6666666666666666, \"#ed7953\"], [0.7777777777777778, \"#fb9f3a\"], [0.8888888888888888, \"#fdca26\"], [1.0, \"#f0f921\"]], \"type\": \"heatmap\"}], \"heatmapgl\": [{\"colorbar\": {\"outlinewidth\": 0, \"ticks\": \"\"}, \"colorscale\": [[0.0, \"#0d0887\"], [0.1111111111111111, \"#46039f\"], [0.2222222222222222, \"#7201a8\"], [0.3333333333333333, \"#9c179e\"], [0.4444444444444444, \"#bd3786\"], [0.5555555555555556, \"#d8576b\"], [0.6666666666666666, \"#ed7953\"], [0.7777777777777778, \"#fb9f3a\"], [0.8888888888888888, \"#fdca26\"], [1.0, \"#f0f921\"]], \"type\": \"heatmapgl\"}], \"histogram\": [{\"marker\": {\"colorbar\": {\"outlinewidth\": 0, \"ticks\": \"\"}}, \"type\": \"histogram\"}], \"histogram2d\": [{\"colorbar\": {\"outlinewidth\": 0, \"ticks\": \"\"}, \"colorscale\": [[0.0, \"#0d0887\"], [0.1111111111111111, \"#46039f\"], [0.2222222222222222, \"#7201a8\"], [0.3333333333333333, \"#9c179e\"], [0.4444444444444444, \"#bd3786\"], [0.5555555555555556, \"#d8576b\"], [0.6666666666666666, \"#ed7953\"], [0.7777777777777778, \"#fb9f3a\"], [0.8888888888888888, \"#fdca26\"], [1.0, \"#f0f921\"]], \"type\": \"histogram2d\"}], \"histogram2dcontour\": [{\"colorbar\": {\"outlinewidth\": 0, \"ticks\": \"\"}, \"colorscale\": [[0.0, \"#0d0887\"], [0.1111111111111111, \"#46039f\"], [0.2222222222222222, \"#7201a8\"], [0.3333333333333333, \"#9c179e\"], [0.4444444444444444, \"#bd3786\"], [0.5555555555555556, \"#d8576b\"], [0.6666666666666666, \"#ed7953\"], [0.7777777777777778, \"#fb9f3a\"], [0.8888888888888888, \"#fdca26\"], [1.0, \"#f0f921\"]], \"type\": \"histogram2dcontour\"}], \"mesh3d\": [{\"colorbar\": {\"outlinewidth\": 0, \"ticks\": \"\"}, \"type\": \"mesh3d\"}], \"parcoords\": [{\"line\": {\"colorbar\": {\"outlinewidth\": 0, \"ticks\": \"\"}}, \"type\": \"parcoords\"}], \"pie\": [{\"automargin\": true, \"type\": \"pie\"}], \"scatter\": [{\"marker\": {\"colorbar\": {\"outlinewidth\": 0, \"ticks\": \"\"}}, \"type\": \"scatter\"}], \"scatter3d\": [{\"line\": {\"colorbar\": {\"outlinewidth\": 0, \"ticks\": \"\"}}, \"marker\": {\"colorbar\": {\"outlinewidth\": 0, \"ticks\": \"\"}}, \"type\": \"scatter3d\"}], \"scattercarpet\": [{\"marker\": {\"colorbar\": {\"outlinewidth\": 0, \"ticks\": \"\"}}, \"type\": \"scattercarpet\"}], \"scattergeo\": [{\"marker\": {\"colorbar\": {\"outlinewidth\": 0, \"ticks\": \"\"}}, \"type\": \"scattergeo\"}], \"scattergl\": [{\"marker\": {\"colorbar\": {\"outlinewidth\": 0, \"ticks\": \"\"}}, \"type\": \"scattergl\"}], \"scattermapbox\": [{\"marker\": {\"colorbar\": {\"outlinewidth\": 0, \"ticks\": \"\"}}, \"type\": \"scattermapbox\"}], \"scatterpolar\": [{\"marker\": {\"colorbar\": {\"outlinewidth\": 0, \"ticks\": \"\"}}, \"type\": \"scatterpolar\"}], \"scatterpolargl\": [{\"marker\": {\"colorbar\": {\"outlinewidth\": 0, \"ticks\": \"\"}}, \"type\": \"scatterpolargl\"}], \"scatterternary\": [{\"marker\": {\"colorbar\": {\"outlinewidth\": 0, \"ticks\": \"\"}}, \"type\": \"scatterternary\"}], \"surface\": [{\"colorbar\": {\"outlinewidth\": 0, \"ticks\": \"\"}, \"colorscale\": [[0.0, \"#0d0887\"], [0.1111111111111111, \"#46039f\"], [0.2222222222222222, \"#7201a8\"], [0.3333333333333333, \"#9c179e\"], [0.4444444444444444, \"#bd3786\"], [0.5555555555555556, \"#d8576b\"], [0.6666666666666666, \"#ed7953\"], [0.7777777777777778, \"#fb9f3a\"], [0.8888888888888888, \"#fdca26\"], [1.0, \"#f0f921\"]], \"type\": \"surface\"}], \"table\": [{\"cells\": {\"fill\": {\"color\": \"#EBF0F8\"}, \"line\": {\"color\": \"white\"}}, \"header\": {\"fill\": {\"color\": \"#C8D4E3\"}, \"line\": {\"color\": \"white\"}}, \"type\": \"table\"}]}, \"layout\": {\"annotationdefaults\": {\"arrowcolor\": \"#2a3f5f\", \"arrowhead\": 0, \"arrowwidth\": 1}, \"coloraxis\": {\"colorbar\": {\"outlinewidth\": 0, \"ticks\": \"\"}}, \"colorscale\": {\"diverging\": [[0, \"#8e0152\"], [0.1, \"#c51b7d\"], [0.2, \"#de77ae\"], [0.3, \"#f1b6da\"], [0.4, \"#fde0ef\"], [0.5, \"#f7f7f7\"], [0.6, \"#e6f5d0\"], [0.7, \"#b8e186\"], [0.8, \"#7fbc41\"], [0.9, \"#4d9221\"], [1, \"#276419\"]], \"sequential\": [[0.0, \"#0d0887\"], [0.1111111111111111, \"#46039f\"], [0.2222222222222222, \"#7201a8\"], [0.3333333333333333, \"#9c179e\"], [0.4444444444444444, \"#bd3786\"], [0.5555555555555556, \"#d8576b\"], [0.6666666666666666, \"#ed7953\"], [0.7777777777777778, \"#fb9f3a\"], [0.8888888888888888, \"#fdca26\"], [1.0, \"#f0f921\"]], \"sequentialminus\": [[0.0, \"#0d0887\"], [0.1111111111111111, \"#46039f\"], [0.2222222222222222, \"#7201a8\"], [0.3333333333333333, \"#9c179e\"], [0.4444444444444444, \"#bd3786\"], [0.5555555555555556, \"#d8576b\"], [0.6666666666666666, \"#ed7953\"], [0.7777777777777778, \"#fb9f3a\"], [0.8888888888888888, \"#fdca26\"], [1.0, \"#f0f921\"]]}, \"colorway\": [\"#636efa\", \"#EF553B\", \"#00cc96\", \"#ab63fa\", \"#FFA15A\", \"#19d3f3\", \"#FF6692\", \"#B6E880\", \"#FF97FF\", \"#FECB52\"], \"font\": {\"color\": \"#2a3f5f\"}, \"geo\": {\"bgcolor\": \"white\", \"lakecolor\": \"white\", \"landcolor\": \"#E5ECF6\", \"showlakes\": true, \"showland\": true, \"subunitcolor\": \"white\"}, \"hoverlabel\": {\"align\": \"left\"}, \"hovermode\": \"closest\", \"mapbox\": {\"style\": \"light\"}, \"paper_bgcolor\": \"white\", \"plot_bgcolor\": \"#E5ECF6\", \"polar\": {\"angularaxis\": {\"gridcolor\": \"white\", \"linecolor\": \"white\", \"ticks\": \"\"}, \"bgcolor\": \"#E5ECF6\", \"radialaxis\": {\"gridcolor\": \"white\", \"linecolor\": \"white\", \"ticks\": \"\"}}, \"scene\": {\"xaxis\": {\"backgroundcolor\": \"#E5ECF6\", \"gridcolor\": \"white\", \"gridwidth\": 2, \"linecolor\": \"white\", \"showbackground\": true, \"ticks\": \"\", \"zerolinecolor\": \"white\"}, \"yaxis\": {\"backgroundcolor\": \"#E5ECF6\", \"gridcolor\": \"white\", \"gridwidth\": 2, \"linecolor\": \"white\", \"showbackground\": true, \"ticks\": \"\", \"zerolinecolor\": \"white\"}, \"zaxis\": {\"backgroundcolor\": \"#E5ECF6\", \"gridcolor\": \"white\", \"gridwidth\": 2, \"linecolor\": \"white\", \"showbackground\": true, \"ticks\": \"\", \"zerolinecolor\": \"white\"}}, \"shapedefaults\": {\"line\": {\"color\": \"#2a3f5f\"}}, \"ternary\": {\"aaxis\": {\"gridcolor\": \"white\", \"linecolor\": \"white\", \"ticks\": \"\"}, \"baxis\": {\"gridcolor\": \"white\", \"linecolor\": \"white\", \"ticks\": \"\"}, \"bgcolor\": \"#E5ECF6\", \"caxis\": {\"gridcolor\": \"white\", \"linecolor\": \"white\", \"ticks\": \"\"}}, \"title\": {\"x\": 0.05}, \"xaxis\": {\"automargin\": true, \"gridcolor\": \"white\", \"linecolor\": \"white\", \"ticks\": \"\", \"title\": {\"standoff\": 15}, \"zerolinecolor\": \"white\", \"zerolinewidth\": 2}, \"yaxis\": {\"automargin\": true, \"gridcolor\": \"white\", \"linecolor\": \"white\", \"ticks\": \"\", \"title\": {\"standoff\": 15}, \"zerolinecolor\": \"white\", \"zerolinewidth\": 2}}}, \"xaxis\": {\"anchor\": \"y\", \"domain\": [0.0, 1.0]}, \"yaxis\": {\"anchor\": \"x\", \"domain\": [0.0, 1.0], \"title\": {\"text\": \"cases\"}}},\n",
              "                        {\"responsive\": true}\n",
              "                    ).then(function(){\n",
              "                            \n",
              "var gd = document.getElementById('399f64f3-b116-4575-9094-43d6fcc470d4');\n",
              "var x = new MutationObserver(function (mutations, observer) {{\n",
              "        var display = window.getComputedStyle(gd).display;\n",
              "        if (!display || display === 'none') {{\n",
              "            console.log([gd, 'removed!']);\n",
              "            Plotly.purge(gd);\n",
              "            observer.disconnect();\n",
              "        }}\n",
              "}});\n",
              "\n",
              "// Listen for the removal of the full notebook cells\n",
              "var notebookContainer = gd.closest('#notebook-container');\n",
              "if (notebookContainer) {{\n",
              "    x.observe(notebookContainer, {childList: true});\n",
              "}}\n",
              "\n",
              "// Listen for the clearing of the current output cell\n",
              "var outputEl = gd.closest('.output');\n",
              "if (outputEl) {{\n",
              "    x.observe(outputEl, {childList: true});\n",
              "}}\n",
              "\n",
              "                        })\n",
              "                };\n",
              "                \n",
              "            </script>\n",
              "        </div>\n",
              "</body>\n",
              "</html>"
            ]
          },
          "metadata": {
            "tags": []
          }
        }
      ]
    },
    {
      "cell_type": "code",
      "metadata": {
        "id": "TCzOsxSRDwEf"
      },
      "source": [
        "toot=toot.loc[toot.cases<=80000]"
      ],
      "execution_count": 25,
      "outputs": []
    },
    {
      "cell_type": "code",
      "metadata": {
        "id": "7O9V1_GWMh9f",
        "outputId": "d2b898ed-4933-4f14-837f-81da485264a6",
        "colab": {
          "base_uri": "https://localhost:8080/",
          "height": 35
        }
      },
      "source": [
        "from pmdarima.arima import ndiffs\n",
        "ndiffs(toot, alpha=0.05, test='kpss', max_d=6)"
      ],
      "execution_count": null,
      "outputs": [
        {
          "output_type": "execute_result",
          "data": {
            "text/plain": [
              "1"
            ]
          },
          "metadata": {
            "tags": []
          },
          "execution_count": 11
        }
      ]
    },
    {
      "cell_type": "code",
      "metadata": {
        "id": "uAjUH1JvMh9o",
        "outputId": "462a6cd2-8c47-4926-a732-d394fcf8961b",
        "colab": {
          "base_uri": "https://localhost:8080/",
          "height": 179
        }
      },
      "source": [
        "def adf_test(timeseries):\n",
        "    #Perform Dickey-Fuller test:\n",
        "    print ('Results of Dickey-Fuller Test:')\n",
        "    dftest = adfuller(timeseries, autolag='AIC')\n",
        "    dfoutput = pd.Series(dftest[0:4], index=['Test Statistic','p-value','#Lags Used','Number of Observations Used'])\n",
        "    for key,value in dftest[4].items():\n",
        "       dfoutput['Critical Value (%s)'%key] = value\n",
        "    print (dfoutput)\n",
        "adf_test(toot)"
      ],
      "execution_count": null,
      "outputs": [
        {
          "output_type": "stream",
          "text": [
            "Results of Dickey-Fuller Test:\n",
            "Test Statistic                 -1.755483\n",
            "p-value                         0.402776\n",
            "#Lags Used                      6.000000\n",
            "Number of Observations Used    88.000000\n",
            "Critical Value (1%)            -3.506944\n",
            "Critical Value (5%)            -2.894990\n",
            "Critical Value (10%)           -2.584615\n",
            "dtype: float64\n"
          ],
          "name": "stdout"
        }
      ]
    },
    {
      "cell_type": "code",
      "metadata": {
        "id": "aOSA4VeMMCQL"
      },
      "source": [
        "toot = toot.diff(1)\n",
        "toot.dropna(inplace=True)"
      ],
      "execution_count": 8,
      "outputs": []
    },
    {
      "cell_type": "code",
      "metadata": {
        "id": "cRV7S70K4qwI",
        "outputId": "755913a2-ba09-4003-a77d-7a8c58447be5",
        "colab": {
          "base_uri": "https://localhost:8080/",
          "height": 436
        }
      },
      "source": [
        "toot"
      ],
      "execution_count": 28,
      "outputs": [
        {
          "output_type": "execute_result",
          "data": {
            "text/html": [
              "<div>\n",
              "<style scoped>\n",
              "    .dataframe tbody tr th:only-of-type {\n",
              "        vertical-align: middle;\n",
              "    }\n",
              "\n",
              "    .dataframe tbody tr th {\n",
              "        vertical-align: top;\n",
              "    }\n",
              "\n",
              "    .dataframe thead th {\n",
              "        text-align: right;\n",
              "    }\n",
              "</style>\n",
              "<table border=\"1\" class=\"dataframe\">\n",
              "  <thead>\n",
              "    <tr style=\"text-align: right;\">\n",
              "      <th></th>\n",
              "      <th>cases</th>\n",
              "    </tr>\n",
              "    <tr>\n",
              "      <th>del date</th>\n",
              "      <th></th>\n",
              "    </tr>\n",
              "  </thead>\n",
              "  <tbody>\n",
              "    <tr>\n",
              "      <th>2012-10-31</th>\n",
              "      <td>5143.0</td>\n",
              "    </tr>\n",
              "    <tr>\n",
              "      <th>2012-11-30</th>\n",
              "      <td>8220.0</td>\n",
              "    </tr>\n",
              "    <tr>\n",
              "      <th>2012-12-31</th>\n",
              "      <td>5631.0</td>\n",
              "    </tr>\n",
              "    <tr>\n",
              "      <th>2013-01-31</th>\n",
              "      <td>20630.0</td>\n",
              "    </tr>\n",
              "    <tr>\n",
              "      <th>2013-02-28</th>\n",
              "      <td>12529.0</td>\n",
              "    </tr>\n",
              "    <tr>\n",
              "      <th>...</th>\n",
              "      <td>...</td>\n",
              "    </tr>\n",
              "    <tr>\n",
              "      <th>2020-07-31</th>\n",
              "      <td>52193.0</td>\n",
              "    </tr>\n",
              "    <tr>\n",
              "      <th>2020-08-31</th>\n",
              "      <td>43866.0</td>\n",
              "    </tr>\n",
              "    <tr>\n",
              "      <th>2020-09-30</th>\n",
              "      <td>25063.0</td>\n",
              "    </tr>\n",
              "    <tr>\n",
              "      <th>2020-10-31</th>\n",
              "      <td>25487.0</td>\n",
              "    </tr>\n",
              "    <tr>\n",
              "      <th>2020-11-30</th>\n",
              "      <td>1780.0</td>\n",
              "    </tr>\n",
              "  </tbody>\n",
              "</table>\n",
              "<p>95 rows × 1 columns</p>\n",
              "</div>"
            ],
            "text/plain": [
              "              cases\n",
              "del date           \n",
              "2012-10-31   5143.0\n",
              "2012-11-30   8220.0\n",
              "2012-12-31   5631.0\n",
              "2013-01-31  20630.0\n",
              "2013-02-28  12529.0\n",
              "...             ...\n",
              "2020-07-31  52193.0\n",
              "2020-08-31  43866.0\n",
              "2020-09-30  25063.0\n",
              "2020-10-31  25487.0\n",
              "2020-11-30   1780.0\n",
              "\n",
              "[95 rows x 1 columns]"
            ]
          },
          "metadata": {
            "tags": []
          },
          "execution_count": 28
        }
      ]
    },
    {
      "cell_type": "code",
      "metadata": {
        "id": "lMBljqe_Jyhg",
        "outputId": "c61d05d3-68e6-428a-8f86-b608027dcfc7",
        "colab": {
          "base_uri": "https://localhost:8080/",
          "height": 87
        }
      },
      "source": [
        "model1 = pmd.auto_arima(toot,seasonal=True,m=12)\n",
        "model1"
      ],
      "execution_count": 26,
      "outputs": [
        {
          "output_type": "execute_result",
          "data": {
            "text/plain": [
              "ARIMA(maxiter=50, method='lbfgs', order=(0, 1, 1), out_of_sample_size=0,\n",
              "      scoring='mse', scoring_args={}, seasonal_order=(2, 0, 0, 12),\n",
              "      start_params=None, suppress_warnings=False, trend=None,\n",
              "      with_intercept=False)"
            ]
          },
          "metadata": {
            "tags": []
          },
          "execution_count": 26
        }
      ]
    },
    {
      "cell_type": "code",
      "metadata": {
        "id": "T147qaK64UXq"
      },
      "source": [
        "pred=model1.predict_in_sample(toot[0:94])"
      ],
      "execution_count": 30,
      "outputs": []
    },
    {
      "cell_type": "code",
      "metadata": {
        "id": "StQQxyV941kI",
        "outputId": "a5c626df-63bf-471e-aa63-e8337dfd9661",
        "colab": {
          "base_uri": "https://localhost:8080/",
          "height": 542
        }
      },
      "source": [
        "import plotly.graph_objects as go\n",
        "fig=px.line(data_frame=toot,x=toot.index,y='cases')\n",
        "fig.add_scatter(x=toot.index,y=pred,name='pred')\n",
        "fig.add_scatter(x=pd.date_range(toot.index[94], periods=10,freq='M'),y=pred1,name='pred1')"
      ],
      "execution_count": 37,
      "outputs": [
        {
          "output_type": "display_data",
          "data": {
            "text/html": [
              "<html>\n",
              "<head><meta charset=\"utf-8\" /></head>\n",
              "<body>\n",
              "    <div>\n",
              "            <script src=\"https://cdnjs.cloudflare.com/ajax/libs/mathjax/2.7.5/MathJax.js?config=TeX-AMS-MML_SVG\"></script><script type=\"text/javascript\">if (window.MathJax) {MathJax.Hub.Config({SVG: {font: \"STIX-Web\"}});}</script>\n",
              "                <script type=\"text/javascript\">window.PlotlyConfig = {MathJaxConfig: 'local'};</script>\n",
              "        <script src=\"https://cdn.plot.ly/plotly-latest.min.js\"></script>    \n",
              "            <div id=\"d21e8725-bb5e-445c-8418-4201353d5e51\" class=\"plotly-graph-div\" style=\"height:525px; width:100%;\"></div>\n",
              "            <script type=\"text/javascript\">\n",
              "                \n",
              "                    window.PLOTLYENV=window.PLOTLYENV || {};\n",
              "                    \n",
              "                if (document.getElementById(\"d21e8725-bb5e-445c-8418-4201353d5e51\")) {\n",
              "                    Plotly.newPlot(\n",
              "                        'd21e8725-bb5e-445c-8418-4201353d5e51',\n",
              "                        [{\"hoverlabel\": {\"namelength\": 0}, \"hovertemplate\": \"x=%{x}<br>cases=%{y}\", \"legendgroup\": \"\", \"line\": {\"color\": \"#636efa\", \"dash\": \"solid\"}, \"mode\": \"lines\", \"name\": \"\", \"showlegend\": false, \"type\": \"scatter\", \"x\": [\"2012-10-31T00:00:00\", \"2012-11-30T00:00:00\", \"2012-12-31T00:00:00\", \"2013-01-31T00:00:00\", \"2013-02-28T00:00:00\", \"2013-03-31T00:00:00\", \"2013-04-30T00:00:00\", \"2013-05-31T00:00:00\", \"2013-06-30T00:00:00\", \"2013-07-31T00:00:00\", \"2013-08-31T00:00:00\", \"2013-09-30T00:00:00\", \"2013-10-31T00:00:00\", \"2013-11-30T00:00:00\", \"2013-12-31T00:00:00\", \"2014-01-31T00:00:00\", \"2014-02-28T00:00:00\", \"2014-03-31T00:00:00\", \"2014-04-30T00:00:00\", \"2014-05-31T00:00:00\", \"2014-06-30T00:00:00\", \"2014-07-31T00:00:00\", \"2014-08-31T00:00:00\", \"2014-09-30T00:00:00\", \"2014-10-31T00:00:00\", \"2014-11-30T00:00:00\", \"2014-12-31T00:00:00\", \"2015-01-31T00:00:00\", \"2015-02-28T00:00:00\", \"2015-03-31T00:00:00\", \"2015-04-30T00:00:00\", \"2015-05-31T00:00:00\", \"2015-06-30T00:00:00\", \"2015-07-31T00:00:00\", \"2015-08-31T00:00:00\", \"2015-09-30T00:00:00\", \"2015-10-31T00:00:00\", \"2015-11-30T00:00:00\", \"2015-12-31T00:00:00\", \"2016-01-31T00:00:00\", \"2016-02-29T00:00:00\", \"2016-03-31T00:00:00\", \"2016-04-30T00:00:00\", \"2016-05-31T00:00:00\", \"2016-06-30T00:00:00\", \"2016-07-31T00:00:00\", \"2016-08-31T00:00:00\", \"2016-09-30T00:00:00\", \"2016-10-31T00:00:00\", \"2016-11-30T00:00:00\", \"2016-12-31T00:00:00\", \"2017-01-31T00:00:00\", \"2017-02-28T00:00:00\", \"2017-03-31T00:00:00\", \"2017-04-30T00:00:00\", \"2017-05-31T00:00:00\", \"2017-06-30T00:00:00\", \"2017-07-31T00:00:00\", \"2017-08-31T00:00:00\", \"2017-09-30T00:00:00\", \"2017-10-31T00:00:00\", \"2017-11-30T00:00:00\", \"2017-12-31T00:00:00\", \"2018-01-31T00:00:00\", \"2018-02-28T00:00:00\", \"2018-03-31T00:00:00\", \"2018-04-30T00:00:00\", \"2018-05-31T00:00:00\", \"2018-06-30T00:00:00\", \"2018-08-31T00:00:00\", \"2018-09-30T00:00:00\", \"2018-11-30T00:00:00\", \"2018-12-31T00:00:00\", \"2019-01-31T00:00:00\", \"2019-02-28T00:00:00\", \"2019-03-31T00:00:00\", \"2019-05-31T00:00:00\", \"2019-06-30T00:00:00\", \"2019-07-31T00:00:00\", \"2019-08-31T00:00:00\", \"2019-09-30T00:00:00\", \"2019-10-31T00:00:00\", \"2019-11-30T00:00:00\", \"2019-12-31T00:00:00\", \"2020-01-31T00:00:00\", \"2020-02-29T00:00:00\", \"2020-03-31T00:00:00\", \"2020-04-30T00:00:00\", \"2020-05-31T00:00:00\", \"2020-06-30T00:00:00\", \"2020-07-31T00:00:00\", \"2020-08-31T00:00:00\", \"2020-09-30T00:00:00\", \"2020-10-31T00:00:00\", \"2020-11-30T00:00:00\"], \"xaxis\": \"x\", \"y\": [5143.0, 8220.0, 5631.0, 20630.0, 12529.0, 15660.0, 5314.0, 13897.0, 8993.0, 7811.0, 12771.0, 11164.0, 10295.0, 6636.0, 18936.0, 19046.0, 5045.0, 7843.0, 14324.0, 21253.0, 6307.0, 13238.0, 27164.0, 14687.0, 10729.0, 15302.0, 6654.0, 12323.0, 12043.0, 3301.0, 11262.0, 12481.0, 6614.0, 4867.0, 18528.0, 7317.0, 14986.0, 15447.0, 9546.0, 16360.0, 16542.0, 10731.0, 7552.0, 9980.666, 5011.0, 4470.0, 19824.0, 15076.0, 14451.0, 12617.0, 8594.0, 10691.0, 8441.0, 15729.0, 4030.0, 13620.0, 42263.0, 16865.0, 28472.0, 39443.0, 68091.0, 63568.0, 37507.0, 51145.0, 37374.0, 67330.0, 44418.0, 53709.0, 54709.0, 12987.0, 37563.0, 35070.0, 79706.0, 42628.0, 61259.0, 45088.0, 48426.0, 52430.0, 1011.0, 8488.0, 14112.0, 14981.0, 19870.0, 11358.0, 45412.0, 53906.0, 19500.0, 19594.0, 2150.0, 59975.0, 52193.0, 43866.0, 25063.0, 25487.0, 1780.0], \"yaxis\": \"y\"}, {\"name\": \"pred\", \"type\": \"scatter\", \"x\": [\"2012-10-31T00:00:00\", \"2012-11-30T00:00:00\", \"2012-12-31T00:00:00\", \"2013-01-31T00:00:00\", \"2013-02-28T00:00:00\", \"2013-03-31T00:00:00\", \"2013-04-30T00:00:00\", \"2013-05-31T00:00:00\", \"2013-06-30T00:00:00\", \"2013-07-31T00:00:00\", \"2013-08-31T00:00:00\", \"2013-09-30T00:00:00\", \"2013-10-31T00:00:00\", \"2013-11-30T00:00:00\", \"2013-12-31T00:00:00\", \"2014-01-31T00:00:00\", \"2014-02-28T00:00:00\", \"2014-03-31T00:00:00\", \"2014-04-30T00:00:00\", \"2014-05-31T00:00:00\", \"2014-06-30T00:00:00\", \"2014-07-31T00:00:00\", \"2014-08-31T00:00:00\", \"2014-09-30T00:00:00\", \"2014-10-31T00:00:00\", \"2014-11-30T00:00:00\", \"2014-12-31T00:00:00\", \"2015-01-31T00:00:00\", \"2015-02-28T00:00:00\", \"2015-03-31T00:00:00\", \"2015-04-30T00:00:00\", \"2015-05-31T00:00:00\", \"2015-06-30T00:00:00\", \"2015-07-31T00:00:00\", \"2015-08-31T00:00:00\", \"2015-09-30T00:00:00\", \"2015-10-31T00:00:00\", \"2015-11-30T00:00:00\", \"2015-12-31T00:00:00\", \"2016-01-31T00:00:00\", \"2016-02-29T00:00:00\", \"2016-03-31T00:00:00\", \"2016-04-30T00:00:00\", \"2016-05-31T00:00:00\", \"2016-06-30T00:00:00\", \"2016-07-31T00:00:00\", \"2016-08-31T00:00:00\", \"2016-09-30T00:00:00\", \"2016-10-31T00:00:00\", \"2016-11-30T00:00:00\", \"2016-12-31T00:00:00\", \"2017-01-31T00:00:00\", \"2017-02-28T00:00:00\", \"2017-03-31T00:00:00\", \"2017-04-30T00:00:00\", \"2017-05-31T00:00:00\", \"2017-06-30T00:00:00\", \"2017-07-31T00:00:00\", \"2017-08-31T00:00:00\", \"2017-09-30T00:00:00\", \"2017-10-31T00:00:00\", \"2017-11-30T00:00:00\", \"2017-12-31T00:00:00\", \"2018-01-31T00:00:00\", \"2018-02-28T00:00:00\", \"2018-03-31T00:00:00\", \"2018-04-30T00:00:00\", \"2018-05-31T00:00:00\", \"2018-06-30T00:00:00\", \"2018-08-31T00:00:00\", \"2018-09-30T00:00:00\", \"2018-11-30T00:00:00\", \"2018-12-31T00:00:00\", \"2019-01-31T00:00:00\", \"2019-02-28T00:00:00\", \"2019-03-31T00:00:00\", \"2019-05-31T00:00:00\", \"2019-06-30T00:00:00\", \"2019-07-31T00:00:00\", \"2019-08-31T00:00:00\", \"2019-09-30T00:00:00\", \"2019-10-31T00:00:00\", \"2019-11-30T00:00:00\", \"2019-12-31T00:00:00\", \"2020-01-31T00:00:00\", \"2020-02-29T00:00:00\", \"2020-03-31T00:00:00\", \"2020-04-30T00:00:00\", \"2020-05-31T00:00:00\", \"2020-06-30T00:00:00\", \"2020-07-31T00:00:00\", \"2020-08-31T00:00:00\", \"2020-09-30T00:00:00\", \"2020-10-31T00:00:00\", \"2020-11-30T00:00:00\"], \"y\": [0.0, 2919.008558184709, 5389.869920091549, 5494.89132100649, 11936.7821437361, 12186.897474015019, 13649.89706269279, 10141.580396521818, 11721.653966850961, 10573.69999012209, 9411.461202112532, 9921.1169991101, 11461.825253221496, 11567.078905867216, 8978.097358072648, 16106.596087064814, 15759.106638877165, 11863.639575520023, 8148.420070731291, 12425.293846782159, 15179.731671295884, 11215.917913963376, 13036.770603464905, 17413.16858059119, 17450.596662526805, 14871.732442287355, 16103.890183739777, 16206.289673097139, 10376.655929234477, 12326.663139967846, 6643.824500457299, 11904.399698402489, 8685.739510902536, 8480.904869098378, 10291.684050157242, 11542.322081993787, 8964.862311480163, 11156.026163524051, 15068.437121764722, 13582.919486355919, 10909.873544276823, 12793.198073827558, 14819.734854725266, 13817.323880005011, 7309.293225981171, 7975.339613881964, 12228.392401828996, 10438.576616575305, 12407.621370489138, 14574.542153484219, 10562.149675129824, 12244.341927332569, 11540.789602103869, 7035.176334816138, 12401.014910010923, 9556.521707078658, 8964.848151517268, 22421.376977888947, 25980.889479616468, 23308.38369015885, 32089.08621623832, 47098.287969123936, 51851.36357718505, 47965.82680383514, 49032.04851586957, 43588.4749504049, 51045.92813006787, 50283.61755052052, 54456.8065340627, 50796.90518117587, 40713.66024515005, 39662.42289823014, 41642.99618347107, 56512.974971727584, 45865.941520038235, 54854.24533953296, 48172.54995240119, 54526.542571048834, 47203.301460879105, 31698.723904586135, 29853.746197407454, 10390.44212872705, 18975.00568199669, 21975.0119318202, 31647.290710542795, 30926.362658782848, 36172.50048480241, 30557.231126586943, 22681.874510754184, 22748.39205062949, 24861.13733042655, 39947.21521644115, 42668.685692383, 24058.157845157966, 32028.546322921215]}, {\"name\": \"pred1\", \"type\": \"scatter\", \"x\": [\"2020-11-30T00:00:00\", \"2020-12-31T00:00:00\", \"2021-01-31T00:00:00\", \"2021-02-28T00:00:00\", \"2021-03-31T00:00:00\", \"2021-04-30T00:00:00\", \"2021-05-31T00:00:00\", \"2021-06-30T00:00:00\", \"2021-07-31T00:00:00\", \"2021-08-31T00:00:00\"], \"y\": [17413.71495047691, 34385.40103628731, 25528.700140320863, 25684.499540453668, 21307.300609481084, 19727.905835589983, 29054.85122954628, 13985.159511773087, 14828.679946925857, 13676.306030981075]}],\n",
              "                        {\"legend\": {\"tracegroupgap\": 0}, \"margin\": {\"t\": 60}, \"template\": {\"data\": {\"bar\": [{\"error_x\": {\"color\": \"#2a3f5f\"}, \"error_y\": {\"color\": \"#2a3f5f\"}, \"marker\": {\"line\": {\"color\": \"#E5ECF6\", \"width\": 0.5}}, \"type\": \"bar\"}], \"barpolar\": [{\"marker\": {\"line\": {\"color\": \"#E5ECF6\", \"width\": 0.5}}, \"type\": \"barpolar\"}], \"carpet\": [{\"aaxis\": {\"endlinecolor\": \"#2a3f5f\", \"gridcolor\": \"white\", \"linecolor\": \"white\", \"minorgridcolor\": \"white\", \"startlinecolor\": \"#2a3f5f\"}, \"baxis\": {\"endlinecolor\": \"#2a3f5f\", \"gridcolor\": \"white\", \"linecolor\": \"white\", \"minorgridcolor\": \"white\", \"startlinecolor\": \"#2a3f5f\"}, \"type\": \"carpet\"}], \"choropleth\": [{\"colorbar\": {\"outlinewidth\": 0, \"ticks\": \"\"}, \"type\": \"choropleth\"}], \"contour\": [{\"colorbar\": {\"outlinewidth\": 0, \"ticks\": \"\"}, \"colorscale\": [[0.0, \"#0d0887\"], [0.1111111111111111, \"#46039f\"], [0.2222222222222222, \"#7201a8\"], [0.3333333333333333, \"#9c179e\"], [0.4444444444444444, \"#bd3786\"], [0.5555555555555556, \"#d8576b\"], [0.6666666666666666, \"#ed7953\"], [0.7777777777777778, \"#fb9f3a\"], [0.8888888888888888, \"#fdca26\"], [1.0, \"#f0f921\"]], \"type\": \"contour\"}], \"contourcarpet\": [{\"colorbar\": {\"outlinewidth\": 0, \"ticks\": \"\"}, \"type\": \"contourcarpet\"}], \"heatmap\": [{\"colorbar\": {\"outlinewidth\": 0, \"ticks\": \"\"}, \"colorscale\": [[0.0, \"#0d0887\"], [0.1111111111111111, \"#46039f\"], [0.2222222222222222, \"#7201a8\"], [0.3333333333333333, \"#9c179e\"], [0.4444444444444444, \"#bd3786\"], [0.5555555555555556, \"#d8576b\"], [0.6666666666666666, \"#ed7953\"], [0.7777777777777778, \"#fb9f3a\"], [0.8888888888888888, \"#fdca26\"], [1.0, \"#f0f921\"]], \"type\": \"heatmap\"}], \"heatmapgl\": [{\"colorbar\": {\"outlinewidth\": 0, \"ticks\": \"\"}, \"colorscale\": [[0.0, \"#0d0887\"], [0.1111111111111111, \"#46039f\"], [0.2222222222222222, \"#7201a8\"], [0.3333333333333333, \"#9c179e\"], [0.4444444444444444, \"#bd3786\"], [0.5555555555555556, \"#d8576b\"], [0.6666666666666666, \"#ed7953\"], [0.7777777777777778, \"#fb9f3a\"], [0.8888888888888888, \"#fdca26\"], [1.0, \"#f0f921\"]], \"type\": \"heatmapgl\"}], \"histogram\": [{\"marker\": {\"colorbar\": {\"outlinewidth\": 0, \"ticks\": \"\"}}, \"type\": \"histogram\"}], \"histogram2d\": [{\"colorbar\": {\"outlinewidth\": 0, \"ticks\": \"\"}, \"colorscale\": [[0.0, \"#0d0887\"], [0.1111111111111111, \"#46039f\"], [0.2222222222222222, \"#7201a8\"], [0.3333333333333333, \"#9c179e\"], [0.4444444444444444, \"#bd3786\"], [0.5555555555555556, \"#d8576b\"], [0.6666666666666666, \"#ed7953\"], [0.7777777777777778, \"#fb9f3a\"], [0.8888888888888888, \"#fdca26\"], [1.0, \"#f0f921\"]], \"type\": \"histogram2d\"}], \"histogram2dcontour\": [{\"colorbar\": {\"outlinewidth\": 0, \"ticks\": \"\"}, \"colorscale\": [[0.0, \"#0d0887\"], [0.1111111111111111, \"#46039f\"], [0.2222222222222222, \"#7201a8\"], [0.3333333333333333, \"#9c179e\"], [0.4444444444444444, \"#bd3786\"], [0.5555555555555556, \"#d8576b\"], [0.6666666666666666, \"#ed7953\"], [0.7777777777777778, \"#fb9f3a\"], [0.8888888888888888, \"#fdca26\"], [1.0, \"#f0f921\"]], \"type\": \"histogram2dcontour\"}], \"mesh3d\": [{\"colorbar\": {\"outlinewidth\": 0, \"ticks\": \"\"}, \"type\": \"mesh3d\"}], \"parcoords\": [{\"line\": {\"colorbar\": {\"outlinewidth\": 0, \"ticks\": \"\"}}, \"type\": \"parcoords\"}], \"pie\": [{\"automargin\": true, \"type\": \"pie\"}], \"scatter\": [{\"marker\": {\"colorbar\": {\"outlinewidth\": 0, \"ticks\": \"\"}}, \"type\": \"scatter\"}], \"scatter3d\": [{\"line\": {\"colorbar\": {\"outlinewidth\": 0, \"ticks\": \"\"}}, \"marker\": {\"colorbar\": {\"outlinewidth\": 0, \"ticks\": \"\"}}, \"type\": \"scatter3d\"}], \"scattercarpet\": [{\"marker\": {\"colorbar\": {\"outlinewidth\": 0, \"ticks\": \"\"}}, \"type\": \"scattercarpet\"}], \"scattergeo\": [{\"marker\": {\"colorbar\": {\"outlinewidth\": 0, \"ticks\": \"\"}}, \"type\": \"scattergeo\"}], \"scattergl\": [{\"marker\": {\"colorbar\": {\"outlinewidth\": 0, \"ticks\": \"\"}}, \"type\": \"scattergl\"}], \"scattermapbox\": [{\"marker\": {\"colorbar\": {\"outlinewidth\": 0, \"ticks\": \"\"}}, \"type\": \"scattermapbox\"}], \"scatterpolar\": [{\"marker\": {\"colorbar\": {\"outlinewidth\": 0, \"ticks\": \"\"}}, \"type\": \"scatterpolar\"}], \"scatterpolargl\": [{\"marker\": {\"colorbar\": {\"outlinewidth\": 0, \"ticks\": \"\"}}, \"type\": \"scatterpolargl\"}], \"scatterternary\": [{\"marker\": {\"colorbar\": {\"outlinewidth\": 0, \"ticks\": \"\"}}, \"type\": \"scatterternary\"}], \"surface\": [{\"colorbar\": {\"outlinewidth\": 0, \"ticks\": \"\"}, \"colorscale\": [[0.0, \"#0d0887\"], [0.1111111111111111, \"#46039f\"], [0.2222222222222222, \"#7201a8\"], [0.3333333333333333, \"#9c179e\"], [0.4444444444444444, \"#bd3786\"], [0.5555555555555556, \"#d8576b\"], [0.6666666666666666, \"#ed7953\"], [0.7777777777777778, \"#fb9f3a\"], [0.8888888888888888, \"#fdca26\"], [1.0, \"#f0f921\"]], \"type\": \"surface\"}], \"table\": [{\"cells\": {\"fill\": {\"color\": \"#EBF0F8\"}, \"line\": {\"color\": \"white\"}}, \"header\": {\"fill\": {\"color\": \"#C8D4E3\"}, \"line\": {\"color\": \"white\"}}, \"type\": \"table\"}]}, \"layout\": {\"annotationdefaults\": {\"arrowcolor\": \"#2a3f5f\", \"arrowhead\": 0, \"arrowwidth\": 1}, \"coloraxis\": {\"colorbar\": {\"outlinewidth\": 0, \"ticks\": \"\"}}, \"colorscale\": {\"diverging\": [[0, \"#8e0152\"], [0.1, \"#c51b7d\"], [0.2, \"#de77ae\"], [0.3, \"#f1b6da\"], [0.4, \"#fde0ef\"], [0.5, \"#f7f7f7\"], [0.6, \"#e6f5d0\"], [0.7, \"#b8e186\"], [0.8, \"#7fbc41\"], [0.9, \"#4d9221\"], [1, \"#276419\"]], \"sequential\": [[0.0, \"#0d0887\"], [0.1111111111111111, \"#46039f\"], [0.2222222222222222, \"#7201a8\"], [0.3333333333333333, \"#9c179e\"], [0.4444444444444444, \"#bd3786\"], [0.5555555555555556, \"#d8576b\"], [0.6666666666666666, \"#ed7953\"], [0.7777777777777778, \"#fb9f3a\"], [0.8888888888888888, \"#fdca26\"], [1.0, \"#f0f921\"]], \"sequentialminus\": [[0.0, \"#0d0887\"], [0.1111111111111111, \"#46039f\"], [0.2222222222222222, \"#7201a8\"], [0.3333333333333333, \"#9c179e\"], [0.4444444444444444, \"#bd3786\"], [0.5555555555555556, \"#d8576b\"], [0.6666666666666666, \"#ed7953\"], [0.7777777777777778, \"#fb9f3a\"], [0.8888888888888888, \"#fdca26\"], [1.0, \"#f0f921\"]]}, \"colorway\": [\"#636efa\", \"#EF553B\", \"#00cc96\", \"#ab63fa\", \"#FFA15A\", \"#19d3f3\", \"#FF6692\", \"#B6E880\", \"#FF97FF\", \"#FECB52\"], \"font\": {\"color\": \"#2a3f5f\"}, \"geo\": {\"bgcolor\": \"white\", \"lakecolor\": \"white\", \"landcolor\": \"#E5ECF6\", \"showlakes\": true, \"showland\": true, \"subunitcolor\": \"white\"}, \"hoverlabel\": {\"align\": \"left\"}, \"hovermode\": \"closest\", \"mapbox\": {\"style\": \"light\"}, \"paper_bgcolor\": \"white\", \"plot_bgcolor\": \"#E5ECF6\", \"polar\": {\"angularaxis\": {\"gridcolor\": \"white\", \"linecolor\": \"white\", \"ticks\": \"\"}, \"bgcolor\": \"#E5ECF6\", \"radialaxis\": {\"gridcolor\": \"white\", \"linecolor\": \"white\", \"ticks\": \"\"}}, \"scene\": {\"xaxis\": {\"backgroundcolor\": \"#E5ECF6\", \"gridcolor\": \"white\", \"gridwidth\": 2, \"linecolor\": \"white\", \"showbackground\": true, \"ticks\": \"\", \"zerolinecolor\": \"white\"}, \"yaxis\": {\"backgroundcolor\": \"#E5ECF6\", \"gridcolor\": \"white\", \"gridwidth\": 2, \"linecolor\": \"white\", \"showbackground\": true, \"ticks\": \"\", \"zerolinecolor\": \"white\"}, \"zaxis\": {\"backgroundcolor\": \"#E5ECF6\", \"gridcolor\": \"white\", \"gridwidth\": 2, \"linecolor\": \"white\", \"showbackground\": true, \"ticks\": \"\", \"zerolinecolor\": \"white\"}}, \"shapedefaults\": {\"line\": {\"color\": \"#2a3f5f\"}}, \"ternary\": {\"aaxis\": {\"gridcolor\": \"white\", \"linecolor\": \"white\", \"ticks\": \"\"}, \"baxis\": {\"gridcolor\": \"white\", \"linecolor\": \"white\", \"ticks\": \"\"}, \"bgcolor\": \"#E5ECF6\", \"caxis\": {\"gridcolor\": \"white\", \"linecolor\": \"white\", \"ticks\": \"\"}}, \"title\": {\"x\": 0.05}, \"xaxis\": {\"automargin\": true, \"gridcolor\": \"white\", \"linecolor\": \"white\", \"ticks\": \"\", \"title\": {\"standoff\": 15}, \"zerolinecolor\": \"white\", \"zerolinewidth\": 2}, \"yaxis\": {\"automargin\": true, \"gridcolor\": \"white\", \"linecolor\": \"white\", \"ticks\": \"\", \"title\": {\"standoff\": 15}, \"zerolinecolor\": \"white\", \"zerolinewidth\": 2}}}, \"xaxis\": {\"anchor\": \"y\", \"domain\": [0.0, 1.0], \"title\": {\"text\": \"x\"}}, \"yaxis\": {\"anchor\": \"x\", \"domain\": [0.0, 1.0], \"title\": {\"text\": \"cases\"}}},\n",
              "                        {\"responsive\": true}\n",
              "                    ).then(function(){\n",
              "                            \n",
              "var gd = document.getElementById('d21e8725-bb5e-445c-8418-4201353d5e51');\n",
              "var x = new MutationObserver(function (mutations, observer) {{\n",
              "        var display = window.getComputedStyle(gd).display;\n",
              "        if (!display || display === 'none') {{\n",
              "            console.log([gd, 'removed!']);\n",
              "            Plotly.purge(gd);\n",
              "            observer.disconnect();\n",
              "        }}\n",
              "}});\n",
              "\n",
              "// Listen for the removal of the full notebook cells\n",
              "var notebookContainer = gd.closest('#notebook-container');\n",
              "if (notebookContainer) {{\n",
              "    x.observe(notebookContainer, {childList: true});\n",
              "}}\n",
              "\n",
              "// Listen for the clearing of the current output cell\n",
              "var outputEl = gd.closest('.output');\n",
              "if (outputEl) {{\n",
              "    x.observe(outputEl, {childList: true});\n",
              "}}\n",
              "\n",
              "                        })\n",
              "                };\n",
              "                \n",
              "            </script>\n",
              "        </div>\n",
              "</body>\n",
              "</html>"
            ]
          },
          "metadata": {
            "tags": []
          }
        }
      ]
    },
    {
      "cell_type": "code",
      "metadata": {
        "id": "7f1uVyDJ5bDB"
      },
      "source": [
        "pred1=model1.predict(10)"
      ],
      "execution_count": 35,
      "outputs": []
    },
    {
      "cell_type": "code",
      "metadata": {
        "id": "I3oVx_K2Mh8l"
      },
      "source": [
        "n_train = 24\n",
        "n_records = len(toot)\n",
        "fore = {}\n",
        "res=[]\n",
        "for i in range(n_train, n_records):\n",
        "    pre=[]\n",
        "    train, test = toot[0:i].copy(), toot[i:i+1].copy()\n",
        "    mod = SARIMAX(train, order=(0, 1, 1), seasonal_order=(2, 0, 0, 12))\n",
        "    mod=mod.fit()\n",
        "    fore.update(mod.forecast(1))\n",
        "    pre = mod.forecast()\n",
        "    res.extend(rmse(test,pre))\n",
        "#df1.plot(legend=True,figsize=(15,10))\n",
        "#pre.plot(legend=True)"
      ],
      "execution_count": 12,
      "outputs": []
    },
    {
      "cell_type": "code",
      "metadata": {
        "id": "GKn9DJf9Mh8r",
        "outputId": "587beb24-06b5-407a-d12c-6e69d2013c63",
        "colab": {
          "base_uri": "https://localhost:8080/",
          "height": 34
        }
      },
      "source": [
        "print(\"Avg rmse is %d\" %np.mean(res))"
      ],
      "execution_count": 13,
      "outputs": [
        {
          "output_type": "stream",
          "text": [
            "Avg rmse is 12991\n"
          ],
          "name": "stdout"
        }
      ]
    },
    {
      "cell_type": "code",
      "metadata": {
        "id": "2ZzPXANEDv1b"
      },
      "source": [
        "mod1 = SARIMAX(toot, order=(0, 1, 1), seasonal_order=(2, 0, 0, 3))\n",
        "mod1 = mod1.fit()"
      ],
      "execution_count": 16,
      "outputs": []
    },
    {
      "cell_type": "code",
      "metadata": {
        "id": "h9H8IerLSw5K",
        "outputId": "0542dc5c-c550-4a53-c46f-7f687d42fc70",
        "colab": {
          "base_uri": "https://localhost:8080/",
          "height": 436
        }
      },
      "source": [
        "predict=mod1.get_prediction(12)\n",
        "pred=predict.conf_int()\n",
        "pred"
      ],
      "execution_count": 18,
      "outputs": [
        {
          "output_type": "execute_result",
          "data": {
            "text/html": [
              "<div>\n",
              "<style scoped>\n",
              "    .dataframe tbody tr th:only-of-type {\n",
              "        vertical-align: middle;\n",
              "    }\n",
              "\n",
              "    .dataframe tbody tr th {\n",
              "        vertical-align: top;\n",
              "    }\n",
              "\n",
              "    .dataframe thead th {\n",
              "        text-align: right;\n",
              "    }\n",
              "</style>\n",
              "<table border=\"1\" class=\"dataframe\">\n",
              "  <thead>\n",
              "    <tr style=\"text-align: right;\">\n",
              "      <th></th>\n",
              "      <th>lower cases</th>\n",
              "      <th>upper cases</th>\n",
              "    </tr>\n",
              "    <tr>\n",
              "      <th>del date</th>\n",
              "      <th></th>\n",
              "      <th></th>\n",
              "    </tr>\n",
              "  </thead>\n",
              "  <tbody>\n",
              "    <tr>\n",
              "      <th>2013-11-30</th>\n",
              "      <td>-44190.426570</td>\n",
              "      <td>35343.551762</td>\n",
              "    </tr>\n",
              "    <tr>\n",
              "      <th>2013-12-31</th>\n",
              "      <td>-37014.820467</td>\n",
              "      <td>42142.854471</td>\n",
              "    </tr>\n",
              "    <tr>\n",
              "      <th>2014-01-31</th>\n",
              "      <td>-37630.434059</td>\n",
              "      <td>41217.754926</td>\n",
              "    </tr>\n",
              "    <tr>\n",
              "      <th>2014-02-28</th>\n",
              "      <td>-39426.864793</td>\n",
              "      <td>39162.532923</td>\n",
              "    </tr>\n",
              "    <tr>\n",
              "      <th>2014-03-31</th>\n",
              "      <td>-41542.946418</td>\n",
              "      <td>36827.033017</td>\n",
              "    </tr>\n",
              "    <tr>\n",
              "      <th>...</th>\n",
              "      <td>...</td>\n",
              "      <td>...</td>\n",
              "    </tr>\n",
              "    <tr>\n",
              "      <th>2020-07-31</th>\n",
              "      <td>-50982.086899</td>\n",
              "      <td>25366.755939</td>\n",
              "    </tr>\n",
              "    <tr>\n",
              "      <th>2020-08-31</th>\n",
              "      <td>-36568.760639</td>\n",
              "      <td>39778.403034</td>\n",
              "    </tr>\n",
              "    <tr>\n",
              "      <th>2020-09-30</th>\n",
              "      <td>-37472.154512</td>\n",
              "      <td>38873.405084</td>\n",
              "    </tr>\n",
              "    <tr>\n",
              "      <th>2020-10-31</th>\n",
              "      <td>-36168.421023</td>\n",
              "      <td>40175.606095</td>\n",
              "    </tr>\n",
              "    <tr>\n",
              "      <th>2020-11-30</th>\n",
              "      <td>-29100.083984</td>\n",
              "      <td>47242.478940</td>\n",
              "    </tr>\n",
              "  </tbody>\n",
              "</table>\n",
              "<p>82 rows × 2 columns</p>\n",
              "</div>"
            ],
            "text/plain": [
              "             lower cases   upper cases\n",
              "del date                              \n",
              "2013-11-30 -44190.426570  35343.551762\n",
              "2013-12-31 -37014.820467  42142.854471\n",
              "2014-01-31 -37630.434059  41217.754926\n",
              "2014-02-28 -39426.864793  39162.532923\n",
              "2014-03-31 -41542.946418  36827.033017\n",
              "...                  ...           ...\n",
              "2020-07-31 -50982.086899  25366.755939\n",
              "2020-08-31 -36568.760639  39778.403034\n",
              "2020-09-30 -37472.154512  38873.405084\n",
              "2020-10-31 -36168.421023  40175.606095\n",
              "2020-11-30 -29100.083984  47242.478940\n",
              "\n",
              "[82 rows x 2 columns]"
            ]
          },
          "metadata": {
            "tags": []
          },
          "execution_count": 18
        }
      ]
    },
    {
      "cell_type": "code",
      "metadata": {
        "id": "hx9njPmOMh9H",
        "outputId": "ea6d6a93-f5fe-4b36-d1f4-739cca0d6704",
        "colab": {
          "base_uri": "https://localhost:8080/",
          "height": 542
        }
      },
      "source": [
        "import plotly.graph_objects as go\n",
        "fig=px.line(data_frame=toot,x=toot.index,y='cases',labels=\"Actual\")\n",
        "fig.add_scatter(x=pred.index,y=pred['lower cases'])\n",
        "fig.add_scatter(x=pred.index,y=pred['upper cases'],fill='tonexty')\n",
        "fig.add_scatter(x=toot.index,y=toot['cases'])\n",
        "#fig2=px.area(cint)\n",
        "#fig.add_trace()"
      ],
      "execution_count": 20,
      "outputs": [
        {
          "output_type": "display_data",
          "data": {
            "text/html": [
              "<html>\n",
              "<head><meta charset=\"utf-8\" /></head>\n",
              "<body>\n",
              "    <div>\n",
              "            <script src=\"https://cdnjs.cloudflare.com/ajax/libs/mathjax/2.7.5/MathJax.js?config=TeX-AMS-MML_SVG\"></script><script type=\"text/javascript\">if (window.MathJax) {MathJax.Hub.Config({SVG: {font: \"STIX-Web\"}});}</script>\n",
              "                <script type=\"text/javascript\">window.PlotlyConfig = {MathJaxConfig: 'local'};</script>\n",
              "        <script src=\"https://cdn.plot.ly/plotly-latest.min.js\"></script>    \n",
              "            <div id=\"5d3a0d9c-3cfb-43d0-8c5a-d119918b1d6b\" class=\"plotly-graph-div\" style=\"height:525px; width:100%;\"></div>\n",
              "            <script type=\"text/javascript\">\n",
              "                \n",
              "                    window.PLOTLYENV=window.PLOTLYENV || {};\n",
              "                    \n",
              "                if (document.getElementById(\"5d3a0d9c-3cfb-43d0-8c5a-d119918b1d6b\")) {\n",
              "                    Plotly.newPlot(\n",
              "                        '5d3a0d9c-3cfb-43d0-8c5a-d119918b1d6b',\n",
              "                        [{\"hoverlabel\": {\"namelength\": 0}, \"hovertemplate\": \"x=%{x}<br>cases=%{y}\", \"legendgroup\": \"\", \"line\": {\"color\": \"#636efa\", \"dash\": \"solid\"}, \"mode\": \"lines\", \"name\": \"\", \"showlegend\": false, \"type\": \"scatter\", \"x\": [\"2012-11-30T00:00:00\", \"2012-12-31T00:00:00\", \"2013-01-31T00:00:00\", \"2013-02-28T00:00:00\", \"2013-03-31T00:00:00\", \"2013-04-30T00:00:00\", \"2013-05-31T00:00:00\", \"2013-06-30T00:00:00\", \"2013-07-31T00:00:00\", \"2013-08-31T00:00:00\", \"2013-09-30T00:00:00\", \"2013-10-31T00:00:00\", \"2013-11-30T00:00:00\", \"2013-12-31T00:00:00\", \"2014-01-31T00:00:00\", \"2014-02-28T00:00:00\", \"2014-03-31T00:00:00\", \"2014-04-30T00:00:00\", \"2014-05-31T00:00:00\", \"2014-06-30T00:00:00\", \"2014-07-31T00:00:00\", \"2014-08-31T00:00:00\", \"2014-09-30T00:00:00\", \"2014-10-31T00:00:00\", \"2014-11-30T00:00:00\", \"2014-12-31T00:00:00\", \"2015-01-31T00:00:00\", \"2015-02-28T00:00:00\", \"2015-03-31T00:00:00\", \"2015-04-30T00:00:00\", \"2015-05-31T00:00:00\", \"2015-06-30T00:00:00\", \"2015-07-31T00:00:00\", \"2015-08-31T00:00:00\", \"2015-09-30T00:00:00\", \"2015-10-31T00:00:00\", \"2015-11-30T00:00:00\", \"2015-12-31T00:00:00\", \"2016-01-31T00:00:00\", \"2016-02-29T00:00:00\", \"2016-03-31T00:00:00\", \"2016-04-30T00:00:00\", \"2016-05-31T00:00:00\", \"2016-06-30T00:00:00\", \"2016-07-31T00:00:00\", \"2016-08-31T00:00:00\", \"2016-09-30T00:00:00\", \"2016-10-31T00:00:00\", \"2016-11-30T00:00:00\", \"2016-12-31T00:00:00\", \"2017-01-31T00:00:00\", \"2017-02-28T00:00:00\", \"2017-03-31T00:00:00\", \"2017-04-30T00:00:00\", \"2017-05-31T00:00:00\", \"2017-06-30T00:00:00\", \"2017-07-31T00:00:00\", \"2017-08-31T00:00:00\", \"2017-09-30T00:00:00\", \"2017-10-31T00:00:00\", \"2017-11-30T00:00:00\", \"2017-12-31T00:00:00\", \"2018-01-31T00:00:00\", \"2018-02-28T00:00:00\", \"2018-03-31T00:00:00\", \"2018-04-30T00:00:00\", \"2018-05-31T00:00:00\", \"2018-06-30T00:00:00\", \"2018-08-31T00:00:00\", \"2018-09-30T00:00:00\", \"2018-11-30T00:00:00\", \"2018-12-31T00:00:00\", \"2019-01-31T00:00:00\", \"2019-02-28T00:00:00\", \"2019-03-31T00:00:00\", \"2019-05-31T00:00:00\", \"2019-06-30T00:00:00\", \"2019-07-31T00:00:00\", \"2019-08-31T00:00:00\", \"2019-09-30T00:00:00\", \"2019-10-31T00:00:00\", \"2019-11-30T00:00:00\", \"2019-12-31T00:00:00\", \"2020-01-31T00:00:00\", \"2020-02-29T00:00:00\", \"2020-03-31T00:00:00\", \"2020-04-30T00:00:00\", \"2020-05-31T00:00:00\", \"2020-06-30T00:00:00\", \"2020-07-31T00:00:00\", \"2020-08-31T00:00:00\", \"2020-09-30T00:00:00\", \"2020-10-31T00:00:00\", \"2020-11-30T00:00:00\"], \"xaxis\": \"x\", \"y\": [3077.0, -2589.0, 14999.0, -8101.0, 3131.0, -10346.0, 8583.0, -4904.0, -1182.0, 4960.0, -1607.0, -869.0, -3659.0, 12300.0, 110.0, -14001.0, 2798.0, 6481.0, 6929.0, -14946.0, 6931.0, 13926.0, -12477.0, -3958.0, 4573.0, -8648.0, 5669.0, -280.0, -8742.0, 7961.0, 1219.0, -5867.0, -1747.0, 13661.0, -11211.0, 7669.0, 461.0, -5901.0, 6814.0, 182.0, -5811.0, -3179.0, 2428.6659999999993, -4969.665999999999, -541.0, 15354.0, -4748.0, -625.0, -1834.0, -4023.0, 2097.0, -2250.0, 7288.0, -11699.0, 9590.0, 28643.0, -25398.0, 11607.0, 10971.0, 28648.0, -4523.0, -26061.0, 13638.0, -13771.0, 29956.0, -22912.0, 9291.0, 1000.0, -41722.0, 24576.0, -2493.0, 44636.0, -37078.0, 18631.0, -16171.0, 3338.0, 4004.0, -51419.0, 7477.0, 5624.0, 869.0, 4889.0, -8512.0, 34054.0, 8494.0, -34406.0, 94.0, -17444.0, 57825.0, -7782.0, -8327.0, -18803.0, 424.0, -23707.0], \"yaxis\": \"y\"}, {\"type\": \"scatter\", \"x\": [\"2013-11-30T00:00:00\", \"2013-12-31T00:00:00\", \"2014-01-31T00:00:00\", \"2014-02-28T00:00:00\", \"2014-03-31T00:00:00\", \"2014-04-30T00:00:00\", \"2014-05-31T00:00:00\", \"2014-06-30T00:00:00\", \"2014-07-31T00:00:00\", \"2014-08-31T00:00:00\", \"2014-09-30T00:00:00\", \"2014-10-31T00:00:00\", \"2014-11-30T00:00:00\", \"2014-12-31T00:00:00\", \"2015-01-31T00:00:00\", \"2015-02-28T00:00:00\", \"2015-03-31T00:00:00\", \"2015-04-30T00:00:00\", \"2015-05-31T00:00:00\", \"2015-06-30T00:00:00\", \"2015-07-31T00:00:00\", \"2015-08-31T00:00:00\", \"2015-09-30T00:00:00\", \"2015-10-31T00:00:00\", \"2015-11-30T00:00:00\", \"2015-12-31T00:00:00\", \"2016-01-31T00:00:00\", \"2016-02-29T00:00:00\", \"2016-03-31T00:00:00\", \"2016-04-30T00:00:00\", \"2016-05-31T00:00:00\", \"2016-06-30T00:00:00\", \"2016-07-31T00:00:00\", \"2016-08-31T00:00:00\", \"2016-09-30T00:00:00\", \"2016-10-31T00:00:00\", \"2016-11-30T00:00:00\", \"2016-12-31T00:00:00\", \"2017-01-31T00:00:00\", \"2017-02-28T00:00:00\", \"2017-03-31T00:00:00\", \"2017-04-30T00:00:00\", \"2017-05-31T00:00:00\", \"2017-06-30T00:00:00\", \"2017-07-31T00:00:00\", \"2017-08-31T00:00:00\", \"2017-09-30T00:00:00\", \"2017-10-31T00:00:00\", \"2017-11-30T00:00:00\", \"2017-12-31T00:00:00\", \"2018-01-31T00:00:00\", \"2018-02-28T00:00:00\", \"2018-03-31T00:00:00\", \"2018-04-30T00:00:00\", \"2018-05-31T00:00:00\", \"2018-06-30T00:00:00\", \"2018-08-31T00:00:00\", \"2018-09-30T00:00:00\", \"2018-11-30T00:00:00\", \"2018-12-31T00:00:00\", \"2019-01-31T00:00:00\", \"2019-02-28T00:00:00\", \"2019-03-31T00:00:00\", \"2019-05-31T00:00:00\", \"2019-06-30T00:00:00\", \"2019-07-31T00:00:00\", \"2019-08-31T00:00:00\", \"2019-09-30T00:00:00\", \"2019-10-31T00:00:00\", \"2019-11-30T00:00:00\", \"2019-12-31T00:00:00\", \"2020-01-31T00:00:00\", \"2020-02-29T00:00:00\", \"2020-03-31T00:00:00\", \"2020-04-30T00:00:00\", \"2020-05-31T00:00:00\", \"2020-06-30T00:00:00\", \"2020-07-31T00:00:00\", \"2020-08-31T00:00:00\", \"2020-09-30T00:00:00\", \"2020-10-31T00:00:00\", \"2020-11-30T00:00:00\"], \"y\": [-44190.42656960633, -37014.82046699047, -37630.43405921884, -39426.8647931037, -41542.946418155065, -38495.848079788746, -33578.94208881705, -43717.945033348675, -40291.47422191239, -34249.033410630145, -35211.06901663324, -42628.52254453408, -44418.03960506932, -28961.452612017692, -40489.342355504254, -44913.44425282715, -31007.180869849184, -38429.081884633975, -40076.158641394526, -32692.12156254345, -42752.62712731387, -38684.14471495032, -33122.585482233, -41312.044421023544, -41877.98815929888, -33049.14133375873, -39502.390757382855, -43657.668803131826, -32078.55069224911, -42957.49081487794, -38473.12656394921, -34442.28215797868, -40378.72792481794, -39009.366544430486, -34401.94686023155, -36736.396176285365, -42768.66447923256, -35006.928141049095, -37938.18424647396, -43919.99687228341, -35310.966617633836, -38270.32598375795, -37074.00515619206, -38223.01998158317, -35422.31981738682, -39445.341287302996, -47392.85841900257, -26582.564316803408, -43333.02766900265, -50742.21046550531, -33755.07945428866, -40420.65738734571, -35376.263164953016, -51089.66998429248, -31681.79713433682, -33352.55904186995, -36771.13695866821, -34503.690724411725, -49434.1495947632, -18127.76764860281, -45972.235513718086, -36989.96842107536, -30693.346671835552, -38356.69137549508, -40638.038066637906, -51025.42304728875, -24026.09560641653, -46492.28256053272, -19264.140585706864, -41320.71518985104, -40962.42036777485, -17931.090906874753, -41983.15055330633, -37805.04837925345, -46740.03893450649, -42116.104485066215, -26981.35621638957, -50982.086899037415, -36568.76063935559, -37472.15451237072, -36168.421022623246, -29100.08398421273]}, {\"fill\": \"tonexty\", \"type\": \"scatter\", \"x\": [\"2013-11-30T00:00:00\", \"2013-12-31T00:00:00\", \"2014-01-31T00:00:00\", \"2014-02-28T00:00:00\", \"2014-03-31T00:00:00\", \"2014-04-30T00:00:00\", \"2014-05-31T00:00:00\", \"2014-06-30T00:00:00\", \"2014-07-31T00:00:00\", \"2014-08-31T00:00:00\", \"2014-09-30T00:00:00\", \"2014-10-31T00:00:00\", \"2014-11-30T00:00:00\", \"2014-12-31T00:00:00\", \"2015-01-31T00:00:00\", \"2015-02-28T00:00:00\", \"2015-03-31T00:00:00\", \"2015-04-30T00:00:00\", \"2015-05-31T00:00:00\", \"2015-06-30T00:00:00\", \"2015-07-31T00:00:00\", \"2015-08-31T00:00:00\", \"2015-09-30T00:00:00\", \"2015-10-31T00:00:00\", \"2015-11-30T00:00:00\", \"2015-12-31T00:00:00\", \"2016-01-31T00:00:00\", \"2016-02-29T00:00:00\", \"2016-03-31T00:00:00\", \"2016-04-30T00:00:00\", \"2016-05-31T00:00:00\", \"2016-06-30T00:00:00\", \"2016-07-31T00:00:00\", \"2016-08-31T00:00:00\", \"2016-09-30T00:00:00\", \"2016-10-31T00:00:00\", \"2016-11-30T00:00:00\", \"2016-12-31T00:00:00\", \"2017-01-31T00:00:00\", \"2017-02-28T00:00:00\", \"2017-03-31T00:00:00\", \"2017-04-30T00:00:00\", \"2017-05-31T00:00:00\", \"2017-06-30T00:00:00\", \"2017-07-31T00:00:00\", \"2017-08-31T00:00:00\", \"2017-09-30T00:00:00\", \"2017-10-31T00:00:00\", \"2017-11-30T00:00:00\", \"2017-12-31T00:00:00\", \"2018-01-31T00:00:00\", \"2018-02-28T00:00:00\", \"2018-03-31T00:00:00\", \"2018-04-30T00:00:00\", \"2018-05-31T00:00:00\", \"2018-06-30T00:00:00\", \"2018-08-31T00:00:00\", \"2018-09-30T00:00:00\", \"2018-11-30T00:00:00\", \"2018-12-31T00:00:00\", \"2019-01-31T00:00:00\", \"2019-02-28T00:00:00\", \"2019-03-31T00:00:00\", \"2019-05-31T00:00:00\", \"2019-06-30T00:00:00\", \"2019-07-31T00:00:00\", \"2019-08-31T00:00:00\", \"2019-09-30T00:00:00\", \"2019-10-31T00:00:00\", \"2019-11-30T00:00:00\", \"2019-12-31T00:00:00\", \"2020-01-31T00:00:00\", \"2020-02-29T00:00:00\", \"2020-03-31T00:00:00\", \"2020-04-30T00:00:00\", \"2020-05-31T00:00:00\", \"2020-06-30T00:00:00\", \"2020-07-31T00:00:00\", \"2020-08-31T00:00:00\", \"2020-09-30T00:00:00\", \"2020-10-31T00:00:00\", \"2020-11-30T00:00:00\"], \"y\": [35343.551761662624, 42142.854471112405, 41217.754925612375, 39162.53292342872, 36827.03301653389, 39685.90162401076, 44439.70267041948, 34158.13119681798, 37459.03378031263, 43390.137419002145, 42328.7960482235, 34822.2987687564, 32952.56048798312, 48336.5657164617, 36742.75230618003, 32258.56393841993, 46109.88607300647, 38637.60161040247, 36944.197293136174, 44285.53126689292, 34185.57413745418, 38217.53252123605, 43745.21239462512, 35524.27070086966, 34929.02235013741, 43730.54955363413, 37251.79408953379, 33072.670939923955, 44629.468500532814, 33729.610148595304, 38194.34861860393, 42206.760654716185, 36252.98642291552, 37606.04214845095, 42198.10533931722, 39849.18165412837, 33803.25995544579, 41552.10797585017, 38608.67743911088, 32615.357297747476, 41213.50377809786, 38243.8446264786, 39430.41299639371, 38272.15917892479, 41064.102493044884, 37032.777298787805, 29077.38265311038, 49880.20045268868, 33122.63876127449, 25706.713943670136, 42687.43907578965, 36015.772578434626, 41054.37796443675, 25335.465591826207, 44738.10077997148, 43062.35468281656, 39639.03252830909, 41901.961788676264, 26967.20129142871, 58269.48575650176, 30421.114019701752, 39399.66093185883, 45692.73684910392, 38026.01185551607, 35741.44211032201, 25350.98347236096, 52347.379250000966, 29878.395632324417, 57103.86933104809, 35044.74858413444, 35400.61347842134, 58429.623623251246, 34375.3499651122, 38551.33840255042, 29614.32961802873, 34236.33682391104, 49369.244544863395, 25366.755938826565, 39778.40303385195, 38873.405083549515, 40175.60609536105, 47242.47894032602]}, {\"type\": \"scatter\", \"x\": [\"2012-11-30T00:00:00\", \"2012-12-31T00:00:00\", \"2013-01-31T00:00:00\", \"2013-02-28T00:00:00\", \"2013-03-31T00:00:00\", \"2013-04-30T00:00:00\", \"2013-05-31T00:00:00\", \"2013-06-30T00:00:00\", \"2013-07-31T00:00:00\", \"2013-08-31T00:00:00\", \"2013-09-30T00:00:00\", \"2013-10-31T00:00:00\", \"2013-11-30T00:00:00\", \"2013-12-31T00:00:00\", \"2014-01-31T00:00:00\", \"2014-02-28T00:00:00\", \"2014-03-31T00:00:00\", \"2014-04-30T00:00:00\", \"2014-05-31T00:00:00\", \"2014-06-30T00:00:00\", \"2014-07-31T00:00:00\", \"2014-08-31T00:00:00\", \"2014-09-30T00:00:00\", \"2014-10-31T00:00:00\", \"2014-11-30T00:00:00\", \"2014-12-31T00:00:00\", \"2015-01-31T00:00:00\", \"2015-02-28T00:00:00\", \"2015-03-31T00:00:00\", \"2015-04-30T00:00:00\", \"2015-05-31T00:00:00\", \"2015-06-30T00:00:00\", \"2015-07-31T00:00:00\", \"2015-08-31T00:00:00\", \"2015-09-30T00:00:00\", \"2015-10-31T00:00:00\", \"2015-11-30T00:00:00\", \"2015-12-31T00:00:00\", \"2016-01-31T00:00:00\", \"2016-02-29T00:00:00\", \"2016-03-31T00:00:00\", \"2016-04-30T00:00:00\", \"2016-05-31T00:00:00\", \"2016-06-30T00:00:00\", \"2016-07-31T00:00:00\", \"2016-08-31T00:00:00\", \"2016-09-30T00:00:00\", \"2016-10-31T00:00:00\", \"2016-11-30T00:00:00\", \"2016-12-31T00:00:00\", \"2017-01-31T00:00:00\", \"2017-02-28T00:00:00\", \"2017-03-31T00:00:00\", \"2017-04-30T00:00:00\", \"2017-05-31T00:00:00\", \"2017-06-30T00:00:00\", \"2017-07-31T00:00:00\", \"2017-08-31T00:00:00\", \"2017-09-30T00:00:00\", \"2017-10-31T00:00:00\", \"2017-11-30T00:00:00\", \"2017-12-31T00:00:00\", \"2018-01-31T00:00:00\", \"2018-02-28T00:00:00\", \"2018-03-31T00:00:00\", \"2018-04-30T00:00:00\", \"2018-05-31T00:00:00\", \"2018-06-30T00:00:00\", \"2018-08-31T00:00:00\", \"2018-09-30T00:00:00\", \"2018-11-30T00:00:00\", \"2018-12-31T00:00:00\", \"2019-01-31T00:00:00\", \"2019-02-28T00:00:00\", \"2019-03-31T00:00:00\", \"2019-05-31T00:00:00\", \"2019-06-30T00:00:00\", \"2019-07-31T00:00:00\", \"2019-08-31T00:00:00\", \"2019-09-30T00:00:00\", \"2019-10-31T00:00:00\", \"2019-11-30T00:00:00\", \"2019-12-31T00:00:00\", \"2020-01-31T00:00:00\", \"2020-02-29T00:00:00\", \"2020-03-31T00:00:00\", \"2020-04-30T00:00:00\", \"2020-05-31T00:00:00\", \"2020-06-30T00:00:00\", \"2020-07-31T00:00:00\", \"2020-08-31T00:00:00\", \"2020-09-30T00:00:00\", \"2020-10-31T00:00:00\", \"2020-11-30T00:00:00\"], \"y\": [3077.0, -2589.0, 14999.0, -8101.0, 3131.0, -10346.0, 8583.0, -4904.0, -1182.0, 4960.0, -1607.0, -869.0, -3659.0, 12300.0, 110.0, -14001.0, 2798.0, 6481.0, 6929.0, -14946.0, 6931.0, 13926.0, -12477.0, -3958.0, 4573.0, -8648.0, 5669.0, -280.0, -8742.0, 7961.0, 1219.0, -5867.0, -1747.0, 13661.0, -11211.0, 7669.0, 461.0, -5901.0, 6814.0, 182.0, -5811.0, -3179.0, 2428.6659999999993, -4969.665999999999, -541.0, 15354.0, -4748.0, -625.0, -1834.0, -4023.0, 2097.0, -2250.0, 7288.0, -11699.0, 9590.0, 28643.0, -25398.0, 11607.0, 10971.0, 28648.0, -4523.0, -26061.0, 13638.0, -13771.0, 29956.0, -22912.0, 9291.0, 1000.0, -41722.0, 24576.0, -2493.0, 44636.0, -37078.0, 18631.0, -16171.0, 3338.0, 4004.0, -51419.0, 7477.0, 5624.0, 869.0, 4889.0, -8512.0, 34054.0, 8494.0, -34406.0, 94.0, -17444.0, 57825.0, -7782.0, -8327.0, -18803.0, 424.0, -23707.0]}],\n",
              "                        {\"legend\": {\"tracegroupgap\": 0}, \"margin\": {\"t\": 60}, \"template\": {\"data\": {\"bar\": [{\"error_x\": {\"color\": \"#2a3f5f\"}, \"error_y\": {\"color\": \"#2a3f5f\"}, \"marker\": {\"line\": {\"color\": \"#E5ECF6\", \"width\": 0.5}}, \"type\": \"bar\"}], \"barpolar\": [{\"marker\": {\"line\": {\"color\": \"#E5ECF6\", \"width\": 0.5}}, \"type\": \"barpolar\"}], \"carpet\": [{\"aaxis\": {\"endlinecolor\": \"#2a3f5f\", \"gridcolor\": \"white\", \"linecolor\": \"white\", \"minorgridcolor\": \"white\", \"startlinecolor\": \"#2a3f5f\"}, \"baxis\": {\"endlinecolor\": \"#2a3f5f\", \"gridcolor\": \"white\", \"linecolor\": \"white\", \"minorgridcolor\": \"white\", \"startlinecolor\": \"#2a3f5f\"}, \"type\": \"carpet\"}], \"choropleth\": [{\"colorbar\": {\"outlinewidth\": 0, \"ticks\": \"\"}, \"type\": \"choropleth\"}], \"contour\": [{\"colorbar\": {\"outlinewidth\": 0, \"ticks\": \"\"}, \"colorscale\": [[0.0, \"#0d0887\"], [0.1111111111111111, \"#46039f\"], [0.2222222222222222, \"#7201a8\"], [0.3333333333333333, \"#9c179e\"], [0.4444444444444444, \"#bd3786\"], [0.5555555555555556, \"#d8576b\"], [0.6666666666666666, \"#ed7953\"], [0.7777777777777778, \"#fb9f3a\"], [0.8888888888888888, \"#fdca26\"], [1.0, \"#f0f921\"]], \"type\": \"contour\"}], \"contourcarpet\": [{\"colorbar\": {\"outlinewidth\": 0, \"ticks\": \"\"}, \"type\": \"contourcarpet\"}], \"heatmap\": [{\"colorbar\": {\"outlinewidth\": 0, \"ticks\": \"\"}, \"colorscale\": [[0.0, \"#0d0887\"], [0.1111111111111111, \"#46039f\"], [0.2222222222222222, \"#7201a8\"], [0.3333333333333333, \"#9c179e\"], [0.4444444444444444, \"#bd3786\"], [0.5555555555555556, \"#d8576b\"], [0.6666666666666666, \"#ed7953\"], [0.7777777777777778, \"#fb9f3a\"], [0.8888888888888888, \"#fdca26\"], [1.0, \"#f0f921\"]], \"type\": \"heatmap\"}], \"heatmapgl\": [{\"colorbar\": {\"outlinewidth\": 0, \"ticks\": \"\"}, \"colorscale\": [[0.0, \"#0d0887\"], [0.1111111111111111, \"#46039f\"], [0.2222222222222222, \"#7201a8\"], [0.3333333333333333, \"#9c179e\"], [0.4444444444444444, \"#bd3786\"], [0.5555555555555556, \"#d8576b\"], [0.6666666666666666, \"#ed7953\"], [0.7777777777777778, \"#fb9f3a\"], [0.8888888888888888, \"#fdca26\"], [1.0, \"#f0f921\"]], \"type\": \"heatmapgl\"}], \"histogram\": [{\"marker\": {\"colorbar\": {\"outlinewidth\": 0, \"ticks\": \"\"}}, \"type\": \"histogram\"}], \"histogram2d\": [{\"colorbar\": {\"outlinewidth\": 0, \"ticks\": \"\"}, \"colorscale\": [[0.0, \"#0d0887\"], [0.1111111111111111, \"#46039f\"], [0.2222222222222222, \"#7201a8\"], [0.3333333333333333, \"#9c179e\"], [0.4444444444444444, \"#bd3786\"], [0.5555555555555556, \"#d8576b\"], [0.6666666666666666, \"#ed7953\"], [0.7777777777777778, \"#fb9f3a\"], [0.8888888888888888, \"#fdca26\"], [1.0, \"#f0f921\"]], \"type\": \"histogram2d\"}], \"histogram2dcontour\": [{\"colorbar\": {\"outlinewidth\": 0, \"ticks\": \"\"}, \"colorscale\": [[0.0, \"#0d0887\"], [0.1111111111111111, \"#46039f\"], [0.2222222222222222, \"#7201a8\"], [0.3333333333333333, \"#9c179e\"], [0.4444444444444444, \"#bd3786\"], [0.5555555555555556, \"#d8576b\"], [0.6666666666666666, \"#ed7953\"], [0.7777777777777778, \"#fb9f3a\"], [0.8888888888888888, \"#fdca26\"], [1.0, \"#f0f921\"]], \"type\": \"histogram2dcontour\"}], \"mesh3d\": [{\"colorbar\": {\"outlinewidth\": 0, \"ticks\": \"\"}, \"type\": \"mesh3d\"}], \"parcoords\": [{\"line\": {\"colorbar\": {\"outlinewidth\": 0, \"ticks\": \"\"}}, \"type\": \"parcoords\"}], \"pie\": [{\"automargin\": true, \"type\": \"pie\"}], \"scatter\": [{\"marker\": {\"colorbar\": {\"outlinewidth\": 0, \"ticks\": \"\"}}, \"type\": \"scatter\"}], \"scatter3d\": [{\"line\": {\"colorbar\": {\"outlinewidth\": 0, \"ticks\": \"\"}}, \"marker\": {\"colorbar\": {\"outlinewidth\": 0, \"ticks\": \"\"}}, \"type\": \"scatter3d\"}], \"scattercarpet\": [{\"marker\": {\"colorbar\": {\"outlinewidth\": 0, \"ticks\": \"\"}}, \"type\": \"scattercarpet\"}], \"scattergeo\": [{\"marker\": {\"colorbar\": {\"outlinewidth\": 0, \"ticks\": \"\"}}, \"type\": \"scattergeo\"}], \"scattergl\": [{\"marker\": {\"colorbar\": {\"outlinewidth\": 0, \"ticks\": \"\"}}, \"type\": \"scattergl\"}], \"scattermapbox\": [{\"marker\": {\"colorbar\": {\"outlinewidth\": 0, \"ticks\": \"\"}}, \"type\": \"scattermapbox\"}], \"scatterpolar\": [{\"marker\": {\"colorbar\": {\"outlinewidth\": 0, \"ticks\": \"\"}}, \"type\": \"scatterpolar\"}], \"scatterpolargl\": [{\"marker\": {\"colorbar\": {\"outlinewidth\": 0, \"ticks\": \"\"}}, \"type\": \"scatterpolargl\"}], \"scatterternary\": [{\"marker\": {\"colorbar\": {\"outlinewidth\": 0, \"ticks\": \"\"}}, \"type\": \"scatterternary\"}], \"surface\": [{\"colorbar\": {\"outlinewidth\": 0, \"ticks\": \"\"}, \"colorscale\": [[0.0, \"#0d0887\"], [0.1111111111111111, \"#46039f\"], [0.2222222222222222, \"#7201a8\"], [0.3333333333333333, \"#9c179e\"], [0.4444444444444444, \"#bd3786\"], [0.5555555555555556, \"#d8576b\"], [0.6666666666666666, \"#ed7953\"], [0.7777777777777778, \"#fb9f3a\"], [0.8888888888888888, \"#fdca26\"], [1.0, \"#f0f921\"]], \"type\": \"surface\"}], \"table\": [{\"cells\": {\"fill\": {\"color\": \"#EBF0F8\"}, \"line\": {\"color\": \"white\"}}, \"header\": {\"fill\": {\"color\": \"#C8D4E3\"}, \"line\": {\"color\": \"white\"}}, \"type\": \"table\"}]}, \"layout\": {\"annotationdefaults\": {\"arrowcolor\": \"#2a3f5f\", \"arrowhead\": 0, \"arrowwidth\": 1}, \"coloraxis\": {\"colorbar\": {\"outlinewidth\": 0, \"ticks\": \"\"}}, \"colorscale\": {\"diverging\": [[0, \"#8e0152\"], [0.1, \"#c51b7d\"], [0.2, \"#de77ae\"], [0.3, \"#f1b6da\"], [0.4, \"#fde0ef\"], [0.5, \"#f7f7f7\"], [0.6, \"#e6f5d0\"], [0.7, \"#b8e186\"], [0.8, \"#7fbc41\"], [0.9, \"#4d9221\"], [1, \"#276419\"]], \"sequential\": [[0.0, \"#0d0887\"], [0.1111111111111111, \"#46039f\"], [0.2222222222222222, \"#7201a8\"], [0.3333333333333333, \"#9c179e\"], [0.4444444444444444, \"#bd3786\"], [0.5555555555555556, \"#d8576b\"], [0.6666666666666666, \"#ed7953\"], [0.7777777777777778, \"#fb9f3a\"], [0.8888888888888888, \"#fdca26\"], [1.0, \"#f0f921\"]], \"sequentialminus\": [[0.0, \"#0d0887\"], [0.1111111111111111, \"#46039f\"], [0.2222222222222222, \"#7201a8\"], [0.3333333333333333, \"#9c179e\"], [0.4444444444444444, \"#bd3786\"], [0.5555555555555556, \"#d8576b\"], [0.6666666666666666, \"#ed7953\"], [0.7777777777777778, \"#fb9f3a\"], [0.8888888888888888, \"#fdca26\"], [1.0, \"#f0f921\"]]}, \"colorway\": [\"#636efa\", \"#EF553B\", \"#00cc96\", \"#ab63fa\", \"#FFA15A\", \"#19d3f3\", \"#FF6692\", \"#B6E880\", \"#FF97FF\", \"#FECB52\"], \"font\": {\"color\": \"#2a3f5f\"}, \"geo\": {\"bgcolor\": \"white\", \"lakecolor\": \"white\", \"landcolor\": \"#E5ECF6\", \"showlakes\": true, \"showland\": true, \"subunitcolor\": \"white\"}, \"hoverlabel\": {\"align\": \"left\"}, \"hovermode\": \"closest\", \"mapbox\": {\"style\": \"light\"}, \"paper_bgcolor\": \"white\", \"plot_bgcolor\": \"#E5ECF6\", \"polar\": {\"angularaxis\": {\"gridcolor\": \"white\", \"linecolor\": \"white\", \"ticks\": \"\"}, \"bgcolor\": \"#E5ECF6\", \"radialaxis\": {\"gridcolor\": \"white\", \"linecolor\": \"white\", \"ticks\": \"\"}}, \"scene\": {\"xaxis\": {\"backgroundcolor\": \"#E5ECF6\", \"gridcolor\": \"white\", \"gridwidth\": 2, \"linecolor\": \"white\", \"showbackground\": true, \"ticks\": \"\", \"zerolinecolor\": \"white\"}, \"yaxis\": {\"backgroundcolor\": \"#E5ECF6\", \"gridcolor\": \"white\", \"gridwidth\": 2, \"linecolor\": \"white\", \"showbackground\": true, \"ticks\": \"\", \"zerolinecolor\": \"white\"}, \"zaxis\": {\"backgroundcolor\": \"#E5ECF6\", \"gridcolor\": \"white\", \"gridwidth\": 2, \"linecolor\": \"white\", \"showbackground\": true, \"ticks\": \"\", \"zerolinecolor\": \"white\"}}, \"shapedefaults\": {\"line\": {\"color\": \"#2a3f5f\"}}, \"ternary\": {\"aaxis\": {\"gridcolor\": \"white\", \"linecolor\": \"white\", \"ticks\": \"\"}, \"baxis\": {\"gridcolor\": \"white\", \"linecolor\": \"white\", \"ticks\": \"\"}, \"bgcolor\": \"#E5ECF6\", \"caxis\": {\"gridcolor\": \"white\", \"linecolor\": \"white\", \"ticks\": \"\"}}, \"title\": {\"x\": 0.05}, \"xaxis\": {\"automargin\": true, \"gridcolor\": \"white\", \"linecolor\": \"white\", \"ticks\": \"\", \"title\": {\"standoff\": 15}, \"zerolinecolor\": \"white\", \"zerolinewidth\": 2}, \"yaxis\": {\"automargin\": true, \"gridcolor\": \"white\", \"linecolor\": \"white\", \"ticks\": \"\", \"title\": {\"standoff\": 15}, \"zerolinecolor\": \"white\", \"zerolinewidth\": 2}}}, \"xaxis\": {\"anchor\": \"y\", \"domain\": [0.0, 1.0], \"title\": {\"text\": \"x\"}}, \"yaxis\": {\"anchor\": \"x\", \"domain\": [0.0, 1.0], \"title\": {\"text\": \"cases\"}}},\n",
              "                        {\"responsive\": true}\n",
              "                    ).then(function(){\n",
              "                            \n",
              "var gd = document.getElementById('5d3a0d9c-3cfb-43d0-8c5a-d119918b1d6b');\n",
              "var x = new MutationObserver(function (mutations, observer) {{\n",
              "        var display = window.getComputedStyle(gd).display;\n",
              "        if (!display || display === 'none') {{\n",
              "            console.log([gd, 'removed!']);\n",
              "            Plotly.purge(gd);\n",
              "            observer.disconnect();\n",
              "        }}\n",
              "}});\n",
              "\n",
              "// Listen for the removal of the full notebook cells\n",
              "var notebookContainer = gd.closest('#notebook-container');\n",
              "if (notebookContainer) {{\n",
              "    x.observe(notebookContainer, {childList: true});\n",
              "}}\n",
              "\n",
              "// Listen for the clearing of the current output cell\n",
              "var outputEl = gd.closest('.output');\n",
              "if (outputEl) {{\n",
              "    x.observe(outputEl, {childList: true});\n",
              "}}\n",
              "\n",
              "                        })\n",
              "                };\n",
              "                \n",
              "            </script>\n",
              "        </div>\n",
              "</body>\n",
              "</html>"
            ]
          },
          "metadata": {
            "tags": []
          }
        }
      ]
    },
    {
      "cell_type": "code",
      "metadata": {
        "id": "AYU-Wp4bMh9K"
      },
      "source": [
        "fig2=px.area(cint,x=cint.index,y='lower y')\n",
        "fig2.add_scatter(x=cint.index,y=cint['upper y'])"
      ],
      "execution_count": null,
      "outputs": []
    },
    {
      "cell_type": "code",
      "metadata": {
        "id": "6OD9iEvJMh9Z",
        "outputId": "2fc65bdd-0a65-46fe-b52a-99c4db5e8a64",
        "colab": {
          "base_uri": "https://localhost:8080/",
          "height": 785
        }
      },
      "source": [
        "kk=mod1.plot_diagnostics()\n",
        "kk.set_size_inches(15,13)\n",
        "#tls.mpl_to_plotly(kk)"
      ],
      "execution_count": null,
      "outputs": [
        {
          "output_type": "display_data",
          "data": {
            "image/png": "[encoded data removed]",
            "text/plain": [
              "<Figure size 1080x936 with 4 Axes>"
            ]
          },
          "metadata": {
            "tags": [],
            "needs_background": "light"
          }
        }
      ]
    },
    {
      "cell_type": "code",
      "metadata": {
        "id": "oLUfGE_ZMh8y",
        "outputId": "28fbc31c-a40b-4548-a313-8154cb07ff7c",
        "colab": {
          "base_uri": "https://localhost:8080/",
          "height": 235
        }
      },
      "source": [
        "mod.get_forecast(6).conf_int()"
      ],
      "execution_count": null,
      "outputs": [
        {
          "output_type": "execute_result",
          "data": {
            "text/html": [
              "<div>\n",
              "<style scoped>\n",
              "    .dataframe tbody tr th:only-of-type {\n",
              "        vertical-align: middle;\n",
              "    }\n",
              "\n",
              "    .dataframe tbody tr th {\n",
              "        vertical-align: top;\n",
              "    }\n",
              "\n",
              "    .dataframe thead th {\n",
              "        text-align: right;\n",
              "    }\n",
              "</style>\n",
              "<table border=\"1\" class=\"dataframe\">\n",
              "  <thead>\n",
              "    <tr style=\"text-align: right;\">\n",
              "      <th></th>\n",
              "      <th>lower cases</th>\n",
              "      <th>upper cases</th>\n",
              "    </tr>\n",
              "  </thead>\n",
              "  <tbody>\n",
              "    <tr>\n",
              "      <th>93</th>\n",
              "      <td>-15699.988162</td>\n",
              "      <td>41292.435638</td>\n",
              "    </tr>\n",
              "    <tr>\n",
              "      <th>94</th>\n",
              "      <td>-46756.966589</td>\n",
              "      <td>16665.465272</td>\n",
              "    </tr>\n",
              "    <tr>\n",
              "      <th>95</th>\n",
              "      <td>-29071.925267</td>\n",
              "      <td>34350.506594</td>\n",
              "    </tr>\n",
              "    <tr>\n",
              "      <th>96</th>\n",
              "      <td>-33558.716445</td>\n",
              "      <td>32006.382284</td>\n",
              "    </tr>\n",
              "    <tr>\n",
              "      <th>97</th>\n",
              "      <td>-21968.040161</td>\n",
              "      <td>44097.556789</td>\n",
              "    </tr>\n",
              "    <tr>\n",
              "      <th>98</th>\n",
              "      <td>-33953.215027</td>\n",
              "      <td>32112.381924</td>\n",
              "    </tr>\n",
              "  </tbody>\n",
              "</table>\n",
              "</div>"
            ],
            "text/plain": [
              "     lower cases   upper cases\n",
              "93 -15699.988162  41292.435638\n",
              "94 -46756.966589  16665.465272\n",
              "95 -29071.925267  34350.506594\n",
              "96 -33558.716445  32006.382284\n",
              "97 -21968.040161  44097.556789\n",
              "98 -33953.215027  32112.381924"
            ]
          },
          "metadata": {
            "tags": []
          },
          "execution_count": 65
        }
      ]
    },
    {
      "cell_type": "code",
      "metadata": {
        "id": "H5y9FkeXMh8u"
      },
      "source": [
        "ff = pd.DataFrame.from_dict(data=fore,orient='index',columns=[\"pred\"])\n",
        "#pre1 = inv_boxcox(mod.get_forecast(6).predicted_mean,fitted_lambda)-1\n",
        "#pre1=pd.DataFrame(pre1)\n",
        "#pre1.rename(columns={0:\"pred\"},inplace=True)\n",
        "#ff=ff.append(pre1)"
      ],
      "execution_count": null,
      "outputs": []
    },
    {
      "cell_type": "code",
      "metadata": {
        "id": "txr3qwomMh8X",
        "outputId": "ceea6e92-225b-4022-e11e-a22b74ca228d",
        "colab": {
          "base_uri": "https://localhost:8080/",
          "height": 205
        }
      },
      "source": [
        "from scipy.stats import boxcox\n",
        "from scipy.special import inv_boxcox\n",
        "df3,fitted_lambda= boxcox(df1['Qty']+1,lmbda=None)"
      ],
      "execution_count": null,
      "outputs": [
        {
          "output_type": "error",
          "ename": "NameError",
          "evalue": "ignored",
          "traceback": [
            "\u001b[0;31m---------------------------------------------------------------------------\u001b[0m",
            "\u001b[0;31mNameError\u001b[0m                                 Traceback (most recent call last)",
            "\u001b[0;32m<ipython-input-34-fc86d63e5534>\u001b[0m in \u001b[0;36m<module>\u001b[0;34m()\u001b[0m\n\u001b[1;32m      1\u001b[0m \u001b[0;32mfrom\u001b[0m \u001b[0mscipy\u001b[0m\u001b[0;34m.\u001b[0m\u001b[0mstats\u001b[0m \u001b[0;32mimport\u001b[0m \u001b[0mboxcox\u001b[0m\u001b[0;34m\u001b[0m\u001b[0;34m\u001b[0m\u001b[0m\n\u001b[1;32m      2\u001b[0m \u001b[0;32mfrom\u001b[0m \u001b[0mscipy\u001b[0m\u001b[0;34m.\u001b[0m\u001b[0mspecial\u001b[0m \u001b[0;32mimport\u001b[0m \u001b[0minv_boxcox\u001b[0m\u001b[0;34m\u001b[0m\u001b[0;34m\u001b[0m\u001b[0m\n\u001b[0;32m----> 3\u001b[0;31m \u001b[0mdf3\u001b[0m\u001b[0;34m,\u001b[0m\u001b[0mfitted_lambda\u001b[0m\u001b[0;34m=\u001b[0m \u001b[0mboxcox\u001b[0m\u001b[0;34m(\u001b[0m\u001b[0mdf1\u001b[0m\u001b[0;34m[\u001b[0m\u001b[0;34m'Qty'\u001b[0m\u001b[0;34m]\u001b[0m\u001b[0;34m+\u001b[0m\u001b[0;36m1\u001b[0m\u001b[0;34m,\u001b[0m\u001b[0mlmbda\u001b[0m\u001b[0;34m=\u001b[0m\u001b[0;32mNone\u001b[0m\u001b[0;34m)\u001b[0m\u001b[0;34m\u001b[0m\u001b[0;34m\u001b[0m\u001b[0m\n\u001b[0m",
            "\u001b[0;31mNameError\u001b[0m: name 'df1' is not defined"
          ]
        }
      ]
    },
    {
      "cell_type": "code",
      "metadata": {
        "id": "qSa7iF9HMh8H"
      },
      "source": [
        "def evaluate_arima_model(X, arima_order,s_order):\n",
        "    splits = TimeSeriesSplit(n_splits=3)\n",
        "    error=[]\n",
        "    # make predictions\n",
        "    for train_index, test_index in splits.split(X):\n",
        "        train = X.values[train_index]\n",
        "        test = X.values[test_index]\n",
        "        model = SARIMAX(train, order=arima_order,seasonal_order=s_order)\n",
        "        model_fit = model.fit(disp=0)\n",
        "        yhat = model_fit.predict(start=len(train), end=len(train)+len(test)-1, dynamic=False)\n",
        "        error.append(rmse(test.T[0], yhat))\n",
        "    return np.asarray(error).mean()\n",
        " \n",
        "# evaluate combinations of p, d and q values for an ARIMA model\n",
        "def evaluate_models(dataset, p_values, d_values, q_values, m):\n",
        "    dataset = dataset.astype('float32')\n",
        "    best_score, best_cfg = float(\"inf\"), None\n",
        "    for p in p_values:\n",
        "        for d in d_values:\n",
        "            for q in q_values:\n",
        "                for P in p_values:\n",
        "                    for D in d_values:\n",
        "                        for Q in q_values:\n",
        "                            order = (p,d,q)\n",
        "                            s_order = (P,D,Q,m)\n",
        "                            try:\n",
        "                                mse = evaluate_arima_model(dataset, order,s_order)\n",
        "                                if mse < best_score:\n",
        "                                    best_score, best_cfg = mse, (order,s_order)\n",
        "                                print('SARIMA%sx%s RMSE=%.3f' % (order,s_order,mse))\n",
        "                            except:\n",
        "                                continue\n",
        "    print('Best SARIMA %s RMSE=%.3f' % (best_cfg, best_score))"
      ],
      "execution_count": null,
      "outputs": []
    },
    {
      "cell_type": "code",
      "metadata": {
        "collapsed": true,
        "jupyter": {
          "outputs_hidden": true
        },
        "id": "bTPPRkBDMh8P",
        "outputId": "c0b1e770-7a12-423f-f8c1-6996c6943ffb"
      },
      "source": [
        "p_values = [0,1,2,3,4]\n",
        "d_values = range(0, 2)\n",
        "q_values = range(0, 4)\n",
        "evaluate_models(df1, p_values, d_values, q_values,12)"
      ],
      "execution_count": null,
      "outputs": [
        {
          "output_type": "stream",
          "text": [
            "SARIMA(0, 0, 0)x(0, 0, 0, 12) RMSE=1716.003\n",
            "SARIMA(0, 0, 0)x(0, 0, 1, 12) RMSE=1554.912\n",
            "SARIMA(0, 0, 0)x(0, 0, 2, 12) RMSE=1437.645\n",
            "SARIMA(0, 0, 0)x(0, 0, 3, 12) RMSE=1374.687\n",
            "SARIMA(0, 0, 0)x(0, 1, 0, 12) RMSE=1177.831\n",
            "SARIMA(0, 0, 0)x(0, 1, 1, 12) RMSE=1152.103\n",
            "SARIMA(0, 0, 0)x(0, 1, 2, 12) RMSE=1182.464\n",
            "SARIMA(0, 0, 0)x(0, 1, 3, 12) RMSE=1179.829\n",
            "SARIMA(0, 0, 0)x(1, 0, 0, 12) RMSE=1241.914\n",
            "SARIMA(0, 0, 0)x(1, 0, 1, 12) RMSE=1274.391\n",
            "SARIMA(0, 0, 0)x(1, 0, 2, 12) RMSE=1312.642\n",
            "SARIMA(0, 0, 0)x(1, 0, 3, 12) RMSE=1308.297\n",
            "SARIMA(0, 0, 0)x(1, 1, 0, 12) RMSE=1181.554\n",
            "SARIMA(0, 0, 0)x(1, 1, 1, 12) RMSE=1197.323\n",
            "SARIMA(0, 0, 0)x(1, 1, 2, 12) RMSE=1199.893\n",
            "SARIMA(0, 0, 0)x(1, 1, 3, 12) RMSE=1179.862\n",
            "SARIMA(0, 0, 0)x(2, 0, 0, 12) RMSE=1341.675\n",
            "SARIMA(0, 0, 0)x(2, 0, 1, 12) RMSE=1317.626\n",
            "SARIMA(0, 0, 0)x(2, 0, 2, 12) RMSE=1327.595\n",
            "SARIMA(0, 0, 0)x(2, 0, 3, 12) RMSE=1325.177\n",
            "SARIMA(0, 0, 0)x(2, 1, 0, 12) RMSE=1192.402\n",
            "SARIMA(0, 0, 0)x(2, 1, 1, 12) RMSE=1184.396\n",
            "SARIMA(0, 0, 0)x(2, 1, 2, 12) RMSE=1193.890\n",
            "SARIMA(0, 0, 0)x(2, 1, 3, 12) RMSE=1187.288\n",
            "SARIMA(0, 0, 0)x(3, 0, 0, 12) RMSE=1336.441\n",
            "SARIMA(0, 0, 0)x(3, 0, 1, 12) RMSE=1316.053\n",
            "SARIMA(0, 0, 0)x(3, 0, 2, 12) RMSE=1325.511\n",
            "SARIMA(0, 0, 0)x(3, 0, 3, 12) RMSE=1319.261\n",
            "SARIMA(0, 0, 0)x(3, 1, 0, 12) RMSE=1190.112\n",
            "SARIMA(0, 0, 0)x(3, 1, 1, 12) RMSE=1186.491\n",
            "SARIMA(0, 0, 0)x(3, 1, 2, 12) RMSE=1184.977\n",
            "SARIMA(0, 0, 0)x(3, 1, 3, 12) RMSE=1192.787\n",
            "SARIMA(0, 0, 0)x(4, 0, 0, 12) RMSE=1318.575\n",
            "SARIMA(0, 0, 0)x(4, 0, 1, 12) RMSE=1315.740\n",
            "SARIMA(0, 0, 0)x(4, 0, 2, 12) RMSE=1318.919\n",
            "SARIMA(0, 0, 0)x(4, 0, 3, 12) RMSE=1316.773\n",
            "SARIMA(0, 0, 0)x(4, 1, 0, 12) RMSE=1189.137\n",
            "SARIMA(0, 0, 0)x(4, 1, 1, 12) RMSE=1190.255\n",
            "SARIMA(0, 0, 0)x(4, 1, 2, 12) RMSE=1195.563\n",
            "SARIMA(0, 0, 0)x(4, 1, 3, 12) RMSE=1181.864\n",
            "SARIMA(0, 0, 1)x(0, 0, 0, 12) RMSE=1721.961\n",
            "SARIMA(0, 0, 1)x(0, 0, 1, 12) RMSE=1616.947\n",
            "SARIMA(0, 0, 1)x(0, 0, 2, 12) RMSE=1498.164\n",
            "SARIMA(0, 0, 1)x(0, 0, 3, 12) RMSE=1388.356\n",
            "SARIMA(0, 0, 1)x(0, 1, 0, 12) RMSE=1175.561\n",
            "SARIMA(0, 0, 1)x(0, 1, 1, 12) RMSE=1143.423\n",
            "SARIMA(0, 0, 1)x(0, 1, 2, 12) RMSE=1176.175\n",
            "SARIMA(0, 0, 1)x(0, 1, 3, 12) RMSE=1176.209\n",
            "SARIMA(0, 0, 1)x(1, 0, 0, 12) RMSE=1347.772\n",
            "SARIMA(0, 0, 1)x(1, 0, 1, 12) RMSE=1292.469\n",
            "SARIMA(0, 0, 1)x(1, 0, 2, 12) RMSE=1362.124\n",
            "SARIMA(0, 0, 1)x(1, 0, 3, 12) RMSE=1290.434\n",
            "SARIMA(0, 0, 1)x(1, 1, 0, 12) RMSE=1177.716\n",
            "SARIMA(0, 0, 1)x(1, 1, 1, 12) RMSE=1194.619\n",
            "SARIMA(0, 0, 1)x(1, 1, 2, 12) RMSE=1180.339\n",
            "SARIMA(0, 0, 1)x(1, 1, 3, 12) RMSE=1173.629\n",
            "SARIMA(0, 0, 1)x(2, 0, 0, 12) RMSE=1326.310\n",
            "SARIMA(0, 0, 1)x(2, 0, 1, 12) RMSE=1346.621\n",
            "SARIMA(0, 0, 1)x(2, 0, 2, 12) RMSE=1268.590\n",
            "SARIMA(0, 0, 1)x(2, 0, 3, 12) RMSE=1345.659\n",
            "SARIMA(0, 0, 1)x(2, 1, 0, 12) RMSE=1192.478\n",
            "SARIMA(0, 0, 1)x(2, 1, 1, 12) RMSE=1179.206\n",
            "SARIMA(0, 0, 1)x(2, 1, 2, 12) RMSE=1189.157\n",
            "SARIMA(0, 0, 1)x(2, 1, 3, 12) RMSE=1186.909\n",
            "SARIMA(0, 0, 1)x(3, 0, 0, 12) RMSE=1306.239\n",
            "SARIMA(0, 0, 1)x(3, 0, 1, 12) RMSE=1355.810\n",
            "SARIMA(0, 0, 1)x(3, 0, 2, 12) RMSE=1326.335\n",
            "SARIMA(0, 0, 1)x(3, 1, 0, 12) RMSE=1187.780\n",
            "SARIMA(0, 0, 1)x(3, 1, 1, 12) RMSE=1191.983\n",
            "SARIMA(0, 0, 1)x(3, 1, 2, 12) RMSE=1178.432\n",
            "SARIMA(0, 0, 1)x(3, 1, 3, 12) RMSE=1172.770\n",
            "SARIMA(0, 0, 1)x(4, 0, 0, 12) RMSE=1300.243\n",
            "SARIMA(0, 0, 1)x(4, 0, 1, 12) RMSE=1358.638\n",
            "SARIMA(0, 0, 1)x(4, 1, 0, 12) RMSE=1186.535\n",
            "SARIMA(0, 0, 1)x(4, 1, 1, 12) RMSE=1187.241\n",
            "SARIMA(0, 0, 1)x(4, 1, 2, 12) RMSE=1189.351\n",
            "SARIMA(0, 0, 1)x(4, 1, 3, 12) RMSE=1184.087\n",
            "SARIMA(0, 0, 2)x(0, 0, 0, 12) RMSE=1691.363\n",
            "SARIMA(0, 0, 2)x(0, 0, 1, 12) RMSE=1590.711\n",
            "SARIMA(0, 0, 2)x(0, 0, 2, 12) RMSE=1476.357\n",
            "SARIMA(0, 0, 2)x(0, 0, 3, 12) RMSE=1448.355\n",
            "SARIMA(0, 0, 2)x(0, 1, 0, 12) RMSE=1202.166\n",
            "SARIMA(0, 0, 2)x(0, 1, 1, 12) RMSE=1147.118\n",
            "SARIMA(0, 0, 2)x(0, 1, 2, 12) RMSE=1164.594\n",
            "SARIMA(0, 0, 2)x(0, 1, 3, 12) RMSE=1164.088\n",
            "SARIMA(0, 0, 2)x(1, 0, 0, 12) RMSE=1344.898\n",
            "SARIMA(0, 0, 2)x(1, 0, 1, 12) RMSE=1300.047\n",
            "SARIMA(0, 0, 2)x(1, 0, 2, 12) RMSE=1334.629\n",
            "SARIMA(0, 0, 2)x(1, 0, 3, 12) RMSE=1411.713\n",
            "SARIMA(0, 0, 2)x(1, 1, 0, 12) RMSE=1223.034\n",
            "SARIMA(0, 0, 2)x(1, 1, 1, 12) RMSE=1184.374\n",
            "SARIMA(0, 0, 2)x(1, 1, 2, 12) RMSE=1175.028\n",
            "SARIMA(0, 0, 2)x(1, 1, 3, 12) RMSE=1193.163\n",
            "SARIMA(0, 0, 2)x(2, 0, 0, 12) RMSE=1423.720\n",
            "SARIMA(0, 0, 2)x(2, 0, 1, 12) RMSE=1291.729\n",
            "SARIMA(0, 0, 2)x(2, 0, 2, 12) RMSE=1420.923\n",
            "SARIMA(0, 0, 2)x(2, 1, 0, 12) RMSE=1219.170\n",
            "SARIMA(0, 0, 2)x(2, 1, 1, 12) RMSE=1184.622\n",
            "SARIMA(0, 0, 2)x(2, 1, 2, 12) RMSE=1225.659\n",
            "SARIMA(0, 0, 2)x(2, 1, 3, 12) RMSE=1152.443\n",
            "SARIMA(0, 0, 2)x(3, 0, 0, 12) RMSE=1418.224\n",
            "SARIMA(0, 0, 2)x(3, 0, 1, 12) RMSE=1406.500\n",
            "SARIMA(0, 0, 2)x(3, 0, 2, 12) RMSE=1411.541\n",
            "SARIMA(0, 0, 2)x(3, 1, 0, 12) RMSE=1218.036\n",
            "SARIMA(0, 0, 2)x(3, 1, 1, 12) RMSE=1188.516\n",
            "SARIMA(0, 0, 2)x(3, 1, 2, 12) RMSE=1177.195\n",
            "SARIMA(0, 0, 2)x(3, 1, 3, 12) RMSE=1188.794\n",
            "SARIMA(0, 0, 2)x(4, 0, 0, 12) RMSE=1420.445\n",
            "SARIMA(0, 0, 2)x(4, 0, 1, 12) RMSE=1402.759\n",
            "SARIMA(0, 0, 2)x(4, 0, 3, 12) RMSE=1413.681\n",
            "SARIMA(0, 0, 2)x(4, 1, 0, 12) RMSE=1211.117\n",
            "SARIMA(0, 0, 2)x(4, 1, 1, 12) RMSE=1190.607\n",
            "SARIMA(0, 0, 2)x(4, 1, 2, 12) RMSE=1182.423\n",
            "SARIMA(0, 0, 2)x(4, 1, 3, 12) RMSE=1207.066\n",
            "SARIMA(0, 0, 3)x(0, 0, 0, 12) RMSE=1684.129\n",
            "SARIMA(0, 0, 3)x(0, 0, 1, 12) RMSE=1619.301\n",
            "SARIMA(0, 0, 3)x(0, 0, 2, 12) RMSE=1473.473\n",
            "SARIMA(0, 0, 3)x(0, 0, 3, 12) RMSE=1440.313\n",
            "SARIMA(0, 0, 3)x(0, 1, 0, 12) RMSE=nan\n",
            "SARIMA(0, 0, 3)x(0, 1, 1, 12) RMSE=nan\n",
            "SARIMA(0, 0, 3)x(0, 1, 2, 12) RMSE=nan\n",
            "SARIMA(0, 0, 3)x(0, 1, 3, 12) RMSE=nan\n",
            "SARIMA(0, 0, 3)x(1, 0, 0, 12) RMSE=1455.885\n",
            "SARIMA(0, 0, 3)x(1, 0, 1, 12) RMSE=1314.275\n",
            "SARIMA(0, 0, 3)x(1, 0, 2, 12) RMSE=1405.168\n",
            "SARIMA(0, 0, 3)x(1, 0, 3, 12) RMSE=1413.995\n",
            "SARIMA(0, 0, 3)x(2, 0, 0, 12) RMSE=1341.422\n",
            "SARIMA(0, 0, 3)x(2, 0, 1, 12) RMSE=1330.703\n",
            "SARIMA(0, 0, 3)x(2, 0, 3, 12) RMSE=1403.942\n",
            "SARIMA(0, 0, 3)x(3, 0, 0, 12) RMSE=1340.984\n",
            "SARIMA(0, 0, 3)x(3, 0, 1, 12) RMSE=1353.229\n",
            "SARIMA(0, 0, 3)x(3, 0, 3, 12) RMSE=1454.456\n",
            "SARIMA(0, 0, 3)x(4, 0, 0, 12) RMSE=1382.651\n",
            "SARIMA(0, 0, 3)x(4, 0, 1, 12) RMSE=1400.200\n",
            "SARIMA(0, 0, 3)x(4, 0, 2, 12) RMSE=1335.649\n",
            "SARIMA(0, 1, 0)x(0, 0, 0, 12) RMSE=1452.097\n",
            "SARIMA(0, 1, 0)x(0, 0, 1, 12) RMSE=1449.730\n",
            "SARIMA(0, 1, 0)x(0, 0, 2, 12) RMSE=1450.755\n",
            "SARIMA(0, 1, 0)x(0, 0, 3, 12) RMSE=1430.507\n",
            "SARIMA(0, 1, 0)x(0, 1, 0, 12) RMSE=2001.637\n",
            "SARIMA(0, 1, 0)x(0, 1, 1, 12) RMSE=1608.526\n",
            "SARIMA(0, 1, 0)x(0, 1, 2, 12) RMSE=1523.994\n",
            "SARIMA(0, 1, 0)x(0, 1, 3, 12) RMSE=1462.658\n",
            "SARIMA(0, 1, 0)x(1, 0, 0, 12) RMSE=1447.918\n",
            "SARIMA(0, 1, 0)x(1, 0, 1, 12) RMSE=1472.311\n",
            "SARIMA(0, 1, 0)x(1, 0, 2, 12) RMSE=1443.137\n",
            "SARIMA(0, 1, 0)x(1, 0, 3, 12) RMSE=1423.106\n",
            "SARIMA(0, 1, 0)x(1, 1, 0, 12) RMSE=1488.273\n",
            "SARIMA(0, 1, 0)x(1, 1, 1, 12) RMSE=1370.016\n",
            "SARIMA(0, 1, 0)x(1, 1, 2, 12) RMSE=1365.251\n",
            "SARIMA(0, 1, 0)x(1, 1, 3, 12) RMSE=1369.597\n",
            "SARIMA(0, 1, 0)x(2, 0, 0, 12) RMSE=1448.881\n",
            "SARIMA(0, 1, 0)x(2, 0, 1, 12) RMSE=1433.349\n",
            "SARIMA(0, 1, 0)x(2, 0, 2, 12) RMSE=1442.789\n",
            "SARIMA(0, 1, 0)x(2, 0, 3, 12) RMSE=1421.075\n",
            "SARIMA(0, 1, 0)x(2, 1, 0, 12) RMSE=1363.886\n",
            "SARIMA(0, 1, 0)x(2, 1, 1, 12) RMSE=1381.725\n",
            "SARIMA(0, 1, 0)x(2, 1, 2, 12) RMSE=1387.130\n",
            "SARIMA(0, 1, 0)x(2, 1, 3, 12) RMSE=1439.154\n",
            "SARIMA(0, 1, 0)x(3, 0, 0, 12) RMSE=1407.291\n",
            "SARIMA(0, 1, 0)x(3, 0, 1, 12) RMSE=1412.855\n",
            "SARIMA(0, 1, 0)x(3, 0, 2, 12) RMSE=1418.127\n",
            "SARIMA(0, 1, 0)x(3, 0, 3, 12) RMSE=1430.459\n",
            "SARIMA(0, 1, 0)x(3, 1, 0, 12) RMSE=1437.362\n",
            "SARIMA(0, 1, 0)x(3, 1, 1, 12) RMSE=1380.112\n",
            "SARIMA(0, 1, 0)x(3, 1, 2, 12) RMSE=1382.719\n",
            "SARIMA(0, 1, 0)x(3, 1, 3, 12) RMSE=1388.938\n",
            "SARIMA(0, 1, 0)x(4, 0, 0, 12) RMSE=1423.655\n",
            "SARIMA(0, 1, 0)x(4, 0, 1, 12) RMSE=1432.308\n",
            "SARIMA(0, 1, 0)x(4, 0, 2, 12) RMSE=1418.916\n",
            "SARIMA(0, 1, 0)x(4, 0, 3, 12) RMSE=1432.885\n",
            "SARIMA(0, 1, 0)x(4, 1, 0, 12) RMSE=1414.303\n",
            "SARIMA(0, 1, 0)x(4, 1, 1, 12) RMSE=1424.795\n",
            "SARIMA(0, 1, 0)x(4, 1, 2, 12) RMSE=1427.224\n",
            "SARIMA(0, 1, 1)x(0, 0, 0, 12) RMSE=1112.145\n",
            "SARIMA(0, 1, 1)x(0, 0, 1, 12) RMSE=1114.540\n",
            "SARIMA(0, 1, 1)x(0, 0, 2, 12) RMSE=1118.074\n",
            "SARIMA(0, 1, 1)x(0, 0, 3, 12) RMSE=1130.758\n",
            "SARIMA(0, 1, 1)x(0, 1, 0, 12) RMSE=1196.870\n",
            "SARIMA(0, 1, 1)x(0, 1, 1, 12) RMSE=1137.437\n",
            "SARIMA(0, 1, 1)x(0, 1, 2, 12) RMSE=1155.539\n",
            "SARIMA(0, 1, 1)x(0, 1, 3, 12) RMSE=1168.255\n",
            "SARIMA(0, 1, 1)x(1, 0, 0, 12) RMSE=1114.346\n",
            "SARIMA(0, 1, 1)x(1, 0, 1, 12) RMSE=1110.219\n",
            "SARIMA(0, 1, 1)x(1, 0, 2, 12) RMSE=1133.847\n",
            "SARIMA(0, 1, 1)x(1, 0, 3, 12) RMSE=1121.818\n",
            "SARIMA(0, 1, 1)x(1, 1, 0, 12) RMSE=1162.785\n",
            "SARIMA(0, 1, 1)x(1, 1, 1, 12) RMSE=1157.778\n",
            "SARIMA(0, 1, 1)x(1, 1, 2, 12) RMSE=1159.368\n",
            "SARIMA(0, 1, 1)x(1, 1, 3, 12) RMSE=1155.625\n",
            "SARIMA(0, 1, 1)x(2, 0, 0, 12) RMSE=1124.977\n",
            "SARIMA(0, 1, 1)x(2, 0, 1, 12) RMSE=1121.213\n",
            "SARIMA(0, 1, 1)x(2, 0, 2, 12) RMSE=1162.669\n",
            "SARIMA(0, 1, 1)x(2, 0, 3, 12) RMSE=1107.492\n",
            "SARIMA(0, 1, 1)x(2, 1, 0, 12) RMSE=1161.475\n",
            "SARIMA(0, 1, 1)x(2, 1, 1, 12) RMSE=1173.110\n",
            "SARIMA(0, 1, 1)x(2, 1, 2, 12) RMSE=1192.209\n",
            "SARIMA(0, 1, 1)x(2, 1, 3, 12) RMSE=1155.648\n",
            "SARIMA(0, 1, 1)x(3, 0, 0, 12) RMSE=1138.828\n",
            "SARIMA(0, 1, 1)x(3, 0, 1, 12) RMSE=1113.760\n",
            "SARIMA(0, 1, 1)x(3, 0, 2, 12) RMSE=1127.101\n",
            "SARIMA(0, 1, 1)x(3, 0, 3, 12) RMSE=1116.446\n",
            "SARIMA(0, 1, 1)x(3, 1, 0, 12) RMSE=1172.881\n",
            "SARIMA(0, 1, 1)x(3, 1, 1, 12) RMSE=1168.017\n",
            "SARIMA(0, 1, 1)x(3, 1, 2, 12) RMSE=1168.575\n",
            "SARIMA(0, 1, 1)x(3, 1, 3, 12) RMSE=1158.325\n",
            "SARIMA(0, 1, 1)x(4, 0, 0, 12) RMSE=1134.360\n",
            "SARIMA(0, 1, 1)x(4, 0, 1, 12) RMSE=1107.847\n",
            "SARIMA(0, 1, 1)x(4, 0, 2, 12) RMSE=1143.189\n",
            "SARIMA(0, 1, 1)x(4, 0, 3, 12) RMSE=1121.175\n",
            "SARIMA(0, 1, 1)x(4, 1, 0, 12) RMSE=1166.454\n",
            "SARIMA(0, 1, 1)x(4, 1, 1, 12) RMSE=1210.823\n",
            "SARIMA(0, 1, 1)x(4, 1, 3, 12) RMSE=1150.312\n",
            "SARIMA(0, 1, 2)x(0, 0, 0, 12) RMSE=1102.988\n",
            "SARIMA(0, 1, 2)x(0, 0, 1, 12) RMSE=1114.379\n",
            "SARIMA(0, 1, 2)x(0, 0, 2, 12) RMSE=1125.156\n",
            "SARIMA(0, 1, 2)x(0, 0, 3, 12) RMSE=1153.566\n",
            "SARIMA(0, 1, 2)x(0, 1, 0, 12) RMSE=1236.796\n",
            "SARIMA(0, 1, 2)x(0, 1, 1, 12) RMSE=1178.459\n",
            "SARIMA(0, 1, 2)x(0, 1, 2, 12) RMSE=1167.771\n",
            "SARIMA(0, 1, 2)x(0, 1, 3, 12) RMSE=1382.169\n",
            "SARIMA(0, 1, 2)x(1, 0, 0, 12) RMSE=1114.204\n",
            "SARIMA(0, 1, 2)x(1, 0, 1, 12) RMSE=1111.156\n",
            "SARIMA(0, 1, 2)x(1, 0, 2, 12) RMSE=1138.942\n",
            "SARIMA(0, 1, 2)x(1, 0, 3, 12) RMSE=1138.217\n",
            "SARIMA(0, 1, 2)x(1, 1, 0, 12) RMSE=1147.233\n",
            "SARIMA(0, 1, 2)x(1, 1, 1, 12) RMSE=1175.714\n",
            "SARIMA(0, 1, 2)x(1, 1, 2, 12) RMSE=1136.436\n",
            "SARIMA(0, 1, 2)x(1, 1, 3, 12) RMSE=1127.582\n",
            "SARIMA(0, 1, 2)x(2, 0, 0, 12) RMSE=1175.980\n",
            "SARIMA(0, 1, 2)x(2, 0, 1, 12) RMSE=1177.925\n",
            "SARIMA(0, 1, 2)x(2, 0, 2, 12) RMSE=1119.102\n",
            "SARIMA(0, 1, 2)x(2, 0, 3, 12) RMSE=1162.029\n",
            "SARIMA(0, 1, 2)x(2, 1, 0, 12) RMSE=1145.998\n",
            "SARIMA(0, 1, 2)x(2, 1, 1, 12) RMSE=1138.154\n",
            "SARIMA(0, 1, 2)x(2, 1, 2, 12) RMSE=1386.212\n",
            "SARIMA(0, 1, 2)x(2, 1, 3, 12) RMSE=1177.452\n",
            "SARIMA(0, 1, 2)x(3, 0, 0, 12) RMSE=1184.464\n",
            "SARIMA(0, 1, 2)x(3, 0, 1, 12) RMSE=1175.074\n",
            "SARIMA(0, 1, 2)x(3, 0, 2, 12) RMSE=1159.136\n",
            "SARIMA(0, 1, 2)x(3, 0, 3, 12) RMSE=1157.153\n",
            "SARIMA(0, 1, 2)x(3, 1, 0, 12) RMSE=1192.922\n",
            "SARIMA(0, 1, 2)x(3, 1, 1, 12) RMSE=1147.185\n",
            "SARIMA(0, 1, 2)x(3, 1, 2, 12) RMSE=1146.895\n",
            "SARIMA(0, 1, 2)x(3, 1, 3, 12) RMSE=1200.871\n",
            "SARIMA(0, 1, 2)x(4, 0, 0, 12) RMSE=1188.753\n",
            "SARIMA(0, 1, 2)x(4, 0, 1, 12) RMSE=1177.442\n",
            "SARIMA(0, 1, 2)x(4, 0, 2, 12) RMSE=1187.784\n"
          ],
          "name": "stdout"
        }
      ]
    },
    {
      "cell_type": "code",
      "metadata": {
        "id": "BHU6KELnMh9k",
        "outputId": "7ef08154-bc92-4cd2-9d42-a97afc2c9d63"
      },
      "source": [
        "ndiffs(df1, alpha=0.05, test='adf', max_d=6)"
      ],
      "execution_count": null,
      "outputs": [
        {
          "output_type": "execute_result",
          "data": {
            "text/plain": [
              "1"
            ]
          },
          "metadata": {
            "tags": []
          },
          "execution_count": 6
        }
      ]
    },
    {
      "cell_type": "code",
      "metadata": {
        "id": "VlEC4EawMh9u",
        "outputId": "f417d509-caa3-4b75-b2ec-721e944a5cc4"
      },
      "source": [
        "adf_test(df2.dropna())"
      ],
      "execution_count": null,
      "outputs": [
        {
          "output_type": "stream",
          "text": [
            "Results of Dickey-Fuller Test:\n",
            "Test Statistic                -6.621722e+00\n",
            "p-value                        6.013716e-09\n",
            "#Lags Used                     4.000000e+00\n",
            "Number of Observations Used    8.600000e+01\n",
            "Critical Value (1%)           -3.508783e+00\n",
            "Critical Value (5%)           -2.895784e+00\n",
            "Critical Value (10%)          -2.585038e+00\n",
            "dtype: float64\n"
          ],
          "name": "stdout"
        }
      ]
    },
    {
      "cell_type": "code",
      "metadata": {
        "id": "I5By8e1bMh9x",
        "outputId": "11914bc5-16cd-417d-954a-a7f237735eee",
        "colab": {
          "base_uri": "https://localhost:8080/",
          "height": 391
        }
      },
      "source": [
        "#plt.figure(figsize=(15,10))\n",
        "#from plotly.plotly import plot_mpl\n",
        "hh=seasonal_decompose(x=toot,model='additive').plot()\n",
        "hh.set_size_inches(15,13)\n",
        "tls.mpl_to_plotly(hh)"
      ],
      "execution_count": null,
      "outputs": [
        {
          "output_type": "error",
          "ename": "ValueError",
          "evalue": "ignored",
          "traceback": [
            "\u001b[0;31m---------------------------------------------------------------------------\u001b[0m",
            "\u001b[0;31mValueError\u001b[0m                                Traceback (most recent call last)",
            "\u001b[0;32m<ipython-input-68-b1240c56e0e9>\u001b[0m in \u001b[0;36m<module>\u001b[0;34m()\u001b[0m\n\u001b[1;32m      1\u001b[0m \u001b[0;31m#plt.figure(figsize=(15,10))\u001b[0m\u001b[0;34m\u001b[0m\u001b[0;34m\u001b[0m\u001b[0;34m\u001b[0m\u001b[0m\n\u001b[1;32m      2\u001b[0m \u001b[0;31m#from plotly.plotly import plot_mpl\u001b[0m\u001b[0;34m\u001b[0m\u001b[0;34m\u001b[0m\u001b[0;34m\u001b[0m\u001b[0m\n\u001b[0;32m----> 3\u001b[0;31m \u001b[0mhh\u001b[0m\u001b[0;34m=\u001b[0m\u001b[0mseasonal_decompose\u001b[0m\u001b[0;34m(\u001b[0m\u001b[0mx\u001b[0m\u001b[0;34m=\u001b[0m\u001b[0mtoot\u001b[0m\u001b[0;34m,\u001b[0m\u001b[0mmodel\u001b[0m\u001b[0;34m=\u001b[0m\u001b[0;34m'additive'\u001b[0m\u001b[0;34m)\u001b[0m\u001b[0;34m.\u001b[0m\u001b[0mplot\u001b[0m\u001b[0;34m(\u001b[0m\u001b[0;34m)\u001b[0m\u001b[0;34m\u001b[0m\u001b[0;34m\u001b[0m\u001b[0m\n\u001b[0m\u001b[1;32m      4\u001b[0m \u001b[0mhh\u001b[0m\u001b[0;34m.\u001b[0m\u001b[0mset_size_inches\u001b[0m\u001b[0;34m(\u001b[0m\u001b[0;36m15\u001b[0m\u001b[0;34m,\u001b[0m\u001b[0;36m13\u001b[0m\u001b[0;34m)\u001b[0m\u001b[0;34m\u001b[0m\u001b[0;34m\u001b[0m\u001b[0m\n\u001b[1;32m      5\u001b[0m \u001b[0mtls\u001b[0m\u001b[0;34m.\u001b[0m\u001b[0mmpl_to_plotly\u001b[0m\u001b[0;34m(\u001b[0m\u001b[0mhh\u001b[0m\u001b[0;34m)\u001b[0m\u001b[0;34m\u001b[0m\u001b[0;34m\u001b[0m\u001b[0m\n",
            "\u001b[0;32m/usr/local/lib/python3.6/dist-packages/pandas/util/_decorators.py\u001b[0m in \u001b[0;36mwrapper\u001b[0;34m(*args, **kwargs)\u001b[0m\n\u001b[1;32m    197\u001b[0m                 \u001b[0;32melse\u001b[0m\u001b[0;34m:\u001b[0m\u001b[0;34m\u001b[0m\u001b[0;34m\u001b[0m\u001b[0m\n\u001b[1;32m    198\u001b[0m                     \u001b[0mkwargs\u001b[0m\u001b[0;34m[\u001b[0m\u001b[0mnew_arg_name\u001b[0m\u001b[0;34m]\u001b[0m \u001b[0;34m=\u001b[0m \u001b[0mnew_arg_value\u001b[0m\u001b[0;34m\u001b[0m\u001b[0;34m\u001b[0m\u001b[0m\n\u001b[0;32m--> 199\u001b[0;31m             \u001b[0;32mreturn\u001b[0m \u001b[0mfunc\u001b[0m\u001b[0;34m(\u001b[0m\u001b[0;34m*\u001b[0m\u001b[0margs\u001b[0m\u001b[0;34m,\u001b[0m \u001b[0;34m**\u001b[0m\u001b[0mkwargs\u001b[0m\u001b[0;34m)\u001b[0m\u001b[0;34m\u001b[0m\u001b[0;34m\u001b[0m\u001b[0m\n\u001b[0m\u001b[1;32m    200\u001b[0m \u001b[0;34m\u001b[0m\u001b[0m\n\u001b[1;32m    201\u001b[0m         \u001b[0;32mreturn\u001b[0m \u001b[0mcast\u001b[0m\u001b[0;34m(\u001b[0m\u001b[0mF\u001b[0m\u001b[0;34m,\u001b[0m \u001b[0mwrapper\u001b[0m\u001b[0;34m)\u001b[0m\u001b[0;34m\u001b[0m\u001b[0;34m\u001b[0m\u001b[0m\n",
            "\u001b[0;32m/usr/local/lib/python3.6/dist-packages/statsmodels/tsa/seasonal.py\u001b[0m in \u001b[0;36mseasonal_decompose\u001b[0;34m(x, model, filt, period, two_sided, extrapolate_trend)\u001b[0m\n\u001b[1;32m    140\u001b[0m             \u001b[0mperiod\u001b[0m \u001b[0;34m=\u001b[0m \u001b[0mpfreq\u001b[0m\u001b[0;34m\u001b[0m\u001b[0;34m\u001b[0m\u001b[0m\n\u001b[1;32m    141\u001b[0m         \u001b[0;32melse\u001b[0m\u001b[0;34m:\u001b[0m\u001b[0;34m\u001b[0m\u001b[0;34m\u001b[0m\u001b[0m\n\u001b[0;32m--> 142\u001b[0;31m             raise ValueError(\"You must specify a period or x must be a \"\n\u001b[0m\u001b[1;32m    143\u001b[0m                              \u001b[0;34m\"pandas object with a DatetimeIndex with \"\u001b[0m\u001b[0;34m\u001b[0m\u001b[0;34m\u001b[0m\u001b[0m\n\u001b[1;32m    144\u001b[0m                              \"a freq not set to None\")\n",
            "\u001b[0;31mValueError\u001b[0m: You must specify a period or x must be a pandas object with a DatetimeIndex with a freq not set to None"
          ]
        }
      ]
    },
    {
      "cell_type": "code",
      "metadata": {
        "id": "Z9jmbfcsMh95"
      },
      "source": [
        "cf.set_config_file(offline_show_link=False)"
      ],
      "execution_count": null,
      "outputs": []
    }
  ]
}