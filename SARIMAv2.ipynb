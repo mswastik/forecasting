{
  "nbformat": 4,
  "nbformat_minor": 0,
  "metadata": {
    "kernelspec": {
      "display_name": "Python 3",
      "language": "python",
      "name": "python3"
    },
    "language_info": {
      "codemirror_mode": {
        "name": "ipython",
        "version": 3
      },
      "file_extension": ".py",
      "mimetype": "text/x-python",
      "name": "python",
      "nbconvert_exporter": "python",
      "pygments_lexer": "ipython3",
      "version": "3.8.2"
    },
    "colab": {
      "name": "SARIMAv1.ipynb",
      "provenance": [],
      "include_colab_link": true
    }
  },
  "cells": [
    {
      "cell_type": "markdown",
      "metadata": {
        "id": "view-in-github",
        "colab_type": "text"
      },
      "source": [
        "<a href=\"https://colab.research.google.com/github/mswastik/forecasting/blob/main/SARIMAv2.ipynb\" target=\"_parent\"><img src=\"https://colab.research.google.com/assets/colab-badge.svg\" alt=\"Open In Colab\"/></a>"
      ]
    },
    {
      "cell_type": "code",
      "metadata": {
        "id": "iGf7Q3xDM8in",
        "outputId": "d0f26a38-de6e-4288-b291-9eeff68c8ee3",
        "colab": {
          "base_uri": "https://localhost:8080/",
          "height": 269
        }
      },
      "source": [
        "!pip install pmdarima"
      ],
      "execution_count": 29,
      "outputs": [
        {
          "output_type": "stream",
          "text": [
            "Requirement already satisfied: pmdarima in /usr/local/lib/python3.6/dist-packages (1.7.1)\n",
            "Requirement already satisfied: numpy>=1.17.3 in /usr/local/lib/python3.6/dist-packages (from pmdarima) (1.18.5)\n",
            "Requirement already satisfied: scipy>=1.3.2 in /usr/local/lib/python3.6/dist-packages (from pmdarima) (1.4.1)\n",
            "Requirement already satisfied: urllib3 in /usr/local/lib/python3.6/dist-packages (from pmdarima) (1.24.3)\n",
            "Requirement already satisfied: joblib>=0.11 in /usr/local/lib/python3.6/dist-packages (from pmdarima) (0.16.0)\n",
            "Requirement already satisfied: Cython<0.29.18,>=0.29 in /usr/local/lib/python3.6/dist-packages (from pmdarima) (0.29.17)\n",
            "Requirement already satisfied: scikit-learn>=0.22 in /usr/local/lib/python3.6/dist-packages (from pmdarima) (0.22.2.post1)\n",
            "Requirement already satisfied: statsmodels<0.12,>=0.11 in /usr/local/lib/python3.6/dist-packages (from pmdarima) (0.11.1)\n",
            "Requirement already satisfied: pandas>=0.19 in /usr/local/lib/python3.6/dist-packages (from pmdarima) (1.1.2)\n",
            "Requirement already satisfied: setuptools<50.0.0 in /usr/local/lib/python3.6/dist-packages (from pmdarima) (49.6.0)\n",
            "Requirement already satisfied: patsy>=0.5 in /usr/local/lib/python3.6/dist-packages (from statsmodels<0.12,>=0.11->pmdarima) (0.5.1)\n",
            "Requirement already satisfied: pytz>=2017.2 in /usr/local/lib/python3.6/dist-packages (from pandas>=0.19->pmdarima) (2018.9)\n",
            "Requirement already satisfied: python-dateutil>=2.7.3 in /usr/local/lib/python3.6/dist-packages (from pandas>=0.19->pmdarima) (2.8.1)\n",
            "Requirement already satisfied: six in /usr/local/lib/python3.6/dist-packages (from patsy>=0.5->statsmodels<0.12,>=0.11->pmdarima) (1.15.0)\n"
          ],
          "name": "stdout"
        }
      ]
    },
    {
      "cell_type": "code",
      "metadata": {
        "id": "N4AkWyqjMh78"
      },
      "source": [
        "import pmdarima as pmd\n",
        "import pandas as pd\n",
        "import statsmodels.api as sm\n",
        "from statsmodels.tsa.stattools import acf,pacf,adfuller\n",
        "from statsmodels.tsa.seasonal import seasonal_decompose\n",
        "from statsmodels.tsa.arima_model import ARIMA\n",
        "from statsmodels.tsa.statespace.sarimax import SARIMAX\n",
        "import matplotlib.pyplot as plt\n",
        "from statsmodels.graphics.tsaplots import plot_acf,plot_pacf\n",
        "from statsmodels.tools.eval_measures import rmse\n",
        "from sklearn.model_selection import TimeSeriesSplit,cross_val_score\n",
        "from sklearn.metrics import mean_squared_error\n",
        "import numpy as np\n",
        "import warnings\n",
        "import plotly.express as px\n",
        "import cufflinks as cf\n",
        "import plotly.tools as tls"
      ],
      "execution_count": 30,
      "outputs": []
    },
    {
      "cell_type": "code",
      "metadata": {
        "id": "0yFQ-v8mNRJn",
        "outputId": "7d1c277c-6334-4e35-bbb8-49c16736829e",
        "colab": {
          "base_uri": "https://localhost:8080/",
          "height": 161
        }
      },
      "source": [
        "!git clone -l -s https://github.com/mswastik/forecasting.git cloned-repo\n",
        "%cd cloned-repo"
      ],
      "execution_count": 31,
      "outputs": [
        {
          "output_type": "stream",
          "text": [
            "Cloning into 'cloned-repo'...\n",
            "warning: --local is ignored\n",
            "remote: Enumerating objects: 30, done.\u001b[K\n",
            "remote: Counting objects: 100% (30/30), done.\u001b[K\n",
            "remote: Compressing objects: 100% (29/29), done.\u001b[K\n",
            "remote: Total 30 (delta 9), reused 0 (delta 0), pack-reused 0\u001b[K\n",
            "Unpacking objects: 100% (30/30), done.\n",
            "/content/cloned-repo/cloned-repo\n"
          ],
          "name": "stdout"
        }
      ]
    },
    {
      "cell_type": "code",
      "metadata": {
        "id": "jxVpi3-4Mh8D"
      },
      "source": [
        "warnings.filterwarnings(\"ignore\")\n",
        "df = pd.read_excel('Forecasting1.xlsx',sheet_name='SO',index_col='del date')\n",
        "df.rename({'agg':'agg1'},axis=1,inplace=True)\n",
        "df['dd']=df.index.copy()\n",
        "df['month'] = df['dd'].dt.year.astype('str')+\"-\"+df['dd'].dt.month.astype('str')\n",
        "df2=df.groupby(['month','agg1']).sum().copy()\n",
        "df2.drop(['wt','cs size'],inplace=True,axis=1)"
      ],
      "execution_count": 32,
      "outputs": []
    },
    {
      "cell_type": "code",
      "metadata": {
        "id": "EzgmqLbcAqCN"
      },
      "source": [
        "toot=df.loc[df.agg1=='Tmmthpkhti Limi Yih'].copy()\n",
        "toot=pd.DataFrame(toot['cases'])\n",
        "toot=toot.resample('M').sum()"
      ],
      "execution_count": 40,
      "outputs": []
    },
    {
      "cell_type": "code",
      "metadata": {
        "id": "OyG8vAOHMh83"
      },
      "source": [
        "cint=inv_boxcox(mod.get_forecast(6).conf_int(),fitted_lambda)-1"
      ],
      "execution_count": null,
      "outputs": []
    },
    {
      "cell_type": "code",
      "metadata": {
        "collapsed": true,
        "jupyter": {
          "outputs_hidden": true
        },
        "id": "RAZx08nKMh86",
        "outputId": "2e81325b-d065-4b2b-f95f-e8f5f3a1ef2c"
      },
      "source": [
        "df2=df2.join(ff,how=\"outer\")"
      ],
      "execution_count": null,
      "outputs": [
        {
          "output_type": "error",
          "ename": "ValueError",
          "evalue": "columns overlap but no suffix specified: Index(['pred'], dtype='object')",
          "traceback": [
            "\u001b[0;31m---------------------------------------------------------------------------\u001b[0m",
            "\u001b[0;31mValueError\u001b[0m                                Traceback (most recent call last)",
            "\u001b[0;32m<ipython-input-58-6b30d4d10bda>\u001b[0m in \u001b[0;36m<module>\u001b[0;34m\u001b[0m\n\u001b[0;32m----> 1\u001b[0;31m \u001b[0mdf2\u001b[0m\u001b[0;34m=\u001b[0m\u001b[0mdf2\u001b[0m\u001b[0;34m.\u001b[0m\u001b[0mjoin\u001b[0m\u001b[0;34m(\u001b[0m\u001b[0mff\u001b[0m\u001b[0;34m,\u001b[0m\u001b[0mhow\u001b[0m\u001b[0;34m=\u001b[0m\u001b[0;34m\"outer\"\u001b[0m\u001b[0;34m)\u001b[0m\u001b[0;34m\u001b[0m\u001b[0;34m\u001b[0m\u001b[0m\n\u001b[0m",
            "\u001b[0;32m~/.local/lib/python3.8/site-packages/pandas/core/frame.py\u001b[0m in \u001b[0;36mjoin\u001b[0;34m(self, other, on, how, lsuffix, rsuffix, sort)\u001b[0m\n\u001b[1;32m   7206\u001b[0m         \u001b[0;36m5\u001b[0m  \u001b[0mK5\u001b[0m  \u001b[0mA5\u001b[0m  \u001b[0mNaN\u001b[0m\u001b[0;34m\u001b[0m\u001b[0;34m\u001b[0m\u001b[0m\n\u001b[1;32m   7207\u001b[0m         \"\"\"\n\u001b[0;32m-> 7208\u001b[0;31m         return self._join_compat(\n\u001b[0m\u001b[1;32m   7209\u001b[0m             \u001b[0mother\u001b[0m\u001b[0;34m,\u001b[0m \u001b[0mon\u001b[0m\u001b[0;34m=\u001b[0m\u001b[0mon\u001b[0m\u001b[0;34m,\u001b[0m \u001b[0mhow\u001b[0m\u001b[0;34m=\u001b[0m\u001b[0mhow\u001b[0m\u001b[0;34m,\u001b[0m \u001b[0mlsuffix\u001b[0m\u001b[0;34m=\u001b[0m\u001b[0mlsuffix\u001b[0m\u001b[0;34m,\u001b[0m \u001b[0mrsuffix\u001b[0m\u001b[0;34m=\u001b[0m\u001b[0mrsuffix\u001b[0m\u001b[0;34m,\u001b[0m \u001b[0msort\u001b[0m\u001b[0;34m=\u001b[0m\u001b[0msort\u001b[0m\u001b[0;34m\u001b[0m\u001b[0;34m\u001b[0m\u001b[0m\n\u001b[1;32m   7210\u001b[0m         )\n",
            "\u001b[0;32m~/.local/lib/python3.8/site-packages/pandas/core/frame.py\u001b[0m in \u001b[0;36m_join_compat\u001b[0;34m(self, other, on, how, lsuffix, rsuffix, sort)\u001b[0m\n\u001b[1;32m   7222\u001b[0m \u001b[0;34m\u001b[0m\u001b[0m\n\u001b[1;32m   7223\u001b[0m         \u001b[0;32mif\u001b[0m \u001b[0misinstance\u001b[0m\u001b[0;34m(\u001b[0m\u001b[0mother\u001b[0m\u001b[0;34m,\u001b[0m \u001b[0mDataFrame\u001b[0m\u001b[0;34m)\u001b[0m\u001b[0;34m:\u001b[0m\u001b[0;34m\u001b[0m\u001b[0;34m\u001b[0m\u001b[0m\n\u001b[0;32m-> 7224\u001b[0;31m             return merge(\n\u001b[0m\u001b[1;32m   7225\u001b[0m                 \u001b[0mself\u001b[0m\u001b[0;34m,\u001b[0m\u001b[0;34m\u001b[0m\u001b[0;34m\u001b[0m\u001b[0m\n\u001b[1;32m   7226\u001b[0m                 \u001b[0mother\u001b[0m\u001b[0;34m,\u001b[0m\u001b[0;34m\u001b[0m\u001b[0;34m\u001b[0m\u001b[0m\n",
            "\u001b[0;32m~/.local/lib/python3.8/site-packages/pandas/core/reshape/merge.py\u001b[0m in \u001b[0;36mmerge\u001b[0;34m(left, right, how, on, left_on, right_on, left_index, right_index, sort, suffixes, copy, indicator, validate)\u001b[0m\n\u001b[1;32m     86\u001b[0m         \u001b[0mvalidate\u001b[0m\u001b[0;34m=\u001b[0m\u001b[0mvalidate\u001b[0m\u001b[0;34m,\u001b[0m\u001b[0;34m\u001b[0m\u001b[0;34m\u001b[0m\u001b[0m\n\u001b[1;32m     87\u001b[0m     )\n\u001b[0;32m---> 88\u001b[0;31m     \u001b[0;32mreturn\u001b[0m \u001b[0mop\u001b[0m\u001b[0;34m.\u001b[0m\u001b[0mget_result\u001b[0m\u001b[0;34m(\u001b[0m\u001b[0;34m)\u001b[0m\u001b[0;34m\u001b[0m\u001b[0;34m\u001b[0m\u001b[0m\n\u001b[0m\u001b[1;32m     89\u001b[0m \u001b[0;34m\u001b[0m\u001b[0m\n\u001b[1;32m     90\u001b[0m \u001b[0;34m\u001b[0m\u001b[0m\n",
            "\u001b[0;32m~/.local/lib/python3.8/site-packages/pandas/core/reshape/merge.py\u001b[0m in \u001b[0;36mget_result\u001b[0;34m(self)\u001b[0m\n\u001b[1;32m    646\u001b[0m         \u001b[0mlsuf\u001b[0m\u001b[0;34m,\u001b[0m \u001b[0mrsuf\u001b[0m \u001b[0;34m=\u001b[0m \u001b[0mself\u001b[0m\u001b[0;34m.\u001b[0m\u001b[0msuffixes\u001b[0m\u001b[0;34m\u001b[0m\u001b[0;34m\u001b[0m\u001b[0m\n\u001b[1;32m    647\u001b[0m \u001b[0;34m\u001b[0m\u001b[0m\n\u001b[0;32m--> 648\u001b[0;31m         llabels, rlabels = _items_overlap_with_suffix(\n\u001b[0m\u001b[1;32m    649\u001b[0m             \u001b[0mldata\u001b[0m\u001b[0;34m.\u001b[0m\u001b[0mitems\u001b[0m\u001b[0;34m,\u001b[0m \u001b[0mlsuf\u001b[0m\u001b[0;34m,\u001b[0m \u001b[0mrdata\u001b[0m\u001b[0;34m.\u001b[0m\u001b[0mitems\u001b[0m\u001b[0;34m,\u001b[0m \u001b[0mrsuf\u001b[0m\u001b[0;34m\u001b[0m\u001b[0;34m\u001b[0m\u001b[0m\n\u001b[1;32m    650\u001b[0m         )\n",
            "\u001b[0;32m~/.local/lib/python3.8/site-packages/pandas/core/reshape/merge.py\u001b[0m in \u001b[0;36m_items_overlap_with_suffix\u001b[0;34m(left, lsuffix, right, rsuffix)\u001b[0m\n\u001b[1;32m   2022\u001b[0m \u001b[0;34m\u001b[0m\u001b[0m\n\u001b[1;32m   2023\u001b[0m     \u001b[0;32mif\u001b[0m \u001b[0;32mnot\u001b[0m \u001b[0mlsuffix\u001b[0m \u001b[0;32mand\u001b[0m \u001b[0;32mnot\u001b[0m \u001b[0mrsuffix\u001b[0m\u001b[0;34m:\u001b[0m\u001b[0;34m\u001b[0m\u001b[0;34m\u001b[0m\u001b[0m\n\u001b[0;32m-> 2024\u001b[0;31m         raise ValueError(\n\u001b[0m\u001b[1;32m   2025\u001b[0m             \u001b[0;34m\"columns overlap but no suffix specified: \"\u001b[0m\u001b[0;34m\u001b[0m\u001b[0;34m\u001b[0m\u001b[0m\n\u001b[1;32m   2026\u001b[0m             \u001b[0;34m\"{rename}\"\u001b[0m\u001b[0;34m.\u001b[0m\u001b[0mformat\u001b[0m\u001b[0;34m(\u001b[0m\u001b[0mrename\u001b[0m\u001b[0;34m=\u001b[0m\u001b[0mto_rename\u001b[0m\u001b[0;34m)\u001b[0m\u001b[0;34m\u001b[0m\u001b[0;34m\u001b[0m\u001b[0m\n",
            "\u001b[0;31mValueError\u001b[0m: columns overlap but no suffix specified: Index(['pred'], dtype='object')"
          ]
        }
      ]
    },
    {
      "cell_type": "code",
      "metadata": {
        "id": "OWvrOZFIMh8_",
        "outputId": "f903bad6-c2e6-40f4-a86e-3ef2834be8e6"
      },
      "source": [
        "df2[['Qty','pred']]"
      ],
      "execution_count": null,
      "outputs": [
        {
          "output_type": "execute_result",
          "data": {
            "text/html": [
              "<div>\n",
              "<style scoped>\n",
              "    .dataframe tbody tr th:only-of-type {\n",
              "        vertical-align: middle;\n",
              "    }\n",
              "\n",
              "    .dataframe tbody tr th {\n",
              "        vertical-align: top;\n",
              "    }\n",
              "\n",
              "    .dataframe thead th {\n",
              "        text-align: right;\n",
              "    }\n",
              "</style>\n",
              "<table border=\"1\" class=\"dataframe\">\n",
              "  <thead>\n",
              "    <tr style=\"text-align: right;\">\n",
              "      <th></th>\n",
              "      <th>Qty</th>\n",
              "      <th>pred</th>\n",
              "    </tr>\n",
              "  </thead>\n",
              "  <tbody>\n",
              "    <tr>\n",
              "      <th>2012-12-31</th>\n",
              "      <td>1148.0</td>\n",
              "      <td>NaN</td>\n",
              "    </tr>\n",
              "    <tr>\n",
              "      <th>2013-01-31</th>\n",
              "      <td>997.0</td>\n",
              "      <td>NaN</td>\n",
              "    </tr>\n",
              "    <tr>\n",
              "      <th>2013-02-28</th>\n",
              "      <td>560.0</td>\n",
              "      <td>NaN</td>\n",
              "    </tr>\n",
              "    <tr>\n",
              "      <th>2013-03-31</th>\n",
              "      <td>560.0</td>\n",
              "      <td>NaN</td>\n",
              "    </tr>\n",
              "    <tr>\n",
              "      <th>2013-04-30</th>\n",
              "      <td>1204.0</td>\n",
              "      <td>NaN</td>\n",
              "    </tr>\n",
              "    <tr>\n",
              "      <th>...</th>\n",
              "      <td>...</td>\n",
              "      <td>...</td>\n",
              "    </tr>\n",
              "    <tr>\n",
              "      <th>2020-08-31</th>\n",
              "      <td>NaN</td>\n",
              "      <td>1001.931909</td>\n",
              "    </tr>\n",
              "    <tr>\n",
              "      <th>2020-09-30</th>\n",
              "      <td>NaN</td>\n",
              "      <td>970.645824</td>\n",
              "    </tr>\n",
              "    <tr>\n",
              "      <th>2020-10-31</th>\n",
              "      <td>NaN</td>\n",
              "      <td>981.301929</td>\n",
              "    </tr>\n",
              "    <tr>\n",
              "      <th>2020-11-30</th>\n",
              "      <td>NaN</td>\n",
              "      <td>977.644404</td>\n",
              "    </tr>\n",
              "    <tr>\n",
              "      <th>2020-12-31</th>\n",
              "      <td>NaN</td>\n",
              "      <td>978.896480</td>\n",
              "    </tr>\n",
              "  </tbody>\n",
              "</table>\n",
              "<p>98 rows × 2 columns</p>\n",
              "</div>"
            ],
            "text/plain": [
              "               Qty         pred\n",
              "2012-12-31  1148.0          NaN\n",
              "2013-01-31   997.0          NaN\n",
              "2013-02-28   560.0          NaN\n",
              "2013-03-31   560.0          NaN\n",
              "2013-04-30  1204.0          NaN\n",
              "...            ...          ...\n",
              "2020-08-31     NaN  1001.931909\n",
              "2020-09-30     NaN   970.645824\n",
              "2020-10-31     NaN   981.301929\n",
              "2020-11-30     NaN   977.644404\n",
              "2020-12-31     NaN   978.896480\n",
              "\n",
              "[98 rows x 2 columns]"
            ]
          },
          "metadata": {
            "tags": []
          },
          "execution_count": 86
        }
      ]
    },
    {
      "cell_type": "code",
      "metadata": {
        "id": "lfi4pKzrMh9C",
        "outputId": "02eec6a2-a827-41d0-af85-4ce96dbcfb91"
      },
      "source": [
        "ff"
      ],
      "execution_count": null,
      "outputs": [
        {
          "output_type": "execute_result",
          "data": {
            "text/html": [
              "<div>\n",
              "<style scoped>\n",
              "    .dataframe tbody tr th:only-of-type {\n",
              "        vertical-align: middle;\n",
              "    }\n",
              "\n",
              "    .dataframe tbody tr th {\n",
              "        vertical-align: top;\n",
              "    }\n",
              "\n",
              "    .dataframe thead th {\n",
              "        text-align: right;\n",
              "    }\n",
              "</style>\n",
              "<table border=\"1\" class=\"dataframe\">\n",
              "  <thead>\n",
              "    <tr style=\"text-align: right;\">\n",
              "      <th></th>\n",
              "      <th>pred</th>\n",
              "    </tr>\n",
              "  </thead>\n",
              "  <tbody>\n",
              "    <tr>\n",
              "      <th>2014-12-31</th>\n",
              "      <td>599.925527</td>\n",
              "    </tr>\n",
              "    <tr>\n",
              "      <th>2015-01-31</th>\n",
              "      <td>513.593621</td>\n",
              "    </tr>\n",
              "    <tr>\n",
              "      <th>2015-02-28</th>\n",
              "      <td>596.156350</td>\n",
              "    </tr>\n",
              "    <tr>\n",
              "      <th>2015-03-31</th>\n",
              "      <td>535.449562</td>\n",
              "    </tr>\n",
              "    <tr>\n",
              "      <th>2015-04-30</th>\n",
              "      <td>830.416815</td>\n",
              "    </tr>\n",
              "    <tr>\n",
              "      <th>...</th>\n",
              "      <td>...</td>\n",
              "    </tr>\n",
              "    <tr>\n",
              "      <th>2020-08-31</th>\n",
              "      <td>1001.931909</td>\n",
              "    </tr>\n",
              "    <tr>\n",
              "      <th>2020-09-30</th>\n",
              "      <td>970.645824</td>\n",
              "    </tr>\n",
              "    <tr>\n",
              "      <th>2020-10-31</th>\n",
              "      <td>981.301929</td>\n",
              "    </tr>\n",
              "    <tr>\n",
              "      <th>2020-11-30</th>\n",
              "      <td>977.644404</td>\n",
              "    </tr>\n",
              "    <tr>\n",
              "      <th>2020-12-31</th>\n",
              "      <td>978.896480</td>\n",
              "    </tr>\n",
              "  </tbody>\n",
              "</table>\n",
              "<p>74 rows × 1 columns</p>\n",
              "</div>"
            ],
            "text/plain": [
              "                   pred\n",
              "2014-12-31   599.925527\n",
              "2015-01-31   513.593621\n",
              "2015-02-28   596.156350\n",
              "2015-03-31   535.449562\n",
              "2015-04-30   830.416815\n",
              "...                 ...\n",
              "2020-08-31  1001.931909\n",
              "2020-09-30   970.645824\n",
              "2020-10-31   981.301929\n",
              "2020-11-30   977.644404\n",
              "2020-12-31   978.896480\n",
              "\n",
              "[74 rows x 1 columns]"
            ]
          },
          "metadata": {
            "tags": []
          },
          "execution_count": 105
        }
      ]
    },
    {
      "cell_type": "code",
      "metadata": {
        "id": "NX7ocEZ48q08"
      },
      "source": [
        "import plotly.io as pio\n",
        "pio.renderers.default = \"colab\""
      ],
      "execution_count": null,
      "outputs": []
    },
    {
      "cell_type": "code",
      "metadata": {
        "id": "BePhWCdw81sW",
        "outputId": "dff9813f-581e-4564-e429-ebf432231ea2",
        "colab": {
          "base_uri": "https://localhost:8080/",
          "height": 542
        }
      },
      "source": [
        "px.line(toot,y='cases',x=toot.index)"
      ],
      "execution_count": null,
      "outputs": [
        {
          "output_type": "display_data",
          "data": {
            "text/html": [
              "<html>\n",
              "<head><meta charset=\"utf-8\" /></head>\n",
              "<body>\n",
              "    <div>\n",
              "            <script src=\"https://cdnjs.cloudflare.com/ajax/libs/mathjax/2.7.5/MathJax.js?config=TeX-AMS-MML_SVG\"></script><script type=\"text/javascript\">if (window.MathJax) {MathJax.Hub.Config({SVG: {font: \"STIX-Web\"}});}</script>\n",
              "                <script type=\"text/javascript\">window.PlotlyConfig = {MathJaxConfig: 'local'};</script>\n",
              "        <script src=\"https://cdn.plot.ly/plotly-latest.min.js\"></script>    \n",
              "            <div id=\"cb0061f2-6a4f-4f88-9adf-cc9b1e9d041c\" class=\"plotly-graph-div\" style=\"height:525px; width:100%;\"></div>\n",
              "            <script type=\"text/javascript\">\n",
              "                \n",
              "                    window.PLOTLYENV=window.PLOTLYENV || {};\n",
              "                    \n",
              "                if (document.getElementById(\"cb0061f2-6a4f-4f88-9adf-cc9b1e9d041c\")) {\n",
              "                    Plotly.newPlot(\n",
              "                        'cb0061f2-6a4f-4f88-9adf-cc9b1e9d041c',\n",
              "                        [{\"hoverlabel\": {\"namelength\": 0}, \"hovertemplate\": \"x=%{x}<br>cases=%{y}\", \"legendgroup\": \"\", \"line\": {\"color\": \"#636efa\", \"dash\": \"solid\"}, \"mode\": \"lines\", \"name\": \"\", \"showlegend\": false, \"type\": \"scatter\", \"x\": [\"2012-10-31T00:00:00\", \"2012-11-30T00:00:00\", \"2012-12-31T00:00:00\", \"2013-01-31T00:00:00\", \"2013-02-28T00:00:00\", \"2013-03-31T00:00:00\", \"2013-04-30T00:00:00\", \"2013-05-31T00:00:00\", \"2013-06-30T00:00:00\", \"2013-07-31T00:00:00\", \"2013-08-31T00:00:00\", \"2013-09-30T00:00:00\", \"2013-10-31T00:00:00\", \"2013-11-30T00:00:00\", \"2013-12-31T00:00:00\", \"2014-01-31T00:00:00\", \"2014-02-28T00:00:00\", \"2014-03-31T00:00:00\", \"2014-04-30T00:00:00\", \"2014-05-31T00:00:00\", \"2014-06-30T00:00:00\", \"2014-07-31T00:00:00\", \"2014-08-31T00:00:00\", \"2014-09-30T00:00:00\", \"2014-10-31T00:00:00\", \"2014-11-30T00:00:00\", \"2014-12-31T00:00:00\", \"2015-01-31T00:00:00\", \"2015-02-28T00:00:00\", \"2015-03-31T00:00:00\", \"2015-04-30T00:00:00\", \"2015-05-31T00:00:00\", \"2015-06-30T00:00:00\", \"2015-07-31T00:00:00\", \"2015-08-31T00:00:00\", \"2015-09-30T00:00:00\", \"2015-10-31T00:00:00\", \"2015-11-30T00:00:00\", \"2015-12-31T00:00:00\", \"2016-01-31T00:00:00\", \"2016-02-29T00:00:00\", \"2016-03-31T00:00:00\", \"2016-04-30T00:00:00\", \"2016-05-31T00:00:00\", \"2016-06-30T00:00:00\", \"2016-07-31T00:00:00\", \"2016-08-31T00:00:00\", \"2016-09-30T00:00:00\", \"2016-10-31T00:00:00\", \"2016-11-30T00:00:00\", \"2016-12-31T00:00:00\", \"2017-01-31T00:00:00\", \"2017-02-28T00:00:00\", \"2017-03-31T00:00:00\", \"2017-04-30T00:00:00\", \"2017-05-31T00:00:00\", \"2017-06-30T00:00:00\", \"2017-07-31T00:00:00\", \"2017-08-31T00:00:00\", \"2017-09-30T00:00:00\", \"2017-10-31T00:00:00\", \"2017-11-30T00:00:00\", \"2017-12-31T00:00:00\", \"2018-01-31T00:00:00\", \"2018-02-28T00:00:00\", \"2018-03-31T00:00:00\", \"2018-04-30T00:00:00\", \"2018-05-31T00:00:00\", \"2018-06-30T00:00:00\", \"2018-08-31T00:00:00\", \"2018-09-30T00:00:00\", \"2018-11-30T00:00:00\", \"2018-12-31T00:00:00\", \"2019-01-31T00:00:00\", \"2019-02-28T00:00:00\", \"2019-03-31T00:00:00\", \"2019-05-31T00:00:00\", \"2019-06-30T00:00:00\", \"2019-07-31T00:00:00\", \"2019-08-31T00:00:00\", \"2019-09-30T00:00:00\", \"2019-10-31T00:00:00\", \"2019-11-30T00:00:00\", \"2019-12-31T00:00:00\", \"2020-01-31T00:00:00\", \"2020-02-29T00:00:00\", \"2020-03-31T00:00:00\", \"2020-04-30T00:00:00\", \"2020-05-31T00:00:00\", \"2020-06-30T00:00:00\", \"2020-07-31T00:00:00\", \"2020-08-31T00:00:00\", \"2020-09-30T00:00:00\", \"2020-10-31T00:00:00\", \"2020-11-30T00:00:00\"], \"xaxis\": \"x\", \"y\": [5143.0, 8220.0, 5631.0, 20630.0, 12529.0, 15660.0, 5314.0, 13897.0, 8993.0, 7811.0, 12771.0, 11164.0, 10295.0, 6636.0, 18936.0, 19046.0, 5045.0, 7843.0, 14324.0, 21253.0, 6307.0, 13238.0, 27164.0, 14687.0, 10729.0, 15302.0, 6654.0, 12323.0, 12043.0, 3301.0, 11262.0, 12481.0, 6614.0, 4867.0, 18528.0, 7317.0, 14986.0, 15447.0, 9546.0, 16360.0, 16542.0, 10731.0, 7552.0, 9980.666, 5011.0, 4470.0, 19824.0, 15076.0, 14451.0, 12617.0, 8594.0, 10691.0, 8441.0, 15729.0, 4030.0, 13620.0, 42263.0, 16865.0, 28472.0, 39443.0, 68091.0, 63568.0, 37507.0, 51145.0, 37374.0, 67330.0, 44418.0, 53709.0, 54709.0, 12987.0, 37563.0, 35070.0, 79706.0, 42628.0, 61259.0, 45088.0, 48426.0, 52430.0, 1011.0, 8488.0, 14112.0, 14981.0, 19870.0, 11358.0, 45412.0, 53906.0, 19500.0, 19594.0, 2150.0, 59975.0, 52193.0, 43866.0, 25063.0, 25487.0, 1780.0], \"yaxis\": \"y\"}],\n",
              "                        {\"legend\": {\"tracegroupgap\": 0}, \"margin\": {\"t\": 60}, \"template\": {\"data\": {\"bar\": [{\"error_x\": {\"color\": \"#2a3f5f\"}, \"error_y\": {\"color\": \"#2a3f5f\"}, \"marker\": {\"line\": {\"color\": \"#E5ECF6\", \"width\": 0.5}}, \"type\": \"bar\"}], \"barpolar\": [{\"marker\": {\"line\": {\"color\": \"#E5ECF6\", \"width\": 0.5}}, \"type\": \"barpolar\"}], \"carpet\": [{\"aaxis\": {\"endlinecolor\": \"#2a3f5f\", \"gridcolor\": \"white\", \"linecolor\": \"white\", \"minorgridcolor\": \"white\", \"startlinecolor\": \"#2a3f5f\"}, \"baxis\": {\"endlinecolor\": \"#2a3f5f\", \"gridcolor\": \"white\", \"linecolor\": \"white\", \"minorgridcolor\": \"white\", \"startlinecolor\": \"#2a3f5f\"}, \"type\": \"carpet\"}], \"choropleth\": [{\"colorbar\": {\"outlinewidth\": 0, \"ticks\": \"\"}, \"type\": \"choropleth\"}], \"contour\": [{\"colorbar\": {\"outlinewidth\": 0, \"ticks\": \"\"}, \"colorscale\": [[0.0, \"#0d0887\"], [0.1111111111111111, \"#46039f\"], [0.2222222222222222, \"#7201a8\"], [0.3333333333333333, \"#9c179e\"], [0.4444444444444444, \"#bd3786\"], [0.5555555555555556, \"#d8576b\"], [0.6666666666666666, \"#ed7953\"], [0.7777777777777778, \"#fb9f3a\"], [0.8888888888888888, \"#fdca26\"], [1.0, \"#f0f921\"]], \"type\": \"contour\"}], \"contourcarpet\": [{\"colorbar\": {\"outlinewidth\": 0, \"ticks\": \"\"}, \"type\": \"contourcarpet\"}], \"heatmap\": [{\"colorbar\": {\"outlinewidth\": 0, \"ticks\": \"\"}, \"colorscale\": [[0.0, \"#0d0887\"], [0.1111111111111111, \"#46039f\"], [0.2222222222222222, \"#7201a8\"], [0.3333333333333333, \"#9c179e\"], [0.4444444444444444, \"#bd3786\"], [0.5555555555555556, \"#d8576b\"], [0.6666666666666666, \"#ed7953\"], [0.7777777777777778, \"#fb9f3a\"], [0.8888888888888888, \"#fdca26\"], [1.0, \"#f0f921\"]], \"type\": \"heatmap\"}], \"heatmapgl\": [{\"colorbar\": {\"outlinewidth\": 0, \"ticks\": \"\"}, \"colorscale\": [[0.0, \"#0d0887\"], [0.1111111111111111, \"#46039f\"], [0.2222222222222222, \"#7201a8\"], [0.3333333333333333, \"#9c179e\"], [0.4444444444444444, \"#bd3786\"], [0.5555555555555556, \"#d8576b\"], [0.6666666666666666, \"#ed7953\"], [0.7777777777777778, \"#fb9f3a\"], [0.8888888888888888, \"#fdca26\"], [1.0, \"#f0f921\"]], \"type\": \"heatmapgl\"}], \"histogram\": [{\"marker\": {\"colorbar\": {\"outlinewidth\": 0, \"ticks\": \"\"}}, \"type\": \"histogram\"}], \"histogram2d\": [{\"colorbar\": {\"outlinewidth\": 0, \"ticks\": \"\"}, \"colorscale\": [[0.0, \"#0d0887\"], [0.1111111111111111, \"#46039f\"], [0.2222222222222222, \"#7201a8\"], [0.3333333333333333, \"#9c179e\"], [0.4444444444444444, \"#bd3786\"], [0.5555555555555556, \"#d8576b\"], [0.6666666666666666, \"#ed7953\"], [0.7777777777777778, \"#fb9f3a\"], [0.8888888888888888, \"#fdca26\"], [1.0, \"#f0f921\"]], \"type\": \"histogram2d\"}], \"histogram2dcontour\": [{\"colorbar\": {\"outlinewidth\": 0, \"ticks\": \"\"}, \"colorscale\": [[0.0, \"#0d0887\"], [0.1111111111111111, \"#46039f\"], [0.2222222222222222, \"#7201a8\"], [0.3333333333333333, \"#9c179e\"], [0.4444444444444444, \"#bd3786\"], [0.5555555555555556, \"#d8576b\"], [0.6666666666666666, \"#ed7953\"], [0.7777777777777778, \"#fb9f3a\"], [0.8888888888888888, \"#fdca26\"], [1.0, \"#f0f921\"]], \"type\": \"histogram2dcontour\"}], \"mesh3d\": [{\"colorbar\": {\"outlinewidth\": 0, \"ticks\": \"\"}, \"type\": \"mesh3d\"}], \"parcoords\": [{\"line\": {\"colorbar\": {\"outlinewidth\": 0, \"ticks\": \"\"}}, \"type\": \"parcoords\"}], \"pie\": [{\"automargin\": true, \"type\": \"pie\"}], \"scatter\": [{\"marker\": {\"colorbar\": {\"outlinewidth\": 0, \"ticks\": \"\"}}, \"type\": \"scatter\"}], \"scatter3d\": [{\"line\": {\"colorbar\": {\"outlinewidth\": 0, \"ticks\": \"\"}}, \"marker\": {\"colorbar\": {\"outlinewidth\": 0, \"ticks\": \"\"}}, \"type\": \"scatter3d\"}], \"scattercarpet\": [{\"marker\": {\"colorbar\": {\"outlinewidth\": 0, \"ticks\": \"\"}}, \"type\": \"scattercarpet\"}], \"scattergeo\": [{\"marker\": {\"colorbar\": {\"outlinewidth\": 0, \"ticks\": \"\"}}, \"type\": \"scattergeo\"}], \"scattergl\": [{\"marker\": {\"colorbar\": {\"outlinewidth\": 0, \"ticks\": \"\"}}, \"type\": \"scattergl\"}], \"scattermapbox\": [{\"marker\": {\"colorbar\": {\"outlinewidth\": 0, \"ticks\": \"\"}}, \"type\": \"scattermapbox\"}], \"scatterpolar\": [{\"marker\": {\"colorbar\": {\"outlinewidth\": 0, \"ticks\": \"\"}}, \"type\": \"scatterpolar\"}], \"scatterpolargl\": [{\"marker\": {\"colorbar\": {\"outlinewidth\": 0, \"ticks\": \"\"}}, \"type\": \"scatterpolargl\"}], \"scatterternary\": [{\"marker\": {\"colorbar\": {\"outlinewidth\": 0, \"ticks\": \"\"}}, \"type\": \"scatterternary\"}], \"surface\": [{\"colorbar\": {\"outlinewidth\": 0, \"ticks\": \"\"}, \"colorscale\": [[0.0, \"#0d0887\"], [0.1111111111111111, \"#46039f\"], [0.2222222222222222, \"#7201a8\"], [0.3333333333333333, \"#9c179e\"], [0.4444444444444444, \"#bd3786\"], [0.5555555555555556, \"#d8576b\"], [0.6666666666666666, \"#ed7953\"], [0.7777777777777778, \"#fb9f3a\"], [0.8888888888888888, \"#fdca26\"], [1.0, \"#f0f921\"]], \"type\": \"surface\"}], \"table\": [{\"cells\": {\"fill\": {\"color\": \"#EBF0F8\"}, \"line\": {\"color\": \"white\"}}, \"header\": {\"fill\": {\"color\": \"#C8D4E3\"}, \"line\": {\"color\": \"white\"}}, \"type\": \"table\"}]}, \"layout\": {\"annotationdefaults\": {\"arrowcolor\": \"#2a3f5f\", \"arrowhead\": 0, \"arrowwidth\": 1}, \"coloraxis\": {\"colorbar\": {\"outlinewidth\": 0, \"ticks\": \"\"}}, \"colorscale\": {\"diverging\": [[0, \"#8e0152\"], [0.1, \"#c51b7d\"], [0.2, \"#de77ae\"], [0.3, \"#f1b6da\"], [0.4, \"#fde0ef\"], [0.5, \"#f7f7f7\"], [0.6, \"#e6f5d0\"], [0.7, \"#b8e186\"], [0.8, \"#7fbc41\"], [0.9, \"#4d9221\"], [1, \"#276419\"]], \"sequential\": [[0.0, \"#0d0887\"], [0.1111111111111111, \"#46039f\"], [0.2222222222222222, \"#7201a8\"], [0.3333333333333333, \"#9c179e\"], [0.4444444444444444, \"#bd3786\"], [0.5555555555555556, \"#d8576b\"], [0.6666666666666666, \"#ed7953\"], [0.7777777777777778, \"#fb9f3a\"], [0.8888888888888888, \"#fdca26\"], [1.0, \"#f0f921\"]], \"sequentialminus\": [[0.0, \"#0d0887\"], [0.1111111111111111, \"#46039f\"], [0.2222222222222222, \"#7201a8\"], [0.3333333333333333, \"#9c179e\"], [0.4444444444444444, \"#bd3786\"], [0.5555555555555556, \"#d8576b\"], [0.6666666666666666, \"#ed7953\"], [0.7777777777777778, \"#fb9f3a\"], [0.8888888888888888, \"#fdca26\"], [1.0, \"#f0f921\"]]}, \"colorway\": [\"#636efa\", \"#EF553B\", \"#00cc96\", \"#ab63fa\", \"#FFA15A\", \"#19d3f3\", \"#FF6692\", \"#B6E880\", \"#FF97FF\", \"#FECB52\"], \"font\": {\"color\": \"#2a3f5f\"}, \"geo\": {\"bgcolor\": \"white\", \"lakecolor\": \"white\", \"landcolor\": \"#E5ECF6\", \"showlakes\": true, \"showland\": true, \"subunitcolor\": \"white\"}, \"hoverlabel\": {\"align\": \"left\"}, \"hovermode\": \"closest\", \"mapbox\": {\"style\": \"light\"}, \"paper_bgcolor\": \"white\", \"plot_bgcolor\": \"#E5ECF6\", \"polar\": {\"angularaxis\": {\"gridcolor\": \"white\", \"linecolor\": \"white\", \"ticks\": \"\"}, \"bgcolor\": \"#E5ECF6\", \"radialaxis\": {\"gridcolor\": \"white\", \"linecolor\": \"white\", \"ticks\": \"\"}}, \"scene\": {\"xaxis\": {\"backgroundcolor\": \"#E5ECF6\", \"gridcolor\": \"white\", \"gridwidth\": 2, \"linecolor\": \"white\", \"showbackground\": true, \"ticks\": \"\", \"zerolinecolor\": \"white\"}, \"yaxis\": {\"backgroundcolor\": \"#E5ECF6\", \"gridcolor\": \"white\", \"gridwidth\": 2, \"linecolor\": \"white\", \"showbackground\": true, \"ticks\": \"\", \"zerolinecolor\": \"white\"}, \"zaxis\": {\"backgroundcolor\": \"#E5ECF6\", \"gridcolor\": \"white\", \"gridwidth\": 2, \"linecolor\": \"white\", \"showbackground\": true, \"ticks\": \"\", \"zerolinecolor\": \"white\"}}, \"shapedefaults\": {\"line\": {\"color\": \"#2a3f5f\"}}, \"ternary\": {\"aaxis\": {\"gridcolor\": \"white\", \"linecolor\": \"white\", \"ticks\": \"\"}, \"baxis\": {\"gridcolor\": \"white\", \"linecolor\": \"white\", \"ticks\": \"\"}, \"bgcolor\": \"#E5ECF6\", \"caxis\": {\"gridcolor\": \"white\", \"linecolor\": \"white\", \"ticks\": \"\"}}, \"title\": {\"x\": 0.05}, \"xaxis\": {\"automargin\": true, \"gridcolor\": \"white\", \"linecolor\": \"white\", \"ticks\": \"\", \"title\": {\"standoff\": 15}, \"zerolinecolor\": \"white\", \"zerolinewidth\": 2}, \"yaxis\": {\"automargin\": true, \"gridcolor\": \"white\", \"linecolor\": \"white\", \"ticks\": \"\", \"title\": {\"standoff\": 15}, \"zerolinecolor\": \"white\", \"zerolinewidth\": 2}}}, \"xaxis\": {\"anchor\": \"y\", \"domain\": [0.0, 1.0], \"title\": {\"text\": \"x\"}}, \"yaxis\": {\"anchor\": \"x\", \"domain\": [0.0, 1.0], \"title\": {\"text\": \"cases\"}}},\n",
              "                        {\"responsive\": true}\n",
              "                    ).then(function(){\n",
              "                            \n",
              "var gd = document.getElementById('cb0061f2-6a4f-4f88-9adf-cc9b1e9d041c');\n",
              "var x = new MutationObserver(function (mutations, observer) {{\n",
              "        var display = window.getComputedStyle(gd).display;\n",
              "        if (!display || display === 'none') {{\n",
              "            console.log([gd, 'removed!']);\n",
              "            Plotly.purge(gd);\n",
              "            observer.disconnect();\n",
              "        }}\n",
              "}});\n",
              "\n",
              "// Listen for the removal of the full notebook cells\n",
              "var notebookContainer = gd.closest('#notebook-container');\n",
              "if (notebookContainer) {{\n",
              "    x.observe(notebookContainer, {childList: true});\n",
              "}}\n",
              "\n",
              "// Listen for the clearing of the current output cell\n",
              "var outputEl = gd.closest('.output');\n",
              "if (outputEl) {{\n",
              "    x.observe(outputEl, {childList: true});\n",
              "}}\n",
              "\n",
              "                        })\n",
              "                };\n",
              "                \n",
              "            </script>\n",
              "        </div>\n",
              "</body>\n",
              "</html>"
            ]
          },
          "metadata": {
            "tags": []
          }
        }
      ]
    },
    {
      "cell_type": "code",
      "metadata": {
        "id": "yikUh5mpCNyx",
        "outputId": "235ad481-1035-4f4b-da45-74b25e1645b4",
        "colab": {
          "base_uri": "https://localhost:8080/",
          "height": 542
        }
      },
      "source": [
        "px.box(toot,y='cases')"
      ],
      "execution_count": null,
      "outputs": [
        {
          "output_type": "display_data",
          "data": {
            "text/html": [
              "<html>\n",
              "<head><meta charset=\"utf-8\" /></head>\n",
              "<body>\n",
              "    <div>\n",
              "            <script src=\"https://cdnjs.cloudflare.com/ajax/libs/mathjax/2.7.5/MathJax.js?config=TeX-AMS-MML_SVG\"></script><script type=\"text/javascript\">if (window.MathJax) {MathJax.Hub.Config({SVG: {font: \"STIX-Web\"}});}</script>\n",
              "                <script type=\"text/javascript\">window.PlotlyConfig = {MathJaxConfig: 'local'};</script>\n",
              "        <script src=\"https://cdn.plot.ly/plotly-latest.min.js\"></script>    \n",
              "            <div id=\"399f64f3-b116-4575-9094-43d6fcc470d4\" class=\"plotly-graph-div\" style=\"height:525px; width:100%;\"></div>\n",
              "            <script type=\"text/javascript\">\n",
              "                \n",
              "                    window.PLOTLYENV=window.PLOTLYENV || {};\n",
              "                    \n",
              "                if (document.getElementById(\"399f64f3-b116-4575-9094-43d6fcc470d4\")) {\n",
              "                    Plotly.newPlot(\n",
              "                        '399f64f3-b116-4575-9094-43d6fcc470d4',\n",
              "                        [{\"alignmentgroup\": \"True\", \"hoverlabel\": {\"namelength\": 0}, \"hovertemplate\": \"cases=%{y}\", \"legendgroup\": \"\", \"marker\": {\"color\": \"#636efa\"}, \"name\": \"\", \"notched\": false, \"offsetgroup\": \"\", \"orientation\": \"v\", \"showlegend\": false, \"type\": \"box\", \"x0\": \" \", \"xaxis\": \"x\", \"y\": [5143.0, 8220.0, 5631.0, 20630.0, 12529.0, 15660.0, 5314.0, 13897.0, 8993.0, 7811.0, 12771.0, 11164.0, 10295.0, 6636.0, 18936.0, 19046.0, 5045.0, 7843.0, 14324.0, 21253.0, 6307.0, 13238.0, 27164.0, 14687.0, 10729.0, 15302.0, 6654.0, 12323.0, 12043.0, 3301.0, 11262.0, 12481.0, 6614.0, 4867.0, 18528.0, 7317.0, 14986.0, 15447.0, 9546.0, 16360.0, 16542.0, 10731.0, 7552.0, 9980.666, 5011.0, 4470.0, 19824.0, 15076.0, 14451.0, 12617.0, 8594.0, 10691.0, 8441.0, 15729.0, 4030.0, 13620.0, 42263.0, 16865.0, 28472.0, 39443.0, 68091.0, 63568.0, 37507.0, 51145.0, 37374.0, 67330.0, 44418.0, 53709.0, 54709.0, 103751.0, 12987.0, 37563.0, 96576.0, 35070.0, 79706.0, 42628.0, 61259.0, 45088.0, 203508.0, 48426.0, 52430.0, 1011.0, 8488.0, 14112.0, 14981.0, 19870.0, 11358.0, 45412.0, 53906.0, 19500.0, 19594.0, 2150.0, 59975.0, 52193.0, 43866.0, 25063.0, 25487.0, 1780.0], \"y0\": \" \", \"yaxis\": \"y\"}],\n",
              "                        {\"boxmode\": \"group\", \"legend\": {\"tracegroupgap\": 0}, \"margin\": {\"t\": 60}, \"template\": {\"data\": {\"bar\": [{\"error_x\": {\"color\": \"#2a3f5f\"}, \"error_y\": {\"color\": \"#2a3f5f\"}, \"marker\": {\"line\": {\"color\": \"#E5ECF6\", \"width\": 0.5}}, \"type\": \"bar\"}], \"barpolar\": [{\"marker\": {\"line\": {\"color\": \"#E5ECF6\", \"width\": 0.5}}, \"type\": \"barpolar\"}], \"carpet\": [{\"aaxis\": {\"endlinecolor\": \"#2a3f5f\", \"gridcolor\": \"white\", \"linecolor\": \"white\", \"minorgridcolor\": \"white\", \"startlinecolor\": \"#2a3f5f\"}, \"baxis\": {\"endlinecolor\": \"#2a3f5f\", \"gridcolor\": \"white\", \"linecolor\": \"white\", \"minorgridcolor\": \"white\", \"startlinecolor\": \"#2a3f5f\"}, \"type\": \"carpet\"}], \"choropleth\": [{\"colorbar\": {\"outlinewidth\": 0, \"ticks\": \"\"}, \"type\": \"choropleth\"}], \"contour\": [{\"colorbar\": {\"outlinewidth\": 0, \"ticks\": \"\"}, \"colorscale\": [[0.0, \"#0d0887\"], [0.1111111111111111, \"#46039f\"], [0.2222222222222222, \"#7201a8\"], [0.3333333333333333, \"#9c179e\"], [0.4444444444444444, \"#bd3786\"], [0.5555555555555556, \"#d8576b\"], [0.6666666666666666, \"#ed7953\"], [0.7777777777777778, \"#fb9f3a\"], [0.8888888888888888, \"#fdca26\"], [1.0, \"#f0f921\"]], \"type\": \"contour\"}], \"contourcarpet\": [{\"colorbar\": {\"outlinewidth\": 0, \"ticks\": \"\"}, \"type\": \"contourcarpet\"}], \"heatmap\": [{\"colorbar\": {\"outlinewidth\": 0, \"ticks\": \"\"}, \"colorscale\": [[0.0, \"#0d0887\"], [0.1111111111111111, \"#46039f\"], [0.2222222222222222, \"#7201a8\"], [0.3333333333333333, \"#9c179e\"], [0.4444444444444444, \"#bd3786\"], [0.5555555555555556, \"#d8576b\"], [0.6666666666666666, \"#ed7953\"], [0.7777777777777778, \"#fb9f3a\"], [0.8888888888888888, \"#fdca26\"], [1.0, \"#f0f921\"]], \"type\": \"heatmap\"}], \"heatmapgl\": [{\"colorbar\": {\"outlinewidth\": 0, \"ticks\": \"\"}, \"colorscale\": [[0.0, \"#0d0887\"], [0.1111111111111111, \"#46039f\"], [0.2222222222222222, \"#7201a8\"], [0.3333333333333333, \"#9c179e\"], [0.4444444444444444, \"#bd3786\"], [0.5555555555555556, \"#d8576b\"], [0.6666666666666666, \"#ed7953\"], [0.7777777777777778, \"#fb9f3a\"], [0.8888888888888888, \"#fdca26\"], [1.0, \"#f0f921\"]], \"type\": \"heatmapgl\"}], \"histogram\": [{\"marker\": {\"colorbar\": {\"outlinewidth\": 0, \"ticks\": \"\"}}, \"type\": \"histogram\"}], \"histogram2d\": [{\"colorbar\": {\"outlinewidth\": 0, \"ticks\": \"\"}, \"colorscale\": [[0.0, \"#0d0887\"], [0.1111111111111111, \"#46039f\"], [0.2222222222222222, \"#7201a8\"], [0.3333333333333333, \"#9c179e\"], [0.4444444444444444, \"#bd3786\"], [0.5555555555555556, \"#d8576b\"], [0.6666666666666666, \"#ed7953\"], [0.7777777777777778, \"#fb9f3a\"], [0.8888888888888888, \"#fdca26\"], [1.0, \"#f0f921\"]], \"type\": \"histogram2d\"}], \"histogram2dcontour\": [{\"colorbar\": {\"outlinewidth\": 0, \"ticks\": \"\"}, \"colorscale\": [[0.0, \"#0d0887\"], [0.1111111111111111, \"#46039f\"], [0.2222222222222222, \"#7201a8\"], [0.3333333333333333, \"#9c179e\"], [0.4444444444444444, \"#bd3786\"], [0.5555555555555556, \"#d8576b\"], [0.6666666666666666, \"#ed7953\"], [0.7777777777777778, \"#fb9f3a\"], [0.8888888888888888, \"#fdca26\"], [1.0, \"#f0f921\"]], \"type\": \"histogram2dcontour\"}], \"mesh3d\": [{\"colorbar\": {\"outlinewidth\": 0, \"ticks\": \"\"}, \"type\": \"mesh3d\"}], \"parcoords\": [{\"line\": {\"colorbar\": {\"outlinewidth\": 0, \"ticks\": \"\"}}, \"type\": \"parcoords\"}], \"pie\": [{\"automargin\": true, \"type\": \"pie\"}], \"scatter\": [{\"marker\": {\"colorbar\": {\"outlinewidth\": 0, \"ticks\": \"\"}}, \"type\": \"scatter\"}], \"scatter3d\": [{\"line\": {\"colorbar\": {\"outlinewidth\": 0, \"ticks\": \"\"}}, \"marker\": {\"colorbar\": {\"outlinewidth\": 0, \"ticks\": \"\"}}, \"type\": \"scatter3d\"}], \"scattercarpet\": [{\"marker\": {\"colorbar\": {\"outlinewidth\": 0, \"ticks\": \"\"}}, \"type\": \"scattercarpet\"}], \"scattergeo\": [{\"marker\": {\"colorbar\": {\"outlinewidth\": 0, \"ticks\": \"\"}}, \"type\": \"scattergeo\"}], \"scattergl\": [{\"marker\": {\"colorbar\": {\"outlinewidth\": 0, \"ticks\": \"\"}}, \"type\": \"scattergl\"}], \"scattermapbox\": [{\"marker\": {\"colorbar\": {\"outlinewidth\": 0, \"ticks\": \"\"}}, \"type\": \"scattermapbox\"}], \"scatterpolar\": [{\"marker\": {\"colorbar\": {\"outlinewidth\": 0, \"ticks\": \"\"}}, \"type\": \"scatterpolar\"}], \"scatterpolargl\": [{\"marker\": {\"colorbar\": {\"outlinewidth\": 0, \"ticks\": \"\"}}, \"type\": \"scatterpolargl\"}], \"scatterternary\": [{\"marker\": {\"colorbar\": {\"outlinewidth\": 0, \"ticks\": \"\"}}, \"type\": \"scatterternary\"}], \"surface\": [{\"colorbar\": {\"outlinewidth\": 0, \"ticks\": \"\"}, \"colorscale\": [[0.0, \"#0d0887\"], [0.1111111111111111, \"#46039f\"], [0.2222222222222222, \"#7201a8\"], [0.3333333333333333, \"#9c179e\"], [0.4444444444444444, \"#bd3786\"], [0.5555555555555556, \"#d8576b\"], [0.6666666666666666, \"#ed7953\"], [0.7777777777777778, \"#fb9f3a\"], [0.8888888888888888, \"#fdca26\"], [1.0, \"#f0f921\"]], \"type\": \"surface\"}], \"table\": [{\"cells\": {\"fill\": {\"color\": \"#EBF0F8\"}, \"line\": {\"color\": \"white\"}}, \"header\": {\"fill\": {\"color\": \"#C8D4E3\"}, \"line\": {\"color\": \"white\"}}, \"type\": \"table\"}]}, \"layout\": {\"annotationdefaults\": {\"arrowcolor\": \"#2a3f5f\", \"arrowhead\": 0, \"arrowwidth\": 1}, \"coloraxis\": {\"colorbar\": {\"outlinewidth\": 0, \"ticks\": \"\"}}, \"colorscale\": {\"diverging\": [[0, \"#8e0152\"], [0.1, \"#c51b7d\"], [0.2, \"#de77ae\"], [0.3, \"#f1b6da\"], [0.4, \"#fde0ef\"], [0.5, \"#f7f7f7\"], [0.6, \"#e6f5d0\"], [0.7, \"#b8e186\"], [0.8, \"#7fbc41\"], [0.9, \"#4d9221\"], [1, \"#276419\"]], \"sequential\": [[0.0, \"#0d0887\"], [0.1111111111111111, \"#46039f\"], [0.2222222222222222, \"#7201a8\"], [0.3333333333333333, \"#9c179e\"], [0.4444444444444444, \"#bd3786\"], [0.5555555555555556, \"#d8576b\"], [0.6666666666666666, \"#ed7953\"], [0.7777777777777778, \"#fb9f3a\"], [0.8888888888888888, \"#fdca26\"], [1.0, \"#f0f921\"]], \"sequentialminus\": [[0.0, \"#0d0887\"], [0.1111111111111111, \"#46039f\"], [0.2222222222222222, \"#7201a8\"], [0.3333333333333333, \"#9c179e\"], [0.4444444444444444, \"#bd3786\"], [0.5555555555555556, \"#d8576b\"], [0.6666666666666666, \"#ed7953\"], [0.7777777777777778, \"#fb9f3a\"], [0.8888888888888888, \"#fdca26\"], [1.0, \"#f0f921\"]]}, \"colorway\": [\"#636efa\", \"#EF553B\", \"#00cc96\", \"#ab63fa\", \"#FFA15A\", \"#19d3f3\", \"#FF6692\", \"#B6E880\", \"#FF97FF\", \"#FECB52\"], \"font\": {\"color\": \"#2a3f5f\"}, \"geo\": {\"bgcolor\": \"white\", \"lakecolor\": \"white\", \"landcolor\": \"#E5ECF6\", \"showlakes\": true, \"showland\": true, \"subunitcolor\": \"white\"}, \"hoverlabel\": {\"align\": \"left\"}, \"hovermode\": \"closest\", \"mapbox\": {\"style\": \"light\"}, \"paper_bgcolor\": \"white\", \"plot_bgcolor\": \"#E5ECF6\", \"polar\": {\"angularaxis\": {\"gridcolor\": \"white\", \"linecolor\": \"white\", \"ticks\": \"\"}, \"bgcolor\": \"#E5ECF6\", \"radialaxis\": {\"gridcolor\": \"white\", \"linecolor\": \"white\", \"ticks\": \"\"}}, \"scene\": {\"xaxis\": {\"backgroundcolor\": \"#E5ECF6\", \"gridcolor\": \"white\", \"gridwidth\": 2, \"linecolor\": \"white\", \"showbackground\": true, \"ticks\": \"\", \"zerolinecolor\": \"white\"}, \"yaxis\": {\"backgroundcolor\": \"#E5ECF6\", \"gridcolor\": \"white\", \"gridwidth\": 2, \"linecolor\": \"white\", \"showbackground\": true, \"ticks\": \"\", \"zerolinecolor\": \"white\"}, \"zaxis\": {\"backgroundcolor\": \"#E5ECF6\", \"gridcolor\": \"white\", \"gridwidth\": 2, \"linecolor\": \"white\", \"showbackground\": true, \"ticks\": \"\", \"zerolinecolor\": \"white\"}}, \"shapedefaults\": {\"line\": {\"color\": \"#2a3f5f\"}}, \"ternary\": {\"aaxis\": {\"gridcolor\": \"white\", \"linecolor\": \"white\", \"ticks\": \"\"}, \"baxis\": {\"gridcolor\": \"white\", \"linecolor\": \"white\", \"ticks\": \"\"}, \"bgcolor\": \"#E5ECF6\", \"caxis\": {\"gridcolor\": \"white\", \"linecolor\": \"white\", \"ticks\": \"\"}}, \"title\": {\"x\": 0.05}, \"xaxis\": {\"automargin\": true, \"gridcolor\": \"white\", \"linecolor\": \"white\", \"ticks\": \"\", \"title\": {\"standoff\": 15}, \"zerolinecolor\": \"white\", \"zerolinewidth\": 2}, \"yaxis\": {\"automargin\": true, \"gridcolor\": \"white\", \"linecolor\": \"white\", \"ticks\": \"\", \"title\": {\"standoff\": 15}, \"zerolinecolor\": \"white\", \"zerolinewidth\": 2}}}, \"xaxis\": {\"anchor\": \"y\", \"domain\": [0.0, 1.0]}, \"yaxis\": {\"anchor\": \"x\", \"domain\": [0.0, 1.0], \"title\": {\"text\": \"cases\"}}},\n",
              "                        {\"responsive\": true}\n",
              "                    ).then(function(){\n",
              "                            \n",
              "var gd = document.getElementById('399f64f3-b116-4575-9094-43d6fcc470d4');\n",
              "var x = new MutationObserver(function (mutations, observer) {{\n",
              "        var display = window.getComputedStyle(gd).display;\n",
              "        if (!display || display === 'none') {{\n",
              "            console.log([gd, 'removed!']);\n",
              "            Plotly.purge(gd);\n",
              "            observer.disconnect();\n",
              "        }}\n",
              "}});\n",
              "\n",
              "// Listen for the removal of the full notebook cells\n",
              "var notebookContainer = gd.closest('#notebook-container');\n",
              "if (notebookContainer) {{\n",
              "    x.observe(notebookContainer, {childList: true});\n",
              "}}\n",
              "\n",
              "// Listen for the clearing of the current output cell\n",
              "var outputEl = gd.closest('.output');\n",
              "if (outputEl) {{\n",
              "    x.observe(outputEl, {childList: true});\n",
              "}}\n",
              "\n",
              "                        })\n",
              "                };\n",
              "                \n",
              "            </script>\n",
              "        </div>\n",
              "</body>\n",
              "</html>"
            ]
          },
          "metadata": {
            "tags": []
          }
        }
      ]
    },
    {
      "cell_type": "code",
      "metadata": {
        "id": "TCzOsxSRDwEf"
      },
      "source": [
        "toot=toot.loc[toot.cases<=80000]"
      ],
      "execution_count": 41,
      "outputs": []
    },
    {
      "cell_type": "code",
      "metadata": {
        "id": "wF0KX62nMh9c",
        "outputId": "6635c1de-d0b4-455b-bf19-a90d1bb82da3",
        "colab": {
          "base_uri": "https://localhost:8080/",
          "height": 35
        }
      },
      "source": [
        "adf=pmd.arima.ADFTest(alpha=.05)\n",
        "adf.should_diff(toot[['cases']])"
      ],
      "execution_count": null,
      "outputs": [
        {
          "output_type": "execute_result",
          "data": {
            "text/plain": [
              "(0.49644081219960445, True)"
            ]
          },
          "metadata": {
            "tags": []
          },
          "execution_count": 10
        }
      ]
    },
    {
      "cell_type": "code",
      "metadata": {
        "id": "7O9V1_GWMh9f",
        "outputId": "d2b898ed-4933-4f14-837f-81da485264a6",
        "colab": {
          "base_uri": "https://localhost:8080/",
          "height": 35
        }
      },
      "source": [
        "from pmdarima.arima import ndiffs\n",
        "ndiffs(toot, alpha=0.05, test='kpss', max_d=6)"
      ],
      "execution_count": null,
      "outputs": [
        {
          "output_type": "execute_result",
          "data": {
            "text/plain": [
              "1"
            ]
          },
          "metadata": {
            "tags": []
          },
          "execution_count": 11
        }
      ]
    },
    {
      "cell_type": "code",
      "metadata": {
        "id": "uAjUH1JvMh9o",
        "outputId": "462a6cd2-8c47-4926-a732-d394fcf8961b",
        "colab": {
          "base_uri": "https://localhost:8080/",
          "height": 179
        }
      },
      "source": [
        "def adf_test(timeseries):\n",
        "    #Perform Dickey-Fuller test:\n",
        "    print ('Results of Dickey-Fuller Test:')\n",
        "    dftest = adfuller(timeseries, autolag='AIC')\n",
        "    dfoutput = pd.Series(dftest[0:4], index=['Test Statistic','p-value','#Lags Used','Number of Observations Used'])\n",
        "    for key,value in dftest[4].items():\n",
        "       dfoutput['Critical Value (%s)'%key] = value\n",
        "    print (dfoutput)\n",
        "adf_test(toot)"
      ],
      "execution_count": null,
      "outputs": [
        {
          "output_type": "stream",
          "text": [
            "Results of Dickey-Fuller Test:\n",
            "Test Statistic                 -1.755483\n",
            "p-value                         0.402776\n",
            "#Lags Used                      6.000000\n",
            "Number of Observations Used    88.000000\n",
            "Critical Value (1%)            -3.506944\n",
            "Critical Value (5%)            -2.894990\n",
            "Critical Value (10%)           -2.584615\n",
            "dtype: float64\n"
          ],
          "name": "stdout"
        }
      ]
    },
    {
      "cell_type": "code",
      "metadata": {
        "id": "aOSA4VeMMCQL"
      },
      "source": [
        "toot = toot.diff(1)\n",
        "toot.dropna(inplace=True)"
      ],
      "execution_count": 42,
      "outputs": []
    },
    {
      "cell_type": "code",
      "metadata": {
        "id": "lMBljqe_Jyhg",
        "outputId": "96238d6f-97e6-4ea7-9d51-e411922e3b71",
        "colab": {
          "base_uri": "https://localhost:8080/",
          "height": 89
        }
      },
      "source": [
        "model1 = pmd.arima.auto_arima(toot['cases'], start_p=1, start_q=1,start_P=1, start_Q=1, m=12,\n",
        "                     max_p=6, max_q=6, max_P=6, max_Q=6, seasonal=True,stepwise=True)\n",
        "model1"
      ],
      "execution_count": 43,
      "outputs": [
        {
          "output_type": "execute_result",
          "data": {
            "text/plain": [
              "ARIMA(maxiter=50, method='lbfgs', order=(0, 0, 1), out_of_sample_size=0,\n",
              "      scoring='mse', scoring_args={}, seasonal_order=(2, 0, 0, 12),\n",
              "      start_params=None, suppress_warnings=False, trend=None,\n",
              "      with_intercept=False)"
            ]
          },
          "metadata": {
            "tags": []
          },
          "execution_count": 43
        }
      ]
    },
    {
      "cell_type": "code",
      "metadata": {
        "id": "I3oVx_K2Mh8l"
      },
      "source": [
        "n_train = 24\n",
        "n_records = len(toot)\n",
        "res=[]\n",
        "for i in range(n_train, n_records):\n",
        "    pre=[]\n",
        "    train, test = toot[0:i], toot[i:i+1]\n",
        "    mod = SARIMAX(train, order=(0, 0, 1), seasonal_order=(2, 0, 0, 3))\n",
        "    mod=mod.fit()\n",
        "    fore.update(mod.forecast())\n",
        "    pre = mod.forecast()\n",
        "    res.extend(rmse(test,pre))\n",
        "#df1.plot(legend=True,figsize=(15,10))\n",
        "#pre.plot(legend=True)"
      ],
      "execution_count": 62,
      "outputs": []
    },
    {
      "cell_type": "code",
      "metadata": {
        "id": "6OD9iEvJMh9Z",
        "outputId": "524a58ce-e54f-4ed2-aa7b-d2e2b2709c35",
        "colab": {
          "base_uri": "https://localhost:8080/",
          "height": 953
        }
      },
      "source": [
        "kk=mod.plot_diagnostics()\n",
        "kk.set_size_inches(15,13)\n",
        "tls.mpl_to_plotly(kk)"
      ],
      "execution_count": 66,
      "outputs": [
        {
          "output_type": "display_data",
          "data": {
            "text/html": [
              "<html>\n",
              "<head><meta charset=\"utf-8\" /></head>\n",
              "<body>\n",
              "    <div>\n",
              "            <script src=\"https://cdnjs.cloudflare.com/ajax/libs/mathjax/2.7.5/MathJax.js?config=TeX-AMS-MML_SVG\"></script><script type=\"text/javascript\">if (window.MathJax) {MathJax.Hub.Config({SVG: {font: \"STIX-Web\"}});}</script>\n",
              "                <script type=\"text/javascript\">window.PlotlyConfig = {MathJaxConfig: 'local'};</script>\n",
              "        <script src=\"https://cdn.plot.ly/plotly-latest.min.js\"></script>    \n",
              "            <div id=\"8986fd0b-267a-409e-8e6b-ba2113f7f4c3\" class=\"plotly-graph-div\" style=\"height:936px; width:1080px;\"></div>\n",
              "            <script type=\"text/javascript\">\n",
              "                \n",
              "                    window.PLOTLYENV=window.PLOTLYENV || {};\n",
              "                    \n",
              "                if (document.getElementById(\"8986fd0b-267a-409e-8e6b-ba2113f7f4c3\")) {\n",
              "                    Plotly.newPlot(\n",
              "                        '8986fd0b-267a-409e-8e6b-ba2113f7f4c3',\n",
              "                        [{\"line\": {\"color\": \"rgba (31, 119, 180, 1)\", \"dash\": \"solid\", \"width\": 1.5}, \"mode\": \"lines\", \"name\": \"_line0\", \"type\": \"scatter\", \"x\": [0.0, 1.0, 2.0, 3.0, 4.0, 5.0, 6.0, 7.0, 8.0, 9.0, 10.0, 11.0, 12.0, 13.0, 14.0, 15.0, 16.0, 17.0, 18.0, 19.0, 20.0, 21.0, 22.0, 23.0, 24.0, 25.0, 26.0, 27.0, 28.0, 29.0, 30.0, 31.0, 32.0, 33.0, 34.0, 35.0, 36.0, 37.0, 38.0, 39.0, 40.0, 41.0, 42.0, 43.0, 44.0, 45.0, 46.0, 47.0, 48.0, 49.0, 50.0, 51.0, 52.0, 53.0, 54.0, 55.0, 56.0, 57.0, 58.0, 59.0, 60.0, 61.0, 62.0, 63.0, 64.0, 65.0, 66.0, 67.0, 68.0, 69.0, 70.0, 71.0, 72.0, 73.0, 74.0, 75.0, 76.0, 77.0, 78.0, 79.0, 80.0, 81.0, 82.0, 83.0, 84.0, 85.0, 86.0, 87.0, 88.0, 89.0, 90.0, 91.0, 92.0], \"xaxis\": \"x\", \"y\": [0.17362038285111203, -0.08447670462099613, 0.8718413126959443, -0.06972814870284108, 0.13146777710818516, -0.4281197668137886, 0.3024665314967684, -0.19144596112556994, -0.015746736321624544, 0.3077826577957598, 0.01778282061781251, -0.32744836232068825, -0.1024257233585787, 0.6439866259696129, 0.27568300924522576, -0.7806751375429534, 0.018824647411630754, 0.4359387093736088, 0.3191613370113553, -0.5156549449823206, 0.35766644940805437, 0.9295643341256186, -0.6358538701266834, -0.2853538859871294, 0.6238135000868351, -0.9055475560284644, 0.037638932752762276, 0.4309394146644411, -0.8690665766859544, 0.1403300522254965, 0.258411716044396, -0.6639403016153569, -0.1461587087765578, 0.8858603438911122, -0.6697718563317199, 0.3598242606002515, 0.5112343029762648, -0.5244654211890312, 0.3238044504591307, 0.5134614292051284, -0.5411541467860926, -0.15887510387861337, 0.10438392675519022, -0.5515372222880434, -0.2038716327042411, 1.0096786362930672, -0.07521730948097156, -0.16819638992386937, 0.15909328679528753, -0.415644584305775, -0.08445144413696655, 0.14216283096747348, 0.37401652288218856, -0.5952376037552725, 0.27905471091038214, 2.1542813573191815, -0.8785823898349451, 0.5068315462826868, 1.7546725306863737, 2.031847105663074, 1.1479860276420315, -0.31241053973336197, 0.7400333631963086, -0.3931583418322338, 1.6134656005895276, 0.18507038426624098, 0.34265219919888446, 0.20067040532198294, -2.898299206168617, 0.1253991062249555, 0.6413452357732109, 1.9866041666037526, -0.8603348455096378, 0.8357943151331206, -0.8274962518539194, -0.3181734386122833, 0.4329649399147143, -2.5596265281522697, -1.573907295506008, 0.15368294164641888, -1.2917105303412164, -0.06286866966525916, -0.40553653995844785, 0.9060122333912445, 1.3072386340124127, -1.7616365044597742, -0.14918175182004167, -0.9828264138867713, 2.599192971619315, 1.5672571046565344, 0.04990525032416249, -0.9489557790179083, -0.5879850053301793], \"yaxis\": \"y\"}, {\"line\": {\"color\": \"rgba (255, 127, 14, 1)\", \"dash\": \"solid\", \"width\": 1.5}, \"mode\": \"lines\", \"name\": \"KDE\", \"type\": \"scatter\", \"x\": [-3.92, -3.76, -3.6, -3.44, -3.28, -3.12, -2.96, -2.8, -2.6399999999999997, -2.48, -2.32, -2.16, -2.0, -1.8399999999999999, -1.6799999999999997, -1.52, -1.3599999999999999, -1.1999999999999997, -1.04, -0.8799999999999999, -0.7199999999999998, -0.56, -0.3999999999999999, -0.23999999999999977, -0.08000000000000007, 0.08000000000000007, 0.2400000000000002, 0.40000000000000036, 0.5600000000000005, 0.7199999999999998, 0.8799999999999999, 1.04, 1.2000000000000002, 1.3600000000000003, 1.5200000000000005, 1.6800000000000006, 1.8399999999999999, 2.0, 2.16, 2.3200000000000003, 2.4800000000000004, 2.6400000000000006, 2.8, 2.96, 3.12, 3.2800000000000002, 3.4400000000000004, 3.6000000000000005, 3.76, 3.92], \"xaxis\": \"x2\", \"y\": [0.00021662264995639193, 0.0007133059672498794, 0.0019455545276677636, 0.004415145700774801, 0.008384762183146124, 0.013419338728071913, 0.01824644665298377, 0.02128440200079729, 0.021637846352487482, 0.019884188419518067, 0.018003243898519282, 0.018320991617840104, 0.022160070745765644, 0.029472088080134306, 0.04017127822341915, 0.05614131311606778, 0.08158661978145601, 0.12049878029257441, 0.1731105696184036, 0.23494950634346676, 0.29974177929309487, 0.3631150171440773, 0.42297551279581974, 0.47608781510370796, 0.5147331765191017, 0.5278573099749514, 0.5072168381672935, 0.4539574882436657, 0.3796063922958738, 0.3000903955607977, 0.22808317099062472, 0.16990523810895172, 0.1272477091642914, 0.09939840236312276, 0.08367291307818309, 0.07553419799983677, 0.06990232315686117, 0.06304466721457393, 0.05370696316177901, 0.04282083826081738, 0.032100280057954025, 0.022703041454295615, 0.014972152118706436, 0.008954905709772394, 0.004702910769392283, 0.0021117546214645313, 0.0007963707901207488, 0.000249521664244348, 6.45614229633857e-05, 1.3748320433722655e-05], \"yaxis\": \"y2\"}, {\"line\": {\"color\": \"rgba (44, 160, 44, 1)\", \"dash\": \"solid\", \"width\": 1.5}, \"mode\": \"lines\", \"name\": \"N(0,1)\", \"type\": \"scatter\", \"x\": [-3.92, -3.76, -3.6, -3.44, -3.28, -3.12, -2.96, -2.8, -2.6399999999999997, -2.48, -2.32, -2.16, -2.0, -1.8399999999999999, -1.6799999999999997, -1.52, -1.3599999999999999, -1.1999999999999997, -1.04, -0.8799999999999999, -0.7199999999999998, -0.56, -0.3999999999999999, -0.23999999999999977, -0.08000000000000007, 0.08000000000000007, 0.2400000000000002, 0.40000000000000036, 0.5600000000000005, 0.7199999999999998, 0.8799999999999999, 1.04, 1.2000000000000002, 1.3600000000000003, 1.5200000000000005, 1.6800000000000006, 1.8399999999999999, 2.0, 2.16, 2.3200000000000003, 2.4800000000000004, 2.6400000000000006, 2.8, 2.96, 3.12, 3.2800000000000002, 3.4400000000000004, 3.6000000000000005, 3.76, 3.92], \"xaxis\": \"x2\", \"y\": [0.0001837124980024571, 0.0003396012124836548, 0.0006119019301137719, 0.0010746733401537356, 0.0018397261808242812, 0.0030698133011047403, 0.004992899213612376, 0.007915451582979969, 0.012231526351277989, 0.01842331064686205, 0.027048099546881785, 0.03870685614745561, 0.05399096651318806, 0.07340681258165692, 0.09728226933146754, 0.12566463678908815, 0.1582247903703831, 0.19418605498321304, 0.2322970047433662, 0.27086397179833804, 0.307851260469853, 0.34104578863035256, 0.3682701403033234, 0.38761661512501416, 0.3976677055116089, 0.3976677055116089, 0.3876166151250141, 0.3682701403033233, 0.3410457886303525, 0.307851260469853, 0.27086397179833804, 0.2322970047433662, 0.19418605498321292, 0.158224790370383, 0.12566463678908807, 0.0972822693314674, 0.07340681258165692, 0.05399096651318806, 0.03870685614745561, 0.027048099546881765, 0.01842331064686203, 0.012231526351277954, 0.007915451582979969, 0.004992899213612376, 0.0030698133011047403, 0.0018397261808242777, 0.0010746733401537337, 0.0006119019301137709, 0.0003396012124836548, 0.0001837124980024571], \"yaxis\": \"y2\"}, {\"marker\": {\"color\": \"#1F77B4\", \"line\": {\"width\": 1.0}}, \"opacity\": 1, \"orientation\": \"v\", \"type\": \"bar\", \"x\": [-2.6234245972792203, -2.0736753795004272, -1.5239261617216338, -0.9741769439428405, -0.4244277261640472, 0.12532149161474604, 0.6750707093935391, 1.2248199271723323, 1.7745691449511258, 2.324318362729919], \"xaxis\": \"x2\", \"y\": [0.03911852104306093, 0.0, 0.05867778156459142, 0.1564740841722438, 0.41074447095213984, 0.6650148577320364, 0.29338890782295723, 0.05867778156459141, 0.09779630260765235, 0.039118521043060996], \"yaxis\": \"y2\"}, {\"marker\": {\"color\": \"#0000FF\", \"line\": {\"color\": \"#0000FF\", \"width\": 1.0}, \"opacity\": 1, \"size\": 6.0, \"symbol\": \"circle\"}, \"mode\": \"markers\", \"name\": \"_line0\", \"type\": \"scatter\", \"x\": [-2.3030399445897807, -2.0280691449339066, -1.8533669070077183, -1.7217965324010607, -1.614666302414813, -1.5233963507186319, -1.443299323748254, -1.3715204728028318, -1.3061858555323984, -1.2459957446269374, -1.1900097671160506, -1.137524355472557, -1.0879985567357549, -1.0410069117561174, -0.9962083232351673, -0.9533247958936263, -0.912126504003799, -0.8724210457171899, -0.8340455451790011, -0.7968607388267138, -0.7607464737712613, -0.7255982301945619, -0.6913243989287915, -0.6578441244318577, -0.6250855768781765, -0.5929845539816319, -0.5614833390479699, -0.5305297601890662, -0.5000764089501503, -0.4700799863487625, -0.44050075154395824, -0.41130205376077134, -0.3824499321848252, -0.35391277166491125, -0.3256610044665333, -0.29766685018639616, -0.26990408739737765, -0.24234785174180232, -0.21497445609916144, -0.187761229176118, -0.16068636944186104, -0.13372881179106894, -0.10686810468305773, -0.08008429579681307, -0.05335782447101844, -0.026669419376159898, 0.0, 0.02666941937615976, 0.053357824471018576, 0.08008429579681307, 0.10686810468305759, 0.13372881179106894, 0.16068636944186104, 0.18776122917611815, 0.21497445609916144, 0.24234785174180218, 0.2699040873973778, 0.29766685018639616, 0.3256610044665331, 0.35391277166491136, 0.3824499321848252, 0.41130205376077117, 0.44050075154395824, 0.4700799863487625, 0.5000764089501505, 0.5305297601890662, 0.5614833390479699, 0.5929845539816321, 0.6250855768781765, 0.6578441244318576, 0.6913243989287915, 0.7255982301945619, 0.7607464737712611, 0.7968607388267138, 0.8340455451790011, 0.8724210457171898, 0.912126504003799, 0.9533247958936263, 0.9962083232351674, 1.0410069117561174, 1.0879985567357549, 1.137524355472557, 1.1900097671160506, 1.2459957446269367, 1.3061858555323984, 1.3715204728028318, 1.4432993237482534, 1.5233963507186319, 1.614666302414813, 1.7217965324010607, 1.8533669070077188, 2.028069144933906, 2.303039944589782], \"xaxis\": \"x3\", \"y\": [-2.898299206168617, -2.5596265281522697, -1.7616365044597742, -1.573907295506008, -1.2917105303412164, -0.9828264138867713, -0.9489557790179083, -0.9055475560284644, -0.8785823898349451, -0.8690665766859544, -0.8603348455096378, -0.8274962518539194, -0.7806751375429534, -0.6697718563317199, -0.6639403016153569, -0.6358538701266834, -0.5952376037552725, -0.5879850053301793, -0.5515372222880434, -0.5411541467860926, -0.5244654211890312, -0.5156549449823206, -0.4281197668137886, -0.415644584305775, -0.40553653995844785, -0.3931583418322338, -0.32744836232068825, -0.3181734386122833, -0.31241053973336197, -0.2853538859871294, -0.2038716327042411, -0.19144596112556994, -0.16819638992386937, -0.15887510387861337, -0.14918175182004167, -0.1461587087765578, -0.1024257233585787, -0.08447670462099613, -0.08445144413696655, -0.07521730948097156, -0.06972814870284108, -0.06286866966525916, -0.015746736321624544, 0.01778282061781251, 0.018824647411630754, 0.037638932752762276, 0.04990525032416249, 0.10438392675519022, 0.1253991062249555, 0.13146777710818516, 0.1403300522254965, 0.14216283096747348, 0.15368294164641888, 0.15909328679528753, 0.17362038285111203, 0.18507038426624098, 0.20067040532198294, 0.258411716044396, 0.27568300924522576, 0.27905471091038214, 0.3024665314967684, 0.3077826577957598, 0.3191613370113553, 0.3238044504591307, 0.34265219919888446, 0.35766644940805437, 0.3598242606002515, 0.37401652288218856, 0.4309394146644411, 0.4329649399147143, 0.4359387093736088, 0.5068315462826868, 0.5112343029762648, 0.5134614292051284, 0.6238135000868351, 0.6413452357732109, 0.6439866259696129, 0.7400333631963086, 0.8357943151331206, 0.8718413126959443, 0.8858603438911122, 0.9060122333912445, 0.9295643341256186, 1.0096786362930672, 1.1479860276420315, 1.3072386340124127, 1.5672571046565344, 1.6134656005895276, 1.7546725306863737, 1.9866041666037526, 2.031847105663074, 2.1542813573191815, 2.599192971619315], \"yaxis\": \"y3\"}, {\"line\": {\"color\": \"rgba (255, 0, 0, 1)\", \"dash\": \"solid\", \"width\": 1.5}, \"mode\": \"lines\", \"name\": \"_line1\", \"type\": \"scatter\", \"x\": [-2.3030399445897807, -2.0280691449339066, -1.8533669070077183, -1.7217965324010607, -1.614666302414813, -1.5233963507186319, -1.443299323748254, -1.3715204728028318, -1.3061858555323984, -1.2459957446269374, -1.1900097671160506, -1.137524355472557, -1.0879985567357549, -1.0410069117561174, -0.9962083232351673, -0.9533247958936263, -0.912126504003799, -0.8724210457171899, -0.8340455451790011, -0.7968607388267138, -0.7607464737712613, -0.7255982301945619, -0.6913243989287915, -0.6578441244318577, -0.6250855768781765, -0.5929845539816319, -0.5614833390479699, -0.5305297601890662, -0.5000764089501503, -0.4700799863487625, -0.44050075154395824, -0.41130205376077134, -0.3824499321848252, -0.35391277166491125, -0.3256610044665333, -0.29766685018639616, -0.26990408739737765, -0.24234785174180232, -0.21497445609916144, -0.187761229176118, -0.16068636944186104, -0.13372881179106894, -0.10686810468305773, -0.08008429579681307, -0.05335782447101844, -0.026669419376159898, 0.0, 0.02666941937615976, 0.053357824471018576, 0.08008429579681307, 0.10686810468305759, 0.13372881179106894, 0.16068636944186104, 0.18776122917611815, 0.21497445609916144, 0.24234785174180218, 0.2699040873973778, 0.29766685018639616, 0.3256610044665331, 0.35391277166491136, 0.3824499321848252, 0.41130205376077117, 0.44050075154395824, 0.4700799863487625, 0.5000764089501505, 0.5305297601890662, 0.5614833390479699, 0.5929845539816321, 0.6250855768781765, 0.6578441244318576, 0.6913243989287915, 0.7255982301945619, 0.7607464737712611, 0.7968607388267138, 0.8340455451790011, 0.8724210457171898, 0.912126504003799, 0.9533247958936263, 0.9962083232351674, 1.0410069117561174, 1.0879985567357549, 1.137524355472557, 1.1900097671160506, 1.2459957446269367, 1.3061858555323984, 1.3715204728028318, 1.4432993237482534, 1.5233963507186319, 1.614666302414813, 1.7217965324010607, 1.8533669070077188, 2.028069144933906, 2.303039944589782], \"xaxis\": \"x3\", \"y\": [-1.9768752101051914, -1.733914612754121, -1.5795500033547358, -1.4632961434970941, -1.3686372753394902, -1.2879923413608294, -1.2172196573408443, -1.1537968047154066, -1.0960679925666474, -1.0428847988656444, -0.9934163223715876, -0.9470409000319099, -0.9032805528952634, -0.8617593508292597, -0.8221759047282318, -0.784284581604245, -0.7478823104542787, -0.7127990875248417, -0.6788909978437798, -0.6460349899511519, -0.6141248983277914, -0.5830683706313118, -0.5527844622008062, -0.523201730138227, -0.49425670655042575, -0.46589266313823197, -0.438058602186504, -0.4107084252981776, -0.38380024298351445, -0.3572957968286893, -0.33115997234711947, -0.3053603853940511, -0.27986702863867735, -0.25465196734744633, -0.2296890758573984, -0.20495380776801508, -0.1804229941697068, -0.15607466524167396, -0.13188789135445927, -0.1078426404501907, -0.0839196489817728, -0.06010030409802794, -0.03636653508545658, -0.01270071233452108, 0.010914447698936708, 0.03449597290928341, 0.05806072258723928, 0.08162547226519502, 0.10520699747554198, 0.12882215750899964, 0.15248798025993504, 0.1762217492725065, 0.20004109415625138, 0.22396408562466935, 0.24800933652893786, 0.2721961104161524, 0.2965444393441855, 0.3210752529424936, 0.34581052103187676, 0.3707734125219249, 0.3959884738131559, 0.42148183056852945, 0.447281417521598, 0.4734172420031678, 0.49992168815799315, 0.5268298704726562, 0.5541800473609826, 0.5820141083127107, 0.6103781517249043, 0.6393231753127054, 0.6689059073752848, 0.6991898158057903, 0.7302463435022698, 0.7621564351256305, 0.7950124430182584, 0.8289205326993202, 0.8640037556287572, 0.9004060267787235, 0.9382973499027104, 0.9778807960037382, 1.019401998069742, 1.0631623452063885, 1.1095377675460663, 1.1590062440401228, 1.2121894377411262, 1.2699182498898853, 1.3333411025153226, 1.4041137865353082, 1.484758720513969, 1.579417588671573, 1.695671448529215, 1.8500360579285993, 2.0929966552796713], \"yaxis\": \"y3\"}, {\"marker\": {\"color\": \"#1F77B4\", \"line\": {\"color\": \"#1F77B4\", \"width\": 1.0}, \"opacity\": 1, \"size\": 5.0, \"symbol\": \"circle\"}, \"mode\": \"markers\", \"name\": \"_line1\", \"type\": \"scatter\", \"x\": [0.0, 1.0, 2.0, 3.0, 4.0, 5.0, 6.0, 7.0, 8.0, 9.0, 10.0], \"xaxis\": \"x4\", \"y\": [1.0, 0.009851763412969991, -0.06701049745824215, -0.014374743930707727, -0.020102497831161765, 0.1330322188644492, 0.029028286447085456, 0.0465612891273048, -0.15002856333647527, 0.0765086026040599, -0.045323398242993765], \"yaxis\": \"y4\"}],\n",
              "                        {\"annotations\": [{\"font\": {\"color\": \"#000000\", \"size\": 12.0}, \"showarrow\": false, \"text\": \"Standardized residual\", \"x\": 0.22727272727272724, \"xanchor\": \"center\", \"xref\": \"paper\", \"y\": 1.0165205091937766, \"yanchor\": \"bottom\", \"yref\": \"paper\"}, {\"font\": {\"color\": \"#000000\", \"size\": 12.0}, \"showarrow\": false, \"text\": \"Histogram plus estimated density\", \"x\": 0.7727272727272726, \"xanchor\": \"center\", \"xref\": \"paper\", \"y\": 1.0165205091937766, \"yanchor\": \"bottom\", \"yref\": \"paper\"}, {\"align\": \"left\", \"font\": {\"color\": \"#000000\", \"size\": 10.0}, \"opacity\": 1, \"showarrow\": false, \"text\": \"KDE\", \"x\": 0.953279405740191, \"xanchor\": \"left\", \"xref\": \"paper\", \"y\": 0.9768416923200216, \"yanchor\": \"bottom\", \"yref\": \"paper\"}, {\"align\": \"left\", \"font\": {\"color\": \"#000000\", \"size\": 10.0}, \"opacity\": 1, \"showarrow\": false, \"text\": \"N(0,1)\", \"x\": 0.953279405740191, \"xanchor\": \"left\", \"xref\": \"paper\", \"y\": 0.9555592351317221, \"yanchor\": \"bottom\", \"yref\": \"paper\"}, {\"align\": \"left\", \"font\": {\"color\": \"#000000\", \"size\": 10.0}, \"opacity\": 1, \"showarrow\": false, \"text\": \"Hist\", \"x\": 0.953279405740191, \"xanchor\": \"left\", \"xref\": \"paper\", \"y\": 0.9342767779434227, \"yanchor\": \"bottom\", \"yref\": \"paper\"}, {\"font\": {\"color\": \"#000000\", \"size\": 12.0}, \"showarrow\": false, \"text\": \"Normal Q-Q\", \"x\": 0.22727272727272724, \"xanchor\": \"center\", \"xref\": \"paper\", \"y\": 0.47131284557027153, \"yanchor\": \"bottom\", \"yref\": \"paper\"}, {\"font\": {\"color\": \"#000000\", \"size\": 12.0}, \"showarrow\": false, \"text\": \"Correlogram\", \"x\": 0.7727272727272726, \"xanchor\": \"center\", \"xref\": \"paper\", \"y\": 0.47131284557027153, \"yanchor\": \"bottom\", \"yref\": \"paper\"}], \"autosize\": false, \"bargap\": 0.0, \"height\": 936, \"hovermode\": \"closest\", \"margin\": {\"b\": 117, \"l\": 135, \"pad\": 0, \"r\": 108, \"t\": 112}, \"showlegend\": false, \"template\": {\"data\": {\"bar\": [{\"error_x\": {\"color\": \"#2a3f5f\"}, \"error_y\": {\"color\": \"#2a3f5f\"}, \"marker\": {\"line\": {\"color\": \"#E5ECF6\", \"width\": 0.5}}, \"type\": \"bar\"}], \"barpolar\": [{\"marker\": {\"line\": {\"color\": \"#E5ECF6\", \"width\": 0.5}}, \"type\": \"barpolar\"}], \"carpet\": [{\"aaxis\": {\"endlinecolor\": \"#2a3f5f\", \"gridcolor\": \"white\", \"linecolor\": \"white\", \"minorgridcolor\": \"white\", \"startlinecolor\": \"#2a3f5f\"}, \"baxis\": {\"endlinecolor\": \"#2a3f5f\", \"gridcolor\": \"white\", \"linecolor\": \"white\", \"minorgridcolor\": \"white\", \"startlinecolor\": \"#2a3f5f\"}, \"type\": \"carpet\"}], \"choropleth\": [{\"colorbar\": {\"outlinewidth\": 0, \"ticks\": \"\"}, \"type\": \"choropleth\"}], \"contour\": [{\"colorbar\": {\"outlinewidth\": 0, \"ticks\": \"\"}, \"colorscale\": [[0.0, \"#0d0887\"], [0.1111111111111111, \"#46039f\"], [0.2222222222222222, \"#7201a8\"], [0.3333333333333333, \"#9c179e\"], [0.4444444444444444, \"#bd3786\"], [0.5555555555555556, \"#d8576b\"], [0.6666666666666666, \"#ed7953\"], [0.7777777777777778, \"#fb9f3a\"], [0.8888888888888888, \"#fdca26\"], [1.0, \"#f0f921\"]], \"type\": \"contour\"}], \"contourcarpet\": [{\"colorbar\": {\"outlinewidth\": 0, \"ticks\": \"\"}, \"type\": \"contourcarpet\"}], \"heatmap\": [{\"colorbar\": {\"outlinewidth\": 0, \"ticks\": \"\"}, \"colorscale\": [[0.0, \"#0d0887\"], [0.1111111111111111, \"#46039f\"], [0.2222222222222222, \"#7201a8\"], [0.3333333333333333, \"#9c179e\"], [0.4444444444444444, \"#bd3786\"], [0.5555555555555556, \"#d8576b\"], [0.6666666666666666, \"#ed7953\"], [0.7777777777777778, \"#fb9f3a\"], [0.8888888888888888, \"#fdca26\"], [1.0, \"#f0f921\"]], \"type\": \"heatmap\"}], \"heatmapgl\": [{\"colorbar\": {\"outlinewidth\": 0, \"ticks\": \"\"}, \"colorscale\": [[0.0, \"#0d0887\"], [0.1111111111111111, \"#46039f\"], [0.2222222222222222, \"#7201a8\"], [0.3333333333333333, \"#9c179e\"], [0.4444444444444444, \"#bd3786\"], [0.5555555555555556, \"#d8576b\"], [0.6666666666666666, \"#ed7953\"], [0.7777777777777778, \"#fb9f3a\"], [0.8888888888888888, \"#fdca26\"], [1.0, \"#f0f921\"]], \"type\": \"heatmapgl\"}], \"histogram\": [{\"marker\": {\"colorbar\": {\"outlinewidth\": 0, \"ticks\": \"\"}}, \"type\": \"histogram\"}], \"histogram2d\": [{\"colorbar\": {\"outlinewidth\": 0, \"ticks\": \"\"}, \"colorscale\": [[0.0, \"#0d0887\"], [0.1111111111111111, \"#46039f\"], [0.2222222222222222, \"#7201a8\"], [0.3333333333333333, \"#9c179e\"], [0.4444444444444444, \"#bd3786\"], [0.5555555555555556, \"#d8576b\"], [0.6666666666666666, \"#ed7953\"], [0.7777777777777778, \"#fb9f3a\"], [0.8888888888888888, \"#fdca26\"], [1.0, \"#f0f921\"]], \"type\": \"histogram2d\"}], \"histogram2dcontour\": [{\"colorbar\": {\"outlinewidth\": 0, \"ticks\": \"\"}, \"colorscale\": [[0.0, \"#0d0887\"], [0.1111111111111111, \"#46039f\"], [0.2222222222222222, \"#7201a8\"], [0.3333333333333333, \"#9c179e\"], [0.4444444444444444, \"#bd3786\"], [0.5555555555555556, \"#d8576b\"], [0.6666666666666666, \"#ed7953\"], [0.7777777777777778, \"#fb9f3a\"], [0.8888888888888888, \"#fdca26\"], [1.0, \"#f0f921\"]], \"type\": \"histogram2dcontour\"}], \"mesh3d\": [{\"colorbar\": {\"outlinewidth\": 0, \"ticks\": \"\"}, \"type\": \"mesh3d\"}], \"parcoords\": [{\"line\": {\"colorbar\": {\"outlinewidth\": 0, \"ticks\": \"\"}}, \"type\": \"parcoords\"}], \"pie\": [{\"automargin\": true, \"type\": \"pie\"}], \"scatter\": [{\"marker\": {\"colorbar\": {\"outlinewidth\": 0, \"ticks\": \"\"}}, \"type\": \"scatter\"}], \"scatter3d\": [{\"line\": {\"colorbar\": {\"outlinewidth\": 0, \"ticks\": \"\"}}, \"marker\": {\"colorbar\": {\"outlinewidth\": 0, \"ticks\": \"\"}}, \"type\": \"scatter3d\"}], \"scattercarpet\": [{\"marker\": {\"colorbar\": {\"outlinewidth\": 0, \"ticks\": \"\"}}, \"type\": \"scattercarpet\"}], \"scattergeo\": [{\"marker\": {\"colorbar\": {\"outlinewidth\": 0, \"ticks\": \"\"}}, \"type\": \"scattergeo\"}], \"scattergl\": [{\"marker\": {\"colorbar\": {\"outlinewidth\": 0, \"ticks\": \"\"}}, \"type\": \"scattergl\"}], \"scattermapbox\": [{\"marker\": {\"colorbar\": {\"outlinewidth\": 0, \"ticks\": \"\"}}, \"type\": \"scattermapbox\"}], \"scatterpolar\": [{\"marker\": {\"colorbar\": {\"outlinewidth\": 0, \"ticks\": \"\"}}, \"type\": \"scatterpolar\"}], \"scatterpolargl\": [{\"marker\": {\"colorbar\": {\"outlinewidth\": 0, \"ticks\": \"\"}}, \"type\": \"scatterpolargl\"}], \"scatterternary\": [{\"marker\": {\"colorbar\": {\"outlinewidth\": 0, \"ticks\": \"\"}}, \"type\": \"scatterternary\"}], \"surface\": [{\"colorbar\": {\"outlinewidth\": 0, \"ticks\": \"\"}, \"colorscale\": [[0.0, \"#0d0887\"], [0.1111111111111111, \"#46039f\"], [0.2222222222222222, \"#7201a8\"], [0.3333333333333333, \"#9c179e\"], [0.4444444444444444, \"#bd3786\"], [0.5555555555555556, \"#d8576b\"], [0.6666666666666666, \"#ed7953\"], [0.7777777777777778, \"#fb9f3a\"], [0.8888888888888888, \"#fdca26\"], [1.0, \"#f0f921\"]], \"type\": \"surface\"}], \"table\": [{\"cells\": {\"fill\": {\"color\": \"#EBF0F8\"}, \"line\": {\"color\": \"white\"}}, \"header\": {\"fill\": {\"color\": \"#C8D4E3\"}, \"line\": {\"color\": \"white\"}}, \"type\": \"table\"}]}, \"layout\": {\"annotationdefaults\": {\"arrowcolor\": \"#2a3f5f\", \"arrowhead\": 0, \"arrowwidth\": 1}, \"coloraxis\": {\"colorbar\": {\"outlinewidth\": 0, \"ticks\": \"\"}}, \"colorscale\": {\"diverging\": [[0, \"#8e0152\"], [0.1, \"#c51b7d\"], [0.2, \"#de77ae\"], [0.3, \"#f1b6da\"], [0.4, \"#fde0ef\"], [0.5, \"#f7f7f7\"], [0.6, \"#e6f5d0\"], [0.7, \"#b8e186\"], [0.8, \"#7fbc41\"], [0.9, \"#4d9221\"], [1, \"#276419\"]], \"sequential\": [[0.0, \"#0d0887\"], [0.1111111111111111, \"#46039f\"], [0.2222222222222222, \"#7201a8\"], [0.3333333333333333, \"#9c179e\"], [0.4444444444444444, \"#bd3786\"], [0.5555555555555556, \"#d8576b\"], [0.6666666666666666, \"#ed7953\"], [0.7777777777777778, \"#fb9f3a\"], [0.8888888888888888, \"#fdca26\"], [1.0, \"#f0f921\"]], \"sequentialminus\": [[0.0, \"#0d0887\"], [0.1111111111111111, \"#46039f\"], [0.2222222222222222, \"#7201a8\"], [0.3333333333333333, \"#9c179e\"], [0.4444444444444444, \"#bd3786\"], [0.5555555555555556, \"#d8576b\"], [0.6666666666666666, \"#ed7953\"], [0.7777777777777778, \"#fb9f3a\"], [0.8888888888888888, \"#fdca26\"], [1.0, \"#f0f921\"]]}, \"colorway\": [\"#636efa\", \"#EF553B\", \"#00cc96\", \"#ab63fa\", \"#FFA15A\", \"#19d3f3\", \"#FF6692\", \"#B6E880\", \"#FF97FF\", \"#FECB52\"], \"font\": {\"color\": \"#2a3f5f\"}, \"geo\": {\"bgcolor\": \"white\", \"lakecolor\": \"white\", \"landcolor\": \"#E5ECF6\", \"showlakes\": true, \"showland\": true, \"subunitcolor\": \"white\"}, \"hoverlabel\": {\"align\": \"left\"}, \"hovermode\": \"closest\", \"mapbox\": {\"style\": \"light\"}, \"paper_bgcolor\": \"white\", \"plot_bgcolor\": \"#E5ECF6\", \"polar\": {\"angularaxis\": {\"gridcolor\": \"white\", \"linecolor\": \"white\", \"ticks\": \"\"}, \"bgcolor\": \"#E5ECF6\", \"radialaxis\": {\"gridcolor\": \"white\", \"linecolor\": \"white\", \"ticks\": \"\"}}, \"scene\": {\"xaxis\": {\"backgroundcolor\": \"#E5ECF6\", \"gridcolor\": \"white\", \"gridwidth\": 2, \"linecolor\": \"white\", \"showbackground\": true, \"ticks\": \"\", \"zerolinecolor\": \"white\"}, \"yaxis\": {\"backgroundcolor\": \"#E5ECF6\", \"gridcolor\": \"white\", \"gridwidth\": 2, \"linecolor\": \"white\", \"showbackground\": true, \"ticks\": \"\", \"zerolinecolor\": \"white\"}, \"zaxis\": {\"backgroundcolor\": \"#E5ECF6\", \"gridcolor\": \"white\", \"gridwidth\": 2, \"linecolor\": \"white\", \"showbackground\": true, \"ticks\": \"\", \"zerolinecolor\": \"white\"}}, \"shapedefaults\": {\"line\": {\"color\": \"#2a3f5f\"}}, \"ternary\": {\"aaxis\": {\"gridcolor\": \"white\", \"linecolor\": \"white\", \"ticks\": \"\"}, \"baxis\": {\"gridcolor\": \"white\", \"linecolor\": \"white\", \"ticks\": \"\"}, \"bgcolor\": \"#E5ECF6\", \"caxis\": {\"gridcolor\": \"white\", \"linecolor\": \"white\", \"ticks\": \"\"}}, \"title\": {\"x\": 0.05}, \"xaxis\": {\"automargin\": true, \"gridcolor\": \"white\", \"linecolor\": \"white\", \"ticks\": \"\", \"title\": {\"standoff\": 15}, \"zerolinecolor\": \"white\", \"zerolinewidth\": 2}, \"yaxis\": {\"automargin\": true, \"gridcolor\": \"white\", \"linecolor\": \"white\", \"ticks\": \"\", \"title\": {\"standoff\": 15}, \"zerolinecolor\": \"white\", \"zerolinewidth\": 2}}}, \"width\": 1080, \"xaxis\": {\"anchor\": \"y\", \"domain\": [0.0, 0.45454545454545453], \"mirror\": \"ticks\", \"nticks\": 6, \"range\": [0.0, 92.0], \"showgrid\": false, \"showline\": true, \"side\": \"bottom\", \"tickfont\": {\"size\": 10.0}, \"ticks\": \"inside\", \"type\": \"linear\", \"zeroline\": false}, \"xaxis2\": {\"anchor\": \"y2\", \"domain\": [0.5454545454545454, 1.0], \"mirror\": \"ticks\", \"nticks\": 9, \"range\": [-3.92, 3.92], \"showgrid\": false, \"showline\": true, \"side\": \"bottom\", \"tickfont\": {\"size\": 10.0}, \"ticks\": \"inside\", \"type\": \"linear\", \"zeroline\": false}, \"xaxis3\": {\"anchor\": \"y3\", \"domain\": [0.0, 0.45454545454545453], \"mirror\": \"ticks\", \"nticks\": 7, \"range\": [-2.395161542373372, 2.395161542373373], \"showgrid\": false, \"showline\": true, \"side\": \"bottom\", \"tickfont\": {\"size\": 10.0}, \"ticks\": \"inside\", \"title\": {\"font\": {\"color\": \"#000000\", \"size\": 10.0}, \"text\": \"Theoretical Quantiles\"}, \"type\": \"linear\", \"zeroline\": false}, \"xaxis4\": {\"anchor\": \"y4\", \"domain\": [0.5454545454545454, 1.0], \"mirror\": \"ticks\", \"nticks\": 8, \"range\": [-0.525, 11.025], \"showgrid\": false, \"showline\": true, \"side\": \"bottom\", \"tickfont\": {\"size\": 10.0}, \"ticks\": \"inside\", \"type\": \"linear\", \"zeroline\": false}, \"yaxis\": {\"anchor\": \"x\", \"domain\": [0.5454545454545454, 1.0], \"mirror\": \"ticks\", \"nticks\": 8, \"range\": [-3.1731738150580138, 2.874067580508712], \"showgrid\": false, \"showline\": true, \"side\": \"left\", \"tickfont\": {\"size\": 10.0}, \"ticks\": \"inside\", \"type\": \"linear\", \"zeroline\": false}, \"yaxis2\": {\"anchor\": \"x2\", \"domain\": [0.5454545454545454, 1.0], \"mirror\": \"ticks\", \"nticks\": 8, \"range\": [0.0, 0.6982656006186382], \"showgrid\": false, \"showline\": true, \"side\": \"left\", \"tickfont\": {\"size\": 10.0}, \"ticks\": \"inside\", \"type\": \"linear\", \"zeroline\": false}, \"yaxis3\": {\"anchor\": \"x3\", \"domain\": [0.0, 0.4545454545454546], \"mirror\": \"ticks\", \"nticks\": 8, \"range\": [-3.1731738150580138, 2.874067580508712], \"showgrid\": false, \"showline\": true, \"side\": \"left\", \"tickfont\": {\"size\": 10.0}, \"ticks\": \"inside\", \"title\": {\"font\": {\"color\": \"#000000\", \"size\": 10.0}, \"text\": \"Sample Quantiles\"}, \"type\": \"linear\", \"zeroline\": false}, \"yaxis4\": {\"anchor\": \"x4\", \"domain\": [0.0, 0.4545454545454546], \"mirror\": \"ticks\", \"nticks\": 9, \"range\": [-1.0, 1.0], \"showgrid\": false, \"showline\": true, \"side\": \"left\", \"tickfont\": {\"size\": 10.0}, \"ticks\": \"inside\", \"type\": \"linear\", \"zeroline\": false}},\n",
              "                        {\"responsive\": true}\n",
              "                    ).then(function(){\n",
              "                            \n",
              "var gd = document.getElementById('8986fd0b-267a-409e-8e6b-ba2113f7f4c3');\n",
              "var x = new MutationObserver(function (mutations, observer) {{\n",
              "        var display = window.getComputedStyle(gd).display;\n",
              "        if (!display || display === 'none') {{\n",
              "            console.log([gd, 'removed!']);\n",
              "            Plotly.purge(gd);\n",
              "            observer.disconnect();\n",
              "        }}\n",
              "}});\n",
              "\n",
              "// Listen for the removal of the full notebook cells\n",
              "var notebookContainer = gd.closest('#notebook-container');\n",
              "if (notebookContainer) {{\n",
              "    x.observe(notebookContainer, {childList: true});\n",
              "}}\n",
              "\n",
              "// Listen for the clearing of the current output cell\n",
              "var outputEl = gd.closest('.output');\n",
              "if (outputEl) {{\n",
              "    x.observe(outputEl, {childList: true});\n",
              "}}\n",
              "\n",
              "                        })\n",
              "                };\n",
              "                \n",
              "            </script>\n",
              "        </div>\n",
              "</body>\n",
              "</html>"
            ]
          },
          "metadata": {
            "tags": []
          }
        }
      ]
    },
    {
      "cell_type": "code",
      "metadata": {
        "id": "uDApz5UkLZ23",
        "outputId": "cfad2654-84eb-47ec-d230-bda56cd2df5c",
        "colab": {
          "base_uri": "https://localhost:8080/",
          "height": 1000
        }
      },
      "source": [
        "res"
      ],
      "execution_count": 63,
      "outputs": [
        {
          "output_type": "execute_result",
          "data": {
            "text/plain": [
              "[6999.033134437161,\n",
              " 10759.11743113925,\n",
              " 93.59936024221861,\n",
              " 3555.601574993987,\n",
              " 8676.303262055142,\n",
              " 979.2895483560951,\n",
              " 1519.2984916720443,\n",
              " 5365.140952795194,\n",
              " 6511.944322658441,\n",
              " 7148.698685486474,\n",
              " 4916.128382487596,\n",
              " 4923.71580081229,\n",
              " 2787.273769066402,\n",
              " 2038.8909667953121,\n",
              " 3101.8453978421594,\n",
              " 5166.510260555782,\n",
              " 1236.2224101721586,\n",
              " 4807.663331296663,\n",
              " 2178.189783794028,\n",
              " 6731.619250165473,\n",
              " 5464.171871421065,\n",
              " 9775.41784497316,\n",
              " 4820.955982169347,\n",
              " 3641.4869252217377,\n",
              " 627.0511253300897,\n",
              " 4477.615657303447,\n",
              " 1995.5740431127429,\n",
              " 2612.3340499840515,\n",
              " 4967.280023483081,\n",
              " 7258.729994109863,\n",
              " 2664.190623060521,\n",
              " 29900.490826868565,\n",
              " 6343.293076256126,\n",
              " 15396.589294631316,\n",
              " 15241.094821057459,\n",
              " 41686.660981056,\n",
              " 15384.063974342404,\n",
              " 16401.057593876096,\n",
              " 9615.170372233704,\n",
              " 11876.614235806404,\n",
              " 32613.831561361396,\n",
              " 2431.1250727563856,\n",
              " 7701.0761647771615,\n",
              " 1373.0349158083545,\n",
              " 39283.631394213204,\n",
              " 592.5911231303035,\n",
              " 3902.6361766845257,\n",
              " 45449.288080732236,\n",
              " 12426.233042491578,\n",
              " 12231.885862231897,\n",
              " 13391.824158851454,\n",
              " 4131.291513342717,\n",
              " 4852.52760823818,\n",
              " 43112.44039068132,\n",
              " 24557.394643336735,\n",
              " 2378.1121401908495,\n",
              " 13620.265099774992,\n",
              " 1876.8805063520376,\n",
              " 5509.228558774139,\n",
              " 13994.672460932863,\n",
              " 17669.92662473354,\n",
              " 25148.245046230215,\n",
              " 7864.894105487645,\n",
              " 17857.233898805625,\n",
              " 40465.43886549423,\n",
              " 26329.470993248426,\n",
              " 2098.239933724679,\n",
              " 16601.793373666376,\n",
              " 8705.270959768874,\n",
              " 36503.22373827123]"
            ]
          },
          "metadata": {
            "tags": []
          },
          "execution_count": 63
        }
      ]
    },
    {
      "cell_type": "code",
      "metadata": {
        "id": "GKn9DJf9Mh8r",
        "outputId": "7c60830b-6ddc-4e20-b68a-940bbdeaa221",
        "colab": {
          "base_uri": "https://localhost:8080/",
          "height": 35
        }
      },
      "source": [
        "print(\"Avg rmse is %d\" %np.mean(res))"
      ],
      "execution_count": 64,
      "outputs": [
        {
          "output_type": "stream",
          "text": [
            "Avg rmse is 11204\n"
          ],
          "name": "stdout"
        }
      ]
    },
    {
      "cell_type": "code",
      "metadata": {
        "id": "oLUfGE_ZMh8y",
        "outputId": "28fbc31c-a40b-4548-a313-8154cb07ff7c",
        "colab": {
          "base_uri": "https://localhost:8080/",
          "height": 235
        }
      },
      "source": [
        "mod.get_forecast(6).conf_int()"
      ],
      "execution_count": 65,
      "outputs": [
        {
          "output_type": "execute_result",
          "data": {
            "text/html": [
              "<div>\n",
              "<style scoped>\n",
              "    .dataframe tbody tr th:only-of-type {\n",
              "        vertical-align: middle;\n",
              "    }\n",
              "\n",
              "    .dataframe tbody tr th {\n",
              "        vertical-align: top;\n",
              "    }\n",
              "\n",
              "    .dataframe thead th {\n",
              "        text-align: right;\n",
              "    }\n",
              "</style>\n",
              "<table border=\"1\" class=\"dataframe\">\n",
              "  <thead>\n",
              "    <tr style=\"text-align: right;\">\n",
              "      <th></th>\n",
              "      <th>lower cases</th>\n",
              "      <th>upper cases</th>\n",
              "    </tr>\n",
              "  </thead>\n",
              "  <tbody>\n",
              "    <tr>\n",
              "      <th>93</th>\n",
              "      <td>-15699.988162</td>\n",
              "      <td>41292.435638</td>\n",
              "    </tr>\n",
              "    <tr>\n",
              "      <th>94</th>\n",
              "      <td>-46756.966589</td>\n",
              "      <td>16665.465272</td>\n",
              "    </tr>\n",
              "    <tr>\n",
              "      <th>95</th>\n",
              "      <td>-29071.925267</td>\n",
              "      <td>34350.506594</td>\n",
              "    </tr>\n",
              "    <tr>\n",
              "      <th>96</th>\n",
              "      <td>-33558.716445</td>\n",
              "      <td>32006.382284</td>\n",
              "    </tr>\n",
              "    <tr>\n",
              "      <th>97</th>\n",
              "      <td>-21968.040161</td>\n",
              "      <td>44097.556789</td>\n",
              "    </tr>\n",
              "    <tr>\n",
              "      <th>98</th>\n",
              "      <td>-33953.215027</td>\n",
              "      <td>32112.381924</td>\n",
              "    </tr>\n",
              "  </tbody>\n",
              "</table>\n",
              "</div>"
            ],
            "text/plain": [
              "     lower cases   upper cases\n",
              "93 -15699.988162  41292.435638\n",
              "94 -46756.966589  16665.465272\n",
              "95 -29071.925267  34350.506594\n",
              "96 -33558.716445  32006.382284\n",
              "97 -21968.040161  44097.556789\n",
              "98 -33953.215027  32112.381924"
            ]
          },
          "metadata": {
            "tags": []
          },
          "execution_count": 65
        }
      ]
    },
    {
      "cell_type": "code",
      "metadata": {
        "id": "txr3qwomMh8X",
        "outputId": "ceea6e92-225b-4022-e11e-a22b74ca228d",
        "colab": {
          "base_uri": "https://localhost:8080/",
          "height": 205
        }
      },
      "source": [
        "from scipy.stats import boxcox\n",
        "from scipy.special import inv_boxcox\n",
        "df3,fitted_lambda= boxcox(df1['Qty']+1,lmbda=None)"
      ],
      "execution_count": null,
      "outputs": [
        {
          "output_type": "error",
          "ename": "NameError",
          "evalue": "ignored",
          "traceback": [
            "\u001b[0;31m---------------------------------------------------------------------------\u001b[0m",
            "\u001b[0;31mNameError\u001b[0m                                 Traceback (most recent call last)",
            "\u001b[0;32m<ipython-input-34-fc86d63e5534>\u001b[0m in \u001b[0;36m<module>\u001b[0;34m()\u001b[0m\n\u001b[1;32m      1\u001b[0m \u001b[0;32mfrom\u001b[0m \u001b[0mscipy\u001b[0m\u001b[0;34m.\u001b[0m\u001b[0mstats\u001b[0m \u001b[0;32mimport\u001b[0m \u001b[0mboxcox\u001b[0m\u001b[0;34m\u001b[0m\u001b[0;34m\u001b[0m\u001b[0m\n\u001b[1;32m      2\u001b[0m \u001b[0;32mfrom\u001b[0m \u001b[0mscipy\u001b[0m\u001b[0;34m.\u001b[0m\u001b[0mspecial\u001b[0m \u001b[0;32mimport\u001b[0m \u001b[0minv_boxcox\u001b[0m\u001b[0;34m\u001b[0m\u001b[0;34m\u001b[0m\u001b[0m\n\u001b[0;32m----> 3\u001b[0;31m \u001b[0mdf3\u001b[0m\u001b[0;34m,\u001b[0m\u001b[0mfitted_lambda\u001b[0m\u001b[0;34m=\u001b[0m \u001b[0mboxcox\u001b[0m\u001b[0;34m(\u001b[0m\u001b[0mdf1\u001b[0m\u001b[0;34m[\u001b[0m\u001b[0;34m'Qty'\u001b[0m\u001b[0;34m]\u001b[0m\u001b[0;34m+\u001b[0m\u001b[0;36m1\u001b[0m\u001b[0;34m,\u001b[0m\u001b[0mlmbda\u001b[0m\u001b[0;34m=\u001b[0m\u001b[0;32mNone\u001b[0m\u001b[0;34m)\u001b[0m\u001b[0;34m\u001b[0m\u001b[0;34m\u001b[0m\u001b[0m\n\u001b[0m",
            "\u001b[0;31mNameError\u001b[0m: name 'df1' is not defined"
          ]
        }
      ]
    },
    {
      "cell_type": "code",
      "metadata": {
        "id": "qSa7iF9HMh8H"
      },
      "source": [
        "def evaluate_arima_model(X, arima_order,s_order):\n",
        "    splits = TimeSeriesSplit(n_splits=3)\n",
        "    error=[]\n",
        "    # make predictions\n",
        "    for train_index, test_index in splits.split(X):\n",
        "        train = X.values[train_index]\n",
        "        test = X.values[test_index]\n",
        "        model = SARIMAX(train, order=arima_order,seasonal_order=s_order)\n",
        "        model_fit = model.fit(disp=0)\n",
        "        yhat = model_fit.predict(start=len(train), end=len(train)+len(test)-1, dynamic=False)\n",
        "        error.append(rmse(test.T[0], yhat))\n",
        "    return np.asarray(error).mean()\n",
        " \n",
        "# evaluate combinations of p, d and q values for an ARIMA model\n",
        "def evaluate_models(dataset, p_values, d_values, q_values, m):\n",
        "    dataset = dataset.astype('float32')\n",
        "    best_score, best_cfg = float(\"inf\"), None\n",
        "    for p in p_values:\n",
        "        for d in d_values:\n",
        "            for q in q_values:\n",
        "                for P in p_values:\n",
        "                    for D in d_values:\n",
        "                        for Q in q_values:\n",
        "                            order = (p,d,q)\n",
        "                            s_order = (P,D,Q,m)\n",
        "                            try:\n",
        "                                mse = evaluate_arima_model(dataset, order,s_order)\n",
        "                                if mse < best_score:\n",
        "                                    best_score, best_cfg = mse, (order,s_order)\n",
        "                                print('SARIMA%sx%s RMSE=%.3f' % (order,s_order,mse))\n",
        "                            except:\n",
        "                                continue\n",
        "    print('Best SARIMA %s RMSE=%.3f' % (best_cfg, best_score))"
      ],
      "execution_count": null,
      "outputs": []
    },
    {
      "cell_type": "code",
      "metadata": {
        "collapsed": true,
        "jupyter": {
          "outputs_hidden": true
        },
        "id": "bTPPRkBDMh8P",
        "outputId": "c0b1e770-7a12-423f-f8c1-6996c6943ffb"
      },
      "source": [
        "p_values = [0,1,2,3,4]\n",
        "d_values = range(0, 2)\n",
        "q_values = range(0, 4)\n",
        "evaluate_models(df1, p_values, d_values, q_values,12)"
      ],
      "execution_count": null,
      "outputs": [
        {
          "output_type": "stream",
          "text": [
            "SARIMA(0, 0, 0)x(0, 0, 0, 12) RMSE=1716.003\n",
            "SARIMA(0, 0, 0)x(0, 0, 1, 12) RMSE=1554.912\n",
            "SARIMA(0, 0, 0)x(0, 0, 2, 12) RMSE=1437.645\n",
            "SARIMA(0, 0, 0)x(0, 0, 3, 12) RMSE=1374.687\n",
            "SARIMA(0, 0, 0)x(0, 1, 0, 12) RMSE=1177.831\n",
            "SARIMA(0, 0, 0)x(0, 1, 1, 12) RMSE=1152.103\n",
            "SARIMA(0, 0, 0)x(0, 1, 2, 12) RMSE=1182.464\n",
            "SARIMA(0, 0, 0)x(0, 1, 3, 12) RMSE=1179.829\n",
            "SARIMA(0, 0, 0)x(1, 0, 0, 12) RMSE=1241.914\n",
            "SARIMA(0, 0, 0)x(1, 0, 1, 12) RMSE=1274.391\n",
            "SARIMA(0, 0, 0)x(1, 0, 2, 12) RMSE=1312.642\n",
            "SARIMA(0, 0, 0)x(1, 0, 3, 12) RMSE=1308.297\n",
            "SARIMA(0, 0, 0)x(1, 1, 0, 12) RMSE=1181.554\n",
            "SARIMA(0, 0, 0)x(1, 1, 1, 12) RMSE=1197.323\n",
            "SARIMA(0, 0, 0)x(1, 1, 2, 12) RMSE=1199.893\n",
            "SARIMA(0, 0, 0)x(1, 1, 3, 12) RMSE=1179.862\n",
            "SARIMA(0, 0, 0)x(2, 0, 0, 12) RMSE=1341.675\n",
            "SARIMA(0, 0, 0)x(2, 0, 1, 12) RMSE=1317.626\n",
            "SARIMA(0, 0, 0)x(2, 0, 2, 12) RMSE=1327.595\n",
            "SARIMA(0, 0, 0)x(2, 0, 3, 12) RMSE=1325.177\n",
            "SARIMA(0, 0, 0)x(2, 1, 0, 12) RMSE=1192.402\n",
            "SARIMA(0, 0, 0)x(2, 1, 1, 12) RMSE=1184.396\n",
            "SARIMA(0, 0, 0)x(2, 1, 2, 12) RMSE=1193.890\n",
            "SARIMA(0, 0, 0)x(2, 1, 3, 12) RMSE=1187.288\n",
            "SARIMA(0, 0, 0)x(3, 0, 0, 12) RMSE=1336.441\n",
            "SARIMA(0, 0, 0)x(3, 0, 1, 12) RMSE=1316.053\n",
            "SARIMA(0, 0, 0)x(3, 0, 2, 12) RMSE=1325.511\n",
            "SARIMA(0, 0, 0)x(3, 0, 3, 12) RMSE=1319.261\n",
            "SARIMA(0, 0, 0)x(3, 1, 0, 12) RMSE=1190.112\n",
            "SARIMA(0, 0, 0)x(3, 1, 1, 12) RMSE=1186.491\n",
            "SARIMA(0, 0, 0)x(3, 1, 2, 12) RMSE=1184.977\n",
            "SARIMA(0, 0, 0)x(3, 1, 3, 12) RMSE=1192.787\n",
            "SARIMA(0, 0, 0)x(4, 0, 0, 12) RMSE=1318.575\n",
            "SARIMA(0, 0, 0)x(4, 0, 1, 12) RMSE=1315.740\n",
            "SARIMA(0, 0, 0)x(4, 0, 2, 12) RMSE=1318.919\n",
            "SARIMA(0, 0, 0)x(4, 0, 3, 12) RMSE=1316.773\n",
            "SARIMA(0, 0, 0)x(4, 1, 0, 12) RMSE=1189.137\n",
            "SARIMA(0, 0, 0)x(4, 1, 1, 12) RMSE=1190.255\n",
            "SARIMA(0, 0, 0)x(4, 1, 2, 12) RMSE=1195.563\n",
            "SARIMA(0, 0, 0)x(4, 1, 3, 12) RMSE=1181.864\n",
            "SARIMA(0, 0, 1)x(0, 0, 0, 12) RMSE=1721.961\n",
            "SARIMA(0, 0, 1)x(0, 0, 1, 12) RMSE=1616.947\n",
            "SARIMA(0, 0, 1)x(0, 0, 2, 12) RMSE=1498.164\n",
            "SARIMA(0, 0, 1)x(0, 0, 3, 12) RMSE=1388.356\n",
            "SARIMA(0, 0, 1)x(0, 1, 0, 12) RMSE=1175.561\n",
            "SARIMA(0, 0, 1)x(0, 1, 1, 12) RMSE=1143.423\n",
            "SARIMA(0, 0, 1)x(0, 1, 2, 12) RMSE=1176.175\n",
            "SARIMA(0, 0, 1)x(0, 1, 3, 12) RMSE=1176.209\n",
            "SARIMA(0, 0, 1)x(1, 0, 0, 12) RMSE=1347.772\n",
            "SARIMA(0, 0, 1)x(1, 0, 1, 12) RMSE=1292.469\n",
            "SARIMA(0, 0, 1)x(1, 0, 2, 12) RMSE=1362.124\n",
            "SARIMA(0, 0, 1)x(1, 0, 3, 12) RMSE=1290.434\n",
            "SARIMA(0, 0, 1)x(1, 1, 0, 12) RMSE=1177.716\n",
            "SARIMA(0, 0, 1)x(1, 1, 1, 12) RMSE=1194.619\n",
            "SARIMA(0, 0, 1)x(1, 1, 2, 12) RMSE=1180.339\n",
            "SARIMA(0, 0, 1)x(1, 1, 3, 12) RMSE=1173.629\n",
            "SARIMA(0, 0, 1)x(2, 0, 0, 12) RMSE=1326.310\n",
            "SARIMA(0, 0, 1)x(2, 0, 1, 12) RMSE=1346.621\n",
            "SARIMA(0, 0, 1)x(2, 0, 2, 12) RMSE=1268.590\n",
            "SARIMA(0, 0, 1)x(2, 0, 3, 12) RMSE=1345.659\n",
            "SARIMA(0, 0, 1)x(2, 1, 0, 12) RMSE=1192.478\n",
            "SARIMA(0, 0, 1)x(2, 1, 1, 12) RMSE=1179.206\n",
            "SARIMA(0, 0, 1)x(2, 1, 2, 12) RMSE=1189.157\n",
            "SARIMA(0, 0, 1)x(2, 1, 3, 12) RMSE=1186.909\n",
            "SARIMA(0, 0, 1)x(3, 0, 0, 12) RMSE=1306.239\n",
            "SARIMA(0, 0, 1)x(3, 0, 1, 12) RMSE=1355.810\n",
            "SARIMA(0, 0, 1)x(3, 0, 2, 12) RMSE=1326.335\n",
            "SARIMA(0, 0, 1)x(3, 1, 0, 12) RMSE=1187.780\n",
            "SARIMA(0, 0, 1)x(3, 1, 1, 12) RMSE=1191.983\n",
            "SARIMA(0, 0, 1)x(3, 1, 2, 12) RMSE=1178.432\n",
            "SARIMA(0, 0, 1)x(3, 1, 3, 12) RMSE=1172.770\n",
            "SARIMA(0, 0, 1)x(4, 0, 0, 12) RMSE=1300.243\n",
            "SARIMA(0, 0, 1)x(4, 0, 1, 12) RMSE=1358.638\n",
            "SARIMA(0, 0, 1)x(4, 1, 0, 12) RMSE=1186.535\n",
            "SARIMA(0, 0, 1)x(4, 1, 1, 12) RMSE=1187.241\n",
            "SARIMA(0, 0, 1)x(4, 1, 2, 12) RMSE=1189.351\n",
            "SARIMA(0, 0, 1)x(4, 1, 3, 12) RMSE=1184.087\n",
            "SARIMA(0, 0, 2)x(0, 0, 0, 12) RMSE=1691.363\n",
            "SARIMA(0, 0, 2)x(0, 0, 1, 12) RMSE=1590.711\n",
            "SARIMA(0, 0, 2)x(0, 0, 2, 12) RMSE=1476.357\n",
            "SARIMA(0, 0, 2)x(0, 0, 3, 12) RMSE=1448.355\n",
            "SARIMA(0, 0, 2)x(0, 1, 0, 12) RMSE=1202.166\n",
            "SARIMA(0, 0, 2)x(0, 1, 1, 12) RMSE=1147.118\n",
            "SARIMA(0, 0, 2)x(0, 1, 2, 12) RMSE=1164.594\n",
            "SARIMA(0, 0, 2)x(0, 1, 3, 12) RMSE=1164.088\n",
            "SARIMA(0, 0, 2)x(1, 0, 0, 12) RMSE=1344.898\n",
            "SARIMA(0, 0, 2)x(1, 0, 1, 12) RMSE=1300.047\n",
            "SARIMA(0, 0, 2)x(1, 0, 2, 12) RMSE=1334.629\n",
            "SARIMA(0, 0, 2)x(1, 0, 3, 12) RMSE=1411.713\n",
            "SARIMA(0, 0, 2)x(1, 1, 0, 12) RMSE=1223.034\n",
            "SARIMA(0, 0, 2)x(1, 1, 1, 12) RMSE=1184.374\n",
            "SARIMA(0, 0, 2)x(1, 1, 2, 12) RMSE=1175.028\n",
            "SARIMA(0, 0, 2)x(1, 1, 3, 12) RMSE=1193.163\n",
            "SARIMA(0, 0, 2)x(2, 0, 0, 12) RMSE=1423.720\n",
            "SARIMA(0, 0, 2)x(2, 0, 1, 12) RMSE=1291.729\n",
            "SARIMA(0, 0, 2)x(2, 0, 2, 12) RMSE=1420.923\n",
            "SARIMA(0, 0, 2)x(2, 1, 0, 12) RMSE=1219.170\n",
            "SARIMA(0, 0, 2)x(2, 1, 1, 12) RMSE=1184.622\n",
            "SARIMA(0, 0, 2)x(2, 1, 2, 12) RMSE=1225.659\n",
            "SARIMA(0, 0, 2)x(2, 1, 3, 12) RMSE=1152.443\n",
            "SARIMA(0, 0, 2)x(3, 0, 0, 12) RMSE=1418.224\n",
            "SARIMA(0, 0, 2)x(3, 0, 1, 12) RMSE=1406.500\n",
            "SARIMA(0, 0, 2)x(3, 0, 2, 12) RMSE=1411.541\n",
            "SARIMA(0, 0, 2)x(3, 1, 0, 12) RMSE=1218.036\n",
            "SARIMA(0, 0, 2)x(3, 1, 1, 12) RMSE=1188.516\n",
            "SARIMA(0, 0, 2)x(3, 1, 2, 12) RMSE=1177.195\n",
            "SARIMA(0, 0, 2)x(3, 1, 3, 12) RMSE=1188.794\n",
            "SARIMA(0, 0, 2)x(4, 0, 0, 12) RMSE=1420.445\n",
            "SARIMA(0, 0, 2)x(4, 0, 1, 12) RMSE=1402.759\n",
            "SARIMA(0, 0, 2)x(4, 0, 3, 12) RMSE=1413.681\n",
            "SARIMA(0, 0, 2)x(4, 1, 0, 12) RMSE=1211.117\n",
            "SARIMA(0, 0, 2)x(4, 1, 1, 12) RMSE=1190.607\n",
            "SARIMA(0, 0, 2)x(4, 1, 2, 12) RMSE=1182.423\n",
            "SARIMA(0, 0, 2)x(4, 1, 3, 12) RMSE=1207.066\n",
            "SARIMA(0, 0, 3)x(0, 0, 0, 12) RMSE=1684.129\n",
            "SARIMA(0, 0, 3)x(0, 0, 1, 12) RMSE=1619.301\n",
            "SARIMA(0, 0, 3)x(0, 0, 2, 12) RMSE=1473.473\n",
            "SARIMA(0, 0, 3)x(0, 0, 3, 12) RMSE=1440.313\n",
            "SARIMA(0, 0, 3)x(0, 1, 0, 12) RMSE=nan\n",
            "SARIMA(0, 0, 3)x(0, 1, 1, 12) RMSE=nan\n",
            "SARIMA(0, 0, 3)x(0, 1, 2, 12) RMSE=nan\n",
            "SARIMA(0, 0, 3)x(0, 1, 3, 12) RMSE=nan\n",
            "SARIMA(0, 0, 3)x(1, 0, 0, 12) RMSE=1455.885\n",
            "SARIMA(0, 0, 3)x(1, 0, 1, 12) RMSE=1314.275\n",
            "SARIMA(0, 0, 3)x(1, 0, 2, 12) RMSE=1405.168\n",
            "SARIMA(0, 0, 3)x(1, 0, 3, 12) RMSE=1413.995\n",
            "SARIMA(0, 0, 3)x(2, 0, 0, 12) RMSE=1341.422\n",
            "SARIMA(0, 0, 3)x(2, 0, 1, 12) RMSE=1330.703\n",
            "SARIMA(0, 0, 3)x(2, 0, 3, 12) RMSE=1403.942\n",
            "SARIMA(0, 0, 3)x(3, 0, 0, 12) RMSE=1340.984\n",
            "SARIMA(0, 0, 3)x(3, 0, 1, 12) RMSE=1353.229\n",
            "SARIMA(0, 0, 3)x(3, 0, 3, 12) RMSE=1454.456\n",
            "SARIMA(0, 0, 3)x(4, 0, 0, 12) RMSE=1382.651\n",
            "SARIMA(0, 0, 3)x(4, 0, 1, 12) RMSE=1400.200\n",
            "SARIMA(0, 0, 3)x(4, 0, 2, 12) RMSE=1335.649\n",
            "SARIMA(0, 1, 0)x(0, 0, 0, 12) RMSE=1452.097\n",
            "SARIMA(0, 1, 0)x(0, 0, 1, 12) RMSE=1449.730\n",
            "SARIMA(0, 1, 0)x(0, 0, 2, 12) RMSE=1450.755\n",
            "SARIMA(0, 1, 0)x(0, 0, 3, 12) RMSE=1430.507\n",
            "SARIMA(0, 1, 0)x(0, 1, 0, 12) RMSE=2001.637\n",
            "SARIMA(0, 1, 0)x(0, 1, 1, 12) RMSE=1608.526\n",
            "SARIMA(0, 1, 0)x(0, 1, 2, 12) RMSE=1523.994\n",
            "SARIMA(0, 1, 0)x(0, 1, 3, 12) RMSE=1462.658\n",
            "SARIMA(0, 1, 0)x(1, 0, 0, 12) RMSE=1447.918\n",
            "SARIMA(0, 1, 0)x(1, 0, 1, 12) RMSE=1472.311\n",
            "SARIMA(0, 1, 0)x(1, 0, 2, 12) RMSE=1443.137\n",
            "SARIMA(0, 1, 0)x(1, 0, 3, 12) RMSE=1423.106\n",
            "SARIMA(0, 1, 0)x(1, 1, 0, 12) RMSE=1488.273\n",
            "SARIMA(0, 1, 0)x(1, 1, 1, 12) RMSE=1370.016\n",
            "SARIMA(0, 1, 0)x(1, 1, 2, 12) RMSE=1365.251\n",
            "SARIMA(0, 1, 0)x(1, 1, 3, 12) RMSE=1369.597\n",
            "SARIMA(0, 1, 0)x(2, 0, 0, 12) RMSE=1448.881\n",
            "SARIMA(0, 1, 0)x(2, 0, 1, 12) RMSE=1433.349\n",
            "SARIMA(0, 1, 0)x(2, 0, 2, 12) RMSE=1442.789\n",
            "SARIMA(0, 1, 0)x(2, 0, 3, 12) RMSE=1421.075\n",
            "SARIMA(0, 1, 0)x(2, 1, 0, 12) RMSE=1363.886\n",
            "SARIMA(0, 1, 0)x(2, 1, 1, 12) RMSE=1381.725\n",
            "SARIMA(0, 1, 0)x(2, 1, 2, 12) RMSE=1387.130\n",
            "SARIMA(0, 1, 0)x(2, 1, 3, 12) RMSE=1439.154\n",
            "SARIMA(0, 1, 0)x(3, 0, 0, 12) RMSE=1407.291\n",
            "SARIMA(0, 1, 0)x(3, 0, 1, 12) RMSE=1412.855\n",
            "SARIMA(0, 1, 0)x(3, 0, 2, 12) RMSE=1418.127\n",
            "SARIMA(0, 1, 0)x(3, 0, 3, 12) RMSE=1430.459\n",
            "SARIMA(0, 1, 0)x(3, 1, 0, 12) RMSE=1437.362\n",
            "SARIMA(0, 1, 0)x(3, 1, 1, 12) RMSE=1380.112\n",
            "SARIMA(0, 1, 0)x(3, 1, 2, 12) RMSE=1382.719\n",
            "SARIMA(0, 1, 0)x(3, 1, 3, 12) RMSE=1388.938\n",
            "SARIMA(0, 1, 0)x(4, 0, 0, 12) RMSE=1423.655\n",
            "SARIMA(0, 1, 0)x(4, 0, 1, 12) RMSE=1432.308\n",
            "SARIMA(0, 1, 0)x(4, 0, 2, 12) RMSE=1418.916\n",
            "SARIMA(0, 1, 0)x(4, 0, 3, 12) RMSE=1432.885\n",
            "SARIMA(0, 1, 0)x(4, 1, 0, 12) RMSE=1414.303\n",
            "SARIMA(0, 1, 0)x(4, 1, 1, 12) RMSE=1424.795\n",
            "SARIMA(0, 1, 0)x(4, 1, 2, 12) RMSE=1427.224\n",
            "SARIMA(0, 1, 1)x(0, 0, 0, 12) RMSE=1112.145\n",
            "SARIMA(0, 1, 1)x(0, 0, 1, 12) RMSE=1114.540\n",
            "SARIMA(0, 1, 1)x(0, 0, 2, 12) RMSE=1118.074\n",
            "SARIMA(0, 1, 1)x(0, 0, 3, 12) RMSE=1130.758\n",
            "SARIMA(0, 1, 1)x(0, 1, 0, 12) RMSE=1196.870\n",
            "SARIMA(0, 1, 1)x(0, 1, 1, 12) RMSE=1137.437\n",
            "SARIMA(0, 1, 1)x(0, 1, 2, 12) RMSE=1155.539\n",
            "SARIMA(0, 1, 1)x(0, 1, 3, 12) RMSE=1168.255\n",
            "SARIMA(0, 1, 1)x(1, 0, 0, 12) RMSE=1114.346\n",
            "SARIMA(0, 1, 1)x(1, 0, 1, 12) RMSE=1110.219\n",
            "SARIMA(0, 1, 1)x(1, 0, 2, 12) RMSE=1133.847\n",
            "SARIMA(0, 1, 1)x(1, 0, 3, 12) RMSE=1121.818\n",
            "SARIMA(0, 1, 1)x(1, 1, 0, 12) RMSE=1162.785\n",
            "SARIMA(0, 1, 1)x(1, 1, 1, 12) RMSE=1157.778\n",
            "SARIMA(0, 1, 1)x(1, 1, 2, 12) RMSE=1159.368\n",
            "SARIMA(0, 1, 1)x(1, 1, 3, 12) RMSE=1155.625\n",
            "SARIMA(0, 1, 1)x(2, 0, 0, 12) RMSE=1124.977\n",
            "SARIMA(0, 1, 1)x(2, 0, 1, 12) RMSE=1121.213\n",
            "SARIMA(0, 1, 1)x(2, 0, 2, 12) RMSE=1162.669\n",
            "SARIMA(0, 1, 1)x(2, 0, 3, 12) RMSE=1107.492\n",
            "SARIMA(0, 1, 1)x(2, 1, 0, 12) RMSE=1161.475\n",
            "SARIMA(0, 1, 1)x(2, 1, 1, 12) RMSE=1173.110\n",
            "SARIMA(0, 1, 1)x(2, 1, 2, 12) RMSE=1192.209\n",
            "SARIMA(0, 1, 1)x(2, 1, 3, 12) RMSE=1155.648\n",
            "SARIMA(0, 1, 1)x(3, 0, 0, 12) RMSE=1138.828\n",
            "SARIMA(0, 1, 1)x(3, 0, 1, 12) RMSE=1113.760\n",
            "SARIMA(0, 1, 1)x(3, 0, 2, 12) RMSE=1127.101\n",
            "SARIMA(0, 1, 1)x(3, 0, 3, 12) RMSE=1116.446\n",
            "SARIMA(0, 1, 1)x(3, 1, 0, 12) RMSE=1172.881\n",
            "SARIMA(0, 1, 1)x(3, 1, 1, 12) RMSE=1168.017\n",
            "SARIMA(0, 1, 1)x(3, 1, 2, 12) RMSE=1168.575\n",
            "SARIMA(0, 1, 1)x(3, 1, 3, 12) RMSE=1158.325\n",
            "SARIMA(0, 1, 1)x(4, 0, 0, 12) RMSE=1134.360\n",
            "SARIMA(0, 1, 1)x(4, 0, 1, 12) RMSE=1107.847\n",
            "SARIMA(0, 1, 1)x(4, 0, 2, 12) RMSE=1143.189\n",
            "SARIMA(0, 1, 1)x(4, 0, 3, 12) RMSE=1121.175\n",
            "SARIMA(0, 1, 1)x(4, 1, 0, 12) RMSE=1166.454\n",
            "SARIMA(0, 1, 1)x(4, 1, 1, 12) RMSE=1210.823\n",
            "SARIMA(0, 1, 1)x(4, 1, 3, 12) RMSE=1150.312\n",
            "SARIMA(0, 1, 2)x(0, 0, 0, 12) RMSE=1102.988\n",
            "SARIMA(0, 1, 2)x(0, 0, 1, 12) RMSE=1114.379\n",
            "SARIMA(0, 1, 2)x(0, 0, 2, 12) RMSE=1125.156\n",
            "SARIMA(0, 1, 2)x(0, 0, 3, 12) RMSE=1153.566\n",
            "SARIMA(0, 1, 2)x(0, 1, 0, 12) RMSE=1236.796\n",
            "SARIMA(0, 1, 2)x(0, 1, 1, 12) RMSE=1178.459\n",
            "SARIMA(0, 1, 2)x(0, 1, 2, 12) RMSE=1167.771\n",
            "SARIMA(0, 1, 2)x(0, 1, 3, 12) RMSE=1382.169\n",
            "SARIMA(0, 1, 2)x(1, 0, 0, 12) RMSE=1114.204\n",
            "SARIMA(0, 1, 2)x(1, 0, 1, 12) RMSE=1111.156\n",
            "SARIMA(0, 1, 2)x(1, 0, 2, 12) RMSE=1138.942\n",
            "SARIMA(0, 1, 2)x(1, 0, 3, 12) RMSE=1138.217\n",
            "SARIMA(0, 1, 2)x(1, 1, 0, 12) RMSE=1147.233\n",
            "SARIMA(0, 1, 2)x(1, 1, 1, 12) RMSE=1175.714\n",
            "SARIMA(0, 1, 2)x(1, 1, 2, 12) RMSE=1136.436\n",
            "SARIMA(0, 1, 2)x(1, 1, 3, 12) RMSE=1127.582\n",
            "SARIMA(0, 1, 2)x(2, 0, 0, 12) RMSE=1175.980\n",
            "SARIMA(0, 1, 2)x(2, 0, 1, 12) RMSE=1177.925\n",
            "SARIMA(0, 1, 2)x(2, 0, 2, 12) RMSE=1119.102\n",
            "SARIMA(0, 1, 2)x(2, 0, 3, 12) RMSE=1162.029\n",
            "SARIMA(0, 1, 2)x(2, 1, 0, 12) RMSE=1145.998\n",
            "SARIMA(0, 1, 2)x(2, 1, 1, 12) RMSE=1138.154\n",
            "SARIMA(0, 1, 2)x(2, 1, 2, 12) RMSE=1386.212\n",
            "SARIMA(0, 1, 2)x(2, 1, 3, 12) RMSE=1177.452\n",
            "SARIMA(0, 1, 2)x(3, 0, 0, 12) RMSE=1184.464\n",
            "SARIMA(0, 1, 2)x(3, 0, 1, 12) RMSE=1175.074\n",
            "SARIMA(0, 1, 2)x(3, 0, 2, 12) RMSE=1159.136\n",
            "SARIMA(0, 1, 2)x(3, 0, 3, 12) RMSE=1157.153\n",
            "SARIMA(0, 1, 2)x(3, 1, 0, 12) RMSE=1192.922\n",
            "SARIMA(0, 1, 2)x(3, 1, 1, 12) RMSE=1147.185\n",
            "SARIMA(0, 1, 2)x(3, 1, 2, 12) RMSE=1146.895\n",
            "SARIMA(0, 1, 2)x(3, 1, 3, 12) RMSE=1200.871\n",
            "SARIMA(0, 1, 2)x(4, 0, 0, 12) RMSE=1188.753\n",
            "SARIMA(0, 1, 2)x(4, 0, 1, 12) RMSE=1177.442\n",
            "SARIMA(0, 1, 2)x(4, 0, 2, 12) RMSE=1187.784\n"
          ],
          "name": "stdout"
        }
      ]
    },
    {
      "cell_type": "code",
      "metadata": {
        "id": "H5y9FkeXMh8u"
      },
      "source": [
        "ff = pd.DataFrame.from_dict(data=fore,orient='index',columns=[\"pred\"])\n",
        "pre1 = inv_boxcox(mod.get_forecast(6).predicted_mean,fitted_lambda)-1\n",
        "pre1=pd.DataFrame(pre1)\n",
        "pre1.rename(columns={0:\"pred\"},inplace=True)\n",
        "ff=ff.append(pre1)"
      ],
      "execution_count": null,
      "outputs": []
    },
    {
      "cell_type": "code",
      "metadata": {
        "id": "hx9njPmOMh9H"
      },
      "source": [
        "import plotly.graph_objects as go\n",
        "fig=px.line(data_frame=df2,x=df2.index,y='Qty')\n",
        "fig.add_scatter(x=cint.index,y=cint['lower y'])\n",
        "fig.add_scatter(x=cint.index,y=cint['upper y'],fill='tonexty')\n",
        "fig.add_scatter(x=ff.index,y=ff['pred'])\n",
        "#fig2=px.area(cint)\n",
        "#fig.add_trace()"
      ],
      "execution_count": null,
      "outputs": []
    },
    {
      "cell_type": "code",
      "metadata": {
        "id": "AYU-Wp4bMh9K"
      },
      "source": [
        "fig2=px.area(cint,x=cint.index,y='lower y')\n",
        "fig2.add_scatter(x=cint.index,y=cint['upper y'])"
      ],
      "execution_count": null,
      "outputs": []
    },
    {
      "cell_type": "code",
      "metadata": {
        "id": "BHU6KELnMh9k",
        "outputId": "7ef08154-bc92-4cd2-9d42-a97afc2c9d63"
      },
      "source": [
        "ndiffs(df1, alpha=0.05, test='adf', max_d=6)"
      ],
      "execution_count": null,
      "outputs": [
        {
          "output_type": "execute_result",
          "data": {
            "text/plain": [
              "1"
            ]
          },
          "metadata": {
            "tags": []
          },
          "execution_count": 6
        }
      ]
    },
    {
      "cell_type": "code",
      "metadata": {
        "id": "VlEC4EawMh9u",
        "outputId": "f417d509-caa3-4b75-b2ec-721e944a5cc4"
      },
      "source": [
        "adf_test(df2.dropna())"
      ],
      "execution_count": null,
      "outputs": [
        {
          "output_type": "stream",
          "text": [
            "Results of Dickey-Fuller Test:\n",
            "Test Statistic                -6.621722e+00\n",
            "p-value                        6.013716e-09\n",
            "#Lags Used                     4.000000e+00\n",
            "Number of Observations Used    8.600000e+01\n",
            "Critical Value (1%)           -3.508783e+00\n",
            "Critical Value (5%)           -2.895784e+00\n",
            "Critical Value (10%)          -2.585038e+00\n",
            "dtype: float64\n"
          ],
          "name": "stdout"
        }
      ]
    },
    {
      "cell_type": "code",
      "metadata": {
        "id": "I5By8e1bMh9x",
        "outputId": "11914bc5-16cd-417d-954a-a7f237735eee",
        "colab": {
          "base_uri": "https://localhost:8080/",
          "height": 391
        }
      },
      "source": [
        "#plt.figure(figsize=(15,10))\n",
        "#from plotly.plotly import plot_mpl\n",
        "hh=seasonal_decompose(x=toot,model='additive').plot()\n",
        "hh.set_size_inches(15,13)\n",
        "tls.mpl_to_plotly(hh)"
      ],
      "execution_count": 68,
      "outputs": [
        {
          "output_type": "error",
          "ename": "ValueError",
          "evalue": "ignored",
          "traceback": [
            "\u001b[0;31m---------------------------------------------------------------------------\u001b[0m",
            "\u001b[0;31mValueError\u001b[0m                                Traceback (most recent call last)",
            "\u001b[0;32m<ipython-input-68-b1240c56e0e9>\u001b[0m in \u001b[0;36m<module>\u001b[0;34m()\u001b[0m\n\u001b[1;32m      1\u001b[0m \u001b[0;31m#plt.figure(figsize=(15,10))\u001b[0m\u001b[0;34m\u001b[0m\u001b[0;34m\u001b[0m\u001b[0;34m\u001b[0m\u001b[0m\n\u001b[1;32m      2\u001b[0m \u001b[0;31m#from plotly.plotly import plot_mpl\u001b[0m\u001b[0;34m\u001b[0m\u001b[0;34m\u001b[0m\u001b[0;34m\u001b[0m\u001b[0m\n\u001b[0;32m----> 3\u001b[0;31m \u001b[0mhh\u001b[0m\u001b[0;34m=\u001b[0m\u001b[0mseasonal_decompose\u001b[0m\u001b[0;34m(\u001b[0m\u001b[0mx\u001b[0m\u001b[0;34m=\u001b[0m\u001b[0mtoot\u001b[0m\u001b[0;34m,\u001b[0m\u001b[0mmodel\u001b[0m\u001b[0;34m=\u001b[0m\u001b[0;34m'additive'\u001b[0m\u001b[0;34m)\u001b[0m\u001b[0;34m.\u001b[0m\u001b[0mplot\u001b[0m\u001b[0;34m(\u001b[0m\u001b[0;34m)\u001b[0m\u001b[0;34m\u001b[0m\u001b[0;34m\u001b[0m\u001b[0m\n\u001b[0m\u001b[1;32m      4\u001b[0m \u001b[0mhh\u001b[0m\u001b[0;34m.\u001b[0m\u001b[0mset_size_inches\u001b[0m\u001b[0;34m(\u001b[0m\u001b[0;36m15\u001b[0m\u001b[0;34m,\u001b[0m\u001b[0;36m13\u001b[0m\u001b[0;34m)\u001b[0m\u001b[0;34m\u001b[0m\u001b[0;34m\u001b[0m\u001b[0m\n\u001b[1;32m      5\u001b[0m \u001b[0mtls\u001b[0m\u001b[0;34m.\u001b[0m\u001b[0mmpl_to_plotly\u001b[0m\u001b[0;34m(\u001b[0m\u001b[0mhh\u001b[0m\u001b[0;34m)\u001b[0m\u001b[0;34m\u001b[0m\u001b[0;34m\u001b[0m\u001b[0m\n",
            "\u001b[0;32m/usr/local/lib/python3.6/dist-packages/pandas/util/_decorators.py\u001b[0m in \u001b[0;36mwrapper\u001b[0;34m(*args, **kwargs)\u001b[0m\n\u001b[1;32m    197\u001b[0m                 \u001b[0;32melse\u001b[0m\u001b[0;34m:\u001b[0m\u001b[0;34m\u001b[0m\u001b[0;34m\u001b[0m\u001b[0m\n\u001b[1;32m    198\u001b[0m                     \u001b[0mkwargs\u001b[0m\u001b[0;34m[\u001b[0m\u001b[0mnew_arg_name\u001b[0m\u001b[0;34m]\u001b[0m \u001b[0;34m=\u001b[0m \u001b[0mnew_arg_value\u001b[0m\u001b[0;34m\u001b[0m\u001b[0;34m\u001b[0m\u001b[0m\n\u001b[0;32m--> 199\u001b[0;31m             \u001b[0;32mreturn\u001b[0m \u001b[0mfunc\u001b[0m\u001b[0;34m(\u001b[0m\u001b[0;34m*\u001b[0m\u001b[0margs\u001b[0m\u001b[0;34m,\u001b[0m \u001b[0;34m**\u001b[0m\u001b[0mkwargs\u001b[0m\u001b[0;34m)\u001b[0m\u001b[0;34m\u001b[0m\u001b[0;34m\u001b[0m\u001b[0m\n\u001b[0m\u001b[1;32m    200\u001b[0m \u001b[0;34m\u001b[0m\u001b[0m\n\u001b[1;32m    201\u001b[0m         \u001b[0;32mreturn\u001b[0m \u001b[0mcast\u001b[0m\u001b[0;34m(\u001b[0m\u001b[0mF\u001b[0m\u001b[0;34m,\u001b[0m \u001b[0mwrapper\u001b[0m\u001b[0;34m)\u001b[0m\u001b[0;34m\u001b[0m\u001b[0;34m\u001b[0m\u001b[0m\n",
            "\u001b[0;32m/usr/local/lib/python3.6/dist-packages/statsmodels/tsa/seasonal.py\u001b[0m in \u001b[0;36mseasonal_decompose\u001b[0;34m(x, model, filt, period, two_sided, extrapolate_trend)\u001b[0m\n\u001b[1;32m    140\u001b[0m             \u001b[0mperiod\u001b[0m \u001b[0;34m=\u001b[0m \u001b[0mpfreq\u001b[0m\u001b[0;34m\u001b[0m\u001b[0;34m\u001b[0m\u001b[0m\n\u001b[1;32m    141\u001b[0m         \u001b[0;32melse\u001b[0m\u001b[0;34m:\u001b[0m\u001b[0;34m\u001b[0m\u001b[0;34m\u001b[0m\u001b[0m\n\u001b[0;32m--> 142\u001b[0;31m             raise ValueError(\"You must specify a period or x must be a \"\n\u001b[0m\u001b[1;32m    143\u001b[0m                              \u001b[0;34m\"pandas object with a DatetimeIndex with \"\u001b[0m\u001b[0;34m\u001b[0m\u001b[0;34m\u001b[0m\u001b[0m\n\u001b[1;32m    144\u001b[0m                              \"a freq not set to None\")\n",
            "\u001b[0;31mValueError\u001b[0m: You must specify a period or x must be a pandas object with a DatetimeIndex with a freq not set to None"
          ]
        }
      ]
    },
    {
      "cell_type": "code",
      "metadata": {
        "id": "Z9jmbfcsMh95"
      },
      "source": [
        "cf.set_config_file(offline_show_link=False)"
      ],
      "execution_count": null,
      "outputs": []
    }
  ]
}